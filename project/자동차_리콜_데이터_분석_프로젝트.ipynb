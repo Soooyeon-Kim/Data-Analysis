{
 "cells": [
  {
   "cell_type": "markdown",
   "metadata": {
    "execution": {
     "iopub.execute_input": "2021-07-14T07:39:16.657586Z",
     "iopub.status.busy": "2021-07-14T07:39:16.657090Z",
     "iopub.status.idle": "2021-07-14T07:39:16.848501Z",
     "shell.execute_reply": "2021-07-14T07:39:16.846744Z",
     "shell.execute_reply.started": "2021-07-14T07:39:16.657491Z"
    }
   },
   "source": [
    "# 자동차 리콜 데이터 분석"
   ]
  },
  {
   "cell_type": "markdown",
   "metadata": {
    "execution": {
     "iopub.execute_input": "2021-07-14T07:40:47.362214Z",
     "iopub.status.busy": "2021-07-14T07:40:47.361841Z",
     "iopub.status.idle": "2021-07-14T07:40:47.368894Z",
     "shell.execute_reply": "2021-07-14T07:40:47.367421Z",
     "shell.execute_reply.started": "2021-07-14T07:40:47.362181Z"
    }
   },
   "source": [
    "---"
   ]
  },
  {
   "cell_type": "markdown",
   "metadata": {},
   "source": [
    "## 프로젝트 목표\n",
    "- 한국교통안전공단 자동차 결함 리콜 데이터를 분석하여 유의미한 정보 도출\n",
    "- 탐색적 데이터 분석을 수행하기 위한 데이터 정제, 특성 엔지니어링, 시각화 방법 학습"
   ]
  },
  {
   "cell_type": "markdown",
   "metadata": {},
   "source": [
    "---"
   ]
  },
  {
   "cell_type": "markdown",
   "metadata": {},
   "source": [
    "## 프로젝트 목차\n",
    "1. **데이터 읽기:** 자동차 리콜 데이터를 불러오고 Dataframe 구조를 확인<br>\n",
    "    1.1. 데이터 불러오기<br>\n",
    "<br> \n",
    "2. **데이터 정제:** 결측치 확인 및 기초적인 데이터 변형<br>\n",
    "    2.1. 결측치 확인<br>\n",
    "    2.2. 중복값 확인<br>\n",
    "    2.3. 기초적인 데이터 변형<br>\n",
    "<br>\n",
    "3. **데이터 시각화:** 각 변수 별로 추가적인 정제 또는 feature engineering 과정을 거치고 시각화를 통하여 데이터의 특성 파악<br>\n",
    "    3.1. 제조사별 리콜 현황 출력<br>\n",
    "    3.2. 모델별 리콜 현황 출력<br>\n",
    "    3.3. 월별 리콜 현황 출력<br>\n",
    "    3.4. 생산연도별 리콜 현황 출력<br>\n",
    "    3.5. 4분기 제조사별 리콜 현황 출력<br>\n",
    "    3.6. 하반기 생산연도별 리콜 현황 출력<br>\n",
    "    3.7. 워드 클라우드를 이용한 리콜 사유 시각화<br>"
   ]
  },
  {
   "cell_type": "markdown",
   "metadata": {},
   "source": [
    "---"
   ]
  },
  {
   "cell_type": "markdown",
   "metadata": {},
   "source": [
    "## 데이터 출처\n",
    "-  https://www.data.go.kr/data/3048950/fileData.do"
   ]
  },
  {
   "cell_type": "markdown",
   "metadata": {},
   "source": [
    "---"
   ]
  },
  {
   "cell_type": "markdown",
   "metadata": {},
   "source": [
    "## 1. 데이터 읽기"
   ]
  },
  {
   "cell_type": "markdown",
   "metadata": {},
   "source": [
    "### 1.1. 데이터 불러오기"
   ]
  },
  {
   "cell_type": "code",
   "execution_count": 1,
   "metadata": {
    "execution": {
     "iopub.execute_input": "2021-07-14T07:49:24.304064Z",
     "iopub.status.busy": "2021-07-14T07:49:24.303454Z",
     "iopub.status.idle": "2021-07-14T07:49:25.479762Z",
     "shell.execute_reply": "2021-07-14T07:49:25.478867Z",
     "shell.execute_reply.started": "2021-07-14T07:49:24.304010Z"
    }
   },
   "outputs": [
    {
     "name": "stdout",
     "output_type": "stream",
     "text": [
      "Collecting seaborn==0.9.0\n",
      "  Downloading seaborn-0.9.0-py3-none-any.whl (208 kB)\n",
      "\u001b[K     |████████████████████████████████| 208 kB 1.7 MB/s eta 0:00:01\n",
      "\u001b[?25hRequirement already satisfied: pandas>=0.15.2 in /opt/conda/lib/python3.8/site-packages (from seaborn==0.9.0) (1.2.0)\n",
      "Requirement already satisfied: scipy>=0.14.0 in /opt/conda/lib/python3.8/site-packages (from seaborn==0.9.0) (1.5.3)\n",
      "Requirement already satisfied: matplotlib>=1.4.3 in /opt/conda/lib/python3.8/site-packages (from seaborn==0.9.0) (3.3.3)\n",
      "Requirement already satisfied: numpy>=1.9.3 in /opt/conda/lib/python3.8/site-packages (from seaborn==0.9.0) (1.19.4)\n",
      "Requirement already satisfied: kiwisolver>=1.0.1 in /opt/conda/lib/python3.8/site-packages (from matplotlib>=1.4.3->seaborn==0.9.0) (1.3.1)\n",
      "Requirement already satisfied: cycler>=0.10 in /opt/conda/lib/python3.8/site-packages (from matplotlib>=1.4.3->seaborn==0.9.0) (0.10.0)\n",
      "Requirement already satisfied: pyparsing!=2.0.4,!=2.1.2,!=2.1.6,>=2.0.3 in /opt/conda/lib/python3.8/site-packages (from matplotlib>=1.4.3->seaborn==0.9.0) (2.4.7)\n",
      "Requirement already satisfied: python-dateutil>=2.1 in /opt/conda/lib/python3.8/site-packages (from matplotlib>=1.4.3->seaborn==0.9.0) (2.8.1)\n",
      "Requirement already satisfied: pillow>=6.2.0 in /opt/conda/lib/python3.8/site-packages (from matplotlib>=1.4.3->seaborn==0.9.0) (8.0.1)\n",
      "Requirement already satisfied: six in /opt/conda/lib/python3.8/site-packages (from cycler>=0.10->matplotlib>=1.4.3->seaborn==0.9.0) (1.15.0)\n",
      "Requirement already satisfied: pytz>=2017.3 in /opt/conda/lib/python3.8/site-packages (from pandas>=0.15.2->seaborn==0.9.0) (2020.5)\n",
      "Installing collected packages: seaborn\n",
      "  Attempting uninstall: seaborn\n",
      "    Found existing installation: seaborn 0.11.1\n",
      "    Uninstalling seaborn-0.11.1:\n",
      "      Successfully uninstalled seaborn-0.11.1\n",
      "Successfully installed seaborn-0.9.0\n",
      "0.9.0\n",
      "Collecting missingno\n",
      "  Downloading missingno-0.5.0-py3-none-any.whl (8.8 kB)\n",
      "Requirement already satisfied: numpy in /opt/conda/lib/python3.8/site-packages (from missingno) (1.19.4)\n",
      "Requirement already satisfied: seaborn in /opt/conda/lib/python3.8/site-packages (from missingno) (0.9.0)\n",
      "Requirement already satisfied: scipy in /opt/conda/lib/python3.8/site-packages (from missingno) (1.5.3)\n",
      "Requirement already satisfied: matplotlib in /opt/conda/lib/python3.8/site-packages (from missingno) (3.3.3)\n",
      "Requirement already satisfied: pyparsing!=2.0.4,!=2.1.2,!=2.1.6,>=2.0.3 in /opt/conda/lib/python3.8/site-packages (from matplotlib->missingno) (2.4.7)\n",
      "Requirement already satisfied: kiwisolver>=1.0.1 in /opt/conda/lib/python3.8/site-packages (from matplotlib->missingno) (1.3.1)\n",
      "Requirement already satisfied: cycler>=0.10 in /opt/conda/lib/python3.8/site-packages (from matplotlib->missingno) (0.10.0)\n",
      "Requirement already satisfied: python-dateutil>=2.1 in /opt/conda/lib/python3.8/site-packages (from matplotlib->missingno) (2.8.1)\n",
      "Requirement already satisfied: pillow>=6.2.0 in /opt/conda/lib/python3.8/site-packages (from matplotlib->missingno) (8.0.1)\n",
      "Requirement already satisfied: six in /opt/conda/lib/python3.8/site-packages (from cycler>=0.10->matplotlib->missingno) (1.15.0)\n",
      "Requirement already satisfied: pandas>=0.15.2 in /opt/conda/lib/python3.8/site-packages (from seaborn->missingno) (1.2.0)\n",
      "Requirement already satisfied: pytz>=2017.3 in /opt/conda/lib/python3.8/site-packages (from pandas>=0.15.2->seaborn->missingno) (2020.5)\n",
      "Installing collected packages: missingno\n",
      "Successfully installed missingno-0.5.0\n"
     ]
    }
   ],
   "source": [
    "import numpy as np \n",
    "import pandas as pd \n",
    "import matplotlib.pyplot as plt\n",
    "!pip install seaborn==0.9.0\n",
    "import seaborn as sns\n",
    "print(sns.__version__)\n",
    "# missingno라는 라이브러리가 설치되어 있을 경우 import\n",
    "try: \n",
    "    import missingno as msno\n",
    "# missingno라는 라이브러리가 설치되어 있지 않을 경우 설치 후 import\n",
    "except: \n",
    "    !pip install missingno\n",
    "    import missingno as msno"
   ]
  },
  {
   "cell_type": "code",
   "execution_count": 60,
   "metadata": {
    "execution": {
     "iopub.execute_input": "2021-07-14T07:49:25.481432Z",
     "iopub.status.busy": "2021-07-14T07:49:25.481163Z",
     "iopub.status.idle": "2021-07-14T07:49:25.535734Z",
     "shell.execute_reply": "2021-07-14T07:49:25.534277Z",
     "shell.execute_reply.started": "2021-07-14T07:49:25.481406Z"
    }
   },
   "outputs": [],
   "source": [
    "# pd.read_csv를 통하여 dataframe 형태로 읽어오기\n",
    "df = pd.read_csv(\"./data/한국교통안전공단_자동차결함 리콜현황_20201231.csv\", encoding=\"euc-kr\")"
   ]
  },
  {
   "cell_type": "code",
   "execution_count": 3,
   "metadata": {
    "execution": {
     "iopub.execute_input": "2021-07-14T07:49:25.538436Z",
     "iopub.status.busy": "2021-07-14T07:49:25.538013Z",
     "iopub.status.idle": "2021-07-14T07:49:25.574554Z",
     "shell.execute_reply": "2021-07-14T07:49:25.573616Z",
     "shell.execute_reply.started": "2021-07-14T07:49:25.538401Z"
    }
   },
   "outputs": [
    {
     "data": {
      "text/html": [
       "<div>\n",
       "<style scoped>\n",
       "    .dataframe tbody tr th:only-of-type {\n",
       "        vertical-align: middle;\n",
       "    }\n",
       "\n",
       "    .dataframe tbody tr th {\n",
       "        vertical-align: top;\n",
       "    }\n",
       "\n",
       "    .dataframe thead th {\n",
       "        text-align: right;\n",
       "    }\n",
       "</style>\n",
       "<table border=\"1\" class=\"dataframe\">\n",
       "  <thead>\n",
       "    <tr style=\"text-align: right;\">\n",
       "      <th></th>\n",
       "      <th>제작자</th>\n",
       "      <th>차명</th>\n",
       "      <th>생산기간</th>\n",
       "      <th>생산기간.1</th>\n",
       "      <th>리콜개시일</th>\n",
       "      <th>리콜사유</th>\n",
       "    </tr>\n",
       "  </thead>\n",
       "  <tbody>\n",
       "    <tr>\n",
       "      <th>0</th>\n",
       "      <td>(주)에프엠케이</td>\n",
       "      <td>기블리 디젤</td>\n",
       "      <td>2014-05-28</td>\n",
       "      <td>2016-03-15</td>\n",
       "      <td>2020-03-23</td>\n",
       "      <td>스탑 &amp; 고 기능 작동 직후 재시동 불가 1) 결함 있는 구조 장치 : 원동기(스탑...</td>\n",
       "    </tr>\n",
       "    <tr>\n",
       "      <th>1</th>\n",
       "      <td>(주)에프엠케이</td>\n",
       "      <td>콰트로포르테 디젤</td>\n",
       "      <td>2014-05-08</td>\n",
       "      <td>2016-03-14</td>\n",
       "      <td>2020-03-23</td>\n",
       "      <td>스탑 &amp; 고 기능 작동 직후 재시동 불가 1) 결함 있는 구조 장치 : 원동기(스탑...</td>\n",
       "    </tr>\n",
       "    <tr>\n",
       "      <th>2</th>\n",
       "      <td>한국토요타자동차(주)</td>\n",
       "      <td>토요타 프리우스</td>\n",
       "      <td>2019-07-11</td>\n",
       "      <td>2019-07-31</td>\n",
       "      <td>2020-01-23</td>\n",
       "      <td>콤비네이션 미터(계기판) 내부 기판의 생산 설비 관리가 부적절하여, 기판의 회로부품...</td>\n",
       "    </tr>\n",
       "    <tr>\n",
       "      <th>3</th>\n",
       "      <td>한국토요타자동차(주)</td>\n",
       "      <td>토요타 캠리</td>\n",
       "      <td>2019-08-23</td>\n",
       "      <td>2019-09-06</td>\n",
       "      <td>2020-01-23</td>\n",
       "      <td>뒷좌석 시트벨트의 부품조립설비의 조정이 부적절하여, 시트벨트 리트랙터 잠금장치*내부...</td>\n",
       "    </tr>\n",
       "    <tr>\n",
       "      <th>4</th>\n",
       "      <td>한국토요타자동차(주)</td>\n",
       "      <td>토요타 캠리 하이브리드</td>\n",
       "      <td>2019-08-21</td>\n",
       "      <td>2019-09-04</td>\n",
       "      <td>2020-01-23</td>\n",
       "      <td>뒷좌석 시트벨트의 부품조립설비의 조정이 부적절하여, 시트벨트 리트랙터 잠금장치*내부...</td>\n",
       "    </tr>\n",
       "  </tbody>\n",
       "</table>\n",
       "</div>"
      ],
      "text/plain": [
       "           제작자            차명        생산기간      생산기간.1       리콜개시일  \\\n",
       "0     (주)에프엠케이        기블리 디젤  2014-05-28  2016-03-15  2020-03-23   \n",
       "1     (주)에프엠케이     콰트로포르테 디젤  2014-05-08  2016-03-14  2020-03-23   \n",
       "2  한국토요타자동차(주)      토요타 프리우스  2019-07-11  2019-07-31  2020-01-23   \n",
       "3  한국토요타자동차(주)        토요타 캠리  2019-08-23  2019-09-06  2020-01-23   \n",
       "4  한국토요타자동차(주)  토요타 캠리 하이브리드  2019-08-21  2019-09-04  2020-01-23   \n",
       "\n",
       "                                                리콜사유  \n",
       "0  스탑 & 고 기능 작동 직후 재시동 불가 1) 결함 있는 구조 장치 : 원동기(스탑...  \n",
       "1  스탑 & 고 기능 작동 직후 재시동 불가 1) 결함 있는 구조 장치 : 원동기(스탑...  \n",
       "2  콤비네이션 미터(계기판) 내부 기판의 생산 설비 관리가 부적절하여, 기판의 회로부품...  \n",
       "3  뒷좌석 시트벨트의 부품조립설비의 조정이 부적절하여, 시트벨트 리트랙터 잠금장치*내부...  \n",
       "4  뒷좌석 시트벨트의 부품조립설비의 조정이 부적절하여, 시트벨트 리트랙터 잠금장치*내부...  "
      ]
     },
     "execution_count": 3,
     "metadata": {},
     "output_type": "execute_result"
    }
   ],
   "source": [
    "# 상위 5개 데이터를 출력\n",
    "df.head()"
   ]
  },
  {
   "cell_type": "code",
   "execution_count": 4,
   "metadata": {
    "execution": {
     "iopub.execute_input": "2021-07-14T07:49:25.576437Z",
     "iopub.status.busy": "2021-07-14T07:49:25.576110Z",
     "iopub.status.idle": "2021-07-14T07:49:25.593406Z",
     "shell.execute_reply": "2021-07-14T07:49:25.592375Z",
     "shell.execute_reply.started": "2021-07-14T07:49:25.576409Z"
    }
   },
   "outputs": [
    {
     "data": {
      "text/html": [
       "<div>\n",
       "<style scoped>\n",
       "    .dataframe tbody tr th:only-of-type {\n",
       "        vertical-align: middle;\n",
       "    }\n",
       "\n",
       "    .dataframe tbody tr th {\n",
       "        vertical-align: top;\n",
       "    }\n",
       "\n",
       "    .dataframe thead th {\n",
       "        text-align: right;\n",
       "    }\n",
       "</style>\n",
       "<table border=\"1\" class=\"dataframe\">\n",
       "  <thead>\n",
       "    <tr style=\"text-align: right;\">\n",
       "      <th></th>\n",
       "      <th>제작자</th>\n",
       "      <th>차명</th>\n",
       "      <th>생산기간</th>\n",
       "      <th>생산기간.1</th>\n",
       "      <th>리콜개시일</th>\n",
       "      <th>리콜사유</th>\n",
       "    </tr>\n",
       "  </thead>\n",
       "  <tbody>\n",
       "    <tr>\n",
       "      <th>0</th>\n",
       "      <td>(주)에프엠케이</td>\n",
       "      <td>기블리 디젤</td>\n",
       "      <td>2014-05-28</td>\n",
       "      <td>2016-03-15</td>\n",
       "      <td>2020-03-23</td>\n",
       "      <td>스탑 &amp; 고 기능 작동 직후 재시동 불가 1) 결함 있는 구조 장치 : 원동기(스탑...</td>\n",
       "    </tr>\n",
       "    <tr>\n",
       "      <th>1</th>\n",
       "      <td>(주)에프엠케이</td>\n",
       "      <td>콰트로포르테 디젤</td>\n",
       "      <td>2014-05-08</td>\n",
       "      <td>2016-03-14</td>\n",
       "      <td>2020-03-23</td>\n",
       "      <td>스탑 &amp; 고 기능 작동 직후 재시동 불가 1) 결함 있는 구조 장치 : 원동기(스탑...</td>\n",
       "    </tr>\n",
       "    <tr>\n",
       "      <th>2</th>\n",
       "      <td>한국토요타자동차(주)</td>\n",
       "      <td>토요타 프리우스</td>\n",
       "      <td>2019-07-11</td>\n",
       "      <td>2019-07-31</td>\n",
       "      <td>2020-01-23</td>\n",
       "      <td>콤비네이션 미터(계기판) 내부 기판의 생산 설비 관리가 부적절하여, 기판의 회로부품...</td>\n",
       "    </tr>\n",
       "    <tr>\n",
       "      <th>3</th>\n",
       "      <td>한국토요타자동차(주)</td>\n",
       "      <td>토요타 캠리</td>\n",
       "      <td>2019-08-23</td>\n",
       "      <td>2019-09-06</td>\n",
       "      <td>2020-01-23</td>\n",
       "      <td>뒷좌석 시트벨트의 부품조립설비의 조정이 부적절하여, 시트벨트 리트랙터 잠금장치*내부...</td>\n",
       "    </tr>\n",
       "    <tr>\n",
       "      <th>4</th>\n",
       "      <td>한국토요타자동차(주)</td>\n",
       "      <td>토요타 캠리 하이브리드</td>\n",
       "      <td>2019-08-21</td>\n",
       "      <td>2019-09-04</td>\n",
       "      <td>2020-01-23</td>\n",
       "      <td>뒷좌석 시트벨트의 부품조립설비의 조정이 부적절하여, 시트벨트 리트랙터 잠금장치*내부...</td>\n",
       "    </tr>\n",
       "    <tr>\n",
       "      <th>5</th>\n",
       "      <td>만트럭버스코리아(주)</td>\n",
       "      <td>TGS 카고</td>\n",
       "      <td>2016-04-11</td>\n",
       "      <td>2016-07-21</td>\n",
       "      <td>2020-01-31</td>\n",
       "      <td>비금속 재료(황화망간 또는 기타 산화물)가 특정부분에 비정상적으로 집중되어 일정한 ...</td>\n",
       "    </tr>\n",
       "    <tr>\n",
       "      <th>6</th>\n",
       "      <td>만트럭버스코리아(주)</td>\n",
       "      <td>TGS 카고</td>\n",
       "      <td>2016-04-29</td>\n",
       "      <td>2016-04-29</td>\n",
       "      <td>2020-01-31</td>\n",
       "      <td>비금속 재료(황화망간 또는 기타 산화물)가 특정부분에 비정상적으로 집중되어 일정한 ...</td>\n",
       "    </tr>\n",
       "    <tr>\n",
       "      <th>7</th>\n",
       "      <td>만트럭버스코리아(주)</td>\n",
       "      <td>TGS 카고</td>\n",
       "      <td>2015-03-25</td>\n",
       "      <td>2016-04-01</td>\n",
       "      <td>2020-01-31</td>\n",
       "      <td>비금속 재료(황화망간 또는 기타 산화물)가 특정부분에 비정상적으로 집중되어 일정한 ...</td>\n",
       "    </tr>\n",
       "    <tr>\n",
       "      <th>8</th>\n",
       "      <td>만트럭버스코리아(주)</td>\n",
       "      <td>TGX 트랙터</td>\n",
       "      <td>2015-03-25</td>\n",
       "      <td>2016-07-04</td>\n",
       "      <td>2020-01-31</td>\n",
       "      <td>비금속 재료(황화망간 또는 기타 산화물)가 특정부분에 비정상적으로 집중되어 일정한 ...</td>\n",
       "    </tr>\n",
       "    <tr>\n",
       "      <th>9</th>\n",
       "      <td>만트럭버스코리아(주)</td>\n",
       "      <td>TGX 트랙터</td>\n",
       "      <td>2015-05-05</td>\n",
       "      <td>2016-09-15</td>\n",
       "      <td>2020-01-31</td>\n",
       "      <td>비금속 재료(황화망간 또는 기타 산화물)가 특정부분에 비정상적으로 집중되어 일정한 ...</td>\n",
       "    </tr>\n",
       "  </tbody>\n",
       "</table>\n",
       "</div>"
      ],
      "text/plain": [
       "           제작자            차명        생산기간      생산기간.1       리콜개시일  \\\n",
       "0     (주)에프엠케이        기블리 디젤  2014-05-28  2016-03-15  2020-03-23   \n",
       "1     (주)에프엠케이     콰트로포르테 디젤  2014-05-08  2016-03-14  2020-03-23   \n",
       "2  한국토요타자동차(주)      토요타 프리우스  2019-07-11  2019-07-31  2020-01-23   \n",
       "3  한국토요타자동차(주)        토요타 캠리  2019-08-23  2019-09-06  2020-01-23   \n",
       "4  한국토요타자동차(주)  토요타 캠리 하이브리드  2019-08-21  2019-09-04  2020-01-23   \n",
       "5  만트럭버스코리아(주)        TGS 카고  2016-04-11  2016-07-21  2020-01-31   \n",
       "6  만트럭버스코리아(주)        TGS 카고  2016-04-29  2016-04-29  2020-01-31   \n",
       "7  만트럭버스코리아(주)        TGS 카고  2015-03-25  2016-04-01  2020-01-31   \n",
       "8  만트럭버스코리아(주)       TGX 트랙터  2015-03-25  2016-07-04  2020-01-31   \n",
       "9  만트럭버스코리아(주)       TGX 트랙터  2015-05-05  2016-09-15  2020-01-31   \n",
       "\n",
       "                                                리콜사유  \n",
       "0  스탑 & 고 기능 작동 직후 재시동 불가 1) 결함 있는 구조 장치 : 원동기(스탑...  \n",
       "1  스탑 & 고 기능 작동 직후 재시동 불가 1) 결함 있는 구조 장치 : 원동기(스탑...  \n",
       "2  콤비네이션 미터(계기판) 내부 기판의 생산 설비 관리가 부적절하여, 기판의 회로부품...  \n",
       "3  뒷좌석 시트벨트의 부품조립설비의 조정이 부적절하여, 시트벨트 리트랙터 잠금장치*내부...  \n",
       "4  뒷좌석 시트벨트의 부품조립설비의 조정이 부적절하여, 시트벨트 리트랙터 잠금장치*내부...  \n",
       "5  비금속 재료(황화망간 또는 기타 산화물)가 특정부분에 비정상적으로 집중되어 일정한 ...  \n",
       "6  비금속 재료(황화망간 또는 기타 산화물)가 특정부분에 비정상적으로 집중되어 일정한 ...  \n",
       "7  비금속 재료(황화망간 또는 기타 산화물)가 특정부분에 비정상적으로 집중되어 일정한 ...  \n",
       "8  비금속 재료(황화망간 또는 기타 산화물)가 특정부분에 비정상적으로 집중되어 일정한 ...  \n",
       "9  비금속 재료(황화망간 또는 기타 산화물)가 특정부분에 비정상적으로 집중되어 일정한 ...  "
      ]
     },
     "execution_count": 4,
     "metadata": {},
     "output_type": "execute_result"
    }
   ],
   "source": [
    "# 상위 10개 데이터를 출력\n",
    "df.head(10)"
   ]
  },
  {
   "cell_type": "code",
   "execution_count": 5,
   "metadata": {
    "execution": {
     "iopub.execute_input": "2021-07-14T07:49:25.595269Z",
     "iopub.status.busy": "2021-07-14T07:49:25.594828Z",
     "iopub.status.idle": "2021-07-14T07:49:25.616366Z",
     "shell.execute_reply": "2021-07-14T07:49:25.615093Z",
     "shell.execute_reply.started": "2021-07-14T07:49:25.595233Z"
    }
   },
   "outputs": [
    {
     "data": {
      "text/html": [
       "<div>\n",
       "<style scoped>\n",
       "    .dataframe tbody tr th:only-of-type {\n",
       "        vertical-align: middle;\n",
       "    }\n",
       "\n",
       "    .dataframe tbody tr th {\n",
       "        vertical-align: top;\n",
       "    }\n",
       "\n",
       "    .dataframe thead th {\n",
       "        text-align: right;\n",
       "    }\n",
       "</style>\n",
       "<table border=\"1\" class=\"dataframe\">\n",
       "  <thead>\n",
       "    <tr style=\"text-align: right;\">\n",
       "      <th></th>\n",
       "      <th>제작자</th>\n",
       "      <th>차명</th>\n",
       "      <th>생산기간</th>\n",
       "      <th>생산기간.1</th>\n",
       "      <th>리콜개시일</th>\n",
       "      <th>리콜사유</th>\n",
       "    </tr>\n",
       "  </thead>\n",
       "  <tbody>\n",
       "    <tr>\n",
       "      <th>1270</th>\n",
       "      <td>한국닛산(주)</td>\n",
       "      <td>INFINITI M30</td>\n",
       "      <td>2012-02-06</td>\n",
       "      <td>2012-02-06</td>\n",
       "      <td>2020-12-28</td>\n",
       "      <td>프로펠러 샤프트의 내구성이 저하될 수 있습니다.</td>\n",
       "    </tr>\n",
       "    <tr>\n",
       "      <th>1271</th>\n",
       "      <td>한국닛산(주)</td>\n",
       "      <td>INFINITI M30d</td>\n",
       "      <td>2012-07-18</td>\n",
       "      <td>2013-06-28</td>\n",
       "      <td>2020-12-28</td>\n",
       "      <td>프로펠러 샤프트의 내구성이 저하될 수 있습니다.</td>\n",
       "    </tr>\n",
       "    <tr>\n",
       "      <th>1272</th>\n",
       "      <td>한국닛산(주)</td>\n",
       "      <td>INFINITI Q70 3.0d</td>\n",
       "      <td>2013-09-18</td>\n",
       "      <td>2015-06-23</td>\n",
       "      <td>2020-12-28</td>\n",
       "      <td>프로펠러 샤프트의 내구성이 저하될 수 있습니다.</td>\n",
       "    </tr>\n",
       "    <tr>\n",
       "      <th>1273</th>\n",
       "      <td>한국닛산(주)</td>\n",
       "      <td>INFINITI M56</td>\n",
       "      <td>2010-05-25</td>\n",
       "      <td>2011-11-23</td>\n",
       "      <td>2020-12-28</td>\n",
       "      <td>프로펠러 샤프트의 내구성이 저하될 수 있습니다.</td>\n",
       "    </tr>\n",
       "    <tr>\n",
       "      <th>1274</th>\n",
       "      <td>한국닛산(주)</td>\n",
       "      <td>INFINITI Q70 5.6</td>\n",
       "      <td>2014-04-08</td>\n",
       "      <td>2014-04-08</td>\n",
       "      <td>2020-12-28</td>\n",
       "      <td>프로펠러 샤프트의 내구성이 저하될 수 있습니다.</td>\n",
       "    </tr>\n",
       "  </tbody>\n",
       "</table>\n",
       "</div>"
      ],
      "text/plain": [
       "          제작자                 차명        생산기간      생산기간.1       리콜개시일  \\\n",
       "1270  한국닛산(주)       INFINITI M30  2012-02-06  2012-02-06  2020-12-28   \n",
       "1271  한국닛산(주)      INFINITI M30d  2012-07-18  2013-06-28  2020-12-28   \n",
       "1272  한국닛산(주)  INFINITI Q70 3.0d  2013-09-18  2015-06-23  2020-12-28   \n",
       "1273  한국닛산(주)       INFINITI M56  2010-05-25  2011-11-23  2020-12-28   \n",
       "1274  한국닛산(주)   INFINITI Q70 5.6  2014-04-08  2014-04-08  2020-12-28   \n",
       "\n",
       "                            리콜사유  \n",
       "1270  프로펠러 샤프트의 내구성이 저하될 수 있습니다.  \n",
       "1271  프로펠러 샤프트의 내구성이 저하될 수 있습니다.  \n",
       "1272  프로펠러 샤프트의 내구성이 저하될 수 있습니다.  \n",
       "1273  프로펠러 샤프트의 내구성이 저하될 수 있습니다.  \n",
       "1274  프로펠러 샤프트의 내구성이 저하될 수 있습니다.  "
      ]
     },
     "execution_count": 5,
     "metadata": {},
     "output_type": "execute_result"
    }
   ],
   "source": [
    "# 하위 5개 데이터를 출력\n",
    "df.tail()"
   ]
  },
  {
   "cell_type": "code",
   "execution_count": 6,
   "metadata": {
    "execution": {
     "iopub.execute_input": "2021-07-14T07:49:25.618499Z",
     "iopub.status.busy": "2021-07-14T07:49:25.618208Z",
     "iopub.status.idle": "2021-07-14T07:49:25.641552Z",
     "shell.execute_reply": "2021-07-14T07:49:25.640613Z",
     "shell.execute_reply.started": "2021-07-14T07:49:25.618472Z"
    }
   },
   "outputs": [
    {
     "name": "stdout",
     "output_type": "stream",
     "text": [
      "<class 'pandas.core.frame.DataFrame'>\n",
      "RangeIndex: 1275 entries, 0 to 1274\n",
      "Data columns (total 6 columns):\n",
      " #   Column  Non-Null Count  Dtype \n",
      "---  ------  --------------  ----- \n",
      " 0   제작자     1275 non-null   object\n",
      " 1   차명      1275 non-null   object\n",
      " 2   생산기간    1275 non-null   object\n",
      " 3   생산기간.1  1275 non-null   object\n",
      " 4   리콜개시일   1275 non-null   object\n",
      " 5   리콜사유    1275 non-null   object\n",
      "dtypes: object(6)\n",
      "memory usage: 59.9+ KB\n"
     ]
    }
   ],
   "source": [
    "# dataframe 정보를 요약\n",
    "df.info()"
   ]
  },
  {
   "cell_type": "markdown",
   "metadata": {},
   "source": [
    "---"
   ]
  },
  {
   "cell_type": "markdown",
   "metadata": {},
   "source": [
    "## 2. 데이터 정제"
   ]
  },
  {
   "cell_type": "markdown",
   "metadata": {},
   "source": [
    "* 결측값(missing data), 중복값(duplicates) 처리\n",
    "* 열 이름 변경"
   ]
  },
  {
   "cell_type": "markdown",
   "metadata": {},
   "source": [
    "### 2.1. 결측치 확인"
   ]
  },
  {
   "cell_type": "markdown",
   "metadata": {},
   "source": [
    "`missingno.matrix()` : 결측치 시각화"
   ]
  },
  {
   "cell_type": "code",
   "execution_count": 7,
   "metadata": {},
   "outputs": [],
   "source": [
    "import matplotlib.font_manager as fm\n",
    "\n",
    "font_dirs = ['/usr/share/fonts/truetype/nanum', ]\n",
    "font_files = fm.findSystemFonts(fontpaths=font_dirs)\n",
    "\n",
    "for font_file in font_files:\n",
    "    fm.fontManager.addfont(font_file)"
   ]
  },
  {
   "cell_type": "code",
   "execution_count": 8,
   "metadata": {
    "execution": {
     "iopub.execute_input": "2021-07-14T07:49:25.643943Z",
     "iopub.status.busy": "2021-07-14T07:49:25.643214Z",
     "iopub.status.idle": "2021-07-14T07:49:26.188584Z",
     "shell.execute_reply": "2021-07-14T07:49:26.187704Z",
     "shell.execute_reply.started": "2021-07-14T07:49:25.643900Z"
    }
   },
   "outputs": [
    {
     "data": {
      "image/png": "[encoded data removed]",
      "text/plain": [
       "<Figure size 1800x720 with 2 Axes>"
      ]
     },
     "metadata": {},
     "output_type": "display_data"
    }
   ],
   "source": [
    "sns.set(font=\"NanumBarunGothic\", \n",
    "        rc={\"axes.unicode_minus\":False})\n",
    "msno.matrix(df)\n",
    "plt.show()"
   ]
  },
  {
   "cell_type": "markdown",
   "metadata": {},
   "source": [
    "`isna()` : 결측치 확인"
   ]
  },
  {
   "cell_type": "code",
   "execution_count": 14,
   "metadata": {
    "execution": {
     "iopub.execute_input": "2021-07-14T07:49:26.191402Z",
     "iopub.status.busy": "2021-07-14T07:49:26.191014Z",
     "iopub.status.idle": "2021-07-14T07:49:26.201774Z",
     "shell.execute_reply": "2021-07-14T07:49:26.200566Z",
     "shell.execute_reply.started": "2021-07-14T07:49:26.191370Z"
    }
   },
   "outputs": [
    {
     "data": {
      "text/plain": [
       "제작자       0\n",
       "차명        0\n",
       "생산기간      0\n",
       "생산기간.1    0\n",
       "리콜개시일     0\n",
       "리콜사유      0\n",
       "dtype: int64"
      ]
     },
     "execution_count": 14,
     "metadata": {},
     "output_type": "execute_result"
    }
   ],
   "source": [
    "# 각 열 별로 결측치의 갯수를 반환 (True:1, False:0)\n",
    "df.isna().sum() "
   ]
  },
  {
   "cell_type": "markdown",
   "metadata": {},
   "source": [
    "### 2.2. 중복값 확인"
   ]
  },
  {
   "cell_type": "markdown",
   "metadata": {},
   "source": [
    "`duplicated()` : 중복값 확인"
   ]
  },
  {
   "cell_type": "code",
   "execution_count": 10,
   "metadata": {
    "execution": {
     "iopub.execute_input": "2021-07-14T07:49:26.204454Z",
     "iopub.status.busy": "2021-07-14T07:49:26.204028Z",
     "iopub.status.idle": "2021-07-14T07:49:26.228760Z",
     "shell.execute_reply": "2021-07-14T07:49:26.227322Z",
     "shell.execute_reply.started": "2021-07-14T07:49:26.204412Z"
    }
   },
   "outputs": [
    {
     "data": {
      "text/html": [
       "<div>\n",
       "<style scoped>\n",
       "    .dataframe tbody tr th:only-of-type {\n",
       "        vertical-align: middle;\n",
       "    }\n",
       "\n",
       "    .dataframe tbody tr th {\n",
       "        vertical-align: top;\n",
       "    }\n",
       "\n",
       "    .dataframe thead th {\n",
       "        text-align: right;\n",
       "    }\n",
       "</style>\n",
       "<table border=\"1\" class=\"dataframe\">\n",
       "  <thead>\n",
       "    <tr style=\"text-align: right;\">\n",
       "      <th></th>\n",
       "      <th>제작자</th>\n",
       "      <th>차명</th>\n",
       "      <th>생산기간</th>\n",
       "      <th>생산기간.1</th>\n",
       "      <th>리콜개시일</th>\n",
       "      <th>리콜사유</th>\n",
       "    </tr>\n",
       "  </thead>\n",
       "  <tbody>\n",
       "    <tr>\n",
       "      <th>34</th>\n",
       "      <td>비엠더블유코리아(주)</td>\n",
       "      <td>BMW 316i</td>\n",
       "      <td>2001-01-09</td>\n",
       "      <td>2001-01-09</td>\n",
       "      <td>2020-02-07</td>\n",
       "      <td>차량이 고온 다습한 지역에 장기간 노출 되었을 때 에어백 인플레이터 내부 압축가스 ...</td>\n",
       "    </tr>\n",
       "    <tr>\n",
       "      <th>82</th>\n",
       "      <td>비엠더블유코리아(주)</td>\n",
       "      <td>BMW 316i</td>\n",
       "      <td>2001-01-09</td>\n",
       "      <td>2001-01-09</td>\n",
       "      <td>2020-02-07</td>\n",
       "      <td>차량이 고온 다습한 지역에 장기간 노출 되었을 때 에어백 인플레이터 내부 압축가스 ...</td>\n",
       "    </tr>\n",
       "  </tbody>\n",
       "</table>\n",
       "</div>"
      ],
      "text/plain": [
       "            제작자        차명        생산기간      생산기간.1       리콜개시일  \\\n",
       "34  비엠더블유코리아(주)  BMW 316i  2001-01-09  2001-01-09  2020-02-07   \n",
       "82  비엠더블유코리아(주)  BMW 316i  2001-01-09  2001-01-09  2020-02-07   \n",
       "\n",
       "                                                 리콜사유  \n",
       "34  차량이 고온 다습한 지역에 장기간 노출 되었을 때 에어백 인플레이터 내부 압축가스 ...  \n",
       "82  차량이 고온 다습한 지역에 장기간 노출 되었을 때 에어백 인플레이터 내부 압축가스 ...  "
      ]
     },
     "execution_count": 10,
     "metadata": {},
     "output_type": "execute_result"
    }
   ],
   "source": [
    "df[df.duplicated(keep=False)]"
   ]
  },
  {
   "cell_type": "code",
   "execution_count": 11,
   "metadata": {},
   "outputs": [
    {
     "data": {
      "text/plain": [
       "0    False\n",
       "1    False\n",
       "2    False\n",
       "3    False\n",
       "4    False\n",
       "dtype: bool"
      ]
     },
     "execution_count": 11,
     "metadata": {},
     "output_type": "execute_result"
    }
   ],
   "source": [
    "df.duplicated().head()"
   ]
  },
  {
   "cell_type": "markdown",
   "metadata": {},
   "source": [
    "`drop_duplicates()` : 중복값 제거"
   ]
  },
  {
   "cell_type": "code",
   "execution_count": 61,
   "metadata": {},
   "outputs": [
    {
     "data": {
      "text/html": [
       "<div>\n",
       "<style scoped>\n",
       "    .dataframe tbody tr th:only-of-type {\n",
       "        vertical-align: middle;\n",
       "    }\n",
       "\n",
       "    .dataframe tbody tr th {\n",
       "        vertical-align: top;\n",
       "    }\n",
       "\n",
       "    .dataframe thead th {\n",
       "        text-align: right;\n",
       "    }\n",
       "</style>\n",
       "<table border=\"1\" class=\"dataframe\">\n",
       "  <thead>\n",
       "    <tr style=\"text-align: right;\">\n",
       "      <th></th>\n",
       "      <th>제작자</th>\n",
       "      <th>차명</th>\n",
       "      <th>생산기간</th>\n",
       "      <th>생산기간.1</th>\n",
       "      <th>리콜개시일</th>\n",
       "      <th>리콜사유</th>\n",
       "    </tr>\n",
       "  </thead>\n",
       "  <tbody>\n",
       "    <tr>\n",
       "      <th>0</th>\n",
       "      <td>(주)에프엠케이</td>\n",
       "      <td>기블리 디젤</td>\n",
       "      <td>2014-05-28</td>\n",
       "      <td>2016-03-15</td>\n",
       "      <td>2020-03-23</td>\n",
       "      <td>스탑 &amp; 고 기능 작동 직후 재시동 불가 1) 결함 있는 구조 장치 : 원동기(스탑...</td>\n",
       "    </tr>\n",
       "    <tr>\n",
       "      <th>1</th>\n",
       "      <td>(주)에프엠케이</td>\n",
       "      <td>콰트로포르테 디젤</td>\n",
       "      <td>2014-05-08</td>\n",
       "      <td>2016-03-14</td>\n",
       "      <td>2020-03-23</td>\n",
       "      <td>스탑 &amp; 고 기능 작동 직후 재시동 불가 1) 결함 있는 구조 장치 : 원동기(스탑...</td>\n",
       "    </tr>\n",
       "    <tr>\n",
       "      <th>2</th>\n",
       "      <td>한국토요타자동차(주)</td>\n",
       "      <td>토요타 프리우스</td>\n",
       "      <td>2019-07-11</td>\n",
       "      <td>2019-07-31</td>\n",
       "      <td>2020-01-23</td>\n",
       "      <td>콤비네이션 미터(계기판) 내부 기판의 생산 설비 관리가 부적절하여, 기판의 회로부품...</td>\n",
       "    </tr>\n",
       "    <tr>\n",
       "      <th>3</th>\n",
       "      <td>한국토요타자동차(주)</td>\n",
       "      <td>토요타 캠리</td>\n",
       "      <td>2019-08-23</td>\n",
       "      <td>2019-09-06</td>\n",
       "      <td>2020-01-23</td>\n",
       "      <td>뒷좌석 시트벨트의 부품조립설비의 조정이 부적절하여, 시트벨트 리트랙터 잠금장치*내부...</td>\n",
       "    </tr>\n",
       "    <tr>\n",
       "      <th>4</th>\n",
       "      <td>한국토요타자동차(주)</td>\n",
       "      <td>토요타 캠리 하이브리드</td>\n",
       "      <td>2019-08-21</td>\n",
       "      <td>2019-09-04</td>\n",
       "      <td>2020-01-23</td>\n",
       "      <td>뒷좌석 시트벨트의 부품조립설비의 조정이 부적절하여, 시트벨트 리트랙터 잠금장치*내부...</td>\n",
       "    </tr>\n",
       "  </tbody>\n",
       "</table>\n",
       "</div>"
      ],
      "text/plain": [
       "           제작자            차명        생산기간      생산기간.1       리콜개시일  \\\n",
       "0     (주)에프엠케이        기블리 디젤  2014-05-28  2016-03-15  2020-03-23   \n",
       "1     (주)에프엠케이     콰트로포르테 디젤  2014-05-08  2016-03-14  2020-03-23   \n",
       "2  한국토요타자동차(주)      토요타 프리우스  2019-07-11  2019-07-31  2020-01-23   \n",
       "3  한국토요타자동차(주)        토요타 캠리  2019-08-23  2019-09-06  2020-01-23   \n",
       "4  한국토요타자동차(주)  토요타 캠리 하이브리드  2019-08-21  2019-09-04  2020-01-23   \n",
       "\n",
       "                                                리콜사유  \n",
       "0  스탑 & 고 기능 작동 직후 재시동 불가 1) 결함 있는 구조 장치 : 원동기(스탑...  \n",
       "1  스탑 & 고 기능 작동 직후 재시동 불가 1) 결함 있는 구조 장치 : 원동기(스탑...  \n",
       "2  콤비네이션 미터(계기판) 내부 기판의 생산 설비 관리가 부적절하여, 기판의 회로부품...  \n",
       "3  뒷좌석 시트벨트의 부품조립설비의 조정이 부적절하여, 시트벨트 리트랙터 잠금장치*내부...  \n",
       "4  뒷좌석 시트벨트의 부품조립설비의 조정이 부적절하여, 시트벨트 리트랙터 잠금장치*내부...  "
      ]
     },
     "execution_count": 61,
     "metadata": {},
     "output_type": "execute_result"
    }
   ],
   "source": [
    "df.drop_duplicates().head()"
   ]
  },
  {
   "cell_type": "code",
   "execution_count": 13,
   "metadata": {
    "execution": {
     "iopub.execute_input": "2021-07-14T07:49:26.230857Z",
     "iopub.status.busy": "2021-07-14T07:49:26.230464Z",
     "iopub.status.idle": "2021-07-14T07:49:26.243305Z",
     "shell.execute_reply": "2021-07-14T07:49:26.241938Z",
     "shell.execute_reply.started": "2021-07-14T07:49:26.230821Z"
    }
   },
   "outputs": [
    {
     "name": "stdout",
     "output_type": "stream",
     "text": [
      "Before: 1275\n",
      "After: 1274\n"
     ]
    }
   ],
   "source": [
    "print(\"Before:\", len(df))\n",
    "df = df.drop_duplicates()\n",
    "print(\"After:\", len(df))"
   ]
  },
  {
   "cell_type": "markdown",
   "metadata": {},
   "source": [
    "---"
   ]
  },
  {
   "cell_type": "markdown",
   "metadata": {},
   "source": [
    "#### Step by step"
   ]
  },
  {
   "cell_type": "code",
   "execution_count": 30,
   "metadata": {},
   "outputs": [],
   "source": [
    "df_d = pd.DataFrame({\n",
    "    'brand': ['Yum Yum', 'Yum Yum', 'Indomie', 'Indomie', 'Indomie'],\n",
    "    'style': ['cup', 'cup', 'cup', 'pack', 'pack'],\n",
    "    'rating': [4, 4, 3.5, 15, 5]\n",
    "})"
   ]
  },
  {
   "cell_type": "code",
   "execution_count": 31,
   "metadata": {},
   "outputs": [
    {
     "data": {
      "text/html": [
       "<div>\n",
       "<style scoped>\n",
       "    .dataframe tbody tr th:only-of-type {\n",
       "        vertical-align: middle;\n",
       "    }\n",
       "\n",
       "    .dataframe tbody tr th {\n",
       "        vertical-align: top;\n",
       "    }\n",
       "\n",
       "    .dataframe thead th {\n",
       "        text-align: right;\n",
       "    }\n",
       "</style>\n",
       "<table border=\"1\" class=\"dataframe\">\n",
       "  <thead>\n",
       "    <tr style=\"text-align: right;\">\n",
       "      <th></th>\n",
       "      <th>brand</th>\n",
       "      <th>style</th>\n",
       "      <th>rating</th>\n",
       "    </tr>\n",
       "  </thead>\n",
       "  <tbody>\n",
       "    <tr>\n",
       "      <th>0</th>\n",
       "      <td>Yum Yum</td>\n",
       "      <td>cup</td>\n",
       "      <td>4.0</td>\n",
       "    </tr>\n",
       "    <tr>\n",
       "      <th>1</th>\n",
       "      <td>Yum Yum</td>\n",
       "      <td>cup</td>\n",
       "      <td>4.0</td>\n",
       "    </tr>\n",
       "    <tr>\n",
       "      <th>2</th>\n",
       "      <td>Indomie</td>\n",
       "      <td>cup</td>\n",
       "      <td>3.5</td>\n",
       "    </tr>\n",
       "    <tr>\n",
       "      <th>3</th>\n",
       "      <td>Indomie</td>\n",
       "      <td>pack</td>\n",
       "      <td>15.0</td>\n",
       "    </tr>\n",
       "    <tr>\n",
       "      <th>4</th>\n",
       "      <td>Indomie</td>\n",
       "      <td>pack</td>\n",
       "      <td>5.0</td>\n",
       "    </tr>\n",
       "  </tbody>\n",
       "</table>\n",
       "</div>"
      ],
      "text/plain": [
       "     brand style  rating\n",
       "0  Yum Yum   cup     4.0\n",
       "1  Yum Yum   cup     4.0\n",
       "2  Indomie   cup     3.5\n",
       "3  Indomie  pack    15.0\n",
       "4  Indomie  pack     5.0"
      ]
     },
     "execution_count": 31,
     "metadata": {},
     "output_type": "execute_result"
    }
   ],
   "source": [
    "df_d"
   ]
  },
  {
   "cell_type": "markdown",
   "metadata": {},
   "source": [
    "#### duplicated()"
   ]
  },
  {
   "cell_type": "code",
   "execution_count": 37,
   "metadata": {},
   "outputs": [
    {
     "data": {
      "text/plain": [
       "0    False\n",
       "1     True\n",
       "2    False\n",
       "3    False\n",
       "4    False\n",
       "dtype: bool"
      ]
     },
     "execution_count": 37,
     "metadata": {},
     "output_type": "execute_result"
    }
   ],
   "source": [
    "df_d.duplicated()"
   ]
  },
  {
   "cell_type": "code",
   "execution_count": 39,
   "metadata": {},
   "outputs": [
    {
     "data": {
      "text/plain": [
       "0    False\n",
       "1     True\n",
       "2    False\n",
       "3    False\n",
       "4    False\n",
       "dtype: bool"
      ]
     },
     "execution_count": 39,
     "metadata": {},
     "output_type": "execute_result"
    }
   ],
   "source": [
    "df_d.duplicated(keep = 'first')  # default"
   ]
  },
  {
   "cell_type": "code",
   "execution_count": 41,
   "metadata": {},
   "outputs": [
    {
     "data": {
      "text/plain": [
       "0     True\n",
       "1    False\n",
       "2    False\n",
       "3    False\n",
       "4    False\n",
       "dtype: bool"
      ]
     },
     "execution_count": 41,
     "metadata": {},
     "output_type": "execute_result"
    }
   ],
   "source": [
    "df_d.duplicated(keep = 'last')"
   ]
  },
  {
   "cell_type": "code",
   "execution_count": 42,
   "metadata": {},
   "outputs": [
    {
     "data": {
      "text/plain": [
       "0     True\n",
       "1     True\n",
       "2    False\n",
       "3    False\n",
       "4    False\n",
       "dtype: bool"
      ]
     },
     "execution_count": 42,
     "metadata": {},
     "output_type": "execute_result"
    }
   ],
   "source": [
    "df_d.duplicated(keep = False)"
   ]
  },
  {
   "cell_type": "code",
   "execution_count": 43,
   "metadata": {},
   "outputs": [
    {
     "data": {
      "text/plain": [
       "0    False\n",
       "1     True\n",
       "2    False\n",
       "3     True\n",
       "4     True\n",
       "dtype: bool"
      ]
     },
     "execution_count": 43,
     "metadata": {},
     "output_type": "execute_result"
    }
   ],
   "source": [
    "df_d.duplicated(subset=['brand']) "
   ]
  },
  {
   "cell_type": "markdown",
   "metadata": {},
   "source": [
    "#### drop_duplicates()"
   ]
  },
  {
   "cell_type": "markdown",
   "metadata": {},
   "source": [
    "* default : remove duplicate rows based on all columns.\n",
    "* subset :  remove duplicates on specific columns.\n",
    "*  keep :  remove duplicates and keep last occurrences."
   ]
  },
  {
   "cell_type": "code",
   "execution_count": 32,
   "metadata": {},
   "outputs": [
    {
     "data": {
      "text/html": [
       "<div>\n",
       "<style scoped>\n",
       "    .dataframe tbody tr th:only-of-type {\n",
       "        vertical-align: middle;\n",
       "    }\n",
       "\n",
       "    .dataframe tbody tr th {\n",
       "        vertical-align: top;\n",
       "    }\n",
       "\n",
       "    .dataframe thead th {\n",
       "        text-align: right;\n",
       "    }\n",
       "</style>\n",
       "<table border=\"1\" class=\"dataframe\">\n",
       "  <thead>\n",
       "    <tr style=\"text-align: right;\">\n",
       "      <th></th>\n",
       "      <th>brand</th>\n",
       "      <th>style</th>\n",
       "      <th>rating</th>\n",
       "    </tr>\n",
       "  </thead>\n",
       "  <tbody>\n",
       "    <tr>\n",
       "      <th>0</th>\n",
       "      <td>Yum Yum</td>\n",
       "      <td>cup</td>\n",
       "      <td>4.0</td>\n",
       "    </tr>\n",
       "    <tr>\n",
       "      <th>2</th>\n",
       "      <td>Indomie</td>\n",
       "      <td>cup</td>\n",
       "      <td>3.5</td>\n",
       "    </tr>\n",
       "    <tr>\n",
       "      <th>3</th>\n",
       "      <td>Indomie</td>\n",
       "      <td>pack</td>\n",
       "      <td>15.0</td>\n",
       "    </tr>\n",
       "    <tr>\n",
       "      <th>4</th>\n",
       "      <td>Indomie</td>\n",
       "      <td>pack</td>\n",
       "      <td>5.0</td>\n",
       "    </tr>\n",
       "  </tbody>\n",
       "</table>\n",
       "</div>"
      ],
      "text/plain": [
       "     brand style  rating\n",
       "0  Yum Yum   cup     4.0\n",
       "2  Indomie   cup     3.5\n",
       "3  Indomie  pack    15.0\n",
       "4  Indomie  pack     5.0"
      ]
     },
     "execution_count": 32,
     "metadata": {},
     "output_type": "execute_result"
    }
   ],
   "source": [
    "df_d.drop_duplicates()"
   ]
  },
  {
   "cell_type": "code",
   "execution_count": 35,
   "metadata": {},
   "outputs": [
    {
     "data": {
      "text/html": [
       "<div>\n",
       "<style scoped>\n",
       "    .dataframe tbody tr th:only-of-type {\n",
       "        vertical-align: middle;\n",
       "    }\n",
       "\n",
       "    .dataframe tbody tr th {\n",
       "        vertical-align: top;\n",
       "    }\n",
       "\n",
       "    .dataframe thead th {\n",
       "        text-align: right;\n",
       "    }\n",
       "</style>\n",
       "<table border=\"1\" class=\"dataframe\">\n",
       "  <thead>\n",
       "    <tr style=\"text-align: right;\">\n",
       "      <th></th>\n",
       "      <th>brand</th>\n",
       "      <th>style</th>\n",
       "      <th>rating</th>\n",
       "    </tr>\n",
       "  </thead>\n",
       "  <tbody>\n",
       "    <tr>\n",
       "      <th>0</th>\n",
       "      <td>Yum Yum</td>\n",
       "      <td>cup</td>\n",
       "      <td>4.0</td>\n",
       "    </tr>\n",
       "    <tr>\n",
       "      <th>2</th>\n",
       "      <td>Indomie</td>\n",
       "      <td>cup</td>\n",
       "      <td>3.5</td>\n",
       "    </tr>\n",
       "  </tbody>\n",
       "</table>\n",
       "</div>"
      ],
      "text/plain": [
       "     brand style  rating\n",
       "0  Yum Yum   cup     4.0\n",
       "2  Indomie   cup     3.5"
      ]
     },
     "execution_count": 35,
     "metadata": {},
     "output_type": "execute_result"
    }
   ],
   "source": [
    "df_d.drop_duplicates(subset=['brand'])"
   ]
  },
  {
   "cell_type": "code",
   "execution_count": 36,
   "metadata": {},
   "outputs": [
    {
     "data": {
      "text/html": [
       "<div>\n",
       "<style scoped>\n",
       "    .dataframe tbody tr th:only-of-type {\n",
       "        vertical-align: middle;\n",
       "    }\n",
       "\n",
       "    .dataframe tbody tr th {\n",
       "        vertical-align: top;\n",
       "    }\n",
       "\n",
       "    .dataframe thead th {\n",
       "        text-align: right;\n",
       "    }\n",
       "</style>\n",
       "<table border=\"1\" class=\"dataframe\">\n",
       "  <thead>\n",
       "    <tr style=\"text-align: right;\">\n",
       "      <th></th>\n",
       "      <th>brand</th>\n",
       "      <th>style</th>\n",
       "      <th>rating</th>\n",
       "    </tr>\n",
       "  </thead>\n",
       "  <tbody>\n",
       "    <tr>\n",
       "      <th>1</th>\n",
       "      <td>Yum Yum</td>\n",
       "      <td>cup</td>\n",
       "      <td>4.0</td>\n",
       "    </tr>\n",
       "    <tr>\n",
       "      <th>2</th>\n",
       "      <td>Indomie</td>\n",
       "      <td>cup</td>\n",
       "      <td>3.5</td>\n",
       "    </tr>\n",
       "    <tr>\n",
       "      <th>4</th>\n",
       "      <td>Indomie</td>\n",
       "      <td>pack</td>\n",
       "      <td>5.0</td>\n",
       "    </tr>\n",
       "  </tbody>\n",
       "</table>\n",
       "</div>"
      ],
      "text/plain": [
       "     brand style  rating\n",
       "1  Yum Yum   cup     4.0\n",
       "2  Indomie   cup     3.5\n",
       "4  Indomie  pack     5.0"
      ]
     },
     "execution_count": 36,
     "metadata": {},
     "output_type": "execute_result"
    }
   ],
   "source": [
    "df_d.drop_duplicates(subset=['brand', 'style'], keep='last')"
   ]
  },
  {
   "cell_type": "markdown",
   "metadata": {},
   "source": [
    "---"
   ]
  },
  {
   "cell_type": "markdown",
   "metadata": {},
   "source": [
    "### 2.3. 기초적인 데이터 변형"
   ]
  },
  {
   "cell_type": "markdown",
   "metadata": {},
   "source": [
    "+ 현재 `생산기간`, `생산기간.1`, `리콜개시일` 열은 모두 `object` 타입<br> --> 문자열로 인식되고 있으므로 분석을 위해 연도, 월, 일을 각각 정수형으로 저장한다. <br>\n",
    "+ 열 이름을 영어로 바꿔준다."
   ]
  },
  {
   "cell_type": "code",
   "execution_count": 62,
   "metadata": {
    "execution": {
     "iopub.execute_input": "2021-07-14T07:49:26.245238Z",
     "iopub.status.busy": "2021-07-14T07:49:26.244773Z",
     "iopub.status.idle": "2021-07-14T07:49:26.288742Z",
     "shell.execute_reply": "2021-07-14T07:49:26.287573Z",
     "shell.execute_reply.started": "2021-07-14T07:49:26.245203Z"
    }
   },
   "outputs": [
    {
     "data": {
      "text/html": [
       "<div>\n",
       "<style scoped>\n",
       "    .dataframe tbody tr th:only-of-type {\n",
       "        vertical-align: middle;\n",
       "    }\n",
       "\n",
       "    .dataframe tbody tr th {\n",
       "        vertical-align: top;\n",
       "    }\n",
       "\n",
       "    .dataframe thead th {\n",
       "        text-align: right;\n",
       "    }\n",
       "</style>\n",
       "<table border=\"1\" class=\"dataframe\">\n",
       "  <thead>\n",
       "    <tr style=\"text-align: right;\">\n",
       "      <th></th>\n",
       "      <th>제작자</th>\n",
       "      <th>차명</th>\n",
       "      <th>생산기간</th>\n",
       "      <th>생산기간.1</th>\n",
       "      <th>리콜개시일</th>\n",
       "      <th>리콜사유</th>\n",
       "      <th>start_year</th>\n",
       "      <th>start_month</th>\n",
       "      <th>start_day</th>\n",
       "      <th>end_year</th>\n",
       "      <th>end_month</th>\n",
       "      <th>end_day</th>\n",
       "      <th>recall_year</th>\n",
       "      <th>recall_month</th>\n",
       "      <th>recall_day</th>\n",
       "    </tr>\n",
       "  </thead>\n",
       "  <tbody>\n",
       "    <tr>\n",
       "      <th>0</th>\n",
       "      <td>(주)에프엠케이</td>\n",
       "      <td>기블리 디젤</td>\n",
       "      <td>2014-05-28</td>\n",
       "      <td>2016-03-15</td>\n",
       "      <td>2020-03-23</td>\n",
       "      <td>스탑 &amp; 고 기능 작동 직후 재시동 불가 1) 결함 있는 구조 장치 : 원동기(스탑...</td>\n",
       "      <td>2014</td>\n",
       "      <td>5</td>\n",
       "      <td>28</td>\n",
       "      <td>2016</td>\n",
       "      <td>3</td>\n",
       "      <td>15</td>\n",
       "      <td>2020</td>\n",
       "      <td>3</td>\n",
       "      <td>23</td>\n",
       "    </tr>\n",
       "    <tr>\n",
       "      <th>1</th>\n",
       "      <td>(주)에프엠케이</td>\n",
       "      <td>콰트로포르테 디젤</td>\n",
       "      <td>2014-05-08</td>\n",
       "      <td>2016-03-14</td>\n",
       "      <td>2020-03-23</td>\n",
       "      <td>스탑 &amp; 고 기능 작동 직후 재시동 불가 1) 결함 있는 구조 장치 : 원동기(스탑...</td>\n",
       "      <td>2014</td>\n",
       "      <td>5</td>\n",
       "      <td>8</td>\n",
       "      <td>2016</td>\n",
       "      <td>3</td>\n",
       "      <td>14</td>\n",
       "      <td>2020</td>\n",
       "      <td>3</td>\n",
       "      <td>23</td>\n",
       "    </tr>\n",
       "    <tr>\n",
       "      <th>2</th>\n",
       "      <td>한국토요타자동차(주)</td>\n",
       "      <td>토요타 프리우스</td>\n",
       "      <td>2019-07-11</td>\n",
       "      <td>2019-07-31</td>\n",
       "      <td>2020-01-23</td>\n",
       "      <td>콤비네이션 미터(계기판) 내부 기판의 생산 설비 관리가 부적절하여, 기판의 회로부품...</td>\n",
       "      <td>2019</td>\n",
       "      <td>7</td>\n",
       "      <td>11</td>\n",
       "      <td>2019</td>\n",
       "      <td>7</td>\n",
       "      <td>31</td>\n",
       "      <td>2020</td>\n",
       "      <td>1</td>\n",
       "      <td>23</td>\n",
       "    </tr>\n",
       "  </tbody>\n",
       "</table>\n",
       "</div>"
      ],
      "text/plain": [
       "           제작자         차명        생산기간      생산기간.1       리콜개시일  \\\n",
       "0     (주)에프엠케이     기블리 디젤  2014-05-28  2016-03-15  2020-03-23   \n",
       "1     (주)에프엠케이  콰트로포르테 디젤  2014-05-08  2016-03-14  2020-03-23   \n",
       "2  한국토요타자동차(주)   토요타 프리우스  2019-07-11  2019-07-31  2020-01-23   \n",
       "\n",
       "                                                리콜사유  start_year  start_month  \\\n",
       "0  스탑 & 고 기능 작동 직후 재시동 불가 1) 결함 있는 구조 장치 : 원동기(스탑...        2014            5   \n",
       "1  스탑 & 고 기능 작동 직후 재시동 불가 1) 결함 있는 구조 장치 : 원동기(스탑...        2014            5   \n",
       "2  콤비네이션 미터(계기판) 내부 기판의 생산 설비 관리가 부적절하여, 기판의 회로부품...        2019            7   \n",
       "\n",
       "   start_day  end_year  end_month  end_day  recall_year  recall_month  \\\n",
       "0         28      2016          3       15         2020             3   \n",
       "1          8      2016          3       14         2020             3   \n",
       "2         11      2019          7       31         2020             1   \n",
       "\n",
       "   recall_day  \n",
       "0          23  \n",
       "1          23  \n",
       "2          23  "
      ]
     },
     "execution_count": 62,
     "metadata": {},
     "output_type": "execute_result"
    }
   ],
   "source": [
    "def parse_year(s):\n",
    "    return int(s[:4])\n",
    "def parse_month(s):\n",
    "    return int(s[5:7])\n",
    "def parse_day(s):\n",
    "    return int(s[8:])\n",
    "\n",
    "# Pandas DataFrame에서는 row별로 loop를 도는 것이 굉장히 느리기 때문에, apply() 함수를 이용하여 벡터 연산을 진행한다.\n",
    "df['start_year'] = df['생산기간'].apply(parse_year)\n",
    "df['start_month'] = df['생산기간'].apply(parse_month)\n",
    "df['start_day'] = df['생산기간'].apply(parse_day)\n",
    "\n",
    "df['end_year'] = df['생산기간.1'].apply(parse_year)\n",
    "df['end_month'] = df['생산기간.1'].apply(parse_month)\n",
    "df['end_day'] = df['생산기간.1'].apply(parse_day)\n",
    "\n",
    "df['recall_year'] = df['리콜개시일'].apply(parse_year)\n",
    "df['recall_month'] = df['리콜개시일'].apply(parse_month)\n",
    "df['recall_day'] = df['리콜개시일'].apply(parse_day)\n",
    "\n",
    "df.head(3)"
   ]
  },
  {
   "cell_type": "code",
   "execution_count": 63,
   "metadata": {
    "execution": {
     "iopub.execute_input": "2021-07-14T07:49:26.290354Z",
     "iopub.status.busy": "2021-07-14T07:49:26.290046Z",
     "iopub.status.idle": "2021-07-14T07:49:26.310819Z",
     "shell.execute_reply": "2021-07-14T07:49:26.309651Z",
     "shell.execute_reply.started": "2021-07-14T07:49:26.290326Z"
    }
   },
   "outputs": [
    {
     "data": {
      "text/html": [
       "<div>\n",
       "<style scoped>\n",
       "    .dataframe tbody tr th:only-of-type {\n",
       "        vertical-align: middle;\n",
       "    }\n",
       "\n",
       "    .dataframe tbody tr th {\n",
       "        vertical-align: top;\n",
       "    }\n",
       "\n",
       "    .dataframe thead th {\n",
       "        text-align: right;\n",
       "    }\n",
       "</style>\n",
       "<table border=\"1\" class=\"dataframe\">\n",
       "  <thead>\n",
       "    <tr style=\"text-align: right;\">\n",
       "      <th></th>\n",
       "      <th>manufacturer</th>\n",
       "      <th>model</th>\n",
       "      <th>cause</th>\n",
       "      <th>start_year</th>\n",
       "      <th>start_month</th>\n",
       "      <th>start_day</th>\n",
       "      <th>end_year</th>\n",
       "      <th>end_month</th>\n",
       "      <th>end_day</th>\n",
       "      <th>recall_year</th>\n",
       "      <th>recall_month</th>\n",
       "      <th>recall_day</th>\n",
       "    </tr>\n",
       "  </thead>\n",
       "  <tbody>\n",
       "    <tr>\n",
       "      <th>0</th>\n",
       "      <td>(주)에프엠케이</td>\n",
       "      <td>기블리 디젤</td>\n",
       "      <td>스탑 &amp; 고 기능 작동 직후 재시동 불가 1) 결함 있는 구조 장치 : 원동기(스탑...</td>\n",
       "      <td>2014</td>\n",
       "      <td>5</td>\n",
       "      <td>28</td>\n",
       "      <td>2016</td>\n",
       "      <td>3</td>\n",
       "      <td>15</td>\n",
       "      <td>2020</td>\n",
       "      <td>3</td>\n",
       "      <td>23</td>\n",
       "    </tr>\n",
       "    <tr>\n",
       "      <th>1</th>\n",
       "      <td>(주)에프엠케이</td>\n",
       "      <td>콰트로포르테 디젤</td>\n",
       "      <td>스탑 &amp; 고 기능 작동 직후 재시동 불가 1) 결함 있는 구조 장치 : 원동기(스탑...</td>\n",
       "      <td>2014</td>\n",
       "      <td>5</td>\n",
       "      <td>8</td>\n",
       "      <td>2016</td>\n",
       "      <td>3</td>\n",
       "      <td>14</td>\n",
       "      <td>2020</td>\n",
       "      <td>3</td>\n",
       "      <td>23</td>\n",
       "    </tr>\n",
       "    <tr>\n",
       "      <th>2</th>\n",
       "      <td>한국토요타자동차(주)</td>\n",
       "      <td>토요타 프리우스</td>\n",
       "      <td>콤비네이션 미터(계기판) 내부 기판의 생산 설비 관리가 부적절하여, 기판의 회로부품...</td>\n",
       "      <td>2019</td>\n",
       "      <td>7</td>\n",
       "      <td>11</td>\n",
       "      <td>2019</td>\n",
       "      <td>7</td>\n",
       "      <td>31</td>\n",
       "      <td>2020</td>\n",
       "      <td>1</td>\n",
       "      <td>23</td>\n",
       "    </tr>\n",
       "  </tbody>\n",
       "</table>\n",
       "</div>"
      ],
      "text/plain": [
       "  manufacturer      model                                              cause  \\\n",
       "0     (주)에프엠케이     기블리 디젤  스탑 & 고 기능 작동 직후 재시동 불가 1) 결함 있는 구조 장치 : 원동기(스탑...   \n",
       "1     (주)에프엠케이  콰트로포르테 디젤  스탑 & 고 기능 작동 직후 재시동 불가 1) 결함 있는 구조 장치 : 원동기(스탑...   \n",
       "2  한국토요타자동차(주)   토요타 프리우스  콤비네이션 미터(계기판) 내부 기판의 생산 설비 관리가 부적절하여, 기판의 회로부품...   \n",
       "\n",
       "   start_year  start_month  start_day  end_year  end_month  end_day  \\\n",
       "0        2014            5         28      2016          3       15   \n",
       "1        2014            5          8      2016          3       14   \n",
       "2        2019            7         11      2019          7       31   \n",
       "\n",
       "   recall_year  recall_month  recall_day  \n",
       "0         2020             3          23  \n",
       "1         2020             3          23  \n",
       "2         2020             1          23  "
      ]
     },
     "execution_count": 63,
     "metadata": {},
     "output_type": "execute_result"
    }
   ],
   "source": [
    "# 불필요한 열은 버리고, 열 이름을 재정의합니다.\n",
    "df = df.drop(columns=['생산기간', '생산기간.1', '리콜개시일']).rename(columns={'제작자': \"manufacturer\", \"차명\": \"model\", \"리콜사유\": \"cause\"})\n",
    "df.head(3)"
   ]
  },
  {
   "cell_type": "markdown",
   "metadata": {},
   "source": [
    "본 분석에서는 2020년의 데이터만을 대상으로하므로, 그 외의 데이터가 있다면 삭제한다."
   ]
  },
  {
   "cell_type": "code",
   "execution_count": 64,
   "metadata": {},
   "outputs": [
    {
     "data": {
      "text/plain": [
       "(2019, 2020)"
      ]
     },
     "execution_count": 64,
     "metadata": {},
     "output_type": "execute_result"
    }
   ],
   "source": [
    "# 2019년의 데이터가 함께 존재함을 알 수 있음\n",
    "df.recall_year.min(), df.recall_year.max()"
   ]
  },
  {
   "cell_type": "code",
   "execution_count": 65,
   "metadata": {},
   "outputs": [
    {
     "data": {
      "text/plain": [
       "1264"
      ]
     },
     "execution_count": 65,
     "metadata": {},
     "output_type": "execute_result"
    }
   ],
   "source": [
    "# 2020년 데이터만 저장한다.\n",
    "df = df[df['recall_year']==2020]\n",
    "len(df)"
   ]
  },
  {
   "cell_type": "markdown",
   "metadata": {},
   "source": [
    "#### Step by step"
   ]
  },
  {
   "cell_type": "code",
   "execution_count": 52,
   "metadata": {},
   "outputs": [],
   "source": [
    "def parse_year(s):\n",
    "    return int(s[:4])\n",
    "\n",
    "def parse_month(s):\n",
    "    return int(s[5:7])\n",
    "\n",
    "def parse_day(s):\n",
    "    return int(s[8:])"
   ]
  },
  {
   "cell_type": "code",
   "execution_count": 53,
   "metadata": {},
   "outputs": [
    {
     "data": {
      "text/plain": [
       "2021"
      ]
     },
     "execution_count": 53,
     "metadata": {},
     "output_type": "execute_result"
    }
   ],
   "source": [
    "parse_year('2021-04-12')"
   ]
  },
  {
   "cell_type": "markdown",
   "metadata": {},
   "source": [
    "---"
   ]
  },
  {
   "cell_type": "markdown",
   "metadata": {},
   "source": [
    "## 3. 데이터 시각화"
   ]
  },
  {
   "cell_type": "markdown",
   "metadata": {},
   "source": [
    "### 3.1. 제조사별 리콜 현황 출력"
   ]
  },
  {
   "cell_type": "markdown",
   "metadata": {},
   "source": [
    "제조사별 리콜 건수 분포를 막대 그래프로 확인"
   ]
  },
  {
   "cell_type": "code",
   "execution_count": 19,
   "metadata": {
    "execution": {
     "iopub.execute_input": "2021-07-14T07:49:26.312479Z",
     "iopub.status.busy": "2021-07-14T07:49:26.312134Z",
     "iopub.status.idle": "2021-07-14T07:49:26.330695Z",
     "shell.execute_reply": "2021-07-14T07:49:26.329328Z",
     "shell.execute_reply.started": "2021-07-14T07:49:26.312446Z"
    }
   },
   "outputs": [
    {
     "data": {
      "text/plain": [
       "manufacturer\n",
       "비엠더블유코리아(주)           526\n",
       "메르세데스벤츠코리아(주)         234\n",
       "아우디폭스바겐코리아(주)         115\n",
       "한불모터스(주)               71\n",
       "한국토요타자동차(주)            54\n",
       "(주)볼보자동차코리아            39\n",
       "현대자동차(주)               28\n",
       "기아자동차(주)               19\n",
       "(주) 한국모터트레이딩           16\n",
       "한국지엠주식회사               15\n",
       "포드세일즈서비스코리아(유)         14\n",
       "화창상사(주)                14\n",
       "다임러트럭코리아(주)            13\n",
       "(주) 바이크코리아             12\n",
       "만트럭버스코리아(주)            11\n",
       "혼다코리아(주)               10\n",
       "(주)에프엠케이                9\n",
       "에프씨에이코리아(주)             7\n",
       "(주)재규어랜드로버코리아           7\n",
       "한국닛산(주)                 7\n",
       "대전기계공업(주)               6\n",
       "르노삼성자동차(주)              6\n",
       "포르쉐코리아 주식회사             5\n",
       "유한회사 모토로싸               4\n",
       "(주)스포츠모터사이클코리아          4\n",
       "기흥인터내셔널 유한회사            4\n",
       "허스크바나모터싸이클코리아 주식회사      3\n",
       "쌍용자동차(주)                3\n",
       "(주)에이비케이                2\n",
       "(주) 다빈월드                1\n",
       "지엠아시아퍼시픽지역본부 주식회사       1\n",
       "아이씨피(주)                 1\n",
       "(주)스즈키씨엠씨               1\n",
       "스카니아코리아그룹(주)            1\n",
       "Name: model, dtype: int64"
      ]
     },
     "execution_count": 19,
     "metadata": {},
     "output_type": "execute_result"
    }
   ],
   "source": [
    "df.groupby(\"manufacturer\").count()[\"model\"].sort_values(ascending=False)"
   ]
  },
  {
   "cell_type": "code",
   "execution_count": 27,
   "metadata": {},
   "outputs": [
    {
     "data": {
      "text/html": [
       "<div>\n",
       "<style scoped>\n",
       "    .dataframe tbody tr th:only-of-type {\n",
       "        vertical-align: middle;\n",
       "    }\n",
       "\n",
       "    .dataframe tbody tr th {\n",
       "        vertical-align: top;\n",
       "    }\n",
       "\n",
       "    .dataframe thead th {\n",
       "        text-align: right;\n",
       "    }\n",
       "</style>\n",
       "<table border=\"1\" class=\"dataframe\">\n",
       "  <thead>\n",
       "    <tr style=\"text-align: right;\">\n",
       "      <th></th>\n",
       "      <th>count</th>\n",
       "    </tr>\n",
       "    <tr>\n",
       "      <th>manufacturer</th>\n",
       "      <th></th>\n",
       "    </tr>\n",
       "  </thead>\n",
       "  <tbody>\n",
       "    <tr>\n",
       "      <th>비엠더블유코리아(주)</th>\n",
       "      <td>526</td>\n",
       "    </tr>\n",
       "    <tr>\n",
       "      <th>메르세데스벤츠코리아(주)</th>\n",
       "      <td>234</td>\n",
       "    </tr>\n",
       "    <tr>\n",
       "      <th>아우디폭스바겐코리아(주)</th>\n",
       "      <td>115</td>\n",
       "    </tr>\n",
       "    <tr>\n",
       "      <th>한불모터스(주)</th>\n",
       "      <td>71</td>\n",
       "    </tr>\n",
       "    <tr>\n",
       "      <th>한국토요타자동차(주)</th>\n",
       "      <td>54</td>\n",
       "    </tr>\n",
       "    <tr>\n",
       "      <th>(주)볼보자동차코리아</th>\n",
       "      <td>39</td>\n",
       "    </tr>\n",
       "    <tr>\n",
       "      <th>현대자동차(주)</th>\n",
       "      <td>28</td>\n",
       "    </tr>\n",
       "    <tr>\n",
       "      <th>기아자동차(주)</th>\n",
       "      <td>19</td>\n",
       "    </tr>\n",
       "    <tr>\n",
       "      <th>(주) 한국모터트레이딩</th>\n",
       "      <td>16</td>\n",
       "    </tr>\n",
       "    <tr>\n",
       "      <th>한국지엠주식회사</th>\n",
       "      <td>15</td>\n",
       "    </tr>\n",
       "    <tr>\n",
       "      <th>포드세일즈서비스코리아(유)</th>\n",
       "      <td>14</td>\n",
       "    </tr>\n",
       "    <tr>\n",
       "      <th>화창상사(주)</th>\n",
       "      <td>14</td>\n",
       "    </tr>\n",
       "    <tr>\n",
       "      <th>다임러트럭코리아(주)</th>\n",
       "      <td>13</td>\n",
       "    </tr>\n",
       "    <tr>\n",
       "      <th>(주) 바이크코리아</th>\n",
       "      <td>12</td>\n",
       "    </tr>\n",
       "    <tr>\n",
       "      <th>만트럭버스코리아(주)</th>\n",
       "      <td>11</td>\n",
       "    </tr>\n",
       "    <tr>\n",
       "      <th>혼다코리아(주)</th>\n",
       "      <td>10</td>\n",
       "    </tr>\n",
       "    <tr>\n",
       "      <th>(주)에프엠케이</th>\n",
       "      <td>9</td>\n",
       "    </tr>\n",
       "    <tr>\n",
       "      <th>에프씨에이코리아(주)</th>\n",
       "      <td>7</td>\n",
       "    </tr>\n",
       "    <tr>\n",
       "      <th>(주)재규어랜드로버코리아</th>\n",
       "      <td>7</td>\n",
       "    </tr>\n",
       "    <tr>\n",
       "      <th>한국닛산(주)</th>\n",
       "      <td>7</td>\n",
       "    </tr>\n",
       "    <tr>\n",
       "      <th>대전기계공업(주)</th>\n",
       "      <td>6</td>\n",
       "    </tr>\n",
       "    <tr>\n",
       "      <th>르노삼성자동차(주)</th>\n",
       "      <td>6</td>\n",
       "    </tr>\n",
       "    <tr>\n",
       "      <th>포르쉐코리아 주식회사</th>\n",
       "      <td>5</td>\n",
       "    </tr>\n",
       "    <tr>\n",
       "      <th>유한회사 모토로싸</th>\n",
       "      <td>4</td>\n",
       "    </tr>\n",
       "    <tr>\n",
       "      <th>(주)스포츠모터사이클코리아</th>\n",
       "      <td>4</td>\n",
       "    </tr>\n",
       "    <tr>\n",
       "      <th>기흥인터내셔널 유한회사</th>\n",
       "      <td>4</td>\n",
       "    </tr>\n",
       "    <tr>\n",
       "      <th>허스크바나모터싸이클코리아 주식회사</th>\n",
       "      <td>3</td>\n",
       "    </tr>\n",
       "    <tr>\n",
       "      <th>쌍용자동차(주)</th>\n",
       "      <td>3</td>\n",
       "    </tr>\n",
       "    <tr>\n",
       "      <th>(주)에이비케이</th>\n",
       "      <td>2</td>\n",
       "    </tr>\n",
       "    <tr>\n",
       "      <th>(주) 다빈월드</th>\n",
       "      <td>1</td>\n",
       "    </tr>\n",
       "    <tr>\n",
       "      <th>지엠아시아퍼시픽지역본부 주식회사</th>\n",
       "      <td>1</td>\n",
       "    </tr>\n",
       "    <tr>\n",
       "      <th>아이씨피(주)</th>\n",
       "      <td>1</td>\n",
       "    </tr>\n",
       "    <tr>\n",
       "      <th>(주)스즈키씨엠씨</th>\n",
       "      <td>1</td>\n",
       "    </tr>\n",
       "    <tr>\n",
       "      <th>스카니아코리아그룹(주)</th>\n",
       "      <td>1</td>\n",
       "    </tr>\n",
       "  </tbody>\n",
       "</table>\n",
       "</div>"
      ],
      "text/plain": [
       "                    count\n",
       "manufacturer             \n",
       "비엠더블유코리아(주)           526\n",
       "메르세데스벤츠코리아(주)         234\n",
       "아우디폭스바겐코리아(주)         115\n",
       "한불모터스(주)               71\n",
       "한국토요타자동차(주)            54\n",
       "(주)볼보자동차코리아            39\n",
       "현대자동차(주)               28\n",
       "기아자동차(주)               19\n",
       "(주) 한국모터트레이딩           16\n",
       "한국지엠주식회사               15\n",
       "포드세일즈서비스코리아(유)         14\n",
       "화창상사(주)                14\n",
       "다임러트럭코리아(주)            13\n",
       "(주) 바이크코리아             12\n",
       "만트럭버스코리아(주)            11\n",
       "혼다코리아(주)               10\n",
       "(주)에프엠케이                9\n",
       "에프씨에이코리아(주)             7\n",
       "(주)재규어랜드로버코리아           7\n",
       "한국닛산(주)                 7\n",
       "대전기계공업(주)               6\n",
       "르노삼성자동차(주)              6\n",
       "포르쉐코리아 주식회사             5\n",
       "유한회사 모토로싸               4\n",
       "(주)스포츠모터사이클코리아          4\n",
       "기흥인터내셔널 유한회사            4\n",
       "허스크바나모터싸이클코리아 주식회사      3\n",
       "쌍용자동차(주)                3\n",
       "(주)에이비케이                2\n",
       "(주) 다빈월드                1\n",
       "지엠아시아퍼시픽지역본부 주식회사       1\n",
       "아이씨피(주)                 1\n",
       "(주)스즈키씨엠씨               1\n",
       "스카니아코리아그룹(주)            1"
      ]
     },
     "execution_count": 27,
     "metadata": {},
     "output_type": "execute_result"
    }
   ],
   "source": [
    "pd.DataFrame(df.groupby(\"manufacturer\").count()[\"model\"].sort_values(ascending=False)).rename(columns={\"model\": \"count\"})"
   ]
  },
  {
   "cell_type": "markdown",
   "metadata": {},
   "source": [
    "> `count`가 `manufacturer`보다 상단에 있다는 것은\n",
    "> `manufacturer`가 현재 columns name이 아닌 **index**로 인식되고 있다는 것을 의미한다."
   ]
  },
  {
   "cell_type": "code",
   "execution_count": 55,
   "metadata": {
    "execution": {
     "iopub.execute_input": "2021-07-14T07:49:26.358359Z",
     "iopub.status.busy": "2021-07-14T07:49:26.357715Z",
     "iopub.status.idle": "2021-07-14T07:49:26.369031Z",
     "shell.execute_reply": "2021-07-14T07:49:26.367892Z",
     "shell.execute_reply.started": "2021-07-14T07:49:26.358312Z"
    }
   },
   "outputs": [
    {
     "data": {
      "text/html": [
       "<div>\n",
       "<style scoped>\n",
       "    .dataframe tbody tr th:only-of-type {\n",
       "        vertical-align: middle;\n",
       "    }\n",
       "\n",
       "    .dataframe tbody tr th {\n",
       "        vertical-align: top;\n",
       "    }\n",
       "\n",
       "    .dataframe thead th {\n",
       "        text-align: right;\n",
       "    }\n",
       "</style>\n",
       "<table border=\"1\" class=\"dataframe\">\n",
       "  <thead>\n",
       "    <tr style=\"text-align: right;\">\n",
       "      <th></th>\n",
       "      <th>count</th>\n",
       "    </tr>\n",
       "    <tr>\n",
       "      <th>manufacturer</th>\n",
       "      <th></th>\n",
       "    </tr>\n",
       "  </thead>\n",
       "  <tbody>\n",
       "    <tr>\n",
       "      <th>비엠더블유코리아(주)</th>\n",
       "      <td>526</td>\n",
       "    </tr>\n",
       "    <tr>\n",
       "      <th>메르세데스벤츠코리아(주)</th>\n",
       "      <td>234</td>\n",
       "    </tr>\n",
       "    <tr>\n",
       "      <th>아우디폭스바겐코리아(주)</th>\n",
       "      <td>115</td>\n",
       "    </tr>\n",
       "    <tr>\n",
       "      <th>한불모터스(주)</th>\n",
       "      <td>71</td>\n",
       "    </tr>\n",
       "    <tr>\n",
       "      <th>한국토요타자동차(주)</th>\n",
       "      <td>54</td>\n",
       "    </tr>\n",
       "    <tr>\n",
       "      <th>(주)볼보자동차코리아</th>\n",
       "      <td>39</td>\n",
       "    </tr>\n",
       "    <tr>\n",
       "      <th>현대자동차(주)</th>\n",
       "      <td>28</td>\n",
       "    </tr>\n",
       "    <tr>\n",
       "      <th>기아자동차(주)</th>\n",
       "      <td>19</td>\n",
       "    </tr>\n",
       "    <tr>\n",
       "      <th>(주) 한국모터트레이딩</th>\n",
       "      <td>16</td>\n",
       "    </tr>\n",
       "    <tr>\n",
       "      <th>한국지엠주식회사</th>\n",
       "      <td>15</td>\n",
       "    </tr>\n",
       "    <tr>\n",
       "      <th>포드세일즈서비스코리아(유)</th>\n",
       "      <td>14</td>\n",
       "    </tr>\n",
       "    <tr>\n",
       "      <th>화창상사(주)</th>\n",
       "      <td>14</td>\n",
       "    </tr>\n",
       "    <tr>\n",
       "      <th>다임러트럭코리아(주)</th>\n",
       "      <td>13</td>\n",
       "    </tr>\n",
       "    <tr>\n",
       "      <th>(주) 바이크코리아</th>\n",
       "      <td>12</td>\n",
       "    </tr>\n",
       "    <tr>\n",
       "      <th>만트럭버스코리아(주)</th>\n",
       "      <td>11</td>\n",
       "    </tr>\n",
       "    <tr>\n",
       "      <th>혼다코리아(주)</th>\n",
       "      <td>10</td>\n",
       "    </tr>\n",
       "    <tr>\n",
       "      <th>(주)에프엠케이</th>\n",
       "      <td>9</td>\n",
       "    </tr>\n",
       "    <tr>\n",
       "      <th>에프씨에이코리아(주)</th>\n",
       "      <td>7</td>\n",
       "    </tr>\n",
       "    <tr>\n",
       "      <th>(주)재규어랜드로버코리아</th>\n",
       "      <td>7</td>\n",
       "    </tr>\n",
       "    <tr>\n",
       "      <th>한국닛산(주)</th>\n",
       "      <td>7</td>\n",
       "    </tr>\n",
       "    <tr>\n",
       "      <th>대전기계공업(주)</th>\n",
       "      <td>6</td>\n",
       "    </tr>\n",
       "    <tr>\n",
       "      <th>르노삼성자동차(주)</th>\n",
       "      <td>6</td>\n",
       "    </tr>\n",
       "    <tr>\n",
       "      <th>포르쉐코리아 주식회사</th>\n",
       "      <td>5</td>\n",
       "    </tr>\n",
       "    <tr>\n",
       "      <th>유한회사 모토로싸</th>\n",
       "      <td>4</td>\n",
       "    </tr>\n",
       "    <tr>\n",
       "      <th>(주)스포츠모터사이클코리아</th>\n",
       "      <td>4</td>\n",
       "    </tr>\n",
       "    <tr>\n",
       "      <th>기흥인터내셔널 유한회사</th>\n",
       "      <td>4</td>\n",
       "    </tr>\n",
       "    <tr>\n",
       "      <th>허스크바나모터싸이클코리아 주식회사</th>\n",
       "      <td>3</td>\n",
       "    </tr>\n",
       "    <tr>\n",
       "      <th>쌍용자동차(주)</th>\n",
       "      <td>3</td>\n",
       "    </tr>\n",
       "    <tr>\n",
       "      <th>(주)에이비케이</th>\n",
       "      <td>2</td>\n",
       "    </tr>\n",
       "    <tr>\n",
       "      <th>(주) 다빈월드</th>\n",
       "      <td>1</td>\n",
       "    </tr>\n",
       "    <tr>\n",
       "      <th>지엠아시아퍼시픽지역본부 주식회사</th>\n",
       "      <td>1</td>\n",
       "    </tr>\n",
       "    <tr>\n",
       "      <th>아이씨피(주)</th>\n",
       "      <td>1</td>\n",
       "    </tr>\n",
       "    <tr>\n",
       "      <th>(주)스즈키씨엠씨</th>\n",
       "      <td>1</td>\n",
       "    </tr>\n",
       "    <tr>\n",
       "      <th>스카니아코리아그룹(주)</th>\n",
       "      <td>1</td>\n",
       "    </tr>\n",
       "  </tbody>\n",
       "</table>\n",
       "</div>"
      ],
      "text/plain": [
       "                    count\n",
       "manufacturer             \n",
       "비엠더블유코리아(주)           526\n",
       "메르세데스벤츠코리아(주)         234\n",
       "아우디폭스바겐코리아(주)         115\n",
       "한불모터스(주)               71\n",
       "한국토요타자동차(주)            54\n",
       "(주)볼보자동차코리아            39\n",
       "현대자동차(주)               28\n",
       "기아자동차(주)               19\n",
       "(주) 한국모터트레이딩           16\n",
       "한국지엠주식회사               15\n",
       "포드세일즈서비스코리아(유)         14\n",
       "화창상사(주)                14\n",
       "다임러트럭코리아(주)            13\n",
       "(주) 바이크코리아             12\n",
       "만트럭버스코리아(주)            11\n",
       "혼다코리아(주)               10\n",
       "(주)에프엠케이                9\n",
       "에프씨에이코리아(주)             7\n",
       "(주)재규어랜드로버코리아           7\n",
       "한국닛산(주)                 7\n",
       "대전기계공업(주)               6\n",
       "르노삼성자동차(주)              6\n",
       "포르쉐코리아 주식회사             5\n",
       "유한회사 모토로싸               4\n",
       "(주)스포츠모터사이클코리아          4\n",
       "기흥인터내셔널 유한회사            4\n",
       "허스크바나모터싸이클코리아 주식회사      3\n",
       "쌍용자동차(주)                3\n",
       "(주)에이비케이                2\n",
       "(주) 다빈월드                1\n",
       "지엠아시아퍼시픽지역본부 주식회사       1\n",
       "아이씨피(주)                 1\n",
       "(주)스즈키씨엠씨               1\n",
       "스카니아코리아그룹(주)            1"
      ]
     },
     "execution_count": 55,
     "metadata": {},
     "output_type": "execute_result"
    }
   ],
   "source": [
    "tmp = pd.DataFrame(df.groupby(\"manufacturer\").count()[\"model\"].sort_values(ascending=False)).rename(columns={\"model\": \"count\"})\n",
    "tmp"
   ]
  },
  {
   "cell_type": "code",
   "execution_count": 56,
   "metadata": {
    "execution": {
     "iopub.execute_input": "2021-07-14T07:49:26.370909Z",
     "iopub.status.busy": "2021-07-14T07:49:26.370340Z",
     "iopub.status.idle": "2021-07-14T07:49:26.992462Z",
     "shell.execute_reply": "2021-07-14T07:49:26.991341Z",
     "shell.execute_reply.started": "2021-07-14T07:49:26.370874Z"
    }
   },
   "outputs": [
    {
     "data": {
      "image/png": "[encoded data removed]",
      "text/plain": [
       "<Figure size 1440x720 with 1 Axes>"
      ]
     },
     "metadata": {},
     "output_type": "display_data"
    }
   ],
   "source": [
    "plt.figure(figsize=(20,10))\n",
    "# 한글 출력을 위해서 폰트 옵션을 설정합니다.\n",
    "sns.set(font=\"NanumBarunGothic\", \n",
    "        rc={\"axes.unicode_minus\":False},\n",
    "        style='darkgrid')\n",
    "ax = sns.countplot(x=\"manufacturer\", data=df, palette=\"Set2\", order=tmp.index)\n",
    "plt.xticks(rotation=270)\n",
    "plt.show()"
   ]
  },
  {
   "cell_type": "code",
   "execution_count": 57,
   "metadata": {
    "execution": {
     "iopub.execute_input": "2021-07-14T07:49:26.993951Z",
     "iopub.status.busy": "2021-07-14T07:49:26.993680Z",
     "iopub.status.idle": "2021-07-14T07:49:27.004653Z",
     "shell.execute_reply": "2021-07-14T07:49:27.003514Z",
     "shell.execute_reply.started": "2021-07-14T07:49:26.993925Z"
    }
   },
   "outputs": [
    {
     "data": {
      "text/plain": [
       "Index(['비엠더블유코리아(주)', '메르세데스벤츠코리아(주)', '아우디폭스바겐코리아(주)', '한불모터스(주)',\n",
       "       '한국토요타자동차(주)', '(주)볼보자동차코리아', '현대자동차(주)', '기아자동차(주)', '(주) 한국모터트레이딩',\n",
       "       '한국지엠주식회사', '포드세일즈서비스코리아(유)', '화창상사(주)', '다임러트럭코리아(주)', '(주) 바이크코리아',\n",
       "       '만트럭버스코리아(주)', '혼다코리아(주)', '(주)에프엠케이', '에프씨에이코리아(주)', '(주)재규어랜드로버코리아',\n",
       "       '한국닛산(주)', '대전기계공업(주)', '르노삼성자동차(주)', '포르쉐코리아 주식회사', '유한회사 모토로싸',\n",
       "       '(주)스포츠모터사이클코리아', '기흥인터내셔널 유한회사', '허스크바나모터싸이클코리아 주식회사', '쌍용자동차(주)',\n",
       "       '(주)에이비케이', '(주) 다빈월드', '지엠아시아퍼시픽지역본부 주식회사', '아이씨피(주)', '(주)스즈키씨엠씨',\n",
       "       '스카니아코리아그룹(주)'],\n",
       "      dtype='object', name='manufacturer')"
      ]
     },
     "execution_count": 57,
     "metadata": {},
     "output_type": "execute_result"
    }
   ],
   "source": [
    "tmp.index"
   ]
  },
  {
   "cell_type": "markdown",
   "metadata": {},
   "source": [
    "#### Step by step\n",
    "* output"
   ]
  },
  {
   "cell_type": "code",
   "execution_count": 67,
   "metadata": {},
   "outputs": [
    {
     "data": {
      "text/html": [
       "<div>\n",
       "<style scoped>\n",
       "    .dataframe tbody tr th:only-of-type {\n",
       "        vertical-align: middle;\n",
       "    }\n",
       "\n",
       "    .dataframe tbody tr th {\n",
       "        vertical-align: top;\n",
       "    }\n",
       "\n",
       "    .dataframe thead th {\n",
       "        text-align: right;\n",
       "    }\n",
       "</style>\n",
       "<table border=\"1\" class=\"dataframe\">\n",
       "  <thead>\n",
       "    <tr style=\"text-align: right;\">\n",
       "      <th></th>\n",
       "      <th>count</th>\n",
       "    </tr>\n",
       "    <tr>\n",
       "      <th>manufacturer</th>\n",
       "      <th></th>\n",
       "    </tr>\n",
       "  </thead>\n",
       "  <tbody>\n",
       "    <tr>\n",
       "      <th>비엠더블유코리아(주)</th>\n",
       "      <td>527</td>\n",
       "    </tr>\n",
       "    <tr>\n",
       "      <th>메르세데스벤츠코리아(주)</th>\n",
       "      <td>234</td>\n",
       "    </tr>\n",
       "    <tr>\n",
       "      <th>아우디폭스바겐코리아(주)</th>\n",
       "      <td>115</td>\n",
       "    </tr>\n",
       "    <tr>\n",
       "      <th>한불모터스(주)</th>\n",
       "      <td>71</td>\n",
       "    </tr>\n",
       "    <tr>\n",
       "      <th>한국토요타자동차(주)</th>\n",
       "      <td>54</td>\n",
       "    </tr>\n",
       "  </tbody>\n",
       "</table>\n",
       "</div>"
      ],
      "text/plain": [
       "               count\n",
       "manufacturer        \n",
       "비엠더블유코리아(주)      527\n",
       "메르세데스벤츠코리아(주)    234\n",
       "아우디폭스바겐코리아(주)    115\n",
       "한불모터스(주)          71\n",
       "한국토요타자동차(주)       54"
      ]
     },
     "execution_count": 67,
     "metadata": {},
     "output_type": "execute_result"
    }
   ],
   "source": [
    "tmp = pd.DataFrame(df.groupby('manufacturer').count()['model'].sort_values(ascending=False)).rename(columns={'model':'count'})\n",
    "tmp.head()"
   ]
  },
  {
   "cell_type": "markdown",
   "metadata": {},
   "source": [
    "#### Step by step"
   ]
  },
  {
   "cell_type": "code",
   "execution_count": 70,
   "metadata": {},
   "outputs": [
    {
     "data": {
      "text/html": [
       "<div>\n",
       "<style scoped>\n",
       "    .dataframe tbody tr th:only-of-type {\n",
       "        vertical-align: middle;\n",
       "    }\n",
       "\n",
       "    .dataframe tbody tr th {\n",
       "        vertical-align: top;\n",
       "    }\n",
       "\n",
       "    .dataframe thead th {\n",
       "        text-align: right;\n",
       "    }\n",
       "</style>\n",
       "<table border=\"1\" class=\"dataframe\">\n",
       "  <thead>\n",
       "    <tr style=\"text-align: right;\">\n",
       "      <th></th>\n",
       "      <th>manufacturer</th>\n",
       "      <th>model</th>\n",
       "      <th>cause</th>\n",
       "      <th>start_year</th>\n",
       "      <th>start_month</th>\n",
       "      <th>start_day</th>\n",
       "      <th>end_year</th>\n",
       "      <th>end_month</th>\n",
       "      <th>end_day</th>\n",
       "      <th>recall_year</th>\n",
       "      <th>recall_month</th>\n",
       "      <th>recall_day</th>\n",
       "    </tr>\n",
       "  </thead>\n",
       "  <tbody>\n",
       "    <tr>\n",
       "      <th>0</th>\n",
       "      <td>(주)에프엠케이</td>\n",
       "      <td>기블리 디젤</td>\n",
       "      <td>스탑 &amp; 고 기능 작동 직후 재시동 불가 1) 결함 있는 구조 장치 : 원동기(스탑...</td>\n",
       "      <td>2014</td>\n",
       "      <td>5</td>\n",
       "      <td>28</td>\n",
       "      <td>2016</td>\n",
       "      <td>3</td>\n",
       "      <td>15</td>\n",
       "      <td>2020</td>\n",
       "      <td>3</td>\n",
       "      <td>23</td>\n",
       "    </tr>\n",
       "    <tr>\n",
       "      <th>1</th>\n",
       "      <td>(주)에프엠케이</td>\n",
       "      <td>콰트로포르테 디젤</td>\n",
       "      <td>스탑 &amp; 고 기능 작동 직후 재시동 불가 1) 결함 있는 구조 장치 : 원동기(스탑...</td>\n",
       "      <td>2014</td>\n",
       "      <td>5</td>\n",
       "      <td>8</td>\n",
       "      <td>2016</td>\n",
       "      <td>3</td>\n",
       "      <td>14</td>\n",
       "      <td>2020</td>\n",
       "      <td>3</td>\n",
       "      <td>23</td>\n",
       "    </tr>\n",
       "    <tr>\n",
       "      <th>2</th>\n",
       "      <td>한국토요타자동차(주)</td>\n",
       "      <td>토요타 프리우스</td>\n",
       "      <td>콤비네이션 미터(계기판) 내부 기판의 생산 설비 관리가 부적절하여, 기판의 회로부품...</td>\n",
       "      <td>2019</td>\n",
       "      <td>7</td>\n",
       "      <td>11</td>\n",
       "      <td>2019</td>\n",
       "      <td>7</td>\n",
       "      <td>31</td>\n",
       "      <td>2020</td>\n",
       "      <td>1</td>\n",
       "      <td>23</td>\n",
       "    </tr>\n",
       "    <tr>\n",
       "      <th>3</th>\n",
       "      <td>한국토요타자동차(주)</td>\n",
       "      <td>토요타 캠리</td>\n",
       "      <td>뒷좌석 시트벨트의 부품조립설비의 조정이 부적절하여, 시트벨트 리트랙터 잠금장치*내부...</td>\n",
       "      <td>2019</td>\n",
       "      <td>8</td>\n",
       "      <td>23</td>\n",
       "      <td>2019</td>\n",
       "      <td>9</td>\n",
       "      <td>6</td>\n",
       "      <td>2020</td>\n",
       "      <td>1</td>\n",
       "      <td>23</td>\n",
       "    </tr>\n",
       "  </tbody>\n",
       "</table>\n",
       "</div>"
      ],
      "text/plain": [
       "  manufacturer      model                                              cause  \\\n",
       "0     (주)에프엠케이     기블리 디젤  스탑 & 고 기능 작동 직후 재시동 불가 1) 결함 있는 구조 장치 : 원동기(스탑...   \n",
       "1     (주)에프엠케이  콰트로포르테 디젤  스탑 & 고 기능 작동 직후 재시동 불가 1) 결함 있는 구조 장치 : 원동기(스탑...   \n",
       "2  한국토요타자동차(주)   토요타 프리우스  콤비네이션 미터(계기판) 내부 기판의 생산 설비 관리가 부적절하여, 기판의 회로부품...   \n",
       "3  한국토요타자동차(주)     토요타 캠리  뒷좌석 시트벨트의 부품조립설비의 조정이 부적절하여, 시트벨트 리트랙터 잠금장치*내부...   \n",
       "\n",
       "   start_year  start_month  start_day  end_year  end_month  end_day  \\\n",
       "0        2014            5         28      2016          3       15   \n",
       "1        2014            5          8      2016          3       14   \n",
       "2        2019            7         11      2019          7       31   \n",
       "3        2019            8         23      2019          9        6   \n",
       "\n",
       "   recall_year  recall_month  recall_day  \n",
       "0         2020             3          23  \n",
       "1         2020             3          23  \n",
       "2         2020             1          23  \n",
       "3         2020             1          23  "
      ]
     },
     "execution_count": 70,
     "metadata": {},
     "output_type": "execute_result"
    }
   ],
   "source": [
    "df.head(4)"
   ]
  },
  {
   "cell_type": "code",
   "execution_count": 71,
   "metadata": {},
   "outputs": [
    {
     "name": "stdout",
     "output_type": "stream",
     "text": [
      "<class 'pandas.core.frame.DataFrame'>\n",
      "Int64Index: 1264 entries, 0 to 1274\n",
      "Data columns (total 12 columns):\n",
      " #   Column        Non-Null Count  Dtype \n",
      "---  ------        --------------  ----- \n",
      " 0   manufacturer  1264 non-null   object\n",
      " 1   model         1264 non-null   object\n",
      " 2   cause         1264 non-null   object\n",
      " 3   start_year    1264 non-null   int64 \n",
      " 4   start_month   1264 non-null   int64 \n",
      " 5   start_day     1264 non-null   int64 \n",
      " 6   end_year      1264 non-null   int64 \n",
      " 7   end_month     1264 non-null   int64 \n",
      " 8   end_day       1264 non-null   int64 \n",
      " 9   recall_year   1264 non-null   int64 \n",
      " 10  recall_month  1264 non-null   int64 \n",
      " 11  recall_day    1264 non-null   int64 \n",
      "dtypes: int64(9), object(3)\n",
      "memory usage: 128.4+ KB\n"
     ]
    }
   ],
   "source": [
    "df.info()"
   ]
  },
  {
   "cell_type": "code",
   "execution_count": 72,
   "metadata": {},
   "outputs": [
    {
     "data": {
      "text/html": [
       "<div>\n",
       "<style scoped>\n",
       "    .dataframe tbody tr th:only-of-type {\n",
       "        vertical-align: middle;\n",
       "    }\n",
       "\n",
       "    .dataframe tbody tr th {\n",
       "        vertical-align: top;\n",
       "    }\n",
       "\n",
       "    .dataframe thead th {\n",
       "        text-align: right;\n",
       "    }\n",
       "</style>\n",
       "<table border=\"1\" class=\"dataframe\">\n",
       "  <thead>\n",
       "    <tr style=\"text-align: right;\">\n",
       "      <th></th>\n",
       "      <th>model</th>\n",
       "      <th>cause</th>\n",
       "      <th>start_year</th>\n",
       "      <th>start_month</th>\n",
       "      <th>start_day</th>\n",
       "      <th>end_year</th>\n",
       "      <th>end_month</th>\n",
       "      <th>end_day</th>\n",
       "      <th>recall_year</th>\n",
       "      <th>recall_month</th>\n",
       "      <th>recall_day</th>\n",
       "    </tr>\n",
       "    <tr>\n",
       "      <th>manufacturer</th>\n",
       "      <th></th>\n",
       "      <th></th>\n",
       "      <th></th>\n",
       "      <th></th>\n",
       "      <th></th>\n",
       "      <th></th>\n",
       "      <th></th>\n",
       "      <th></th>\n",
       "      <th></th>\n",
       "      <th></th>\n",
       "      <th></th>\n",
       "    </tr>\n",
       "  </thead>\n",
       "  <tbody>\n",
       "    <tr>\n",
       "      <th>(주) 다빈월드</th>\n",
       "      <td>1</td>\n",
       "      <td>1</td>\n",
       "      <td>1</td>\n",
       "      <td>1</td>\n",
       "      <td>1</td>\n",
       "      <td>1</td>\n",
       "      <td>1</td>\n",
       "      <td>1</td>\n",
       "      <td>1</td>\n",
       "      <td>1</td>\n",
       "      <td>1</td>\n",
       "    </tr>\n",
       "    <tr>\n",
       "      <th>(주) 바이크코리아</th>\n",
       "      <td>12</td>\n",
       "      <td>12</td>\n",
       "      <td>12</td>\n",
       "      <td>12</td>\n",
       "      <td>12</td>\n",
       "      <td>12</td>\n",
       "      <td>12</td>\n",
       "      <td>12</td>\n",
       "      <td>12</td>\n",
       "      <td>12</td>\n",
       "      <td>12</td>\n",
       "    </tr>\n",
       "    <tr>\n",
       "      <th>(주) 한국모터트레이딩</th>\n",
       "      <td>16</td>\n",
       "      <td>16</td>\n",
       "      <td>16</td>\n",
       "      <td>16</td>\n",
       "      <td>16</td>\n",
       "      <td>16</td>\n",
       "      <td>16</td>\n",
       "      <td>16</td>\n",
       "      <td>16</td>\n",
       "      <td>16</td>\n",
       "      <td>16</td>\n",
       "    </tr>\n",
       "    <tr>\n",
       "      <th>(주)볼보자동차코리아</th>\n",
       "      <td>39</td>\n",
       "      <td>39</td>\n",
       "      <td>39</td>\n",
       "      <td>39</td>\n",
       "      <td>39</td>\n",
       "      <td>39</td>\n",
       "      <td>39</td>\n",
       "      <td>39</td>\n",
       "      <td>39</td>\n",
       "      <td>39</td>\n",
       "      <td>39</td>\n",
       "    </tr>\n",
       "  </tbody>\n",
       "</table>\n",
       "</div>"
      ],
      "text/plain": [
       "              model  cause  start_year  start_month  start_day  end_year  \\\n",
       "manufacturer                                                               \n",
       "(주) 다빈월드          1      1           1            1          1         1   \n",
       "(주) 바이크코리아       12     12          12           12         12        12   \n",
       "(주) 한국모터트레이딩     16     16          16           16         16        16   \n",
       "(주)볼보자동차코리아      39     39          39           39         39        39   \n",
       "\n",
       "              end_month  end_day  recall_year  recall_month  recall_day  \n",
       "manufacturer                                                             \n",
       "(주) 다빈월드              1        1            1             1           1  \n",
       "(주) 바이크코리아           12       12           12            12          12  \n",
       "(주) 한국모터트레이딩         16       16           16            16          16  \n",
       "(주)볼보자동차코리아          39       39           39            39          39  "
      ]
     },
     "execution_count": 72,
     "metadata": {},
     "output_type": "execute_result"
    }
   ],
   "source": [
    "df.groupby('manufacturer').count().head(4)"
   ]
  },
  {
   "cell_type": "code",
   "execution_count": 75,
   "metadata": {},
   "outputs": [
    {
     "data": {
      "text/plain": [
       "manufacturer\n",
       "(주) 다빈월드         1\n",
       "(주) 바이크코리아      12\n",
       "(주) 한국모터트레이딩    16\n",
       "(주)볼보자동차코리아     39\n",
       "(주)스즈키씨엠씨        1\n",
       "Name: model, dtype: int64"
      ]
     },
     "execution_count": 75,
     "metadata": {},
     "output_type": "execute_result"
    }
   ],
   "source": [
    "df.groupby('manufacturer').count()[\"model\"][0:5]"
   ]
  },
  {
   "cell_type": "code",
   "execution_count": 76,
   "metadata": {},
   "outputs": [
    {
     "data": {
      "text/plain": [
       "manufacturer\n",
       "비엠더블유코리아(주)      527\n",
       "메르세데스벤츠코리아(주)    234\n",
       "아우디폭스바겐코리아(주)    115\n",
       "한불모터스(주)          71\n",
       "한국토요타자동차(주)       54\n",
       "Name: model, dtype: int64"
      ]
     },
     "execution_count": 76,
     "metadata": {},
     "output_type": "execute_result"
    }
   ],
   "source": [
    "df.groupby('manufacturer').count()[\"model\"].sort_values(ascending=False)[0:5]"
   ]
  },
  {
   "cell_type": "code",
   "execution_count": 77,
   "metadata": {},
   "outputs": [
    {
     "data": {
      "text/html": [
       "<div>\n",
       "<style scoped>\n",
       "    .dataframe tbody tr th:only-of-type {\n",
       "        vertical-align: middle;\n",
       "    }\n",
       "\n",
       "    .dataframe tbody tr th {\n",
       "        vertical-align: top;\n",
       "    }\n",
       "\n",
       "    .dataframe thead th {\n",
       "        text-align: right;\n",
       "    }\n",
       "</style>\n",
       "<table border=\"1\" class=\"dataframe\">\n",
       "  <thead>\n",
       "    <tr style=\"text-align: right;\">\n",
       "      <th></th>\n",
       "      <th>model</th>\n",
       "    </tr>\n",
       "    <tr>\n",
       "      <th>manufacturer</th>\n",
       "      <th></th>\n",
       "    </tr>\n",
       "  </thead>\n",
       "  <tbody>\n",
       "    <tr>\n",
       "      <th>비엠더블유코리아(주)</th>\n",
       "      <td>527</td>\n",
       "    </tr>\n",
       "    <tr>\n",
       "      <th>메르세데스벤츠코리아(주)</th>\n",
       "      <td>234</td>\n",
       "    </tr>\n",
       "    <tr>\n",
       "      <th>아우디폭스바겐코리아(주)</th>\n",
       "      <td>115</td>\n",
       "    </tr>\n",
       "    <tr>\n",
       "      <th>한불모터스(주)</th>\n",
       "      <td>71</td>\n",
       "    </tr>\n",
       "    <tr>\n",
       "      <th>한국토요타자동차(주)</th>\n",
       "      <td>54</td>\n",
       "    </tr>\n",
       "  </tbody>\n",
       "</table>\n",
       "</div>"
      ],
      "text/plain": [
       "               model\n",
       "manufacturer        \n",
       "비엠더블유코리아(주)      527\n",
       "메르세데스벤츠코리아(주)    234\n",
       "아우디폭스바겐코리아(주)    115\n",
       "한불모터스(주)          71\n",
       "한국토요타자동차(주)       54"
      ]
     },
     "execution_count": 77,
     "metadata": {},
     "output_type": "execute_result"
    }
   ],
   "source": [
    "pd.DataFrame(df.groupby('manufacturer').count()[\"model\"].sort_values(ascending=False)).head(5)"
   ]
  },
  {
   "cell_type": "code",
   "execution_count": 78,
   "metadata": {},
   "outputs": [
    {
     "data": {
      "text/html": [
       "<div>\n",
       "<style scoped>\n",
       "    .dataframe tbody tr th:only-of-type {\n",
       "        vertical-align: middle;\n",
       "    }\n",
       "\n",
       "    .dataframe tbody tr th {\n",
       "        vertical-align: top;\n",
       "    }\n",
       "\n",
       "    .dataframe thead th {\n",
       "        text-align: right;\n",
       "    }\n",
       "</style>\n",
       "<table border=\"1\" class=\"dataframe\">\n",
       "  <thead>\n",
       "    <tr style=\"text-align: right;\">\n",
       "      <th></th>\n",
       "      <th>count</th>\n",
       "    </tr>\n",
       "    <tr>\n",
       "      <th>manufacturer</th>\n",
       "      <th></th>\n",
       "    </tr>\n",
       "  </thead>\n",
       "  <tbody>\n",
       "    <tr>\n",
       "      <th>비엠더블유코리아(주)</th>\n",
       "      <td>527</td>\n",
       "    </tr>\n",
       "    <tr>\n",
       "      <th>메르세데스벤츠코리아(주)</th>\n",
       "      <td>234</td>\n",
       "    </tr>\n",
       "    <tr>\n",
       "      <th>아우디폭스바겐코리아(주)</th>\n",
       "      <td>115</td>\n",
       "    </tr>\n",
       "    <tr>\n",
       "      <th>한불모터스(주)</th>\n",
       "      <td>71</td>\n",
       "    </tr>\n",
       "    <tr>\n",
       "      <th>한국토요타자동차(주)</th>\n",
       "      <td>54</td>\n",
       "    </tr>\n",
       "  </tbody>\n",
       "</table>\n",
       "</div>"
      ],
      "text/plain": [
       "               count\n",
       "manufacturer        \n",
       "비엠더블유코리아(주)      527\n",
       "메르세데스벤츠코리아(주)    234\n",
       "아우디폭스바겐코리아(주)    115\n",
       "한불모터스(주)          71\n",
       "한국토요타자동차(주)       54"
      ]
     },
     "execution_count": 78,
     "metadata": {},
     "output_type": "execute_result"
    }
   ],
   "source": [
    "pd.DataFrame(df.groupby('manufacturer').count()[\"model\"].sort_values(ascending=False)).rename(columns={'model':'count'}).head(5)"
   ]
  },
  {
   "cell_type": "markdown",
   "metadata": {},
   "source": [
    "### 3.2. 모델별 리콜 현황 출력"
   ]
  },
  {
   "cell_type": "markdown",
   "metadata": {},
   "source": [
    "차량 모델별 리콜 건수 분포를 막대 그래프로 확인"
   ]
  },
  {
   "cell_type": "code",
   "execution_count": 79,
   "metadata": {
    "execution": {
     "iopub.execute_input": "2021-07-14T07:49:27.006811Z",
     "iopub.status.busy": "2021-07-14T07:49:27.006367Z",
     "iopub.status.idle": "2021-07-14T07:49:27.026674Z",
     "shell.execute_reply": "2021-07-14T07:49:27.025647Z",
     "shell.execute_reply.started": "2021-07-14T07:49:27.006765Z"
    }
   },
   "outputs": [
    {
     "data": {
      "text/html": [
       "<div>\n",
       "<style scoped>\n",
       "    .dataframe tbody tr th:only-of-type {\n",
       "        vertical-align: middle;\n",
       "    }\n",
       "\n",
       "    .dataframe tbody tr th {\n",
       "        vertical-align: top;\n",
       "    }\n",
       "\n",
       "    .dataframe thead th {\n",
       "        text-align: right;\n",
       "    }\n",
       "</style>\n",
       "<table border=\"1\" class=\"dataframe\">\n",
       "  <thead>\n",
       "    <tr style=\"text-align: right;\">\n",
       "      <th></th>\n",
       "      <th>count</th>\n",
       "    </tr>\n",
       "    <tr>\n",
       "      <th>model</th>\n",
       "      <th></th>\n",
       "    </tr>\n",
       "  </thead>\n",
       "  <tbody>\n",
       "    <tr>\n",
       "      <th>BMW 320d</th>\n",
       "      <td>15</td>\n",
       "    </tr>\n",
       "    <tr>\n",
       "      <th>BMW 520d</th>\n",
       "      <td>15</td>\n",
       "    </tr>\n",
       "    <tr>\n",
       "      <th>BMW X3 xDrive20d</th>\n",
       "      <td>11</td>\n",
       "    </tr>\n",
       "    <tr>\n",
       "      <th>BMW 520d xDrive</th>\n",
       "      <td>10</td>\n",
       "    </tr>\n",
       "    <tr>\n",
       "      <th>BMW 320d Gran Turismo</th>\n",
       "      <td>9</td>\n",
       "    </tr>\n",
       "    <tr>\n",
       "      <th>BMW X6 xDrive30d</th>\n",
       "      <td>9</td>\n",
       "    </tr>\n",
       "    <tr>\n",
       "      <th>MINI Cooper D</th>\n",
       "      <td>8</td>\n",
       "    </tr>\n",
       "    <tr>\n",
       "      <th>BMW 320d xDrive Gran Turismo</th>\n",
       "      <td>8</td>\n",
       "    </tr>\n",
       "    <tr>\n",
       "      <th>BMW X5 xDrive30d</th>\n",
       "      <td>8</td>\n",
       "    </tr>\n",
       "    <tr>\n",
       "      <th>3세대 뉴 스프린터</th>\n",
       "      <td>8</td>\n",
       "    </tr>\n",
       "  </tbody>\n",
       "</table>\n",
       "</div>"
      ],
      "text/plain": [
       "                              count\n",
       "model                              \n",
       "BMW 320d                         15\n",
       "BMW 520d                         15\n",
       "BMW X3 xDrive20d                 11\n",
       "BMW 520d xDrive                  10\n",
       "BMW 320d Gran Turismo             9\n",
       "BMW X6 xDrive30d                  9\n",
       "MINI Cooper D                     8\n",
       "BMW 320d xDrive Gran Turismo      8\n",
       "BMW X5 xDrive30d                  8\n",
       "3세대 뉴 스프린터                        8"
      ]
     },
     "execution_count": 79,
     "metadata": {},
     "output_type": "execute_result"
    }
   ],
   "source": [
    "pd.DataFrame(df.groupby(\"model\").count()[\"start_year\"].sort_values(ascending=False)).rename(columns={\"start_year\": \"count\"}).head(10)"
   ]
  },
  {
   "cell_type": "markdown",
   "metadata": {},
   "source": [
    "상위 50개 모델만 뽑아서 시각화"
   ]
  },
  {
   "cell_type": "code",
   "execution_count": 80,
   "metadata": {
    "execution": {
     "iopub.execute_input": "2021-07-14T07:49:27.028396Z",
     "iopub.status.busy": "2021-07-14T07:49:27.028036Z",
     "iopub.status.idle": "2021-07-14T07:49:27.040380Z",
     "shell.execute_reply": "2021-07-14T07:49:27.039366Z",
     "shell.execute_reply.started": "2021-07-14T07:49:27.028364Z"
    }
   },
   "outputs": [],
   "source": [
    "tmp = pd.DataFrame(df.groupby(\"model\").count()[\"manufacturer\"].sort_values(ascending=False))\n",
    "tmp = tmp.rename(columns={\"manufacturer\": \"count\"}).iloc[:50]"
   ]
  },
  {
   "cell_type": "code",
   "execution_count": 81,
   "metadata": {},
   "outputs": [
    {
     "data": {
      "text/plain": [
       "50"
      ]
     },
     "execution_count": 81,
     "metadata": {},
     "output_type": "execute_result"
    }
   ],
   "source": [
    "len(tmp)"
   ]
  },
  {
   "cell_type": "markdown",
   "metadata": {},
   "source": [
    "* 1"
   ]
  },
  {
   "cell_type": "code",
   "execution_count": 82,
   "metadata": {
    "execution": {
     "iopub.execute_input": "2021-07-14T07:49:27.042610Z",
     "iopub.status.busy": "2021-07-14T07:49:27.042015Z",
     "iopub.status.idle": "2021-07-14T07:49:28.580484Z",
     "shell.execute_reply": "2021-07-14T07:49:28.579292Z",
     "shell.execute_reply.started": "2021-07-14T07:49:27.042561Z"
    }
   },
   "outputs": [
    {
     "data": {
      "image/png": "[encoded data removed]",
      "text/plain": [
       "<Figure size 720x360 with 1 Axes>"
      ]
     },
     "metadata": {},
     "output_type": "display_data"
    }
   ],
   "source": [
    "# 그래프의 사이즈를 조절합니다.\n",
    "plt.figure(figsize=(10,5))\n",
    "\n",
    "# seaborn의 countplot 함수를 사용하여 출력합니다.\n",
    "sns.set(font=\"NanumBarunGothic\", \n",
    "        rc={\"axes.unicode_minus\":False},\n",
    "        style='darkgrid')\n",
    "ax = sns.countplot(x=\"model\", data=df[df.model.isin(tmp.index)], palette=\"Set2\", order=tmp.index)\n",
    "plt.xticks(rotation=270)\n",
    "plt.show()"
   ]
  },
  {
   "cell_type": "markdown",
   "metadata": {},
   "source": [
    "* 2"
   ]
  },
  {
   "cell_type": "code",
   "execution_count": 83,
   "metadata": {},
   "outputs": [
    {
     "data": {
      "image/png": "[encoded data removed]",
      "text/plain": [
       "<Figure size 720x360 with 1 Axes>"
      ]
     },
     "metadata": {},
     "output_type": "display_data"
    }
   ],
   "source": [
    "plt.figure(figsize=(10,5))\n",
    "ax = sns.countplot(x=\"model\", data=df[df.model.isin(tmp.index)], palette=\"Set2\", order=tmp.index)\n",
    "plt.xticks(rotation=270)\n",
    "plt.show()"
   ]
  },
  {
   "cell_type": "markdown",
   "metadata": {},
   "source": [
    "2020년에 전체적으로 BMW 모델이 많이 리콜되었음을 확인할 수 있음"
   ]
  },
  {
   "cell_type": "markdown",
   "metadata": {},
   "source": [
    "### 3.3. 월별 리콜 현황 출력"
   ]
  },
  {
   "cell_type": "markdown",
   "metadata": {},
   "source": [
    "월별 리콜 건수 분포를 막대 그래프로 확인"
   ]
  },
  {
   "cell_type": "code",
   "execution_count": 93,
   "metadata": {
    "execution": {
     "iopub.execute_input": "2021-07-14T07:49:28.582542Z",
     "iopub.status.busy": "2021-07-14T07:49:28.582092Z",
     "iopub.status.idle": "2021-07-14T07:49:28.602347Z",
     "shell.execute_reply": "2021-07-14T07:49:28.600927Z",
     "shell.execute_reply.started": "2021-07-14T07:49:28.582500Z"
    }
   },
   "outputs": [
    {
     "data": {
      "text/html": [
       "<div>\n",
       "<style scoped>\n",
       "    .dataframe tbody tr th:only-of-type {\n",
       "        vertical-align: middle;\n",
       "    }\n",
       "\n",
       "    .dataframe tbody tr th {\n",
       "        vertical-align: top;\n",
       "    }\n",
       "\n",
       "    .dataframe thead th {\n",
       "        text-align: right;\n",
       "    }\n",
       "</style>\n",
       "<table border=\"1\" class=\"dataframe\">\n",
       "  <thead>\n",
       "    <tr style=\"text-align: right;\">\n",
       "      <th></th>\n",
       "      <th>count</th>\n",
       "    </tr>\n",
       "    <tr>\n",
       "      <th>recall_month</th>\n",
       "      <th></th>\n",
       "    </tr>\n",
       "  </thead>\n",
       "  <tbody>\n",
       "    <tr>\n",
       "      <th>8</th>\n",
       "      <td>221</td>\n",
       "    </tr>\n",
       "    <tr>\n",
       "      <th>10</th>\n",
       "      <td>161</td>\n",
       "    </tr>\n",
       "    <tr>\n",
       "      <th>6</th>\n",
       "      <td>155</td>\n",
       "    </tr>\n",
       "    <tr>\n",
       "      <th>12</th>\n",
       "      <td>116</td>\n",
       "    </tr>\n",
       "    <tr>\n",
       "      <th>4</th>\n",
       "      <td>114</td>\n",
       "    </tr>\n",
       "    <tr>\n",
       "      <th>2</th>\n",
       "      <td>108</td>\n",
       "    </tr>\n",
       "    <tr>\n",
       "      <th>3</th>\n",
       "      <td>108</td>\n",
       "    </tr>\n",
       "    <tr>\n",
       "      <th>9</th>\n",
       "      <td>72</td>\n",
       "    </tr>\n",
       "    <tr>\n",
       "      <th>5</th>\n",
       "      <td>68</td>\n",
       "    </tr>\n",
       "    <tr>\n",
       "      <th>7</th>\n",
       "      <td>68</td>\n",
       "    </tr>\n",
       "    <tr>\n",
       "      <th>11</th>\n",
       "      <td>46</td>\n",
       "    </tr>\n",
       "    <tr>\n",
       "      <th>1</th>\n",
       "      <td>27</td>\n",
       "    </tr>\n",
       "  </tbody>\n",
       "</table>\n",
       "</div>"
      ],
      "text/plain": [
       "              count\n",
       "recall_month       \n",
       "8               221\n",
       "10              161\n",
       "6               155\n",
       "12              116\n",
       "4               114\n",
       "2               108\n",
       "3               108\n",
       "9                72\n",
       "5                68\n",
       "7                68\n",
       "11               46\n",
       "1                27"
      ]
     },
     "execution_count": 93,
     "metadata": {},
     "output_type": "execute_result"
    }
   ],
   "source": [
    "pd.DataFrame(df.groupby(\"recall_month\").count()[\"start_year\"].sort_values(ascending=False)).rename(columns={\"start_year\": \"count\"})"
   ]
  },
  {
   "cell_type": "code",
   "execution_count": 94,
   "metadata": {
    "execution": {
     "iopub.execute_input": "2021-07-14T07:49:28.603985Z",
     "iopub.status.busy": "2021-07-14T07:49:28.603695Z",
     "iopub.status.idle": "2021-07-14T07:49:28.885772Z",
     "shell.execute_reply": "2021-07-14T07:49:28.884824Z",
     "shell.execute_reply.started": "2021-07-14T07:49:28.603958Z"
    }
   },
   "outputs": [
    {
     "data": {
      "image/png": "[encoded data removed]",
      "text/plain": [
       "<Figure size 720x360 with 1 Axes>"
      ]
     },
     "metadata": {},
     "output_type": "display_data"
    }
   ],
   "source": [
    "# 그래프의 사이즈를 조절합니다.\n",
    "plt.figure(figsize=(10,5))\n",
    "\n",
    "# seaborn의 countplot 함수를 사용하여 출력합니다.\n",
    "sns.set(style=\"darkgrid\")\n",
    "ax = sns.countplot(x=\"recall_month\", data=df, palette=\"Set2\")\n",
    "plt.show()"
   ]
  },
  {
   "cell_type": "markdown",
   "metadata": {},
   "source": [
    "---"
   ]
  },
  {
   "cell_type": "markdown",
   "metadata": {},
   "source": [
    "#### 제조사 비엠더블유코리아(주)에서 가장 많이 리콜 요청된 모델의 이름<br>\n",
    "모델별로 얼마나 발생했는지 계산<br>\n",
    "df[df['manufacturer']=='비엠더블유코리아(주)'].groupby('model')['cause'].count()\n",
    "* & 정렬<br>\n",
    ".reset_index().sort_values(by=['cause'], ascending=Fasle)"
   ]
  },
  {
   "cell_type": "code",
   "execution_count": 85,
   "metadata": {},
   "outputs": [
    {
     "data": {
      "text/plain": [
       "<pandas.core.groupby.generic.DataFrameGroupBy object at 0x7f3987dd8c40>"
      ]
     },
     "execution_count": 85,
     "metadata": {},
     "output_type": "execute_result"
    }
   ],
   "source": [
    "bmw_re = df[df['manufacturer']=='비엠더블유코리아(주)'].groupby('model')\n",
    "bmw_re"
   ]
  },
  {
   "cell_type": "code",
   "execution_count": 88,
   "metadata": {
    "scrolled": true
   },
   "outputs": [
    {
     "data": {
      "text/html": [
       "<div>\n",
       "<style scoped>\n",
       "    .dataframe tbody tr th:only-of-type {\n",
       "        vertical-align: middle;\n",
       "    }\n",
       "\n",
       "    .dataframe tbody tr th {\n",
       "        vertical-align: top;\n",
       "    }\n",
       "\n",
       "    .dataframe thead th {\n",
       "        text-align: right;\n",
       "    }\n",
       "</style>\n",
       "<table border=\"1\" class=\"dataframe\">\n",
       "  <thead>\n",
       "    <tr style=\"text-align: right;\">\n",
       "      <th></th>\n",
       "      <th>manufacturer</th>\n",
       "      <th>cause</th>\n",
       "      <th>start_year</th>\n",
       "      <th>start_month</th>\n",
       "      <th>start_day</th>\n",
       "      <th>end_year</th>\n",
       "      <th>end_month</th>\n",
       "      <th>end_day</th>\n",
       "      <th>recall_year</th>\n",
       "      <th>recall_month</th>\n",
       "      <th>recall_day</th>\n",
       "    </tr>\n",
       "    <tr>\n",
       "      <th>model</th>\n",
       "      <th></th>\n",
       "      <th></th>\n",
       "      <th></th>\n",
       "      <th></th>\n",
       "      <th></th>\n",
       "      <th></th>\n",
       "      <th></th>\n",
       "      <th></th>\n",
       "      <th></th>\n",
       "      <th></th>\n",
       "      <th></th>\n",
       "    </tr>\n",
       "  </thead>\n",
       "  <tbody>\n",
       "    <tr>\n",
       "      <th>BMW 118d</th>\n",
       "      <td>6</td>\n",
       "      <td>6</td>\n",
       "      <td>6</td>\n",
       "      <td>6</td>\n",
       "      <td>6</td>\n",
       "      <td>6</td>\n",
       "      <td>6</td>\n",
       "      <td>6</td>\n",
       "      <td>6</td>\n",
       "      <td>6</td>\n",
       "      <td>6</td>\n",
       "    </tr>\n",
       "    <tr>\n",
       "      <th>BMW 120d</th>\n",
       "      <td>6</td>\n",
       "      <td>6</td>\n",
       "      <td>6</td>\n",
       "      <td>6</td>\n",
       "      <td>6</td>\n",
       "      <td>6</td>\n",
       "      <td>6</td>\n",
       "      <td>6</td>\n",
       "      <td>6</td>\n",
       "      <td>6</td>\n",
       "      <td>6</td>\n",
       "    </tr>\n",
       "  </tbody>\n",
       "</table>\n",
       "</div>"
      ],
      "text/plain": [
       "          manufacturer  cause  start_year  start_month  start_day  end_year  \\\n",
       "model                                                                         \n",
       "BMW 118d             6      6           6            6          6         6   \n",
       "BMW 120d             6      6           6            6          6         6   \n",
       "\n",
       "          end_month  end_day  recall_year  recall_month  recall_day  \n",
       "model                                                                \n",
       "BMW 118d          6        6            6             6           6  \n",
       "BMW 120d          6        6            6             6           6  "
      ]
     },
     "execution_count": 88,
     "metadata": {},
     "output_type": "execute_result"
    }
   ],
   "source": [
    "bmw_re = df[df['manufacturer']=='비엠더블유코리아(주)'].groupby('model')\n",
    "bmw_re.count().head(2)"
   ]
  },
  {
   "cell_type": "code",
   "execution_count": 89,
   "metadata": {},
   "outputs": [
    {
     "data": {
      "text/html": [
       "<div>\n",
       "<style scoped>\n",
       "    .dataframe tbody tr th:only-of-type {\n",
       "        vertical-align: middle;\n",
       "    }\n",
       "\n",
       "    .dataframe tbody tr th {\n",
       "        vertical-align: top;\n",
       "    }\n",
       "\n",
       "    .dataframe thead th {\n",
       "        text-align: right;\n",
       "    }\n",
       "</style>\n",
       "<table border=\"1\" class=\"dataframe\">\n",
       "  <thead>\n",
       "    <tr style=\"text-align: right;\">\n",
       "      <th></th>\n",
       "      <th>model</th>\n",
       "      <th>cause</th>\n",
       "    </tr>\n",
       "  </thead>\n",
       "  <tbody>\n",
       "    <tr>\n",
       "      <th>0</th>\n",
       "      <td>BMW 118d</td>\n",
       "      <td>6</td>\n",
       "    </tr>\n",
       "    <tr>\n",
       "      <th>1</th>\n",
       "      <td>BMW 120d</td>\n",
       "      <td>6</td>\n",
       "    </tr>\n",
       "    <tr>\n",
       "      <th>2</th>\n",
       "      <td>BMW 220d</td>\n",
       "      <td>1</td>\n",
       "    </tr>\n",
       "    <tr>\n",
       "      <th>3</th>\n",
       "      <td>BMW 220d Coupe</td>\n",
       "      <td>5</td>\n",
       "    </tr>\n",
       "    <tr>\n",
       "      <th>4</th>\n",
       "      <td>BMW 3125Ci</td>\n",
       "      <td>1</td>\n",
       "    </tr>\n",
       "    <tr>\n",
       "      <th>...</th>\n",
       "      <td>...</td>\n",
       "      <td>...</td>\n",
       "    </tr>\n",
       "    <tr>\n",
       "      <th>147</th>\n",
       "      <td>MINI Cooper SD Coupe</td>\n",
       "      <td>3</td>\n",
       "    </tr>\n",
       "    <tr>\n",
       "      <th>148</th>\n",
       "      <td>MINI Cooper SD Paceman</td>\n",
       "      <td>3</td>\n",
       "    </tr>\n",
       "    <tr>\n",
       "      <th>149</th>\n",
       "      <td>MINI Cooper SD Paceman ALL4</td>\n",
       "      <td>3</td>\n",
       "    </tr>\n",
       "    <tr>\n",
       "      <th>150</th>\n",
       "      <td>MINI Cooper SD five-door</td>\n",
       "      <td>2</td>\n",
       "    </tr>\n",
       "    <tr>\n",
       "      <th>151</th>\n",
       "      <td>Rolls Royce Phantom</td>\n",
       "      <td>2</td>\n",
       "    </tr>\n",
       "  </tbody>\n",
       "</table>\n",
       "<p>152 rows × 2 columns</p>\n",
       "</div>"
      ],
      "text/plain": [
       "                           model  cause\n",
       "0                       BMW 118d      6\n",
       "1                       BMW 120d      6\n",
       "2                       BMW 220d      1\n",
       "3                 BMW 220d Coupe      5\n",
       "4                     BMW 3125Ci      1\n",
       "..                           ...    ...\n",
       "147         MINI Cooper SD Coupe      3\n",
       "148       MINI Cooper SD Paceman      3\n",
       "149  MINI Cooper SD Paceman ALL4      3\n",
       "150     MINI Cooper SD five-door      2\n",
       "151          Rolls Royce Phantom      2\n",
       "\n",
       "[152 rows x 2 columns]"
      ]
     },
     "execution_count": 89,
     "metadata": {},
     "output_type": "execute_result"
    }
   ],
   "source": [
    "df[df['manufacturer']=='비엠더블유코리아(주)'].groupby('model')['cause'].count().reset_index()"
   ]
  },
  {
   "cell_type": "code",
   "execution_count": 90,
   "metadata": {},
   "outputs": [
    {
     "data": {
      "text/html": [
       "<div>\n",
       "<style scoped>\n",
       "    .dataframe tbody tr th:only-of-type {\n",
       "        vertical-align: middle;\n",
       "    }\n",
       "\n",
       "    .dataframe tbody tr th {\n",
       "        vertical-align: top;\n",
       "    }\n",
       "\n",
       "    .dataframe thead th {\n",
       "        text-align: right;\n",
       "    }\n",
       "</style>\n",
       "<table border=\"1\" class=\"dataframe\">\n",
       "  <thead>\n",
       "    <tr style=\"text-align: right;\">\n",
       "      <th></th>\n",
       "      <th>model</th>\n",
       "      <th>cause</th>\n",
       "    </tr>\n",
       "  </thead>\n",
       "  <tbody>\n",
       "    <tr>\n",
       "      <th>11</th>\n",
       "      <td>BMW 320d</td>\n",
       "      <td>15</td>\n",
       "    </tr>\n",
       "    <tr>\n",
       "      <th>44</th>\n",
       "      <td>BMW 520d</td>\n",
       "      <td>15</td>\n",
       "    </tr>\n",
       "    <tr>\n",
       "      <th>93</th>\n",
       "      <td>BMW X3 xDrive20d</td>\n",
       "      <td>11</td>\n",
       "    </tr>\n",
       "    <tr>\n",
       "      <th>46</th>\n",
       "      <td>BMW 520d xDrive</td>\n",
       "      <td>10</td>\n",
       "    </tr>\n",
       "    <tr>\n",
       "      <th>14</th>\n",
       "      <td>BMW 320d Gran Turismo</td>\n",
       "      <td>9</td>\n",
       "    </tr>\n",
       "    <tr>\n",
       "      <th>...</th>\n",
       "      <td>...</td>\n",
       "      <td>...</td>\n",
       "    </tr>\n",
       "    <tr>\n",
       "      <th>124</th>\n",
       "      <td>BMW X7 M50i</td>\n",
       "      <td>1</td>\n",
       "    </tr>\n",
       "    <tr>\n",
       "      <th>23</th>\n",
       "      <td>BMW 325I</td>\n",
       "      <td>1</td>\n",
       "    </tr>\n",
       "    <tr>\n",
       "      <th>66</th>\n",
       "      <td>BMW 740d</td>\n",
       "      <td>1</td>\n",
       "    </tr>\n",
       "    <tr>\n",
       "      <th>127</th>\n",
       "      <td>BMW X7 xDrive40i</td>\n",
       "      <td>1</td>\n",
       "    </tr>\n",
       "    <tr>\n",
       "      <th>126</th>\n",
       "      <td>BMW X7 xDrive40d</td>\n",
       "      <td>1</td>\n",
       "    </tr>\n",
       "  </tbody>\n",
       "</table>\n",
       "<p>152 rows × 2 columns</p>\n",
       "</div>"
      ],
      "text/plain": [
       "                     model  cause\n",
       "11                BMW 320d     15\n",
       "44                BMW 520d     15\n",
       "93        BMW X3 xDrive20d     11\n",
       "46         BMW 520d xDrive     10\n",
       "14   BMW 320d Gran Turismo      9\n",
       "..                     ...    ...\n",
       "124            BMW X7 M50i      1\n",
       "23                BMW 325I      1\n",
       "66                BMW 740d      1\n",
       "127       BMW X7 xDrive40i      1\n",
       "126       BMW X7 xDrive40d      1\n",
       "\n",
       "[152 rows x 2 columns]"
      ]
     },
     "execution_count": 90,
     "metadata": {},
     "output_type": "execute_result"
    }
   ],
   "source": [
    "df[df['manufacturer']=='비엠더블유코리아(주)'].groupby('model')['cause'].count().reset_index().sort_values(by=['cause'], ascending=False)"
   ]
  },
  {
   "cell_type": "code",
   "execution_count": 91,
   "metadata": {},
   "outputs": [],
   "source": [
    "bmw_count = df[df['manufacturer']=='비엠더블유코리아(주)'].groupby('model')['cause'].count().reset_index().sort_values(by=['cause'], ascending=False)"
   ]
  },
  {
   "cell_type": "code",
   "execution_count": 92,
   "metadata": {},
   "outputs": [
    {
     "data": {
      "text/html": [
       "<div>\n",
       "<style scoped>\n",
       "    .dataframe tbody tr th:only-of-type {\n",
       "        vertical-align: middle;\n",
       "    }\n",
       "\n",
       "    .dataframe tbody tr th {\n",
       "        vertical-align: top;\n",
       "    }\n",
       "\n",
       "    .dataframe thead th {\n",
       "        text-align: right;\n",
       "    }\n",
       "</style>\n",
       "<table border=\"1\" class=\"dataframe\">\n",
       "  <thead>\n",
       "    <tr style=\"text-align: right;\">\n",
       "      <th></th>\n",
       "      <th>model</th>\n",
       "      <th>count</th>\n",
       "    </tr>\n",
       "  </thead>\n",
       "  <tbody>\n",
       "    <tr>\n",
       "      <th>11</th>\n",
       "      <td>BMW 320d</td>\n",
       "      <td>15</td>\n",
       "    </tr>\n",
       "    <tr>\n",
       "      <th>44</th>\n",
       "      <td>BMW 520d</td>\n",
       "      <td>15</td>\n",
       "    </tr>\n",
       "    <tr>\n",
       "      <th>93</th>\n",
       "      <td>BMW X3 xDrive20d</td>\n",
       "      <td>11</td>\n",
       "    </tr>\n",
       "    <tr>\n",
       "      <th>46</th>\n",
       "      <td>BMW 520d xDrive</td>\n",
       "      <td>10</td>\n",
       "    </tr>\n",
       "    <tr>\n",
       "      <th>14</th>\n",
       "      <td>BMW 320d Gran Turismo</td>\n",
       "      <td>9</td>\n",
       "    </tr>\n",
       "    <tr>\n",
       "      <th>...</th>\n",
       "      <td>...</td>\n",
       "      <td>...</td>\n",
       "    </tr>\n",
       "    <tr>\n",
       "      <th>124</th>\n",
       "      <td>BMW X7 M50i</td>\n",
       "      <td>1</td>\n",
       "    </tr>\n",
       "    <tr>\n",
       "      <th>23</th>\n",
       "      <td>BMW 325I</td>\n",
       "      <td>1</td>\n",
       "    </tr>\n",
       "    <tr>\n",
       "      <th>66</th>\n",
       "      <td>BMW 740d</td>\n",
       "      <td>1</td>\n",
       "    </tr>\n",
       "    <tr>\n",
       "      <th>127</th>\n",
       "      <td>BMW X7 xDrive40i</td>\n",
       "      <td>1</td>\n",
       "    </tr>\n",
       "    <tr>\n",
       "      <th>126</th>\n",
       "      <td>BMW X7 xDrive40d</td>\n",
       "      <td>1</td>\n",
       "    </tr>\n",
       "  </tbody>\n",
       "</table>\n",
       "<p>152 rows × 2 columns</p>\n",
       "</div>"
      ],
      "text/plain": [
       "                     model  count\n",
       "11                BMW 320d     15\n",
       "44                BMW 520d     15\n",
       "93        BMW X3 xDrive20d     11\n",
       "46         BMW 520d xDrive     10\n",
       "14   BMW 320d Gran Turismo      9\n",
       "..                     ...    ...\n",
       "124            BMW X7 M50i      1\n",
       "23                BMW 325I      1\n",
       "66                BMW 740d      1\n",
       "127       BMW X7 xDrive40i      1\n",
       "126       BMW X7 xDrive40d      1\n",
       "\n",
       "[152 rows x 2 columns]"
      ]
     },
     "execution_count": 92,
     "metadata": {},
     "output_type": "execute_result"
    }
   ],
   "source": [
    "bmw_count.rename(columns= {'cause':'count'})"
   ]
  },
  {
   "cell_type": "markdown",
   "metadata": {},
   "source": [
    "---"
   ]
  },
  {
   "cell_type": "markdown",
   "metadata": {},
   "source": [
    "### 3.4. 생산연도별 리콜 현황 출력"
   ]
  },
  {
   "cell_type": "markdown",
   "metadata": {},
   "source": [
    "이번에는 생산연도별 리콜 현황을 꺾은선 그래프로 알아보겠습니다."
   ]
  },
  {
   "cell_type": "code",
   "execution_count": 95,
   "metadata": {
    "execution": {
     "iopub.execute_input": "2021-07-14T07:49:28.889928Z",
     "iopub.status.busy": "2021-07-14T07:49:28.889622Z",
     "iopub.status.idle": "2021-07-14T07:49:29.175674Z",
     "shell.execute_reply": "2021-07-14T07:49:29.174749Z",
     "shell.execute_reply.started": "2021-07-14T07:49:28.889900Z"
    }
   },
   "outputs": [
    {
     "data": {
      "image/png": "[encoded data removed]",
      "text/plain": [
       "<Figure size 720x360 with 1 Axes>"
      ]
     },
     "metadata": {},
     "output_type": "display_data"
    }
   ],
   "source": [
    "tmp = pd.DataFrame(df.groupby(\"start_year\").count()[\"model\"]).rename(columns={\"model\": \"count\"}).reset_index()\n",
    "\n",
    "# 그래프의 사이즈를 조절합니다.\n",
    "plt.figure(figsize=(10,5))\n",
    "\n",
    "# seaborn의 countplot 함수를 사용하여 출력합니다.\n",
    "sns.set(style=\"darkgrid\")\n",
    "sns.lineplot(data=tmp, x=\"start_year\", y=\"count\")\n",
    "plt.show()"
   ]
  },
  {
   "cell_type": "code",
   "execution_count": 96,
   "metadata": {
    "execution": {
     "iopub.execute_input": "2021-07-14T07:49:29.177616Z",
     "iopub.status.busy": "2021-07-14T07:49:29.177347Z",
     "iopub.status.idle": "2021-07-14T07:49:29.187523Z",
     "shell.execute_reply": "2021-07-14T07:49:29.186633Z",
     "shell.execute_reply.started": "2021-07-14T07:49:29.177587Z"
    }
   },
   "outputs": [
    {
     "data": {
      "text/html": [
       "<div>\n",
       "<style scoped>\n",
       "    .dataframe tbody tr th:only-of-type {\n",
       "        vertical-align: middle;\n",
       "    }\n",
       "\n",
       "    .dataframe tbody tr th {\n",
       "        vertical-align: top;\n",
       "    }\n",
       "\n",
       "    .dataframe thead th {\n",
       "        text-align: right;\n",
       "    }\n",
       "</style>\n",
       "<table border=\"1\" class=\"dataframe\">\n",
       "  <thead>\n",
       "    <tr style=\"text-align: right;\">\n",
       "      <th></th>\n",
       "      <th>start_year</th>\n",
       "      <th>count</th>\n",
       "    </tr>\n",
       "  </thead>\n",
       "  <tbody>\n",
       "    <tr>\n",
       "      <th>0</th>\n",
       "      <td>1998</td>\n",
       "      <td>8</td>\n",
       "    </tr>\n",
       "    <tr>\n",
       "      <th>1</th>\n",
       "      <td>1999</td>\n",
       "      <td>10</td>\n",
       "    </tr>\n",
       "    <tr>\n",
       "      <th>2</th>\n",
       "      <td>2000</td>\n",
       "      <td>16</td>\n",
       "    </tr>\n",
       "    <tr>\n",
       "      <th>3</th>\n",
       "      <td>2001</td>\n",
       "      <td>22</td>\n",
       "    </tr>\n",
       "    <tr>\n",
       "      <th>4</th>\n",
       "      <td>2002</td>\n",
       "      <td>14</td>\n",
       "    </tr>\n",
       "    <tr>\n",
       "      <th>5</th>\n",
       "      <td>2003</td>\n",
       "      <td>13</td>\n",
       "    </tr>\n",
       "    <tr>\n",
       "      <th>6</th>\n",
       "      <td>2004</td>\n",
       "      <td>9</td>\n",
       "    </tr>\n",
       "    <tr>\n",
       "      <th>7</th>\n",
       "      <td>2005</td>\n",
       "      <td>10</td>\n",
       "    </tr>\n",
       "    <tr>\n",
       "      <th>8</th>\n",
       "      <td>2006</td>\n",
       "      <td>8</td>\n",
       "    </tr>\n",
       "    <tr>\n",
       "      <th>9</th>\n",
       "      <td>2007</td>\n",
       "      <td>5</td>\n",
       "    </tr>\n",
       "    <tr>\n",
       "      <th>10</th>\n",
       "      <td>2008</td>\n",
       "      <td>9</td>\n",
       "    </tr>\n",
       "    <tr>\n",
       "      <th>11</th>\n",
       "      <td>2009</td>\n",
       "      <td>12</td>\n",
       "    </tr>\n",
       "    <tr>\n",
       "      <th>12</th>\n",
       "      <td>2010</td>\n",
       "      <td>18</td>\n",
       "    </tr>\n",
       "    <tr>\n",
       "      <th>13</th>\n",
       "      <td>2011</td>\n",
       "      <td>39</td>\n",
       "    </tr>\n",
       "    <tr>\n",
       "      <th>14</th>\n",
       "      <td>2012</td>\n",
       "      <td>92</td>\n",
       "    </tr>\n",
       "    <tr>\n",
       "      <th>15</th>\n",
       "      <td>2013</td>\n",
       "      <td>99</td>\n",
       "    </tr>\n",
       "    <tr>\n",
       "      <th>16</th>\n",
       "      <td>2014</td>\n",
       "      <td>97</td>\n",
       "    </tr>\n",
       "    <tr>\n",
       "      <th>17</th>\n",
       "      <td>2015</td>\n",
       "      <td>101</td>\n",
       "    </tr>\n",
       "    <tr>\n",
       "      <th>18</th>\n",
       "      <td>2016</td>\n",
       "      <td>59</td>\n",
       "    </tr>\n",
       "    <tr>\n",
       "      <th>19</th>\n",
       "      <td>2017</td>\n",
       "      <td>121</td>\n",
       "    </tr>\n",
       "    <tr>\n",
       "      <th>20</th>\n",
       "      <td>2018</td>\n",
       "      <td>181</td>\n",
       "    </tr>\n",
       "    <tr>\n",
       "      <th>21</th>\n",
       "      <td>2019</td>\n",
       "      <td>175</td>\n",
       "    </tr>\n",
       "    <tr>\n",
       "      <th>22</th>\n",
       "      <td>2020</td>\n",
       "      <td>146</td>\n",
       "    </tr>\n",
       "  </tbody>\n",
       "</table>\n",
       "</div>"
      ],
      "text/plain": [
       "    start_year  count\n",
       "0         1998      8\n",
       "1         1999     10\n",
       "2         2000     16\n",
       "3         2001     22\n",
       "4         2002     14\n",
       "5         2003     13\n",
       "6         2004      9\n",
       "7         2005     10\n",
       "8         2006      8\n",
       "9         2007      5\n",
       "10        2008      9\n",
       "11        2009     12\n",
       "12        2010     18\n",
       "13        2011     39\n",
       "14        2012     92\n",
       "15        2013     99\n",
       "16        2014     97\n",
       "17        2015    101\n",
       "18        2016     59\n",
       "19        2017    121\n",
       "20        2018    181\n",
       "21        2019    175\n",
       "22        2020    146"
      ]
     },
     "execution_count": 96,
     "metadata": {},
     "output_type": "execute_result"
    }
   ],
   "source": [
    "tmp"
   ]
  },
  {
   "cell_type": "markdown",
   "metadata": {},
   "source": [
    "####  2020년에 리콜 개시가 가장 많이 일어난 달(month)과 가장 적게 일어난 달의 차이(건수)"
   ]
  },
  {
   "cell_type": "code",
   "execution_count": 100,
   "metadata": {},
   "outputs": [],
   "source": [
    "tmp = pd.DataFrame(df.groupby(\"recall_month\").count()[\"start_year\"].sort_values(ascending=False)).rename(columns={\"start_year\": \"count\"})"
   ]
  },
  {
   "cell_type": "code",
   "execution_count": 101,
   "metadata": {},
   "outputs": [
    {
     "data": {
      "text/plain": [
       "194"
      ]
     },
     "execution_count": 101,
     "metadata": {},
     "output_type": "execute_result"
    }
   ],
   "source": [
    "tmp.iloc[0][\"count\"]-tmp.iloc[-1][\"count\"]"
   ]
  },
  {
   "cell_type": "code",
   "execution_count": 115,
   "metadata": {},
   "outputs": [
    {
     "data": {
      "text/plain": [
       "194"
      ]
     },
     "execution_count": 115,
     "metadata": {},
     "output_type": "execute_result"
    }
   ],
   "source": [
    "tmp[\"count\"].iloc[0]-tmp[\"count\"].iloc[-1]"
   ]
  },
  {
   "cell_type": "code",
   "execution_count": 113,
   "metadata": {
    "execution": {
     "iopub.execute_input": "2021-07-14T07:49:29.197786Z",
     "iopub.status.busy": "2021-07-14T07:49:29.197409Z",
     "iopub.status.idle": "2021-07-14T07:49:29.210546Z",
     "shell.execute_reply": "2021-07-14T07:49:29.209468Z",
     "shell.execute_reply.started": "2021-07-14T07:49:29.197758Z"
    }
   },
   "outputs": [
    {
     "data": {
      "text/plain": [
       "221"
      ]
     },
     "execution_count": 113,
     "metadata": {},
     "output_type": "execute_result"
    }
   ],
   "source": [
    "pd.DataFrame(df.groupby('recall_month').count()['model'].sort_values(ascending=False)).rename(columns={'model':'count'}).iloc[0]['count']"
   ]
  },
  {
   "cell_type": "code",
   "execution_count": 114,
   "metadata": {},
   "outputs": [
    {
     "data": {
      "text/plain": [
       "27"
      ]
     },
     "execution_count": 114,
     "metadata": {},
     "output_type": "execute_result"
    }
   ],
   "source": [
    "pd.DataFrame(df.groupby('recall_month').count()['model'].sort_values(ascending=False)).rename(columns={'model':'count'}).iloc[-1]['count']"
   ]
  },
  {
   "cell_type": "code",
   "execution_count": 149,
   "metadata": {},
   "outputs": [
    {
     "data": {
      "text/html": [
       "<div>\n",
       "<style scoped>\n",
       "    .dataframe tbody tr th:only-of-type {\n",
       "        vertical-align: middle;\n",
       "    }\n",
       "\n",
       "    .dataframe tbody tr th {\n",
       "        vertical-align: top;\n",
       "    }\n",
       "\n",
       "    .dataframe thead th {\n",
       "        text-align: right;\n",
       "    }\n",
       "</style>\n",
       "<table border=\"1\" class=\"dataframe\">\n",
       "  <thead>\n",
       "    <tr style=\"text-align: right;\">\n",
       "      <th></th>\n",
       "      <th>count</th>\n",
       "    </tr>\n",
       "    <tr>\n",
       "      <th>recall_month</th>\n",
       "      <th></th>\n",
       "    </tr>\n",
       "  </thead>\n",
       "  <tbody>\n",
       "    <tr>\n",
       "      <th>8</th>\n",
       "      <td>221</td>\n",
       "    </tr>\n",
       "    <tr>\n",
       "      <th>10</th>\n",
       "      <td>161</td>\n",
       "    </tr>\n",
       "    <tr>\n",
       "      <th>6</th>\n",
       "      <td>155</td>\n",
       "    </tr>\n",
       "    <tr>\n",
       "      <th>12</th>\n",
       "      <td>116</td>\n",
       "    </tr>\n",
       "    <tr>\n",
       "      <th>4</th>\n",
       "      <td>114</td>\n",
       "    </tr>\n",
       "    <tr>\n",
       "      <th>2</th>\n",
       "      <td>108</td>\n",
       "    </tr>\n",
       "    <tr>\n",
       "      <th>3</th>\n",
       "      <td>108</td>\n",
       "    </tr>\n",
       "    <tr>\n",
       "      <th>9</th>\n",
       "      <td>72</td>\n",
       "    </tr>\n",
       "    <tr>\n",
       "      <th>5</th>\n",
       "      <td>68</td>\n",
       "    </tr>\n",
       "    <tr>\n",
       "      <th>7</th>\n",
       "      <td>68</td>\n",
       "    </tr>\n",
       "    <tr>\n",
       "      <th>11</th>\n",
       "      <td>46</td>\n",
       "    </tr>\n",
       "    <tr>\n",
       "      <th>1</th>\n",
       "      <td>27</td>\n",
       "    </tr>\n",
       "  </tbody>\n",
       "</table>\n",
       "</div>"
      ],
      "text/plain": [
       "              count\n",
       "recall_month       \n",
       "8               221\n",
       "10              161\n",
       "6               155\n",
       "12              116\n",
       "4               114\n",
       "2               108\n",
       "3               108\n",
       "9                72\n",
       "5                68\n",
       "7                68\n",
       "11               46\n",
       "1                27"
      ]
     },
     "execution_count": 149,
     "metadata": {},
     "output_type": "execute_result"
    }
   ],
   "source": [
    "tmp = pd.DataFrame(df.groupby(\"recall_month\").count()[\"start_year\"].sort_values(ascending=False)).rename(columns={\"start_year\": \"count\"})\n",
    "tmp"
   ]
  },
  {
   "cell_type": "code",
   "execution_count": 150,
   "metadata": {},
   "outputs": [
    {
     "data": {
      "text/html": [
       "<div>\n",
       "<style scoped>\n",
       "    .dataframe tbody tr th:only-of-type {\n",
       "        vertical-align: middle;\n",
       "    }\n",
       "\n",
       "    .dataframe tbody tr th {\n",
       "        vertical-align: top;\n",
       "    }\n",
       "\n",
       "    .dataframe thead th {\n",
       "        text-align: right;\n",
       "    }\n",
       "</style>\n",
       "<table border=\"1\" class=\"dataframe\">\n",
       "  <thead>\n",
       "    <tr style=\"text-align: right;\">\n",
       "      <th></th>\n",
       "      <th>recall_month</th>\n",
       "      <th>count</th>\n",
       "    </tr>\n",
       "  </thead>\n",
       "  <tbody>\n",
       "    <tr>\n",
       "      <th>0</th>\n",
       "      <td>8</td>\n",
       "      <td>221</td>\n",
       "    </tr>\n",
       "    <tr>\n",
       "      <th>1</th>\n",
       "      <td>10</td>\n",
       "      <td>161</td>\n",
       "    </tr>\n",
       "    <tr>\n",
       "      <th>2</th>\n",
       "      <td>6</td>\n",
       "      <td>155</td>\n",
       "    </tr>\n",
       "    <tr>\n",
       "      <th>3</th>\n",
       "      <td>12</td>\n",
       "      <td>116</td>\n",
       "    </tr>\n",
       "    <tr>\n",
       "      <th>4</th>\n",
       "      <td>4</td>\n",
       "      <td>114</td>\n",
       "    </tr>\n",
       "    <tr>\n",
       "      <th>5</th>\n",
       "      <td>2</td>\n",
       "      <td>108</td>\n",
       "    </tr>\n",
       "    <tr>\n",
       "      <th>6</th>\n",
       "      <td>3</td>\n",
       "      <td>108</td>\n",
       "    </tr>\n",
       "    <tr>\n",
       "      <th>7</th>\n",
       "      <td>9</td>\n",
       "      <td>72</td>\n",
       "    </tr>\n",
       "    <tr>\n",
       "      <th>8</th>\n",
       "      <td>5</td>\n",
       "      <td>68</td>\n",
       "    </tr>\n",
       "    <tr>\n",
       "      <th>9</th>\n",
       "      <td>7</td>\n",
       "      <td>68</td>\n",
       "    </tr>\n",
       "    <tr>\n",
       "      <th>10</th>\n",
       "      <td>11</td>\n",
       "      <td>46</td>\n",
       "    </tr>\n",
       "    <tr>\n",
       "      <th>11</th>\n",
       "      <td>1</td>\n",
       "      <td>27</td>\n",
       "    </tr>\n",
       "  </tbody>\n",
       "</table>\n",
       "</div>"
      ],
      "text/plain": [
       "    recall_month  count\n",
       "0              8    221\n",
       "1             10    161\n",
       "2              6    155\n",
       "3             12    116\n",
       "4              4    114\n",
       "5              2    108\n",
       "6              3    108\n",
       "7              9     72\n",
       "8              5     68\n",
       "9              7     68\n",
       "10            11     46\n",
       "11             1     27"
      ]
     },
     "execution_count": 150,
     "metadata": {},
     "output_type": "execute_result"
    }
   ],
   "source": [
    "# index로 인식되는 recall_month를 columns로 \n",
    "tmp = tmp.reset_index()\n",
    "tmp"
   ]
  },
  {
   "cell_type": "code",
   "execution_count": 151,
   "metadata": {},
   "outputs": [
    {
     "data": {
      "text/plain": [
       "0      8\n",
       "1     10\n",
       "2      6\n",
       "3     12\n",
       "4      4\n",
       "5      2\n",
       "6      3\n",
       "7      9\n",
       "8      5\n",
       "9      7\n",
       "10    11\n",
       "11     1\n",
       "Name: recall_month, dtype: int64"
      ]
     },
     "execution_count": 151,
     "metadata": {},
     "output_type": "execute_result"
    }
   ],
   "source": [
    "tmp['recall_month'] # columns로 인식되고 있는지 확인"
   ]
  },
  {
   "cell_type": "code",
   "execution_count": 152,
   "metadata": {},
   "outputs": [
    {
     "data": {
      "text/plain": [
       "194"
      ]
     },
     "execution_count": 152,
     "metadata": {},
     "output_type": "execute_result"
    }
   ],
   "source": [
    "tmp['count'].max() - tmp['count'].min()"
   ]
  },
  {
   "cell_type": "code",
   "execution_count": 155,
   "metadata": {},
   "outputs": [
    {
     "data": {
      "image/png": "[encoded data removed]",
      "text/plain": [
       "<Figure size 720x360 with 1 Axes>"
      ]
     },
     "metadata": {},
     "output_type": "display_data"
    }
   ],
   "source": [
    "# 그래프의 사이즈를 조절합니다.\n",
    "plt.figure(figsize=(10,5))\n",
    "\n",
    "# seaborn의 countplot 함수를 사용하여 출력합니다.\n",
    "sns.set(style=\"darkgrid\")\n",
    "ax = sns.countplot(x=\"recall_month\", data=df, palette=\"Set2\")\n",
    "plt.show()"
   ]
  },
  {
   "cell_type": "markdown",
   "metadata": {},
   "source": [
    "### 3.5. 4분기 제조사별 리콜 현황 출력"
   ]
  },
  {
   "cell_type": "markdown",
   "metadata": {},
   "source": [
    "가장 최근 데이터인 2020년 4분기(10, 11, 12월) 제조사별 리콜 현황을 시각화\n",
    "> df[df.특정 조건] = 조건을 만족하는 row만 불러옴"
   ]
  },
  {
   "cell_type": "code",
   "execution_count": 118,
   "metadata": {
    "execution": {
     "iopub.execute_input": "2021-07-14T07:51:46.732099Z",
     "iopub.status.busy": "2021-07-14T07:51:46.731737Z",
     "iopub.status.idle": "2021-07-14T07:51:46.753539Z",
     "shell.execute_reply": "2021-07-14T07:51:46.752291Z",
     "shell.execute_reply.started": "2021-07-14T07:51:46.732069Z"
    },
    "scrolled": true
   },
   "outputs": [
    {
     "data": {
      "text/html": [
       "<div>\n",
       "<style scoped>\n",
       "    .dataframe tbody tr th:only-of-type {\n",
       "        vertical-align: middle;\n",
       "    }\n",
       "\n",
       "    .dataframe tbody tr th {\n",
       "        vertical-align: top;\n",
       "    }\n",
       "\n",
       "    .dataframe thead th {\n",
       "        text-align: right;\n",
       "    }\n",
       "</style>\n",
       "<table border=\"1\" class=\"dataframe\">\n",
       "  <thead>\n",
       "    <tr style=\"text-align: right;\">\n",
       "      <th></th>\n",
       "      <th>manufacturer</th>\n",
       "      <th>model</th>\n",
       "      <th>cause</th>\n",
       "      <th>start_year</th>\n",
       "      <th>start_month</th>\n",
       "      <th>start_day</th>\n",
       "      <th>end_year</th>\n",
       "      <th>end_month</th>\n",
       "      <th>end_day</th>\n",
       "      <th>recall_year</th>\n",
       "      <th>recall_month</th>\n",
       "      <th>recall_day</th>\n",
       "    </tr>\n",
       "  </thead>\n",
       "  <tbody>\n",
       "    <tr>\n",
       "      <th>439</th>\n",
       "      <td>비엠더블유코리아(주)</td>\n",
       "      <td>BMW 120d</td>\n",
       "      <td>당사는 당사의 EGR 쿨러가 이전 리콜 대상 EGR 쿨러에 비하여 개선되고 최적화 ...</td>\n",
       "      <td>2013</td>\n",
       "      <td>2</td>\n",
       "      <td>11</td>\n",
       "      <td>2014</td>\n",
       "      <td>11</td>\n",
       "      <td>24</td>\n",
       "      <td>2020</td>\n",
       "      <td>10</td>\n",
       "      <td>1</td>\n",
       "    </tr>\n",
       "    <tr>\n",
       "      <th>443</th>\n",
       "      <td>비엠더블유코리아(주)</td>\n",
       "      <td>BMW 220d Coupe</td>\n",
       "      <td>당사는 당사의 EGR 쿨러가 이전 리콜 대상 EGR 쿨러에 비하여 개선되고 최적화 ...</td>\n",
       "      <td>2013</td>\n",
       "      <td>10</td>\n",
       "      <td>11</td>\n",
       "      <td>2014</td>\n",
       "      <td>5</td>\n",
       "      <td>23</td>\n",
       "      <td>2020</td>\n",
       "      <td>10</td>\n",
       "      <td>1</td>\n",
       "    </tr>\n",
       "    <tr>\n",
       "      <th>447</th>\n",
       "      <td>비엠더블유코리아(주)</td>\n",
       "      <td>BMW 320d</td>\n",
       "      <td>당사는 당사의 EGR 쿨러가 이전 리콜 대상 EGR 쿨러에 비하여 개선되고 최적화 ...</td>\n",
       "      <td>2013</td>\n",
       "      <td>2</td>\n",
       "      <td>28</td>\n",
       "      <td>2015</td>\n",
       "      <td>6</td>\n",
       "      <td>30</td>\n",
       "      <td>2020</td>\n",
       "      <td>10</td>\n",
       "      <td>1</td>\n",
       "    </tr>\n",
       "  </tbody>\n",
       "</table>\n",
       "</div>"
      ],
      "text/plain": [
       "    manufacturer           model  \\\n",
       "439  비엠더블유코리아(주)        BMW 120d   \n",
       "443  비엠더블유코리아(주)  BMW 220d Coupe   \n",
       "447  비엠더블유코리아(주)        BMW 320d   \n",
       "\n",
       "                                                 cause  start_year  \\\n",
       "439  당사는 당사의 EGR 쿨러가 이전 리콜 대상 EGR 쿨러에 비하여 개선되고 최적화 ...        2013   \n",
       "443  당사는 당사의 EGR 쿨러가 이전 리콜 대상 EGR 쿨러에 비하여 개선되고 최적화 ...        2013   \n",
       "447  당사는 당사의 EGR 쿨러가 이전 리콜 대상 EGR 쿨러에 비하여 개선되고 최적화 ...        2013   \n",
       "\n",
       "     start_month  start_day  end_year  end_month  end_day  recall_year  \\\n",
       "439            2         11      2014         11       24         2020   \n",
       "443           10         11      2014          5       23         2020   \n",
       "447            2         28      2015          6       30         2020   \n",
       "\n",
       "     recall_month  recall_day  \n",
       "439            10           1  \n",
       "443            10           1  \n",
       "447            10           1  "
      ]
     },
     "execution_count": 118,
     "metadata": {},
     "output_type": "execute_result"
    }
   ],
   "source": [
    "# 논리연산을 이용한 조건을 다음과 같이 사용하면 해당 조건에 맞는 데이터를 출력할 수 있다.\n",
    "df[df.recall_month.isin([10,11,12])].head(3)"
   ]
  },
  {
   "cell_type": "markdown",
   "metadata": {},
   "source": [
    "#### Step by step"
   ]
  },
  {
   "cell_type": "markdown",
   "metadata": {},
   "source": [
    "* 하나짜리 였을 때"
   ]
  },
  {
   "cell_type": "code",
   "execution_count": 121,
   "metadata": {},
   "outputs": [
    {
     "data": {
      "text/plain": [
       "0     True\n",
       "1     True\n",
       "2    False\n",
       "3    False\n",
       "4    False\n",
       "Name: recall_month, dtype: bool"
      ]
     },
     "execution_count": 121,
     "metadata": {},
     "output_type": "execute_result"
    }
   ],
   "source": [
    "flag_s = df['recall_month'] ==3 # df[df['recall_month'] ==3].head(3)\n",
    "flag_s[0:5]"
   ]
  },
  {
   "cell_type": "code",
   "execution_count": 122,
   "metadata": {},
   "outputs": [
    {
     "data": {
      "text/html": [
       "<div>\n",
       "<style scoped>\n",
       "    .dataframe tbody tr th:only-of-type {\n",
       "        vertical-align: middle;\n",
       "    }\n",
       "\n",
       "    .dataframe tbody tr th {\n",
       "        vertical-align: top;\n",
       "    }\n",
       "\n",
       "    .dataframe thead th {\n",
       "        text-align: right;\n",
       "    }\n",
       "</style>\n",
       "<table border=\"1\" class=\"dataframe\">\n",
       "  <thead>\n",
       "    <tr style=\"text-align: right;\">\n",
       "      <th></th>\n",
       "      <th>manufacturer</th>\n",
       "      <th>model</th>\n",
       "      <th>cause</th>\n",
       "      <th>start_year</th>\n",
       "      <th>start_month</th>\n",
       "      <th>start_day</th>\n",
       "      <th>end_year</th>\n",
       "      <th>end_month</th>\n",
       "      <th>end_day</th>\n",
       "      <th>recall_year</th>\n",
       "      <th>recall_month</th>\n",
       "      <th>recall_day</th>\n",
       "    </tr>\n",
       "  </thead>\n",
       "  <tbody>\n",
       "    <tr>\n",
       "      <th>0</th>\n",
       "      <td>(주)에프엠케이</td>\n",
       "      <td>기블리 디젤</td>\n",
       "      <td>스탑 &amp; 고 기능 작동 직후 재시동 불가 1) 결함 있는 구조 장치 : 원동기(스탑...</td>\n",
       "      <td>2014</td>\n",
       "      <td>5</td>\n",
       "      <td>28</td>\n",
       "      <td>2016</td>\n",
       "      <td>3</td>\n",
       "      <td>15</td>\n",
       "      <td>2020</td>\n",
       "      <td>3</td>\n",
       "      <td>23</td>\n",
       "    </tr>\n",
       "    <tr>\n",
       "      <th>1</th>\n",
       "      <td>(주)에프엠케이</td>\n",
       "      <td>콰트로포르테 디젤</td>\n",
       "      <td>스탑 &amp; 고 기능 작동 직후 재시동 불가 1) 결함 있는 구조 장치 : 원동기(스탑...</td>\n",
       "      <td>2014</td>\n",
       "      <td>5</td>\n",
       "      <td>8</td>\n",
       "      <td>2016</td>\n",
       "      <td>3</td>\n",
       "      <td>14</td>\n",
       "      <td>2020</td>\n",
       "      <td>3</td>\n",
       "      <td>23</td>\n",
       "    </tr>\n",
       "    <tr>\n",
       "      <th>135</th>\n",
       "      <td>(주) 다빈월드</td>\n",
       "      <td>HJ100T-7C</td>\n",
       "      <td>배기량 변경으로 제원 정정을 하는 과정에서 담당자의 실수로 최고출력을 잘못 기재하여...</td>\n",
       "      <td>2016</td>\n",
       "      <td>8</td>\n",
       "      <td>24</td>\n",
       "      <td>2017</td>\n",
       "      <td>12</td>\n",
       "      <td>20</td>\n",
       "      <td>2020</td>\n",
       "      <td>3</td>\n",
       "      <td>2</td>\n",
       "    </tr>\n",
       "  </tbody>\n",
       "</table>\n",
       "</div>"
      ],
      "text/plain": [
       "    manufacturer      model  \\\n",
       "0       (주)에프엠케이     기블리 디젤   \n",
       "1       (주)에프엠케이  콰트로포르테 디젤   \n",
       "135     (주) 다빈월드  HJ100T-7C   \n",
       "\n",
       "                                                 cause  start_year  \\\n",
       "0    스탑 & 고 기능 작동 직후 재시동 불가 1) 결함 있는 구조 장치 : 원동기(스탑...        2014   \n",
       "1    스탑 & 고 기능 작동 직후 재시동 불가 1) 결함 있는 구조 장치 : 원동기(스탑...        2014   \n",
       "135  배기량 변경으로 제원 정정을 하는 과정에서 담당자의 실수로 최고출력을 잘못 기재하여...        2016   \n",
       "\n",
       "     start_month  start_day  end_year  end_month  end_day  recall_year  \\\n",
       "0              5         28      2016          3       15         2020   \n",
       "1              5          8      2016          3       14         2020   \n",
       "135            8         24      2017         12       20         2020   \n",
       "\n",
       "     recall_month  recall_day  \n",
       "0               3          23  \n",
       "1               3          23  \n",
       "135             3           2  "
      ]
     },
     "execution_count": 122,
     "metadata": {},
     "output_type": "execute_result"
    }
   ],
   "source": [
    "df[flag_s].head(3)"
   ]
  },
  {
   "cell_type": "code",
   "execution_count": 123,
   "metadata": {},
   "outputs": [
    {
     "data": {
      "text/html": [
       "<div>\n",
       "<style scoped>\n",
       "    .dataframe tbody tr th:only-of-type {\n",
       "        vertical-align: middle;\n",
       "    }\n",
       "\n",
       "    .dataframe tbody tr th {\n",
       "        vertical-align: top;\n",
       "    }\n",
       "\n",
       "    .dataframe thead th {\n",
       "        text-align: right;\n",
       "    }\n",
       "</style>\n",
       "<table border=\"1\" class=\"dataframe\">\n",
       "  <thead>\n",
       "    <tr style=\"text-align: right;\">\n",
       "      <th></th>\n",
       "      <th>manufacturer</th>\n",
       "      <th>model</th>\n",
       "      <th>cause</th>\n",
       "      <th>start_year</th>\n",
       "      <th>start_month</th>\n",
       "      <th>start_day</th>\n",
       "      <th>end_year</th>\n",
       "      <th>end_month</th>\n",
       "      <th>end_day</th>\n",
       "      <th>recall_year</th>\n",
       "      <th>recall_month</th>\n",
       "      <th>recall_day</th>\n",
       "    </tr>\n",
       "  </thead>\n",
       "  <tbody>\n",
       "    <tr>\n",
       "      <th>0</th>\n",
       "      <td>(주)에프엠케이</td>\n",
       "      <td>기블리 디젤</td>\n",
       "      <td>스탑 &amp; 고 기능 작동 직후 재시동 불가 1) 결함 있는 구조 장치 : 원동기(스탑...</td>\n",
       "      <td>2014</td>\n",
       "      <td>5</td>\n",
       "      <td>28</td>\n",
       "      <td>2016</td>\n",
       "      <td>3</td>\n",
       "      <td>15</td>\n",
       "      <td>2020</td>\n",
       "      <td>3</td>\n",
       "      <td>23</td>\n",
       "    </tr>\n",
       "    <tr>\n",
       "      <th>1</th>\n",
       "      <td>(주)에프엠케이</td>\n",
       "      <td>콰트로포르테 디젤</td>\n",
       "      <td>스탑 &amp; 고 기능 작동 직후 재시동 불가 1) 결함 있는 구조 장치 : 원동기(스탑...</td>\n",
       "      <td>2014</td>\n",
       "      <td>5</td>\n",
       "      <td>8</td>\n",
       "      <td>2016</td>\n",
       "      <td>3</td>\n",
       "      <td>14</td>\n",
       "      <td>2020</td>\n",
       "      <td>3</td>\n",
       "      <td>23</td>\n",
       "    </tr>\n",
       "  </tbody>\n",
       "</table>\n",
       "</div>"
      ],
      "text/plain": [
       "  manufacturer      model                                              cause  \\\n",
       "0     (주)에프엠케이     기블리 디젤  스탑 & 고 기능 작동 직후 재시동 불가 1) 결함 있는 구조 장치 : 원동기(스탑...   \n",
       "1     (주)에프엠케이  콰트로포르테 디젤  스탑 & 고 기능 작동 직후 재시동 불가 1) 결함 있는 구조 장치 : 원동기(스탑...   \n",
       "\n",
       "   start_year  start_month  start_day  end_year  end_month  end_day  \\\n",
       "0        2014            5         28      2016          3       15   \n",
       "1        2014            5          8      2016          3       14   \n",
       "\n",
       "   recall_year  recall_month  recall_day  \n",
       "0         2020             3          23  \n",
       "1         2020             3          23  "
      ]
     },
     "execution_count": 123,
     "metadata": {},
     "output_type": "execute_result"
    }
   ],
   "source": [
    "df.head(2)"
   ]
  },
  {
   "cell_type": "code",
   "execution_count": 124,
   "metadata": {},
   "outputs": [
    {
     "data": {
      "text/plain": [
       "0    3\n",
       "1    3\n",
       "2    1\n",
       "3    1\n",
       "4    1\n",
       "Name: recall_month, dtype: int64"
      ]
     },
     "execution_count": 124,
     "metadata": {},
     "output_type": "execute_result"
    }
   ],
   "source": [
    "df.recall_month[0:5]"
   ]
  },
  {
   "cell_type": "code",
   "execution_count": 125,
   "metadata": {},
   "outputs": [
    {
     "data": {
      "text/plain": [
       "0     True\n",
       "1     True\n",
       "2    False\n",
       "3    False\n",
       "4    False\n",
       "Name: recall_month, dtype: bool"
      ]
     },
     "execution_count": 125,
     "metadata": {},
     "output_type": "execute_result"
    }
   ],
   "source": [
    "df.recall_month.isin([2,3])[0:5]"
   ]
  },
  {
   "cell_type": "code",
   "execution_count": 126,
   "metadata": {},
   "outputs": [
    {
     "data": {
      "text/html": [
       "<div>\n",
       "<style scoped>\n",
       "    .dataframe tbody tr th:only-of-type {\n",
       "        vertical-align: middle;\n",
       "    }\n",
       "\n",
       "    .dataframe tbody tr th {\n",
       "        vertical-align: top;\n",
       "    }\n",
       "\n",
       "    .dataframe thead th {\n",
       "        text-align: right;\n",
       "    }\n",
       "</style>\n",
       "<table border=\"1\" class=\"dataframe\">\n",
       "  <thead>\n",
       "    <tr style=\"text-align: right;\">\n",
       "      <th></th>\n",
       "      <th>manufacturer</th>\n",
       "      <th>model</th>\n",
       "      <th>cause</th>\n",
       "      <th>start_year</th>\n",
       "      <th>start_month</th>\n",
       "      <th>start_day</th>\n",
       "      <th>end_year</th>\n",
       "      <th>end_month</th>\n",
       "      <th>end_day</th>\n",
       "      <th>recall_year</th>\n",
       "      <th>recall_month</th>\n",
       "      <th>recall_day</th>\n",
       "    </tr>\n",
       "  </thead>\n",
       "  <tbody>\n",
       "    <tr>\n",
       "      <th>0</th>\n",
       "      <td>(주)에프엠케이</td>\n",
       "      <td>기블리 디젤</td>\n",
       "      <td>스탑 &amp; 고 기능 작동 직후 재시동 불가 1) 결함 있는 구조 장치 : 원동기(스탑...</td>\n",
       "      <td>2014</td>\n",
       "      <td>5</td>\n",
       "      <td>28</td>\n",
       "      <td>2016</td>\n",
       "      <td>3</td>\n",
       "      <td>15</td>\n",
       "      <td>2020</td>\n",
       "      <td>3</td>\n",
       "      <td>23</td>\n",
       "    </tr>\n",
       "    <tr>\n",
       "      <th>1</th>\n",
       "      <td>(주)에프엠케이</td>\n",
       "      <td>콰트로포르테 디젤</td>\n",
       "      <td>스탑 &amp; 고 기능 작동 직후 재시동 불가 1) 결함 있는 구조 장치 : 원동기(스탑...</td>\n",
       "      <td>2014</td>\n",
       "      <td>5</td>\n",
       "      <td>8</td>\n",
       "      <td>2016</td>\n",
       "      <td>3</td>\n",
       "      <td>14</td>\n",
       "      <td>2020</td>\n",
       "      <td>3</td>\n",
       "      <td>23</td>\n",
       "    </tr>\n",
       "  </tbody>\n",
       "</table>\n",
       "</div>"
      ],
      "text/plain": [
       "  manufacturer      model                                              cause  \\\n",
       "0     (주)에프엠케이     기블리 디젤  스탑 & 고 기능 작동 직후 재시동 불가 1) 결함 있는 구조 장치 : 원동기(스탑...   \n",
       "1     (주)에프엠케이  콰트로포르테 디젤  스탑 & 고 기능 작동 직후 재시동 불가 1) 결함 있는 구조 장치 : 원동기(스탑...   \n",
       "\n",
       "   start_year  start_month  start_day  end_year  end_month  end_day  \\\n",
       "0        2014            5         28      2016          3       15   \n",
       "1        2014            5          8      2016          3       14   \n",
       "\n",
       "   recall_year  recall_month  recall_day  \n",
       "0         2020             3          23  \n",
       "1         2020             3          23  "
      ]
     },
     "execution_count": 126,
     "metadata": {},
     "output_type": "execute_result"
    }
   ],
   "source": [
    "df[df.recall_month.isin([2,3])].head(2)"
   ]
  },
  {
   "cell_type": "markdown",
   "metadata": {},
   "source": [
    "#### 그럼 2개 이상일 때는 flag series로는...?!\n",
    "* Series or Series"
   ]
  },
  {
   "cell_type": "code",
   "execution_count": 132,
   "metadata": {},
   "outputs": [
    {
     "data": {
      "text/plain": [
       "0     True\n",
       "1     True\n",
       "2    False\n",
       "3    False\n",
       "4    False\n",
       "Name: recall_month, dtype: bool"
      ]
     },
     "execution_count": 132,
     "metadata": {},
     "output_type": "execute_result"
    }
   ],
   "source": [
    "flag_s = (df['recall_month']==2) | (df['recall_month']==3)\n",
    "flag_s[0:5]"
   ]
  },
  {
   "cell_type": "code",
   "execution_count": 133,
   "metadata": {
    "scrolled": false
   },
   "outputs": [
    {
     "data": {
      "text/html": [
       "<div>\n",
       "<style scoped>\n",
       "    .dataframe tbody tr th:only-of-type {\n",
       "        vertical-align: middle;\n",
       "    }\n",
       "\n",
       "    .dataframe tbody tr th {\n",
       "        vertical-align: top;\n",
       "    }\n",
       "\n",
       "    .dataframe thead th {\n",
       "        text-align: right;\n",
       "    }\n",
       "</style>\n",
       "<table border=\"1\" class=\"dataframe\">\n",
       "  <thead>\n",
       "    <tr style=\"text-align: right;\">\n",
       "      <th></th>\n",
       "      <th>manufacturer</th>\n",
       "      <th>model</th>\n",
       "      <th>cause</th>\n",
       "      <th>start_year</th>\n",
       "      <th>start_month</th>\n",
       "      <th>start_day</th>\n",
       "      <th>end_year</th>\n",
       "      <th>end_month</th>\n",
       "      <th>end_day</th>\n",
       "      <th>recall_year</th>\n",
       "      <th>recall_month</th>\n",
       "      <th>recall_day</th>\n",
       "    </tr>\n",
       "  </thead>\n",
       "  <tbody>\n",
       "    <tr>\n",
       "      <th>0</th>\n",
       "      <td>(주)에프엠케이</td>\n",
       "      <td>기블리 디젤</td>\n",
       "      <td>스탑 &amp; 고 기능 작동 직후 재시동 불가 1) 결함 있는 구조 장치 : 원동기(스탑...</td>\n",
       "      <td>2014</td>\n",
       "      <td>5</td>\n",
       "      <td>28</td>\n",
       "      <td>2016</td>\n",
       "      <td>3</td>\n",
       "      <td>15</td>\n",
       "      <td>2020</td>\n",
       "      <td>3</td>\n",
       "      <td>23</td>\n",
       "    </tr>\n",
       "    <tr>\n",
       "      <th>1</th>\n",
       "      <td>(주)에프엠케이</td>\n",
       "      <td>콰트로포르테 디젤</td>\n",
       "      <td>스탑 &amp; 고 기능 작동 직후 재시동 불가 1) 결함 있는 구조 장치 : 원동기(스탑...</td>\n",
       "      <td>2014</td>\n",
       "      <td>5</td>\n",
       "      <td>8</td>\n",
       "      <td>2016</td>\n",
       "      <td>3</td>\n",
       "      <td>14</td>\n",
       "      <td>2020</td>\n",
       "      <td>3</td>\n",
       "      <td>23</td>\n",
       "    </tr>\n",
       "    <tr>\n",
       "      <th>29</th>\n",
       "      <td>아우디폭스바겐코리아(주)</td>\n",
       "      <td>Golf 1.4 TSI</td>\n",
       "      <td>특정 기간 내에 특정 공급 업체(Jedenak;이드낙)의 생산 공정 불량으로 인해,...</td>\n",
       "      <td>2010</td>\n",
       "      <td>12</td>\n",
       "      <td>1</td>\n",
       "      <td>2012</td>\n",
       "      <td>5</td>\n",
       "      <td>3</td>\n",
       "      <td>2020</td>\n",
       "      <td>2</td>\n",
       "      <td>28</td>\n",
       "    </tr>\n",
       "    <tr>\n",
       "      <th>30</th>\n",
       "      <td>아우디폭스바겐코리아(주)</td>\n",
       "      <td>Golf 1.6 TDI BMT</td>\n",
       "      <td>특정 기간 내에 특정 공급 업체(Jedenak;이드낙)의 생산 공정 불량으로 인해,...</td>\n",
       "      <td>2010</td>\n",
       "      <td>8</td>\n",
       "      <td>5</td>\n",
       "      <td>2016</td>\n",
       "      <td>11</td>\n",
       "      <td>5</td>\n",
       "      <td>2020</td>\n",
       "      <td>2</td>\n",
       "      <td>28</td>\n",
       "    </tr>\n",
       "    <tr>\n",
       "      <th>31</th>\n",
       "      <td>아우디폭스바겐코리아(주)</td>\n",
       "      <td>Jetta 1.6 TDI BMT</td>\n",
       "      <td>특정 기간 내에 특정 공급 업체(Jedenak;이드낙)의 생산 공정 불량으로 인해,...</td>\n",
       "      <td>2011</td>\n",
       "      <td>5</td>\n",
       "      <td>26</td>\n",
       "      <td>2012</td>\n",
       "      <td>9</td>\n",
       "      <td>28</td>\n",
       "      <td>2020</td>\n",
       "      <td>2</td>\n",
       "      <td>28</td>\n",
       "    </tr>\n",
       "  </tbody>\n",
       "</table>\n",
       "</div>"
      ],
      "text/plain": [
       "     manufacturer              model  \\\n",
       "0        (주)에프엠케이             기블리 디젤   \n",
       "1        (주)에프엠케이          콰트로포르테 디젤   \n",
       "29  아우디폭스바겐코리아(주)       Golf 1.4 TSI   \n",
       "30  아우디폭스바겐코리아(주)   Golf 1.6 TDI BMT   \n",
       "31  아우디폭스바겐코리아(주)  Jetta 1.6 TDI BMT   \n",
       "\n",
       "                                                cause  start_year  \\\n",
       "0   스탑 & 고 기능 작동 직후 재시동 불가 1) 결함 있는 구조 장치 : 원동기(스탑...        2014   \n",
       "1   스탑 & 고 기능 작동 직후 재시동 불가 1) 결함 있는 구조 장치 : 원동기(스탑...        2014   \n",
       "29  특정 기간 내에 특정 공급 업체(Jedenak;이드낙)의 생산 공정 불량으로 인해,...        2010   \n",
       "30  특정 기간 내에 특정 공급 업체(Jedenak;이드낙)의 생산 공정 불량으로 인해,...        2010   \n",
       "31  특정 기간 내에 특정 공급 업체(Jedenak;이드낙)의 생산 공정 불량으로 인해,...        2011   \n",
       "\n",
       "    start_month  start_day  end_year  end_month  end_day  recall_year  \\\n",
       "0             5         28      2016          3       15         2020   \n",
       "1             5          8      2016          3       14         2020   \n",
       "29           12          1      2012          5        3         2020   \n",
       "30            8          5      2016         11        5         2020   \n",
       "31            5         26      2012          9       28         2020   \n",
       "\n",
       "    recall_month  recall_day  \n",
       "0              3          23  \n",
       "1              3          23  \n",
       "29             2          28  \n",
       "30             2          28  \n",
       "31             2          28  "
      ]
     },
     "execution_count": 133,
     "metadata": {},
     "output_type": "execute_result"
    }
   ],
   "source": [
    "df[flag_s].head(5) # recall_month ==2 or ==3 모두 출력"
   ]
  },
  {
   "cell_type": "markdown",
   "metadata": {},
   "source": [
    "---"
   ]
  },
  {
   "cell_type": "code",
   "execution_count": 135,
   "metadata": {},
   "outputs": [
    {
     "data": {
      "image/png": "[encoded data removed]",
      "text/plain": [
       "<Figure size 720x360 with 1 Axes>"
      ]
     },
     "metadata": {},
     "output_type": "display_data"
    }
   ],
   "source": [
    "# 그래프를 출력\n",
    "plt.figure(figsize=(10,5))\n",
    "sns.set(font=\"NanumBarunGothic\", \n",
    "        rc={\"axes.unicode_minus\":False},\n",
    "        style='darkgrid')\n",
    "ax = sns.countplot(x=\"manufacturer\", data=df[df.recall_month.isin([10,11,12])], palette=\"Set2\")\n",
    "plt.xticks(rotation=270)\n",
    "plt.show()"
   ]
  },
  {
   "cell_type": "markdown",
   "metadata": {},
   "source": [
    "### 3.6. 하반기 생산연도별 리콜 현황 출력"
   ]
  },
  {
   "cell_type": "markdown",
   "metadata": {},
   "source": [
    "이번에는 2020년 하반기(7~12월)에 개시된 리콜 건들을 생산 개시 연도를 기준으로 시각화해봅시다."
   ]
  },
  {
   "cell_type": "code",
   "execution_count": 156,
   "metadata": {
    "execution": {
     "iopub.execute_input": "2021-07-14T07:52:05.090930Z",
     "iopub.status.busy": "2021-07-14T07:52:05.090552Z",
     "iopub.status.idle": "2021-07-14T07:52:05.114687Z",
     "shell.execute_reply": "2021-07-14T07:52:05.113535Z",
     "shell.execute_reply.started": "2021-07-14T07:52:05.090897Z"
    }
   },
   "outputs": [
    {
     "data": {
      "text/html": [
       "<div>\n",
       "<style scoped>\n",
       "    .dataframe tbody tr th:only-of-type {\n",
       "        vertical-align: middle;\n",
       "    }\n",
       "\n",
       "    .dataframe tbody tr th {\n",
       "        vertical-align: top;\n",
       "    }\n",
       "\n",
       "    .dataframe thead th {\n",
       "        text-align: right;\n",
       "    }\n",
       "</style>\n",
       "<table border=\"1\" class=\"dataframe\">\n",
       "  <thead>\n",
       "    <tr style=\"text-align: right;\">\n",
       "      <th></th>\n",
       "      <th>manufacturer</th>\n",
       "      <th>model</th>\n",
       "      <th>cause</th>\n",
       "      <th>start_year</th>\n",
       "      <th>start_month</th>\n",
       "      <th>start_day</th>\n",
       "      <th>end_year</th>\n",
       "      <th>end_month</th>\n",
       "      <th>end_day</th>\n",
       "      <th>recall_year</th>\n",
       "      <th>recall_month</th>\n",
       "      <th>recall_day</th>\n",
       "    </tr>\n",
       "  </thead>\n",
       "  <tbody>\n",
       "    <tr>\n",
       "      <th>437</th>\n",
       "      <td>비엠더블유코리아(주)</td>\n",
       "      <td>BMW 118d</td>\n",
       "      <td>당사는 당사의 EGR 쿨러가 이전 리콜 대상 EGR 쿨러에 비하여 개선되고 최적화 ...</td>\n",
       "      <td>2015</td>\n",
       "      <td>3</td>\n",
       "      <td>2</td>\n",
       "      <td>2019</td>\n",
       "      <td>4</td>\n",
       "      <td>29</td>\n",
       "      <td>2020</td>\n",
       "      <td>8</td>\n",
       "      <td>1</td>\n",
       "    </tr>\n",
       "    <tr>\n",
       "      <th>439</th>\n",
       "      <td>비엠더블유코리아(주)</td>\n",
       "      <td>BMW 120d</td>\n",
       "      <td>당사는 당사의 EGR 쿨러가 이전 리콜 대상 EGR 쿨러에 비하여 개선되고 최적화 ...</td>\n",
       "      <td>2013</td>\n",
       "      <td>2</td>\n",
       "      <td>11</td>\n",
       "      <td>2014</td>\n",
       "      <td>11</td>\n",
       "      <td>24</td>\n",
       "      <td>2020</td>\n",
       "      <td>10</td>\n",
       "      <td>1</td>\n",
       "    </tr>\n",
       "    <tr>\n",
       "      <th>441</th>\n",
       "      <td>비엠더블유코리아(주)</td>\n",
       "      <td>BMW 120d</td>\n",
       "      <td>당사는 당사의 EGR 쿨러가 이전 리콜 대상 EGR 쿨러에 비하여 개선되고 최적화 ...</td>\n",
       "      <td>2015</td>\n",
       "      <td>3</td>\n",
       "      <td>13</td>\n",
       "      <td>2015</td>\n",
       "      <td>4</td>\n",
       "      <td>15</td>\n",
       "      <td>2020</td>\n",
       "      <td>8</td>\n",
       "      <td>1</td>\n",
       "    </tr>\n",
       "    <tr>\n",
       "      <th>443</th>\n",
       "      <td>비엠더블유코리아(주)</td>\n",
       "      <td>BMW 220d Coupe</td>\n",
       "      <td>당사는 당사의 EGR 쿨러가 이전 리콜 대상 EGR 쿨러에 비하여 개선되고 최적화 ...</td>\n",
       "      <td>2013</td>\n",
       "      <td>10</td>\n",
       "      <td>11</td>\n",
       "      <td>2014</td>\n",
       "      <td>5</td>\n",
       "      <td>23</td>\n",
       "      <td>2020</td>\n",
       "      <td>10</td>\n",
       "      <td>1</td>\n",
       "    </tr>\n",
       "    <tr>\n",
       "      <th>445</th>\n",
       "      <td>비엠더블유코리아(주)</td>\n",
       "      <td>BMW 220d Coupe</td>\n",
       "      <td>당사는 당사의 EGR 쿨러가 이전 리콜 대상 EGR 쿨러에 비하여 개선되고 최적화 ...</td>\n",
       "      <td>2014</td>\n",
       "      <td>10</td>\n",
       "      <td>16</td>\n",
       "      <td>2015</td>\n",
       "      <td>2</td>\n",
       "      <td>25</td>\n",
       "      <td>2020</td>\n",
       "      <td>8</td>\n",
       "      <td>1</td>\n",
       "    </tr>\n",
       "  </tbody>\n",
       "</table>\n",
       "</div>"
      ],
      "text/plain": [
       "    manufacturer           model  \\\n",
       "437  비엠더블유코리아(주)        BMW 118d   \n",
       "439  비엠더블유코리아(주)        BMW 120d   \n",
       "441  비엠더블유코리아(주)        BMW 120d   \n",
       "443  비엠더블유코리아(주)  BMW 220d Coupe   \n",
       "445  비엠더블유코리아(주)  BMW 220d Coupe   \n",
       "\n",
       "                                                 cause  start_year  \\\n",
       "437  당사는 당사의 EGR 쿨러가 이전 리콜 대상 EGR 쿨러에 비하여 개선되고 최적화 ...        2015   \n",
       "439  당사는 당사의 EGR 쿨러가 이전 리콜 대상 EGR 쿨러에 비하여 개선되고 최적화 ...        2013   \n",
       "441  당사는 당사의 EGR 쿨러가 이전 리콜 대상 EGR 쿨러에 비하여 개선되고 최적화 ...        2015   \n",
       "443  당사는 당사의 EGR 쿨러가 이전 리콜 대상 EGR 쿨러에 비하여 개선되고 최적화 ...        2013   \n",
       "445  당사는 당사의 EGR 쿨러가 이전 리콜 대상 EGR 쿨러에 비하여 개선되고 최적화 ...        2014   \n",
       "\n",
       "     start_month  start_day  end_year  end_month  end_day  recall_year  \\\n",
       "437            3          2      2019          4       29         2020   \n",
       "439            2         11      2014         11       24         2020   \n",
       "441            3         13      2015          4       15         2020   \n",
       "443           10         11      2014          5       23         2020   \n",
       "445           10         16      2015          2       25         2020   \n",
       "\n",
       "     recall_month  recall_day  \n",
       "437             8           1  \n",
       "439            10           1  \n",
       "441             8           1  \n",
       "443            10           1  \n",
       "445             8           1  "
      ]
     },
     "execution_count": 156,
     "metadata": {},
     "output_type": "execute_result"
    }
   ],
   "source": [
    "# 해당 column을 지정하여 series 형태로 출력\n",
    "df[df.recall_month>=7].head()"
   ]
  },
  {
   "cell_type": "code",
   "execution_count": 157,
   "metadata": {
    "execution": {
     "iopub.execute_input": "2021-07-14T07:52:07.859965Z",
     "iopub.status.busy": "2021-07-14T07:52:07.859606Z",
     "iopub.status.idle": "2021-07-14T07:52:08.225250Z",
     "shell.execute_reply": "2021-07-14T07:52:08.224548Z",
     "shell.execute_reply.started": "2021-07-14T07:52:07.859933Z"
    }
   },
   "outputs": [
    {
     "data": {
      "image/png": "[encoded data removed]",
      "text/plain": [
       "<Figure size 720x360 with 1 Axes>"
      ]
     },
     "metadata": {},
     "output_type": "display_data"
    }
   ],
   "source": [
    "# 그래프를 출력 # 하반기 7 ~ 12\n",
    "plt.figure(figsize=(10,5))\n",
    "sns.set(style=\"darkgrid\")\n",
    "ax = sns.countplot(x=\"start_year\", data=df[df.recall_month>=7], palette=\"Set2\")\n",
    "plt.show()"
   ]
  },
  {
   "cell_type": "code",
   "execution_count": 173,
   "metadata": {},
   "outputs": [
    {
     "data": {
      "image/png": "[encoded data removed]",
      "text/plain": [
       "<Figure size 1080x360 with 1 Axes>"
      ]
     },
     "metadata": {},
     "output_type": "display_data"
    }
   ],
   "source": [
    "# 그래프를 출력 # 상반기 1 ~ 6\n",
    "plt.figure(figsize=(15,5))\n",
    "sns.set(style=\"darkgrid\")\n",
    "ax = sns.countplot(x=\"start_year\", data=df[df.recall_month<7], palette=\"Set2\")\n",
    "plt.show()"
   ]
  },
  {
   "cell_type": "markdown",
   "metadata": {},
   "source": [
    "### 3.7. 워드 클라우드를 이용한 리콜 사유 시각화"
   ]
  },
  {
   "cell_type": "markdown",
   "metadata": {},
   "source": [
    "워드 클라우드를 이용하여 리콜 사유를 시각화"
   ]
  },
  {
   "cell_type": "code",
   "execution_count": 158,
   "metadata": {},
   "outputs": [
    {
     "data": {
      "text/html": [
       "<div>\n",
       "<style scoped>\n",
       "    .dataframe tbody tr th:only-of-type {\n",
       "        vertical-align: middle;\n",
       "    }\n",
       "\n",
       "    .dataframe tbody tr th {\n",
       "        vertical-align: top;\n",
       "    }\n",
       "\n",
       "    .dataframe thead th {\n",
       "        text-align: right;\n",
       "    }\n",
       "</style>\n",
       "<table border=\"1\" class=\"dataframe\">\n",
       "  <thead>\n",
       "    <tr style=\"text-align: right;\">\n",
       "      <th></th>\n",
       "      <th>manufacturer</th>\n",
       "      <th>model</th>\n",
       "      <th>cause</th>\n",
       "      <th>start_year</th>\n",
       "      <th>start_month</th>\n",
       "      <th>start_day</th>\n",
       "      <th>end_year</th>\n",
       "      <th>end_month</th>\n",
       "      <th>end_day</th>\n",
       "      <th>recall_year</th>\n",
       "      <th>recall_month</th>\n",
       "      <th>recall_day</th>\n",
       "    </tr>\n",
       "  </thead>\n",
       "  <tbody>\n",
       "    <tr>\n",
       "      <th>0</th>\n",
       "      <td>(주)에프엠케이</td>\n",
       "      <td>기블리 디젤</td>\n",
       "      <td>스탑 &amp; 고 기능 작동 직후 재시동 불가 1) 결함 있는 구조 장치 : 원동기(스탑...</td>\n",
       "      <td>2014</td>\n",
       "      <td>5</td>\n",
       "      <td>28</td>\n",
       "      <td>2016</td>\n",
       "      <td>3</td>\n",
       "      <td>15</td>\n",
       "      <td>2020</td>\n",
       "      <td>3</td>\n",
       "      <td>23</td>\n",
       "    </tr>\n",
       "  </tbody>\n",
       "</table>\n",
       "</div>"
      ],
      "text/plain": [
       "  manufacturer   model                                              cause  \\\n",
       "0     (주)에프엠케이  기블리 디젤  스탑 & 고 기능 작동 직후 재시동 불가 1) 결함 있는 구조 장치 : 원동기(스탑...   \n",
       "\n",
       "   start_year  start_month  start_day  end_year  end_month  end_day  \\\n",
       "0        2014            5         28      2016          3       15   \n",
       "\n",
       "   recall_year  recall_month  recall_day  \n",
       "0         2020             3          23  "
      ]
     },
     "execution_count": 158,
     "metadata": {},
     "output_type": "execute_result"
    }
   ],
   "source": [
    "df.head(1)"
   ]
  },
  {
   "cell_type": "code",
   "execution_count": 159,
   "metadata": {},
   "outputs": [
    {
     "data": {
      "text/plain": [
       "0       스탑 & 고 기능 작동 직후 재시동 불가 1) 결함 있는 구조 장치 : 원동기(스탑...\n",
       "1       스탑 & 고 기능 작동 직후 재시동 불가 1) 결함 있는 구조 장치 : 원동기(스탑...\n",
       "2       콤비네이션 미터(계기판) 내부 기판의 생산 설비 관리가 부적절하여, 기판의 회로부품...\n",
       "3       뒷좌석 시트벨트의 부품조립설비의 조정이 부적절하여, 시트벨트 리트랙터 잠금장치*내부...\n",
       "4       뒷좌석 시트벨트의 부품조립설비의 조정이 부적절하여, 시트벨트 리트랙터 잠금장치*내부...\n",
       "                              ...                        \n",
       "1270                           프로펠러 샤프트의 내구성이 저하될 수 있습니다.\n",
       "1271                           프로펠러 샤프트의 내구성이 저하될 수 있습니다.\n",
       "1272                           프로펠러 샤프트의 내구성이 저하될 수 있습니다.\n",
       "1273                           프로펠러 샤프트의 내구성이 저하될 수 있습니다.\n",
       "1274                           프로펠러 샤프트의 내구성이 저하될 수 있습니다.\n",
       "Name: cause, Length: 1264, dtype: object"
      ]
     },
     "execution_count": 159,
     "metadata": {},
     "output_type": "execute_result"
    }
   ],
   "source": [
    "df.cause #비정형 데이터"
   ]
  },
  {
   "cell_type": "code",
   "execution_count": 160,
   "metadata": {
    "execution": {
     "iopub.execute_input": "2021-07-14T07:52:12.339345Z",
     "iopub.status.busy": "2021-07-14T07:52:12.338720Z",
     "iopub.status.idle": "2021-07-14T07:52:12.390516Z",
     "shell.execute_reply": "2021-07-14T07:52:12.389402Z",
     "shell.execute_reply.started": "2021-07-14T07:52:12.339289Z"
    },
    "scrolled": true
   },
   "outputs": [
    {
     "name": "stdout",
     "output_type": "stream",
     "text": [
      "Collecting wordcloud\n",
      "  Downloading wordcloud-1.8.1-cp38-cp38-manylinux1_x86_64.whl (371 kB)\n",
      "\u001b[K     |████████████████████████████████| 371 kB 1.6 MB/s eta 0:00:01\n",
      "\u001b[?25hRequirement already satisfied: pillow in /opt/conda/lib/python3.8/site-packages (from wordcloud) (8.0.1)\n",
      "Requirement already satisfied: matplotlib in /opt/conda/lib/python3.8/site-packages (from wordcloud) (3.3.3)\n",
      "Requirement already satisfied: numpy>=1.6.1 in /opt/conda/lib/python3.8/site-packages (from wordcloud) (1.19.4)\n",
      "Requirement already satisfied: python-dateutil>=2.1 in /opt/conda/lib/python3.8/site-packages (from matplotlib->wordcloud) (2.8.1)\n",
      "Requirement already satisfied: kiwisolver>=1.0.1 in /opt/conda/lib/python3.8/site-packages (from matplotlib->wordcloud) (1.3.1)\n",
      "Requirement already satisfied: pyparsing!=2.0.4,!=2.1.2,!=2.1.6,>=2.0.3 in /opt/conda/lib/python3.8/site-packages (from matplotlib->wordcloud) (2.4.7)\n",
      "Requirement already satisfied: cycler>=0.10 in /opt/conda/lib/python3.8/site-packages (from matplotlib->wordcloud) (0.10.0)\n",
      "Requirement already satisfied: six in /opt/conda/lib/python3.8/site-packages (from cycler>=0.10->matplotlib->wordcloud) (1.15.0)\n",
      "Installing collected packages: wordcloud\n",
      "Successfully installed wordcloud-1.8.1\n"
     ]
    }
   ],
   "source": [
    "# 워드 클라우드 생성을 도와주는 패키지\n",
    "try:\n",
    "    from wordcloud import WordCloud, STOPWORDS\n",
    "except:\n",
    "    !pip install wordcloud\n",
    "    from wordcloud import WordCloud, STOPWORDS"
   ]
  },
  {
   "cell_type": "code",
   "execution_count": 161,
   "metadata": {
    "execution": {
     "iopub.execute_input": "2021-07-14T07:52:13.248705Z",
     "iopub.status.busy": "2021-07-14T07:52:13.248293Z",
     "iopub.status.idle": "2021-07-14T07:52:13.258875Z",
     "shell.execute_reply": "2021-07-14T07:52:13.258131Z",
     "shell.execute_reply.started": "2021-07-14T07:52:13.248666Z"
    }
   },
   "outputs": [
    {
     "data": {
      "text/plain": [
       "{'a',\n",
       " 'about',\n",
       " 'above',\n",
       " 'after',\n",
       " 'again',\n",
       " 'against',\n",
       " 'all',\n",
       " 'also',\n",
       " 'am',\n",
       " 'an',\n",
       " 'and',\n",
       " 'any',\n",
       " 'are',\n",
       " \"aren't\",\n",
       " 'as',\n",
       " 'at',\n",
       " 'be',\n",
       " 'because',\n",
       " 'been',\n",
       " 'before',\n",
       " 'being',\n",
       " 'below',\n",
       " 'between',\n",
       " 'both',\n",
       " 'but',\n",
       " 'by',\n",
       " 'can',\n",
       " \"can't\",\n",
       " 'cannot',\n",
       " 'com',\n",
       " 'could',\n",
       " \"couldn't\",\n",
       " 'did',\n",
       " \"didn't\",\n",
       " 'do',\n",
       " 'does',\n",
       " \"doesn't\",\n",
       " 'doing',\n",
       " \"don't\",\n",
       " 'down',\n",
       " 'during',\n",
       " 'each',\n",
       " 'else',\n",
       " 'ever',\n",
       " 'few',\n",
       " 'for',\n",
       " 'from',\n",
       " 'further',\n",
       " 'get',\n",
       " 'had',\n",
       " \"hadn't\",\n",
       " 'has',\n",
       " \"hasn't\",\n",
       " 'have',\n",
       " \"haven't\",\n",
       " 'having',\n",
       " 'he',\n",
       " \"he'd\",\n",
       " \"he'll\",\n",
       " \"he's\",\n",
       " 'hence',\n",
       " 'her',\n",
       " 'here',\n",
       " \"here's\",\n",
       " 'hers',\n",
       " 'herself',\n",
       " 'him',\n",
       " 'himself',\n",
       " 'his',\n",
       " 'how',\n",
       " \"how's\",\n",
       " 'however',\n",
       " 'http',\n",
       " 'i',\n",
       " \"i'd\",\n",
       " \"i'll\",\n",
       " \"i'm\",\n",
       " \"i've\",\n",
       " 'if',\n",
       " 'in',\n",
       " 'into',\n",
       " 'is',\n",
       " \"isn't\",\n",
       " 'it',\n",
       " \"it's\",\n",
       " 'its',\n",
       " 'itself',\n",
       " 'just',\n",
       " 'k',\n",
       " \"let's\",\n",
       " 'like',\n",
       " 'me',\n",
       " 'more',\n",
       " 'most',\n",
       " \"mustn't\",\n",
       " 'my',\n",
       " 'myself',\n",
       " 'no',\n",
       " 'nor',\n",
       " 'not',\n",
       " 'of',\n",
       " 'off',\n",
       " 'on',\n",
       " 'once',\n",
       " 'only',\n",
       " 'or',\n",
       " 'other',\n",
       " 'otherwise',\n",
       " 'ought',\n",
       " 'our',\n",
       " 'ours',\n",
       " 'ourselves',\n",
       " 'out',\n",
       " 'over',\n",
       " 'own',\n",
       " 'r',\n",
       " 'same',\n",
       " 'shall',\n",
       " \"shan't\",\n",
       " 'she',\n",
       " \"she'd\",\n",
       " \"she'll\",\n",
       " \"she's\",\n",
       " 'should',\n",
       " \"shouldn't\",\n",
       " 'since',\n",
       " 'so',\n",
       " 'some',\n",
       " 'such',\n",
       " 'than',\n",
       " 'that',\n",
       " \"that's\",\n",
       " 'the',\n",
       " 'their',\n",
       " 'theirs',\n",
       " 'them',\n",
       " 'themselves',\n",
       " 'then',\n",
       " 'there',\n",
       " \"there's\",\n",
       " 'therefore',\n",
       " 'these',\n",
       " 'they',\n",
       " \"they'd\",\n",
       " \"they'll\",\n",
       " \"they're\",\n",
       " \"they've\",\n",
       " 'this',\n",
       " 'those',\n",
       " 'through',\n",
       " 'to',\n",
       " 'too',\n",
       " 'under',\n",
       " 'until',\n",
       " 'up',\n",
       " 'very',\n",
       " 'was',\n",
       " \"wasn't\",\n",
       " 'we',\n",
       " \"we'd\",\n",
       " \"we'll\",\n",
       " \"we're\",\n",
       " \"we've\",\n",
       " 'were',\n",
       " \"weren't\",\n",
       " 'what',\n",
       " \"what's\",\n",
       " 'when',\n",
       " \"when's\",\n",
       " 'where',\n",
       " \"where's\",\n",
       " 'which',\n",
       " 'while',\n",
       " 'who',\n",
       " \"who's\",\n",
       " 'whom',\n",
       " 'why',\n",
       " \"why's\",\n",
       " 'with',\n",
       " \"won't\",\n",
       " 'would',\n",
       " \"wouldn't\",\n",
       " 'www',\n",
       " 'you',\n",
       " \"you'd\",\n",
       " \"you'll\",\n",
       " \"you're\",\n",
       " \"you've\",\n",
       " 'your',\n",
       " 'yours',\n",
       " 'yourself',\n",
       " 'yourselves'}"
      ]
     },
     "execution_count": 161,
     "metadata": {},
     "output_type": "execute_result"
    }
   ],
   "source": [
    "# 문법적인 성분들을 배제하기 위해 stopwords들을 따로 저장\n",
    "set(STOPWORDS)"
   ]
  },
  {
   "cell_type": "markdown",
   "metadata": {},
   "source": [
    "> STOPWORDS : 유의미한 시각화를 위해, 문법적인 성분에 해당하는 언어들을 배제해주기 위한 집합"
   ]
  },
  {
   "cell_type": "markdown",
   "metadata": {},
   "source": [
    "한국어를 사용할 때 적합한 stopwords 입력"
   ]
  },
  {
   "cell_type": "code",
   "execution_count": 162,
   "metadata": {
    "execution": {
     "iopub.execute_input": "2021-07-14T07:52:18.596069Z",
     "iopub.status.busy": "2021-07-14T07:52:18.595561Z",
     "iopub.status.idle": "2021-07-14T07:52:18.600036Z",
     "shell.execute_reply": "2021-07-14T07:52:18.599218Z",
     "shell.execute_reply.started": "2021-07-14T07:52:18.596037Z"
    }
   },
   "outputs": [],
   "source": [
    "# 손으로 직접 리콜 사유와 관련이 적은 문법적 어구들을 배제해보겠습니다.\n",
    "spwords = set([\"동안\", \"인하여\", \"있는\", \"경우\", \"있습니다\", \"가능성이\", \"않을\", \"차량의\", \"가\", \"에\", \"될\", \"이\",\n",
    "               \"인해\", \"수\", \"중\", \"시\", \"또는\", \"있음\", \"의\", \"및\", \"있으며\", \"발생할\", \"이로\", \"오류로\", \"해당\"])"
   ]
  },
  {
   "cell_type": "code",
   "execution_count": 164,
   "metadata": {},
   "outputs": [
    {
     "data": {
      "text/plain": [
       "0       False\n",
       "1        True\n",
       "2       False\n",
       "3       False\n",
       "4        True\n",
       "        ...  \n",
       "1270    False\n",
       "1271     True\n",
       "1272     True\n",
       "1273     True\n",
       "1274     True\n",
       "Name: cause, Length: 1264, dtype: bool"
      ]
     },
     "execution_count": 164,
     "metadata": {},
     "output_type": "execute_result"
    }
   ],
   "source": [
    "df['cause'].duplicated()"
   ]
  },
  {
   "cell_type": "code",
   "execution_count": 165,
   "metadata": {
    "execution": {
     "iopub.execute_input": "2021-07-14T07:54:44.681187Z",
     "iopub.status.busy": "2021-07-14T07:54:44.680804Z",
     "iopub.status.idle": "2021-07-14T07:54:44.689509Z",
     "shell.execute_reply": "2021-07-14T07:54:44.688462Z",
     "shell.execute_reply.started": "2021-07-14T07:54:44.681132Z"
    }
   },
   "outputs": [
    {
     "data": {
      "text/plain": [
       "'스탑 & 고 기능 작동 직후 재시동 불가 1) 결함 있는 구조 장치 : 원동기(스탑 & 고) 2) 결함 원인 : 오토 스타트 결함(스탑&고 작동 시 재시동 불가 현상)은 과도한 전'"
      ]
     },
     "execution_count": 165,
     "metadata": {},
     "output_type": "execute_result"
    }
   ],
   "source": [
    "# 리콜 사유에 해당하는 열의 값들을 중복 제거한 뒤 모두 이어붙여서 text라는 문자열로 저장합니다.\n",
    "text = \"\"\n",
    "\n",
    "for c in df.cause.drop_duplicates():\n",
    "    text += c\n",
    "\n",
    "text[:100]"
   ]
  },
  {
   "cell_type": "code",
   "execution_count": 167,
   "metadata": {},
   "outputs": [
    {
     "data": {
      "text/plain": [
       "'스탑 & 고 기능 작동 직후 재시동 불가 1) 결함 있는 구조 장치 : 원동기(스탑 & 고) 2) 결함 원인 : 오토 스타트 결함(스탑&고 작동 시 재시동 불가 현상)은 과도한 전압강하로 인해 발생되며 이는 충분한 전류량이 흐를 수 없는 불충분한 엔진 배선 및 주 양극 배선 사이즈로 인해 유발됨콤비네이션 미터(계기판) 내부 기판의 생산 설비 관리가 부적절하여, 기판의 회로부품 내부에 균열이 발생할 가능성이 있음.뒷좌석 시트벨트의 부품조립설비의 조정이 부적절하여, 시트벨트 리트랙터 잠금장치*내부의 스프링이 바르게 장착 되지 않았을 가능성이 있음. *시트벨트 리트랙터 잠금장치: 급정지나 충격이 있을 경우 또는 시트벨트가 빠르게 당겨질 경우에 시트벨트가 풀어지지 않게 잠그는 장치비금속 재료(황화망간 또는 기타 산화물)가 특정부분에 비정상적으로 집중되어 일정한 운행조건에서 크랭크축이 파손될 수 있는 가능성이 확인되었습니다.사이드 스탠드 제조 공정상 용접 불량으로 사이드 스탠드의 용접 부위가 부러질 수 있음. (#참고 사항 : 2019년식 이후 모델에 장착된 사이드 스탠드는 공급사가 바뀌면서 이와 같은 문제 없음)2019년 01월 30일부터 2019년 10월 21일까지 생산된 BMW M5, M8 Competition 모델 중 171대 차량의 변속기 배선 고정 공정 과정에서 배선을 고정하는 클립을 잘 못 장착하여 고정된 위치가 과도한 압착 및 변속기 등 주변에서 발생하는 열에 영향을 받아 배선이 단락 될 수 있습니다.2017년식 Explorer 차량의 전동시트(파워시트) 프레임 트랙의 가장자리에 날카로운 마무리가 남아있을 수 있습니다. 이렇게, 시트 프레임 트랙의 날카로운 마무리로 인하여, 앞좌석과 콘솔 사이에 손을 넣으면 다칠 수 있는 위험이 있기 때문에 이를 예방하기 위해 제작결함을 시정하고자 함2015-2018년식 Mondeo 차량은 시간이 지남에 따라 배터리 음극(-)단자 주변에 황산구리가 생성될 수 있으며, 생성된 황산구리로 인하여 배터리 모니터링 센서 하단부에'"
      ]
     },
     "execution_count": 167,
     "metadata": {},
     "output_type": "execute_result"
    }
   ],
   "source": [
    "text[:1000] # 1000번째까지 사유가 문자열로 붙게됨"
   ]
  },
  {
   "cell_type": "markdown",
   "metadata": {},
   "source": [
    "워드 클라우드를 생성하고 시각화"
   ]
  },
  {
   "cell_type": "code",
   "execution_count": 166,
   "metadata": {
    "execution": {
     "iopub.execute_input": "2021-07-14T07:54:53.423675Z",
     "iopub.status.busy": "2021-07-14T07:54:53.423233Z",
     "iopub.status.idle": "2021-07-14T07:54:53.608966Z",
     "shell.execute_reply": "2021-07-14T07:54:53.606602Z",
     "shell.execute_reply.started": "2021-07-14T07:54:53.423635Z"
    }
   },
   "outputs": [
    {
     "data": {
      "image/png": "[encoded data removed]",
      "text/plain": [
       "<Figure size 720x576 with 1 Axes>"
      ]
     },
     "metadata": {},
     "output_type": "display_data"
    }
   ],
   "source": [
    "# 한글을 사용하기 위한 폰트\n",
    "wc1 = WordCloud(max_font_size=200, stopwords=spwords, font_path='/usr/share/fonts/truetype/nanum/NanumGothic.ttf',\n",
    "                background_color='white', width=800, height=800)\n",
    "wc1.generate(text)\n",
    "\n",
    "plt.figure(figsize=(10, 8))\n",
    "plt.imshow(wc1)\n",
    "plt.tight_layout(pad=0)\n",
    "plt.axis('off')\n",
    "plt.show()"
   ]
  },
  {
   "cell_type": "markdown",
   "metadata": {},
   "source": [
    "> 주로 어떤 사유로 인해 리콜되는지 개괄적인 파악이 가능"
   ]
  },
  {
   "cell_type": "markdown",
   "metadata": {},
   "source": [
    "#### 기아자동차(주)의 제품 중 가장 최근에 리콜이 개시된 제품의 모델명"
   ]
  },
  {
   "cell_type": "code",
   "execution_count": 174,
   "metadata": {},
   "outputs": [
    {
     "data": {
      "text/plain": [
       "manufacturer                                             기아자동차(주)\n",
       "model                                                  쏘울(SK3) EV\n",
       "cause           IEB 모터 제어 로직의 Fail Safe(고장안전대책) 로직 구성 미흡 * Fai...\n",
       "start_year                                                   2019\n",
       "start_month                                                     2\n",
       "start_day                                                      19\n",
       "end_year                                                     2020\n",
       "end_month                                                      11\n",
       "end_day                                                        13\n",
       "recall_year                                                  2020\n",
       "recall_month                                                   12\n",
       "recall_day                                                     10\n",
       "Name: 1204, dtype: object"
      ]
     },
     "execution_count": 174,
     "metadata": {},
     "output_type": "execute_result"
    }
   ],
   "source": [
    "df[df['manufacturer']=='기아자동차(주)'].sort_values(by=['recall_year','recall_month','recall_day'],ascending=False).iloc[0]"
   ]
  },
  {
   "cell_type": "code",
   "execution_count": 177,
   "metadata": {},
   "outputs": [
    {
     "data": {
      "text/plain": [
       "'쏘울(SK3) EV'"
      ]
     },
     "execution_count": 177,
     "metadata": {},
     "output_type": "execute_result"
    }
   ],
   "source": [
    "df[df['manufacturer']=='기아자동차(주)'].sort_values(by=['recall_year','recall_month','recall_day'],ascending=False)['model'].iloc[0]\n",
    "# df[df['manufacturer']=='기아자동차(주)'].sort_values(by=[\"recall_year\", \"recall_month\", \"recall_day\"], ascending=False).iloc[0]['model']"
   ]
  },
  {
   "cell_type": "markdown",
   "metadata": {},
   "source": [
    "---"
   ]
  },
  {
   "cell_type": "code",
   "execution_count": 189,
   "metadata": {},
   "outputs": [
    {
     "data": {
      "text/plain": [
       "527"
      ]
     },
     "execution_count": 189,
     "metadata": {},
     "output_type": "execute_result"
    }
   ],
   "source": [
    "df[df['manufacturer']=='비엠더블유코리아(주)'].sort_values(by=['model'], ascending=False).count().iloc[0]"
   ]
  },
  {
   "cell_type": "code",
   "execution_count": 190,
   "metadata": {},
   "outputs": [
    {
     "data": {
      "text/plain": [
       "'Rolls Royce Phantom'"
      ]
     },
     "execution_count": 190,
     "metadata": {},
     "output_type": "execute_result"
    }
   ],
   "source": [
    "df[df['manufacturer']=='비엠더블유코리아(주)'].sort_values(by=['model'], ascending=False).iloc[0]['model']"
   ]
  },
  {
   "cell_type": "code",
   "execution_count": 191,
   "metadata": {},
   "outputs": [
    {
     "data": {
      "text/plain": [
       "'‘자동차 및 자동차부품의 성능과 기준에 관한 규칙’ 제40조의3(주차등) 조항에 따르면, 길이가 600센티미터 이하, 너비가 200센티미터 이하인 자동차에 주차등 설치를 허용하고 있으며, 설치 하려는 때에는 별표6의32 기준을 충족할 것을 요구하고 있습니다. 그리고 동 규칙 제47조 제3항에 따르면, 제40조의3에 규정되지 아니한 등화나 반사기 등을 설치하는 것은 금지되고 있습니다. *주차등: 이면도로 등에 주차된 차량의 추돌사고 등을 방지하기 위한 목적으로 차량의 위치를 알리고자 주차 후 좌측 또는 우측의 후미등을 켤 수 있도록 하는 기능'"
      ]
     },
     "execution_count": 191,
     "metadata": {},
     "output_type": "execute_result"
    }
   ],
   "source": [
    "df[df['manufacturer']=='비엠더블유코리아(주)'].sort_values(by=['model'], ascending=False).iloc[0]['cause']"
   ]
  },
  {
   "cell_type": "markdown",
   "metadata": {},
   "source": [
    " ---"
   ]
  }
 ],
 "metadata": {
  "kernelspec": {
   "display_name": "Python 3",
   "language": "python",
   "name": "python3"
  },
  "language_info": {
   "codemirror_mode": {
    "name": "ipython",
    "version": 3
   },
   "file_extension": ".py",
   "mimetype": "text/x-python",
   "name": "python",
   "nbconvert_exporter": "python",
   "pygments_lexer": "ipython3",
   "version": "3.8.6"
  }
 },
 "nbformat": 4,
 "nbformat_minor": 4
}
