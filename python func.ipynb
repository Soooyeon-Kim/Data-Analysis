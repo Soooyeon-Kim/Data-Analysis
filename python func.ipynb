{
 "cells": [
  {
   "cell_type": "code",
   "execution_count": 4,
   "id": "844e3f21",
   "metadata": {
    "ExecuteTime": {
     "end_time": "2021-09-03T04:04:19.588391Z",
     "start_time": "2021-09-03T04:04:18.257951Z"
    }
   },
   "outputs": [],
   "source": [
    "import pandas as pd\n",
    "import numpy as np"
   ]
  },
  {
   "cell_type": "markdown",
   "id": "af5f14cf",
   "metadata": {},
   "source": [
    "## filter"
   ]
  },
  {
   "cell_type": "code",
   "execution_count": 12,
   "id": "9efd4c0b",
   "metadata": {
    "ExecuteTime": {
     "end_time": "2021-09-03T04:11:58.434073Z",
     "start_time": "2021-09-03T04:11:58.418110Z"
    }
   },
   "outputs": [],
   "source": [
    "# fitler(function, iterable(s))"
   ]
  },
  {
   "cell_type": "code",
   "execution_count": 1,
   "id": "7cc5822f",
   "metadata": {
    "ExecuteTime": {
     "end_time": "2021-09-03T03:09:12.040822Z",
     "start_time": "2021-09-03T03:09:11.998868Z"
    }
   },
   "outputs": [
    {
     "data": {
      "text/plain": [
       "[2, 4]"
      ]
     },
     "execution_count": 1,
     "metadata": {},
     "output_type": "execute_result"
    }
   ],
   "source": [
    "li = [1,2,3,4]\n",
    "list(filter(lambda x:x%2==0, li)) # lambda: 함수명 없음 >> 함수 객체 생성 x"
   ]
  },
  {
   "cell_type": "code",
   "execution_count": 3,
   "id": "d83c4820",
   "metadata": {
    "ExecuteTime": {
     "end_time": "2021-09-03T03:10:47.213117Z",
     "start_time": "2021-09-03T03:10:47.191176Z"
    }
   },
   "outputs": [
    {
     "data": {
      "text/plain": [
       "[False, True, False, True]"
      ]
     },
     "execution_count": 3,
     "metadata": {},
     "output_type": "execute_result"
    }
   ],
   "source": [
    "def func(x):\n",
    "    if x%2 == 0:\n",
    "        return True\n",
    "    else: \n",
    "        return False\n",
    "\n",
    "result = []\n",
    "for i in li :\n",
    "    flag = func(i)\n",
    "    result.append(flag)\n",
    "result"
   ]
  },
  {
   "cell_type": "code",
   "execution_count": 14,
   "id": "affa5107",
   "metadata": {
    "ExecuteTime": {
     "end_time": "2021-09-03T04:15:35.506121Z",
     "start_time": "2021-09-03T04:15:35.473208Z"
    }
   },
   "outputs": [
    {
     "data": {
      "text/plain": [
       "['apple', 'apricot']"
      ]
     },
     "execution_count": 14,
     "metadata": {},
     "output_type": "execute_result"
    }
   ],
   "source": [
    "fruit = ['apple', 'banana','grape','pear','orange', \"apricot\"]\n",
    "# a로 시작하는 과일들만 리스트에 담는다\n",
    "list(filter(lambda x: x[0] == 'a', fruit))"
   ]
  },
  {
   "cell_type": "code",
   "execution_count": 15,
   "id": "f44a6b7d",
   "metadata": {
    "ExecuteTime": {
     "end_time": "2021-09-03T04:20:08.843010Z",
     "start_time": "2021-09-03T04:20:08.806110Z"
    }
   },
   "outputs": [
    {
     "data": {
      "text/plain": [
       "['apple', 'apricot']"
      ]
     },
     "execution_count": 15,
     "metadata": {},
     "output_type": "execute_result"
    }
   ],
   "source": [
    "fruit = ['apple', 'banana','grape','pear','orange', \"apricot\"]\n",
    "# a로 시작하는 과일들만 리스트에 담는다\n",
    "list(filter(lambda x: x.startswith('a'), fruit))"
   ]
  },
  {
   "cell_type": "code",
   "execution_count": 17,
   "id": "91bc064c",
   "metadata": {
    "ExecuteTime": {
     "end_time": "2021-09-03T04:24:47.617111Z",
     "start_time": "2021-09-03T04:24:47.592178Z"
    }
   },
   "outputs": [
    {
     "data": {
      "text/plain": [
       "True"
      ]
     },
     "execution_count": 17,
     "metadata": {},
     "output_type": "execute_result"
    }
   ],
   "source": [
    "st = 'apple'\n",
    "def func(x):\n",
    "    if x[0] == 'a':\n",
    "        return True\n",
    "    else:\n",
    "        return False\n",
    "func(st)"
   ]
  },
  {
   "cell_type": "markdown",
   "id": "19bea412",
   "metadata": {
    "ExecuteTime": {
     "end_time": "2021-09-03T04:26:22.488740Z",
     "start_time": "2021-09-03T04:26:22.471787Z"
    }
   },
   "source": [
    "#### reduce\n",
    "- lambda, map, filter\n",
    "- reduce\n",
    "- rolling computation >> sequential pairs of values >> in list\n",
    "- int 자료형의 곱을 계산하고 싶을 때"
   ]
  },
  {
   "cell_type": "code",
   "execution_count": 19,
   "id": "f8895a02",
   "metadata": {
    "ExecuteTime": {
     "end_time": "2021-09-03T04:28:05.792337Z",
     "start_time": "2021-09-03T04:28:05.783357Z"
    }
   },
   "outputs": [],
   "source": [
    "## reduce(function , sequence[, initial])"
   ]
  },
  {
   "cell_type": "code",
   "execution_count": 21,
   "id": "34f88a32",
   "metadata": {
    "ExecuteTime": {
     "end_time": "2021-09-03T04:30:01.151825Z",
     "start_time": "2021-09-03T04:30:01.117922Z"
    }
   },
   "outputs": [
    {
     "data": {
      "text/plain": [
       "31"
      ]
     },
     "execution_count": 21,
     "metadata": {},
     "output_type": "execute_result"
    }
   ],
   "source": [
    "from functools import reduce\n",
    "def add(x,y):\n",
    "    return x+y\n",
    "li = [1,4,5,7,9,3,2]\n",
    "reduce(add,li)\n",
    "\n",
    "# default = 0\n",
    "# add(1,4) ==> 5 \n",
    "# add(5,5) ==> 10\n",
    "# add(10,7) ==> 17\n",
    "# add... "
   ]
  },
  {
   "cell_type": "code",
   "execution_count": 23,
   "id": "2fbd46db",
   "metadata": {
    "ExecuteTime": {
     "end_time": "2021-09-03T04:33:11.440738Z",
     "start_time": "2021-09-03T04:33:11.422779Z"
    }
   },
   "outputs": [
    {
     "data": {
      "text/plain": [
       "10"
      ]
     },
     "execution_count": 23,
     "metadata": {},
     "output_type": "execute_result"
    }
   ],
   "source": [
    "ad = 0\n",
    "li = [1,2,3,4]\n",
    "for num in li:\n",
    "    ad= ad+num # >> 1 >> 3 >> 6 >> 10\n",
    "ad"
   ]
  },
  {
   "cell_type": "code",
   "execution_count": 24,
   "id": "9c29ab21",
   "metadata": {
    "ExecuteTime": {
     "end_time": "2021-09-03T04:33:15.789462Z",
     "start_time": "2021-09-03T04:33:15.764514Z"
    }
   },
   "outputs": [
    {
     "data": {
      "text/plain": [
       "<function __main__.add(x, y)>"
      ]
     },
     "execution_count": 24,
     "metadata": {},
     "output_type": "execute_result"
    }
   ],
   "source": [
    "add"
   ]
  },
  {
   "cell_type": "code",
   "execution_count": 25,
   "id": "10133f17",
   "metadata": {
    "ExecuteTime": {
     "end_time": "2021-09-03T04:33:41.263730Z",
     "start_time": "2021-09-03T04:33:41.241790Z"
    }
   },
   "outputs": [
    {
     "data": {
      "text/plain": [
       "10"
      ]
     },
     "execution_count": 25,
     "metadata": {},
     "output_type": "execute_result"
    }
   ],
   "source": [
    "reduce(lambda x,y: x+y, li)"
   ]
  },
  {
   "cell_type": "markdown",
   "id": "62018a0a",
   "metadata": {
    "ExecuteTime": {
     "end_time": "2021-09-03T04:34:16.893128Z",
     "start_time": "2021-09-03T04:34:16.866693Z"
    }
   },
   "source": [
    "**initial**"
   ]
  },
  {
   "cell_type": "code",
   "execution_count": 27,
   "id": "695b11c1",
   "metadata": {
    "ExecuteTime": {
     "end_time": "2021-09-03T04:35:01.306834Z",
     "start_time": "2021-09-03T04:35:01.281900Z"
    }
   },
   "outputs": [
    {
     "data": {
      "text/plain": [
       "10"
      ]
     },
     "execution_count": 27,
     "metadata": {},
     "output_type": "execute_result"
    }
   ],
   "source": [
    "reduce(lambda x,y: x+y, li, 0)"
   ]
  },
  {
   "cell_type": "code",
   "execution_count": 29,
   "id": "6bc91a36",
   "metadata": {
    "ExecuteTime": {
     "end_time": "2021-09-03T04:35:10.042671Z",
     "start_time": "2021-09-03T04:35:10.019676Z"
    }
   },
   "outputs": [
    {
     "data": {
      "text/plain": [
       "15"
      ]
     },
     "execution_count": 29,
     "metadata": {},
     "output_type": "execute_result"
    }
   ],
   "source": [
    "reduce(lambda x,y: x+y, li, 5)"
   ]
  },
  {
   "cell_type": "code",
   "execution_count": 30,
   "id": "f1343865",
   "metadata": {
    "ExecuteTime": {
     "end_time": "2021-09-03T04:36:34.002426Z",
     "start_time": "2021-09-03T04:36:33.982479Z"
    }
   },
   "outputs": [
    {
     "data": {
      "text/plain": [
       "288"
      ]
     },
     "execution_count": 30,
     "metadata": {},
     "output_type": "execute_result"
    }
   ],
   "source": [
    "reduce(lambda x,y: x*y, [1,4,8,9]) # 1*4 >> 4 >> 4*8 >> 32*9 >> 288 "
   ]
  },
  {
   "cell_type": "code",
   "execution_count": 31,
   "id": "05a00f7c",
   "metadata": {
    "ExecuteTime": {
     "end_time": "2021-09-03T04:38:19.989902Z",
     "start_time": "2021-09-03T04:38:19.966964Z"
    }
   },
   "outputs": [
    {
     "data": {
      "text/plain": [
       "168"
      ]
     },
     "execution_count": 31,
     "metadata": {},
     "output_type": "execute_result"
    }
   ],
   "source": [
    "reduce(lambda x,y: x*y, [1,2,3,4], 7)"
   ]
  },
  {
   "cell_type": "code",
   "execution_count": 32,
   "id": "2b61dc77",
   "metadata": {
    "ExecuteTime": {
     "end_time": "2021-09-03T04:38:33.434069Z",
     "start_time": "2021-09-03T04:38:33.423088Z"
    }
   },
   "outputs": [
    {
     "data": {
      "text/plain": [
       "24"
      ]
     },
     "execution_count": 32,
     "metadata": {},
     "output_type": "execute_result"
    }
   ],
   "source": [
    "reduce(lambda x,y: x*y, [1,2,3,4])"
   ]
  },
  {
   "cell_type": "markdown",
   "id": "866f4fa1",
   "metadata": {},
   "source": [
    "**단계**\n",
    "1. 함수(lambda): A로 시작하면 참인 \"Apple\"\n",
    "2. map, filter >>"
   ]
  },
  {
   "cell_type": "markdown",
   "id": "df0462c3",
   "metadata": {
    "ExecuteTime": {
     "end_time": "2021-09-03T04:09:25.747886Z",
     "start_time": "2021-09-03T04:09:25.534914Z"
    }
   },
   "source": [
    "## lambda"
   ]
  },
  {
   "cell_type": "code",
   "execution_count": null,
   "id": "cb522c8f",
   "metadata": {},
   "outputs": [],
   "source": [
    "# lambda arguments: expression"
   ]
  },
  {
   "cell_type": "code",
   "execution_count": 6,
   "id": "f7bc170c",
   "metadata": {
    "ExecuteTime": {
     "end_time": "2021-09-03T04:09:54.330194Z",
     "start_time": "2021-09-03T04:09:54.274338Z"
    }
   },
   "outputs": [
    {
     "data": {
      "text/plain": [
       "<function __main__.<lambda>(x)>"
      ]
     },
     "execution_count": 6,
     "metadata": {},
     "output_type": "execute_result"
    }
   ],
   "source": [
    "lambda x: x+1"
   ]
  },
  {
   "cell_type": "code",
   "execution_count": 7,
   "id": "635b7558",
   "metadata": {
    "ExecuteTime": {
     "end_time": "2021-09-03T04:10:11.640673Z",
     "start_time": "2021-09-03T04:10:11.627920Z"
    }
   },
   "outputs": [],
   "source": [
    "func = lambda x: x+1"
   ]
  },
  {
   "cell_type": "markdown",
   "id": "9cd46688",
   "metadata": {
    "ExecuteTime": {
     "end_time": "2021-09-03T04:10:18.806157Z",
     "start_time": "2021-09-03T04:10:18.796191Z"
    }
   },
   "source": [
    "## map"
   ]
  },
  {
   "cell_type": "code",
   "execution_count": 9,
   "id": "f6199cd8",
   "metadata": {
    "ExecuteTime": {
     "end_time": "2021-09-03T04:10:35.825132Z",
     "start_time": "2021-09-03T04:10:35.818148Z"
    }
   },
   "outputs": [],
   "source": [
    "# map(function, iterable(s))"
   ]
  },
  {
   "cell_type": "code",
   "execution_count": 10,
   "id": "38dddec9",
   "metadata": {
    "ExecuteTime": {
     "end_time": "2021-09-03T04:10:51.298535Z",
     "start_time": "2021-09-03T04:10:51.279613Z"
    }
   },
   "outputs": [
    {
     "data": {
      "text/plain": [
       "<map at 0x19f0cd81c70>"
      ]
     },
     "execution_count": 10,
     "metadata": {},
     "output_type": "execute_result"
    }
   ],
   "source": [
    "map(func, [1,2,3])"
   ]
  },
  {
   "cell_type": "code",
   "execution_count": 11,
   "id": "da0b9d70",
   "metadata": {
    "ExecuteTime": {
     "end_time": "2021-09-03T04:11:08.221643Z",
     "start_time": "2021-09-03T04:11:08.190318Z"
    }
   },
   "outputs": [
    {
     "data": {
      "text/plain": [
       "[2, 3, 4]"
      ]
     },
     "execution_count": 11,
     "metadata": {},
     "output_type": "execute_result"
    }
   ],
   "source": [
    "list(map(func, [1,2,3]))"
   ]
  },
  {
   "cell_type": "code",
   "execution_count": 33,
   "id": "9922d0d5",
   "metadata": {
    "ExecuteTime": {
     "end_time": "2021-09-03T04:53:10.296804Z",
     "start_time": "2021-09-03T04:53:10.217023Z"
    }
   },
   "outputs": [],
   "source": [
    "## list comprehension"
   ]
  },
  {
   "cell_type": "code",
   "execution_count": 34,
   "id": "6b13ed15",
   "metadata": {
    "ExecuteTime": {
     "end_time": "2021-09-03T04:53:34.341270Z",
     "start_time": "2021-09-03T04:53:34.296379Z"
    }
   },
   "outputs": [
    {
     "data": {
      "text/plain": [
       "[0, 1, 2, 3, 4, 5, 6, 7, 8, 9]"
      ]
     },
     "execution_count": 34,
     "metadata": {},
     "output_type": "execute_result"
    }
   ],
   "source": [
    "li = []\n",
    "for i in range(10):\n",
    "    li.append(i)\n",
    "    \n",
    "li"
   ]
  },
  {
   "cell_type": "code",
   "execution_count": 35,
   "id": "d7be316d",
   "metadata": {
    "ExecuteTime": {
     "end_time": "2021-09-03T04:53:43.078226Z",
     "start_time": "2021-09-03T04:53:43.055285Z"
    }
   },
   "outputs": [
    {
     "data": {
      "text/plain": [
       "[0, 1, 2, 3, 4, 5, 6, 7, 8, 9]"
      ]
     },
     "execution_count": 35,
     "metadata": {},
     "output_type": "execute_result"
    }
   ],
   "source": [
    "[i for i in range(10)]"
   ]
  },
  {
   "cell_type": "code",
   "execution_count": 36,
   "id": "1c73e8ec",
   "metadata": {
    "ExecuteTime": {
     "end_time": "2021-09-03T04:53:58.147931Z",
     "start_time": "2021-09-03T04:53:58.116975Z"
    }
   },
   "outputs": [
    {
     "data": {
      "text/plain": [
       "[0, 2, 4, 6, 8]"
      ]
     },
     "execution_count": 36,
     "metadata": {},
     "output_type": "execute_result"
    }
   ],
   "source": [
    "[i for i in range(10) if i%2 ==0]"
   ]
  },
  {
   "cell_type": "code",
   "execution_count": 39,
   "id": "431ccc57",
   "metadata": {
    "ExecuteTime": {
     "end_time": "2021-09-03T04:54:57.864305Z",
     "start_time": "2021-09-03T04:54:57.825273Z"
    }
   },
   "outputs": [
    {
     "data": {
      "text/plain": [
       "[0, 4, 8, 12, 16]"
      ]
     },
     "execution_count": 39,
     "metadata": {},
     "output_type": "execute_result"
    }
   ],
   "source": [
    "[i*2 for i in range(10) if i%2 ==0]"
   ]
  },
  {
   "cell_type": "code",
   "execution_count": 37,
   "id": "9ebf4cfc",
   "metadata": {
    "ExecuteTime": {
     "end_time": "2021-09-03T04:54:17.108593Z",
     "start_time": "2021-09-03T04:54:17.078690Z"
    }
   },
   "outputs": [
    {
     "data": {
      "text/plain": [
       "[0, 2, 4, 6, 8]"
      ]
     },
     "execution_count": 37,
     "metadata": {},
     "output_type": "execute_result"
    }
   ],
   "source": [
    "li = []\n",
    "for i in range(10):\n",
    "    if i %2==0:\n",
    "        li.append(i)\n",
    "    \n",
    "li"
   ]
  },
  {
   "cell_type": "code",
   "execution_count": 38,
   "id": "8a9499e9",
   "metadata": {
    "ExecuteTime": {
     "end_time": "2021-09-03T04:54:35.544125Z",
     "start_time": "2021-09-03T04:54:35.523138Z"
    }
   },
   "outputs": [
    {
     "data": {
      "text/plain": [
       "[0, 4, 8, 12, 16]"
      ]
     },
     "execution_count": 38,
     "metadata": {},
     "output_type": "execute_result"
    }
   ],
   "source": [
    "li = []\n",
    "for i in range(10):\n",
    "    if i %2==0:\n",
    "        li.append(i*2)\n",
    "    \n",
    "li"
   ]
  },
  {
   "cell_type": "code",
   "execution_count": 40,
   "id": "58cb3b0e",
   "metadata": {
    "ExecuteTime": {
     "end_time": "2021-09-03T04:55:23.871681Z",
     "start_time": "2021-09-03T04:55:23.850756Z"
    }
   },
   "outputs": [
    {
     "data": {
      "text/plain": [
       "[(0, 0), (0, 1), (0, 2), (1, 0), (1, 1), (1, 2)]"
      ]
     },
     "execution_count": 40,
     "metadata": {},
     "output_type": "execute_result"
    }
   ],
   "source": [
    "[(x,y) for x in range(2) for y in range(3)]"
   ]
  },
  {
   "cell_type": "code",
   "execution_count": 44,
   "id": "0f643bfd",
   "metadata": {
    "ExecuteTime": {
     "end_time": "2021-09-03T04:56:48.774915Z",
     "start_time": "2021-09-03T04:56:48.745003Z"
    }
   },
   "outputs": [
    {
     "data": {
      "text/plain": [
       "[(0, 0), (0, 1), (0, 2), (1, 0), (1, 1), (1, 2)]"
      ]
     },
     "execution_count": 44,
     "metadata": {},
     "output_type": "execute_result"
    }
   ],
   "source": [
    "li = []\n",
    "for x in range(2):\n",
    "    for y in range(3):\n",
    "        li.append((x,y))\n",
    "li"
   ]
  },
  {
   "cell_type": "code",
   "execution_count": 46,
   "id": "65ad9187",
   "metadata": {
    "ExecuteTime": {
     "end_time": "2021-09-03T04:57:14.536717Z",
     "start_time": "2021-09-03T04:57:14.521734Z"
    }
   },
   "outputs": [
    {
     "data": {
      "text/plain": [
       "[(0, 0, 0),\n",
       " (0, 0, 1),\n",
       " (0, 1, 0),\n",
       " (0, 1, 1),\n",
       " (0, 2, 0),\n",
       " (0, 2, 1),\n",
       " (1, 0, 0),\n",
       " (1, 0, 1),\n",
       " (1, 1, 0),\n",
       " (1, 1, 1),\n",
       " (1, 2, 0),\n",
       " (1, 2, 1)]"
      ]
     },
     "execution_count": 46,
     "metadata": {},
     "output_type": "execute_result"
    }
   ],
   "source": [
    "[(x,y,z) for x in range(2) for y in range(3) for z in range(2)]"
   ]
  },
  {
   "cell_type": "code",
   "execution_count": 51,
   "id": "c4fe1fb4",
   "metadata": {
    "ExecuteTime": {
     "end_time": "2021-09-03T04:58:37.211786Z",
     "start_time": "2021-09-03T04:58:37.195845Z"
    }
   },
   "outputs": [
    {
     "data": {
      "text/plain": [
       "[(0, 0, 0),\n",
       " (0, 0, 1),\n",
       " (0, 1, 0),\n",
       " (0, 1, 1),\n",
       " (0, 2, 0),\n",
       " (0, 2, 1),\n",
       " (1, 0, 0),\n",
       " (1, 0, 1),\n",
       " (1, 1, 0),\n",
       " (1, 1, 1),\n",
       " (1, 2, 0),\n",
       " (1, 2, 1)]"
      ]
     },
     "execution_count": 51,
     "metadata": {},
     "output_type": "execute_result"
    }
   ],
   "source": [
    "li = []\n",
    "for x in range(2):\n",
    "    for y in range(3):\n",
    "        for z in range(2):\n",
    "            li.append((x,y,z))\n",
    "li"
   ]
  },
  {
   "cell_type": "code",
   "execution_count": 52,
   "id": "76441e02",
   "metadata": {
    "ExecuteTime": {
     "end_time": "2021-09-03T04:59:16.758587Z",
     "start_time": "2021-09-03T04:59:16.729138Z"
    }
   },
   "outputs": [
    {
     "data": {
      "text/plain": [
       "set"
      ]
     },
     "execution_count": 52,
     "metadata": {},
     "output_type": "execute_result"
    }
   ],
   "source": [
    "# s = {0}\n",
    "# s.remove(0)\n",
    "# type(s)"
   ]
  },
  {
   "cell_type": "code",
   "execution_count": 53,
   "id": "3148281b",
   "metadata": {
    "ExecuteTime": {
     "end_time": "2021-09-03T04:59:23.612295Z",
     "start_time": "2021-09-03T04:59:23.583379Z"
    }
   },
   "outputs": [
    {
     "data": {
      "text/plain": [
       "set()"
      ]
     },
     "execution_count": 53,
     "metadata": {},
     "output_type": "execute_result"
    }
   ],
   "source": [
    "s"
   ]
  },
  {
   "cell_type": "code",
   "execution_count": 59,
   "id": "5cba5e09",
   "metadata": {
    "ExecuteTime": {
     "end_time": "2021-09-03T05:02:40.104005Z",
     "start_time": "2021-09-03T05:02:40.082065Z"
    }
   },
   "outputs": [
    {
     "data": {
      "text/plain": [
       "{0, 2, 4, 6, 8}"
      ]
     },
     "execution_count": 59,
     "metadata": {},
     "output_type": "execute_result"
    }
   ],
   "source": [
    "for i in range(10):\n",
    "    if i%2 == 0:\n",
    "        s.add(i)\n",
    "s    "
   ]
  },
  {
   "cell_type": "code",
   "execution_count": 60,
   "id": "935378f0",
   "metadata": {
    "ExecuteTime": {
     "end_time": "2021-09-03T05:03:05.547065Z",
     "start_time": "2021-09-03T05:03:05.516149Z"
    }
   },
   "outputs": [
    {
     "data": {
      "text/plain": [
       "{0, 2, 4, 6, 8}"
      ]
     },
     "execution_count": 60,
     "metadata": {},
     "output_type": "execute_result"
    }
   ],
   "source": [
    "{i for i in range(10) if i%2==0}"
   ]
  }
 ],
 "metadata": {
  "hide_input": false,
  "kernelspec": {
   "display_name": "Python 3",
   "language": "python",
   "name": "python3"
  },
  "language_info": {
   "codemirror_mode": {
    "name": "ipython",
    "version": 3
   },
   "file_extension": ".py",
   "mimetype": "text/x-python",
   "name": "python",
   "nbconvert_exporter": "python",
   "pygments_lexer": "ipython3",
   "version": "3.8.8"
  },
  "toc": {
   "base_numbering": 1,
   "nav_menu": {},
   "number_sections": true,
   "sideBar": true,
   "skip_h1_title": false,
   "title_cell": "Table of Contents",
   "title_sidebar": "Contents",
   "toc_cell": false,
   "toc_position": {},
   "toc_section_display": true,
   "toc_window_display": false
  },
  "varInspector": {
   "cols": {
    "lenName": 16,
    "lenType": 16,
    "lenVar": 40
   },
   "kernels_config": {
    "python": {
     "delete_cmd_postfix": "",
     "delete_cmd_prefix": "del ",
     "library": "var_list.py",
     "varRefreshCmd": "print(var_dic_list())"
    },
    "r": {
     "delete_cmd_postfix": ") ",
     "delete_cmd_prefix": "rm(",
     "library": "var_list.r",
     "varRefreshCmd": "cat(var_dic_list()) "
    }
   },
   "types_to_exclude": [
    "module",
    "function",
    "builtin_function_or_method",
    "instance",
    "_Feature"
   ],
   "window_display": false
  }
 },
 "nbformat": 4,
 "nbformat_minor": 5
}
