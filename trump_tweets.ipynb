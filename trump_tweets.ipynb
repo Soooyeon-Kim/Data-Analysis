{
 "cells": [
  {
   "cell_type": "markdown",
   "id": "e44b675f",
   "metadata": {},
   "source": [
    "## 리스트 순회"
   ]
  },
  {
   "cell_type": "code",
   "execution_count": 2,
   "id": "24368def",
   "metadata": {
    "ExecuteTime": {
     "end_time": "2021-09-08T12:36:30.468665Z",
     "start_time": "2021-09-08T12:36:30.462678Z"
    }
   },
   "outputs": [],
   "source": [
    "# 트럼프 대통령의 1월 1~3일 트윗을 각각 리스트의 원소로 저장\n",
    "trump_tweets = [\n",
    "    'Will be leaving Florida for Washington (D.C.) today at 4:00 P.M. Much work to be done, but it will be a great New Year!',\n",
    "    'Companies are giving big bonuses to their workers because of the Tax Cut Bill. Really great!',\n",
    "    'MAKE AMERICA GREAT AGAIN!'\n",
    "]"
   ]
  },
  {
   "cell_type": "code",
   "execution_count": 3,
   "id": "d98e0914",
   "metadata": {
    "ExecuteTime": {
     "end_time": "2021-09-08T12:36:38.918297Z",
     "start_time": "2021-09-08T12:36:38.900339Z"
    },
    "scrolled": true
   },
   "outputs": [
    {
     "name": "stdout",
     "output_type": "stream",
     "text": [
      "2018년 1월 1일: Will be leaving Florida for Washington (D.C.) today at 4:00 P.M. Much work to be done, but it will be a great New Year!\n",
      "2018년 1월 2일: Companies are giving big bonuses to their workers because of the Tax Cut Bill. Really great!\n",
      "2018년 1월 3일: MAKE AMERICA GREAT AGAIN!\n"
     ]
    }
   ],
   "source": [
    "def date_tweet(tweet):\n",
    "    # index에 0~2을 차례대로 저장하여 반복문을 실행\n",
    "    for index in range(len(tweet)):\n",
    "        print('2018년 1월 ' + str(index+1) + '일: ' + tweet[index])\n",
    "\n",
    "date_tweet(trump_tweets)"
   ]
  },
  {
   "cell_type": "markdown",
   "id": "cf2f1e08",
   "metadata": {
    "ExecuteTime": {
     "end_time": "2021-09-08T12:41:09.714687Z",
     "start_time": "2021-09-08T12:41:09.697730Z"
    }
   },
   "source": [
    "## 문자열 인덱싱"
   ]
  },
  {
   "cell_type": "code",
   "execution_count": 5,
   "id": "cc7499ef",
   "metadata": {
    "ExecuteTime": {
     "end_time": "2021-09-08T12:41:53.078119Z",
     "start_time": "2021-09-08T12:41:53.066152Z"
    }
   },
   "outputs": [],
   "source": [
    "trump_tweets = ['thank', 'you', 'to', 'president', 'moon', 'of', 'south', 'korea', 'for', 'the', 'beautiful', 'welcoming', 'ceremony', 'it', 'will', 'always', 'be', 'remembered']"
   ]
  },
  {
   "cell_type": "code",
   "execution_count": 6,
   "id": "6a11f894",
   "metadata": {
    "ExecuteTime": {
     "end_time": "2021-09-08T12:42:01.001892Z",
     "start_time": "2021-09-08T12:42:00.994911Z"
    }
   },
   "outputs": [
    {
     "name": "stdout",
     "output_type": "stream",
     "text": [
      "thank\n",
      "you\n",
      "to\n",
      "president\n",
      "moon\n",
      "of\n",
      "south\n",
      "korea\n",
      "for\n",
      "the\n",
      "beautiful\n",
      "welcoming\n",
      "ceremony\n",
      "it\n",
      "will\n",
      "always\n",
      "be\n",
      "remembered\n"
     ]
    }
   ],
   "source": [
    "def print_korea(text):\n",
    "    for word in text:\n",
    "        print(word)\n",
    "\n",
    "print_korea(trump_tweets)"
   ]
  },
  {
   "cell_type": "markdown",
   "id": "299246ef",
   "metadata": {
    "ExecuteTime": {
     "end_time": "2021-09-08T12:42:24.220657Z",
     "start_time": "2021-09-08T12:42:24.212638Z"
    }
   },
   "source": [
    "## startswith"
   ]
  },
  {
   "cell_type": "code",
   "execution_count": 8,
   "id": "1504c14e",
   "metadata": {
    "ExecuteTime": {
     "end_time": "2021-09-08T12:42:48.050981Z",
     "start_time": "2021-09-08T12:42:48.042003Z"
    },
    "scrolled": true
   },
   "outputs": [
    {
     "name": "stdout",
     "output_type": "stream",
     "text": [
      "korea\n"
     ]
    }
   ],
   "source": [
    "def print_korea(tweet):\n",
    "    '''\n",
    "    문자열로 구성된 리스트에서 k로 시작하는 문자열을 출력\n",
    "    '''\n",
    "    for word in tweet:\n",
    "        if word.startswith('k'):\n",
    "            print(word)\n",
    "\n",
    "print_korea(trump_tweets)"
   ]
  },
  {
   "cell_type": "markdown",
   "id": "9c4a5525",
   "metadata": {},
   "source": [
    "## split"
   ]
  },
  {
   "cell_type": "code",
   "execution_count": 9,
   "id": "91e0c00c",
   "metadata": {
    "ExecuteTime": {
     "end_time": "2021-09-08T12:43:29.924319Z",
     "start_time": "2021-09-08T12:43:29.912351Z"
    }
   },
   "outputs": [],
   "source": [
    "trump_tweets = \"thank you to president moon of south korea for the beautiful welcoming ceremony it will always be remembered\""
   ]
  },
  {
   "cell_type": "code",
   "execution_count": 10,
   "id": "f335c590",
   "metadata": {
    "ExecuteTime": {
     "end_time": "2021-09-08T12:43:45.062403Z",
     "start_time": "2021-09-08T12:43:45.051926Z"
    }
   },
   "outputs": [
    {
     "name": "stdout",
     "output_type": "stream",
     "text": [
      "['thank', 'you', 'to', 'president', 'moon', 'of', 'south', 'korea', 'for', 'the', 'beautiful', 'welcoming', 'ceremony', 'it', 'will', 'always', 'be', 'remembered']\n"
     ]
    }
   ],
   "source": [
    "def break_into_words(text):\n",
    "    words = text.split()\n",
    "    return words\n",
    "\n",
    "\n",
    "print(break_into_words(trump_tweets))"
   ]
  },
  {
   "cell_type": "markdown",
   "id": "d4d015a8",
   "metadata": {},
   "source": [
    "## append"
   ]
  },
  {
   "cell_type": "code",
   "execution_count": 11,
   "id": "41a0df2e",
   "metadata": {
    "ExecuteTime": {
     "end_time": "2021-09-08T12:44:09.921801Z",
     "start_time": "2021-09-08T12:44:09.912823Z"
    }
   },
   "outputs": [],
   "source": [
    "trump_tweets = ['america', 'is', 'back', 'and', 'we', 'are', 'coming', 'back', 'bigger', 'and', 'better', 'and', 'stronger', 'than', 'ever', 'before']"
   ]
  },
  {
   "cell_type": "code",
   "execution_count": 12,
   "id": "240cdc4f",
   "metadata": {
    "ExecuteTime": {
     "end_time": "2021-09-08T12:44:23.480734Z",
     "start_time": "2021-09-08T12:44:23.462777Z"
    },
    "scrolled": true
   },
   "outputs": [
    {
     "name": "stdout",
     "output_type": "stream",
     "text": [
      "['back', 'back', 'bigger', 'better', 'before']\n"
     ]
    }
   ],
   "source": [
    "def make_new_list(text):\n",
    "\n",
    "    new_list = []\n",
    "    for word in text:\n",
    "        if word[0] == 'b':\n",
    "      # if word.startswith('b'):\n",
    "            new_list.append(word)\n",
    "    \n",
    "    return new_list\n",
    "\n",
    "\n",
    "new_list = make_new_list(trump_tweets)\n",
    "print(new_list)"
   ]
  },
  {
   "cell_type": "markdown",
   "id": "6fe1b18b",
   "metadata": {
    "ExecuteTime": {
     "end_time": "2021-09-08T12:44:40.599013Z",
     "start_time": "2021-09-08T12:44:40.585052Z"
    }
   },
   "source": [
    "## lower"
   ]
  },
  {
   "cell_type": "code",
   "execution_count": 14,
   "id": "13842878",
   "metadata": {
    "ExecuteTime": {
     "end_time": "2021-09-08T12:45:09.582086Z",
     "start_time": "2021-09-08T12:45:09.578348Z"
    }
   },
   "outputs": [],
   "source": [
    "trump_tweets = [\n",
    "    \"FAKE NEWS - A TOTAL POLITICAL WITCH HUNT!\",\n",
    "    \"Any negative polls are fake news, just like the CNN, ABC, NBC polls in the election.\",\n",
    "    \"The Fake News media is officially out of control.\",\n",
    "]"
   ]
  },
  {
   "cell_type": "code",
   "execution_count": 15,
   "id": "afb8e86b",
   "metadata": {
    "ExecuteTime": {
     "end_time": "2021-09-08T12:45:11.455190Z",
     "start_time": "2021-09-08T12:45:11.435906Z"
    }
   },
   "outputs": [],
   "source": [
    "def lowercase_all_characters(text):\n",
    "    processed_text = []\n",
    "    \n",
    "\n",
    "    for word in text:\n",
    "        word = word.lower()\n",
    "        processed_text.append(word)\n",
    "    \n",
    "    \n",
    "    return processed_text"
   ]
  },
  {
   "cell_type": "code",
   "execution_count": 16,
   "id": "1fd491ef",
   "metadata": {
    "ExecuteTime": {
     "end_time": "2021-09-08T12:45:22.797876Z",
     "start_time": "2021-09-08T12:45:22.790894Z"
    },
    "scrolled": true
   },
   "outputs": [
    {
     "name": "stdout",
     "output_type": "stream",
     "text": [
      "fake news - a total political witch hunt!\n",
      "any negative polls are fake news, just like the cnn, abc, nbc polls in the election.\n",
      "the fake news media is officially out of control.\n"
     ]
    }
   ],
   "source": [
    "print('\\n'.join(lowercase_all_characters(trump_tweets)))"
   ]
  },
  {
   "cell_type": "markdown",
   "id": "02c5cad3",
   "metadata": {
    "ExecuteTime": {
     "end_time": "2021-09-08T12:45:39.587602Z",
     "start_time": "2021-09-08T12:45:39.580623Z"
    }
   },
   "source": [
    "## replace"
   ]
  },
  {
   "cell_type": "code",
   "execution_count": 18,
   "id": "87630e62",
   "metadata": {
    "ExecuteTime": {
     "end_time": "2021-09-08T12:45:49.338240Z",
     "start_time": "2021-09-08T12:45:49.334252Z"
    }
   },
   "outputs": [],
   "source": [
    "trump_tweets = [\n",
    "    \"i hope everyone is having a great christmas, then tomorrow it’s back to work in order to make america great again.\",\n",
    "    \"7 of 10 americans prefer 'merry christmas' over 'happy holidays'.\",\n",
    "    \"merry christmas!!!\",\n",
    "]"
   ]
  },
  {
   "cell_type": "code",
   "execution_count": 20,
   "id": "8c50f858",
   "metadata": {
    "ExecuteTime": {
     "end_time": "2021-09-08T12:46:25.598389Z",
     "start_time": "2021-09-08T12:46:25.587864Z"
    }
   },
   "outputs": [],
   "source": [
    "def remove_special_characters(text):\n",
    "    processed_text = []\n",
    "    for word in text:\n",
    "        word = word.replace('!',\"\").replace(',',\"\").replace(\"'\",\"\")\n",
    "        word = word.lower()\n",
    "        processed_text.append(word)\n",
    "    \n",
    "    return processed_text"
   ]
  },
  {
   "cell_type": "code",
   "execution_count": 21,
   "id": "842b12ae",
   "metadata": {
    "ExecuteTime": {
     "end_time": "2021-09-08T12:46:35.577992Z",
     "start_time": "2021-09-08T12:46:35.567020Z"
    }
   },
   "outputs": [
    {
     "name": "stdout",
     "output_type": "stream",
     "text": [
      "i hope everyone is having a great christmas then tomorrow it’s back to work in order to make america great again.\n",
      "7 of 10 americans prefer merry christmas over happy holidays.\n",
      "merry christmas\n"
     ]
    }
   ],
   "source": [
    "print('\\n'.join(remove_special_characters(trump_tweets)))"
   ]
  }
 ],
 "metadata": {
  "hide_input": false,
  "kernelspec": {
   "display_name": "Python 3",
   "language": "python",
   "name": "python3"
  },
  "language_info": {
   "codemirror_mode": {
    "name": "ipython",
    "version": 3
   },
   "file_extension": ".py",
   "mimetype": "text/x-python",
   "name": "python",
   "nbconvert_exporter": "python",
   "pygments_lexer": "ipython3",
   "version": "3.8.8"
  },
  "toc": {
   "base_numbering": 1,
   "nav_menu": {},
   "number_sections": true,
   "sideBar": true,
   "skip_h1_title": false,
   "title_cell": "Table of Contents",
   "title_sidebar": "Contents",
   "toc_cell": false,
   "toc_position": {},
   "toc_section_display": true,
   "toc_window_display": false
  },
  "varInspector": {
   "cols": {
    "lenName": 16,
    "lenType": 16,
    "lenVar": 40
   },
   "kernels_config": {
    "python": {
     "delete_cmd_postfix": "",
     "delete_cmd_prefix": "del ",
     "library": "var_list.py",
     "varRefreshCmd": "print(var_dic_list())"
    },
    "r": {
     "delete_cmd_postfix": ") ",
     "delete_cmd_prefix": "rm(",
     "library": "var_list.r",
     "varRefreshCmd": "cat(var_dic_list()) "
    }
   },
   "types_to_exclude": [
    "module",
    "function",
    "builtin_function_or_method",
    "instance",
    "_Feature"
   ],
   "window_display": false
  }
 },
 "nbformat": 4,
 "nbformat_minor": 5
}
