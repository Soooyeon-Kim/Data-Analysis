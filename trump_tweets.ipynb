{
 "cells": [
  {
   "cell_type": "code",
   "execution_count": 2,
   "id": "63b76f5a",
   "metadata": {
    "ExecuteTime": {
     "end_time": "2021-09-08T12:36:30.468665Z",
     "start_time": "2021-09-08T12:36:30.462678Z"
    }
   },
   "outputs": [],
   "source": [
    "# 트럼프 대통령의 1월 1~3일 트윗을 각각 리스트의 원소로 저장\n",
    "trump_tweets = [\n",
    "    'Will be leaving Florida for Washington (D.C.) today at 4:00 P.M. Much work to be done, but it will be a great New Year!',\n",
    "    'Companies are giving big bonuses to their workers because of the Tax Cut Bill. Really great!',\n",
    "    'MAKE AMERICA GREAT AGAIN!'\n",
    "]"
   ]
  },
  {
   "cell_type": "code",
   "execution_count": 3,
   "id": "62d41190",
   "metadata": {
    "ExecuteTime": {
     "end_time": "2021-09-08T12:36:38.918297Z",
     "start_time": "2021-09-08T12:36:38.900339Z"
    }
   },
   "outputs": [
    {
     "name": "stdout",
     "output_type": "stream",
     "text": [
      "2018년 1월 1일: Will be leaving Florida for Washington (D.C.) today at 4:00 P.M. Much work to be done, but it will be a great New Year!\n",
      "2018년 1월 2일: Companies are giving big bonuses to their workers because of the Tax Cut Bill. Really great!\n",
      "2018년 1월 3일: MAKE AMERICA GREAT AGAIN!\n"
     ]
    }
   ],
   "source": [
    "def date_tweet(tweet):\n",
    "    # index에 0~2을 차례대로 저장하여 반복문을 실행\n",
    "    for index in range(len(tweet)):\n",
    "        print('2018년 1월 ' + str(index+1) + '일: ' + tweet[index])\n",
    "\n",
    "date_tweet(trump_tweets)"
   ]
  }
 ],
 "metadata": {
  "hide_input": false,
  "kernelspec": {
   "display_name": "Python 3",
   "language": "python",
   "name": "python3"
  },
  "language_info": {
   "codemirror_mode": {
    "name": "ipython",
    "version": 3
   },
   "file_extension": ".py",
   "mimetype": "text/x-python",
   "name": "python",
   "nbconvert_exporter": "python",
   "pygments_lexer": "ipython3",
   "version": "3.8.8"
  },
  "toc": {
   "base_numbering": 1,
   "nav_menu": {},
   "number_sections": true,
   "sideBar": true,
   "skip_h1_title": false,
   "title_cell": "Table of Contents",
   "title_sidebar": "Contents",
   "toc_cell": false,
   "toc_position": {},
   "toc_section_display": true,
   "toc_window_display": false
  },
  "varInspector": {
   "cols": {
    "lenName": 16,
    "lenType": 16,
    "lenVar": 40
   },
   "kernels_config": {
    "python": {
     "delete_cmd_postfix": "",
     "delete_cmd_prefix": "del ",
     "library": "var_list.py",
     "varRefreshCmd": "print(var_dic_list())"
    },
    "r": {
     "delete_cmd_postfix": ") ",
     "delete_cmd_prefix": "rm(",
     "library": "var_list.r",
     "varRefreshCmd": "cat(var_dic_list()) "
    }
   },
   "types_to_exclude": [
    "module",
    "function",
    "builtin_function_or_method",
    "instance",
    "_Feature"
   ],
   "window_display": false
  }
 },
 "nbformat": 4,
 "nbformat_minor": 5
}
