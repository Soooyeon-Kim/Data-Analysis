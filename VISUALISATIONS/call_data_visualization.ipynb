{
 "cells": [
  {
   "cell_type": "code",
   "execution_count": 1,
   "id": "dcc869b8",
   "metadata": {
    "ExecuteTime": {
     "end_time": "2021-09-24T04:03:31.118694Z",
     "start_time": "2021-09-24T04:03:25.282918Z"
    }
   },
   "outputs": [],
   "source": [
    "import pandas as pd\n",
    "import numpy as np\n",
    "import seaborn as sns\n",
    "import matplotlib.pyplot as plt\n",
    "import warnings\n",
    "warnings.filterwarnings('ignore')\n",
    "\n",
    "# 한글 폰트를 사용할 수 있게 만들어줌\n",
    "import matplotlib as mpl\n",
    "import matplotlib.font_manager as fm\n",
    "fontpath = 'NanumBarunGothic.ttf'\n",
    "font = fm.FontProperties(fname=fontpath, size=9)\n",
    "plt.rc('font', family='NanumBarunGothic') # 그래프에서 한글 깨지는 현상 방지\n",
    "plt.rc('axes', unicode_minus=False) # 그래프에서 마이너스 기호가 표시되도록\n",
    "mpl.font_manager._rebuild()"
   ]
  },
  {
   "cell_type": "code",
   "execution_count": 2,
   "id": "b204e45d",
   "metadata": {
    "ExecuteTime": {
     "end_time": "2021-09-24T04:03:34.351147Z",
     "start_time": "2021-09-24T04:03:32.894285Z"
    }
   },
   "outputs": [
    {
     "data": {
      "text/html": [
       "<div>\n",
       "<style scoped>\n",
       "    .dataframe tbody tr th:only-of-type {\n",
       "        vertical-align: middle;\n",
       "    }\n",
       "\n",
       "    .dataframe tbody tr th {\n",
       "        vertical-align: top;\n",
       "    }\n",
       "\n",
       "    .dataframe thead th {\n",
       "        text-align: right;\n",
       "    }\n",
       "</style>\n",
       "<table border=\"1\" class=\"dataframe\">\n",
       "  <thead>\n",
       "    <tr style=\"text-align: right;\">\n",
       "      <th></th>\n",
       "      <th>일자</th>\n",
       "      <th>연령</th>\n",
       "      <th>성별</th>\n",
       "      <th>시도</th>\n",
       "      <th>시군구</th>\n",
       "      <th>대분류</th>\n",
       "      <th>중분류</th>\n",
       "      <th>통화비율(시군구내)</th>\n",
       "    </tr>\n",
       "  </thead>\n",
       "  <tbody>\n",
       "    <tr>\n",
       "      <th>0</th>\n",
       "      <td>20200921</td>\n",
       "      <td>50</td>\n",
       "      <td>여성</td>\n",
       "      <td>강원</td>\n",
       "      <td>강릉시</td>\n",
       "      <td>생활편의</td>\n",
       "      <td>생활서비스</td>\n",
       "      <td>0.0001</td>\n",
       "    </tr>\n",
       "    <tr>\n",
       "      <th>1</th>\n",
       "      <td>20200927</td>\n",
       "      <td>60</td>\n",
       "      <td>남성</td>\n",
       "      <td>강원</td>\n",
       "      <td>강릉시</td>\n",
       "      <td>생활편의</td>\n",
       "      <td>생활편의</td>\n",
       "      <td>0.0001</td>\n",
       "    </tr>\n",
       "    <tr>\n",
       "      <th>2</th>\n",
       "      <td>20200927</td>\n",
       "      <td>40</td>\n",
       "      <td>여성</td>\n",
       "      <td>강원</td>\n",
       "      <td>강릉시</td>\n",
       "      <td>음식점</td>\n",
       "      <td>중식</td>\n",
       "      <td>0.0001</td>\n",
       "    </tr>\n",
       "    <tr>\n",
       "      <th>3</th>\n",
       "      <td>20200922</td>\n",
       "      <td>40</td>\n",
       "      <td>남성</td>\n",
       "      <td>강원</td>\n",
       "      <td>강릉시</td>\n",
       "      <td>서비스산업</td>\n",
       "      <td>건설/건축</td>\n",
       "      <td>0.0002</td>\n",
       "    </tr>\n",
       "    <tr>\n",
       "      <th>4</th>\n",
       "      <td>20200919</td>\n",
       "      <td>50</td>\n",
       "      <td>여성</td>\n",
       "      <td>강원</td>\n",
       "      <td>강릉시</td>\n",
       "      <td>교통편의</td>\n",
       "      <td>교통편의</td>\n",
       "      <td>0.0003</td>\n",
       "    </tr>\n",
       "    <tr>\n",
       "      <th>...</th>\n",
       "      <td>...</td>\n",
       "      <td>...</td>\n",
       "      <td>...</td>\n",
       "      <td>...</td>\n",
       "      <td>...</td>\n",
       "      <td>...</td>\n",
       "      <td>...</td>\n",
       "      <td>...</td>\n",
       "    </tr>\n",
       "    <tr>\n",
       "      <th>561124</th>\n",
       "      <td>20200902</td>\n",
       "      <td>20</td>\n",
       "      <td>여성</td>\n",
       "      <td>충북</td>\n",
       "      <td>청주시</td>\n",
       "      <td>금융편의</td>\n",
       "      <td>제2금융</td>\n",
       "      <td>0.0001</td>\n",
       "    </tr>\n",
       "    <tr>\n",
       "      <th>561125</th>\n",
       "      <td>20200912</td>\n",
       "      <td>40</td>\n",
       "      <td>여성</td>\n",
       "      <td>충북</td>\n",
       "      <td>청주시</td>\n",
       "      <td>음식점</td>\n",
       "      <td>치킨</td>\n",
       "      <td>0.0003</td>\n",
       "    </tr>\n",
       "    <tr>\n",
       "      <th>561126</th>\n",
       "      <td>20200905</td>\n",
       "      <td>40</td>\n",
       "      <td>남성</td>\n",
       "      <td>충북</td>\n",
       "      <td>청주시</td>\n",
       "      <td>음식점</td>\n",
       "      <td>한식</td>\n",
       "      <td>0.0004</td>\n",
       "    </tr>\n",
       "    <tr>\n",
       "      <th>561127</th>\n",
       "      <td>20200905</td>\n",
       "      <td>40</td>\n",
       "      <td>남성</td>\n",
       "      <td>충북</td>\n",
       "      <td>청주시</td>\n",
       "      <td>의료편의</td>\n",
       "      <td>의료시설</td>\n",
       "      <td>0.0001</td>\n",
       "    </tr>\n",
       "    <tr>\n",
       "      <th>561128</th>\n",
       "      <td>20200928</td>\n",
       "      <td>50</td>\n",
       "      <td>남성</td>\n",
       "      <td>충북</td>\n",
       "      <td>청주시</td>\n",
       "      <td>교통편의</td>\n",
       "      <td>교통편의</td>\n",
       "      <td>0.0002</td>\n",
       "    </tr>\n",
       "  </tbody>\n",
       "</table>\n",
       "<p>561129 rows × 8 columns</p>\n",
       "</div>"
      ],
      "text/plain": [
       "              일자  연령  성별  시도  시군구    대분류    중분류  통화비율(시군구내)\n",
       "0       20200921  50  여성  강원  강릉시   생활편의  생활서비스      0.0001\n",
       "1       20200927  60  남성  강원  강릉시   생활편의   생활편의      0.0001\n",
       "2       20200927  40  여성  강원  강릉시    음식점     중식      0.0001\n",
       "3       20200922  40  남성  강원  강릉시  서비스산업  건설/건축      0.0002\n",
       "4       20200919  50  여성  강원  강릉시   교통편의   교통편의      0.0003\n",
       "...          ...  ..  ..  ..  ...    ...    ...         ...\n",
       "561124  20200902  20  여성  충북  청주시   금융편의   제2금융      0.0001\n",
       "561125  20200912  40  여성  충북  청주시    음식점     치킨      0.0003\n",
       "561126  20200905  40  남성  충북  청주시    음식점     한식      0.0004\n",
       "561127  20200905  40  남성  충북  청주시   의료편의   의료시설      0.0001\n",
       "561128  20200928  50  남성  충북  청주시   교통편의   교통편의      0.0002\n",
       "\n",
       "[561129 rows x 8 columns]"
      ]
     },
     "execution_count": 2,
     "metadata": {},
     "output_type": "execute_result"
    }
   ],
   "source": [
    "df = pd.read_csv('call_data.csv')\n",
    "df.rename(columns = {'발신지(시도)':'시도', '발신지(시군구)': '시군구', '일자(YYYYMMDD)':'일자'}, inplace=True)\n",
    "df"
   ]
  },
  {
   "cell_type": "code",
   "execution_count": 3,
   "id": "7f6313ec",
   "metadata": {
    "ExecuteTime": {
     "end_time": "2021-09-24T04:03:45.269739Z",
     "start_time": "2021-09-24T04:03:44.889121Z"
    }
   },
   "outputs": [
    {
     "name": "stdout",
     "output_type": "stream",
     "text": [
      "<class 'pandas.core.frame.DataFrame'>\n",
      "RangeIndex: 561129 entries, 0 to 561128\n",
      "Data columns (total 8 columns):\n",
      " #   Column      Non-Null Count   Dtype  \n",
      "---  ------      --------------   -----  \n",
      " 0   일자          561129 non-null  int64  \n",
      " 1   연령          561129 non-null  int64  \n",
      " 2   성별          561129 non-null  object \n",
      " 3   시도          561129 non-null  object \n",
      " 4   시군구         561129 non-null  object \n",
      " 5   대분류         561129 non-null  object \n",
      " 6   중분류         561129 non-null  object \n",
      " 7   통화비율(시군구내)  561129 non-null  float64\n",
      "dtypes: float64(1), int64(2), object(5)\n",
      "memory usage: 34.2+ MB\n"
     ]
    }
   ],
   "source": [
    "df.info()"
   ]
  },
  {
   "cell_type": "markdown",
   "id": "8129b9b5",
   "metadata": {},
   "source": [
    "#### 연령이 20, 30대이고, 시군구 제주시에서 대분류 음식점에 전화한 사람들 출력"
   ]
  },
  {
   "cell_type": "code",
   "execution_count": 4,
   "id": "4ad9da4a",
   "metadata": {
    "ExecuteTime": {
     "end_time": "2021-09-24T04:04:13.079605Z",
     "start_time": "2021-09-24T04:04:12.890612Z"
    }
   },
   "outputs": [
    {
     "data": {
      "text/html": [
       "<div>\n",
       "<style scoped>\n",
       "    .dataframe tbody tr th:only-of-type {\n",
       "        vertical-align: middle;\n",
       "    }\n",
       "\n",
       "    .dataframe tbody tr th {\n",
       "        vertical-align: top;\n",
       "    }\n",
       "\n",
       "    .dataframe thead th {\n",
       "        text-align: right;\n",
       "    }\n",
       "</style>\n",
       "<table border=\"1\" class=\"dataframe\">\n",
       "  <thead>\n",
       "    <tr style=\"text-align: right;\">\n",
       "      <th></th>\n",
       "      <th>일자</th>\n",
       "      <th>연령</th>\n",
       "      <th>성별</th>\n",
       "      <th>시도</th>\n",
       "      <th>시군구</th>\n",
       "      <th>대분류</th>\n",
       "      <th>중분류</th>\n",
       "      <th>통화비율(시군구내)</th>\n",
       "    </tr>\n",
       "  </thead>\n",
       "  <tbody>\n",
       "    <tr>\n",
       "      <th>257460</th>\n",
       "      <td>20200901</td>\n",
       "      <td>30</td>\n",
       "      <td>남성</td>\n",
       "      <td>제주</td>\n",
       "      <td>제주시</td>\n",
       "      <td>음식점</td>\n",
       "      <td>치킨</td>\n",
       "      <td>0.0001</td>\n",
       "    </tr>\n",
       "    <tr>\n",
       "      <th>257461</th>\n",
       "      <td>20200918</td>\n",
       "      <td>30</td>\n",
       "      <td>남성</td>\n",
       "      <td>제주</td>\n",
       "      <td>제주시</td>\n",
       "      <td>음식점</td>\n",
       "      <td>치킨</td>\n",
       "      <td>0.0001</td>\n",
       "    </tr>\n",
       "    <tr>\n",
       "      <th>257462</th>\n",
       "      <td>20200903</td>\n",
       "      <td>20</td>\n",
       "      <td>여성</td>\n",
       "      <td>제주</td>\n",
       "      <td>제주시</td>\n",
       "      <td>교통편의</td>\n",
       "      <td>자동차시설</td>\n",
       "      <td>0.0001</td>\n",
       "    </tr>\n",
       "    <tr>\n",
       "      <th>257463</th>\n",
       "      <td>20200902</td>\n",
       "      <td>30</td>\n",
       "      <td>여성</td>\n",
       "      <td>제주</td>\n",
       "      <td>제주시</td>\n",
       "      <td>교통편의</td>\n",
       "      <td>자동차시설</td>\n",
       "      <td>0.0001</td>\n",
       "    </tr>\n",
       "    <tr>\n",
       "      <th>257465</th>\n",
       "      <td>20200922</td>\n",
       "      <td>20</td>\n",
       "      <td>여성</td>\n",
       "      <td>제주</td>\n",
       "      <td>제주시</td>\n",
       "      <td>금융편의</td>\n",
       "      <td>제2금융</td>\n",
       "      <td>0.0001</td>\n",
       "    </tr>\n",
       "    <tr>\n",
       "      <th>...</th>\n",
       "      <td>...</td>\n",
       "      <td>...</td>\n",
       "      <td>...</td>\n",
       "      <td>...</td>\n",
       "      <td>...</td>\n",
       "      <td>...</td>\n",
       "      <td>...</td>\n",
       "      <td>...</td>\n",
       "    </tr>\n",
       "    <tr>\n",
       "      <th>259927</th>\n",
       "      <td>20200927</td>\n",
       "      <td>20</td>\n",
       "      <td>여성</td>\n",
       "      <td>제주</td>\n",
       "      <td>제주시</td>\n",
       "      <td>음식점</td>\n",
       "      <td>한식</td>\n",
       "      <td>0.0001</td>\n",
       "    </tr>\n",
       "    <tr>\n",
       "      <th>259934</th>\n",
       "      <td>20200916</td>\n",
       "      <td>30</td>\n",
       "      <td>여성</td>\n",
       "      <td>제주</td>\n",
       "      <td>제주시</td>\n",
       "      <td>금융편의</td>\n",
       "      <td>주요금융</td>\n",
       "      <td>0.0001</td>\n",
       "    </tr>\n",
       "    <tr>\n",
       "      <th>259938</th>\n",
       "      <td>20200904</td>\n",
       "      <td>30</td>\n",
       "      <td>여성</td>\n",
       "      <td>제주</td>\n",
       "      <td>제주시</td>\n",
       "      <td>공공편의</td>\n",
       "      <td>행정기관</td>\n",
       "      <td>0.0002</td>\n",
       "    </tr>\n",
       "    <tr>\n",
       "      <th>259941</th>\n",
       "      <td>20200930</td>\n",
       "      <td>20</td>\n",
       "      <td>남성</td>\n",
       "      <td>제주</td>\n",
       "      <td>제주시</td>\n",
       "      <td>음식점</td>\n",
       "      <td>한식</td>\n",
       "      <td>0.0001</td>\n",
       "    </tr>\n",
       "    <tr>\n",
       "      <th>259942</th>\n",
       "      <td>20200907</td>\n",
       "      <td>30</td>\n",
       "      <td>여성</td>\n",
       "      <td>제주</td>\n",
       "      <td>제주시</td>\n",
       "      <td>교통편의</td>\n",
       "      <td>자동차시설</td>\n",
       "      <td>0.0001</td>\n",
       "    </tr>\n",
       "  </tbody>\n",
       "</table>\n",
       "<p>640 rows × 8 columns</p>\n",
       "</div>"
      ],
      "text/plain": [
       "              일자  연령  성별  시도  시군구   대분류    중분류  통화비율(시군구내)\n",
       "257460  20200901  30  남성  제주  제주시   음식점     치킨      0.0001\n",
       "257461  20200918  30  남성  제주  제주시   음식점     치킨      0.0001\n",
       "257462  20200903  20  여성  제주  제주시  교통편의  자동차시설      0.0001\n",
       "257463  20200902  30  여성  제주  제주시  교통편의  자동차시설      0.0001\n",
       "257465  20200922  20  여성  제주  제주시  금융편의   제2금융      0.0001\n",
       "...          ...  ..  ..  ..  ...   ...    ...         ...\n",
       "259927  20200927  20  여성  제주  제주시   음식점     한식      0.0001\n",
       "259934  20200916  30  여성  제주  제주시  금융편의   주요금융      0.0001\n",
       "259938  20200904  30  여성  제주  제주시  공공편의   행정기관      0.0002\n",
       "259941  20200930  20  남성  제주  제주시   음식점     한식      0.0001\n",
       "259942  20200907  30  여성  제주  제주시  교통편의  자동차시설      0.0001\n",
       "\n",
       "[640 rows x 8 columns]"
      ]
     },
     "execution_count": 4,
     "metadata": {},
     "output_type": "execute_result"
    }
   ],
   "source": [
    "df[df['연령'].isin([20, 30]) & (df['시군구']=='제주시')]"
   ]
  },
  {
   "cell_type": "markdown",
   "id": "271627a6",
   "metadata": {
    "ExecuteTime": {
     "end_time": "2021-09-24T04:04:20.814863Z",
     "start_time": "2021-09-24T04:04:20.802857Z"
    }
   },
   "source": [
    "#### 대분류별 통화한 사람들의 수를 f에 저장하고, 막대그래프로 표현"
   ]
  },
  {
   "cell_type": "code",
   "execution_count": 6,
   "id": "cc9d169b",
   "metadata": {
    "ExecuteTime": {
     "end_time": "2021-09-24T04:04:27.035503Z",
     "start_time": "2021-09-24T04:04:26.509205Z"
    }
   },
   "outputs": [
    {
     "data": {
      "text/html": [
       "<div>\n",
       "<style scoped>\n",
       "    .dataframe tbody tr th:only-of-type {\n",
       "        vertical-align: middle;\n",
       "    }\n",
       "\n",
       "    .dataframe tbody tr th {\n",
       "        vertical-align: top;\n",
       "    }\n",
       "\n",
       "    .dataframe thead th {\n",
       "        text-align: right;\n",
       "    }\n",
       "</style>\n",
       "<table border=\"1\" class=\"dataframe\">\n",
       "  <thead>\n",
       "    <tr style=\"text-align: right;\">\n",
       "      <th></th>\n",
       "      <th>대분류</th>\n",
       "      <th>사람수</th>\n",
       "    </tr>\n",
       "  </thead>\n",
       "  <tbody>\n",
       "    <tr>\n",
       "      <th>0</th>\n",
       "      <td>건물/시설</td>\n",
       "      <td>209</td>\n",
       "    </tr>\n",
       "    <tr>\n",
       "      <th>1</th>\n",
       "      <td>공공편의</td>\n",
       "      <td>47455</td>\n",
       "    </tr>\n",
       "    <tr>\n",
       "      <th>2</th>\n",
       "      <td>교육/학문</td>\n",
       "      <td>5078</td>\n",
       "    </tr>\n",
       "    <tr>\n",
       "      <th>3</th>\n",
       "      <td>교통편의</td>\n",
       "      <td>34937</td>\n",
       "    </tr>\n",
       "    <tr>\n",
       "      <th>4</th>\n",
       "      <td>금융편의</td>\n",
       "      <td>115155</td>\n",
       "    </tr>\n",
       "    <tr>\n",
       "      <th>5</th>\n",
       "      <td>기업/단체</td>\n",
       "      <td>755</td>\n",
       "    </tr>\n",
       "    <tr>\n",
       "      <th>6</th>\n",
       "      <td>생활편의</td>\n",
       "      <td>59997</td>\n",
       "    </tr>\n",
       "    <tr>\n",
       "      <th>7</th>\n",
       "      <td>서비스산업</td>\n",
       "      <td>72415</td>\n",
       "    </tr>\n",
       "    <tr>\n",
       "      <th>8</th>\n",
       "      <td>쇼핑</td>\n",
       "      <td>58150</td>\n",
       "    </tr>\n",
       "    <tr>\n",
       "      <th>9</th>\n",
       "      <td>스포츠/레저</td>\n",
       "      <td>6271</td>\n",
       "    </tr>\n",
       "    <tr>\n",
       "      <th>10</th>\n",
       "      <td>여행</td>\n",
       "      <td>2167</td>\n",
       "    </tr>\n",
       "    <tr>\n",
       "      <th>11</th>\n",
       "      <td>음식점</td>\n",
       "      <td>100383</td>\n",
       "    </tr>\n",
       "    <tr>\n",
       "      <th>12</th>\n",
       "      <td>의료편의</td>\n",
       "      <td>58004</td>\n",
       "    </tr>\n",
       "    <tr>\n",
       "      <th>13</th>\n",
       "      <td>이벤트</td>\n",
       "      <td>153</td>\n",
       "    </tr>\n",
       "  </tbody>\n",
       "</table>\n",
       "</div>"
      ],
      "text/plain": [
       "       대분류     사람수\n",
       "0    건물/시설     209\n",
       "1     공공편의   47455\n",
       "2    교육/학문    5078\n",
       "3     교통편의   34937\n",
       "4     금융편의  115155\n",
       "5    기업/단체     755\n",
       "6     생활편의   59997\n",
       "7    서비스산업   72415\n",
       "8       쇼핑   58150\n",
       "9   스포츠/레저    6271\n",
       "10      여행    2167\n",
       "11     음식점  100383\n",
       "12    의료편의   58004\n",
       "13     이벤트     153"
      ]
     },
     "execution_count": 6,
     "metadata": {},
     "output_type": "execute_result"
    }
   ],
   "source": [
    "f = df.groupby('대분류').count()['일자'].reset_index().rename(columns={'일자':'사람수'})\n",
    "f"
   ]
  },
  {
   "cell_type": "code",
   "execution_count": 7,
   "id": "43a1bf17",
   "metadata": {
    "ExecuteTime": {
     "end_time": "2021-09-24T04:04:37.222379Z",
     "start_time": "2021-09-24T04:04:36.518745Z"
    }
   },
   "outputs": [
    {
     "data": {
      "text/plain": [
       "<Figure size 2160x576 with 0 Axes>"
      ]
     },
     "metadata": {},
     "output_type": "display_data"
    },
    {
     "data": {
      "image/png": "[encoded data removed]",
      "text/plain": [
       "<Figure size 432x288 with 1 Axes>"
      ]
     },
     "metadata": {
      "needs_background": "light"
     },
     "output_type": "display_data"
    }
   ],
   "source": [
    "plt.figure(figsize=(30,8))\n",
    "f.plot(kind='bar', x='대분류', y='사람수')\n",
    "plt.show()"
   ]
  },
  {
   "cell_type": "code",
   "execution_count": 11,
   "id": "2818ee30",
   "metadata": {
    "ExecuteTime": {
     "end_time": "2021-09-24T04:05:13.055483Z",
     "start_time": "2021-09-24T04:05:12.330318Z"
    }
   },
   "outputs": [
    {
     "data": {
      "image/png": "[encoded data removed]",
      "text/plain": [
       "<Figure size 1080x576 with 1 Axes>"
      ]
     },
     "metadata": {
      "needs_background": "light"
     },
     "output_type": "display_data"
    }
   ],
   "source": [
    "plt.figure(figsize=(15,8))\n",
    "sns.barplot(x= f['대분류'], y=f['사람수'])\n",
    "plt.show()"
   ]
  },
  {
   "cell_type": "markdown",
   "id": "2a939a35",
   "metadata": {
    "ExecuteTime": {
     "end_time": "2021-09-24T04:05:29.603860Z",
     "start_time": "2021-09-24T04:05:29.592569Z"
    }
   },
   "source": [
    "#### 20200907 ~ 20200910에 각 대분류에 전화한 평균 연령"
   ]
  },
  {
   "cell_type": "markdown",
   "id": "d032dd78",
   "metadata": {
    "ExecuteTime": {
     "end_time": "2021-09-24T04:05:48.461423Z",
     "start_time": "2021-09-24T04:05:48.454239Z"
    }
   },
   "source": [
    "#### Step by step"
   ]
  },
  {
   "cell_type": "code",
   "execution_count": 14,
   "id": "eefb640d",
   "metadata": {
    "ExecuteTime": {
     "end_time": "2021-09-24T04:05:56.836895Z",
     "start_time": "2021-09-24T04:05:56.815931Z"
    }
   },
   "outputs": [
    {
     "data": {
      "text/plain": [
       "dtype('int64')"
      ]
     },
     "execution_count": 14,
     "metadata": {},
     "output_type": "execute_result"
    }
   ],
   "source": [
    "df['일자'].dtype"
   ]
  },
  {
   "cell_type": "code",
   "execution_count": 15,
   "id": "47e26123",
   "metadata": {
    "ExecuteTime": {
     "end_time": "2021-09-24T04:06:01.469947Z",
     "start_time": "2021-09-24T04:06:01.342171Z"
    }
   },
   "outputs": [
    {
     "data": {
      "text/html": [
       "<div>\n",
       "<style scoped>\n",
       "    .dataframe tbody tr th:only-of-type {\n",
       "        vertical-align: middle;\n",
       "    }\n",
       "\n",
       "    .dataframe tbody tr th {\n",
       "        vertical-align: top;\n",
       "    }\n",
       "\n",
       "    .dataframe thead th {\n",
       "        text-align: right;\n",
       "    }\n",
       "</style>\n",
       "<table border=\"1\" class=\"dataframe\">\n",
       "  <thead>\n",
       "    <tr style=\"text-align: right;\">\n",
       "      <th></th>\n",
       "      <th>일자</th>\n",
       "      <th>연령</th>\n",
       "      <th>성별</th>\n",
       "      <th>시도</th>\n",
       "      <th>시군구</th>\n",
       "      <th>대분류</th>\n",
       "      <th>중분류</th>\n",
       "      <th>통화비율(시군구내)</th>\n",
       "    </tr>\n",
       "  </thead>\n",
       "  <tbody>\n",
       "    <tr>\n",
       "      <th>11</th>\n",
       "      <td>20200908</td>\n",
       "      <td>30</td>\n",
       "      <td>남성</td>\n",
       "      <td>강원</td>\n",
       "      <td>강릉시</td>\n",
       "      <td>생활편의</td>\n",
       "      <td>생활서비스</td>\n",
       "      <td>0.0001</td>\n",
       "    </tr>\n",
       "    <tr>\n",
       "      <th>25</th>\n",
       "      <td>20200910</td>\n",
       "      <td>40</td>\n",
       "      <td>남성</td>\n",
       "      <td>강원</td>\n",
       "      <td>강릉시</td>\n",
       "      <td>서비스산업</td>\n",
       "      <td>공공기업</td>\n",
       "      <td>0.0001</td>\n",
       "    </tr>\n",
       "    <tr>\n",
       "      <th>39</th>\n",
       "      <td>20200908</td>\n",
       "      <td>50</td>\n",
       "      <td>남성</td>\n",
       "      <td>강원</td>\n",
       "      <td>강릉시</td>\n",
       "      <td>음식점</td>\n",
       "      <td>한식</td>\n",
       "      <td>0.0003</td>\n",
       "    </tr>\n",
       "    <tr>\n",
       "      <th>48</th>\n",
       "      <td>20200910</td>\n",
       "      <td>60</td>\n",
       "      <td>여성</td>\n",
       "      <td>강원</td>\n",
       "      <td>강릉시</td>\n",
       "      <td>생활편의</td>\n",
       "      <td>생활편의</td>\n",
       "      <td>0.0003</td>\n",
       "    </tr>\n",
       "    <tr>\n",
       "      <th>49</th>\n",
       "      <td>20200909</td>\n",
       "      <td>20</td>\n",
       "      <td>남성</td>\n",
       "      <td>강원</td>\n",
       "      <td>강릉시</td>\n",
       "      <td>음식점</td>\n",
       "      <td>한식</td>\n",
       "      <td>0.0001</td>\n",
       "    </tr>\n",
       "    <tr>\n",
       "      <th>...</th>\n",
       "      <td>...</td>\n",
       "      <td>...</td>\n",
       "      <td>...</td>\n",
       "      <td>...</td>\n",
       "      <td>...</td>\n",
       "      <td>...</td>\n",
       "      <td>...</td>\n",
       "      <td>...</td>\n",
       "    </tr>\n",
       "    <tr>\n",
       "      <th>561085</th>\n",
       "      <td>20200910</td>\n",
       "      <td>50</td>\n",
       "      <td>여성</td>\n",
       "      <td>충북</td>\n",
       "      <td>청주시</td>\n",
       "      <td>생활편의</td>\n",
       "      <td>생활편의</td>\n",
       "      <td>0.0002</td>\n",
       "    </tr>\n",
       "    <tr>\n",
       "      <th>561089</th>\n",
       "      <td>20200910</td>\n",
       "      <td>40</td>\n",
       "      <td>여성</td>\n",
       "      <td>충북</td>\n",
       "      <td>청주시</td>\n",
       "      <td>쇼핑</td>\n",
       "      <td>쇼핑</td>\n",
       "      <td>0.0003</td>\n",
       "    </tr>\n",
       "    <tr>\n",
       "      <th>561101</th>\n",
       "      <td>20200907</td>\n",
       "      <td>70</td>\n",
       "      <td>남성</td>\n",
       "      <td>충북</td>\n",
       "      <td>청주시</td>\n",
       "      <td>의료편의</td>\n",
       "      <td>의료시설</td>\n",
       "      <td>0.0001</td>\n",
       "    </tr>\n",
       "    <tr>\n",
       "      <th>561105</th>\n",
       "      <td>20200910</td>\n",
       "      <td>50</td>\n",
       "      <td>남성</td>\n",
       "      <td>충북</td>\n",
       "      <td>청주시</td>\n",
       "      <td>생활편의</td>\n",
       "      <td>생활편의</td>\n",
       "      <td>0.0002</td>\n",
       "    </tr>\n",
       "    <tr>\n",
       "      <th>561112</th>\n",
       "      <td>20200910</td>\n",
       "      <td>60</td>\n",
       "      <td>남성</td>\n",
       "      <td>충북</td>\n",
       "      <td>청주시</td>\n",
       "      <td>서비스산업</td>\n",
       "      <td>공공기업</td>\n",
       "      <td>0.0001</td>\n",
       "    </tr>\n",
       "  </tbody>\n",
       "</table>\n",
       "<p>87791 rows × 8 columns</p>\n",
       "</div>"
      ],
      "text/plain": [
       "              일자  연령  성별  시도  시군구    대분류    중분류  통화비율(시군구내)\n",
       "11      20200908  30  남성  강원  강릉시   생활편의  생활서비스      0.0001\n",
       "25      20200910  40  남성  강원  강릉시  서비스산업   공공기업      0.0001\n",
       "39      20200908  50  남성  강원  강릉시    음식점     한식      0.0003\n",
       "48      20200910  60  여성  강원  강릉시   생활편의   생활편의      0.0003\n",
       "49      20200909  20  남성  강원  강릉시    음식점     한식      0.0001\n",
       "...          ...  ..  ..  ..  ...    ...    ...         ...\n",
       "561085  20200910  50  여성  충북  청주시   생활편의   생활편의      0.0002\n",
       "561089  20200910  40  여성  충북  청주시     쇼핑     쇼핑      0.0003\n",
       "561101  20200907  70  남성  충북  청주시   의료편의   의료시설      0.0001\n",
       "561105  20200910  50  남성  충북  청주시   생활편의   생활편의      0.0002\n",
       "561112  20200910  60  남성  충북  청주시  서비스산업   공공기업      0.0001\n",
       "\n",
       "[87791 rows x 8 columns]"
      ]
     },
     "execution_count": 15,
     "metadata": {},
     "output_type": "execute_result"
    }
   ],
   "source": [
    "df[(df['일자'] > 20200906) & (df['일자'] < 20200911)]"
   ]
  },
  {
   "cell_type": "code",
   "execution_count": 16,
   "id": "25079b98",
   "metadata": {
    "ExecuteTime": {
     "end_time": "2021-09-24T04:06:09.106669Z",
     "start_time": "2021-09-24T04:06:09.017481Z"
    }
   },
   "outputs": [
    {
     "data": {
      "text/html": [
       "<div>\n",
       "<style scoped>\n",
       "    .dataframe tbody tr th:only-of-type {\n",
       "        vertical-align: middle;\n",
       "    }\n",
       "\n",
       "    .dataframe tbody tr th {\n",
       "        vertical-align: top;\n",
       "    }\n",
       "\n",
       "    .dataframe thead th {\n",
       "        text-align: right;\n",
       "    }\n",
       "</style>\n",
       "<table border=\"1\" class=\"dataframe\">\n",
       "  <thead>\n",
       "    <tr style=\"text-align: right;\">\n",
       "      <th></th>\n",
       "      <th>일자</th>\n",
       "      <th>연령</th>\n",
       "      <th>성별</th>\n",
       "      <th>시도</th>\n",
       "      <th>시군구</th>\n",
       "      <th>대분류</th>\n",
       "      <th>중분류</th>\n",
       "      <th>통화비율(시군구내)</th>\n",
       "    </tr>\n",
       "  </thead>\n",
       "  <tbody>\n",
       "    <tr>\n",
       "      <th>11</th>\n",
       "      <td>20200908</td>\n",
       "      <td>30</td>\n",
       "      <td>남성</td>\n",
       "      <td>강원</td>\n",
       "      <td>강릉시</td>\n",
       "      <td>생활편의</td>\n",
       "      <td>생활서비스</td>\n",
       "      <td>0.0001</td>\n",
       "    </tr>\n",
       "    <tr>\n",
       "      <th>25</th>\n",
       "      <td>20200910</td>\n",
       "      <td>40</td>\n",
       "      <td>남성</td>\n",
       "      <td>강원</td>\n",
       "      <td>강릉시</td>\n",
       "      <td>서비스산업</td>\n",
       "      <td>공공기업</td>\n",
       "      <td>0.0001</td>\n",
       "    </tr>\n",
       "    <tr>\n",
       "      <th>39</th>\n",
       "      <td>20200908</td>\n",
       "      <td>50</td>\n",
       "      <td>남성</td>\n",
       "      <td>강원</td>\n",
       "      <td>강릉시</td>\n",
       "      <td>음식점</td>\n",
       "      <td>한식</td>\n",
       "      <td>0.0003</td>\n",
       "    </tr>\n",
       "    <tr>\n",
       "      <th>48</th>\n",
       "      <td>20200910</td>\n",
       "      <td>60</td>\n",
       "      <td>여성</td>\n",
       "      <td>강원</td>\n",
       "      <td>강릉시</td>\n",
       "      <td>생활편의</td>\n",
       "      <td>생활편의</td>\n",
       "      <td>0.0003</td>\n",
       "    </tr>\n",
       "    <tr>\n",
       "      <th>49</th>\n",
       "      <td>20200909</td>\n",
       "      <td>20</td>\n",
       "      <td>남성</td>\n",
       "      <td>강원</td>\n",
       "      <td>강릉시</td>\n",
       "      <td>음식점</td>\n",
       "      <td>한식</td>\n",
       "      <td>0.0001</td>\n",
       "    </tr>\n",
       "    <tr>\n",
       "      <th>...</th>\n",
       "      <td>...</td>\n",
       "      <td>...</td>\n",
       "      <td>...</td>\n",
       "      <td>...</td>\n",
       "      <td>...</td>\n",
       "      <td>...</td>\n",
       "      <td>...</td>\n",
       "      <td>...</td>\n",
       "    </tr>\n",
       "    <tr>\n",
       "      <th>561085</th>\n",
       "      <td>20200910</td>\n",
       "      <td>50</td>\n",
       "      <td>여성</td>\n",
       "      <td>충북</td>\n",
       "      <td>청주시</td>\n",
       "      <td>생활편의</td>\n",
       "      <td>생활편의</td>\n",
       "      <td>0.0002</td>\n",
       "    </tr>\n",
       "    <tr>\n",
       "      <th>561089</th>\n",
       "      <td>20200910</td>\n",
       "      <td>40</td>\n",
       "      <td>여성</td>\n",
       "      <td>충북</td>\n",
       "      <td>청주시</td>\n",
       "      <td>쇼핑</td>\n",
       "      <td>쇼핑</td>\n",
       "      <td>0.0003</td>\n",
       "    </tr>\n",
       "    <tr>\n",
       "      <th>561101</th>\n",
       "      <td>20200907</td>\n",
       "      <td>70</td>\n",
       "      <td>남성</td>\n",
       "      <td>충북</td>\n",
       "      <td>청주시</td>\n",
       "      <td>의료편의</td>\n",
       "      <td>의료시설</td>\n",
       "      <td>0.0001</td>\n",
       "    </tr>\n",
       "    <tr>\n",
       "      <th>561105</th>\n",
       "      <td>20200910</td>\n",
       "      <td>50</td>\n",
       "      <td>남성</td>\n",
       "      <td>충북</td>\n",
       "      <td>청주시</td>\n",
       "      <td>생활편의</td>\n",
       "      <td>생활편의</td>\n",
       "      <td>0.0002</td>\n",
       "    </tr>\n",
       "    <tr>\n",
       "      <th>561112</th>\n",
       "      <td>20200910</td>\n",
       "      <td>60</td>\n",
       "      <td>남성</td>\n",
       "      <td>충북</td>\n",
       "      <td>청주시</td>\n",
       "      <td>서비스산업</td>\n",
       "      <td>공공기업</td>\n",
       "      <td>0.0001</td>\n",
       "    </tr>\n",
       "  </tbody>\n",
       "</table>\n",
       "<p>87791 rows × 8 columns</p>\n",
       "</div>"
      ],
      "text/plain": [
       "              일자  연령  성별  시도  시군구    대분류    중분류  통화비율(시군구내)\n",
       "11      20200908  30  남성  강원  강릉시   생활편의  생활서비스      0.0001\n",
       "25      20200910  40  남성  강원  강릉시  서비스산업   공공기업      0.0001\n",
       "39      20200908  50  남성  강원  강릉시    음식점     한식      0.0003\n",
       "48      20200910  60  여성  강원  강릉시   생활편의   생활편의      0.0003\n",
       "49      20200909  20  남성  강원  강릉시    음식점     한식      0.0001\n",
       "...          ...  ..  ..  ..  ...    ...    ...         ...\n",
       "561085  20200910  50  여성  충북  청주시   생활편의   생활편의      0.0002\n",
       "561089  20200910  40  여성  충북  청주시     쇼핑     쇼핑      0.0003\n",
       "561101  20200907  70  남성  충북  청주시   의료편의   의료시설      0.0001\n",
       "561105  20200910  50  남성  충북  청주시   생활편의   생활편의      0.0002\n",
       "561112  20200910  60  남성  충북  청주시  서비스산업   공공기업      0.0001\n",
       "\n",
       "[87791 rows x 8 columns]"
      ]
     },
     "execution_count": 16,
     "metadata": {},
     "output_type": "execute_result"
    }
   ],
   "source": [
    "df1 = df[(df['일자'] > 20200906) & (df['일자'] < 20200911)]\n",
    "df1"
   ]
  },
  {
   "cell_type": "code",
   "execution_count": 17,
   "id": "1e643623",
   "metadata": {
    "ExecuteTime": {
     "end_time": "2021-09-24T04:06:22.823023Z",
     "start_time": "2021-09-24T04:06:22.711991Z"
    }
   },
   "outputs": [
    {
     "data": {
      "text/html": [
       "<div>\n",
       "<style scoped>\n",
       "    .dataframe tbody tr th:only-of-type {\n",
       "        vertical-align: middle;\n",
       "    }\n",
       "\n",
       "    .dataframe tbody tr th {\n",
       "        vertical-align: top;\n",
       "    }\n",
       "\n",
       "    .dataframe thead th {\n",
       "        text-align: right;\n",
       "    }\n",
       "</style>\n",
       "<table border=\"1\" class=\"dataframe\">\n",
       "  <thead>\n",
       "    <tr style=\"text-align: right;\">\n",
       "      <th>일자</th>\n",
       "      <th>20200907</th>\n",
       "      <th>20200908</th>\n",
       "      <th>20200909</th>\n",
       "      <th>20200910</th>\n",
       "    </tr>\n",
       "    <tr>\n",
       "      <th>대분류</th>\n",
       "      <th></th>\n",
       "      <th></th>\n",
       "      <th></th>\n",
       "      <th></th>\n",
       "    </tr>\n",
       "  </thead>\n",
       "  <tbody>\n",
       "    <tr>\n",
       "      <th>건물/시설</th>\n",
       "      <td>44.705882</td>\n",
       "      <td>42.500000</td>\n",
       "      <td>42.500000</td>\n",
       "      <td>40.000000</td>\n",
       "    </tr>\n",
       "    <tr>\n",
       "      <th>공공편의</th>\n",
       "      <td>47.336469</td>\n",
       "      <td>46.933877</td>\n",
       "      <td>47.549213</td>\n",
       "      <td>47.030056</td>\n",
       "    </tr>\n",
       "    <tr>\n",
       "      <th>교육/학문</th>\n",
       "      <td>36.939655</td>\n",
       "      <td>37.058824</td>\n",
       "      <td>37.133333</td>\n",
       "      <td>38.461538</td>\n",
       "    </tr>\n",
       "    <tr>\n",
       "      <th>교통편의</th>\n",
       "      <td>45.871067</td>\n",
       "      <td>46.279401</td>\n",
       "      <td>45.852436</td>\n",
       "      <td>45.968661</td>\n",
       "    </tr>\n",
       "    <tr>\n",
       "      <th>금융편의</th>\n",
       "      <td>46.414273</td>\n",
       "      <td>46.623348</td>\n",
       "      <td>46.751269</td>\n",
       "      <td>45.861638</td>\n",
       "    </tr>\n",
       "    <tr>\n",
       "      <th>기업/단체</th>\n",
       "      <td>47.333333</td>\n",
       "      <td>51.923077</td>\n",
       "      <td>49.375000</td>\n",
       "      <td>56.400000</td>\n",
       "    </tr>\n",
       "    <tr>\n",
       "      <th>생활편의</th>\n",
       "      <td>50.288227</td>\n",
       "      <td>49.619755</td>\n",
       "      <td>48.914186</td>\n",
       "      <td>48.811248</td>\n",
       "    </tr>\n",
       "    <tr>\n",
       "      <th>서비스산업</th>\n",
       "      <td>46.181239</td>\n",
       "      <td>46.156295</td>\n",
       "      <td>46.355854</td>\n",
       "      <td>46.269702</td>\n",
       "    </tr>\n",
       "    <tr>\n",
       "      <th>쇼핑</th>\n",
       "      <td>47.923048</td>\n",
       "      <td>48.291721</td>\n",
       "      <td>48.726609</td>\n",
       "      <td>48.319328</td>\n",
       "    </tr>\n",
       "    <tr>\n",
       "      <th>스포츠/레저</th>\n",
       "      <td>47.632509</td>\n",
       "      <td>46.699507</td>\n",
       "      <td>46.652361</td>\n",
       "      <td>46.687117</td>\n",
       "    </tr>\n",
       "    <tr>\n",
       "      <th>여행</th>\n",
       "      <td>38.837209</td>\n",
       "      <td>40.222222</td>\n",
       "      <td>40.285714</td>\n",
       "      <td>40.945946</td>\n",
       "    </tr>\n",
       "    <tr>\n",
       "      <th>음식점</th>\n",
       "      <td>41.297624</td>\n",
       "      <td>41.542006</td>\n",
       "      <td>40.876747</td>\n",
       "      <td>41.255534</td>\n",
       "    </tr>\n",
       "    <tr>\n",
       "      <th>의료편의</th>\n",
       "      <td>45.989828</td>\n",
       "      <td>46.281900</td>\n",
       "      <td>46.195203</td>\n",
       "      <td>45.775934</td>\n",
       "    </tr>\n",
       "    <tr>\n",
       "      <th>이벤트</th>\n",
       "      <td>55.000000</td>\n",
       "      <td>37.500000</td>\n",
       "      <td>38.333333</td>\n",
       "      <td>38.571429</td>\n",
       "    </tr>\n",
       "  </tbody>\n",
       "</table>\n",
       "</div>"
      ],
      "text/plain": [
       "일자       20200907   20200908   20200909   20200910\n",
       "대분류                                               \n",
       "건물/시설   44.705882  42.500000  42.500000  40.000000\n",
       "공공편의    47.336469  46.933877  47.549213  47.030056\n",
       "교육/학문   36.939655  37.058824  37.133333  38.461538\n",
       "교통편의    45.871067  46.279401  45.852436  45.968661\n",
       "금융편의    46.414273  46.623348  46.751269  45.861638\n",
       "기업/단체   47.333333  51.923077  49.375000  56.400000\n",
       "생활편의    50.288227  49.619755  48.914186  48.811248\n",
       "서비스산업   46.181239  46.156295  46.355854  46.269702\n",
       "쇼핑      47.923048  48.291721  48.726609  48.319328\n",
       "스포츠/레저  47.632509  46.699507  46.652361  46.687117\n",
       "여행      38.837209  40.222222  40.285714  40.945946\n",
       "음식점     41.297624  41.542006  40.876747  41.255534\n",
       "의료편의    45.989828  46.281900  46.195203  45.775934\n",
       "이벤트     55.000000  37.500000  38.333333  38.571429"
      ]
     },
     "execution_count": 17,
     "metadata": {},
     "output_type": "execute_result"
    }
   ],
   "source": [
    "df2 = pd.pivot_table(df1,\n",
    "                    index='대분류',\n",
    "                    columns = '일자',\n",
    "                    values = '연령',\n",
    "                    aggfunc='mean')\n",
    "\n",
    "df2"
   ]
  },
  {
   "cell_type": "markdown",
   "id": "3e4ea426",
   "metadata": {},
   "source": [
    "---"
   ]
  },
  {
   "cell_type": "code",
   "execution_count": 18,
   "id": "385ca8d4",
   "metadata": {
    "ExecuteTime": {
     "end_time": "2021-09-24T04:06:39.138200Z",
     "start_time": "2021-09-24T04:06:38.973078Z"
    }
   },
   "outputs": [
    {
     "data": {
      "text/html": [
       "<div>\n",
       "<style scoped>\n",
       "    .dataframe tbody tr th:only-of-type {\n",
       "        vertical-align: middle;\n",
       "    }\n",
       "\n",
       "    .dataframe tbody tr th {\n",
       "        vertical-align: top;\n",
       "    }\n",
       "\n",
       "    .dataframe thead th {\n",
       "        text-align: right;\n",
       "    }\n",
       "</style>\n",
       "<table border=\"1\" class=\"dataframe\">\n",
       "  <thead>\n",
       "    <tr style=\"text-align: right;\">\n",
       "      <th>일자</th>\n",
       "      <th>20200907</th>\n",
       "      <th>20200908</th>\n",
       "      <th>20200909</th>\n",
       "      <th>20200910</th>\n",
       "    </tr>\n",
       "    <tr>\n",
       "      <th>대분류</th>\n",
       "      <th></th>\n",
       "      <th></th>\n",
       "      <th></th>\n",
       "      <th></th>\n",
       "    </tr>\n",
       "  </thead>\n",
       "  <tbody>\n",
       "    <tr>\n",
       "      <th>이벤트</th>\n",
       "      <td>55.000000</td>\n",
       "      <td>37.500000</td>\n",
       "      <td>38.333333</td>\n",
       "      <td>38.571429</td>\n",
       "    </tr>\n",
       "    <tr>\n",
       "      <th>생활편의</th>\n",
       "      <td>50.288227</td>\n",
       "      <td>49.619755</td>\n",
       "      <td>48.914186</td>\n",
       "      <td>48.811248</td>\n",
       "    </tr>\n",
       "    <tr>\n",
       "      <th>쇼핑</th>\n",
       "      <td>47.923048</td>\n",
       "      <td>48.291721</td>\n",
       "      <td>48.726609</td>\n",
       "      <td>48.319328</td>\n",
       "    </tr>\n",
       "    <tr>\n",
       "      <th>스포츠/레저</th>\n",
       "      <td>47.632509</td>\n",
       "      <td>46.699507</td>\n",
       "      <td>46.652361</td>\n",
       "      <td>46.687117</td>\n",
       "    </tr>\n",
       "    <tr>\n",
       "      <th>공공편의</th>\n",
       "      <td>47.336469</td>\n",
       "      <td>46.933877</td>\n",
       "      <td>47.549213</td>\n",
       "      <td>47.030056</td>\n",
       "    </tr>\n",
       "    <tr>\n",
       "      <th>기업/단체</th>\n",
       "      <td>47.333333</td>\n",
       "      <td>51.923077</td>\n",
       "      <td>49.375000</td>\n",
       "      <td>56.400000</td>\n",
       "    </tr>\n",
       "    <tr>\n",
       "      <th>금융편의</th>\n",
       "      <td>46.414273</td>\n",
       "      <td>46.623348</td>\n",
       "      <td>46.751269</td>\n",
       "      <td>45.861638</td>\n",
       "    </tr>\n",
       "    <tr>\n",
       "      <th>서비스산업</th>\n",
       "      <td>46.181239</td>\n",
       "      <td>46.156295</td>\n",
       "      <td>46.355854</td>\n",
       "      <td>46.269702</td>\n",
       "    </tr>\n",
       "    <tr>\n",
       "      <th>의료편의</th>\n",
       "      <td>45.989828</td>\n",
       "      <td>46.281900</td>\n",
       "      <td>46.195203</td>\n",
       "      <td>45.775934</td>\n",
       "    </tr>\n",
       "    <tr>\n",
       "      <th>교통편의</th>\n",
       "      <td>45.871067</td>\n",
       "      <td>46.279401</td>\n",
       "      <td>45.852436</td>\n",
       "      <td>45.968661</td>\n",
       "    </tr>\n",
       "    <tr>\n",
       "      <th>건물/시설</th>\n",
       "      <td>44.705882</td>\n",
       "      <td>42.500000</td>\n",
       "      <td>42.500000</td>\n",
       "      <td>40.000000</td>\n",
       "    </tr>\n",
       "    <tr>\n",
       "      <th>음식점</th>\n",
       "      <td>41.297624</td>\n",
       "      <td>41.542006</td>\n",
       "      <td>40.876747</td>\n",
       "      <td>41.255534</td>\n",
       "    </tr>\n",
       "    <tr>\n",
       "      <th>여행</th>\n",
       "      <td>38.837209</td>\n",
       "      <td>40.222222</td>\n",
       "      <td>40.285714</td>\n",
       "      <td>40.945946</td>\n",
       "    </tr>\n",
       "    <tr>\n",
       "      <th>교육/학문</th>\n",
       "      <td>36.939655</td>\n",
       "      <td>37.058824</td>\n",
       "      <td>37.133333</td>\n",
       "      <td>38.461538</td>\n",
       "    </tr>\n",
       "  </tbody>\n",
       "</table>\n",
       "</div>"
      ],
      "text/plain": [
       "일자       20200907   20200908   20200909   20200910\n",
       "대분류                                               \n",
       "이벤트     55.000000  37.500000  38.333333  38.571429\n",
       "생활편의    50.288227  49.619755  48.914186  48.811248\n",
       "쇼핑      47.923048  48.291721  48.726609  48.319328\n",
       "스포츠/레저  47.632509  46.699507  46.652361  46.687117\n",
       "공공편의    47.336469  46.933877  47.549213  47.030056\n",
       "기업/단체   47.333333  51.923077  49.375000  56.400000\n",
       "금융편의    46.414273  46.623348  46.751269  45.861638\n",
       "서비스산업   46.181239  46.156295  46.355854  46.269702\n",
       "의료편의    45.989828  46.281900  46.195203  45.775934\n",
       "교통편의    45.871067  46.279401  45.852436  45.968661\n",
       "건물/시설   44.705882  42.500000  42.500000  40.000000\n",
       "음식점     41.297624  41.542006  40.876747  41.255534\n",
       "여행      38.837209  40.222222  40.285714  40.945946\n",
       "교육/학문   36.939655  37.058824  37.133333  38.461538"
      ]
     },
     "execution_count": 18,
     "metadata": {},
     "output_type": "execute_result"
    }
   ],
   "source": [
    "# query\n",
    "pdf1 = pd.pivot_table(df.query('일자 >= 20200907 and 일자 <= 20200910'),                # 피벗할 데이터프레임\n",
    "                     index = '대분류',    # 행 위치에 들어갈 열\n",
    "                     columns = '일자',    # 열 위치에 들어갈 열\n",
    "                     values = '연령',     # 데이터로 사용할 열\n",
    "                     aggfunc = 'mean')   # 데이터 집계함수\n",
    "pdf1 = pdf1.sort_values(20200907, ascending=False)\n",
    "pdf1"
   ]
  },
  {
   "cell_type": "code",
   "execution_count": 20,
   "id": "4fa837fa",
   "metadata": {
    "ExecuteTime": {
     "end_time": "2021-09-24T04:07:09.853156Z",
     "start_time": "2021-09-24T04:07:09.693590Z"
    }
   },
   "outputs": [
    {
     "data": {
      "text/html": [
       "<div>\n",
       "<style scoped>\n",
       "    .dataframe tbody tr th:only-of-type {\n",
       "        vertical-align: middle;\n",
       "    }\n",
       "\n",
       "    .dataframe tbody tr th {\n",
       "        vertical-align: top;\n",
       "    }\n",
       "\n",
       "    .dataframe thead th {\n",
       "        text-align: right;\n",
       "    }\n",
       "</style>\n",
       "<table border=\"1\" class=\"dataframe\">\n",
       "  <thead>\n",
       "    <tr style=\"text-align: right;\">\n",
       "      <th>일자</th>\n",
       "      <th>20200907</th>\n",
       "      <th>20200908</th>\n",
       "      <th>20200909</th>\n",
       "      <th>20200910</th>\n",
       "    </tr>\n",
       "    <tr>\n",
       "      <th>대분류</th>\n",
       "      <th></th>\n",
       "      <th></th>\n",
       "      <th></th>\n",
       "      <th></th>\n",
       "    </tr>\n",
       "  </thead>\n",
       "  <tbody>\n",
       "    <tr>\n",
       "      <th>이벤트</th>\n",
       "      <td>55.000000</td>\n",
       "      <td>37.500000</td>\n",
       "      <td>38.333333</td>\n",
       "      <td>38.571429</td>\n",
       "    </tr>\n",
       "    <tr>\n",
       "      <th>생활편의</th>\n",
       "      <td>50.288227</td>\n",
       "      <td>49.619755</td>\n",
       "      <td>48.914186</td>\n",
       "      <td>48.811248</td>\n",
       "    </tr>\n",
       "    <tr>\n",
       "      <th>쇼핑</th>\n",
       "      <td>47.923048</td>\n",
       "      <td>48.291721</td>\n",
       "      <td>48.726609</td>\n",
       "      <td>48.319328</td>\n",
       "    </tr>\n",
       "    <tr>\n",
       "      <th>스포츠/레저</th>\n",
       "      <td>47.632509</td>\n",
       "      <td>46.699507</td>\n",
       "      <td>46.652361</td>\n",
       "      <td>46.687117</td>\n",
       "    </tr>\n",
       "    <tr>\n",
       "      <th>공공편의</th>\n",
       "      <td>47.336469</td>\n",
       "      <td>46.933877</td>\n",
       "      <td>47.549213</td>\n",
       "      <td>47.030056</td>\n",
       "    </tr>\n",
       "    <tr>\n",
       "      <th>기업/단체</th>\n",
       "      <td>47.333333</td>\n",
       "      <td>51.923077</td>\n",
       "      <td>49.375000</td>\n",
       "      <td>56.400000</td>\n",
       "    </tr>\n",
       "    <tr>\n",
       "      <th>금융편의</th>\n",
       "      <td>46.414273</td>\n",
       "      <td>46.623348</td>\n",
       "      <td>46.751269</td>\n",
       "      <td>45.861638</td>\n",
       "    </tr>\n",
       "    <tr>\n",
       "      <th>서비스산업</th>\n",
       "      <td>46.181239</td>\n",
       "      <td>46.156295</td>\n",
       "      <td>46.355854</td>\n",
       "      <td>46.269702</td>\n",
       "    </tr>\n",
       "    <tr>\n",
       "      <th>의료편의</th>\n",
       "      <td>45.989828</td>\n",
       "      <td>46.281900</td>\n",
       "      <td>46.195203</td>\n",
       "      <td>45.775934</td>\n",
       "    </tr>\n",
       "    <tr>\n",
       "      <th>교통편의</th>\n",
       "      <td>45.871067</td>\n",
       "      <td>46.279401</td>\n",
       "      <td>45.852436</td>\n",
       "      <td>45.968661</td>\n",
       "    </tr>\n",
       "    <tr>\n",
       "      <th>건물/시설</th>\n",
       "      <td>44.705882</td>\n",
       "      <td>42.500000</td>\n",
       "      <td>42.500000</td>\n",
       "      <td>40.000000</td>\n",
       "    </tr>\n",
       "    <tr>\n",
       "      <th>음식점</th>\n",
       "      <td>41.297624</td>\n",
       "      <td>41.542006</td>\n",
       "      <td>40.876747</td>\n",
       "      <td>41.255534</td>\n",
       "    </tr>\n",
       "    <tr>\n",
       "      <th>여행</th>\n",
       "      <td>38.837209</td>\n",
       "      <td>40.222222</td>\n",
       "      <td>40.285714</td>\n",
       "      <td>40.945946</td>\n",
       "    </tr>\n",
       "    <tr>\n",
       "      <th>교육/학문</th>\n",
       "      <td>36.939655</td>\n",
       "      <td>37.058824</td>\n",
       "      <td>37.133333</td>\n",
       "      <td>38.461538</td>\n",
       "    </tr>\n",
       "  </tbody>\n",
       "</table>\n",
       "</div>"
      ],
      "text/plain": [
       "일자       20200907   20200908   20200909   20200910\n",
       "대분류                                               \n",
       "이벤트     55.000000  37.500000  38.333333  38.571429\n",
       "생활편의    50.288227  49.619755  48.914186  48.811248\n",
       "쇼핑      47.923048  48.291721  48.726609  48.319328\n",
       "스포츠/레저  47.632509  46.699507  46.652361  46.687117\n",
       "공공편의    47.336469  46.933877  47.549213  47.030056\n",
       "기업/단체   47.333333  51.923077  49.375000  56.400000\n",
       "금융편의    46.414273  46.623348  46.751269  45.861638\n",
       "서비스산업   46.181239  46.156295  46.355854  46.269702\n",
       "의료편의    45.989828  46.281900  46.195203  45.775934\n",
       "교통편의    45.871067  46.279401  45.852436  45.968661\n",
       "건물/시설   44.705882  42.500000  42.500000  40.000000\n",
       "음식점     41.297624  41.542006  40.876747  41.255534\n",
       "여행      38.837209  40.222222  40.285714  40.945946\n",
       "교육/학문   36.939655  37.058824  37.133333  38.461538"
      ]
     },
     "execution_count": 20,
     "metadata": {},
     "output_type": "execute_result"
    }
   ],
   "source": [
    "# 조건식\n",
    "pdf1 = pd.pivot_table(df[(df['일자'] > 20200906) & (df['일자'] < 20200911)],                # 피벗할 데이터프레임\n",
    "                     index = '대분류',    # 행 위치에 들어갈 열\n",
    "                     columns = '일자',    # 열 위치에 들어갈 열\n",
    "                     values = '연령',     # 데이터로 사용할 열\n",
    "                     aggfunc = 'mean')   # 데이터 집계함수\n",
    "pdf1 = pdf1.sort_values(20200907, ascending=False)\n",
    "pdf1"
   ]
  },
  {
   "cell_type": "markdown",
   "id": "8985ca8c",
   "metadata": {},
   "source": [
    "---"
   ]
  },
  {
   "cell_type": "code",
   "execution_count": 19,
   "id": "93847950",
   "metadata": {
    "ExecuteTime": {
     "end_time": "2021-09-24T04:06:49.269545Z",
     "start_time": "2021-09-24T04:06:49.246592Z"
    }
   },
   "outputs": [
    {
     "data": {
      "text/plain": [
       "Index(['이벤트', '생활편의', '쇼핑', '스포츠/레저', '공공편의', '기업/단체', '금융편의', '서비스산업', '의료편의',\n",
       "       '교통편의', '건물/시설', '음식점', '여행', '교육/학문'],\n",
       "      dtype='object', name='대분류')"
      ]
     },
     "execution_count": 19,
     "metadata": {},
     "output_type": "execute_result"
    }
   ],
   "source": [
    "pdf1.index"
   ]
  },
  {
   "cell_type": "markdown",
   "id": "b049e3af",
   "metadata": {
    "ExecuteTime": {
     "end_time": "2021-09-24T04:07:34.479808Z",
     "start_time": "2021-09-24T04:07:34.464787Z"
    }
   },
   "source": [
    "#### 피벗테이블을 바탕으로 한 그래프"
   ]
  },
  {
   "cell_type": "code",
   "execution_count": 25,
   "id": "71006e8b",
   "metadata": {
    "ExecuteTime": {
     "end_time": "2021-09-24T04:08:02.393627Z",
     "start_time": "2021-09-24T04:08:01.561048Z"
    }
   },
   "outputs": [
    {
     "data": {
      "text/plain": [
       "<AxesSubplot:xlabel='대분류'>"
      ]
     },
     "execution_count": 25,
     "metadata": {},
     "output_type": "execute_result"
    },
    {
     "data": {
      "image/png": "[encoded data removed]",
      "text/plain": [
       "<Figure size 1080x360 with 1 Axes>"
      ]
     },
     "metadata": {
      "needs_background": "light"
     },
     "output_type": "display_data"
    }
   ],
   "source": [
    "pdf1.plot(kind='line',figsize=(15,5)) \n",
    "# pdf1.plot(kind='line',figsize=(15,5),legend=[pdf1.columns])"
   ]
  },
  {
   "cell_type": "code",
   "execution_count": 23,
   "id": "413b80b7",
   "metadata": {
    "ExecuteTime": {
     "end_time": "2021-09-24T04:07:48.551470Z",
     "start_time": "2021-09-24T04:07:47.959511Z"
    }
   },
   "outputs": [
    {
     "data": {
      "image/png": "[encoded data removed]",
      "text/plain": [
       "<Figure size 1080x360 with 1 Axes>"
      ]
     },
     "metadata": {
      "needs_background": "light"
     },
     "output_type": "display_data"
    }
   ],
   "source": [
    "plt.figure(figsize=(15,5))\n",
    "plt.plot(pdf1)\n",
    "plt.legend(pdf1.columns)\n",
    "plt.show()"
   ]
  },
  {
   "cell_type": "code",
   "execution_count": 26,
   "id": "ba372c8d",
   "metadata": {
    "ExecuteTime": {
     "end_time": "2021-09-24T04:08:13.881115Z",
     "start_time": "2021-09-24T04:08:10.948570Z"
    }
   },
   "outputs": [
    {
     "data": {
      "image/png": "[encoded data removed]",
      "text/plain": [
       "<Figure size 720x360 with 2 Axes>"
      ]
     },
     "metadata": {
      "needs_background": "light"
     },
     "output_type": "display_data"
    }
   ],
   "source": [
    "plt.figure(figsize=(10,5))\n",
    "sns.heatmap(pdf1,annot=True)\n",
    "plt.show()"
   ]
  },
  {
   "cell_type": "code",
   "execution_count": 30,
   "id": "6889d9b4",
   "metadata": {
    "ExecuteTime": {
     "end_time": "2021-09-24T04:10:14.156989Z",
     "start_time": "2021-09-24T04:10:14.133415Z"
    }
   },
   "outputs": [
    {
     "data": {
      "text/html": [
       "<div>\n",
       "<style scoped>\n",
       "    .dataframe tbody tr th:only-of-type {\n",
       "        vertical-align: middle;\n",
       "    }\n",
       "\n",
       "    .dataframe tbody tr th {\n",
       "        vertical-align: top;\n",
       "    }\n",
       "\n",
       "    .dataframe thead th {\n",
       "        text-align: right;\n",
       "    }\n",
       "</style>\n",
       "<table border=\"1\" class=\"dataframe\">\n",
       "  <thead>\n",
       "    <tr style=\"text-align: right;\">\n",
       "      <th></th>\n",
       "      <th>일자</th>\n",
       "      <th>연령</th>\n",
       "      <th>성별</th>\n",
       "      <th>시도</th>\n",
       "      <th>시군구</th>\n",
       "      <th>대분류</th>\n",
       "      <th>중분류</th>\n",
       "      <th>통화비율(시군구내)</th>\n",
       "    </tr>\n",
       "  </thead>\n",
       "  <tbody>\n",
       "    <tr>\n",
       "      <th>561126</th>\n",
       "      <td>20200905</td>\n",
       "      <td>40</td>\n",
       "      <td>남성</td>\n",
       "      <td>충북</td>\n",
       "      <td>청주시</td>\n",
       "      <td>음식점</td>\n",
       "      <td>한식</td>\n",
       "      <td>0.0004</td>\n",
       "    </tr>\n",
       "    <tr>\n",
       "      <th>561127</th>\n",
       "      <td>20200905</td>\n",
       "      <td>40</td>\n",
       "      <td>남성</td>\n",
       "      <td>충북</td>\n",
       "      <td>청주시</td>\n",
       "      <td>의료편의</td>\n",
       "      <td>의료시설</td>\n",
       "      <td>0.0001</td>\n",
       "    </tr>\n",
       "    <tr>\n",
       "      <th>561128</th>\n",
       "      <td>20200928</td>\n",
       "      <td>50</td>\n",
       "      <td>남성</td>\n",
       "      <td>충북</td>\n",
       "      <td>청주시</td>\n",
       "      <td>교통편의</td>\n",
       "      <td>교통편의</td>\n",
       "      <td>0.0002</td>\n",
       "    </tr>\n",
       "  </tbody>\n",
       "</table>\n",
       "</div>"
      ],
      "text/plain": [
       "              일자  연령  성별  시도  시군구   대분류   중분류  통화비율(시군구내)\n",
       "561126  20200905  40  남성  충북  청주시   음식점    한식      0.0004\n",
       "561127  20200905  40  남성  충북  청주시  의료편의  의료시설      0.0001\n",
       "561128  20200928  50  남성  충북  청주시  교통편의  교통편의      0.0002"
      ]
     },
     "execution_count": 30,
     "metadata": {},
     "output_type": "execute_result"
    }
   ],
   "source": [
    "df.tail(3)"
   ]
  },
  {
   "cell_type": "code",
   "execution_count": 36,
   "id": "08ffbaa2",
   "metadata": {
    "ExecuteTime": {
     "end_time": "2021-09-24T04:17:33.077023Z",
     "start_time": "2021-09-24T04:17:33.011268Z"
    }
   },
   "outputs": [
    {
     "data": {
      "text/html": [
       "<div>\n",
       "<style scoped>\n",
       "    .dataframe tbody tr th:only-of-type {\n",
       "        vertical-align: middle;\n",
       "    }\n",
       "\n",
       "    .dataframe tbody tr th {\n",
       "        vertical-align: top;\n",
       "    }\n",
       "\n",
       "    .dataframe thead th {\n",
       "        text-align: right;\n",
       "    }\n",
       "</style>\n",
       "<table border=\"1\" class=\"dataframe\">\n",
       "  <thead>\n",
       "    <tr style=\"text-align: right;\">\n",
       "      <th></th>\n",
       "      <th>중분류</th>\n",
       "      <th>연령</th>\n",
       "    </tr>\n",
       "  </thead>\n",
       "  <tbody>\n",
       "    <tr>\n",
       "      <th>0</th>\n",
       "      <td>가전</td>\n",
       "      <td>40.000000</td>\n",
       "    </tr>\n",
       "    <tr>\n",
       "      <th>1</th>\n",
       "      <td>가정의례</td>\n",
       "      <td>30.869565</td>\n",
       "    </tr>\n",
       "    <tr>\n",
       "      <th>2</th>\n",
       "      <td>간식</td>\n",
       "      <td>40.000000</td>\n",
       "    </tr>\n",
       "    <tr>\n",
       "      <th>3</th>\n",
       "      <td>건설/건축</td>\n",
       "      <td>43.714286</td>\n",
       "    </tr>\n",
       "    <tr>\n",
       "      <th>4</th>\n",
       "      <td>골프</td>\n",
       "      <td>45.882353</td>\n",
       "    </tr>\n",
       "    <tr>\n",
       "      <th>5</th>\n",
       "      <td>공공기관</td>\n",
       "      <td>30.000000</td>\n",
       "    </tr>\n",
       "    <tr>\n",
       "      <th>6</th>\n",
       "      <td>공공기업</td>\n",
       "      <td>38.500000</td>\n",
       "    </tr>\n",
       "    <tr>\n",
       "      <th>7</th>\n",
       "      <td>금융편의</td>\n",
       "      <td>30.000000</td>\n",
       "    </tr>\n",
       "    <tr>\n",
       "      <th>8</th>\n",
       "      <td>기타의료시설</td>\n",
       "      <td>35.581395</td>\n",
       "    </tr>\n",
       "    <tr>\n",
       "      <th>9</th>\n",
       "      <td>대형유통점</td>\n",
       "      <td>41.555556</td>\n",
       "    </tr>\n",
       "    <tr>\n",
       "      <th>10</th>\n",
       "      <td>미용</td>\n",
       "      <td>38.367347</td>\n",
       "    </tr>\n",
       "    <tr>\n",
       "      <th>11</th>\n",
       "      <td>생활서비스</td>\n",
       "      <td>40.260870</td>\n",
       "    </tr>\n",
       "    <tr>\n",
       "      <th>12</th>\n",
       "      <td>쇼핑</td>\n",
       "      <td>49.393939</td>\n",
       "    </tr>\n",
       "    <tr>\n",
       "      <th>13</th>\n",
       "      <td>수리/AS</td>\n",
       "      <td>40.000000</td>\n",
       "    </tr>\n",
       "    <tr>\n",
       "      <th>14</th>\n",
       "      <td>양식</td>\n",
       "      <td>30.000000</td>\n",
       "    </tr>\n",
       "    <tr>\n",
       "      <th>15</th>\n",
       "      <td>의료시설</td>\n",
       "      <td>44.390244</td>\n",
       "    </tr>\n",
       "    <tr>\n",
       "      <th>16</th>\n",
       "      <td>의류직물패션</td>\n",
       "      <td>32.857143</td>\n",
       "    </tr>\n",
       "    <tr>\n",
       "      <th>17</th>\n",
       "      <td>인터넷/IT</td>\n",
       "      <td>32.439024</td>\n",
       "    </tr>\n",
       "    <tr>\n",
       "      <th>18</th>\n",
       "      <td>자동차시설</td>\n",
       "      <td>40.000000</td>\n",
       "    </tr>\n",
       "    <tr>\n",
       "      <th>19</th>\n",
       "      <td>정보통신기기</td>\n",
       "      <td>30.000000</td>\n",
       "    </tr>\n",
       "    <tr>\n",
       "      <th>20</th>\n",
       "      <td>제2금융</td>\n",
       "      <td>44.960630</td>\n",
       "    </tr>\n",
       "    <tr>\n",
       "      <th>21</th>\n",
       "      <td>제조업</td>\n",
       "      <td>39.830508</td>\n",
       "    </tr>\n",
       "    <tr>\n",
       "      <th>22</th>\n",
       "      <td>주요금융</td>\n",
       "      <td>49.322034</td>\n",
       "    </tr>\n",
       "    <tr>\n",
       "      <th>23</th>\n",
       "      <td>중식</td>\n",
       "      <td>40.000000</td>\n",
       "    </tr>\n",
       "    <tr>\n",
       "      <th>24</th>\n",
       "      <td>치킨</td>\n",
       "      <td>40.000000</td>\n",
       "    </tr>\n",
       "    <tr>\n",
       "      <th>25</th>\n",
       "      <td>학교</td>\n",
       "      <td>40.000000</td>\n",
       "    </tr>\n",
       "    <tr>\n",
       "      <th>26</th>\n",
       "      <td>학원</td>\n",
       "      <td>42.328767</td>\n",
       "    </tr>\n",
       "    <tr>\n",
       "      <th>27</th>\n",
       "      <td>한식</td>\n",
       "      <td>39.886364</td>\n",
       "    </tr>\n",
       "    <tr>\n",
       "      <th>28</th>\n",
       "      <td>행정기관</td>\n",
       "      <td>39.492754</td>\n",
       "    </tr>\n",
       "  </tbody>\n",
       "</table>\n",
       "</div>"
      ],
      "text/plain": [
       "       중분류         연령\n",
       "0       가전  40.000000\n",
       "1     가정의례  30.869565\n",
       "2       간식  40.000000\n",
       "3    건설/건축  43.714286\n",
       "4       골프  45.882353\n",
       "5     공공기관  30.000000\n",
       "6     공공기업  38.500000\n",
       "7     금융편의  30.000000\n",
       "8   기타의료시설  35.581395\n",
       "9    대형유통점  41.555556\n",
       "10      미용  38.367347\n",
       "11   생활서비스  40.260870\n",
       "12      쇼핑  49.393939\n",
       "13   수리/AS  40.000000\n",
       "14      양식  30.000000\n",
       "15    의료시설  44.390244\n",
       "16  의류직물패션  32.857143\n",
       "17  인터넷/IT  32.439024\n",
       "18   자동차시설  40.000000\n",
       "19  정보통신기기  30.000000\n",
       "20    제2금융  44.960630\n",
       "21     제조업  39.830508\n",
       "22    주요금융  49.322034\n",
       "23      중식  40.000000\n",
       "24      치킨  40.000000\n",
       "25      학교  40.000000\n",
       "26      학원  42.328767\n",
       "27      한식  39.886364\n",
       "28    행정기관  39.492754"
      ]
     },
     "execution_count": 36,
     "metadata": {},
     "output_type": "execute_result"
    }
   ],
   "source": [
    "pdf3 = df[df['시군구']=='강남구'].groupby('중분류').mean()['연령'].reset_index()\n",
    "pdf3"
   ]
  },
  {
   "cell_type": "code",
   "execution_count": 38,
   "id": "200b374f",
   "metadata": {
    "ExecuteTime": {
     "end_time": "2021-09-24T04:17:49.374633Z",
     "start_time": "2021-09-24T04:17:48.429120Z"
    }
   },
   "outputs": [
    {
     "data": {
      "image/png": "[encoded data removed]",
      "text/plain": [
       "<Figure size 2160x576 with 1 Axes>"
      ]
     },
     "metadata": {
      "needs_background": "light"
     },
     "output_type": "display_data"
    }
   ],
   "source": [
    "plt.figure(figsize=(30,8))\n",
    "sns.barplot(x=pdf3['중분류'],y=pdf3['연령'])\n",
    "plt.show()"
   ]
  },
  {
   "cell_type": "markdown",
   "id": "417e752e",
   "metadata": {
    "ExecuteTime": {
     "end_time": "2021-09-24T04:08:38.114972Z",
     "start_time": "2021-09-24T04:08:38.107802Z"
    }
   },
   "source": [
    "#### 지역명을 입력하면 중분류에 따른 평균 연령을 보여주는 함수 생성"
   ]
  },
  {
   "cell_type": "code",
   "execution_count": 45,
   "id": "6309d77a",
   "metadata": {
    "ExecuteTime": {
     "end_time": "2021-09-24T04:21:57.262676Z",
     "start_time": "2021-09-24T04:21:54.302173Z"
    }
   },
   "outputs": [
    {
     "name": "stdout",
     "output_type": "stream",
     "text": [
      "지역명을 입력하세요.강남구\n"
     ]
    },
    {
     "data": {
      "image/png": "[encoded data removed]",
      "text/plain": [
       "<Figure size 1800x360 with 1 Axes>"
      ]
     },
     "metadata": {
      "needs_background": "light"
     },
     "output_type": "display_data"
    }
   ],
   "source": [
    "name = input(\"지역명을 입력하세요.\")\n",
    "def age_graph(name):\n",
    "    pdf3 = df[df['시군구']==name].groupby('중분류').mean()['연령'].reset_index()\n",
    "    plt.figure(figsize=(25,5))\n",
    "    sns.barplot(x=pdf3['중분류'],y=pdf3['연령'])\n",
    "    plt.xlabel(\"종류\", size=10)\n",
    "    plt.ylabel(\"연령\", size=10)\n",
    "    plt.show()\n",
    "    \n",
    "age_graph(name)"
   ]
  },
  {
   "cell_type": "markdown",
   "id": "d204f56a",
   "metadata": {},
   "source": [
    "---"
   ]
  },
  {
   "cell_type": "code",
   "execution_count": 46,
   "id": "7a2af908",
   "metadata": {
    "ExecuteTime": {
     "end_time": "2021-09-24T04:22:49.843707Z",
     "start_time": "2021-09-24T04:22:49.832709Z"
    }
   },
   "outputs": [],
   "source": [
    "def age_graph(name):\n",
    "    location = df[df['시군구'] == name]\n",
    "    result = location.groupby('중분류')['연령'].mean()\n",
    "\n",
    "    plt.figure(figsize=(25,5))\n",
    "    sns.barplot(result.index, result.values)\n",
    "    plt.xlabel(\"종류\", size=10)\n",
    "    plt.ylabel(\"연령\", size=10)"
   ]
  },
  {
   "cell_type": "code",
   "execution_count": 47,
   "id": "d90b7607",
   "metadata": {
    "ExecuteTime": {
     "end_time": "2021-09-24T04:22:51.993398Z",
     "start_time": "2021-09-24T04:22:50.781262Z"
    }
   },
   "outputs": [
    {
     "data": {
      "image/png": "[encoded data removed]",
      "text/plain": [
       "<Figure size 1800x360 with 1 Axes>"
      ]
     },
     "metadata": {
      "needs_background": "light"
     },
     "output_type": "display_data"
    }
   ],
   "source": [
    "age_graph('강남구')"
   ]
  },
  {
   "cell_type": "markdown",
   "id": "5c948348",
   "metadata": {},
   "source": [
    "---"
   ]
  }
 ],
 "metadata": {
  "hide_input": false,
  "kernelspec": {
   "display_name": "Python 3",
   "language": "python",
   "name": "python3"
  },
  "language_info": {
   "codemirror_mode": {
    "name": "ipython",
    "version": 3
   },
   "file_extension": ".py",
   "mimetype": "text/x-python",
   "name": "python",
   "nbconvert_exporter": "python",
   "pygments_lexer": "ipython3",
   "version": "3.8.8"
  },
  "toc": {
   "base_numbering": 1,
   "nav_menu": {},
   "number_sections": true,
   "sideBar": true,
   "skip_h1_title": false,
   "title_cell": "Table of Contents",
   "title_sidebar": "Contents",
   "toc_cell": false,
   "toc_position": {},
   "toc_section_display": true,
   "toc_window_display": false
  },
  "varInspector": {
   "cols": {
    "lenName": 16,
    "lenType": 16,
    "lenVar": 40
   },
   "kernels_config": {
    "python": {
     "delete_cmd_postfix": "",
     "delete_cmd_prefix": "del ",
     "library": "var_list.py",
     "varRefreshCmd": "print(var_dic_list())"
    },
    "r": {
     "delete_cmd_postfix": ") ",
     "delete_cmd_prefix": "rm(",
     "library": "var_list.r",
     "varRefreshCmd": "cat(var_dic_list()) "
    }
   },
   "types_to_exclude": [
    "module",
    "function",
    "builtin_function_or_method",
    "instance",
    "_Feature"
   ],
   "window_display": false
  }
 },
 "nbformat": 4,
 "nbformat_minor": 5
}
