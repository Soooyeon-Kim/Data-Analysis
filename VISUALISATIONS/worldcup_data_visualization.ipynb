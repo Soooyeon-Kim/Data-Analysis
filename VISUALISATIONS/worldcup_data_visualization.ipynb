{
 "cells": [
  {
   "cell_type": "code",
   "execution_count": 1,
   "metadata": {
    "ExecuteTime": {
     "end_time": "2021-09-24T05:58:17.289157Z",
     "start_time": "2021-09-24T05:58:11.023477Z"
    },
    "colab": {
     "base_uri": "https://localhost:8080/"
    },
    "executionInfo": {
     "elapsed": 2834,
     "status": "ok",
     "timestamp": 1631671546092,
     "user": {
      "displayName": "김동현",
      "photoUrl": "https://lh3.googleusercontent.com/a/default-user=s64",
      "userId": "05798820432415047858"
     },
     "user_tz": -540
    },
    "id": "OMFM42TBwHpm",
    "outputId": "0ab38726-10f6-4e58-c271-c664e49734b5"
   },
   "outputs": [],
   "source": [
    "import pandas as pd\n",
    "import numpy as np\n",
    "import seaborn as sns\n",
    "import matplotlib.pyplot as plt\n",
    "import warnings\n",
    "warnings.filterwarnings('ignore')\n",
    "# 한글 폰트 설정\n",
    "\n",
    "# 한글 폰트를 사용할 수 있게 만들어줌\n",
    "import matplotlib as mpl\n",
    "import matplotlib.font_manager as fm\n",
    "fontpath = 'NanumBarunGothic.ttf'\n",
    "font = fm.FontProperties(fname=fontpath, size=9)\n",
    "plt.rc('font', family='NanumBarunGothic') # 그래프에서 한글 깨지는 현상 방지\n",
    "plt.rc('axes', unicode_minus=False) # 그래프에서 마이너스 기호가 표시되도록\n",
    "mpl.font_manager._rebuild()"
   ]
  },
  {
   "cell_type": "code",
   "execution_count": 2,
   "metadata": {
    "ExecuteTime": {
     "end_time": "2021-09-24T05:58:18.527654Z",
     "start_time": "2021-09-24T05:58:18.460766Z"
    },
    "colab": {
     "base_uri": "https://localhost:8080/",
     "height": 669
    },
    "executionInfo": {
     "elapsed": 220,
     "status": "ok",
     "timestamp": 1631671665280,
     "user": {
      "displayName": "김동현",
      "photoUrl": "https://lh3.googleusercontent.com/a/default-user=s64",
      "userId": "05798820432415047858"
     },
     "user_tz": -540
    },
    "id": "7lpIdrTtwHmF",
    "outputId": "1e735801-17c0-46f3-baa8-9933f8e5d80a"
   },
   "outputs": [
    {
     "data": {
      "text/html": [
       "<div>\n",
       "<style scoped>\n",
       "    .dataframe tbody tr th:only-of-type {\n",
       "        vertical-align: middle;\n",
       "    }\n",
       "\n",
       "    .dataframe tbody tr th {\n",
       "        vertical-align: top;\n",
       "    }\n",
       "\n",
       "    .dataframe thead th {\n",
       "        text-align: right;\n",
       "    }\n",
       "</style>\n",
       "<table border=\"1\" class=\"dataframe\">\n",
       "  <thead>\n",
       "    <tr style=\"text-align: right;\">\n",
       "      <th></th>\n",
       "      <th>Year</th>\n",
       "      <th>Country</th>\n",
       "      <th>Winner</th>\n",
       "      <th>Runners-Up</th>\n",
       "      <th>Third</th>\n",
       "      <th>Fourth</th>\n",
       "      <th>GoalsScored</th>\n",
       "      <th>QualifiedTeams</th>\n",
       "      <th>MatchesPlayed</th>\n",
       "      <th>Attendance</th>\n",
       "    </tr>\n",
       "  </thead>\n",
       "  <tbody>\n",
       "    <tr>\n",
       "      <th>0</th>\n",
       "      <td>1930</td>\n",
       "      <td>Uruguay</td>\n",
       "      <td>Uruguay</td>\n",
       "      <td>Argentina</td>\n",
       "      <td>USA</td>\n",
       "      <td>Yugoslavia</td>\n",
       "      <td>70</td>\n",
       "      <td>13</td>\n",
       "      <td>18</td>\n",
       "      <td>590.549</td>\n",
       "    </tr>\n",
       "    <tr>\n",
       "      <th>1</th>\n",
       "      <td>1934</td>\n",
       "      <td>Italy</td>\n",
       "      <td>Italy</td>\n",
       "      <td>Czechoslovakia</td>\n",
       "      <td>Germany</td>\n",
       "      <td>Austria</td>\n",
       "      <td>70</td>\n",
       "      <td>16</td>\n",
       "      <td>17</td>\n",
       "      <td>363.000</td>\n",
       "    </tr>\n",
       "    <tr>\n",
       "      <th>2</th>\n",
       "      <td>1938</td>\n",
       "      <td>France</td>\n",
       "      <td>Italy</td>\n",
       "      <td>Hungary</td>\n",
       "      <td>Brazil</td>\n",
       "      <td>Sweden</td>\n",
       "      <td>84</td>\n",
       "      <td>15</td>\n",
       "      <td>18</td>\n",
       "      <td>375.700</td>\n",
       "    </tr>\n",
       "    <tr>\n",
       "      <th>3</th>\n",
       "      <td>1950</td>\n",
       "      <td>Brazil</td>\n",
       "      <td>Uruguay</td>\n",
       "      <td>Brazil</td>\n",
       "      <td>Sweden</td>\n",
       "      <td>Spain</td>\n",
       "      <td>88</td>\n",
       "      <td>13</td>\n",
       "      <td>22</td>\n",
       "      <td>1.045.246</td>\n",
       "    </tr>\n",
       "    <tr>\n",
       "      <th>4</th>\n",
       "      <td>1954</td>\n",
       "      <td>Switzerland</td>\n",
       "      <td>Germany FR</td>\n",
       "      <td>Hungary</td>\n",
       "      <td>Austria</td>\n",
       "      <td>Uruguay</td>\n",
       "      <td>140</td>\n",
       "      <td>16</td>\n",
       "      <td>26</td>\n",
       "      <td>768.607</td>\n",
       "    </tr>\n",
       "    <tr>\n",
       "      <th>5</th>\n",
       "      <td>1958</td>\n",
       "      <td>Sweden</td>\n",
       "      <td>Brazil</td>\n",
       "      <td>Sweden</td>\n",
       "      <td>France</td>\n",
       "      <td>Germany FR</td>\n",
       "      <td>126</td>\n",
       "      <td>16</td>\n",
       "      <td>35</td>\n",
       "      <td>819.810</td>\n",
       "    </tr>\n",
       "    <tr>\n",
       "      <th>6</th>\n",
       "      <td>1962</td>\n",
       "      <td>Chile</td>\n",
       "      <td>Brazil</td>\n",
       "      <td>Czechoslovakia</td>\n",
       "      <td>Chile</td>\n",
       "      <td>Yugoslavia</td>\n",
       "      <td>89</td>\n",
       "      <td>16</td>\n",
       "      <td>32</td>\n",
       "      <td>893.172</td>\n",
       "    </tr>\n",
       "    <tr>\n",
       "      <th>7</th>\n",
       "      <td>1966</td>\n",
       "      <td>England</td>\n",
       "      <td>England</td>\n",
       "      <td>Germany FR</td>\n",
       "      <td>Portugal</td>\n",
       "      <td>Soviet Union</td>\n",
       "      <td>89</td>\n",
       "      <td>16</td>\n",
       "      <td>32</td>\n",
       "      <td>1.563.135</td>\n",
       "    </tr>\n",
       "    <tr>\n",
       "      <th>8</th>\n",
       "      <td>1970</td>\n",
       "      <td>Mexico</td>\n",
       "      <td>Brazil</td>\n",
       "      <td>Italy</td>\n",
       "      <td>Germany FR</td>\n",
       "      <td>Uruguay</td>\n",
       "      <td>95</td>\n",
       "      <td>16</td>\n",
       "      <td>32</td>\n",
       "      <td>1.603.975</td>\n",
       "    </tr>\n",
       "    <tr>\n",
       "      <th>9</th>\n",
       "      <td>1974</td>\n",
       "      <td>Germany</td>\n",
       "      <td>Germany FR</td>\n",
       "      <td>Netherlands</td>\n",
       "      <td>Poland</td>\n",
       "      <td>Brazil</td>\n",
       "      <td>97</td>\n",
       "      <td>16</td>\n",
       "      <td>38</td>\n",
       "      <td>1.865.753</td>\n",
       "    </tr>\n",
       "    <tr>\n",
       "      <th>10</th>\n",
       "      <td>1978</td>\n",
       "      <td>Argentina</td>\n",
       "      <td>Argentina</td>\n",
       "      <td>Netherlands</td>\n",
       "      <td>Brazil</td>\n",
       "      <td>Italy</td>\n",
       "      <td>102</td>\n",
       "      <td>16</td>\n",
       "      <td>38</td>\n",
       "      <td>1.545.791</td>\n",
       "    </tr>\n",
       "    <tr>\n",
       "      <th>11</th>\n",
       "      <td>1982</td>\n",
       "      <td>Spain</td>\n",
       "      <td>Italy</td>\n",
       "      <td>Germany FR</td>\n",
       "      <td>Poland</td>\n",
       "      <td>France</td>\n",
       "      <td>146</td>\n",
       "      <td>24</td>\n",
       "      <td>52</td>\n",
       "      <td>2.109.723</td>\n",
       "    </tr>\n",
       "    <tr>\n",
       "      <th>12</th>\n",
       "      <td>1986</td>\n",
       "      <td>Mexico</td>\n",
       "      <td>Argentina</td>\n",
       "      <td>Germany FR</td>\n",
       "      <td>France</td>\n",
       "      <td>Belgium</td>\n",
       "      <td>132</td>\n",
       "      <td>24</td>\n",
       "      <td>52</td>\n",
       "      <td>2.394.031</td>\n",
       "    </tr>\n",
       "    <tr>\n",
       "      <th>13</th>\n",
       "      <td>1990</td>\n",
       "      <td>Italy</td>\n",
       "      <td>Germany FR</td>\n",
       "      <td>Argentina</td>\n",
       "      <td>Italy</td>\n",
       "      <td>England</td>\n",
       "      <td>115</td>\n",
       "      <td>24</td>\n",
       "      <td>52</td>\n",
       "      <td>2.516.215</td>\n",
       "    </tr>\n",
       "    <tr>\n",
       "      <th>14</th>\n",
       "      <td>1994</td>\n",
       "      <td>USA</td>\n",
       "      <td>Brazil</td>\n",
       "      <td>Italy</td>\n",
       "      <td>Sweden</td>\n",
       "      <td>Bulgaria</td>\n",
       "      <td>141</td>\n",
       "      <td>24</td>\n",
       "      <td>52</td>\n",
       "      <td>3.587.538</td>\n",
       "    </tr>\n",
       "    <tr>\n",
       "      <th>15</th>\n",
       "      <td>1998</td>\n",
       "      <td>France</td>\n",
       "      <td>France</td>\n",
       "      <td>Brazil</td>\n",
       "      <td>Croatia</td>\n",
       "      <td>Netherlands</td>\n",
       "      <td>171</td>\n",
       "      <td>32</td>\n",
       "      <td>64</td>\n",
       "      <td>2.785.100</td>\n",
       "    </tr>\n",
       "    <tr>\n",
       "      <th>16</th>\n",
       "      <td>2002</td>\n",
       "      <td>Korea/Japan</td>\n",
       "      <td>Brazil</td>\n",
       "      <td>Germany</td>\n",
       "      <td>Turkey</td>\n",
       "      <td>Korea Republic</td>\n",
       "      <td>161</td>\n",
       "      <td>32</td>\n",
       "      <td>64</td>\n",
       "      <td>2.705.197</td>\n",
       "    </tr>\n",
       "    <tr>\n",
       "      <th>17</th>\n",
       "      <td>2006</td>\n",
       "      <td>Germany</td>\n",
       "      <td>Italy</td>\n",
       "      <td>France</td>\n",
       "      <td>Germany</td>\n",
       "      <td>Portugal</td>\n",
       "      <td>147</td>\n",
       "      <td>32</td>\n",
       "      <td>64</td>\n",
       "      <td>3.359.439</td>\n",
       "    </tr>\n",
       "    <tr>\n",
       "      <th>18</th>\n",
       "      <td>2010</td>\n",
       "      <td>South Africa</td>\n",
       "      <td>Spain</td>\n",
       "      <td>Netherlands</td>\n",
       "      <td>Germany</td>\n",
       "      <td>Uruguay</td>\n",
       "      <td>145</td>\n",
       "      <td>32</td>\n",
       "      <td>64</td>\n",
       "      <td>3.178.856</td>\n",
       "    </tr>\n",
       "    <tr>\n",
       "      <th>19</th>\n",
       "      <td>2014</td>\n",
       "      <td>Brazil</td>\n",
       "      <td>Germany</td>\n",
       "      <td>Argentina</td>\n",
       "      <td>Netherlands</td>\n",
       "      <td>Brazil</td>\n",
       "      <td>171</td>\n",
       "      <td>32</td>\n",
       "      <td>64</td>\n",
       "      <td>3.386.810</td>\n",
       "    </tr>\n",
       "  </tbody>\n",
       "</table>\n",
       "</div>"
      ],
      "text/plain": [
       "    Year       Country      Winner      Runners-Up        Third  \\\n",
       "0   1930       Uruguay     Uruguay       Argentina          USA   \n",
       "1   1934         Italy       Italy  Czechoslovakia      Germany   \n",
       "2   1938        France       Italy         Hungary       Brazil   \n",
       "3   1950        Brazil     Uruguay          Brazil       Sweden   \n",
       "4   1954   Switzerland  Germany FR         Hungary      Austria   \n",
       "5   1958        Sweden      Brazil          Sweden       France   \n",
       "6   1962         Chile      Brazil  Czechoslovakia        Chile   \n",
       "7   1966       England     England      Germany FR     Portugal   \n",
       "8   1970        Mexico      Brazil           Italy   Germany FR   \n",
       "9   1974       Germany  Germany FR     Netherlands       Poland   \n",
       "10  1978     Argentina   Argentina     Netherlands       Brazil   \n",
       "11  1982         Spain       Italy      Germany FR       Poland   \n",
       "12  1986        Mexico   Argentina      Germany FR       France   \n",
       "13  1990         Italy  Germany FR       Argentina        Italy   \n",
       "14  1994           USA      Brazil           Italy       Sweden   \n",
       "15  1998        France      France          Brazil      Croatia   \n",
       "16  2002   Korea/Japan      Brazil         Germany       Turkey   \n",
       "17  2006       Germany       Italy          France      Germany   \n",
       "18  2010  South Africa       Spain     Netherlands      Germany   \n",
       "19  2014        Brazil     Germany       Argentina  Netherlands   \n",
       "\n",
       "            Fourth  GoalsScored  QualifiedTeams  MatchesPlayed Attendance  \n",
       "0       Yugoslavia           70              13             18    590.549  \n",
       "1          Austria           70              16             17    363.000  \n",
       "2           Sweden           84              15             18    375.700  \n",
       "3            Spain           88              13             22  1.045.246  \n",
       "4          Uruguay          140              16             26    768.607  \n",
       "5       Germany FR          126              16             35    819.810  \n",
       "6       Yugoslavia           89              16             32    893.172  \n",
       "7     Soviet Union           89              16             32  1.563.135  \n",
       "8          Uruguay           95              16             32  1.603.975  \n",
       "9           Brazil           97              16             38  1.865.753  \n",
       "10           Italy          102              16             38  1.545.791  \n",
       "11          France          146              24             52  2.109.723  \n",
       "12         Belgium          132              24             52  2.394.031  \n",
       "13         England          115              24             52  2.516.215  \n",
       "14        Bulgaria          141              24             52  3.587.538  \n",
       "15     Netherlands          171              32             64  2.785.100  \n",
       "16  Korea Republic          161              32             64  2.705.197  \n",
       "17        Portugal          147              32             64  3.359.439  \n",
       "18         Uruguay          145              32             64  3.178.856  \n",
       "19          Brazil          171              32             64  3.386.810  "
      ]
     },
     "execution_count": 2,
     "metadata": {},
     "output_type": "execute_result"
    }
   ],
   "source": [
    "worldcups = pd.read_csv('WorldCups.csv')\n",
    "worldcups"
   ]
  },
  {
   "cell_type": "code",
   "execution_count": 3,
   "metadata": {
    "ExecuteTime": {
     "end_time": "2021-09-24T05:58:20.112152Z",
     "start_time": "2021-09-24T05:58:20.078151Z"
    },
    "colab": {
     "base_uri": "https://localhost:8080/"
    },
    "executionInfo": {
     "elapsed": 226,
     "status": "ok",
     "timestamp": 1631671669171,
     "user": {
      "displayName": "김동현",
      "photoUrl": "https://lh3.googleusercontent.com/a/default-user=s64",
      "userId": "05798820432415047858"
     },
     "user_tz": -540
    },
    "id": "6RV9ELwZWVZG",
    "outputId": "c3a755b2-3028-4526-fba0-69f2a1787e93"
   },
   "outputs": [
    {
     "name": "stdout",
     "output_type": "stream",
     "text": [
      "<class 'pandas.core.frame.DataFrame'>\n",
      "RangeIndex: 20 entries, 0 to 19\n",
      "Data columns (total 10 columns):\n",
      " #   Column          Non-Null Count  Dtype \n",
      "---  ------          --------------  ----- \n",
      " 0   Year            20 non-null     int64 \n",
      " 1   Country         20 non-null     object\n",
      " 2   Winner          20 non-null     object\n",
      " 3   Runners-Up      20 non-null     object\n",
      " 4   Third           20 non-null     object\n",
      " 5   Fourth          20 non-null     object\n",
      " 6   GoalsScored     20 non-null     int64 \n",
      " 7   QualifiedTeams  20 non-null     int64 \n",
      " 8   MatchesPlayed   20 non-null     int64 \n",
      " 9   Attendance      20 non-null     object\n",
      "dtypes: int64(4), object(6)\n",
      "memory usage: 1.7+ KB\n"
     ]
    }
   ],
   "source": [
    "worldcups.info()"
   ]
  },
  {
   "cell_type": "code",
   "execution_count": 12,
   "metadata": {
    "ExecuteTime": {
     "end_time": "2021-09-24T04:55:47.767695Z",
     "start_time": "2021-09-24T04:55:47.729950Z"
    }
   },
   "outputs": [],
   "source": [
    "import missingno as msno"
   ]
  },
  {
   "cell_type": "code",
   "execution_count": 13,
   "metadata": {
    "ExecuteTime": {
     "end_time": "2021-09-24T04:56:57.392944Z",
     "start_time": "2021-09-24T04:56:56.086371Z"
    }
   },
   "outputs": [
    {
     "data": {
      "text/plain": [
       "<AxesSubplot:>"
      ]
     },
     "execution_count": 13,
     "metadata": {},
     "output_type": "execute_result"
    },
    {
     "data": {
      "image/png": "[encoded data removed]",
      "text/plain": [
       "<Figure size 1800x720 with 2 Axes>"
      ]
     },
     "metadata": {
      "needs_background": "light"
     },
     "output_type": "display_data"
    }
   ],
   "source": [
    "msno.matrix(match.sample(250))"
   ]
  },
  {
   "cell_type": "code",
   "execution_count": 15,
   "metadata": {
    "ExecuteTime": {
     "end_time": "2021-09-24T04:57:36.533230Z",
     "start_time": "2021-09-24T04:57:33.622930Z"
    }
   },
   "outputs": [
    {
     "data": {
      "text/plain": [
       "<AxesSubplot:>"
      ]
     },
     "execution_count": 15,
     "metadata": {},
     "output_type": "execute_result"
    },
    {
     "data": {
      "image/png": "[encoded data removed]",
      "text/plain": [
       "<Figure size 1728x720 with 3 Axes>"
      ]
     },
     "metadata": {
      "needs_background": "light"
     },
     "output_type": "display_data"
    }
   ],
   "source": [
    "msno.bar(match.sample(250))"
   ]
  },
  {
   "cell_type": "code",
   "execution_count": 4,
   "metadata": {
    "ExecuteTime": {
     "end_time": "2021-09-24T05:58:48.993601Z",
     "start_time": "2021-09-24T05:58:48.803489Z"
    },
    "colab": {
     "base_uri": "https://localhost:8080/",
     "height": 660
    },
    "executionInfo": {
     "elapsed": 292,
     "status": "ok",
     "timestamp": 1631673863721,
     "user": {
      "displayName": "김동현",
      "photoUrl": "https://lh3.googleusercontent.com/a/default-user=s64",
      "userId": "05798820432415047858"
     },
     "user_tz": -540
    },
    "id": "nQyaLgysNdp_",
    "outputId": "d252b46d-6049-43d5-d813-9f60d4f8e057"
   },
   "outputs": [
    {
     "data": {
      "text/html": [
       "<div>\n",
       "<style scoped>\n",
       "    .dataframe tbody tr th:only-of-type {\n",
       "        vertical-align: middle;\n",
       "    }\n",
       "\n",
       "    .dataframe tbody tr th {\n",
       "        vertical-align: top;\n",
       "    }\n",
       "\n",
       "    .dataframe thead th {\n",
       "        text-align: right;\n",
       "    }\n",
       "</style>\n",
       "<table border=\"1\" class=\"dataframe\">\n",
       "  <thead>\n",
       "    <tr style=\"text-align: right;\">\n",
       "      <th></th>\n",
       "      <th>Year</th>\n",
       "      <th>Datetime</th>\n",
       "      <th>Stage</th>\n",
       "      <th>Stadium</th>\n",
       "      <th>City</th>\n",
       "      <th>Home Team Name</th>\n",
       "      <th>Home Team Goals</th>\n",
       "      <th>Away Team Goals</th>\n",
       "      <th>Away Team Name</th>\n",
       "      <th>Win conditions</th>\n",
       "      <th>Attendance</th>\n",
       "      <th>Half-time Home Goals</th>\n",
       "      <th>Half-time Away Goals</th>\n",
       "      <th>Referee</th>\n",
       "      <th>Assistant 1</th>\n",
       "      <th>Assistant 2</th>\n",
       "      <th>RoundID</th>\n",
       "      <th>MatchID</th>\n",
       "      <th>Home Team Initials</th>\n",
       "      <th>Away Team Initials</th>\n",
       "    </tr>\n",
       "  </thead>\n",
       "  <tbody>\n",
       "    <tr>\n",
       "      <th>0</th>\n",
       "      <td>1930.0</td>\n",
       "      <td>13 Jul 1930 - 15:00</td>\n",
       "      <td>Group 1</td>\n",
       "      <td>Pocitos</td>\n",
       "      <td>Montevideo</td>\n",
       "      <td>France</td>\n",
       "      <td>4.0</td>\n",
       "      <td>1.0</td>\n",
       "      <td>Mexico</td>\n",
       "      <td></td>\n",
       "      <td>4444.0</td>\n",
       "      <td>3.0</td>\n",
       "      <td>0.0</td>\n",
       "      <td>LOMBARDI Domingo (URU)</td>\n",
       "      <td>CRISTOPHE Henry (BEL)</td>\n",
       "      <td>REGO Gilberto (BRA)</td>\n",
       "      <td>201.0</td>\n",
       "      <td>1096.0</td>\n",
       "      <td>FRA</td>\n",
       "      <td>MEX</td>\n",
       "    </tr>\n",
       "    <tr>\n",
       "      <th>1</th>\n",
       "      <td>1930.0</td>\n",
       "      <td>13 Jul 1930 - 15:00</td>\n",
       "      <td>Group 4</td>\n",
       "      <td>Parque Central</td>\n",
       "      <td>Montevideo</td>\n",
       "      <td>USA</td>\n",
       "      <td>3.0</td>\n",
       "      <td>0.0</td>\n",
       "      <td>Belgium</td>\n",
       "      <td></td>\n",
       "      <td>18346.0</td>\n",
       "      <td>2.0</td>\n",
       "      <td>0.0</td>\n",
       "      <td>MACIAS Jose (ARG)</td>\n",
       "      <td>MATEUCCI Francisco (URU)</td>\n",
       "      <td>WARNKEN Alberto (CHI)</td>\n",
       "      <td>201.0</td>\n",
       "      <td>1090.0</td>\n",
       "      <td>USA</td>\n",
       "      <td>BEL</td>\n",
       "    </tr>\n",
       "    <tr>\n",
       "      <th>2</th>\n",
       "      <td>1930.0</td>\n",
       "      <td>14 Jul 1930 - 12:45</td>\n",
       "      <td>Group 2</td>\n",
       "      <td>Parque Central</td>\n",
       "      <td>Montevideo</td>\n",
       "      <td>Yugoslavia</td>\n",
       "      <td>2.0</td>\n",
       "      <td>1.0</td>\n",
       "      <td>Brazil</td>\n",
       "      <td></td>\n",
       "      <td>24059.0</td>\n",
       "      <td>2.0</td>\n",
       "      <td>0.0</td>\n",
       "      <td>TEJADA Anibal (URU)</td>\n",
       "      <td>VALLARINO Ricardo (URU)</td>\n",
       "      <td>BALWAY Thomas (FRA)</td>\n",
       "      <td>201.0</td>\n",
       "      <td>1093.0</td>\n",
       "      <td>YUG</td>\n",
       "      <td>BRA</td>\n",
       "    </tr>\n",
       "    <tr>\n",
       "      <th>3</th>\n",
       "      <td>1930.0</td>\n",
       "      <td>14 Jul 1930 - 14:50</td>\n",
       "      <td>Group 3</td>\n",
       "      <td>Pocitos</td>\n",
       "      <td>Montevideo</td>\n",
       "      <td>Romania</td>\n",
       "      <td>3.0</td>\n",
       "      <td>1.0</td>\n",
       "      <td>Peru</td>\n",
       "      <td></td>\n",
       "      <td>2549.0</td>\n",
       "      <td>1.0</td>\n",
       "      <td>0.0</td>\n",
       "      <td>WARNKEN Alberto (CHI)</td>\n",
       "      <td>LANGENUS Jean (BEL)</td>\n",
       "      <td>MATEUCCI Francisco (URU)</td>\n",
       "      <td>201.0</td>\n",
       "      <td>1098.0</td>\n",
       "      <td>ROU</td>\n",
       "      <td>PER</td>\n",
       "    </tr>\n",
       "    <tr>\n",
       "      <th>4</th>\n",
       "      <td>1930.0</td>\n",
       "      <td>15 Jul 1930 - 16:00</td>\n",
       "      <td>Group 1</td>\n",
       "      <td>Parque Central</td>\n",
       "      <td>Montevideo</td>\n",
       "      <td>Argentina</td>\n",
       "      <td>1.0</td>\n",
       "      <td>0.0</td>\n",
       "      <td>France</td>\n",
       "      <td></td>\n",
       "      <td>23409.0</td>\n",
       "      <td>0.0</td>\n",
       "      <td>0.0</td>\n",
       "      <td>REGO Gilberto (BRA)</td>\n",
       "      <td>SAUCEDO Ulises (BOL)</td>\n",
       "      <td>RADULESCU Constantin (ROU)</td>\n",
       "      <td>201.0</td>\n",
       "      <td>1085.0</td>\n",
       "      <td>ARG</td>\n",
       "      <td>FRA</td>\n",
       "    </tr>\n",
       "    <tr>\n",
       "      <th>...</th>\n",
       "      <td>...</td>\n",
       "      <td>...</td>\n",
       "      <td>...</td>\n",
       "      <td>...</td>\n",
       "      <td>...</td>\n",
       "      <td>...</td>\n",
       "      <td>...</td>\n",
       "      <td>...</td>\n",
       "      <td>...</td>\n",
       "      <td>...</td>\n",
       "      <td>...</td>\n",
       "      <td>...</td>\n",
       "      <td>...</td>\n",
       "      <td>...</td>\n",
       "      <td>...</td>\n",
       "      <td>...</td>\n",
       "      <td>...</td>\n",
       "      <td>...</td>\n",
       "      <td>...</td>\n",
       "      <td>...</td>\n",
       "    </tr>\n",
       "    <tr>\n",
       "      <th>847</th>\n",
       "      <td>2014.0</td>\n",
       "      <td>05 Jul 2014 - 17:00</td>\n",
       "      <td>Quarter-finals</td>\n",
       "      <td>Arena Fonte Nova</td>\n",
       "      <td>Salvador</td>\n",
       "      <td>Netherlands</td>\n",
       "      <td>0.0</td>\n",
       "      <td>0.0</td>\n",
       "      <td>Costa Rica</td>\n",
       "      <td>Netherlands win on penalties (4 - 3)</td>\n",
       "      <td>51179.0</td>\n",
       "      <td>0.0</td>\n",
       "      <td>0.0</td>\n",
       "      <td>Ravshan IRMATOV (UZB)</td>\n",
       "      <td>RASULOV Abduxamidullo (UZB)</td>\n",
       "      <td>KOCHKAROV Bakhadyr (KGZ)</td>\n",
       "      <td>255953.0</td>\n",
       "      <td>300186488.0</td>\n",
       "      <td>NED</td>\n",
       "      <td>CRC</td>\n",
       "    </tr>\n",
       "    <tr>\n",
       "      <th>848</th>\n",
       "      <td>2014.0</td>\n",
       "      <td>08 Jul 2014 - 17:00</td>\n",
       "      <td>Semi-finals</td>\n",
       "      <td>Estadio Mineirao</td>\n",
       "      <td>Belo Horizonte</td>\n",
       "      <td>Brazil</td>\n",
       "      <td>1.0</td>\n",
       "      <td>7.0</td>\n",
       "      <td>Germany</td>\n",
       "      <td></td>\n",
       "      <td>58141.0</td>\n",
       "      <td>0.0</td>\n",
       "      <td>5.0</td>\n",
       "      <td>RODRIGUEZ Marco (MEX)</td>\n",
       "      <td>TORRENTERA Marvin (MEX)</td>\n",
       "      <td>QUINTERO Marcos (MEX)</td>\n",
       "      <td>255955.0</td>\n",
       "      <td>300186474.0</td>\n",
       "      <td>BRA</td>\n",
       "      <td>GER</td>\n",
       "    </tr>\n",
       "    <tr>\n",
       "      <th>849</th>\n",
       "      <td>2014.0</td>\n",
       "      <td>09 Jul 2014 - 17:00</td>\n",
       "      <td>Semi-finals</td>\n",
       "      <td>Arena de Sao Paulo</td>\n",
       "      <td>Sao Paulo</td>\n",
       "      <td>Netherlands</td>\n",
       "      <td>0.0</td>\n",
       "      <td>0.0</td>\n",
       "      <td>Argentina</td>\n",
       "      <td>Argentina win on penalties (2 - 4)</td>\n",
       "      <td>63267.0</td>\n",
       "      <td>0.0</td>\n",
       "      <td>0.0</td>\n",
       "      <td>C�neyt �AKIR (TUR)</td>\n",
       "      <td>DURAN Bahattin (TUR)</td>\n",
       "      <td>ONGUN Tarik (TUR)</td>\n",
       "      <td>255955.0</td>\n",
       "      <td>300186490.0</td>\n",
       "      <td>NED</td>\n",
       "      <td>ARG</td>\n",
       "    </tr>\n",
       "    <tr>\n",
       "      <th>850</th>\n",
       "      <td>2014.0</td>\n",
       "      <td>12 Jul 2014 - 17:00</td>\n",
       "      <td>Play-off for third place</td>\n",
       "      <td>Estadio Nacional</td>\n",
       "      <td>Brasilia</td>\n",
       "      <td>Brazil</td>\n",
       "      <td>0.0</td>\n",
       "      <td>3.0</td>\n",
       "      <td>Netherlands</td>\n",
       "      <td></td>\n",
       "      <td>68034.0</td>\n",
       "      <td>0.0</td>\n",
       "      <td>2.0</td>\n",
       "      <td>HAIMOUDI Djamel (ALG)</td>\n",
       "      <td>ACHIK Redouane (MAR)</td>\n",
       "      <td>ETCHIALI Abdelhak (ALG)</td>\n",
       "      <td>255957.0</td>\n",
       "      <td>300186502.0</td>\n",
       "      <td>BRA</td>\n",
       "      <td>NED</td>\n",
       "    </tr>\n",
       "    <tr>\n",
       "      <th>851</th>\n",
       "      <td>2014.0</td>\n",
       "      <td>13 Jul 2014 - 16:00</td>\n",
       "      <td>Final</td>\n",
       "      <td>Estadio do Maracana</td>\n",
       "      <td>Rio De Janeiro</td>\n",
       "      <td>Germany</td>\n",
       "      <td>1.0</td>\n",
       "      <td>0.0</td>\n",
       "      <td>Argentina</td>\n",
       "      <td>Germany win after extra time</td>\n",
       "      <td>74738.0</td>\n",
       "      <td>0.0</td>\n",
       "      <td>0.0</td>\n",
       "      <td>Nicola RIZZOLI (ITA)</td>\n",
       "      <td>Renato FAVERANI (ITA)</td>\n",
       "      <td>Andrea STEFANI (ITA)</td>\n",
       "      <td>255959.0</td>\n",
       "      <td>300186501.0</td>\n",
       "      <td>GER</td>\n",
       "      <td>ARG</td>\n",
       "    </tr>\n",
       "  </tbody>\n",
       "</table>\n",
       "<p>850 rows × 20 columns</p>\n",
       "</div>"
      ],
      "text/plain": [
       "       Year              Datetime                     Stage  \\\n",
       "0    1930.0  13 Jul 1930 - 15:00                    Group 1   \n",
       "1    1930.0  13 Jul 1930 - 15:00                    Group 4   \n",
       "2    1930.0  14 Jul 1930 - 12:45                    Group 2   \n",
       "3    1930.0  14 Jul 1930 - 14:50                    Group 3   \n",
       "4    1930.0  15 Jul 1930 - 16:00                    Group 1   \n",
       "..      ...                   ...                       ...   \n",
       "847  2014.0  05 Jul 2014 - 17:00             Quarter-finals   \n",
       "848  2014.0  08 Jul 2014 - 17:00                Semi-finals   \n",
       "849  2014.0  09 Jul 2014 - 17:00                Semi-finals   \n",
       "850  2014.0  12 Jul 2014 - 17:00   Play-off for third place   \n",
       "851  2014.0  13 Jul 2014 - 16:00                      Final   \n",
       "\n",
       "                 Stadium             City Home Team Name  Home Team Goals  \\\n",
       "0                Pocitos      Montevideo          France              4.0   \n",
       "1         Parque Central      Montevideo             USA              3.0   \n",
       "2         Parque Central      Montevideo      Yugoslavia              2.0   \n",
       "3                Pocitos      Montevideo         Romania              3.0   \n",
       "4         Parque Central      Montevideo       Argentina              1.0   \n",
       "..                   ...              ...            ...              ...   \n",
       "847     Arena Fonte Nova        Salvador     Netherlands              0.0   \n",
       "848     Estadio Mineirao  Belo Horizonte          Brazil              1.0   \n",
       "849   Arena de Sao Paulo       Sao Paulo     Netherlands              0.0   \n",
       "850     Estadio Nacional        Brasilia          Brazil              0.0   \n",
       "851  Estadio do Maracana  Rio De Janeiro         Germany              1.0   \n",
       "\n",
       "     Away Team Goals Away Team Name                         Win conditions  \\\n",
       "0                1.0         Mexico                                          \n",
       "1                0.0        Belgium                                          \n",
       "2                1.0         Brazil                                          \n",
       "3                1.0           Peru                                          \n",
       "4                0.0         France                                          \n",
       "..               ...            ...                                    ...   \n",
       "847              0.0     Costa Rica  Netherlands win on penalties (4 - 3)    \n",
       "848              7.0        Germany                                          \n",
       "849              0.0      Argentina    Argentina win on penalties (2 - 4)    \n",
       "850              3.0    Netherlands                                          \n",
       "851              0.0      Argentina          Germany win after extra time    \n",
       "\n",
       "     Attendance  Half-time Home Goals  Half-time Away Goals  \\\n",
       "0        4444.0                   3.0                   0.0   \n",
       "1       18346.0                   2.0                   0.0   \n",
       "2       24059.0                   2.0                   0.0   \n",
       "3        2549.0                   1.0                   0.0   \n",
       "4       23409.0                   0.0                   0.0   \n",
       "..          ...                   ...                   ...   \n",
       "847     51179.0                   0.0                   0.0   \n",
       "848     58141.0                   0.0                   5.0   \n",
       "849     63267.0                   0.0                   0.0   \n",
       "850     68034.0                   0.0                   2.0   \n",
       "851     74738.0                   0.0                   0.0   \n",
       "\n",
       "                    Referee                  Assistant 1  \\\n",
       "0    LOMBARDI Domingo (URU)        CRISTOPHE Henry (BEL)   \n",
       "1         MACIAS Jose (ARG)     MATEUCCI Francisco (URU)   \n",
       "2       TEJADA Anibal (URU)      VALLARINO Ricardo (URU)   \n",
       "3     WARNKEN Alberto (CHI)          LANGENUS Jean (BEL)   \n",
       "4       REGO Gilberto (BRA)         SAUCEDO Ulises (BOL)   \n",
       "..                      ...                          ...   \n",
       "847   Ravshan IRMATOV (UZB)  RASULOV Abduxamidullo (UZB)   \n",
       "848   RODRIGUEZ Marco (MEX)      TORRENTERA Marvin (MEX)   \n",
       "849      C�neyt �AKIR (TUR)         DURAN Bahattin (TUR)   \n",
       "850   HAIMOUDI Djamel (ALG)         ACHIK Redouane (MAR)   \n",
       "851    Nicola RIZZOLI (ITA)        Renato FAVERANI (ITA)   \n",
       "\n",
       "                    Assistant 2   RoundID      MatchID Home Team Initials  \\\n",
       "0           REGO Gilberto (BRA)     201.0       1096.0                FRA   \n",
       "1         WARNKEN Alberto (CHI)     201.0       1090.0                USA   \n",
       "2           BALWAY Thomas (FRA)     201.0       1093.0                YUG   \n",
       "3      MATEUCCI Francisco (URU)     201.0       1098.0                ROU   \n",
       "4    RADULESCU Constantin (ROU)     201.0       1085.0                ARG   \n",
       "..                          ...       ...          ...                ...   \n",
       "847    KOCHKAROV Bakhadyr (KGZ)  255953.0  300186488.0                NED   \n",
       "848       QUINTERO Marcos (MEX)  255955.0  300186474.0                BRA   \n",
       "849           ONGUN Tarik (TUR)  255955.0  300186490.0                NED   \n",
       "850     ETCHIALI Abdelhak (ALG)  255957.0  300186502.0                BRA   \n",
       "851        Andrea STEFANI (ITA)  255959.0  300186501.0                GER   \n",
       "\n",
       "    Away Team Initials  \n",
       "0                  MEX  \n",
       "1                  BEL  \n",
       "2                  BRA  \n",
       "3                  PER  \n",
       "4                  FRA  \n",
       "..                 ...  \n",
       "847                CRC  \n",
       "848                GER  \n",
       "849                ARG  \n",
       "850                NED  \n",
       "851                ARG  \n",
       "\n",
       "[850 rows x 20 columns]"
      ]
     },
     "execution_count": 4,
     "metadata": {},
     "output_type": "execute_result"
    }
   ],
   "source": [
    "# null 값 제거\n",
    "match = pd.read_csv('WorldCupMatches.csv').dropna()\n",
    "match"
   ]
  },
  {
   "cell_type": "code",
   "execution_count": 17,
   "metadata": {
    "ExecuteTime": {
     "end_time": "2021-09-24T04:57:55.526419Z",
     "start_time": "2021-09-24T04:57:55.493263Z"
    },
    "colab": {
     "base_uri": "https://localhost:8080/"
    },
    "executionInfo": {
     "elapsed": 300,
     "status": "ok",
     "timestamp": 1631671809348,
     "user": {
      "displayName": "김동현",
      "photoUrl": "https://lh3.googleusercontent.com/a/default-user=s64",
      "userId": "05798820432415047858"
     },
     "user_tz": -540
    },
    "id": "FXNeDpl3Ndna",
    "outputId": "804f60bc-823f-4d2d-d3e2-9fc63102f312"
   },
   "outputs": [
    {
     "name": "stdout",
     "output_type": "stream",
     "text": [
      "<class 'pandas.core.frame.DataFrame'>\n",
      "Int64Index: 850 entries, 0 to 851\n",
      "Data columns (total 20 columns):\n",
      " #   Column                Non-Null Count  Dtype  \n",
      "---  ------                --------------  -----  \n",
      " 0   Year                  850 non-null    float64\n",
      " 1   Datetime              850 non-null    object \n",
      " 2   Stage                 850 non-null    object \n",
      " 3   Stadium               850 non-null    object \n",
      " 4   City                  850 non-null    object \n",
      " 5   Home Team Name        850 non-null    object \n",
      " 6   Home Team Goals       850 non-null    float64\n",
      " 7   Away Team Goals       850 non-null    float64\n",
      " 8   Away Team Name        850 non-null    object \n",
      " 9   Win conditions        850 non-null    object \n",
      " 10  Attendance            850 non-null    float64\n",
      " 11  Half-time Home Goals  850 non-null    float64\n",
      " 12  Half-time Away Goals  850 non-null    float64\n",
      " 13  Referee               850 non-null    object \n",
      " 14  Assistant 1           850 non-null    object \n",
      " 15  Assistant 2           850 non-null    object \n",
      " 16  RoundID               850 non-null    float64\n",
      " 17  MatchID               850 non-null    float64\n",
      " 18  Home Team Initials    850 non-null    object \n",
      " 19  Away Team Initials    850 non-null    object \n",
      "dtypes: float64(8), object(12)\n",
      "memory usage: 139.5+ KB\n"
     ]
    }
   ],
   "source": [
    "match.info()"
   ]
  },
  {
   "cell_type": "markdown",
   "metadata": {
    "id": "8MKf8lLvfORK"
   },
   "source": [
    "국가명 전처리"
   ]
  },
  {
   "cell_type": "code",
   "execution_count": 5,
   "metadata": {
    "ExecuteTime": {
     "end_time": "2021-09-24T05:59:03.376774Z",
     "start_time": "2021-09-24T05:59:03.349804Z"
    }
   },
   "outputs": [
    {
     "data": {
      "text/plain": [
       "rn\">Republic of Ireland       5\n",
       "rn\">Serbia and Montenegro     1\n",
       "rn\">Trinidad and Tobago       1\n",
       "rn\">United Arab Emirates      1\n",
       "rn\">Bosnia and Herzegovina    1\n",
       "Name: Home Team Name, dtype: int64"
      ]
     },
     "execution_count": 5,
     "metadata": {},
     "output_type": "execute_result"
    }
   ],
   "source": [
    "names = match[match['Home Team Name'].str.contains('rn\">')]['Home Team Name'].value_counts()\n",
    "names"
   ]
  },
  {
   "cell_type": "code",
   "execution_count": 6,
   "metadata": {
    "ExecuteTime": {
     "end_time": "2021-09-24T05:59:04.556748Z",
     "start_time": "2021-09-24T05:59:04.542500Z"
    }
   },
   "outputs": [
    {
     "data": {
      "text/plain": [
       "['rn\">Republic of Ireland',\n",
       " 'rn\">Serbia and Montenegro',\n",
       " 'rn\">Trinidad and Tobago',\n",
       " 'rn\">United Arab Emirates',\n",
       " 'rn\">Bosnia and Herzegovina']"
      ]
     },
     "execution_count": 6,
     "metadata": {},
     "output_type": "execute_result"
    }
   ],
   "source": [
    "wrong = list(names.index)\n",
    "wrong"
   ]
  },
  {
   "cell_type": "code",
   "execution_count": 7,
   "metadata": {
    "ExecuteTime": {
     "end_time": "2021-09-24T05:59:06.067309Z",
     "start_time": "2021-09-24T05:59:06.042291Z"
    },
    "colab": {
     "base_uri": "https://localhost:8080/"
    },
    "executionInfo": {
     "elapsed": 239,
     "status": "ok",
     "timestamp": 1631676311776,
     "user": {
      "displayName": "김동현",
      "photoUrl": "https://lh3.googleusercontent.com/a/default-user=s64",
      "userId": "05798820432415047858"
     },
     "user_tz": -540
    },
    "id": "yHtsWo1PfORP",
    "outputId": "f1aa3d6f-9004-47f7-d88a-896ae0da093c"
   },
   "outputs": [
    {
     "data": {
      "text/plain": [
       "['Republic of Ireland',\n",
       " 'Serbia and Montenegro',\n",
       " 'Trinidad and Tobago',\n",
       " 'United Arab Emirates',\n",
       " 'Bosnia and Herzegovina']"
      ]
     },
     "execution_count": 7,
     "metadata": {},
     "output_type": "execute_result"
    }
   ],
   "source": [
    "correct = [name.split('>')[1] for name in wrong]\n",
    "correct"
   ]
  },
  {
   "cell_type": "code",
   "execution_count": 8,
   "metadata": {
    "ExecuteTime": {
     "end_time": "2021-09-24T05:59:07.010813Z",
     "start_time": "2021-09-24T05:59:06.997170Z"
    },
    "id": "aGFSsgEVfORQ"
   },
   "outputs": [],
   "source": [
    "old_name = ['Germany FR', 'Maracan� - Est�dio Jornalista M�rio Filho', 'Estadio do Maracana']\n",
    "new_name = ['Germany', 'Maracan Stadium', 'Maracan Stadium']"
   ]
  },
  {
   "cell_type": "code",
   "execution_count": 9,
   "metadata": {
    "ExecuteTime": {
     "end_time": "2021-09-24T05:59:07.877143Z",
     "start_time": "2021-09-24T05:59:07.856985Z"
    },
    "id": "BovKyBqcfORR"
   },
   "outputs": [],
   "source": [
    "wrong = wrong + old_name\n",
    "correct = correct + new_name"
   ]
  },
  {
   "cell_type": "code",
   "execution_count": 10,
   "metadata": {
    "ExecuteTime": {
     "end_time": "2021-09-24T05:59:08.646765Z",
     "start_time": "2021-09-24T05:59:08.636809Z"
    }
   },
   "outputs": [
    {
     "data": {
      "text/plain": [
       "['rn\">Republic of Ireland',\n",
       " 'rn\">Serbia and Montenegro',\n",
       " 'rn\">Trinidad and Tobago',\n",
       " 'rn\">United Arab Emirates',\n",
       " 'rn\">Bosnia and Herzegovina',\n",
       " 'Germany FR',\n",
       " 'Maracan� - Est�dio Jornalista M�rio Filho',\n",
       " 'Estadio do Maracana']"
      ]
     },
     "execution_count": 10,
     "metadata": {},
     "output_type": "execute_result"
    }
   ],
   "source": [
    "wrong"
   ]
  },
  {
   "cell_type": "code",
   "execution_count": 11,
   "metadata": {
    "ExecuteTime": {
     "end_time": "2021-09-24T05:59:22.993223Z",
     "start_time": "2021-09-24T05:59:22.977873Z"
    },
    "colab": {
     "base_uri": "https://localhost:8080/"
    },
    "executionInfo": {
     "elapsed": 5,
     "status": "ok",
     "timestamp": 1631676314990,
     "user": {
      "displayName": "김동현",
      "photoUrl": "https://lh3.googleusercontent.com/a/default-user=s64",
      "userId": "05798820432415047858"
     },
     "user_tz": -540
    },
    "id": "NTunWe7xfORS",
    "outputId": "b2be0a23-cf1b-4de5-8565-b07e39e1e170"
   },
   "outputs": [
    {
     "data": {
      "text/plain": [
       "(['rn\">Republic of Ireland',\n",
       "  'rn\">Serbia and Montenegro',\n",
       "  'rn\">Trinidad and Tobago',\n",
       "  'rn\">United Arab Emirates',\n",
       "  'rn\">Bosnia and Herzegovina',\n",
       "  'Germany FR',\n",
       "  'Maracan� - Est�dio Jornalista M�rio Filho',\n",
       "  'Estadio do Maracana'],\n",
       " ['Republic of Ireland',\n",
       "  'Serbia and Montenegro',\n",
       "  'Trinidad and Tobago',\n",
       "  'United Arab Emirates',\n",
       "  'Bosnia and Herzegovina',\n",
       "  'Germany',\n",
       "  'Maracan Stadium',\n",
       "  'Maracan Stadium'])"
      ]
     },
     "execution_count": 11,
     "metadata": {},
     "output_type": "execute_result"
    }
   ],
   "source": [
    "wrong, correct"
   ]
  },
  {
   "cell_type": "code",
   "execution_count": 12,
   "metadata": {
    "ExecuteTime": {
     "end_time": "2021-09-24T05:59:39.133331Z",
     "start_time": "2021-09-24T05:59:39.114593Z"
    }
   },
   "outputs": [
    {
     "name": "stdout",
     "output_type": "stream",
     "text": [
      "0 rn\">Republic of Ireland\n",
      "1 rn\">Serbia and Montenegro\n",
      "2 rn\">Trinidad and Tobago\n",
      "3 rn\">United Arab Emirates\n",
      "4 rn\">Bosnia and Herzegovina\n",
      "5 Germany FR\n",
      "6 Maracan� - Est�dio Jornalista M�rio Filho\n",
      "7 Estadio do Maracana\n"
     ]
    }
   ],
   "source": [
    "for index, wr in enumerate(wrong):\n",
    "    print(index, wr)"
   ]
  },
  {
   "cell_type": "code",
   "execution_count": 49,
   "metadata": {
    "ExecuteTime": {
     "end_time": "2021-09-24T05:09:28.701130Z",
     "start_time": "2021-09-24T05:09:28.686624Z"
    }
   },
   "outputs": [
    {
     "data": {
      "text/plain": [
       "['Republic of Ireland',\n",
       " 'Bosnia and Herzegovina',\n",
       " 'Serbia and Montenegro',\n",
       " 'United Arab Emirates',\n",
       " 'Trinidad and Tobago',\n",
       " 'Germany',\n",
       " 'Maracan Stadium',\n",
       " 'Maracan Stadium']"
      ]
     },
     "execution_count": 49,
     "metadata": {},
     "output_type": "execute_result"
    }
   ],
   "source": [
    "correct[:10]"
   ]
  },
  {
   "cell_type": "code",
   "execution_count": 50,
   "metadata": {
    "ExecuteTime": {
     "end_time": "2021-09-24T05:09:52.119177Z",
     "start_time": "2021-09-24T05:09:52.098138Z"
    }
   },
   "outputs": [
    {
     "data": {
      "text/plain": [
       "['rn\">Republic of Ireland',\n",
       " 'rn\">Bosnia and Herzegovina',\n",
       " 'rn\">Serbia and Montenegro',\n",
       " 'rn\">United Arab Emirates',\n",
       " 'rn\">Trinidad and Tobago',\n",
       " 'Germany FR',\n",
       " 'Maracan� - Est�dio Jornalista M�rio Filho',\n",
       " 'Estadio do Maracana']"
      ]
     },
     "execution_count": 50,
     "metadata": {},
     "output_type": "execute_result"
    }
   ],
   "source": [
    "wrong[:10]"
   ]
  },
  {
   "cell_type": "code",
   "execution_count": 13,
   "metadata": {
    "ExecuteTime": {
     "end_time": "2021-09-24T06:00:00.445768Z",
     "start_time": "2021-09-24T06:00:00.368176Z"
    },
    "id": "Sk0CB1trfORT"
   },
   "outputs": [],
   "source": [
    "for index, wr in enumerate(wrong):\n",
    "    match = match.replace(wrong[index], correct[index])"
   ]
  },
  {
   "cell_type": "markdown",
   "metadata": {
    "id": "paBGXS766DAp"
   },
   "source": [
    "#### worldcups 데이터에서 관중(Attendance)이 가장 많은 월드컵을 출력\n",
    "* 1 _ sort_values"
   ]
  },
  {
   "cell_type": "code",
   "execution_count": 57,
   "metadata": {
    "ExecuteTime": {
     "end_time": "2021-09-24T05:11:57.217191Z",
     "start_time": "2021-09-24T05:11:57.178425Z"
    }
   },
   "outputs": [
    {
     "data": {
      "text/html": [
       "<div>\n",
       "<style scoped>\n",
       "    .dataframe tbody tr th:only-of-type {\n",
       "        vertical-align: middle;\n",
       "    }\n",
       "\n",
       "    .dataframe tbody tr th {\n",
       "        vertical-align: top;\n",
       "    }\n",
       "\n",
       "    .dataframe thead th {\n",
       "        text-align: right;\n",
       "    }\n",
       "</style>\n",
       "<table border=\"1\" class=\"dataframe\">\n",
       "  <thead>\n",
       "    <tr style=\"text-align: right;\">\n",
       "      <th></th>\n",
       "      <th>Year</th>\n",
       "      <th>Country</th>\n",
       "      <th>Winner</th>\n",
       "      <th>Runners-Up</th>\n",
       "      <th>Third</th>\n",
       "      <th>Fourth</th>\n",
       "      <th>GoalsScored</th>\n",
       "      <th>QualifiedTeams</th>\n",
       "      <th>MatchesPlayed</th>\n",
       "      <th>Attendance</th>\n",
       "    </tr>\n",
       "  </thead>\n",
       "  <tbody>\n",
       "    <tr>\n",
       "      <th>6</th>\n",
       "      <td>1962</td>\n",
       "      <td>Chile</td>\n",
       "      <td>Brazil</td>\n",
       "      <td>Czechoslovakia</td>\n",
       "      <td>Chile</td>\n",
       "      <td>Yugoslavia</td>\n",
       "      <td>89</td>\n",
       "      <td>16</td>\n",
       "      <td>32</td>\n",
       "      <td>893.172</td>\n",
       "    </tr>\n",
       "  </tbody>\n",
       "</table>\n",
       "</div>"
      ],
      "text/plain": [
       "   Year Country  Winner      Runners-Up  Third      Fourth  GoalsScored  \\\n",
       "6  1962   Chile  Brazil  Czechoslovakia  Chile  Yugoslavia           89   \n",
       "\n",
       "   QualifiedTeams  MatchesPlayed Attendance  \n",
       "6              16             32    893.172  "
      ]
     },
     "execution_count": 57,
     "metadata": {},
     "output_type": "execute_result"
    }
   ],
   "source": [
    "worldcups.sort_values(by='Attendance', ascending=False).head(1)"
   ]
  },
  {
   "cell_type": "markdown",
   "metadata": {},
   "source": [
    "* 2 _ np.max"
   ]
  },
  {
   "cell_type": "code",
   "execution_count": 14,
   "metadata": {
    "ExecuteTime": {
     "end_time": "2021-09-24T06:00:16.261138Z",
     "start_time": "2021-09-24T06:00:16.224194Z"
    }
   },
   "outputs": [
    {
     "data": {
      "text/html": [
       "<div>\n",
       "<style scoped>\n",
       "    .dataframe tbody tr th:only-of-type {\n",
       "        vertical-align: middle;\n",
       "    }\n",
       "\n",
       "    .dataframe tbody tr th {\n",
       "        vertical-align: top;\n",
       "    }\n",
       "\n",
       "    .dataframe thead th {\n",
       "        text-align: right;\n",
       "    }\n",
       "</style>\n",
       "<table border=\"1\" class=\"dataframe\">\n",
       "  <thead>\n",
       "    <tr style=\"text-align: right;\">\n",
       "      <th></th>\n",
       "      <th>Year</th>\n",
       "      <th>Country</th>\n",
       "      <th>Winner</th>\n",
       "      <th>Runners-Up</th>\n",
       "      <th>Third</th>\n",
       "      <th>Fourth</th>\n",
       "      <th>GoalsScored</th>\n",
       "      <th>QualifiedTeams</th>\n",
       "      <th>MatchesPlayed</th>\n",
       "      <th>Attendance</th>\n",
       "    </tr>\n",
       "  </thead>\n",
       "  <tbody>\n",
       "    <tr>\n",
       "      <th>6</th>\n",
       "      <td>1962</td>\n",
       "      <td>Chile</td>\n",
       "      <td>Brazil</td>\n",
       "      <td>Czechoslovakia</td>\n",
       "      <td>Chile</td>\n",
       "      <td>Yugoslavia</td>\n",
       "      <td>89</td>\n",
       "      <td>16</td>\n",
       "      <td>32</td>\n",
       "      <td>893.172</td>\n",
       "    </tr>\n",
       "  </tbody>\n",
       "</table>\n",
       "</div>"
      ],
      "text/plain": [
       "   Year Country  Winner      Runners-Up  Third      Fourth  GoalsScored  \\\n",
       "6  1962   Chile  Brazil  Czechoslovakia  Chile  Yugoslavia           89   \n",
       "\n",
       "   QualifiedTeams  MatchesPlayed Attendance  \n",
       "6              16             32    893.172  "
      ]
     },
     "execution_count": 14,
     "metadata": {},
     "output_type": "execute_result"
    }
   ],
   "source": [
    "worldcups[worldcups.Attendance == np.max(worldcups.Attendance)]"
   ]
  },
  {
   "cell_type": "code",
   "execution_count": 15,
   "metadata": {
    "ExecuteTime": {
     "end_time": "2021-09-24T06:00:25.084872Z",
     "start_time": "2021-09-24T06:00:25.056673Z"
    },
    "id": "UhEPTr4KOxiE"
   },
   "outputs": [
    {
     "data": {
      "text/plain": [
       "0      590549\n",
       "1      363000\n",
       "2      375700\n",
       "3     1045246\n",
       "4      768607\n",
       "5      819810\n",
       "6      893172\n",
       "7     1563135\n",
       "8     1603975\n",
       "9     1865753\n",
       "10    1545791\n",
       "11    2109723\n",
       "12    2394031\n",
       "13    2516215\n",
       "14    3587538\n",
       "15    2785100\n",
       "16    2705197\n",
       "17    3359439\n",
       "18    3178856\n",
       "19    3386810\n",
       "Name: Attendance, dtype: int32"
      ]
     },
     "execution_count": 15,
     "metadata": {},
     "output_type": "execute_result"
    }
   ],
   "source": [
    "worldcups['Attendance'].str.replace('.','').astype(int)"
   ]
  },
  {
   "cell_type": "code",
   "execution_count": 16,
   "metadata": {
    "ExecuteTime": {
     "end_time": "2021-09-24T06:01:04.579682Z",
     "start_time": "2021-09-24T06:01:04.568685Z"
    },
    "colab": {
     "base_uri": "https://localhost:8080/",
     "height": 80
    },
    "executionInfo": {
     "elapsed": 333,
     "status": "ok",
     "timestamp": 1631672195723,
     "user": {
      "displayName": "김동현",
      "photoUrl": "https://lh3.googleusercontent.com/a/default-user=s64",
      "userId": "05798820432415047858"
     },
     "user_tz": -540
    },
    "id": "K5ZJU2HB6CqC",
    "outputId": "70ebf358-8e35-4c41-d904-2f79b00cefff"
   },
   "outputs": [],
   "source": [
    "worldcups.Attendance = worldcups.Attendance.str.replace('.','').astype(int)"
   ]
  },
  {
   "cell_type": "code",
   "execution_count": 17,
   "metadata": {
    "ExecuteTime": {
     "end_time": "2021-09-24T06:01:09.440556Z",
     "start_time": "2021-09-24T06:01:09.406189Z"
    },
    "colab": {
     "base_uri": "https://localhost:8080/",
     "height": 80
    },
    "executionInfo": {
     "elapsed": 252,
     "status": "ok",
     "timestamp": 1631672210361,
     "user": {
      "displayName": "김동현",
      "photoUrl": "https://lh3.googleusercontent.com/a/default-user=s64",
      "userId": "05798820432415047858"
     },
     "user_tz": -540
    },
    "id": "8dMiVEi1Pgyj",
    "outputId": "5d55fae4-a5b8-4b37-ee82-b678355afc4c"
   },
   "outputs": [
    {
     "data": {
      "text/html": [
       "<div>\n",
       "<style scoped>\n",
       "    .dataframe tbody tr th:only-of-type {\n",
       "        vertical-align: middle;\n",
       "    }\n",
       "\n",
       "    .dataframe tbody tr th {\n",
       "        vertical-align: top;\n",
       "    }\n",
       "\n",
       "    .dataframe thead th {\n",
       "        text-align: right;\n",
       "    }\n",
       "</style>\n",
       "<table border=\"1\" class=\"dataframe\">\n",
       "  <thead>\n",
       "    <tr style=\"text-align: right;\">\n",
       "      <th></th>\n",
       "      <th>Year</th>\n",
       "      <th>Country</th>\n",
       "      <th>Winner</th>\n",
       "      <th>Runners-Up</th>\n",
       "      <th>Third</th>\n",
       "      <th>Fourth</th>\n",
       "      <th>GoalsScored</th>\n",
       "      <th>QualifiedTeams</th>\n",
       "      <th>MatchesPlayed</th>\n",
       "      <th>Attendance</th>\n",
       "    </tr>\n",
       "  </thead>\n",
       "  <tbody>\n",
       "    <tr>\n",
       "      <th>14</th>\n",
       "      <td>1994</td>\n",
       "      <td>USA</td>\n",
       "      <td>Brazil</td>\n",
       "      <td>Italy</td>\n",
       "      <td>Sweden</td>\n",
       "      <td>Bulgaria</td>\n",
       "      <td>141</td>\n",
       "      <td>24</td>\n",
       "      <td>52</td>\n",
       "      <td>3587538</td>\n",
       "    </tr>\n",
       "  </tbody>\n",
       "</table>\n",
       "</div>"
      ],
      "text/plain": [
       "    Year Country  Winner Runners-Up   Third    Fourth  GoalsScored  \\\n",
       "14  1994     USA  Brazil      Italy  Sweden  Bulgaria          141   \n",
       "\n",
       "    QualifiedTeams  MatchesPlayed  Attendance  \n",
       "14              24             52     3587538  "
      ]
     },
     "execution_count": 17,
     "metadata": {},
     "output_type": "execute_result"
    }
   ],
   "source": [
    "worldcups[worldcups.Attendance == np.max(worldcups.Attendance)]"
   ]
  },
  {
   "cell_type": "markdown",
   "metadata": {
    "id": "9JMQZeId4VpN"
   },
   "source": [
    "match 데이터에서 Home Team Goals가 Away Team Goals 보다 큰 나라의 경기 수를 세어, 상위 20개만 출력하고, 아래와 같은 그래프를 그리세요."
   ]
  },
  {
   "cell_type": "code",
   "execution_count": 84,
   "metadata": {
    "ExecuteTime": {
     "end_time": "2021-09-24T05:48:49.923468Z",
     "start_time": "2021-09-24T05:48:49.878541Z"
    }
   },
   "outputs": [
    {
     "data": {
      "text/html": [
       "<div>\n",
       "<style scoped>\n",
       "    .dataframe tbody tr th:only-of-type {\n",
       "        vertical-align: middle;\n",
       "    }\n",
       "\n",
       "    .dataframe tbody tr th {\n",
       "        vertical-align: top;\n",
       "    }\n",
       "\n",
       "    .dataframe thead th {\n",
       "        text-align: right;\n",
       "    }\n",
       "</style>\n",
       "<table border=\"1\" class=\"dataframe\">\n",
       "  <thead>\n",
       "    <tr style=\"text-align: right;\">\n",
       "      <th></th>\n",
       "      <th>Year</th>\n",
       "      <th>Datetime</th>\n",
       "      <th>Stage</th>\n",
       "      <th>Stadium</th>\n",
       "      <th>City</th>\n",
       "      <th>Home Team Name</th>\n",
       "      <th>Home Team Goals</th>\n",
       "      <th>Away Team Goals</th>\n",
       "      <th>Away Team Name</th>\n",
       "      <th>Win conditions</th>\n",
       "      <th>Attendance</th>\n",
       "      <th>Half-time Home Goals</th>\n",
       "      <th>Half-time Away Goals</th>\n",
       "      <th>Referee</th>\n",
       "      <th>Assistant 1</th>\n",
       "      <th>Assistant 2</th>\n",
       "      <th>RoundID</th>\n",
       "      <th>MatchID</th>\n",
       "      <th>Home Team Initials</th>\n",
       "      <th>Away Team Initials</th>\n",
       "    </tr>\n",
       "  </thead>\n",
       "  <tbody>\n",
       "    <tr>\n",
       "      <th>0</th>\n",
       "      <td>1930.0</td>\n",
       "      <td>13 Jul 1930 - 15:00</td>\n",
       "      <td>Group 1</td>\n",
       "      <td>Pocitos</td>\n",
       "      <td>Montevideo</td>\n",
       "      <td>France</td>\n",
       "      <td>4.0</td>\n",
       "      <td>1.0</td>\n",
       "      <td>Mexico</td>\n",
       "      <td></td>\n",
       "      <td>4444.0</td>\n",
       "      <td>3.0</td>\n",
       "      <td>0.0</td>\n",
       "      <td>LOMBARDI Domingo (URU)</td>\n",
       "      <td>CRISTOPHE Henry (BEL)</td>\n",
       "      <td>REGO Gilberto (BRA)</td>\n",
       "      <td>201.0</td>\n",
       "      <td>1096.0</td>\n",
       "      <td>FRA</td>\n",
       "      <td>MEX</td>\n",
       "    </tr>\n",
       "  </tbody>\n",
       "</table>\n",
       "</div>"
      ],
      "text/plain": [
       "     Year              Datetime    Stage  Stadium         City Home Team Name  \\\n",
       "0  1930.0  13 Jul 1930 - 15:00   Group 1  Pocitos  Montevideo          France   \n",
       "\n",
       "   Home Team Goals  Away Team Goals Away Team Name Win conditions  Attendance  \\\n",
       "0              4.0              1.0         Mexico                     4444.0   \n",
       "\n",
       "   Half-time Home Goals  Half-time Away Goals                 Referee  \\\n",
       "0                   3.0                   0.0  LOMBARDI Domingo (URU)   \n",
       "\n",
       "             Assistant 1          Assistant 2  RoundID  MatchID  \\\n",
       "0  CRISTOPHE Henry (BEL)  REGO Gilberto (BRA)    201.0   1096.0   \n",
       "\n",
       "  Home Team Initials Away Team Initials  \n",
       "0                FRA                MEX  "
      ]
     },
     "execution_count": 84,
     "metadata": {},
     "output_type": "execute_result"
    }
   ],
   "source": [
    "match.head(1)"
   ]
  },
  {
   "cell_type": "markdown",
   "metadata": {},
   "source": [
    "pdf1 = pd.pivot_table(match[(match['Home Team Name'].isin(home)) & (match['Away Team Name'].isin(away))], index='Away Team Name', columns='Home Team Name', values='Attendance', aggfunc=np.mean, fill_value=0)\n",
    "pdf1 = pdf1.sort_values(by='England', ascending=False)\n",
    "pdf1"
   ]
  },
  {
   "cell_type": "code",
   "execution_count": 18,
   "metadata": {
    "ExecuteTime": {
     "end_time": "2021-09-24T06:01:20.031801Z",
     "start_time": "2021-09-24T06:01:19.996739Z"
    }
   },
   "outputs": [
    {
     "data": {
      "text/plain": [
       "Brazil            59\n",
       "Germany           51\n",
       "Argentina         41\n",
       "Italy             38\n",
       "England           22\n",
       "France            19\n",
       "Netherlands       18\n",
       "Uruguay           16\n",
       "Spain             16\n",
       "Hungary           15\n",
       "Sweden            15\n",
       "Soviet Union      13\n",
       "Yugoslavia        13\n",
       "Portugal          12\n",
       "Poland            11\n",
       "Belgium           11\n",
       "Austria           10\n",
       "Czechoslovakia     9\n",
       "Chile              9\n",
       "Mexico             8\n",
       "Name: Home Team Name, dtype: int64"
      ]
     },
     "execution_count": 18,
     "metadata": {},
     "output_type": "execute_result"
    }
   ],
   "source": [
    "f = match[match['Home Team Goals'] > match['Away Team Goals']]['Home Team Name'].value_counts()[:20]\n",
    "fa"
   ]
  },
  {
   "cell_type": "code",
   "execution_count": 19,
   "metadata": {
    "ExecuteTime": {
     "end_time": "2021-09-24T06:01:32.513949Z",
     "start_time": "2021-09-24T06:01:31.607624Z"
    }
   },
   "outputs": [
    {
     "data": {
      "image/png": "[encoded data removed]",
      "text/plain": [
       "<Figure size 1080x360 with 1 Axes>"
      ]
     },
     "metadata": {
      "needs_background": "light"
     },
     "output_type": "display_data"
    }
   ],
   "source": [
    "plt.figure(figsize=(15,5))\n",
    "f.plot.bar()\n",
    "plt.show()"
   ]
  },
  {
   "cell_type": "markdown",
   "metadata": {
    "id": "na-viYEjWVD7"
   },
   "source": [
    "#### Home/Away Team 경기를 가장 많이 한 상위 10개의 국가를 home/away에 리스트로 저장"
   ]
  },
  {
   "cell_type": "code",
   "execution_count": 92,
   "metadata": {
    "ExecuteTime": {
     "end_time": "2021-09-24T05:55:05.915598Z",
     "start_time": "2021-09-24T05:55:05.848996Z"
    }
   },
   "outputs": [
    {
     "data": {
      "text/html": [
       "<div>\n",
       "<style scoped>\n",
       "    .dataframe tbody tr th:only-of-type {\n",
       "        vertical-align: middle;\n",
       "    }\n",
       "\n",
       "    .dataframe tbody tr th {\n",
       "        vertical-align: top;\n",
       "    }\n",
       "\n",
       "    .dataframe thead th {\n",
       "        text-align: right;\n",
       "    }\n",
       "</style>\n",
       "<table border=\"1\" class=\"dataframe\">\n",
       "  <thead>\n",
       "    <tr style=\"text-align: right;\">\n",
       "      <th></th>\n",
       "      <th>Year</th>\n",
       "      <th>Datetime</th>\n",
       "      <th>Stage</th>\n",
       "      <th>Stadium</th>\n",
       "      <th>City</th>\n",
       "      <th>Home Team Name</th>\n",
       "      <th>Home Team Goals</th>\n",
       "      <th>Away Team Goals</th>\n",
       "      <th>Away Team Name</th>\n",
       "      <th>Win conditions</th>\n",
       "      <th>Attendance</th>\n",
       "      <th>Half-time Home Goals</th>\n",
       "      <th>Half-time Away Goals</th>\n",
       "      <th>Referee</th>\n",
       "      <th>Assistant 1</th>\n",
       "      <th>Assistant 2</th>\n",
       "      <th>RoundID</th>\n",
       "      <th>MatchID</th>\n",
       "      <th>Home Team Initials</th>\n",
       "      <th>Away Team Initials</th>\n",
       "    </tr>\n",
       "  </thead>\n",
       "  <tbody>\n",
       "    <tr>\n",
       "      <th>0</th>\n",
       "      <td>1930.0</td>\n",
       "      <td>13 Jul 1930 - 15:00</td>\n",
       "      <td>Group 1</td>\n",
       "      <td>Pocitos</td>\n",
       "      <td>Montevideo</td>\n",
       "      <td>France</td>\n",
       "      <td>4.0</td>\n",
       "      <td>1.0</td>\n",
       "      <td>Mexico</td>\n",
       "      <td></td>\n",
       "      <td>4444.0</td>\n",
       "      <td>3.0</td>\n",
       "      <td>0.0</td>\n",
       "      <td>LOMBARDI Domingo (URU)</td>\n",
       "      <td>CRISTOPHE Henry (BEL)</td>\n",
       "      <td>REGO Gilberto (BRA)</td>\n",
       "      <td>201.0</td>\n",
       "      <td>1096.0</td>\n",
       "      <td>FRA</td>\n",
       "      <td>MEX</td>\n",
       "    </tr>\n",
       "  </tbody>\n",
       "</table>\n",
       "</div>"
      ],
      "text/plain": [
       "     Year              Datetime    Stage  Stadium         City Home Team Name  \\\n",
       "0  1930.0  13 Jul 1930 - 15:00   Group 1  Pocitos  Montevideo          France   \n",
       "\n",
       "   Home Team Goals  Away Team Goals Away Team Name Win conditions  Attendance  \\\n",
       "0              4.0              1.0         Mexico                     4444.0   \n",
       "\n",
       "   Half-time Home Goals  Half-time Away Goals                 Referee  \\\n",
       "0                   3.0                   0.0  LOMBARDI Domingo (URU)   \n",
       "\n",
       "             Assistant 1          Assistant 2  RoundID  MatchID  \\\n",
       "0  CRISTOPHE Henry (BEL)  REGO Gilberto (BRA)    201.0   1096.0   \n",
       "\n",
       "  Home Team Initials Away Team Initials  \n",
       "0                FRA                MEX  "
      ]
     },
     "execution_count": 92,
     "metadata": {},
     "output_type": "execute_result"
    }
   ],
   "source": [
    "match.head(1)"
   ]
  },
  {
   "cell_type": "code",
   "execution_count": 20,
   "metadata": {
    "ExecuteTime": {
     "end_time": "2021-09-24T06:01:48.706224Z",
     "start_time": "2021-09-24T06:01:48.687769Z"
    },
    "colab": {
     "base_uri": "https://localhost:8080/"
    },
    "executionInfo": {
     "elapsed": 306,
     "status": "ok",
     "timestamp": 1631674033708,
     "user": {
      "displayName": "김동현",
      "photoUrl": "https://lh3.googleusercontent.com/a/default-user=s64",
      "userId": "05798820432415047858"
     },
     "user_tz": -540
    },
    "id": "npvhkUPdUBs0",
    "outputId": "4c5f6c0b-d1cd-4824-ee65-f578a3c66db3"
   },
   "outputs": [
    {
     "data": {
      "text/plain": [
       "['Brazil',\n",
       " 'Germany',\n",
       " 'Italy',\n",
       " 'Argentina',\n",
       " 'England',\n",
       " 'Netherlands',\n",
       " 'France',\n",
       " 'Spain',\n",
       " 'Uruguay',\n",
       " 'Sweden']"
      ]
     },
     "execution_count": 20,
     "metadata": {},
     "output_type": "execute_result"
    }
   ],
   "source": [
    "home = list(match['Home Team Name'].value_counts()[:10].index)\n",
    "home"
   ]
  },
  {
   "cell_type": "code",
   "execution_count": 21,
   "metadata": {
    "ExecuteTime": {
     "end_time": "2021-09-24T06:02:01.570905Z",
     "start_time": "2021-09-24T06:02:01.553980Z"
    },
    "colab": {
     "base_uri": "https://localhost:8080/"
    },
    "executionInfo": {
     "elapsed": 330,
     "status": "ok",
     "timestamp": 1631674048739,
     "user": {
      "displayName": "김동현",
      "photoUrl": "https://lh3.googleusercontent.com/a/default-user=s64",
      "userId": "05798820432415047858"
     },
     "user_tz": -540
    },
    "id": "qp6AS5REV71T",
    "outputId": "fed7fded-f6e9-4db5-dd9b-f6486b914cbb"
   },
   "outputs": [
    {
     "data": {
      "text/plain": [
       "['Mexico',\n",
       " 'Germany',\n",
       " 'France',\n",
       " 'Spain',\n",
       " 'Argentina',\n",
       " 'England',\n",
       " 'Brazil',\n",
       " 'Italy',\n",
       " 'Belgium',\n",
       " 'Uruguay']"
      ]
     },
     "execution_count": 21,
     "metadata": {},
     "output_type": "execute_result"
    }
   ],
   "source": [
    "away = list(match['Away Team Name'].value_counts()[:10].index)\n",
    "away"
   ]
  },
  {
   "cell_type": "code",
   "execution_count": 24,
   "metadata": {
    "ExecuteTime": {
     "end_time": "2021-09-24T18:03:17.094694Z",
     "start_time": "2021-09-24T18:03:17.056685Z"
    }
   },
   "outputs": [
    {
     "data": {
      "text/html": [
       "<div>\n",
       "<style scoped>\n",
       "    .dataframe tbody tr th:only-of-type {\n",
       "        vertical-align: middle;\n",
       "    }\n",
       "\n",
       "    .dataframe tbody tr th {\n",
       "        vertical-align: top;\n",
       "    }\n",
       "\n",
       "    .dataframe thead th {\n",
       "        text-align: right;\n",
       "    }\n",
       "</style>\n",
       "<table border=\"1\" class=\"dataframe\">\n",
       "  <thead>\n",
       "    <tr style=\"text-align: right;\">\n",
       "      <th></th>\n",
       "      <th>Year</th>\n",
       "      <th>Datetime</th>\n",
       "      <th>Stage</th>\n",
       "      <th>Stadium</th>\n",
       "      <th>City</th>\n",
       "      <th>Home Team Name</th>\n",
       "      <th>Home Team Goals</th>\n",
       "      <th>Away Team Goals</th>\n",
       "      <th>Away Team Name</th>\n",
       "      <th>Win conditions</th>\n",
       "      <th>Attendance</th>\n",
       "      <th>Half-time Home Goals</th>\n",
       "      <th>Half-time Away Goals</th>\n",
       "      <th>Referee</th>\n",
       "      <th>Assistant 1</th>\n",
       "      <th>Assistant 2</th>\n",
       "      <th>RoundID</th>\n",
       "      <th>MatchID</th>\n",
       "      <th>Home Team Initials</th>\n",
       "      <th>Away Team Initials</th>\n",
       "    </tr>\n",
       "  </thead>\n",
       "  <tbody>\n",
       "    <tr>\n",
       "      <th>0</th>\n",
       "      <td>1930.0</td>\n",
       "      <td>13 Jul 1930 - 15:00</td>\n",
       "      <td>Group 1</td>\n",
       "      <td>Pocitos</td>\n",
       "      <td>Montevideo</td>\n",
       "      <td>France</td>\n",
       "      <td>4.0</td>\n",
       "      <td>1.0</td>\n",
       "      <td>Mexico</td>\n",
       "      <td></td>\n",
       "      <td>4444.0</td>\n",
       "      <td>3.0</td>\n",
       "      <td>0.0</td>\n",
       "      <td>LOMBARDI Domingo (URU)</td>\n",
       "      <td>CRISTOPHE Henry (BEL)</td>\n",
       "      <td>REGO Gilberto (BRA)</td>\n",
       "      <td>201.0</td>\n",
       "      <td>1096.0</td>\n",
       "      <td>FRA</td>\n",
       "      <td>MEX</td>\n",
       "    </tr>\n",
       "  </tbody>\n",
       "</table>\n",
       "</div>"
      ],
      "text/plain": [
       "     Year              Datetime    Stage  Stadium         City Home Team Name  \\\n",
       "0  1930.0  13 Jul 1930 - 15:00   Group 1  Pocitos  Montevideo          France   \n",
       "\n",
       "   Home Team Goals  Away Team Goals Away Team Name Win conditions  Attendance  \\\n",
       "0              4.0              1.0         Mexico                     4444.0   \n",
       "\n",
       "   Half-time Home Goals  Half-time Away Goals                 Referee  \\\n",
       "0                   3.0                   0.0  LOMBARDI Domingo (URU)   \n",
       "\n",
       "             Assistant 1          Assistant 2  RoundID  MatchID  \\\n",
       "0  CRISTOPHE Henry (BEL)  REGO Gilberto (BRA)    201.0   1096.0   \n",
       "\n",
       "  Home Team Initials Away Team Initials  \n",
       "0                FRA                MEX  "
      ]
     },
     "execution_count": 24,
     "metadata": {},
     "output_type": "execute_result"
    }
   ],
   "source": [
    "match.head(1)"
   ]
  },
  {
   "cell_type": "markdown",
   "metadata": {
    "id": "8AYO966SWjY5"
   },
   "source": [
    "#### 상위 10개 Home/Away Team에 대해 관중(Attendance)의 평균을 피벗테이블로 만들고, England를 기준으로 내림차순 정렬"
   ]
  },
  {
   "cell_type": "code",
   "execution_count": 56,
   "metadata": {
    "ExecuteTime": {
     "end_time": "2021-09-25T02:14:56.932937Z",
     "start_time": "2021-09-25T02:14:56.898934Z"
    }
   },
   "outputs": [
    {
     "data": {
      "text/html": [
       "<div>\n",
       "<style scoped>\n",
       "    .dataframe tbody tr th:only-of-type {\n",
       "        vertical-align: middle;\n",
       "    }\n",
       "\n",
       "    .dataframe tbody tr th {\n",
       "        vertical-align: top;\n",
       "    }\n",
       "\n",
       "    .dataframe thead th {\n",
       "        text-align: right;\n",
       "    }\n",
       "</style>\n",
       "<table border=\"1\" class=\"dataframe\">\n",
       "  <thead>\n",
       "    <tr style=\"text-align: right;\">\n",
       "      <th>Home Team Name</th>\n",
       "      <th>Argentina</th>\n",
       "      <th>Brazil</th>\n",
       "      <th>England</th>\n",
       "      <th>France</th>\n",
       "      <th>Germany</th>\n",
       "      <th>Italy</th>\n",
       "      <th>Netherlands</th>\n",
       "      <th>Spain</th>\n",
       "      <th>Sweden</th>\n",
       "      <th>Uruguay</th>\n",
       "    </tr>\n",
       "    <tr>\n",
       "      <th>Away Team Name</th>\n",
       "      <th></th>\n",
       "      <th></th>\n",
       "      <th></th>\n",
       "      <th></th>\n",
       "      <th></th>\n",
       "      <th></th>\n",
       "      <th></th>\n",
       "      <th></th>\n",
       "      <th></th>\n",
       "      <th></th>\n",
       "    </tr>\n",
       "  </thead>\n",
       "  <tbody>\n",
       "    <tr>\n",
       "      <th>Germany</th>\n",
       "      <td>69952.000000</td>\n",
       "      <td>58141.000000</td>\n",
       "      <td>96924</td>\n",
       "      <td>56490.75</td>\n",
       "      <td>0.000000</td>\n",
       "      <td>96222.0</td>\n",
       "      <td>78200.000000</td>\n",
       "      <td>0</td>\n",
       "      <td>49471.0</td>\n",
       "      <td>33377.0</td>\n",
       "    </tr>\n",
       "    <tr>\n",
       "      <th>Mexico</th>\n",
       "      <td>56492.333333</td>\n",
       "      <td>41486.250000</td>\n",
       "      <td>92570</td>\n",
       "      <td>32012.75</td>\n",
       "      <td>35586.000000</td>\n",
       "      <td>39693.0</td>\n",
       "      <td>49411.333333</td>\n",
       "      <td>11875</td>\n",
       "      <td>34107.0</td>\n",
       "      <td>61112.0</td>\n",
       "    </tr>\n",
       "    <tr>\n",
       "      <th>Uruguay</th>\n",
       "      <td>26000.000000</td>\n",
       "      <td>51261.000000</td>\n",
       "      <td>87148</td>\n",
       "      <td>38289.00</td>\n",
       "      <td>72205.000000</td>\n",
       "      <td>56504.5</td>\n",
       "      <td>0.000000</td>\n",
       "      <td>0</td>\n",
       "      <td>23231.5</td>\n",
       "      <td>0.0</td>\n",
       "    </tr>\n",
       "    <tr>\n",
       "      <th>France</th>\n",
       "      <td>47537.500000</td>\n",
       "      <td>55025.000000</td>\n",
       "      <td>71221</td>\n",
       "      <td>0.00</td>\n",
       "      <td>70000.000000</td>\n",
       "      <td>63365.6</td>\n",
       "      <td>0.000000</td>\n",
       "      <td>43000</td>\n",
       "      <td>0.0</td>\n",
       "      <td>54881.0</td>\n",
       "    </tr>\n",
       "    <tr>\n",
       "      <th>Argentina</th>\n",
       "      <td>0.000000</td>\n",
       "      <td>61381.000000</td>\n",
       "      <td>50189</td>\n",
       "      <td>0.00</td>\n",
       "      <td>68333.200000</td>\n",
       "      <td>51672.5</td>\n",
       "      <td>57216.400000</td>\n",
       "      <td>0</td>\n",
       "      <td>29888.5</td>\n",
       "      <td>68346.0</td>\n",
       "    </tr>\n",
       "    <tr>\n",
       "      <th>Brazil</th>\n",
       "      <td>40242.000000</td>\n",
       "      <td>0.000000</td>\n",
       "      <td>47436</td>\n",
       "      <td>0.00</td>\n",
       "      <td>69029.000000</td>\n",
       "      <td>38500.0</td>\n",
       "      <td>52462.000000</td>\n",
       "      <td>28374</td>\n",
       "      <td>62212.5</td>\n",
       "      <td>173850.0</td>\n",
       "    </tr>\n",
       "    <tr>\n",
       "      <th>Italy</th>\n",
       "      <td>70100.000000</td>\n",
       "      <td>90421.666667</td>\n",
       "      <td>39800</td>\n",
       "      <td>0.00</td>\n",
       "      <td>65995.666667</td>\n",
       "      <td>0.0</td>\n",
       "      <td>67433.000000</td>\n",
       "      <td>0</td>\n",
       "      <td>36502.0</td>\n",
       "      <td>29968.0</td>\n",
       "    </tr>\n",
       "    <tr>\n",
       "      <th>Belgium</th>\n",
       "      <td>86650.500000</td>\n",
       "      <td>40440.000000</td>\n",
       "      <td>24260</td>\n",
       "      <td>25727.00</td>\n",
       "      <td>34123.000000</td>\n",
       "      <td>24000.0</td>\n",
       "      <td>77000.000000</td>\n",
       "      <td>45000</td>\n",
       "      <td>0.0</td>\n",
       "      <td>0.0</td>\n",
       "    </tr>\n",
       "    <tr>\n",
       "      <th>England</th>\n",
       "      <td>60369.000000</td>\n",
       "      <td>41824.666667</td>\n",
       "      <td>0</td>\n",
       "      <td>0.00</td>\n",
       "      <td>50373.750000</td>\n",
       "      <td>51426.0</td>\n",
       "      <td>0.000000</td>\n",
       "      <td>74731</td>\n",
       "      <td>45000.0</td>\n",
       "      <td>45287.5</td>\n",
       "    </tr>\n",
       "    <tr>\n",
       "      <th>Spain</th>\n",
       "      <td>42738.000000</td>\n",
       "      <td>68752.666667</td>\n",
       "      <td>0</td>\n",
       "      <td>0.00</td>\n",
       "      <td>64087.250000</td>\n",
       "      <td>43800.0</td>\n",
       "      <td>84490.000000</td>\n",
       "      <td>0</td>\n",
       "      <td>11227.0</td>\n",
       "      <td>40257.5</td>\n",
       "    </tr>\n",
       "  </tbody>\n",
       "</table>\n",
       "</div>"
      ],
      "text/plain": [
       "Home Team Name     Argentina        Brazil  England    France       Germany  \\\n",
       "Away Team Name                                                                \n",
       "Germany         69952.000000  58141.000000    96924  56490.75      0.000000   \n",
       "Mexico          56492.333333  41486.250000    92570  32012.75  35586.000000   \n",
       "Uruguay         26000.000000  51261.000000    87148  38289.00  72205.000000   \n",
       "France          47537.500000  55025.000000    71221      0.00  70000.000000   \n",
       "Argentina           0.000000  61381.000000    50189      0.00  68333.200000   \n",
       "Brazil          40242.000000      0.000000    47436      0.00  69029.000000   \n",
       "Italy           70100.000000  90421.666667    39800      0.00  65995.666667   \n",
       "Belgium         86650.500000  40440.000000    24260  25727.00  34123.000000   \n",
       "England         60369.000000  41824.666667        0      0.00  50373.750000   \n",
       "Spain           42738.000000  68752.666667        0      0.00  64087.250000   \n",
       "\n",
       "Home Team Name    Italy   Netherlands  Spain   Sweden   Uruguay  \n",
       "Away Team Name                                                   \n",
       "Germany         96222.0  78200.000000      0  49471.0   33377.0  \n",
       "Mexico          39693.0  49411.333333  11875  34107.0   61112.0  \n",
       "Uruguay         56504.5      0.000000      0  23231.5       0.0  \n",
       "France          63365.6      0.000000  43000      0.0   54881.0  \n",
       "Argentina       51672.5  57216.400000      0  29888.5   68346.0  \n",
       "Brazil          38500.0  52462.000000  28374  62212.5  173850.0  \n",
       "Italy               0.0  67433.000000      0  36502.0   29968.0  \n",
       "Belgium         24000.0  77000.000000  45000      0.0       0.0  \n",
       "England         51426.0      0.000000  74731  45000.0   45287.5  \n",
       "Spain           43800.0  84490.000000      0  11227.0   40257.5  "
      ]
     },
     "execution_count": 56,
     "metadata": {},
     "output_type": "execute_result"
    }
   ],
   "source": [
    "pdf1 = pd.pivot_table(match[(match['Home Team Name'].isin(home)) & (match['Away Team Name'].isin(away))], index='Away Team Name', columns='Home Team Name', values='Attendance', aggfunc=np.mean, fill_value=0)\n",
    "pdf1 = pdf1.sort_values(by='England', ascending=False)\n",
    "pdf1"
   ]
  },
  {
   "cell_type": "markdown",
   "metadata": {
    "id": "4-SgPTNzd1z0"
   },
   "source": [
    "피벗테이블을 활용한 누적막대그래프"
   ]
  },
  {
   "cell_type": "code",
   "execution_count": 73,
   "metadata": {
    "ExecuteTime": {
     "end_time": "2021-09-25T02:25:36.866885Z",
     "start_time": "2021-09-25T02:25:36.442905Z"
    },
    "colab": {
     "base_uri": "https://localhost:8080/",
     "height": 334
    },
    "executionInfo": {
     "elapsed": 882,
     "status": "ok",
     "timestamp": 1631674228666,
     "user": {
      "displayName": "김동현",
      "photoUrl": "https://lh3.googleusercontent.com/a/default-user=s64",
      "userId": "05798820432415047858"
     },
     "user_tz": -540
    },
    "id": "SfbZsADDYVS6",
    "outputId": "e9a69f60-82cd-4103-dfec-1b21735cfb14"
   },
   "outputs": [
    {
     "data": {
      "image/png": "[encoded data removed]",
      "text/plain": [
       "<Figure size 720x360 with 1 Axes>"
      ]
     },
     "metadata": {
      "needs_background": "light"
     },
     "output_type": "display_data"
    }
   ],
   "source": [
    "pdf1.T.plot(kind='bar', stacked=True, rot=0, figsize=(10,5))\n",
    "plt.legend(bbox_to_anchor=(1, 1))\n",
    "plt.show()"
   ]
  },
  {
   "cell_type": "markdown",
   "metadata": {
    "id": "P7VK0immXT2q"
   },
   "source": [
    "위에서 만든 피벗테이블을 활용하여 아래와 같은 그래프를 그리세요."
   ]
  },
  {
   "cell_type": "code",
   "execution_count": 58,
   "metadata": {
    "ExecuteTime": {
     "end_time": "2021-09-25T02:15:14.407844Z",
     "start_time": "2021-09-25T02:15:13.371320Z"
    },
    "colab": {
     "base_uri": "https://localhost:8080/",
     "height": 497
    },
    "executionInfo": {
     "elapsed": 861,
     "status": "ok",
     "timestamp": 1631674245078,
     "user": {
      "displayName": "김동현",
      "photoUrl": "https://lh3.googleusercontent.com/a/default-user=s64",
      "userId": "05798820432415047858"
     },
     "user_tz": -540
    },
    "id": "JzDyvhPm2e0I",
    "outputId": "1ef3ce52-ef12-4cef-8c91-1a95c7460cea"
   },
   "outputs": [
    {
     "data": {
      "image/png": "[encoded data removed]",
      "text/plain": [
       "<Figure size 1080x576 with 2 Axes>"
      ]
     },
     "metadata": {
      "needs_background": "light"
     },
     "output_type": "display_data"
    }
   ],
   "source": [
    "plt.figure(figsize=(15,8))\n",
    "sns.heatmap(pdf1.T,annot=True)\n",
    "plt.show()"
   ]
  },
  {
   "cell_type": "markdown",
   "metadata": {
    "id": "99D7p0C1Yocv"
   },
   "source": [
    "Home Team Goal과 Away Team Goal의 합이 관중수와 관련 있을까?"
   ]
  },
  {
   "cell_type": "code",
   "execution_count": 59,
   "metadata": {
    "ExecuteTime": {
     "end_time": "2021-09-25T02:16:48.973094Z",
     "start_time": "2021-09-25T02:16:48.953090Z"
    },
    "id": "KjY1E2_8X41A"
   },
   "outputs": [],
   "source": [
    "match['match_goals'] = match['Home Team Goals'] + match['Away Team Goals']"
   ]
  },
  {
   "cell_type": "code",
   "execution_count": 62,
   "metadata": {
    "ExecuteTime": {
     "end_time": "2021-09-25T02:18:31.111722Z",
     "start_time": "2021-09-25T02:18:31.087698Z"
    },
    "colab": {
     "base_uri": "https://localhost:8080/",
     "height": 173
    },
    "executionInfo": {
     "elapsed": 393,
     "status": "ok",
     "timestamp": 1631674541477,
     "user": {
      "displayName": "김동현",
      "photoUrl": "https://lh3.googleusercontent.com/a/default-user=s64",
      "userId": "05798820432415047858"
     },
     "user_tz": -540
    },
    "id": "sfJTVYOeYNbv",
    "outputId": "f709b0e5-3ada-463a-991c-c686d471306c"
   },
   "outputs": [
    {
     "data": {
      "text/html": [
       "<div>\n",
       "<style scoped>\n",
       "    .dataframe tbody tr th:only-of-type {\n",
       "        vertical-align: middle;\n",
       "    }\n",
       "\n",
       "    .dataframe tbody tr th {\n",
       "        vertical-align: top;\n",
       "    }\n",
       "\n",
       "    .dataframe thead th {\n",
       "        text-align: right;\n",
       "    }\n",
       "</style>\n",
       "<table border=\"1\" class=\"dataframe\">\n",
       "  <thead>\n",
       "    <tr style=\"text-align: right;\">\n",
       "      <th></th>\n",
       "      <th>Home Team Goals</th>\n",
       "      <th>Away Team Goals</th>\n",
       "      <th>match_goals</th>\n",
       "      <th>Attendance</th>\n",
       "    </tr>\n",
       "  </thead>\n",
       "  <tbody>\n",
       "    <tr>\n",
       "      <th>Home Team Goals</th>\n",
       "      <td>1.000000</td>\n",
       "      <td>0.012480</td>\n",
       "      <td>0.830879</td>\n",
       "      <td>-0.117751</td>\n",
       "    </tr>\n",
       "    <tr>\n",
       "      <th>Away Team Goals</th>\n",
       "      <td>0.012480</td>\n",
       "      <td>1.000000</td>\n",
       "      <td>0.566780</td>\n",
       "      <td>-0.029801</td>\n",
       "    </tr>\n",
       "    <tr>\n",
       "      <th>match_goals</th>\n",
       "      <td>0.830879</td>\n",
       "      <td>0.566780</td>\n",
       "      <td>1.000000</td>\n",
       "      <td>-0.113603</td>\n",
       "    </tr>\n",
       "    <tr>\n",
       "      <th>Attendance</th>\n",
       "      <td>-0.117751</td>\n",
       "      <td>-0.029801</td>\n",
       "      <td>-0.113603</td>\n",
       "      <td>1.000000</td>\n",
       "    </tr>\n",
       "  </tbody>\n",
       "</table>\n",
       "</div>"
      ],
      "text/plain": [
       "                 Home Team Goals  Away Team Goals  match_goals  Attendance\n",
       "Home Team Goals         1.000000         0.012480     0.830879   -0.117751\n",
       "Away Team Goals         0.012480         1.000000     0.566780   -0.029801\n",
       "match_goals             0.830879         0.566780     1.000000   -0.113603\n",
       "Attendance             -0.117751        -0.029801    -0.113603    1.000000"
      ]
     },
     "execution_count": 62,
     "metadata": {},
     "output_type": "execute_result"
    }
   ],
   "source": [
    "match_corr = match[['Home Team Goals','Away Team Goals','match_goals', 'Attendance']].corr()\n",
    "match_corr"
   ]
  },
  {
   "cell_type": "code",
   "execution_count": 63,
   "metadata": {
    "ExecuteTime": {
     "end_time": "2021-09-25T02:18:40.256879Z",
     "start_time": "2021-09-25T02:18:40.000534Z"
    },
    "colab": {
     "base_uri": "https://localhost:8080/",
     "height": 486
    },
    "executionInfo": {
     "elapsed": 925,
     "status": "ok",
     "timestamp": 1631674648724,
     "user": {
      "displayName": "김동현",
      "photoUrl": "https://lh3.googleusercontent.com/a/default-user=s64",
      "userId": "05798820432415047858"
     },
     "user_tz": -540
    },
    "id": "55qWv_moYmtK",
    "outputId": "9819c657-e80c-4ee3-a1ba-f83b0c127328"
   },
   "outputs": [
    {
     "data": {
      "image/png": "[encoded data removed]",
      "text/plain": [
       "<Figure size 576x576 with 2 Axes>"
      ]
     },
     "metadata": {
      "needs_background": "light"
     },
     "output_type": "display_data"
    }
   ],
   "source": [
    "plt.figure(figsize=(8,8))\n",
    "sns.heatmap(match_corr, annot=True)\n",
    "plt.show()"
   ]
  },
  {
   "cell_type": "markdown",
   "metadata": {
    "id": "vmzkiuy0f7YB"
   },
   "source": [
    "#### 2002 월드컵에서 Home Team이 이긴 수,<br> Away Team이 이긴수, DRAW 비긴 수를 구하고 원그래프"
   ]
  },
  {
   "cell_type": "markdown",
   "metadata": {
    "ExecuteTime": {
     "end_time": "2021-09-25T02:22:01.891937Z",
     "start_time": "2021-09-25T02:22:01.871935Z"
    }
   },
   "source": [
    "* label"
   ]
  },
  {
   "cell_type": "code",
   "execution_count": 64,
   "metadata": {
    "ExecuteTime": {
     "end_time": "2021-09-25T02:19:48.654252Z",
     "start_time": "2021-09-25T02:19:48.648278Z"
    },
    "id": "eonUgtDywHjW"
   },
   "outputs": [],
   "source": [
    "def get_labels(match):\n",
    "    if match['Home Team Goals'] > match['Away Team Goals']:\n",
    "        return 'Home Team Win'\n",
    "    if match['Home Team Goals'] < match['Away Team Goals']:\n",
    "        return 'Away Team Win'\n",
    "    return 'DRAW'"
   ]
  },
  {
   "cell_type": "code",
   "execution_count": 65,
   "metadata": {
    "ExecuteTime": {
     "end_time": "2021-09-25T02:20:05.813605Z",
     "start_time": "2021-09-25T02:20:05.775892Z"
    },
    "id": "hdYJ4x9pdO6A"
   },
   "outputs": [],
   "source": [
    "match['outcome'] = match.apply(lambda x: get_labels(x), axis=1)"
   ]
  },
  {
   "cell_type": "markdown",
   "metadata": {},
   "source": [
    "* in 2002"
   ]
  },
  {
   "cell_type": "code",
   "execution_count": 69,
   "metadata": {
    "ExecuteTime": {
     "end_time": "2021-09-25T02:22:50.815579Z",
     "start_time": "2021-09-25T02:22:50.791025Z"
    }
   },
   "outputs": [
    {
     "data": {
      "text/plain": [
       "Home Team Win    486\n",
       "DRAW             190\n",
       "Away Team Win    174\n",
       "Name: outcome, dtype: int64"
      ]
     },
     "execution_count": 69,
     "metadata": {},
     "output_type": "execute_result"
    }
   ],
   "source": [
    "match['outcome'].value_counts()"
   ]
  },
  {
   "cell_type": "code",
   "execution_count": 71,
   "metadata": {
    "ExecuteTime": {
     "end_time": "2021-09-25T02:24:34.437249Z",
     "start_time": "2021-09-25T02:24:34.417251Z"
    },
    "colab": {
     "base_uri": "https://localhost:8080/"
    },
    "executionInfo": {
     "elapsed": 246,
     "status": "ok",
     "timestamp": 1631675945425,
     "user": {
      "displayName": "김동현",
      "photoUrl": "https://lh3.googleusercontent.com/a/default-user=s64",
      "userId": "05798820432415047858"
     },
     "user_tz": -540
    },
    "id": "rNl9_EgmwHdR",
    "outputId": "964eaf65-7893-48a6-ca47-b605237503ac"
   },
   "outputs": [
    {
     "data": {
      "text/plain": [
       "Home Team Win    27\n",
       "Away Team Win    21\n",
       "DRAW             16\n",
       "Name: outcome, dtype: int64"
      ]
     },
     "execution_count": 71,
     "metadata": {},
     "output_type": "execute_result"
    }
   ],
   "source": [
    "mt = match[match['Year']==2002]['outcome'].value_counts()\n",
    "mt"
   ]
  },
  {
   "cell_type": "code",
   "execution_count": 72,
   "metadata": {
    "ExecuteTime": {
     "end_time": "2021-09-25T02:25:21.384892Z",
     "start_time": "2021-09-25T02:25:21.206827Z"
    },
    "colab": {
     "base_uri": "https://localhost:8080/",
     "height": 372
    },
    "executionInfo": {
     "elapsed": 359,
     "status": "ok",
     "timestamp": 1631676019952,
     "user": {
      "displayName": "김동현",
      "photoUrl": "https://lh3.googleusercontent.com/a/default-user=s64",
      "userId": "05798820432415047858"
     },
     "user_tz": -540
    },
    "id": "NdDnsiGhdLZb",
    "outputId": "b50fc57d-7811-4f19-8d04-f9320ea3a241"
   },
   "outputs": [
    {
     "data": {
      "image/png": "[encoded data removed]",
      "text/plain": [
       "<Figure size 432x432 with 1 Axes>"
      ]
     },
     "metadata": {},
     "output_type": "display_data"
    }
   ],
   "source": [
    "plt.figure(figsize = (6,6))\n",
    "mt.plot.pie(autopct='%1.0f%%', shadow=True)\n",
    "plt.title('Match Outcomes by Home and Away Teams')\n",
    "plt.show()"
   ]
  }
 ],
 "metadata": {
  "colab": {
   "authorship_tag": "ABX9TyPb2FrbEOWPBBdAIgUDXQCf",
   "collapsed_sections": [],
   "mount_file_id": "1lzLNXmUwawD7exNtfI9G0dx7tqtsXlHc",
   "name": "0915_실습자료.ipynb",
   "provenance": []
  },
  "hide_input": false,
  "kernelspec": {
   "display_name": "Python 3",
   "language": "python",
   "name": "python3"
  },
  "language_info": {
   "codemirror_mode": {
    "name": "ipython",
    "version": 3
   },
   "file_extension": ".py",
   "mimetype": "text/x-python",
   "name": "python",
   "nbconvert_exporter": "python",
   "pygments_lexer": "ipython3",
   "version": "3.8.8"
  },
  "toc": {
   "base_numbering": 1,
   "nav_menu": {},
   "number_sections": true,
   "sideBar": true,
   "skip_h1_title": false,
   "title_cell": "Table of Contents",
   "title_sidebar": "Contents",
   "toc_cell": false,
   "toc_position": {},
   "toc_section_display": true,
   "toc_window_display": false
  },
  "varInspector": {
   "cols": {
    "lenName": 16,
    "lenType": 16,
    "lenVar": 40
   },
   "kernels_config": {
    "python": {
     "delete_cmd_postfix": "",
     "delete_cmd_prefix": "del ",
     "library": "var_list.py",
     "varRefreshCmd": "print(var_dic_list())"
    },
    "r": {
     "delete_cmd_postfix": ") ",
     "delete_cmd_prefix": "rm(",
     "library": "var_list.r",
     "varRefreshCmd": "cat(var_dic_list()) "
    }
   },
   "types_to_exclude": [
    "module",
    "function",
    "builtin_function_or_method",
    "instance",
    "_Feature"
   ],
   "window_display": false
  }
 },
 "nbformat": 4,
 "nbformat_minor": 1
}
