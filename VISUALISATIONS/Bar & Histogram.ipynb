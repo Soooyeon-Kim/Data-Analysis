{
 "cells": [
  {
   "cell_type": "code",
   "execution_count": 2,
   "id": "f53b0fff",
   "metadata": {
    "ExecuteTime": {
     "end_time": "2021-09-05T06:24:02.506384Z",
     "start_time": "2021-09-05T06:24:02.487156Z"
    }
   },
   "outputs": [],
   "source": [
    "import numpy as np\n",
    "import pandas as pd\n",
    "import matplotlib.pyplot as plt\n",
    "%matplotlib inline"
   ]
  },
  {
   "cell_type": "code",
   "execution_count": null,
   "id": "c0d324e3",
   "metadata": {},
   "outputs": [],
   "source": [
    "# 한글 폰트설정\n",
    "'import matplotlib.pyplot as plt\n",
    "\n",
    "%matplotlib inline\n",
    "\n",
    " \n",
    "\n",
    "from matplotlib import font_manager, rc\n",
    "\n",
    "plt.rcParams['axes.unicode_minus'] = False\n",
    "\n",
    " \n",
    "\n",
    "# f_path = \"/Library/Fonts/AppleGothic.ttf\"\n",
    "\n",
    "f_path = \"c:/Windows/Fonts/malgun.ttf\"\n",
    "\n",
    "font_name = font_manager.FontProperties(fname=f_path).get_name()\n",
    "\n",
    "rc('font', family=font_name)"
   ]
  },
  {
   "cell_type": "code",
   "execution_count": 40,
   "id": "724d0c94",
   "metadata": {
    "ExecuteTime": {
     "end_time": "2021-09-05T06:55:10.950600Z",
     "start_time": "2021-09-05T06:55:10.934641Z"
    }
   },
   "outputs": [],
   "source": [
    "# 마이너스 깨짐 현상 해결\n",
    "import matplotlib.font_manager as fm\n",
    "from matplotlib import rc\n",
    "plt.rcParams['axes.unicode_minus'] = False\n",
    "#fname='./NanumBarunGothic.ttf'\n",
    "#font = fm.FontProperties(fname = fname).get_name()\n",
    "#plt.rcParams[\"font.family\"] = font"
   ]
  },
  {
   "cell_type": "code",
   "execution_count": 41,
   "id": "8e090512",
   "metadata": {
    "ExecuteTime": {
     "end_time": "2021-09-05T06:55:16.952302Z",
     "start_time": "2021-09-05T06:55:16.586178Z"
    }
   },
   "outputs": [
    {
     "data": {
      "text/plain": [
       "(array([ 1.,  1.,  0.,  0.,  0.,  2.,  1.,  1.,  1.,  3.,  1.,  5.,  9.,\n",
       "         5., 11., 10., 20., 22., 26., 22., 31., 40., 33., 43., 42., 50.,\n",
       "        54., 44., 50., 41., 56., 39., 39., 52., 45., 40., 28., 33., 22.,\n",
       "        19.,  8., 19.,  8.,  4.,  4.,  5.,  3.,  2.,  3.,  2.]),\n",
       " array([-3.85620668, -3.72261156, -3.58901644, -3.45542132, -3.32182619,\n",
       "        -3.18823107, -3.05463595, -2.92104083, -2.7874457 , -2.65385058,\n",
       "        -2.52025546, -2.38666034, -2.25306521, -2.11947009, -1.98587497,\n",
       "        -1.85227985, -1.71868472, -1.5850896 , -1.45149448, -1.31789936,\n",
       "        -1.18430424, -1.05070911, -0.91711399, -0.78351887, -0.64992375,\n",
       "        -0.51632862, -0.3827335 , -0.24913838, -0.11554326,  0.01805187,\n",
       "         0.15164699,  0.28524211,  0.41883723,  0.55243235,  0.68602748,\n",
       "         0.8196226 ,  0.95321772,  1.08681284,  1.22040797,  1.35400309,\n",
       "         1.48759821,  1.62119333,  1.75478846,  1.88838358,  2.0219787 ,\n",
       "         2.15557382,  2.28916895,  2.42276407,  2.55635919,  2.68995431,\n",
       "         2.82354943]),\n",
       " <BarContainer object of 50 artists>)"
      ]
     },
     "execution_count": 41,
     "metadata": {},
     "output_type": "execute_result"
    },
    {
     "data": {
      "image/png": "[encoded data removed]",
      "text/plain": [
       "<Figure size 576x288 with 2 Axes>"
      ]
     },
     "metadata": {
      "needs_background": "light"
     },
     "output_type": "display_data"
    }
   ],
   "source": [
    "plt.rc('font', family='Malgun Gothic')  #한글 폰트 사용\n",
    "\n",
    "x = np.array([\"축구\", \"야구\", \"농구\", \"배드민턴\", \"탁구\"])\n",
    "y = np.array([18, 7, 12, 10, 8])\n",
    "\n",
    "z = np.random.randn(1000)\n",
    "# 그래프를 2개 그리고, 가로로 배치 [1*2의 모양]\n",
    "fig, axes = plt.subplots(1, 2, figsize=(8, 4))\n",
    "\n",
    "# Bar 그래프\n",
    "axes[0].bar(x, y)\n",
    "# 히스토그램\n",
    "#z 데이터를 등급을 50개로 나눈 히스토그램으로 출력\n",
    "axes[1].hist(z, bins = 50)"
   ]
  }
 ],
 "metadata": {
  "hide_input": false,
  "kernelspec": {
   "display_name": "Python 3",
   "language": "python",
   "name": "python3"
  },
  "language_info": {
   "codemirror_mode": {
    "name": "ipython",
    "version": 3
   },
   "file_extension": ".py",
   "mimetype": "text/x-python",
   "name": "python",
   "nbconvert_exporter": "python",
   "pygments_lexer": "ipython3",
   "version": "3.8.8"
  },
  "toc": {
   "base_numbering": 1,
   "nav_menu": {},
   "number_sections": true,
   "sideBar": true,
   "skip_h1_title": false,
   "title_cell": "Table of Contents",
   "title_sidebar": "Contents",
   "toc_cell": false,
   "toc_position": {},
   "toc_section_display": true,
   "toc_window_display": false
  },
  "varInspector": {
   "cols": {
    "lenName": 16,
    "lenType": 16,
    "lenVar": 40
   },
   "kernels_config": {
    "python": {
     "delete_cmd_postfix": "",
     "delete_cmd_prefix": "del ",
     "library": "var_list.py",
     "varRefreshCmd": "print(var_dic_list())"
    },
    "r": {
     "delete_cmd_postfix": ") ",
     "delete_cmd_prefix": "rm(",
     "library": "var_list.r",
     "varRefreshCmd": "cat(var_dic_list()) "
    }
   },
   "types_to_exclude": [
    "module",
    "function",
    "builtin_function_or_method",
    "instance",
    "_Feature"
   ],
   "window_display": false
  }
 },
 "nbformat": 4,
 "nbformat_minor": 5
}
