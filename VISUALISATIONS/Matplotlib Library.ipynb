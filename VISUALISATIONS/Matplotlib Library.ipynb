{
 "cells": [
  {
   "cell_type": "markdown",
   "metadata": {},
   "source": [
    "# Matplotlib 라이브러리"
   ]
  },
  {
   "cell_type": "markdown",
   "metadata": {},
   "source": [
    "---"
   ]
  },
  {
   "cell_type": "markdown",
   "metadata": {},
   "source": [
    "### Matplotlib 라이브러리\n",
    "0. 라이브러리 import\n",
    "1. 기본 그래프 그리기 - plot()\n",
    "2. 산점도 그래프 그리기 - scatter()\n",
    "3. 히스토그램 그래프 그리기 - hist()\n",
    "4. 한 공간에 여러개 그래프 출력하기\n",
    "5. 여러 결과 창 묶어서 출력하기 - subplot()"
   ]
  },
  {
   "cell_type": "markdown",
   "metadata": {},
   "source": [
    "---"
   ]
  },
  {
   "cell_type": "markdown",
   "metadata": {},
   "source": [
    " "
   ]
  },
  {
   "cell_type": "markdown",
   "metadata": {},
   "source": [
    "### 1. 기본 그래프 그리기 - plot()"
   ]
  },
  {
   "cell_type": "markdown",
   "metadata": {},
   "source": [
    "`plot()` 함수\n",
    "* matplotlib를 사용하여 데이터를 시각화하는 기법 중 가장 간단한 라인 플롯 그릴 수 있음\n",
    "* 입력한 데이터의 포인트들을 연결하여 직선 그래프를 출력"
   ]
  },
  {
   "cell_type": "code",
   "execution_count": 80,
   "metadata": {
    "ExecuteTime": {
     "end_time": "2021-09-09T07:04:22.651602Z",
     "start_time": "2021-09-09T07:04:22.464104Z"
    },
    "scrolled": false
   },
   "outputs": [
    {
     "data": {
      "image/png": "[encoded data removed]",
      "text/plain": [
       "<Figure size 432x288 with 1 Axes>"
      ]
     },
     "metadata": {
      "needs_background": "light"
     },
     "output_type": "display_data"
    }
   ],
   "source": [
    "import matplotlib.pyplot as plt\n",
    "City = [\"Seoul\", \"Paris\", \"Seattle\"]\n",
    "Response = [25, 30, 55]\n",
    "\n",
    "plt.plot(City, Response) # X축, Y축\n",
    "plt.xlabel('City') \n",
    "plt.ylabel('Response') \n",
    "plt.title('Experiment Result') \n",
    "# plt.xticks(City)\n",
    "\n",
    "plt.show()"
   ]
  },
  {
   "cell_type": "markdown",
   "metadata": {},
   "source": [
    " "
   ]
  },
  {
   "cell_type": "markdown",
   "metadata": {},
   "source": [
    "`plot()`과 관련된 함수\n",
    "\n",
    "- `.xlabel()`: x축 label 명칭 설정\n",
    "- `.ylabel()`: y축 label 명칭 설정\n",
    "- `.title()`: 타이틀 명칭 설정\n",
    "- `.show()`: 그래프 출력 \n",
    "\n",
    "> https://matplotlib.org/api/pyplot_summary.html\n",
    "\n",
    "> 그래프 설정 : https://matplotlib.org/api/_as_gen/matplotlib.pyplot.plot.html?highlight=plot#matplotlib.pyplot.plot"
   ]
  },
  {
   "cell_type": "markdown",
   "metadata": {
    "ExecuteTime": {
     "end_time": "2021-09-09T07:05:57.690418Z",
     "start_time": "2021-09-09T07:05:57.680447Z"
    }
   },
   "source": [
    "---"
   ]
  },
  {
   "cell_type": "markdown",
   "metadata": {},
   "source": [
    " "
   ]
  },
  {
   "cell_type": "markdown",
   "metadata": {},
   "source": [
    "### 2. 산점도 그래프 그리기 - scatter()"
   ]
  },
  {
   "cell_type": "markdown",
   "metadata": {},
   "source": [
    "직선 그래프를 그리는 `plot()`과 달리 연결되지 않은 포인트들을 출력하고 싶은 경우에는 `scatter()` 함수를 사용합니다."
   ]
  },
  {
   "cell_type": "code",
   "execution_count": 58,
   "metadata": {
    "ExecuteTime": {
     "end_time": "2021-09-09T06:43:24.266391Z",
     "start_time": "2021-09-09T06:43:24.058957Z"
    }
   },
   "outputs": [
    {
     "data": {
      "image/png": "[encoded data removed]",
      "text/plain": [
       "<Figure size 432x288 with 1 Axes>"
      ]
     },
     "metadata": {
      "needs_background": "light"
     },
     "output_type": "display_data"
    }
   ],
   "source": [
    "import matplotlib.pyplot as plt \n",
    "\n",
    "plt.scatter([1, 3, 2], [0, -1, 2], color='mediumslateblue')\n",
    "plt.show()"
   ]
  },
  {
   "cell_type": "markdown",
   "metadata": {},
   "source": [
    " "
   ]
  },
  {
   "cell_type": "markdown",
   "metadata": {},
   "source": [
    "- 그래프 설정 방법 : https://matplotlib.org/api/_as_gen/matplotlib.pyplot.scatter.html?highlight=scatter#matplotlib.pyplot.scatter"
   ]
  },
  {
   "cell_type": "markdown",
   "metadata": {},
   "source": [
    "---"
   ]
  },
  {
   "cell_type": "markdown",
   "metadata": {},
   "source": [
    "### 3. 히스토그램 그래프 그리기 - hist()"
   ]
  },
  {
   "cell_type": "markdown",
   "metadata": {},
   "source": [
    "* 데이터의 히스토그램 그래프를 출력해주는 함수"
   ]
  },
  {
   "cell_type": "code",
   "execution_count": 62,
   "metadata": {
    "ExecuteTime": {
     "end_time": "2021-09-09T06:52:10.612554Z",
     "start_time": "2021-09-09T06:52:10.387356Z"
    },
    "scrolled": true
   },
   "outputs": [
    {
     "data": {
      "image/png": "[encoded data removed]",
      "text/plain": [
       "<Figure size 432x288 with 1 Axes>"
      ]
     },
     "metadata": {
      "needs_background": "light"
     },
     "output_type": "display_data"
    }
   ],
   "source": [
    "import matplotlib.pyplot as plt\n",
    "\n",
    "plt.hist([1, 3, 2, 2, 3, 3, 3, 1, 4, 8, 2, 6, 6], bins=None, color='lavender')\n",
    "plt.show()"
   ]
  },
  {
   "cell_type": "markdown",
   "metadata": {},
   "source": [
    "**bins** : x축의 분포를 몇 개로 나누어 출력할지를 의미"
   ]
  },
  {
   "cell_type": "code",
   "execution_count": 61,
   "metadata": {
    "ExecuteTime": {
     "end_time": "2021-09-09T06:51:58.171950Z",
     "start_time": "2021-09-09T06:51:57.991932Z"
    }
   },
   "outputs": [
    {
     "data": {
      "image/png": "[encoded data removed]",
      "text/plain": [
       "<Figure size 432x288 with 1 Axes>"
      ]
     },
     "metadata": {
      "needs_background": "light"
     },
     "output_type": "display_data"
    }
   ],
   "source": [
    "plt.hist([1, 3, 2, 2, 3, 3, 3, 1, 4, 8, 2, 6, 6], bins=2, color='lavender')\n",
    "plt.show()"
   ]
  },
  {
   "cell_type": "markdown",
   "metadata": {},
   "source": [
    "위의 예시처럼 bins를 2로 설정하면 4.5를 기준으로 2개의 range 안에서 개수를 출력\n",
    "데이터가 1부터 8까지의 범위로 정해져 있기에 범주를 2개로 나누기 위해서 (1+8)/2=4.5 기준이 설정\n",
    "\n",
    "- `hist()` : https://matplotlib.org/api/_as_gen/matplotlib.pyplot.hist.html?highlight=hist#matplotlib.pyplot.hist"
   ]
  },
  {
   "cell_type": "markdown",
   "metadata": {},
   "source": [
    " "
   ]
  },
  {
   "cell_type": "markdown",
   "metadata": {
    "ExecuteTime": {
     "end_time": "2021-09-09T07:05:34.758174Z",
     "start_time": "2021-09-09T07:05:34.742730Z"
    }
   },
   "source": [
    "---"
   ]
  },
  {
   "cell_type": "markdown",
   "metadata": {},
   "source": [
    "### 4. 막대 그래프 그리기 - bar()"
   ]
  },
  {
   "cell_type": "markdown",
   "metadata": {},
   "source": [
    "* 함수는 각 x축 포인트에 따른 y축 값을 막대그래프를 그려주는 함수\n",
    "* `hist()` 함수의 경우에는 입력 데이터의 **분포**를 표현하는 데에 비해 `bar()` 함수는 입력되는 각 포인트에 대해 **막대** 로 표현"
   ]
  },
  {
   "cell_type": "code",
   "execution_count": 45,
   "metadata": {
    "ExecuteTime": {
     "end_time": "2021-09-09T06:38:46.274316Z",
     "start_time": "2021-09-09T06:38:46.112694Z"
    }
   },
   "outputs": [
    {
     "data": {
      "image/png": "[encoded data removed]",
      "text/plain": [
       "<Figure size 432x288 with 1 Axes>"
      ]
     },
     "metadata": {
      "needs_background": "light"
     },
     "output_type": "display_data"
    }
   ],
   "source": [
    "import matplotlib.pyplot as plt \n",
    "\n",
    "plt.bar([\"Seoul\", \"Paris\", \"Seattle\"], [30, 25, 55],color='plum', alpha=0.5)\n",
    "plt.xlabel('City')\n",
    "plt.ylabel('Response')\n",
    "plt.title('Experiment Result')\n",
    "plt.show()"
   ]
  },
  {
   "cell_type": "markdown",
   "metadata": {},
   "source": [
    "- `bar()` : https://matplotlib.org/api/_as_gen/matplotlib.pyplot.bar.html?highlight=bar#matplotlib.pyplot.bar"
   ]
  },
  {
   "cell_type": "markdown",
   "metadata": {},
   "source": [
    " "
   ]
  },
  {
   "cell_type": "markdown",
   "metadata": {},
   "source": [
    "---"
   ]
  },
  {
   "cell_type": "markdown",
   "metadata": {},
   "source": [
    "### 5. 한 공간에 여러 개의 그래프 출력하기"
   ]
  },
  {
   "cell_type": "code",
   "execution_count": 64,
   "metadata": {
    "ExecuteTime": {
     "end_time": "2021-09-09T06:52:57.751443Z",
     "start_time": "2021-09-09T06:52:57.436240Z"
    },
    "scrolled": false
   },
   "outputs": [
    {
     "data": {
      "image/png": "[encoded data removed]",
      "text/plain": [
       "<Figure size 432x288 with 1 Axes>"
      ]
     },
     "metadata": {
      "needs_background": "light"
     },
     "output_type": "display_data"
    }
   ],
   "source": [
    "import matplotlib.pyplot as plt \n",
    "\n",
    "plt.plot([1, 2, 3], [1, 4, 9], color='plum')\n",
    "plt.plot([2, 3, 4], [5, 6, 7], color='violet')\n",
    "plt.bar([1,2,4],[2, 3, 4], color='lavender')\n",
    "plt.xlabel('Sequence')\n",
    "plt.ylabel('Time(secs)')\n",
    "plt.title('Result')\n",
    "plt.legend(['lineA', 'lineB', \"hist\"])\n",
    "plt.show()"
   ]
  },
  {
   "cell_type": "markdown",
   "metadata": {},
   "source": [
    "---"
   ]
  },
  {
   "cell_type": "markdown",
   "metadata": {},
   "source": [
    "### 6. 여러 결과 창 묶어서 출력하기 - subplot()"
   ]
  },
  {
   "cell_type": "code",
   "execution_count": 38,
   "metadata": {
    "ExecuteTime": {
     "end_time": "2021-09-09T06:37:12.713980Z",
     "start_time": "2021-09-09T06:37:12.297584Z"
    },
    "scrolled": true
   },
   "outputs": [
    {
     "data": {
      "image/png": "[encoded data removed]",
      "text/plain": [
       "<Figure size 432x288 with 4 Axes>"
      ]
     },
     "metadata": {
      "needs_background": "light"
     },
     "output_type": "display_data"
    }
   ],
   "source": [
    "# 임의의 x, y값 생성\n",
    "import numpy as np\n",
    "\n",
    "x = np.random.rand(10)\n",
    "y = np.random.rand(10)\n",
    "\n",
    "plt.subplot(221)\n",
    "plt.scatter(x, y, s=80, c='salmon', marker=\">\")\n",
    "\n",
    "plt.subplot(222)\n",
    "plt.scatter(x, y, s=80, c='powderblue', marker=(5, 0))\n",
    "\n",
    "verts = np.array([[-1, -1], [1, -1], [1, 1], [-1, -1]])\n",
    "plt.subplot(223)\n",
    "plt.scatter(x, y, s=80, c='plum', marker=verts)\n",
    "\n",
    "plt.subplot(224)\n",
    "plt.scatter(x, y, s=80, c='gold', marker=(5, 1))\n",
    "\n",
    "plt.show()"
   ]
  },
  {
   "cell_type": "markdown",
   "metadata": {},
   "source": [
    "`subplot()` 함수의 입력값으로는 자연수 3개가 필요함\n",
    "\n",
    "**subplot(221)** 은 **(2,2)** 행렬 출력창에서 **1번째** 출력창으로 설정하는 것을 의미\n",
    "\n",
    "`plt.subplot(221)`을 그래프 함수에 앞서 입력해야 해당 그래프의 위치 조정가능\n",
    "\n",
    "- `subplot()` : https://matplotlib.org/api/_as_gen/matplotlib.pyplot.subplot.html?highlight=subplot#matplotlib.pyplot.subplot"
   ]
  }
 ],
 "metadata": {
  "hide_input": false,
  "kernelspec": {
   "display_name": "Python 3",
   "language": "python",
   "name": "python3"
  },
  "language_info": {
   "codemirror_mode": {
    "name": "ipython",
    "version": 3
   },
   "file_extension": ".py",
   "mimetype": "text/x-python",
   "name": "python",
   "nbconvert_exporter": "python",
   "pygments_lexer": "ipython3",
   "version": "3.8.8"
  },
  "toc": {
   "base_numbering": 1,
   "nav_menu": {},
   "number_sections": false,
   "sideBar": true,
   "skip_h1_title": false,
   "title_cell": "Table of Contents",
   "title_sidebar": "Contents",
   "toc_cell": false,
   "toc_position": {},
   "toc_section_display": true,
   "toc_window_display": true
  },
  "varInspector": {
   "cols": {
    "lenName": 16,
    "lenType": 16,
    "lenVar": 40
   },
   "kernels_config": {
    "python": {
     "delete_cmd_postfix": "",
     "delete_cmd_prefix": "del ",
     "library": "var_list.py",
     "varRefreshCmd": "print(var_dic_list())"
    },
    "r": {
     "delete_cmd_postfix": ") ",
     "delete_cmd_prefix": "rm(",
     "library": "var_list.r",
     "varRefreshCmd": "cat(var_dic_list()) "
    }
   },
   "types_to_exclude": [
    "module",
    "function",
    "builtin_function_or_method",
    "instance",
    "_Feature"
   ],
   "window_display": false
  }
 },
 "nbformat": 4,
 "nbformat_minor": 4
}
