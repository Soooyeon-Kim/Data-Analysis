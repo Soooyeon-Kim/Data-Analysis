{
 "cells": [
  {
   "cell_type": "code",
   "execution_count": 25,
   "id": "c703ac4e",
   "metadata": {
    "ExecuteTime": {
     "end_time": "2021-09-11T00:32:35.807286Z",
     "start_time": "2021-09-11T00:32:35.799733Z"
    }
   },
   "outputs": [],
   "source": [
    "import matplotlib.pyplot as plt"
   ]
  },
  {
   "cell_type": "code",
   "execution_count": 26,
   "id": "7f0911f7",
   "metadata": {
    "ExecuteTime": {
     "end_time": "2021-09-11T00:33:42.041869Z",
     "start_time": "2021-09-11T00:33:41.717719Z"
    }
   },
   "outputs": [
    {
     "name": "stdout",
     "output_type": "stream",
     "text": [
      "막대 차트 결과\n"
     ]
    },
    {
     "data": {
      "image/png": "[encoded data removed]",
      "text/plain": [
       "<Figure size 432x288 with 1 Axes>"
      ]
     },
     "metadata": {
      "needs_background": "light"
     },
     "output_type": "display_data"
    }
   ],
   "source": [
    "# 월별 평균 기온\n",
    "years = [2013, 2014, 2015, 2016, 2017]\n",
    "temperatures = [5, 10, 15, 20, 17]\n",
    "\n",
    "#막대 차트\n",
    "def draw_graph():\n",
    "    # 막대 그래프의 막대 위치를 결정하는 pos를 선언\n",
    "    pos = range(len(years))  # [0, 1, 2, 3, 4]\n",
    "    \n",
    "    # 높이가 온도인 막대 그래프\n",
    "    # 각 막대를 가운데 정렬\n",
    "    plt.bar(pos, temperatures, align='center')\n",
    "    \n",
    "    # 각 막대에 해당되는 연도를 표기\n",
    "    plt.xticks(pos, years)\n",
    "    \n",
    "    # 그래프 표시\n",
    "    plt.savefig('graph.png')\n",
    "\n",
    "print('막대 차트 결과')\n",
    "draw_graph()"
   ]
  },
  {
   "cell_type": "code",
   "execution_count": 27,
   "id": "7735336c",
   "metadata": {
    "ExecuteTime": {
     "end_time": "2021-09-11T00:35:17.022261Z",
     "start_time": "2021-09-11T00:35:17.009782Z"
    }
   },
   "outputs": [],
   "source": [
    "import matplotlib.pyplot as plt\n",
    "import matplotlib.font_manager as fm"
   ]
  },
  {
   "cell_type": "code",
   "execution_count": 28,
   "id": "d217ee7a",
   "metadata": {
    "ExecuteTime": {
     "end_time": "2021-09-11T00:35:22.102079Z",
     "start_time": "2021-09-11T00:35:21.209665Z"
    }
   },
   "outputs": [
    {
     "data": {
      "image/png": "[encoded data removed]",
      "text/plain": [
       "<Figure size 432x288 with 1 Axes>"
      ]
     },
     "metadata": {
      "needs_background": "light"
     },
     "output_type": "display_data"
    }
   ],
   "source": [
    "# 날짜 별 온도 데이터\n",
    "dates = [\"1월 {}일\".format(day) for day in range(1, 32)]\n",
    "temperatures = list(range(1, 32))\n",
    "\n",
    "# 막대 그래프의 막대 위치\n",
    "pos = range(len(dates))\n",
    "\n",
    "# 폰트 설정\n",
    "font = fm.FontProperties(fname='./NanumBarunGothic.ttf')\n",
    "\n",
    "# 막대의 높이가 빈도의 값이 되도록 설정\n",
    "plt.bar(pos, temperatures, align='center')\n",
    "\n",
    "\n",
    "# 각 막대에 해당되는 단어 입력\n",
    "plt.xticks(pos, dates, rotation='vertical', fontproperties=font)\n",
    "\n",
    "# 그래프 제목\n",
    "plt.title('1월 중 기온 변화', fontproperties=font)\n",
    "\n",
    "# Y축 설명\n",
    "plt.ylabel('온도', fontproperties=font)\n",
    "\n",
    "# 단어가 잘리지 않도록 여백 조정\n",
    "plt.tight_layout()\n",
    "\n",
    "# 그래프 표시\n",
    "plt.savefig('graph.png')"
   ]
  }
 ],
 "metadata": {
  "hide_input": false,
  "kernelspec": {
   "display_name": "Python 3",
   "language": "python",
   "name": "python3"
  },
  "language_info": {
   "codemirror_mode": {
    "name": "ipython",
    "version": 3
   },
   "file_extension": ".py",
   "mimetype": "text/x-python",
   "name": "python",
   "nbconvert_exporter": "python",
   "pygments_lexer": "ipython3",
   "version": "3.8.8"
  },
  "toc": {
   "base_numbering": 1,
   "nav_menu": {},
   "number_sections": true,
   "sideBar": true,
   "skip_h1_title": false,
   "title_cell": "Table of Contents",
   "title_sidebar": "Contents",
   "toc_cell": false,
   "toc_position": {},
   "toc_section_display": true,
   "toc_window_display": false
  },
  "varInspector": {
   "cols": {
    "lenName": 16,
    "lenType": 16,
    "lenVar": 40
   },
   "kernels_config": {
    "python": {
     "delete_cmd_postfix": "",
     "delete_cmd_prefix": "del ",
     "library": "var_list.py",
     "varRefreshCmd": "print(var_dic_list())"
    },
    "r": {
     "delete_cmd_postfix": ") ",
     "delete_cmd_prefix": "rm(",
     "library": "var_list.r",
     "varRefreshCmd": "cat(var_dic_list()) "
    }
   },
   "types_to_exclude": [
    "module",
    "function",
    "builtin_function_or_method",
    "instance",
    "_Feature"
   ],
   "window_display": false
  }
 },
 "nbformat": 4,
 "nbformat_minor": 5
}
