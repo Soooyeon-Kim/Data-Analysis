{
 "cells": [
  {
   "cell_type": "markdown",
   "id": "9c3e592a",
   "metadata": {},
   "source": [
    "### 역대 월드컵의 관중 수 출력하기"
   ]
  },
  {
   "cell_type": "code",
   "execution_count": 1,
   "id": "06a6092b",
   "metadata": {
    "ExecuteTime": {
     "end_time": "2021-09-25T02:50:13.696386Z",
     "start_time": "2021-09-25T02:50:12.475535Z"
    }
   },
   "outputs": [],
   "source": [
    "import pandas as pd\n",
    "import numpy as np\n",
    "import matplotlib.pyplot as plt"
   ]
  },
  {
   "cell_type": "code",
   "execution_count": 84,
   "id": "ca5f6fad",
   "metadata": {
    "ExecuteTime": {
     "end_time": "2021-09-25T04:37:40.147976Z",
     "start_time": "2021-09-25T04:37:40.101973Z"
    }
   },
   "outputs": [
    {
     "data": {
      "text/html": [
       "<div>\n",
       "<style scoped>\n",
       "    .dataframe tbody tr th:only-of-type {\n",
       "        vertical-align: middle;\n",
       "    }\n",
       "\n",
       "    .dataframe tbody tr th {\n",
       "        vertical-align: top;\n",
       "    }\n",
       "\n",
       "    .dataframe thead th {\n",
       "        text-align: right;\n",
       "    }\n",
       "</style>\n",
       "<table border=\"1\" class=\"dataframe\">\n",
       "  <thead>\n",
       "    <tr style=\"text-align: right;\">\n",
       "      <th></th>\n",
       "      <th>Year</th>\n",
       "      <th>Attendance</th>\n",
       "    </tr>\n",
       "  </thead>\n",
       "  <tbody>\n",
       "    <tr>\n",
       "      <th>6</th>\n",
       "      <td>1962</td>\n",
       "      <td>893.172</td>\n",
       "    </tr>\n",
       "    <tr>\n",
       "      <th>5</th>\n",
       "      <td>1958</td>\n",
       "      <td>819.810</td>\n",
       "    </tr>\n",
       "    <tr>\n",
       "      <th>4</th>\n",
       "      <td>1954</td>\n",
       "      <td>768.607</td>\n",
       "    </tr>\n",
       "    <tr>\n",
       "      <th>0</th>\n",
       "      <td>1930</td>\n",
       "      <td>590.549</td>\n",
       "    </tr>\n",
       "    <tr>\n",
       "      <th>2</th>\n",
       "      <td>1938</td>\n",
       "      <td>375.700</td>\n",
       "    </tr>\n",
       "    <tr>\n",
       "      <th>1</th>\n",
       "      <td>1934</td>\n",
       "      <td>363.000</td>\n",
       "    </tr>\n",
       "    <tr>\n",
       "      <th>14</th>\n",
       "      <td>1994</td>\n",
       "      <td>3.587.538</td>\n",
       "    </tr>\n",
       "    <tr>\n",
       "      <th>19</th>\n",
       "      <td>2014</td>\n",
       "      <td>3.386.810</td>\n",
       "    </tr>\n",
       "    <tr>\n",
       "      <th>17</th>\n",
       "      <td>2006</td>\n",
       "      <td>3.359.439</td>\n",
       "    </tr>\n",
       "    <tr>\n",
       "      <th>18</th>\n",
       "      <td>2010</td>\n",
       "      <td>3.178.856</td>\n",
       "    </tr>\n",
       "    <tr>\n",
       "      <th>15</th>\n",
       "      <td>1998</td>\n",
       "      <td>2.785.100</td>\n",
       "    </tr>\n",
       "    <tr>\n",
       "      <th>16</th>\n",
       "      <td>2002</td>\n",
       "      <td>2.705.197</td>\n",
       "    </tr>\n",
       "    <tr>\n",
       "      <th>13</th>\n",
       "      <td>1990</td>\n",
       "      <td>2.516.215</td>\n",
       "    </tr>\n",
       "    <tr>\n",
       "      <th>12</th>\n",
       "      <td>1986</td>\n",
       "      <td>2.394.031</td>\n",
       "    </tr>\n",
       "    <tr>\n",
       "      <th>11</th>\n",
       "      <td>1982</td>\n",
       "      <td>2.109.723</td>\n",
       "    </tr>\n",
       "    <tr>\n",
       "      <th>9</th>\n",
       "      <td>1974</td>\n",
       "      <td>1.865.753</td>\n",
       "    </tr>\n",
       "    <tr>\n",
       "      <th>8</th>\n",
       "      <td>1970</td>\n",
       "      <td>1.603.975</td>\n",
       "    </tr>\n",
       "    <tr>\n",
       "      <th>7</th>\n",
       "      <td>1966</td>\n",
       "      <td>1.563.135</td>\n",
       "    </tr>\n",
       "    <tr>\n",
       "      <th>10</th>\n",
       "      <td>1978</td>\n",
       "      <td>1.545.791</td>\n",
       "    </tr>\n",
       "    <tr>\n",
       "      <th>3</th>\n",
       "      <td>1950</td>\n",
       "      <td>1.045.246</td>\n",
       "    </tr>\n",
       "  </tbody>\n",
       "</table>\n",
       "</div>"
      ],
      "text/plain": [
       "    Year Attendance\n",
       "6   1962    893.172\n",
       "5   1958    819.810\n",
       "4   1954    768.607\n",
       "0   1930    590.549\n",
       "2   1938    375.700\n",
       "1   1934    363.000\n",
       "14  1994  3.587.538\n",
       "19  2014  3.386.810\n",
       "17  2006  3.359.439\n",
       "18  2010  3.178.856\n",
       "15  1998  2.785.100\n",
       "16  2002  2.705.197\n",
       "13  1990  2.516.215\n",
       "12  1986  2.394.031\n",
       "11  1982  2.109.723\n",
       "9   1974  1.865.753\n",
       "8   1970  1.603.975\n",
       "7   1966  1.563.135\n",
       "10  1978  1.545.791\n",
       "3   1950  1.045.246"
      ]
     },
     "execution_count": 84,
     "metadata": {},
     "output_type": "execute_result"
    }
   ],
   "source": [
    "pd.set_option('display.max_rows',500)\n",
    "pd.set_option('display.max_columns',500)\n",
    "pd.set_option('display.width',1000)\n",
    "\n",
    "worldcup = pd.read_csv('WorldCups.csv')\n",
    "worldcup = worldcup[['Year','Attendance']]\n",
    "worldcup.sort_values(by='Attendance', ascending=False)"
   ]
  },
  {
   "cell_type": "markdown",
   "id": "3ada5a41",
   "metadata": {
    "ExecuteTime": {
     "end_time": "2021-09-25T02:53:43.943563Z",
     "start_time": "2021-09-25T02:53:43.925709Z"
    }
   },
   "source": [
    "### 역대 월드컵 관중 수 그래프"
   ]
  },
  {
   "cell_type": "code",
   "execution_count": 85,
   "id": "3025972b",
   "metadata": {
    "ExecuteTime": {
     "end_time": "2021-09-25T04:37:50.868452Z",
     "start_time": "2021-09-25T04:37:50.545462Z"
    }
   },
   "outputs": [
    {
     "data": {
      "image/png": "[encoded data removed]",
      "text/plain": [
       "<Figure size 432x288 with 1 Axes>"
      ]
     },
     "metadata": {
      "needs_background": "light"
     },
     "output_type": "display_data"
    }
   ],
   "source": [
    "plt.plot(worldcup['Year'],worldcup['Attendance'], marker='*', color='black')\n",
    "plt.xlabel('Year')\n",
    "plt.ylabel('Attendance')\n",
    "plt.savefig('image.svg', format='svg')"
   ]
  },
  {
   "cell_type": "markdown",
   "id": "be2d06a5",
   "metadata": {
    "ExecuteTime": {
     "end_time": "2021-09-25T02:56:43.036387Z",
     "start_time": "2021-09-25T02:56:43.029414Z"
    }
   },
   "source": [
    "### 역대 월드컵의 경기당 득점 수 출력"
   ]
  },
  {
   "cell_type": "code",
   "execution_count": 86,
   "id": "ff9a1017",
   "metadata": {
    "ExecuteTime": {
     "end_time": "2021-09-25T04:37:53.846338Z",
     "start_time": "2021-09-25T04:37:53.824740Z"
    }
   },
   "outputs": [
    {
     "data": {
      "text/html": [
       "<div>\n",
       "<style scoped>\n",
       "    .dataframe tbody tr th:only-of-type {\n",
       "        vertical-align: middle;\n",
       "    }\n",
       "\n",
       "    .dataframe tbody tr th {\n",
       "        vertical-align: top;\n",
       "    }\n",
       "\n",
       "    .dataframe thead th {\n",
       "        text-align: right;\n",
       "    }\n",
       "</style>\n",
       "<table border=\"1\" class=\"dataframe\">\n",
       "  <thead>\n",
       "    <tr style=\"text-align: right;\">\n",
       "      <th></th>\n",
       "      <th>Year</th>\n",
       "      <th>GoalsScored</th>\n",
       "      <th>MatchesPlayed</th>\n",
       "      <th>GoalsPerMatch</th>\n",
       "    </tr>\n",
       "  </thead>\n",
       "  <tbody>\n",
       "    <tr>\n",
       "      <th>0</th>\n",
       "      <td>1930</td>\n",
       "      <td>70</td>\n",
       "      <td>18</td>\n",
       "      <td>3.888889</td>\n",
       "    </tr>\n",
       "    <tr>\n",
       "      <th>1</th>\n",
       "      <td>1934</td>\n",
       "      <td>70</td>\n",
       "      <td>17</td>\n",
       "      <td>4.117647</td>\n",
       "    </tr>\n",
       "    <tr>\n",
       "      <th>2</th>\n",
       "      <td>1938</td>\n",
       "      <td>84</td>\n",
       "      <td>18</td>\n",
       "      <td>4.666667</td>\n",
       "    </tr>\n",
       "    <tr>\n",
       "      <th>3</th>\n",
       "      <td>1950</td>\n",
       "      <td>88</td>\n",
       "      <td>22</td>\n",
       "      <td>4.000000</td>\n",
       "    </tr>\n",
       "    <tr>\n",
       "      <th>4</th>\n",
       "      <td>1954</td>\n",
       "      <td>140</td>\n",
       "      <td>26</td>\n",
       "      <td>5.384615</td>\n",
       "    </tr>\n",
       "    <tr>\n",
       "      <th>5</th>\n",
       "      <td>1958</td>\n",
       "      <td>126</td>\n",
       "      <td>35</td>\n",
       "      <td>3.600000</td>\n",
       "    </tr>\n",
       "    <tr>\n",
       "      <th>6</th>\n",
       "      <td>1962</td>\n",
       "      <td>89</td>\n",
       "      <td>32</td>\n",
       "      <td>2.781250</td>\n",
       "    </tr>\n",
       "    <tr>\n",
       "      <th>7</th>\n",
       "      <td>1966</td>\n",
       "      <td>89</td>\n",
       "      <td>32</td>\n",
       "      <td>2.781250</td>\n",
       "    </tr>\n",
       "    <tr>\n",
       "      <th>8</th>\n",
       "      <td>1970</td>\n",
       "      <td>95</td>\n",
       "      <td>32</td>\n",
       "      <td>2.968750</td>\n",
       "    </tr>\n",
       "    <tr>\n",
       "      <th>9</th>\n",
       "      <td>1974</td>\n",
       "      <td>97</td>\n",
       "      <td>38</td>\n",
       "      <td>2.552632</td>\n",
       "    </tr>\n",
       "    <tr>\n",
       "      <th>10</th>\n",
       "      <td>1978</td>\n",
       "      <td>102</td>\n",
       "      <td>38</td>\n",
       "      <td>2.684211</td>\n",
       "    </tr>\n",
       "    <tr>\n",
       "      <th>11</th>\n",
       "      <td>1982</td>\n",
       "      <td>146</td>\n",
       "      <td>52</td>\n",
       "      <td>2.807692</td>\n",
       "    </tr>\n",
       "    <tr>\n",
       "      <th>12</th>\n",
       "      <td>1986</td>\n",
       "      <td>132</td>\n",
       "      <td>52</td>\n",
       "      <td>2.538462</td>\n",
       "    </tr>\n",
       "    <tr>\n",
       "      <th>13</th>\n",
       "      <td>1990</td>\n",
       "      <td>115</td>\n",
       "      <td>52</td>\n",
       "      <td>2.211538</td>\n",
       "    </tr>\n",
       "    <tr>\n",
       "      <th>14</th>\n",
       "      <td>1994</td>\n",
       "      <td>141</td>\n",
       "      <td>52</td>\n",
       "      <td>2.711538</td>\n",
       "    </tr>\n",
       "    <tr>\n",
       "      <th>15</th>\n",
       "      <td>1998</td>\n",
       "      <td>171</td>\n",
       "      <td>64</td>\n",
       "      <td>2.671875</td>\n",
       "    </tr>\n",
       "    <tr>\n",
       "      <th>16</th>\n",
       "      <td>2002</td>\n",
       "      <td>161</td>\n",
       "      <td>64</td>\n",
       "      <td>2.515625</td>\n",
       "    </tr>\n",
       "    <tr>\n",
       "      <th>17</th>\n",
       "      <td>2006</td>\n",
       "      <td>147</td>\n",
       "      <td>64</td>\n",
       "      <td>2.296875</td>\n",
       "    </tr>\n",
       "    <tr>\n",
       "      <th>18</th>\n",
       "      <td>2010</td>\n",
       "      <td>145</td>\n",
       "      <td>64</td>\n",
       "      <td>2.265625</td>\n",
       "    </tr>\n",
       "    <tr>\n",
       "      <th>19</th>\n",
       "      <td>2014</td>\n",
       "      <td>171</td>\n",
       "      <td>64</td>\n",
       "      <td>2.671875</td>\n",
       "    </tr>\n",
       "  </tbody>\n",
       "</table>\n",
       "</div>"
      ],
      "text/plain": [
       "    Year  GoalsScored  MatchesPlayed  GoalsPerMatch\n",
       "0   1930           70             18       3.888889\n",
       "1   1934           70             17       4.117647\n",
       "2   1938           84             18       4.666667\n",
       "3   1950           88             22       4.000000\n",
       "4   1954          140             26       5.384615\n",
       "5   1958          126             35       3.600000\n",
       "6   1962           89             32       2.781250\n",
       "7   1966           89             32       2.781250\n",
       "8   1970           95             32       2.968750\n",
       "9   1974           97             38       2.552632\n",
       "10  1978          102             38       2.684211\n",
       "11  1982          146             52       2.807692\n",
       "12  1986          132             52       2.538462\n",
       "13  1990          115             52       2.211538\n",
       "14  1994          141             52       2.711538\n",
       "15  1998          171             64       2.671875\n",
       "16  2002          161             64       2.515625\n",
       "17  2006          147             64       2.296875\n",
       "18  2010          145             64       2.265625\n",
       "19  2014          171             64       2.671875"
      ]
     },
     "execution_count": 86,
     "metadata": {},
     "output_type": "execute_result"
    }
   ],
   "source": [
    "worldcup = pd.read_csv('WorldCups.csv')\n",
    "worldcup = worldcup[['Year', 'GoalsScored', 'MatchesPlayed']]\n",
    "# Goals Per Match\n",
    "worldcup['GoalsPerMatch'] = worldcup['GoalsScored'] / worldcup['MatchesPlayed']\n",
    "worldcup"
   ]
  },
  {
   "cell_type": "markdown",
   "id": "9f8b15ac",
   "metadata": {
    "ExecuteTime": {
     "end_time": "2021-09-25T03:01:51.719434Z",
     "start_time": "2021-09-25T03:01:51.708474Z"
    }
   },
   "source": [
    "### 역대 월드컵의 경기당 득점 수 그래프로 출력"
   ]
  },
  {
   "cell_type": "code",
   "execution_count": 87,
   "id": "d638e296",
   "metadata": {
    "ExecuteTime": {
     "end_time": "2021-09-25T04:38:01.628852Z",
     "start_time": "2021-09-25T04:38:01.317060Z"
    }
   },
   "outputs": [
    {
     "data": {
      "text/plain": [
       "<matplotlib.legend.Legend at 0x1f714927490>"
      ]
     },
     "execution_count": 87,
     "metadata": {},
     "output_type": "execute_result"
    },
    {
     "data": {
      "image/png": "[encoded data removed]",
      "text/plain": [
       "<Figure size 288x576 with 2 Axes>"
      ]
     },
     "metadata": {
      "needs_background": "light"
     },
     "output_type": "display_data"
    }
   ],
   "source": [
    "# 첫 번째 그래프\n",
    "fig, axes = plt.subplots(2,1,figsize=(4,8))\n",
    "axes[0].bar(x=worldcup['Year'], height=worldcup['GoalsScored'], color='grey', label='goals')\n",
    "\n",
    "axes[0].plot(worldcup['Year'], worldcup['MatchesPlayed'], marker='o', color='blue', label='matches')\n",
    "\n",
    "axes[0].legend(loc='upper left')\n",
    "\n",
    "# 두 번째 그래프\n",
    "axes[1].grid(True)\n",
    "axes[1].plot(worldcup['Year'], worldcup['GoalsPerMatch'], marker='o', color='red', label='goals_per_matches')\n",
    "\n",
    "axes[1].legend(loc='lower left')\n",
    "\n",
    "#plt.savefig(\"image.svg\", format=\"svg\")\n"
   ]
  },
  {
   "cell_type": "markdown",
   "id": "f1a3d631",
   "metadata": {
    "ExecuteTime": {
     "end_time": "2021-09-25T03:22:13.505178Z",
     "start_time": "2021-09-25T03:22:13.499181Z"
    }
   },
   "source": [
    "### 월드컵 매체 데이터 전처리"
   ]
  },
  {
   "cell_type": "code",
   "execution_count": 88,
   "id": "41b7b850",
   "metadata": {
    "ExecuteTime": {
     "end_time": "2021-09-25T04:38:04.680592Z",
     "start_time": "2021-09-25T04:38:04.644476Z"
    }
   },
   "outputs": [],
   "source": [
    "match = pd.read_csv('WorldCupMatches.csv')"
   ]
  },
  {
   "cell_type": "code",
   "execution_count": 89,
   "id": "64cf4610",
   "metadata": {
    "ExecuteTime": {
     "end_time": "2021-09-25T04:38:06.091205Z",
     "start_time": "2021-09-25T04:38:06.054145Z"
    }
   },
   "outputs": [
    {
     "data": {
      "text/html": [
       "<div>\n",
       "<style scoped>\n",
       "    .dataframe tbody tr th:only-of-type {\n",
       "        vertical-align: middle;\n",
       "    }\n",
       "\n",
       "    .dataframe tbody tr th {\n",
       "        vertical-align: top;\n",
       "    }\n",
       "\n",
       "    .dataframe thead th {\n",
       "        text-align: right;\n",
       "    }\n",
       "</style>\n",
       "<table border=\"1\" class=\"dataframe\">\n",
       "  <thead>\n",
       "    <tr style=\"text-align: right;\">\n",
       "      <th></th>\n",
       "      <th>Year</th>\n",
       "      <th>Datetime</th>\n",
       "      <th>Stage</th>\n",
       "      <th>Stadium</th>\n",
       "      <th>City</th>\n",
       "      <th>Home Team Name</th>\n",
       "      <th>Home Team Goals</th>\n",
       "      <th>Away Team Goals</th>\n",
       "      <th>Away Team Name</th>\n",
       "      <th>Win conditions</th>\n",
       "      <th>Attendance</th>\n",
       "      <th>Half-time Home Goals</th>\n",
       "      <th>Half-time Away Goals</th>\n",
       "      <th>Referee</th>\n",
       "      <th>Assistant 1</th>\n",
       "      <th>Assistant 2</th>\n",
       "      <th>RoundID</th>\n",
       "      <th>MatchID</th>\n",
       "      <th>Home Team Initials</th>\n",
       "      <th>Away Team Initials</th>\n",
       "    </tr>\n",
       "  </thead>\n",
       "  <tbody>\n",
       "    <tr>\n",
       "      <th>0</th>\n",
       "      <td>1930.0</td>\n",
       "      <td>13 Jul 1930 - 15:00</td>\n",
       "      <td>Group 1</td>\n",
       "      <td>Pocitos</td>\n",
       "      <td>Montevideo</td>\n",
       "      <td>France</td>\n",
       "      <td>4.0</td>\n",
       "      <td>1.0</td>\n",
       "      <td>Mexico</td>\n",
       "      <td></td>\n",
       "      <td>4444.0</td>\n",
       "      <td>3.0</td>\n",
       "      <td>0.0</td>\n",
       "      <td>LOMBARDI Domingo (URU)</td>\n",
       "      <td>CRISTOPHE Henry (BEL)</td>\n",
       "      <td>REGO Gilberto (BRA)</td>\n",
       "      <td>201.0</td>\n",
       "      <td>1096.0</td>\n",
       "      <td>FRA</td>\n",
       "      <td>MEX</td>\n",
       "    </tr>\n",
       "    <tr>\n",
       "      <th>1</th>\n",
       "      <td>1930.0</td>\n",
       "      <td>13 Jul 1930 - 15:00</td>\n",
       "      <td>Group 4</td>\n",
       "      <td>Parque Central</td>\n",
       "      <td>Montevideo</td>\n",
       "      <td>USA</td>\n",
       "      <td>3.0</td>\n",
       "      <td>0.0</td>\n",
       "      <td>Belgium</td>\n",
       "      <td></td>\n",
       "      <td>18346.0</td>\n",
       "      <td>2.0</td>\n",
       "      <td>0.0</td>\n",
       "      <td>MACIAS Jose (ARG)</td>\n",
       "      <td>MATEUCCI Francisco (URU)</td>\n",
       "      <td>WARNKEN Alberto (CHI)</td>\n",
       "      <td>201.0</td>\n",
       "      <td>1090.0</td>\n",
       "      <td>USA</td>\n",
       "      <td>BEL</td>\n",
       "    </tr>\n",
       "    <tr>\n",
       "      <th>2</th>\n",
       "      <td>1930.0</td>\n",
       "      <td>14 Jul 1930 - 12:45</td>\n",
       "      <td>Group 2</td>\n",
       "      <td>Parque Central</td>\n",
       "      <td>Montevideo</td>\n",
       "      <td>Yugoslavia</td>\n",
       "      <td>2.0</td>\n",
       "      <td>1.0</td>\n",
       "      <td>Brazil</td>\n",
       "      <td></td>\n",
       "      <td>24059.0</td>\n",
       "      <td>2.0</td>\n",
       "      <td>0.0</td>\n",
       "      <td>TEJADA Anibal (URU)</td>\n",
       "      <td>VALLARINO Ricardo (URU)</td>\n",
       "      <td>BALWAY Thomas (FRA)</td>\n",
       "      <td>201.0</td>\n",
       "      <td>1093.0</td>\n",
       "      <td>YUG</td>\n",
       "      <td>BRA</td>\n",
       "    </tr>\n",
       "    <tr>\n",
       "      <th>3</th>\n",
       "      <td>1930.0</td>\n",
       "      <td>14 Jul 1930 - 14:50</td>\n",
       "      <td>Group 3</td>\n",
       "      <td>Pocitos</td>\n",
       "      <td>Montevideo</td>\n",
       "      <td>Romania</td>\n",
       "      <td>3.0</td>\n",
       "      <td>1.0</td>\n",
       "      <td>Peru</td>\n",
       "      <td></td>\n",
       "      <td>2549.0</td>\n",
       "      <td>1.0</td>\n",
       "      <td>0.0</td>\n",
       "      <td>WARNKEN Alberto (CHI)</td>\n",
       "      <td>LANGENUS Jean (BEL)</td>\n",
       "      <td>MATEUCCI Francisco (URU)</td>\n",
       "      <td>201.0</td>\n",
       "      <td>1098.0</td>\n",
       "      <td>ROU</td>\n",
       "      <td>PER</td>\n",
       "    </tr>\n",
       "    <tr>\n",
       "      <th>4</th>\n",
       "      <td>1930.0</td>\n",
       "      <td>15 Jul 1930 - 16:00</td>\n",
       "      <td>Group 1</td>\n",
       "      <td>Parque Central</td>\n",
       "      <td>Montevideo</td>\n",
       "      <td>Argentina</td>\n",
       "      <td>1.0</td>\n",
       "      <td>0.0</td>\n",
       "      <td>France</td>\n",
       "      <td></td>\n",
       "      <td>23409.0</td>\n",
       "      <td>0.0</td>\n",
       "      <td>0.0</td>\n",
       "      <td>REGO Gilberto (BRA)</td>\n",
       "      <td>SAUCEDO Ulises (BOL)</td>\n",
       "      <td>RADULESCU Constantin (ROU)</td>\n",
       "      <td>201.0</td>\n",
       "      <td>1085.0</td>\n",
       "      <td>ARG</td>\n",
       "      <td>FRA</td>\n",
       "    </tr>\n",
       "  </tbody>\n",
       "</table>\n",
       "</div>"
      ],
      "text/plain": [
       "     Year              Datetime    Stage         Stadium         City Home Team Name  Home Team Goals  Away Team Goals Away Team Name Win conditions  Attendance  Half-time Home Goals  Half-time Away Goals                 Referee               Assistant 1                 Assistant 2  RoundID  MatchID Home Team Initials Away Team Initials\n",
       "0  1930.0  13 Jul 1930 - 15:00   Group 1         Pocitos  Montevideo          France              4.0              1.0         Mexico                     4444.0                   3.0                   0.0  LOMBARDI Domingo (URU)     CRISTOPHE Henry (BEL)         REGO Gilberto (BRA)    201.0   1096.0                FRA                MEX\n",
       "1  1930.0  13 Jul 1930 - 15:00   Group 4  Parque Central  Montevideo             USA              3.0              0.0        Belgium                    18346.0                   2.0                   0.0       MACIAS Jose (ARG)  MATEUCCI Francisco (URU)       WARNKEN Alberto (CHI)    201.0   1090.0                USA                BEL\n",
       "2  1930.0  14 Jul 1930 - 12:45   Group 2  Parque Central  Montevideo      Yugoslavia              2.0              1.0         Brazil                    24059.0                   2.0                   0.0     TEJADA Anibal (URU)   VALLARINO Ricardo (URU)         BALWAY Thomas (FRA)    201.0   1093.0                YUG                BRA\n",
       "3  1930.0  14 Jul 1930 - 14:50   Group 3         Pocitos  Montevideo         Romania              3.0              1.0           Peru                     2549.0                   1.0                   0.0   WARNKEN Alberto (CHI)       LANGENUS Jean (BEL)    MATEUCCI Francisco (URU)    201.0   1098.0                ROU                PER\n",
       "4  1930.0  15 Jul 1930 - 16:00   Group 1  Parque Central  Montevideo       Argentina              1.0              0.0         France                    23409.0                   0.0                   0.0     REGO Gilberto (BRA)      SAUCEDO Ulises (BOL)  RADULESCU Constantin (ROU)    201.0   1085.0                ARG                FRA"
      ]
     },
     "execution_count": 89,
     "metadata": {},
     "output_type": "execute_result"
    }
   ],
   "source": [
    "match.head()"
   ]
  },
  {
   "cell_type": "code",
   "execution_count": 22,
   "id": "ef8136dc",
   "metadata": {
    "ExecuteTime": {
     "end_time": "2021-09-25T03:23:31.326771Z",
     "start_time": "2021-09-25T03:23:31.313765Z"
    }
   },
   "outputs": [
    {
     "data": {
      "text/plain": [
       "array(['France', 'USA', 'Yugoslavia', 'Romania', 'Argentina', 'Chile',\n",
       "       'Uruguay', 'Brazil', 'Paraguay', 'Austria', 'Hungary',\n",
       "       'Switzerland', 'Sweden', 'Germany', 'Spain', 'Italy',\n",
       "       'Czechoslovakia', 'Cuba', 'England', 'Germany FR', 'Turkey',\n",
       "       'Soviet Union', 'Northern Ireland', 'Mexico', 'Wales', 'Portugal',\n",
       "       'Korea DPR', 'Peru', 'Belgium', 'Bulgaria', 'German DR', 'Zaire',\n",
       "       'Poland', 'Australia', 'Scotland', 'Netherlands', 'Haiti',\n",
       "       'Tunisia', 'Algeria', 'Honduras', 'Canada', 'Morocco',\n",
       "       'Korea Republic', 'Iraq', 'Denmark', 'rn\">United Arab Emirates',\n",
       "       'Costa Rica', 'Cameroon', 'rn\">Republic of Ireland', 'Colombia',\n",
       "       'Norway', 'Nigeria', 'Saudi Arabia', 'Bolivia', 'Russia', 'Greece',\n",
       "       'Jamaica', 'South Africa', 'Japan', 'Croatia', 'China PR',\n",
       "       'Senegal', 'Slovenia', 'Ecuador', 'rn\">Trinidad and Tobago',\n",
       "       'rn\">Serbia and Montenegro', 'Angola', 'Czech Republic', 'Togo',\n",
       "       'Iran', \"C�te d'Ivoire\", 'Ghana', 'Ukraine', 'Serbia',\n",
       "       'New Zealand', 'Slovakia', 'IR Iran', 'rn\">Bosnia and Herzegovina',\n",
       "       nan], dtype=object)"
      ]
     },
     "execution_count": 22,
     "metadata": {},
     "output_type": "execute_result"
    }
   ],
   "source": [
    "match['Home Team Name'].unique()"
   ]
  },
  {
   "cell_type": "code",
   "execution_count": 91,
   "id": "07e5718c",
   "metadata": {
    "ExecuteTime": {
     "end_time": "2021-09-25T04:38:22.332262Z",
     "start_time": "2021-09-25T04:38:22.287238Z"
    }
   },
   "outputs": [
    {
     "data": {
      "text/html": [
       "<div>\n",
       "<style scoped>\n",
       "    .dataframe tbody tr th:only-of-type {\n",
       "        vertical-align: middle;\n",
       "    }\n",
       "\n",
       "    .dataframe tbody tr th {\n",
       "        vertical-align: top;\n",
       "    }\n",
       "\n",
       "    .dataframe thead th {\n",
       "        text-align: right;\n",
       "    }\n",
       "</style>\n",
       "<table border=\"1\" class=\"dataframe\">\n",
       "  <thead>\n",
       "    <tr style=\"text-align: right;\">\n",
       "      <th></th>\n",
       "      <th>Year</th>\n",
       "      <th>Datetime</th>\n",
       "      <th>Stage</th>\n",
       "      <th>Stadium</th>\n",
       "      <th>City</th>\n",
       "      <th>Home Team Name</th>\n",
       "      <th>Home Team Goals</th>\n",
       "      <th>Away Team Goals</th>\n",
       "      <th>Away Team Name</th>\n",
       "      <th>Win conditions</th>\n",
       "      <th>Attendance</th>\n",
       "      <th>Half-time Home Goals</th>\n",
       "      <th>Half-time Away Goals</th>\n",
       "      <th>Referee</th>\n",
       "      <th>Assistant 1</th>\n",
       "      <th>Assistant 2</th>\n",
       "      <th>RoundID</th>\n",
       "      <th>MatchID</th>\n",
       "      <th>Home Team Initials</th>\n",
       "      <th>Away Team Initials</th>\n",
       "    </tr>\n",
       "  </thead>\n",
       "  <tbody>\n",
       "    <tr>\n",
       "      <th>0</th>\n",
       "      <td>1930.0</td>\n",
       "      <td>13 Jul 1930 - 15:00</td>\n",
       "      <td>Group 1</td>\n",
       "      <td>Pocitos</td>\n",
       "      <td>Montevideo</td>\n",
       "      <td>France</td>\n",
       "      <td>4.0</td>\n",
       "      <td>1.0</td>\n",
       "      <td>Mexico</td>\n",
       "      <td></td>\n",
       "      <td>4444.0</td>\n",
       "      <td>3.0</td>\n",
       "      <td>0.0</td>\n",
       "      <td>LOMBARDI Domingo (URU)</td>\n",
       "      <td>CRISTOPHE Henry (BEL)</td>\n",
       "      <td>REGO Gilberto (BRA)</td>\n",
       "      <td>201.0</td>\n",
       "      <td>1096.0</td>\n",
       "      <td>FRA</td>\n",
       "      <td>MEX</td>\n",
       "    </tr>\n",
       "    <tr>\n",
       "      <th>1</th>\n",
       "      <td>1930.0</td>\n",
       "      <td>13 Jul 1930 - 15:00</td>\n",
       "      <td>Group 4</td>\n",
       "      <td>Parque Central</td>\n",
       "      <td>Montevideo</td>\n",
       "      <td>USA</td>\n",
       "      <td>3.0</td>\n",
       "      <td>0.0</td>\n",
       "      <td>Belgium</td>\n",
       "      <td></td>\n",
       "      <td>18346.0</td>\n",
       "      <td>2.0</td>\n",
       "      <td>0.0</td>\n",
       "      <td>MACIAS Jose (ARG)</td>\n",
       "      <td>MATEUCCI Francisco (URU)</td>\n",
       "      <td>WARNKEN Alberto (CHI)</td>\n",
       "      <td>201.0</td>\n",
       "      <td>1090.0</td>\n",
       "      <td>USA</td>\n",
       "      <td>BEL</td>\n",
       "    </tr>\n",
       "    <tr>\n",
       "      <th>2</th>\n",
       "      <td>1930.0</td>\n",
       "      <td>14 Jul 1930 - 12:45</td>\n",
       "      <td>Group 2</td>\n",
       "      <td>Parque Central</td>\n",
       "      <td>Montevideo</td>\n",
       "      <td>Yugoslavia</td>\n",
       "      <td>2.0</td>\n",
       "      <td>1.0</td>\n",
       "      <td>Brazil</td>\n",
       "      <td></td>\n",
       "      <td>24059.0</td>\n",
       "      <td>2.0</td>\n",
       "      <td>0.0</td>\n",
       "      <td>TEJADA Anibal (URU)</td>\n",
       "      <td>VALLARINO Ricardo (URU)</td>\n",
       "      <td>BALWAY Thomas (FRA)</td>\n",
       "      <td>201.0</td>\n",
       "      <td>1093.0</td>\n",
       "      <td>YUG</td>\n",
       "      <td>BRA</td>\n",
       "    </tr>\n",
       "    <tr>\n",
       "      <th>3</th>\n",
       "      <td>1930.0</td>\n",
       "      <td>14 Jul 1930 - 14:50</td>\n",
       "      <td>Group 3</td>\n",
       "      <td>Pocitos</td>\n",
       "      <td>Montevideo</td>\n",
       "      <td>Romania</td>\n",
       "      <td>3.0</td>\n",
       "      <td>1.0</td>\n",
       "      <td>Peru</td>\n",
       "      <td></td>\n",
       "      <td>2549.0</td>\n",
       "      <td>1.0</td>\n",
       "      <td>0.0</td>\n",
       "      <td>WARNKEN Alberto (CHI)</td>\n",
       "      <td>LANGENUS Jean (BEL)</td>\n",
       "      <td>MATEUCCI Francisco (URU)</td>\n",
       "      <td>201.0</td>\n",
       "      <td>1098.0</td>\n",
       "      <td>ROU</td>\n",
       "      <td>PER</td>\n",
       "    </tr>\n",
       "    <tr>\n",
       "      <th>4</th>\n",
       "      <td>1930.0</td>\n",
       "      <td>15 Jul 1930 - 16:00</td>\n",
       "      <td>Group 1</td>\n",
       "      <td>Parque Central</td>\n",
       "      <td>Montevideo</td>\n",
       "      <td>Argentina</td>\n",
       "      <td>1.0</td>\n",
       "      <td>0.0</td>\n",
       "      <td>France</td>\n",
       "      <td></td>\n",
       "      <td>23409.0</td>\n",
       "      <td>0.0</td>\n",
       "      <td>0.0</td>\n",
       "      <td>REGO Gilberto (BRA)</td>\n",
       "      <td>SAUCEDO Ulises (BOL)</td>\n",
       "      <td>RADULESCU Constantin (ROU)</td>\n",
       "      <td>201.0</td>\n",
       "      <td>1085.0</td>\n",
       "      <td>ARG</td>\n",
       "      <td>FRA</td>\n",
       "    </tr>\n",
       "  </tbody>\n",
       "</table>\n",
       "</div>"
      ],
      "text/plain": [
       "     Year              Datetime    Stage         Stadium         City Home Team Name  Home Team Goals  Away Team Goals Away Team Name Win conditions  Attendance  Half-time Home Goals  Half-time Away Goals                 Referee               Assistant 1                 Assistant 2  RoundID  MatchID Home Team Initials Away Team Initials\n",
       "0  1930.0  13 Jul 1930 - 15:00   Group 1         Pocitos  Montevideo          France              4.0              1.0         Mexico                     4444.0                   3.0                   0.0  LOMBARDI Domingo (URU)     CRISTOPHE Henry (BEL)         REGO Gilberto (BRA)    201.0   1096.0                FRA                MEX\n",
       "1  1930.0  13 Jul 1930 - 15:00   Group 4  Parque Central  Montevideo             USA              3.0              0.0        Belgium                    18346.0                   2.0                   0.0       MACIAS Jose (ARG)  MATEUCCI Francisco (URU)       WARNKEN Alberto (CHI)    201.0   1090.0                USA                BEL\n",
       "2  1930.0  14 Jul 1930 - 12:45   Group 2  Parque Central  Montevideo      Yugoslavia              2.0              1.0         Brazil                    24059.0                   2.0                   0.0     TEJADA Anibal (URU)   VALLARINO Ricardo (URU)         BALWAY Thomas (FRA)    201.0   1093.0                YUG                BRA\n",
       "3  1930.0  14 Jul 1930 - 14:50   Group 3         Pocitos  Montevideo         Romania              3.0              1.0           Peru                     2549.0                   1.0                   0.0   WARNKEN Alberto (CHI)       LANGENUS Jean (BEL)    MATEUCCI Francisco (URU)    201.0   1098.0                ROU                PER\n",
       "4  1930.0  15 Jul 1930 - 16:00   Group 1  Parque Central  Montevideo       Argentina              1.0              0.0         France                    23409.0                   0.0                   0.0     REGO Gilberto (BRA)      SAUCEDO Ulises (BOL)  RADULESCU Constantin (ROU)    201.0   1085.0                ARG                FRA"
      ]
     },
     "execution_count": 91,
     "metadata": {},
     "output_type": "execute_result"
    }
   ],
   "source": [
    "match = match.dropna()\n",
    "match.head()"
   ]
  },
  {
   "cell_type": "code",
   "execution_count": 38,
   "id": "48687a76",
   "metadata": {
    "ExecuteTime": {
     "end_time": "2021-09-25T03:41:51.207285Z",
     "start_time": "2021-09-25T03:41:51.183338Z"
    }
   },
   "outputs": [
    {
     "data": {
      "text/plain": [
       "Year                    0\n",
       "Datetime                0\n",
       "Stage                   0\n",
       "Stadium                 0\n",
       "City                    0\n",
       "Home Team Name          0\n",
       "Home Team Goals         0\n",
       "Away Team Goals         0\n",
       "Away Team Name          0\n",
       "Win conditions          0\n",
       "Attendance              0\n",
       "Half-time Home Goals    0\n",
       "Half-time Away Goals    0\n",
       "Referee                 0\n",
       "Assistant 1             0\n",
       "Assistant 2             0\n",
       "RoundID                 0\n",
       "MatchID                 0\n",
       "Home Team Initials      0\n",
       "Away Team Initials      0\n",
       "dtype: int64"
      ]
     },
     "execution_count": 38,
     "metadata": {},
     "output_type": "execute_result"
    }
   ],
   "source": [
    "match.isnull().sum()"
   ]
  },
  {
   "cell_type": "code",
   "execution_count": 92,
   "id": "d5933ce8",
   "metadata": {
    "ExecuteTime": {
     "end_time": "2021-09-25T04:38:23.582619Z",
     "start_time": "2021-09-25T04:38:23.559577Z"
    }
   },
   "outputs": [
    {
     "data": {
      "text/plain": [
       "rn\">Republic of Ireland       5\n",
       "rn\">Serbia and Montenegro     1\n",
       "rn\">Bosnia and Herzegovina    1\n",
       "rn\">United Arab Emirates      1\n",
       "rn\">Trinidad and Tobago       1\n",
       "Name: Home Team Name, dtype: int64"
      ]
     },
     "execution_count": 92,
     "metadata": {},
     "output_type": "execute_result"
    }
   ],
   "source": [
    "match[match['Home Team Name'].str.contains('rn\">')]['Home Team Name'].value_counts()"
   ]
  },
  {
   "cell_type": "code",
   "execution_count": 93,
   "id": "d6a21f72",
   "metadata": {
    "ExecuteTime": {
     "end_time": "2021-09-25T04:38:24.535937Z",
     "start_time": "2021-09-25T04:38:24.523907Z"
    }
   },
   "outputs": [],
   "source": [
    "match = match.replace('Germany FR', 'Germany').replace(\"C�te d'Ivoire\", \"Côte d'Ivoire\")"
   ]
  },
  {
   "cell_type": "code",
   "execution_count": 94,
   "id": "2c915026",
   "metadata": {
    "ExecuteTime": {
     "end_time": "2021-09-25T04:38:25.303244Z",
     "start_time": "2021-09-25T04:38:25.255677Z"
    }
   },
   "outputs": [],
   "source": [
    "match = match.replace('Germany FR', 'Germany').replace(\"C�te d'Ivoire\", \"Côte d'Ivoire\")\n",
    "match = match.replace('rn”>Bosnia and Herzegovina', 'Bosnia and Herzegovina').replace('rn”>Serbia and Montenegro','Serbia and Montenegro')\n",
    "match = match.replace('rn”>Trinidad and Tobago', 'Trinidad and Tobago').replace('rn”>United Arab Emirates', 'United Arab Emirates')\n",
    "match = match.replace('Soviet Union', 'Russia')\n",
    "\n",
    "\n",
    "match = match.drop_duplicates()\n",
    "\n",
    "dupli = match.duplicated()"
   ]
  },
  {
   "cell_type": "code",
   "execution_count": 95,
   "id": "0c0269ca",
   "metadata": {
    "ExecuteTime": {
     "end_time": "2021-09-25T04:38:25.993219Z",
     "start_time": "2021-09-25T04:38:25.975227Z"
    }
   },
   "outputs": [
    {
     "data": {
      "text/plain": [
       "0"
      ]
     },
     "execution_count": 95,
     "metadata": {},
     "output_type": "execute_result"
    }
   ],
   "source": [
    "dupli = worldcup.duplicated()\n",
    "len(dupli[dupli==True])"
   ]
  },
  {
   "cell_type": "code",
   "execution_count": 96,
   "id": "7ef44cf4",
   "metadata": {
    "ExecuteTime": {
     "end_time": "2021-09-25T04:38:26.872325Z",
     "start_time": "2021-09-25T04:38:26.855254Z"
    }
   },
   "outputs": [
    {
     "data": {
      "text/plain": [
       "array(['France', 'USA', 'Yugoslavia', 'Romania', 'Argentina', 'Chile',\n",
       "       'Uruguay', 'Brazil', 'Paraguay', 'Austria', 'Hungary',\n",
       "       'Switzerland', 'Sweden', 'Germany', 'Spain', 'Italy',\n",
       "       'Czechoslovakia', 'Cuba', 'England', 'Turkey', 'Russia',\n",
       "       'Northern Ireland', 'Mexico', 'Wales', 'Portugal', 'Korea DPR',\n",
       "       'Peru', 'Belgium', 'Bulgaria', 'German DR', 'Zaire', 'Poland',\n",
       "       'Australia', 'Scotland', 'Netherlands', 'Haiti', 'Tunisia',\n",
       "       'Algeria', 'Honduras', 'Canada', 'Morocco', 'Korea Republic',\n",
       "       'Iraq', 'Denmark', 'rn\">United Arab Emirates', 'Costa Rica',\n",
       "       'Cameroon', 'rn\">Republic of Ireland', 'Colombia', 'Norway',\n",
       "       'Nigeria', 'Saudi Arabia', 'Bolivia', 'Greece', 'Jamaica',\n",
       "       'South Africa', 'Japan', 'Croatia', 'China PR', 'Senegal',\n",
       "       'Slovenia', 'Ecuador', 'rn\">Trinidad and Tobago',\n",
       "       'rn\">Serbia and Montenegro', 'Angola', 'Czech Republic', 'Togo',\n",
       "       'Iran', \"Côte d'Ivoire\", 'Ghana', 'Ukraine', 'Serbia',\n",
       "       'New Zealand', 'Slovakia', 'IR Iran', 'rn\">Bosnia and Herzegovina'],\n",
       "      dtype=object)"
      ]
     },
     "execution_count": 96,
     "metadata": {},
     "output_type": "execute_result"
    }
   ],
   "source": [
    "match['Home Team Name'].unique()"
   ]
  },
  {
   "cell_type": "code",
   "execution_count": 49,
   "id": "ace53e69",
   "metadata": {
    "ExecuteTime": {
     "end_time": "2021-09-25T03:59:58.326878Z",
     "start_time": "2021-09-25T03:59:58.314843Z"
    }
   },
   "outputs": [
    {
     "data": {
      "text/plain": [
       "'\\nnames = match[match[\\'Home Team Name\\'].str.contains(\\'rn\">\\')][\\'Home Team Name\\'].value_counts()\\nnames\\n\\nwrong = list(names.index)\\nwrong\\n\\ncorrect = [name.split(\\'>\\')[1] for name in wrong]\\ncorrect\\n\\nold_name = [\\'Germany FR\\', \\'Maracan� - Est�dio Jornalista M�rio Filho\\', \\'Estadio do Maracana\\']\\nnew_name = [\\'Germany\\', \\'Maracan Stadium\\', \\'Maracan Stadium\\']\\n\\nwrong = wrong + old_name\\ncorrect = correct + new_name\\n\\nfor index, wr in enumerate(wrong):\\n    print(index, wr)\\n    \\n    \\nfor index, wr in enumerate(wrong):\\n    match = match.replace(wrong[index], correct[index])\\n\\n'"
      ]
     },
     "execution_count": 49,
     "metadata": {},
     "output_type": "execute_result"
    }
   ],
   "source": [
    "'''\n",
    "names = match[match['Home Team Name'].str.contains('rn\">')]['Home Team Name'].value_counts()\n",
    "names\n",
    "\n",
    "wrong = list(names.index)\n",
    "wrong\n",
    "\n",
    "correct = [name.split('>')[1] for name in wrong]\n",
    "correct\n",
    "\n",
    "old_name = ['Germany FR', 'Maracan� - Est�dio Jornalista M�rio Filho', 'Estadio do Maracana']\n",
    "new_name = ['Germany', 'Maracan Stadium', 'Maracan Stadium']\n",
    "\n",
    "wrong = wrong + old_name\n",
    "correct = correct + new_name\n",
    "\n",
    "for index, wr in enumerate(wrong):\n",
    "    print(index, wr)\n",
    "    \n",
    "    \n",
    "for index, wr in enumerate(wrong):\n",
    "    match = match.replace(wrong[index], correct[index])\n",
    "\n",
    "'''"
   ]
  },
  {
   "cell_type": "markdown",
   "id": "36c27ee6",
   "metadata": {
    "ExecuteTime": {
     "end_time": "2021-09-25T04:01:23.839049Z",
     "start_time": "2021-09-25T04:01:23.824101Z"
    }
   },
   "source": [
    "### 국가별 득점수"
   ]
  },
  {
   "cell_type": "code",
   "execution_count": 57,
   "id": "29916a31",
   "metadata": {
    "ExecuteTime": {
     "end_time": "2021-09-25T04:07:42.853094Z",
     "start_time": "2021-09-25T04:07:42.833246Z"
    }
   },
   "outputs": [],
   "source": [
    "home = match.groupby(['Home Team Name'])['Home Team Goals'].sum()\n",
    "away = match.groupby(['Away Team Name'])['Away Team Goals'].sum()"
   ]
  },
  {
   "cell_type": "code",
   "execution_count": 60,
   "id": "13f2c7da",
   "metadata": {
    "ExecuteTime": {
     "end_time": "2021-09-25T04:08:14.112286Z",
     "start_time": "2021-09-25T04:08:14.094328Z"
    }
   },
   "outputs": [
    {
     "name": "stdout",
     "output_type": "stream",
     "text": [
      "Germany                       222\n",
      "Brazil                        221\n",
      "Argentina                     131\n",
      "Italy                         128\n",
      "France                        106\n",
      "Spain                          92\n",
      "Hungary                        87\n",
      "Netherlands                    86\n",
      "Uruguay                        80\n",
      "England                        79\n",
      "Sweden                         74\n",
      "Russia                         66\n",
      "Yugoslavia                     60\n",
      "Mexico                         57\n",
      "Belgium                        52\n",
      "Switzerland                    45\n",
      "Poland                         44\n",
      "Czechoslovakia                 44\n",
      "Portugal                       43\n",
      "Austria                        43\n",
      "Chile                          40\n",
      "USA                            37\n",
      "Korea Republic                 31\n",
      "Paraguay                       30\n",
      "Romania                        30\n",
      "Denmark                        27\n",
      "Colombia                       26\n",
      "Scotland                       25\n",
      "Bulgaria                       22\n",
      "Croatia                        21\n",
      "Turkey                         20\n",
      "Nigeria                        20\n",
      "Peru                           19\n",
      "Cameroon                       18\n",
      "Costa Rica                     17\n",
      "Japan                          14\n",
      "Côte d'Ivoire                  13\n",
      "Ghana                          13\n",
      "Northern Ireland               13\n",
      "Morocco                        12\n",
      "Algeria                        12\n",
      "Australia                      11\n",
      "South Africa                   11\n",
      "rn\">Republic of Ireland        10\n",
      "Ecuador                        10\n",
      "Saudi Arabia                    9\n",
      "Tunisia                         8\n",
      "Norway                          7\n",
      "Senegal                         7\n",
      "Korea DPR                       6\n",
      "German DR                       5\n",
      "Ukraine                         5\n",
      "Cuba                            5\n",
      "Slovenia                        5\n",
      "Slovakia                        5\n",
      "Greece                          5\n",
      "Iran                            5\n",
      "New Zealand                     4\n",
      "rn\">Bosnia and Herzegovina      4\n",
      "Wales                           4\n",
      "Honduras                        3\n",
      "Czech Republic                  3\n",
      "Egypt                           3\n",
      "Jamaica                         3\n",
      "rn\">United Arab Emirates        2\n",
      "Haiti                           2\n",
      "Serbia                          2\n",
      "rn\">Serbia and Montenegro       2\n",
      "IR Iran                         2\n",
      "Kuwait                          2\n",
      "Bolivia                         1\n",
      "El Salvador                     1\n",
      "Israel                          1\n",
      "Togo                            1\n",
      "Angola                          1\n",
      "Iraq                            1\n",
      "Canada                          0\n",
      "China PR                        0\n",
      "Zaire                           0\n",
      "Dutch East Indies               0\n",
      "rn\">Trinidad and Tobago         0\n",
      "Name: Goals, dtype: int32\n"
     ]
    }
   ],
   "source": [
    "goal_per_country = pd.concat([home, away], axis=1, sort=True).fillna(0)\n",
    "goal_per_country['Goals'] = goal_per_country['Home Team Goals'] + goal_per_country['Away Team Goals']\n",
    "goal_per_country = goal_per_country['Goals'].sort_values(ascending=False)\n",
    "\n",
    "goal_per_country = goal_per_country.astype(int)\n",
    "print(goal_per_country)"
   ]
  },
  {
   "cell_type": "markdown",
   "id": "bbe0473d",
   "metadata": {},
   "source": [
    "### 국가별 득점수 그래프"
   ]
  },
  {
   "cell_type": "code",
   "execution_count": 61,
   "id": "779e07ba",
   "metadata": {
    "ExecuteTime": {
     "end_time": "2021-09-25T04:08:45.466722Z",
     "start_time": "2021-09-25T04:08:45.449726Z"
    }
   },
   "outputs": [],
   "source": [
    "goal_per_country = goal_per_country[:10]"
   ]
  },
  {
   "cell_type": "code",
   "execution_count": 62,
   "id": "aa48279f",
   "metadata": {
    "ExecuteTime": {
     "end_time": "2021-09-25T04:09:23.584945Z",
     "start_time": "2021-09-25T04:09:23.574949Z"
    }
   },
   "outputs": [],
   "source": [
    "# x, y값 저장\n",
    "x = goal_per_country.index\n",
    "y = goal_per_country.values"
   ]
  },
  {
   "cell_type": "code",
   "execution_count": 69,
   "id": "ac9cb559",
   "metadata": {
    "ExecuteTime": {
     "end_time": "2021-09-25T04:14:18.181453Z",
     "start_time": "2021-09-25T04:14:17.919372Z"
    }
   },
   "outputs": [
    {
     "data": {
      "image/png": "[encoded data removed]",
      "text/plain": [
       "<Figure size 432x288 with 1 Axes>"
      ]
     },
     "metadata": {
      "needs_background": "light"
     },
     "output_type": "display_data"
    }
   ],
   "source": [
    "#그래프 그리기\n",
    "fig, ax = plt.subplots()\n",
    "ax.bar(x, y, width = 0.5)\n",
    "# x축 항목 이름 지정, 30도 회전\n",
    "plt.xticks(x, rotation=30)\n",
    "plt.tight_layout()\n",
    "\n",
    "#그래프 출력\n",
    "plt.savefig(\"image.svg\", format=\"svg\")"
   ]
  },
  {
   "cell_type": "markdown",
   "id": "d4a7e886",
   "metadata": {
    "ExecuteTime": {
     "end_time": "2021-09-25T04:14:36.858308Z",
     "start_time": "2021-09-25T04:14:36.848291Z"
    }
   },
   "source": [
    "### 2014 월드컵 다득점 국가 순위"
   ]
  },
  {
   "cell_type": "code",
   "execution_count": 98,
   "id": "9d6ed3e4",
   "metadata": {
    "ExecuteTime": {
     "end_time": "2021-09-25T04:39:19.156738Z",
     "start_time": "2021-09-25T04:39:19.127011Z"
    }
   },
   "outputs": [
    {
     "data": {
      "text/html": [
       "<div>\n",
       "<style scoped>\n",
       "    .dataframe tbody tr th:only-of-type {\n",
       "        vertical-align: middle;\n",
       "    }\n",
       "\n",
       "    .dataframe tbody tr th {\n",
       "        vertical-align: top;\n",
       "    }\n",
       "\n",
       "    .dataframe thead th {\n",
       "        text-align: right;\n",
       "    }\n",
       "</style>\n",
       "<table border=\"1\" class=\"dataframe\">\n",
       "  <thead>\n",
       "    <tr style=\"text-align: right;\">\n",
       "      <th></th>\n",
       "      <th>Year</th>\n",
       "      <th>Datetime</th>\n",
       "      <th>Stage</th>\n",
       "      <th>Stadium</th>\n",
       "      <th>City</th>\n",
       "      <th>Home Team Name</th>\n",
       "      <th>Home Team Goals</th>\n",
       "      <th>Away Team Goals</th>\n",
       "      <th>Away Team Name</th>\n",
       "      <th>Win conditions</th>\n",
       "      <th>Attendance</th>\n",
       "      <th>Half-time Home Goals</th>\n",
       "      <th>Half-time Away Goals</th>\n",
       "      <th>Referee</th>\n",
       "      <th>Assistant 1</th>\n",
       "      <th>Assistant 2</th>\n",
       "      <th>RoundID</th>\n",
       "      <th>MatchID</th>\n",
       "      <th>Home Team Initials</th>\n",
       "      <th>Away Team Initials</th>\n",
       "    </tr>\n",
       "  </thead>\n",
       "  <tbody>\n",
       "    <tr>\n",
       "      <th>772</th>\n",
       "      <td>2014.0</td>\n",
       "      <td>12 Jun 2014 - 17:00</td>\n",
       "      <td>Group A</td>\n",
       "      <td>Arena de Sao Paulo</td>\n",
       "      <td>Sao Paulo</td>\n",
       "      <td>Brazil</td>\n",
       "      <td>3.0</td>\n",
       "      <td>1.0</td>\n",
       "      <td>Croatia</td>\n",
       "      <td></td>\n",
       "      <td>62103.0</td>\n",
       "      <td>1.0</td>\n",
       "      <td>1.0</td>\n",
       "      <td>NISHIMURA Yuichi (JPN)</td>\n",
       "      <td>SAGARA Toru (JPN)</td>\n",
       "      <td>NAGI Toshiyuki (JPN)</td>\n",
       "      <td>255931.0</td>\n",
       "      <td>300186456.0</td>\n",
       "      <td>BRA</td>\n",
       "      <td>CRO</td>\n",
       "    </tr>\n",
       "    <tr>\n",
       "      <th>773</th>\n",
       "      <td>2014.0</td>\n",
       "      <td>13 Jun 2014 - 13:00</td>\n",
       "      <td>Group A</td>\n",
       "      <td>Estadio das Dunas</td>\n",
       "      <td>Natal</td>\n",
       "      <td>Mexico</td>\n",
       "      <td>1.0</td>\n",
       "      <td>0.0</td>\n",
       "      <td>Cameroon</td>\n",
       "      <td></td>\n",
       "      <td>39216.0</td>\n",
       "      <td>0.0</td>\n",
       "      <td>0.0</td>\n",
       "      <td>ROLDAN Wilmar (COL)</td>\n",
       "      <td>CLAVIJO Humberto (COL)</td>\n",
       "      <td>DIAZ Eduardo (COL)</td>\n",
       "      <td>255931.0</td>\n",
       "      <td>300186492.0</td>\n",
       "      <td>MEX</td>\n",
       "      <td>CMR</td>\n",
       "    </tr>\n",
       "  </tbody>\n",
       "</table>\n",
       "</div>"
      ],
      "text/plain": [
       "       Year              Datetime    Stage             Stadium        City Home Team Name  Home Team Goals  Away Team Goals Away Team Name Win conditions  Attendance  Half-time Home Goals  Half-time Away Goals                 Referee             Assistant 1           Assistant 2   RoundID      MatchID Home Team Initials Away Team Initials\n",
       "772  2014.0  12 Jun 2014 - 17:00   Group A  Arena de Sao Paulo  Sao Paulo          Brazil              3.0              1.0        Croatia                    62103.0                   1.0                   1.0  NISHIMURA Yuichi (JPN)       SAGARA Toru (JPN)  NAGI Toshiyuki (JPN)  255931.0  300186456.0                BRA                CRO\n",
       "773  2014.0  13 Jun 2014 - 13:00   Group A   Estadio das Dunas      Natal          Mexico              1.0              0.0       Cameroon                    39216.0                   0.0                   0.0     ROLDAN Wilmar (COL)  CLAVIJO Humberto (COL)    DIAZ Eduardo (COL)  255931.0  300186492.0                MEX                CMR"
      ]
     },
     "execution_count": 98,
     "metadata": {},
     "output_type": "execute_result"
    }
   ],
   "source": [
    "match2014 = match[match['Year'] == 2014]\n",
    "match2014.head(2)"
   ]
  },
  {
   "cell_type": "code",
   "execution_count": 99,
   "id": "1383f6fa",
   "metadata": {
    "ExecuteTime": {
     "end_time": "2021-09-25T04:40:10.574453Z",
     "start_time": "2021-09-25T04:40:10.552916Z"
    }
   },
   "outputs": [
    {
     "name": "stdout",
     "output_type": "stream",
     "text": [
      "Germany                       16\n",
      "Netherlands                   15\n",
      "Colombia                      12\n",
      "Brazil                        11\n",
      "France                        10\n",
      "Argentina                      8\n",
      "Switzerland                    7\n",
      "Croatia                        6\n",
      "Algeria                        6\n",
      "Chile                          6\n",
      "Belgium                        6\n",
      "Mexico                         5\n",
      "USA                            5\n",
      "Costa Rica                     5\n",
      "Spain                          4\n",
      "Portugal                       4\n",
      "Uruguay                        4\n",
      "rn\">Bosnia and Herzegovina     4\n",
      "Ghana                          4\n",
      "Côte d'Ivoire                  4\n",
      "Korea Republic                 3\n",
      "Nigeria                        3\n",
      "Ecuador                        3\n",
      "Australia                      3\n",
      "Greece                         3\n",
      "Italy                          2\n",
      "Japan                          2\n",
      "England                        2\n",
      "Russia                         2\n",
      "IR Iran                        1\n",
      "Honduras                       1\n",
      "Cameroon                       1\n",
      "Name: goals, dtype: int32\n"
     ]
    }
   ],
   "source": [
    "home_team_goal = match2014.groupby('Home Team Name')['Home Team Goals'].sum()\n",
    "away_team_goal = match2014.groupby('Away Team Name')['Away Team Goals'].sum()\n",
    "\n",
    "team_goal_2014 = pd.concat([home_team_goal, away_team_goal], axis=1).fillna(0)\n",
    "team_goal_2014['goals'] = team_goal_2014['Home Team Goals'] + team_goal_2014['Away Team Goals'] \n",
    "team_goal_2014 = team_goal_2014.drop(columns = ['Home Team Goals', 'Away Team Goals'])\n",
    "\n",
    "team_goal_2014 = team_goal_2014.astype(int)\n",
    "team_goal_2014 = team_goal_2014['goals'].sort_values(ascending=False)\n",
    "\n",
    "print(team_goal_2014)"
   ]
  },
  {
   "cell_type": "markdown",
   "id": "7b75c449",
   "metadata": {
    "ExecuteTime": {
     "end_time": "2021-09-25T04:40:26.653182Z",
     "start_time": "2021-09-25T04:40:26.642013Z"
    }
   },
   "source": [
    "### 2014 월드컵 다득점 국가 순위 그래프"
   ]
  },
  {
   "cell_type": "code",
   "execution_count": 101,
   "id": "f28d5e8f",
   "metadata": {
    "ExecuteTime": {
     "end_time": "2021-09-25T04:40:48.500537Z",
     "start_time": "2021-09-25T04:40:47.965044Z"
    }
   },
   "outputs": [
    {
     "data": {
      "image/png": "[encoded data removed]",
      "text/plain": [
       "<Figure size 864x864 with 1 Axes>"
      ]
     },
     "metadata": {
      "needs_background": "light"
     },
     "output_type": "display_data"
    }
   ],
   "source": [
    "team_goal_2014.plot(x=team_goal_2014.index, \n",
    "                    y=team_goal_2014.values, \n",
    "                    kind=\"bar\", \n",
    "                    figsize=(12, 12), \n",
    "                    fontsize=14)\n",
    "\n",
    "# fig, ax = plt.subplots()\n",
    "# ax.bar(team_goal_2014.index, team_goal_2014.values)\n",
    "# plt.xticks(rotation = 90)\n",
    "# plt.tight_layout()\n",
    "\n",
    "plt.savefig(\"image.svg\", format=\"svg\")"
   ]
  },
  {
   "cell_type": "markdown",
   "id": "19f205d3",
   "metadata": {},
   "source": [
    "###  월드컵 4강 이상 성적 집계"
   ]
  },
  {
   "cell_type": "code",
   "execution_count": 102,
   "id": "99350fc0",
   "metadata": {
    "ExecuteTime": {
     "end_time": "2021-09-25T04:42:38.038825Z",
     "start_time": "2021-09-25T04:42:38.011303Z"
    }
   },
   "outputs": [],
   "source": [
    "world_cups = pd.read_csv(\"WorldCups.csv\")\n",
    "\n",
    "winner = world_cups['Winner']\n",
    "runners_up = world_cups['Runners-Up']\n",
    "third = world_cups['Third']\n",
    "fourth = world_cups['Fourth']"
   ]
  },
  {
   "cell_type": "code",
   "execution_count": 103,
   "id": "ea215a21",
   "metadata": {
    "ExecuteTime": {
     "end_time": "2021-09-25T04:42:38.981519Z",
     "start_time": "2021-09-25T04:42:38.956525Z"
    }
   },
   "outputs": [],
   "source": [
    "winner_count = pd.Series(winner.value_counts())\n",
    "runners_up_count = pd.Series(runners_up.value_counts())\n",
    "third_count = pd.Series(third.value_counts())\n",
    "fourth_count = pd.Series(fourth.value_counts())"
   ]
  },
  {
   "cell_type": "code",
   "execution_count": 104,
   "id": "023de6b6",
   "metadata": {
    "ExecuteTime": {
     "end_time": "2021-09-25T04:42:39.689358Z",
     "start_time": "2021-09-25T04:42:39.680356Z"
    }
   },
   "outputs": [],
   "source": [
    "ranks = pd.DataFrame({\n",
    "    'Winner': winner_count,\n",
    "    'Runners_Up': runners_up_count,\n",
    "    'Third': third_count,\n",
    "    'Fourth': fourth_count\n",
    "})"
   ]
  },
  {
   "cell_type": "code",
   "execution_count": 105,
   "id": "c95cb877",
   "metadata": {
    "ExecuteTime": {
     "end_time": "2021-09-25T04:42:40.446715Z",
     "start_time": "2021-09-25T04:42:40.415484Z"
    }
   },
   "outputs": [
    {
     "name": "stdout",
     "output_type": "stream",
     "text": [
      "                Winner  Runners_Up  Third  Fourth\n",
      "Brazil               5           2      2       2\n",
      "Italy                4           2      1       1\n",
      "Germany FR           3           3      1       1\n",
      "Argentina            2           3      0       0\n",
      "Uruguay              2           0      0       3\n",
      "Germany              1           1      3       0\n",
      "France               1           1      2       1\n",
      "England              1           0      0       1\n",
      "Spain                1           0      0       1\n",
      "Netherlands          0           3      1       1\n",
      "Czechoslovakia       0           2      0       0\n",
      "Hungary              0           2      0       0\n",
      "Sweden               0           1      2       1\n",
      "Poland               0           0      2       0\n",
      "Austria              0           0      1       1\n",
      "Portugal             0           0      1       1\n",
      "Chile                0           0      1       0\n",
      "Croatia              0           0      1       0\n",
      "Turkey               0           0      1       0\n",
      "USA                  0           0      1       0\n",
      "Yugoslavia           0           0      0       2\n",
      "Belgium              0           0      0       1\n",
      "Bulgaria             0           0      0       1\n",
      "Korea Republic       0           0      0       1\n",
      "Soviet Union         0           0      0       1\n"
     ]
    }
   ],
   "source": [
    "ranks = ranks.fillna(0).astype('int64')\n",
    "ranks = ranks.sort_values(['Winner','Runners_Up','Third','Fourth'], ascending=False)\n",
    "print(ranks)"
   ]
  },
  {
   "cell_type": "markdown",
   "id": "d4ae8f39",
   "metadata": {
    "ExecuteTime": {
     "end_time": "2021-09-25T04:42:55.874801Z",
     "start_time": "2021-09-25T04:42:55.857747Z"
    }
   },
   "source": [
    "### 월드컵 4강 이상 성적 집계 그래프"
   ]
  },
  {
   "cell_type": "code",
   "execution_count": 107,
   "id": "e3d4fec0",
   "metadata": {
    "ExecuteTime": {
     "end_time": "2021-09-25T04:44:46.670651Z",
     "start_time": "2021-09-25T04:44:46.113806Z"
    }
   },
   "outputs": [
    {
     "data": {
      "image/png": "[encoded data removed]",
      "text/plain": [
       "<Figure size 432x288 with 1 Axes>"
      ]
     },
     "metadata": {
      "needs_background": "light"
     },
     "output_type": "display_data"
    }
   ],
   "source": [
    "# x축에 그려질 막대그래프들의 위치\n",
    "x = np.array(list(range(0, len(ranks))))\n",
    "\n",
    "# 그래프\n",
    "fig, ax = plt.subplots()\n",
    "\n",
    "# x 위치에, 항목 이름으로 ranks.index(국가명)\n",
    "plt.xticks(x, ranks.index, rotation=90)\n",
    "plt.tight_layout()\n",
    "\n",
    "# 막대를 차례대로 그립니다.\n",
    "ax.bar(x - 0.3, ranks['Winner'],     color = 'gold',   width = 0.2, label = 'Winner')\n",
    "ax.bar(x - 0.1, ranks['Runners_Up'], color = 'silver', width = 0.2, label = 'Runners_Up')\n",
    "ax.bar(x + 0.1, ranks['Third'],      color = 'brown',  width = 0.2, label = 'Third')\n",
    "ax.bar(x + 0.3, ranks['Fourth'],     color = 'black',  width = 0.2, label = 'Fourth')\n",
    "\n",
    "\n",
    "\n",
    "plt.savefig(\"image.svg\", format=\"svg\")"
   ]
  },
  {
   "cell_type": "markdown",
   "id": "546497e8",
   "metadata": {},
   "source": [
    "---"
   ]
  }
 ],
 "metadata": {
  "hide_input": false,
  "kernelspec": {
   "display_name": "Python 3",
   "language": "python",
   "name": "python3"
  },
  "language_info": {
   "codemirror_mode": {
    "name": "ipython",
    "version": 3
   },
   "file_extension": ".py",
   "mimetype": "text/x-python",
   "name": "python",
   "nbconvert_exporter": "python",
   "pygments_lexer": "ipython3",
   "version": "3.8.8"
  },
  "toc": {
   "base_numbering": 1,
   "nav_menu": {},
   "number_sections": true,
   "sideBar": true,
   "skip_h1_title": false,
   "title_cell": "Table of Contents",
   "title_sidebar": "Contents",
   "toc_cell": false,
   "toc_position": {},
   "toc_section_display": true,
   "toc_window_display": false
  },
  "varInspector": {
   "cols": {
    "lenName": 16,
    "lenType": 16,
    "lenVar": 40
   },
   "kernels_config": {
    "python": {
     "delete_cmd_postfix": "",
     "delete_cmd_prefix": "del ",
     "library": "var_list.py",
     "varRefreshCmd": "print(var_dic_list())"
    },
    "r": {
     "delete_cmd_postfix": ") ",
     "delete_cmd_prefix": "rm(",
     "library": "var_list.r",
     "varRefreshCmd": "cat(var_dic_list()) "
    }
   },
   "types_to_exclude": [
    "module",
    "function",
    "builtin_function_or_method",
    "instance",
    "_Feature"
   ],
   "window_display": false
  }
 },
 "nbformat": 4,
 "nbformat_minor": 5
}
