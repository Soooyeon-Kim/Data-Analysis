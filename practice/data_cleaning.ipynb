{
 "cells": [
  {
   "cell_type": "markdown",
   "id": "f3ed3323",
   "metadata": {},
   "source": [
    "## Data cleaning"
   ]
  },
  {
   "cell_type": "markdown",
   "id": "02a044e2",
   "metadata": {},
   "source": [
    "### 중복 데이터 제거하기"
   ]
  },
  {
   "cell_type": "code",
   "execution_count": 1,
   "id": "880d7b5c",
   "metadata": {
    "ExecuteTime": {
     "end_time": "2021-12-15T10:00:51.513093Z",
     "start_time": "2021-12-15T10:00:49.783853Z"
    }
   },
   "outputs": [],
   "source": [
    "import pandas as pd"
   ]
  },
  {
   "cell_type": "code",
   "execution_count": 2,
   "id": "b7d4fb94",
   "metadata": {
    "ExecuteTime": {
     "end_time": "2021-12-15T10:01:19.499499Z",
     "start_time": "2021-12-15T10:01:19.393618Z"
    }
   },
   "outputs": [
    {
     "data": {
      "text/html": [
       "<div>\n",
       "<style scoped>\n",
       "    .dataframe tbody tr th:only-of-type {\n",
       "        vertical-align: middle;\n",
       "    }\n",
       "\n",
       "    .dataframe tbody tr th {\n",
       "        vertical-align: top;\n",
       "    }\n",
       "\n",
       "    .dataframe thead th {\n",
       "        text-align: right;\n",
       "    }\n",
       "</style>\n",
       "<table border=\"1\" class=\"dataframe\">\n",
       "  <thead>\n",
       "    <tr style=\"text-align: right;\">\n",
       "      <th></th>\n",
       "      <th>서울</th>\n",
       "      <th>부산</th>\n",
       "      <th>대구</th>\n",
       "      <th>인천</th>\n",
       "      <th>광주</th>\n",
       "      <th>대전</th>\n",
       "      <th>울산</th>\n",
       "      <th>경기</th>\n",
       "      <th>강원</th>\n",
       "      <th>충북</th>\n",
       "      <th>충남</th>\n",
       "      <th>전북</th>\n",
       "      <th>전남</th>\n",
       "      <th>세종</th>\n",
       "      <th>경북</th>\n",
       "      <th>경남</th>\n",
       "      <th>제주</th>\n",
       "      <th>강원.1</th>\n",
       "    </tr>\n",
       "    <tr>\n",
       "      <th>날짜</th>\n",
       "      <th></th>\n",
       "      <th></th>\n",
       "      <th></th>\n",
       "      <th></th>\n",
       "      <th></th>\n",
       "      <th></th>\n",
       "      <th></th>\n",
       "      <th></th>\n",
       "      <th></th>\n",
       "      <th></th>\n",
       "      <th></th>\n",
       "      <th></th>\n",
       "      <th></th>\n",
       "      <th></th>\n",
       "      <th></th>\n",
       "      <th></th>\n",
       "      <th></th>\n",
       "      <th></th>\n",
       "    </tr>\n",
       "  </thead>\n",
       "  <tbody>\n",
       "    <tr>\n",
       "      <th>08월 11일</th>\n",
       "      <td>7</td>\n",
       "      <td>17</td>\n",
       "      <td>15</td>\n",
       "      <td>10</td>\n",
       "      <td>29</td>\n",
       "      <td>12</td>\n",
       "      <td>12</td>\n",
       "      <td>9</td>\n",
       "      <td>16</td>\n",
       "      <td>14</td>\n",
       "      <td>16</td>\n",
       "      <td>25</td>\n",
       "      <td>21</td>\n",
       "      <td>11</td>\n",
       "      <td>14</td>\n",
       "      <td>24</td>\n",
       "      <td>21</td>\n",
       "      <td>16</td>\n",
       "    </tr>\n",
       "    <tr>\n",
       "      <th>08월 10일</th>\n",
       "      <td>15</td>\n",
       "      <td>25</td>\n",
       "      <td>15</td>\n",
       "      <td>20</td>\n",
       "      <td>28</td>\n",
       "      <td>25</td>\n",
       "      <td>17</td>\n",
       "      <td>20</td>\n",
       "      <td>16</td>\n",
       "      <td>25</td>\n",
       "      <td>29</td>\n",
       "      <td>29</td>\n",
       "      <td>25</td>\n",
       "      <td>27</td>\n",
       "      <td>14</td>\n",
       "      <td>29</td>\n",
       "      <td>23</td>\n",
       "      <td>16</td>\n",
       "    </tr>\n",
       "    <tr>\n",
       "      <th>08월 09일</th>\n",
       "      <td>24</td>\n",
       "      <td>26</td>\n",
       "      <td>26</td>\n",
       "      <td>27</td>\n",
       "      <td>27</td>\n",
       "      <td>27</td>\n",
       "      <td>22</td>\n",
       "      <td>27</td>\n",
       "      <td>25</td>\n",
       "      <td>32</td>\n",
       "      <td>24</td>\n",
       "      <td>24</td>\n",
       "      <td>27</td>\n",
       "      <td>26</td>\n",
       "      <td>25</td>\n",
       "      <td>38</td>\n",
       "      <td>25</td>\n",
       "      <td>25</td>\n",
       "    </tr>\n",
       "    <tr>\n",
       "      <th>08월 08일</th>\n",
       "      <td>26</td>\n",
       "      <td>25</td>\n",
       "      <td>28</td>\n",
       "      <td>26</td>\n",
       "      <td>29</td>\n",
       "      <td>31</td>\n",
       "      <td>20</td>\n",
       "      <td>26</td>\n",
       "      <td>29</td>\n",
       "      <td>33</td>\n",
       "      <td>26</td>\n",
       "      <td>29</td>\n",
       "      <td>31</td>\n",
       "      <td>31</td>\n",
       "      <td>28</td>\n",
       "      <td>32</td>\n",
       "      <td>27</td>\n",
       "      <td>29</td>\n",
       "    </tr>\n",
       "    <tr>\n",
       "      <th>08월 07일</th>\n",
       "      <td>20</td>\n",
       "      <td>26</td>\n",
       "      <td>22</td>\n",
       "      <td>25</td>\n",
       "      <td>33</td>\n",
       "      <td>24</td>\n",
       "      <td>18</td>\n",
       "      <td>23</td>\n",
       "      <td>18</td>\n",
       "      <td>23</td>\n",
       "      <td>29</td>\n",
       "      <td>33</td>\n",
       "      <td>29</td>\n",
       "      <td>27</td>\n",
       "      <td>19</td>\n",
       "      <td>28</td>\n",
       "      <td>26</td>\n",
       "      <td>18</td>\n",
       "    </tr>\n",
       "  </tbody>\n",
       "</table>\n",
       "</div>"
      ],
      "text/plain": [
       "         서울  부산  대구  인천  광주  대전  울산  경기  강원  충북  충남  전북  전남  세종  경북  경남  제주  \\\n",
       "날짜                                                                            \n",
       "08월 11일   7  17  15  10  29  12  12   9  16  14  16  25  21  11  14  24  21   \n",
       "08월 10일  15  25  15  20  28  25  17  20  16  25  29  29  25  27  14  29  23   \n",
       "08월 09일  24  26  26  27  27  27  22  27  25  32  24  24  27  26  25  38  25   \n",
       "08월 08일  26  25  28  26  29  31  20  26  29  33  26  29  31  31  28  32  27   \n",
       "08월 07일  20  26  22  25  33  24  18  23  18  23  29  33  29  27  19  28  26   \n",
       "\n",
       "         강원.1  \n",
       "날짜             \n",
       "08월 11일    16  \n",
       "08월 10일    16  \n",
       "08월 09일    25  \n",
       "08월 08일    29  \n",
       "08월 07일    18  "
      ]
     },
     "execution_count": 2,
     "metadata": {},
     "output_type": "execute_result"
    }
   ],
   "source": [
    "df = pd.read_csv('dust.csv', index_col=0)\n",
    "df.head()"
   ]
  },
  {
   "cell_type": "code",
   "execution_count": 3,
   "id": "d6032a82",
   "metadata": {
    "ExecuteTime": {
     "end_time": "2021-12-15T10:01:38.937332Z",
     "start_time": "2021-12-15T10:01:38.919764Z"
    }
   },
   "outputs": [
    {
     "data": {
      "text/plain": [
       "Index(['08월 11일', '08월 10일', '08월 09일', '08월 08일', '08월 07일', '08월 06일',\n",
       "       '08월 05일', '08월 04일', '08월 03일', '08월 02일', '08월 01일', '07월 31일',\n",
       "       '07월 31일', '07월 30일', '07월 29일', '07월 28일', '07월 27일', '07월 26일',\n",
       "       '07월 25일', '07월 24일', '07월 23일', '07월 22일', '07월 21일', '07월 20일',\n",
       "       '07월 19일', '07월 18일', '07월 17일', '07월 16일', '07월 15일', '07월 14일',\n",
       "       '07월 13일'],\n",
       "      dtype='object', name='날짜')"
      ]
     },
     "execution_count": 3,
     "metadata": {},
     "output_type": "execute_result"
    }
   ],
   "source": [
    "df.index"
   ]
  },
  {
   "cell_type": "markdown",
   "id": "0795041e",
   "metadata": {},
   "source": [
    "### 중복된 데이터 확인"
   ]
  },
  {
   "cell_type": "markdown",
   "id": "71ecac8a",
   "metadata": {},
   "source": [
    "행 데이터 중복"
   ]
  },
  {
   "cell_type": "code",
   "execution_count": 4,
   "id": "1f6fd84c",
   "metadata": {
    "ExecuteTime": {
     "end_time": "2021-12-15T10:02:01.429126Z",
     "start_time": "2021-12-15T10:02:01.410129Z"
    }
   },
   "outputs": [
    {
     "data": {
      "text/plain": [
       "07월 31일    2\n",
       "08월 04일    1\n",
       "08월 06일    1\n",
       "08월 02일    1\n",
       "08월 10일    1\n",
       "07월 30일    1\n",
       "07월 15일    1\n",
       "08월 07일    1\n",
       "07월 14일    1\n",
       "07월 28일    1\n",
       "08월 09일    1\n",
       "08월 01일    1\n",
       "07월 29일    1\n",
       "08월 08일    1\n",
       "08월 03일    1\n",
       "07월 18일    1\n",
       "07월 17일    1\n",
       "07월 25일    1\n",
       "07월 24일    1\n",
       "08월 11일    1\n",
       "07월 16일    1\n",
       "07월 19일    1\n",
       "07월 21일    1\n",
       "07월 20일    1\n",
       "07월 23일    1\n",
       "07월 22일    1\n",
       "07월 13일    1\n",
       "07월 26일    1\n",
       "08월 05일    1\n",
       "07월 27일    1\n",
       "Name: 날짜, dtype: int64"
      ]
     },
     "execution_count": 4,
     "metadata": {},
     "output_type": "execute_result"
    }
   ],
   "source": [
    "df.index.value_counts()"
   ]
  },
  {
   "cell_type": "code",
   "execution_count": 6,
   "id": "1ca280f0",
   "metadata": {
    "ExecuteTime": {
     "end_time": "2021-12-15T10:02:33.871735Z",
     "start_time": "2021-12-15T10:02:33.834682Z"
    }
   },
   "outputs": [
    {
     "data": {
      "text/html": [
       "<div>\n",
       "<style scoped>\n",
       "    .dataframe tbody tr th:only-of-type {\n",
       "        vertical-align: middle;\n",
       "    }\n",
       "\n",
       "    .dataframe tbody tr th {\n",
       "        vertical-align: top;\n",
       "    }\n",
       "\n",
       "    .dataframe thead th {\n",
       "        text-align: right;\n",
       "    }\n",
       "</style>\n",
       "<table border=\"1\" class=\"dataframe\">\n",
       "  <thead>\n",
       "    <tr style=\"text-align: right;\">\n",
       "      <th></th>\n",
       "      <th>서울</th>\n",
       "      <th>부산</th>\n",
       "      <th>대구</th>\n",
       "      <th>인천</th>\n",
       "      <th>광주</th>\n",
       "      <th>대전</th>\n",
       "      <th>울산</th>\n",
       "      <th>경기</th>\n",
       "      <th>강원</th>\n",
       "      <th>충북</th>\n",
       "      <th>충남</th>\n",
       "      <th>전북</th>\n",
       "      <th>전남</th>\n",
       "      <th>세종</th>\n",
       "      <th>경북</th>\n",
       "      <th>경남</th>\n",
       "      <th>제주</th>\n",
       "      <th>강원.1</th>\n",
       "    </tr>\n",
       "    <tr>\n",
       "      <th>날짜</th>\n",
       "      <th></th>\n",
       "      <th></th>\n",
       "      <th></th>\n",
       "      <th></th>\n",
       "      <th></th>\n",
       "      <th></th>\n",
       "      <th></th>\n",
       "      <th></th>\n",
       "      <th></th>\n",
       "      <th></th>\n",
       "      <th></th>\n",
       "      <th></th>\n",
       "      <th></th>\n",
       "      <th></th>\n",
       "      <th></th>\n",
       "      <th></th>\n",
       "      <th></th>\n",
       "      <th></th>\n",
       "    </tr>\n",
       "  </thead>\n",
       "  <tbody>\n",
       "    <tr>\n",
       "      <th>07월 31일</th>\n",
       "      <td>18</td>\n",
       "      <td>26</td>\n",
       "      <td>17</td>\n",
       "      <td>23</td>\n",
       "      <td>23</td>\n",
       "      <td>17</td>\n",
       "      <td>23</td>\n",
       "      <td>21</td>\n",
       "      <td>19</td>\n",
       "      <td>20</td>\n",
       "      <td>21</td>\n",
       "      <td>21</td>\n",
       "      <td>22</td>\n",
       "      <td>19</td>\n",
       "      <td>22</td>\n",
       "      <td>25</td>\n",
       "      <td>28</td>\n",
       "      <td>19</td>\n",
       "    </tr>\n",
       "    <tr>\n",
       "      <th>07월 31일</th>\n",
       "      <td>18</td>\n",
       "      <td>26</td>\n",
       "      <td>17</td>\n",
       "      <td>23</td>\n",
       "      <td>23</td>\n",
       "      <td>17</td>\n",
       "      <td>23</td>\n",
       "      <td>21</td>\n",
       "      <td>19</td>\n",
       "      <td>20</td>\n",
       "      <td>21</td>\n",
       "      <td>21</td>\n",
       "      <td>22</td>\n",
       "      <td>19</td>\n",
       "      <td>22</td>\n",
       "      <td>25</td>\n",
       "      <td>28</td>\n",
       "      <td>19</td>\n",
       "    </tr>\n",
       "  </tbody>\n",
       "</table>\n",
       "</div>"
      ],
      "text/plain": [
       "         서울  부산  대구  인천  광주  대전  울산  경기  강원  충북  충남  전북  전남  세종  경북  경남  제주  \\\n",
       "날짜                                                                            \n",
       "07월 31일  18  26  17  23  23  17  23  21  19  20  21  21  22  19  22  25  28   \n",
       "07월 31일  18  26  17  23  23  17  23  21  19  20  21  21  22  19  22  25  28   \n",
       "\n",
       "         강원.1  \n",
       "날짜             \n",
       "07월 31일    19  \n",
       "07월 31일    19  "
      ]
     },
     "execution_count": 6,
     "metadata": {},
     "output_type": "execute_result"
    }
   ],
   "source": [
    "df.loc['07월 31일']"
   ]
  },
  {
   "cell_type": "code",
   "execution_count": 8,
   "id": "d5ffe294",
   "metadata": {
    "ExecuteTime": {
     "end_time": "2021-12-15T10:05:01.784764Z",
     "start_time": "2021-12-15T10:05:01.762692Z"
    }
   },
   "outputs": [],
   "source": [
    "df.drop_duplicates(inplace=True)"
   ]
  },
  {
   "cell_type": "code",
   "execution_count": 10,
   "id": "2a4d105e",
   "metadata": {
    "ExecuteTime": {
     "end_time": "2021-12-15T10:05:59.037647Z",
     "start_time": "2021-12-15T10:05:59.015032Z"
    }
   },
   "outputs": [
    {
     "data": {
      "text/plain": [
       "서울      18\n",
       "부산      26\n",
       "대구      17\n",
       "인천      23\n",
       "광주      23\n",
       "대전      17\n",
       "울산      23\n",
       "경기      21\n",
       "강원      19\n",
       "충북      20\n",
       "충남      21\n",
       "전북      21\n",
       "전남      22\n",
       "세종      19\n",
       "경북      22\n",
       "경남      25\n",
       "제주      28\n",
       "강원.1    19\n",
       "Name: 07월 31일, dtype: int64"
      ]
     },
     "execution_count": 10,
     "metadata": {},
     "output_type": "execute_result"
    }
   ],
   "source": [
    "df.loc['07월 31일']"
   ]
  },
  {
   "cell_type": "markdown",
   "id": "8f11447e",
   "metadata": {
    "ExecuteTime": {
     "end_time": "2021-12-15T10:08:06.545646Z",
     "start_time": "2021-12-15T10:08:06.535155Z"
    }
   },
   "source": [
    "열 데이터 중복"
   ]
  },
  {
   "cell_type": "code",
   "execution_count": 17,
   "id": "10a54edc",
   "metadata": {
    "ExecuteTime": {
     "end_time": "2021-12-15T10:07:29.814127Z",
     "start_time": "2021-12-15T10:07:29.796124Z"
    }
   },
   "outputs": [
    {
     "data": {
      "text/html": [
       "<div>\n",
       "<style scoped>\n",
       "    .dataframe tbody tr th:only-of-type {\n",
       "        vertical-align: middle;\n",
       "    }\n",
       "\n",
       "    .dataframe tbody tr th {\n",
       "        vertical-align: top;\n",
       "    }\n",
       "\n",
       "    .dataframe thead th {\n",
       "        text-align: right;\n",
       "    }\n",
       "</style>\n",
       "<table border=\"1\" class=\"dataframe\">\n",
       "  <thead>\n",
       "    <tr style=\"text-align: right;\">\n",
       "      <th></th>\n",
       "      <th>강원</th>\n",
       "      <th>강원.1</th>\n",
       "    </tr>\n",
       "    <tr>\n",
       "      <th>날짜</th>\n",
       "      <th></th>\n",
       "      <th></th>\n",
       "    </tr>\n",
       "  </thead>\n",
       "  <tbody>\n",
       "    <tr>\n",
       "      <th>08월 11일</th>\n",
       "      <td>16</td>\n",
       "      <td>16</td>\n",
       "    </tr>\n",
       "    <tr>\n",
       "      <th>08월 10일</th>\n",
       "      <td>16</td>\n",
       "      <td>16</td>\n",
       "    </tr>\n",
       "    <tr>\n",
       "      <th>08월 09일</th>\n",
       "      <td>25</td>\n",
       "      <td>25</td>\n",
       "    </tr>\n",
       "    <tr>\n",
       "      <th>08월 08일</th>\n",
       "      <td>29</td>\n",
       "      <td>29</td>\n",
       "    </tr>\n",
       "    <tr>\n",
       "      <th>08월 07일</th>\n",
       "      <td>18</td>\n",
       "      <td>18</td>\n",
       "    </tr>\n",
       "    <tr>\n",
       "      <th>08월 06일</th>\n",
       "      <td>22</td>\n",
       "      <td>22</td>\n",
       "    </tr>\n",
       "    <tr>\n",
       "      <th>08월 05일</th>\n",
       "      <td>25</td>\n",
       "      <td>25</td>\n",
       "    </tr>\n",
       "    <tr>\n",
       "      <th>08월 04일</th>\n",
       "      <td>39</td>\n",
       "      <td>39</td>\n",
       "    </tr>\n",
       "    <tr>\n",
       "      <th>08월 03일</th>\n",
       "      <td>33</td>\n",
       "      <td>33</td>\n",
       "    </tr>\n",
       "    <tr>\n",
       "      <th>08월 02일</th>\n",
       "      <td>25</td>\n",
       "      <td>25</td>\n",
       "    </tr>\n",
       "    <tr>\n",
       "      <th>08월 01일</th>\n",
       "      <td>20</td>\n",
       "      <td>20</td>\n",
       "    </tr>\n",
       "    <tr>\n",
       "      <th>07월 31일</th>\n",
       "      <td>19</td>\n",
       "      <td>19</td>\n",
       "    </tr>\n",
       "    <tr>\n",
       "      <th>07월 30일</th>\n",
       "      <td>17</td>\n",
       "      <td>17</td>\n",
       "    </tr>\n",
       "    <tr>\n",
       "      <th>07월 29일</th>\n",
       "      <td>22</td>\n",
       "      <td>22</td>\n",
       "    </tr>\n",
       "    <tr>\n",
       "      <th>07월 28일</th>\n",
       "      <td>37</td>\n",
       "      <td>37</td>\n",
       "    </tr>\n",
       "    <tr>\n",
       "      <th>07월 27일</th>\n",
       "      <td>45</td>\n",
       "      <td>45</td>\n",
       "    </tr>\n",
       "    <tr>\n",
       "      <th>07월 26일</th>\n",
       "      <td>37</td>\n",
       "      <td>37</td>\n",
       "    </tr>\n",
       "    <tr>\n",
       "      <th>07월 25일</th>\n",
       "      <td>39</td>\n",
       "      <td>39</td>\n",
       "    </tr>\n",
       "    <tr>\n",
       "      <th>07월 24일</th>\n",
       "      <td>39</td>\n",
       "      <td>39</td>\n",
       "    </tr>\n",
       "    <tr>\n",
       "      <th>07월 23일</th>\n",
       "      <td>41</td>\n",
       "      <td>41</td>\n",
       "    </tr>\n",
       "    <tr>\n",
       "      <th>07월 22일</th>\n",
       "      <td>44</td>\n",
       "      <td>44</td>\n",
       "    </tr>\n",
       "    <tr>\n",
       "      <th>07월 21일</th>\n",
       "      <td>51</td>\n",
       "      <td>51</td>\n",
       "    </tr>\n",
       "    <tr>\n",
       "      <th>07월 20일</th>\n",
       "      <td>44</td>\n",
       "      <td>44</td>\n",
       "    </tr>\n",
       "    <tr>\n",
       "      <th>07월 19일</th>\n",
       "      <td>40</td>\n",
       "      <td>40</td>\n",
       "    </tr>\n",
       "    <tr>\n",
       "      <th>07월 18일</th>\n",
       "      <td>39</td>\n",
       "      <td>39</td>\n",
       "    </tr>\n",
       "    <tr>\n",
       "      <th>07월 17일</th>\n",
       "      <td>44</td>\n",
       "      <td>44</td>\n",
       "    </tr>\n",
       "    <tr>\n",
       "      <th>07월 16일</th>\n",
       "      <td>36</td>\n",
       "      <td>36</td>\n",
       "    </tr>\n",
       "    <tr>\n",
       "      <th>07월 15일</th>\n",
       "      <td>25</td>\n",
       "      <td>25</td>\n",
       "    </tr>\n",
       "    <tr>\n",
       "      <th>07월 14일</th>\n",
       "      <td>26</td>\n",
       "      <td>26</td>\n",
       "    </tr>\n",
       "    <tr>\n",
       "      <th>07월 13일</th>\n",
       "      <td>24</td>\n",
       "      <td>24</td>\n",
       "    </tr>\n",
       "  </tbody>\n",
       "</table>\n",
       "</div>"
      ],
      "text/plain": [
       "         강원  강원.1\n",
       "날짜               \n",
       "08월 11일  16    16\n",
       "08월 10일  16    16\n",
       "08월 09일  25    25\n",
       "08월 08일  29    29\n",
       "08월 07일  18    18\n",
       "08월 06일  22    22\n",
       "08월 05일  25    25\n",
       "08월 04일  39    39\n",
       "08월 03일  33    33\n",
       "08월 02일  25    25\n",
       "08월 01일  20    20\n",
       "07월 31일  19    19\n",
       "07월 30일  17    17\n",
       "07월 29일  22    22\n",
       "07월 28일  37    37\n",
       "07월 27일  45    45\n",
       "07월 26일  37    37\n",
       "07월 25일  39    39\n",
       "07월 24일  39    39\n",
       "07월 23일  41    41\n",
       "07월 22일  44    44\n",
       "07월 21일  51    51\n",
       "07월 20일  44    44\n",
       "07월 19일  40    40\n",
       "07월 18일  39    39\n",
       "07월 17일  44    44\n",
       "07월 16일  36    36\n",
       "07월 15일  25    25\n",
       "07월 14일  26    26\n",
       "07월 13일  24    24"
      ]
     },
     "execution_count": 17,
     "metadata": {},
     "output_type": "execute_result"
    }
   ],
   "source": [
    "df[['강원','강원.1']]"
   ]
  },
  {
   "cell_type": "code",
   "execution_count": 21,
   "id": "4e4d9418",
   "metadata": {
    "ExecuteTime": {
     "end_time": "2021-12-15T10:19:30.675841Z",
     "start_time": "2021-12-15T10:19:30.664868Z"
    }
   },
   "outputs": [],
   "source": [
    "df = df.T.drop_duplicates().T"
   ]
  },
  {
   "cell_type": "code",
   "execution_count": 22,
   "id": "1df45c2f",
   "metadata": {
    "ExecuteTime": {
     "end_time": "2021-12-15T10:19:35.503241Z",
     "start_time": "2021-12-15T10:19:35.458672Z"
    }
   },
   "outputs": [
    {
     "data": {
      "text/html": [
       "<div>\n",
       "<style scoped>\n",
       "    .dataframe tbody tr th:only-of-type {\n",
       "        vertical-align: middle;\n",
       "    }\n",
       "\n",
       "    .dataframe tbody tr th {\n",
       "        vertical-align: top;\n",
       "    }\n",
       "\n",
       "    .dataframe thead th {\n",
       "        text-align: right;\n",
       "    }\n",
       "</style>\n",
       "<table border=\"1\" class=\"dataframe\">\n",
       "  <thead>\n",
       "    <tr style=\"text-align: right;\">\n",
       "      <th></th>\n",
       "      <th>서울</th>\n",
       "      <th>부산</th>\n",
       "      <th>대구</th>\n",
       "      <th>인천</th>\n",
       "      <th>광주</th>\n",
       "      <th>대전</th>\n",
       "      <th>울산</th>\n",
       "      <th>경기</th>\n",
       "      <th>강원</th>\n",
       "      <th>충북</th>\n",
       "      <th>충남</th>\n",
       "      <th>전북</th>\n",
       "      <th>전남</th>\n",
       "      <th>세종</th>\n",
       "      <th>경북</th>\n",
       "      <th>경남</th>\n",
       "      <th>제주</th>\n",
       "    </tr>\n",
       "    <tr>\n",
       "      <th>날짜</th>\n",
       "      <th></th>\n",
       "      <th></th>\n",
       "      <th></th>\n",
       "      <th></th>\n",
       "      <th></th>\n",
       "      <th></th>\n",
       "      <th></th>\n",
       "      <th></th>\n",
       "      <th></th>\n",
       "      <th></th>\n",
       "      <th></th>\n",
       "      <th></th>\n",
       "      <th></th>\n",
       "      <th></th>\n",
       "      <th></th>\n",
       "      <th></th>\n",
       "      <th></th>\n",
       "    </tr>\n",
       "  </thead>\n",
       "  <tbody>\n",
       "    <tr>\n",
       "      <th>08월 11일</th>\n",
       "      <td>7</td>\n",
       "      <td>17</td>\n",
       "      <td>15</td>\n",
       "      <td>10</td>\n",
       "      <td>29</td>\n",
       "      <td>12</td>\n",
       "      <td>12</td>\n",
       "      <td>9</td>\n",
       "      <td>16</td>\n",
       "      <td>14</td>\n",
       "      <td>16</td>\n",
       "      <td>25</td>\n",
       "      <td>21</td>\n",
       "      <td>11</td>\n",
       "      <td>14</td>\n",
       "      <td>24</td>\n",
       "      <td>21</td>\n",
       "    </tr>\n",
       "    <tr>\n",
       "      <th>08월 10일</th>\n",
       "      <td>15</td>\n",
       "      <td>25</td>\n",
       "      <td>15</td>\n",
       "      <td>20</td>\n",
       "      <td>28</td>\n",
       "      <td>25</td>\n",
       "      <td>17</td>\n",
       "      <td>20</td>\n",
       "      <td>16</td>\n",
       "      <td>25</td>\n",
       "      <td>29</td>\n",
       "      <td>29</td>\n",
       "      <td>25</td>\n",
       "      <td>27</td>\n",
       "      <td>14</td>\n",
       "      <td>29</td>\n",
       "      <td>23</td>\n",
       "    </tr>\n",
       "    <tr>\n",
       "      <th>08월 09일</th>\n",
       "      <td>24</td>\n",
       "      <td>26</td>\n",
       "      <td>26</td>\n",
       "      <td>27</td>\n",
       "      <td>27</td>\n",
       "      <td>27</td>\n",
       "      <td>22</td>\n",
       "      <td>27</td>\n",
       "      <td>25</td>\n",
       "      <td>32</td>\n",
       "      <td>24</td>\n",
       "      <td>24</td>\n",
       "      <td>27</td>\n",
       "      <td>26</td>\n",
       "      <td>25</td>\n",
       "      <td>38</td>\n",
       "      <td>25</td>\n",
       "    </tr>\n",
       "    <tr>\n",
       "      <th>08월 08일</th>\n",
       "      <td>26</td>\n",
       "      <td>25</td>\n",
       "      <td>28</td>\n",
       "      <td>26</td>\n",
       "      <td>29</td>\n",
       "      <td>31</td>\n",
       "      <td>20</td>\n",
       "      <td>26</td>\n",
       "      <td>29</td>\n",
       "      <td>33</td>\n",
       "      <td>26</td>\n",
       "      <td>29</td>\n",
       "      <td>31</td>\n",
       "      <td>31</td>\n",
       "      <td>28</td>\n",
       "      <td>32</td>\n",
       "      <td>27</td>\n",
       "    </tr>\n",
       "    <tr>\n",
       "      <th>08월 07일</th>\n",
       "      <td>20</td>\n",
       "      <td>26</td>\n",
       "      <td>22</td>\n",
       "      <td>25</td>\n",
       "      <td>33</td>\n",
       "      <td>24</td>\n",
       "      <td>18</td>\n",
       "      <td>23</td>\n",
       "      <td>18</td>\n",
       "      <td>23</td>\n",
       "      <td>29</td>\n",
       "      <td>33</td>\n",
       "      <td>29</td>\n",
       "      <td>27</td>\n",
       "      <td>19</td>\n",
       "      <td>28</td>\n",
       "      <td>26</td>\n",
       "    </tr>\n",
       "    <tr>\n",
       "      <th>08월 06일</th>\n",
       "      <td>31</td>\n",
       "      <td>39</td>\n",
       "      <td>29</td>\n",
       "      <td>35</td>\n",
       "      <td>27</td>\n",
       "      <td>31</td>\n",
       "      <td>31</td>\n",
       "      <td>30</td>\n",
       "      <td>22</td>\n",
       "      <td>33</td>\n",
       "      <td>28</td>\n",
       "      <td>27</td>\n",
       "      <td>30</td>\n",
       "      <td>34</td>\n",
       "      <td>29</td>\n",
       "      <td>37</td>\n",
       "      <td>24</td>\n",
       "    </tr>\n",
       "    <tr>\n",
       "      <th>08월 05일</th>\n",
       "      <td>27</td>\n",
       "      <td>36</td>\n",
       "      <td>25</td>\n",
       "      <td>31</td>\n",
       "      <td>27</td>\n",
       "      <td>24</td>\n",
       "      <td>30</td>\n",
       "      <td>27</td>\n",
       "      <td>25</td>\n",
       "      <td>31</td>\n",
       "      <td>25</td>\n",
       "      <td>26</td>\n",
       "      <td>25</td>\n",
       "      <td>25</td>\n",
       "      <td>28</td>\n",
       "      <td>31</td>\n",
       "      <td>22</td>\n",
       "    </tr>\n",
       "    <tr>\n",
       "      <th>08월 04일</th>\n",
       "      <td>27</td>\n",
       "      <td>36</td>\n",
       "      <td>26</td>\n",
       "      <td>31</td>\n",
       "      <td>27</td>\n",
       "      <td>27</td>\n",
       "      <td>32</td>\n",
       "      <td>31</td>\n",
       "      <td>39</td>\n",
       "      <td>36</td>\n",
       "      <td>30</td>\n",
       "      <td>27</td>\n",
       "      <td>27</td>\n",
       "      <td>29</td>\n",
       "      <td>29</td>\n",
       "      <td>36</td>\n",
       "      <td>27</td>\n",
       "    </tr>\n",
       "    <tr>\n",
       "      <th>08월 03일</th>\n",
       "      <td>44</td>\n",
       "      <td>32</td>\n",
       "      <td>23</td>\n",
       "      <td>47</td>\n",
       "      <td>29</td>\n",
       "      <td>28</td>\n",
       "      <td>29</td>\n",
       "      <td>44</td>\n",
       "      <td>33</td>\n",
       "      <td>31</td>\n",
       "      <td>34</td>\n",
       "      <td>27</td>\n",
       "      <td>28</td>\n",
       "      <td>32</td>\n",
       "      <td>28</td>\n",
       "      <td>31</td>\n",
       "      <td>26</td>\n",
       "    </tr>\n",
       "    <tr>\n",
       "      <th>08월 02일</th>\n",
       "      <td>40</td>\n",
       "      <td>26</td>\n",
       "      <td>20</td>\n",
       "      <td>41</td>\n",
       "      <td>26</td>\n",
       "      <td>19</td>\n",
       "      <td>20</td>\n",
       "      <td>39</td>\n",
       "      <td>25</td>\n",
       "      <td>24</td>\n",
       "      <td>33</td>\n",
       "      <td>29</td>\n",
       "      <td>22</td>\n",
       "      <td>24</td>\n",
       "      <td>22</td>\n",
       "      <td>27</td>\n",
       "      <td>32</td>\n",
       "    </tr>\n",
       "    <tr>\n",
       "      <th>08월 01일</th>\n",
       "      <td>33</td>\n",
       "      <td>26</td>\n",
       "      <td>22</td>\n",
       "      <td>40</td>\n",
       "      <td>24</td>\n",
       "      <td>18</td>\n",
       "      <td>26</td>\n",
       "      <td>35</td>\n",
       "      <td>20</td>\n",
       "      <td>26</td>\n",
       "      <td>36</td>\n",
       "      <td>30</td>\n",
       "      <td>23</td>\n",
       "      <td>28</td>\n",
       "      <td>21</td>\n",
       "      <td>25</td>\n",
       "      <td>30</td>\n",
       "    </tr>\n",
       "    <tr>\n",
       "      <th>07월 31일</th>\n",
       "      <td>18</td>\n",
       "      <td>26</td>\n",
       "      <td>17</td>\n",
       "      <td>23</td>\n",
       "      <td>23</td>\n",
       "      <td>17</td>\n",
       "      <td>23</td>\n",
       "      <td>21</td>\n",
       "      <td>19</td>\n",
       "      <td>20</td>\n",
       "      <td>21</td>\n",
       "      <td>21</td>\n",
       "      <td>22</td>\n",
       "      <td>19</td>\n",
       "      <td>22</td>\n",
       "      <td>25</td>\n",
       "      <td>28</td>\n",
       "    </tr>\n",
       "    <tr>\n",
       "      <th>07월 30일</th>\n",
       "      <td>10</td>\n",
       "      <td>28</td>\n",
       "      <td>14</td>\n",
       "      <td>15</td>\n",
       "      <td>18</td>\n",
       "      <td>14</td>\n",
       "      <td>24</td>\n",
       "      <td>14</td>\n",
       "      <td>17</td>\n",
       "      <td>15</td>\n",
       "      <td>15</td>\n",
       "      <td>15</td>\n",
       "      <td>18</td>\n",
       "      <td>15</td>\n",
       "      <td>20</td>\n",
       "      <td>22</td>\n",
       "      <td>29</td>\n",
       "    </tr>\n",
       "    <tr>\n",
       "      <th>07월 29일</th>\n",
       "      <td>18</td>\n",
       "      <td>29</td>\n",
       "      <td>16</td>\n",
       "      <td>22</td>\n",
       "      <td>28</td>\n",
       "      <td>23</td>\n",
       "      <td>30</td>\n",
       "      <td>20</td>\n",
       "      <td>22</td>\n",
       "      <td>26</td>\n",
       "      <td>26</td>\n",
       "      <td>27</td>\n",
       "      <td>27</td>\n",
       "      <td>24</td>\n",
       "      <td>29</td>\n",
       "      <td>25</td>\n",
       "      <td>35</td>\n",
       "    </tr>\n",
       "    <tr>\n",
       "      <th>07월 28일</th>\n",
       "      <td>39</td>\n",
       "      <td>38</td>\n",
       "      <td>29</td>\n",
       "      <td>41</td>\n",
       "      <td>37</td>\n",
       "      <td>44</td>\n",
       "      <td>30</td>\n",
       "      <td>40</td>\n",
       "      <td>37</td>\n",
       "      <td>50</td>\n",
       "      <td>39</td>\n",
       "      <td>43</td>\n",
       "      <td>42</td>\n",
       "      <td>41</td>\n",
       "      <td>36</td>\n",
       "      <td>46</td>\n",
       "      <td>29</td>\n",
       "    </tr>\n",
       "    <tr>\n",
       "      <th>07월 27일</th>\n",
       "      <td>48</td>\n",
       "      <td>51</td>\n",
       "      <td>41</td>\n",
       "      <td>39</td>\n",
       "      <td>30</td>\n",
       "      <td>41</td>\n",
       "      <td>57</td>\n",
       "      <td>47</td>\n",
       "      <td>45</td>\n",
       "      <td>52</td>\n",
       "      <td>37</td>\n",
       "      <td>35</td>\n",
       "      <td>37</td>\n",
       "      <td>46</td>\n",
       "      <td>46</td>\n",
       "      <td>55</td>\n",
       "      <td>24</td>\n",
       "    </tr>\n",
       "    <tr>\n",
       "      <th>07월 26일</th>\n",
       "      <td>41</td>\n",
       "      <td>55</td>\n",
       "      <td>36</td>\n",
       "      <td>39</td>\n",
       "      <td>30</td>\n",
       "      <td>29</td>\n",
       "      <td>60</td>\n",
       "      <td>39</td>\n",
       "      <td>37</td>\n",
       "      <td>37</td>\n",
       "      <td>29</td>\n",
       "      <td>32</td>\n",
       "      <td>27</td>\n",
       "      <td>31</td>\n",
       "      <td>36</td>\n",
       "      <td>47</td>\n",
       "      <td>29</td>\n",
       "    </tr>\n",
       "    <tr>\n",
       "      <th>07월 25일</th>\n",
       "      <td>32</td>\n",
       "      <td>40</td>\n",
       "      <td>30</td>\n",
       "      <td>31</td>\n",
       "      <td>29</td>\n",
       "      <td>26</td>\n",
       "      <td>46</td>\n",
       "      <td>31</td>\n",
       "      <td>39</td>\n",
       "      <td>35</td>\n",
       "      <td>24</td>\n",
       "      <td>28</td>\n",
       "      <td>24</td>\n",
       "      <td>26</td>\n",
       "      <td>36</td>\n",
       "      <td>35</td>\n",
       "      <td>28</td>\n",
       "    </tr>\n",
       "    <tr>\n",
       "      <th>07월 24일</th>\n",
       "      <td>42</td>\n",
       "      <td>33</td>\n",
       "      <td>31</td>\n",
       "      <td>37</td>\n",
       "      <td>20</td>\n",
       "      <td>33</td>\n",
       "      <td>44</td>\n",
       "      <td>42</td>\n",
       "      <td>39</td>\n",
       "      <td>49</td>\n",
       "      <td>31</td>\n",
       "      <td>22</td>\n",
       "      <td>21</td>\n",
       "      <td>39</td>\n",
       "      <td>39</td>\n",
       "      <td>30</td>\n",
       "      <td>23</td>\n",
       "    </tr>\n",
       "    <tr>\n",
       "      <th>07월 23일</th>\n",
       "      <td>31</td>\n",
       "      <td>31</td>\n",
       "      <td>25</td>\n",
       "      <td>28</td>\n",
       "      <td>21</td>\n",
       "      <td>26</td>\n",
       "      <td>33</td>\n",
       "      <td>35</td>\n",
       "      <td>41</td>\n",
       "      <td>37</td>\n",
       "      <td>26</td>\n",
       "      <td>22</td>\n",
       "      <td>22</td>\n",
       "      <td>31</td>\n",
       "      <td>27</td>\n",
       "      <td>30</td>\n",
       "      <td>24</td>\n",
       "    </tr>\n",
       "    <tr>\n",
       "      <th>07월 22일</th>\n",
       "      <td>30</td>\n",
       "      <td>28</td>\n",
       "      <td>20</td>\n",
       "      <td>30</td>\n",
       "      <td>21</td>\n",
       "      <td>40</td>\n",
       "      <td>26</td>\n",
       "      <td>34</td>\n",
       "      <td>44</td>\n",
       "      <td>48</td>\n",
       "      <td>39</td>\n",
       "      <td>36</td>\n",
       "      <td>22</td>\n",
       "      <td>46</td>\n",
       "      <td>26</td>\n",
       "      <td>29</td>\n",
       "      <td>30</td>\n",
       "    </tr>\n",
       "    <tr>\n",
       "      <th>07월 21일</th>\n",
       "      <td>37</td>\n",
       "      <td>37</td>\n",
       "      <td>41</td>\n",
       "      <td>30</td>\n",
       "      <td>48</td>\n",
       "      <td>57</td>\n",
       "      <td>42</td>\n",
       "      <td>38</td>\n",
       "      <td>51</td>\n",
       "      <td>59</td>\n",
       "      <td>40</td>\n",
       "      <td>59</td>\n",
       "      <td>43</td>\n",
       "      <td>56</td>\n",
       "      <td>49</td>\n",
       "      <td>43</td>\n",
       "      <td>39</td>\n",
       "    </tr>\n",
       "    <tr>\n",
       "      <th>07월 20일</th>\n",
       "      <td>36</td>\n",
       "      <td>70</td>\n",
       "      <td>56</td>\n",
       "      <td>27</td>\n",
       "      <td>46</td>\n",
       "      <td>44</td>\n",
       "      <td>77</td>\n",
       "      <td>36</td>\n",
       "      <td>44</td>\n",
       "      <td>51</td>\n",
       "      <td>33</td>\n",
       "      <td>44</td>\n",
       "      <td>54</td>\n",
       "      <td>44</td>\n",
       "      <td>61</td>\n",
       "      <td>68</td>\n",
       "      <td>46</td>\n",
       "    </tr>\n",
       "    <tr>\n",
       "      <th>07월 19일</th>\n",
       "      <td>30</td>\n",
       "      <td>76</td>\n",
       "      <td>54</td>\n",
       "      <td>29</td>\n",
       "      <td>36</td>\n",
       "      <td>40</td>\n",
       "      <td>81</td>\n",
       "      <td>32</td>\n",
       "      <td>40</td>\n",
       "      <td>47</td>\n",
       "      <td>28</td>\n",
       "      <td>35</td>\n",
       "      <td>39</td>\n",
       "      <td>35</td>\n",
       "      <td>55</td>\n",
       "      <td>66</td>\n",
       "      <td>26</td>\n",
       "    </tr>\n",
       "    <tr>\n",
       "      <th>07월 18일</th>\n",
       "      <td>35</td>\n",
       "      <td>55</td>\n",
       "      <td>42</td>\n",
       "      <td>36</td>\n",
       "      <td>39</td>\n",
       "      <td>42</td>\n",
       "      <td>66</td>\n",
       "      <td>36</td>\n",
       "      <td>39</td>\n",
       "      <td>47</td>\n",
       "      <td>32</td>\n",
       "      <td>35</td>\n",
       "      <td>35</td>\n",
       "      <td>42</td>\n",
       "      <td>47</td>\n",
       "      <td>53</td>\n",
       "      <td>28</td>\n",
       "    </tr>\n",
       "    <tr>\n",
       "      <th>07월 17일</th>\n",
       "      <td>30</td>\n",
       "      <td>56</td>\n",
       "      <td>49</td>\n",
       "      <td>32</td>\n",
       "      <td>38</td>\n",
       "      <td>36</td>\n",
       "      <td>65</td>\n",
       "      <td>32</td>\n",
       "      <td>44</td>\n",
       "      <td>43</td>\n",
       "      <td>30</td>\n",
       "      <td>32</td>\n",
       "      <td>43</td>\n",
       "      <td>38</td>\n",
       "      <td>49</td>\n",
       "      <td>55</td>\n",
       "      <td>37</td>\n",
       "    </tr>\n",
       "    <tr>\n",
       "      <th>07월 16일</th>\n",
       "      <td>26</td>\n",
       "      <td>48</td>\n",
       "      <td>42</td>\n",
       "      <td>24</td>\n",
       "      <td>37</td>\n",
       "      <td>30</td>\n",
       "      <td>59</td>\n",
       "      <td>28</td>\n",
       "      <td>36</td>\n",
       "      <td>38</td>\n",
       "      <td>23</td>\n",
       "      <td>25</td>\n",
       "      <td>34</td>\n",
       "      <td>32</td>\n",
       "      <td>36</td>\n",
       "      <td>47</td>\n",
       "      <td>36</td>\n",
       "    </tr>\n",
       "    <tr>\n",
       "      <th>07월 15일</th>\n",
       "      <td>22</td>\n",
       "      <td>49</td>\n",
       "      <td>21</td>\n",
       "      <td>22</td>\n",
       "      <td>23</td>\n",
       "      <td>18</td>\n",
       "      <td>55</td>\n",
       "      <td>23</td>\n",
       "      <td>25</td>\n",
       "      <td>24</td>\n",
       "      <td>17</td>\n",
       "      <td>19</td>\n",
       "      <td>22</td>\n",
       "      <td>20</td>\n",
       "      <td>25</td>\n",
       "      <td>41</td>\n",
       "      <td>27</td>\n",
       "    </tr>\n",
       "    <tr>\n",
       "      <th>07월 14일</th>\n",
       "      <td>20</td>\n",
       "      <td>46</td>\n",
       "      <td>26</td>\n",
       "      <td>22</td>\n",
       "      <td>24</td>\n",
       "      <td>17</td>\n",
       "      <td>54</td>\n",
       "      <td>21</td>\n",
       "      <td>26</td>\n",
       "      <td>23</td>\n",
       "      <td>16</td>\n",
       "      <td>19</td>\n",
       "      <td>20</td>\n",
       "      <td>18</td>\n",
       "      <td>26</td>\n",
       "      <td>39</td>\n",
       "      <td>21</td>\n",
       "    </tr>\n",
       "    <tr>\n",
       "      <th>07월 13일</th>\n",
       "      <td>21</td>\n",
       "      <td>43</td>\n",
       "      <td>29</td>\n",
       "      <td>19</td>\n",
       "      <td>23</td>\n",
       "      <td>19</td>\n",
       "      <td>47</td>\n",
       "      <td>21</td>\n",
       "      <td>24</td>\n",
       "      <td>24</td>\n",
       "      <td>15</td>\n",
       "      <td>21</td>\n",
       "      <td>21</td>\n",
       "      <td>19</td>\n",
       "      <td>26</td>\n",
       "      <td>38</td>\n",
       "      <td>23</td>\n",
       "    </tr>\n",
       "  </tbody>\n",
       "</table>\n",
       "</div>"
      ],
      "text/plain": [
       "         서울  부산  대구  인천  광주  대전  울산  경기  강원  충북  충남  전북  전남  세종  경북  경남  제주\n",
       "날짜                                                                         \n",
       "08월 11일   7  17  15  10  29  12  12   9  16  14  16  25  21  11  14  24  21\n",
       "08월 10일  15  25  15  20  28  25  17  20  16  25  29  29  25  27  14  29  23\n",
       "08월 09일  24  26  26  27  27  27  22  27  25  32  24  24  27  26  25  38  25\n",
       "08월 08일  26  25  28  26  29  31  20  26  29  33  26  29  31  31  28  32  27\n",
       "08월 07일  20  26  22  25  33  24  18  23  18  23  29  33  29  27  19  28  26\n",
       "08월 06일  31  39  29  35  27  31  31  30  22  33  28  27  30  34  29  37  24\n",
       "08월 05일  27  36  25  31  27  24  30  27  25  31  25  26  25  25  28  31  22\n",
       "08월 04일  27  36  26  31  27  27  32  31  39  36  30  27  27  29  29  36  27\n",
       "08월 03일  44  32  23  47  29  28  29  44  33  31  34  27  28  32  28  31  26\n",
       "08월 02일  40  26  20  41  26  19  20  39  25  24  33  29  22  24  22  27  32\n",
       "08월 01일  33  26  22  40  24  18  26  35  20  26  36  30  23  28  21  25  30\n",
       "07월 31일  18  26  17  23  23  17  23  21  19  20  21  21  22  19  22  25  28\n",
       "07월 30일  10  28  14  15  18  14  24  14  17  15  15  15  18  15  20  22  29\n",
       "07월 29일  18  29  16  22  28  23  30  20  22  26  26  27  27  24  29  25  35\n",
       "07월 28일  39  38  29  41  37  44  30  40  37  50  39  43  42  41  36  46  29\n",
       "07월 27일  48  51  41  39  30  41  57  47  45  52  37  35  37  46  46  55  24\n",
       "07월 26일  41  55  36  39  30  29  60  39  37  37  29  32  27  31  36  47  29\n",
       "07월 25일  32  40  30  31  29  26  46  31  39  35  24  28  24  26  36  35  28\n",
       "07월 24일  42  33  31  37  20  33  44  42  39  49  31  22  21  39  39  30  23\n",
       "07월 23일  31  31  25  28  21  26  33  35  41  37  26  22  22  31  27  30  24\n",
       "07월 22일  30  28  20  30  21  40  26  34  44  48  39  36  22  46  26  29  30\n",
       "07월 21일  37  37  41  30  48  57  42  38  51  59  40  59  43  56  49  43  39\n",
       "07월 20일  36  70  56  27  46  44  77  36  44  51  33  44  54  44  61  68  46\n",
       "07월 19일  30  76  54  29  36  40  81  32  40  47  28  35  39  35  55  66  26\n",
       "07월 18일  35  55  42  36  39  42  66  36  39  47  32  35  35  42  47  53  28\n",
       "07월 17일  30  56  49  32  38  36  65  32  44  43  30  32  43  38  49  55  37\n",
       "07월 16일  26  48  42  24  37  30  59  28  36  38  23  25  34  32  36  47  36\n",
       "07월 15일  22  49  21  22  23  18  55  23  25  24  17  19  22  20  25  41  27\n",
       "07월 14일  20  46  26  22  24  17  54  21  26  23  16  19  20  18  26  39  21\n",
       "07월 13일  21  43  29  19  23  19  47  21  24  24  15  21  21  19  26  38  23"
      ]
     },
     "execution_count": 22,
     "metadata": {},
     "output_type": "execute_result"
    }
   ],
   "source": [
    "df"
   ]
  },
  {
   "cell_type": "markdown",
   "id": "c7e5f615",
   "metadata": {},
   "source": [
    "---"
   ]
  },
  {
   "cell_type": "markdown",
   "id": "3f83c0ad",
   "metadata": {
    "ExecuteTime": {
     "end_time": "2021-12-15T10:20:42.190627Z",
     "start_time": "2021-12-15T10:20:42.172622Z"
    }
   },
   "source": [
    "## Outlier (이상점)\n",
    "다른 값들과 너무 동떨어져 있는 데이터"
   ]
  },
  {
   "cell_type": "markdown",
   "id": "29c9ee89",
   "metadata": {
    "ExecuteTime": {
     "end_time": "2021-12-15T10:23:04.088564Z",
     "start_time": "2021-12-15T10:23:04.070567Z"
    }
   },
   "source": [
    "#### 이상점을 판단하는 기준?\n",
    "- 절대적인 기준은 없음\n",
    "- IQR (Interquartile Range) : 25(Q1)~ 75%(Q3) 지점\n",
    "- IQR에서 *1.5 보다 멀리 떨어진 값을 이상점으로 보기도 한다. "
   ]
  },
  {
   "cell_type": "markdown",
   "id": "7f0685af",
   "metadata": {
    "ExecuteTime": {
     "end_time": "2021-12-15T10:24:47.820840Z",
     "start_time": "2021-12-15T10:24:47.812843Z"
    }
   },
   "source": [
    "#### 이상점 처리방법?\n",
    "- 이상점이 잘못된 정보라면\n",
    "* 고치거나 제거한다.\n",
    "- 이상점이 제대로 된 데이터라면 \n",
    "* 분석에 방해가 되는 경우 제거하고\n",
    "* 의미 있는 정보라면 상황에 맞게 판단하여 남겨둔다."
   ]
  },
  {
   "cell_type": "code",
   "execution_count": 26,
   "id": "0bd719ce",
   "metadata": {
    "ExecuteTime": {
     "end_time": "2021-12-15T10:25:51.824884Z",
     "start_time": "2021-12-15T10:25:51.363537Z"
    }
   },
   "outputs": [],
   "source": [
    "%matplotlib inline"
   ]
  },
  {
   "cell_type": "code",
   "execution_count": 28,
   "id": "d5abc1ba",
   "metadata": {
    "ExecuteTime": {
     "end_time": "2021-12-15T10:26:24.910282Z",
     "start_time": "2021-12-15T10:26:24.871269Z"
    }
   },
   "outputs": [
    {
     "data": {
      "text/html": [
       "<div>\n",
       "<style scoped>\n",
       "    .dataframe tbody tr th:only-of-type {\n",
       "        vertical-align: middle;\n",
       "    }\n",
       "\n",
       "    .dataframe tbody tr th {\n",
       "        vertical-align: top;\n",
       "    }\n",
       "\n",
       "    .dataframe thead th {\n",
       "        text-align: right;\n",
       "    }\n",
       "</style>\n",
       "<table border=\"1\" class=\"dataframe\">\n",
       "  <thead>\n",
       "    <tr style=\"text-align: right;\">\n",
       "      <th></th>\n",
       "      <th>abv</th>\n",
       "      <th>ibu</th>\n",
       "      <th>id</th>\n",
       "      <th>name</th>\n",
       "      <th>style</th>\n",
       "      <th>brewery_id</th>\n",
       "      <th>ounces</th>\n",
       "    </tr>\n",
       "  </thead>\n",
       "  <tbody>\n",
       "    <tr>\n",
       "      <th>0</th>\n",
       "      <td>0.050</td>\n",
       "      <td>NaN</td>\n",
       "      <td>1436</td>\n",
       "      <td>Pub Beer</td>\n",
       "      <td>American Pale Lager</td>\n",
       "      <td>408</td>\n",
       "      <td>12.0</td>\n",
       "    </tr>\n",
       "    <tr>\n",
       "      <th>1</th>\n",
       "      <td>0.066</td>\n",
       "      <td>NaN</td>\n",
       "      <td>2265</td>\n",
       "      <td>Devil's Cup</td>\n",
       "      <td>American Pale Ale (APA)</td>\n",
       "      <td>177</td>\n",
       "      <td>12.0</td>\n",
       "    </tr>\n",
       "    <tr>\n",
       "      <th>2</th>\n",
       "      <td>0.071</td>\n",
       "      <td>NaN</td>\n",
       "      <td>2264</td>\n",
       "      <td>Rise of the Phoenix</td>\n",
       "      <td>American IPA</td>\n",
       "      <td>177</td>\n",
       "      <td>12.0</td>\n",
       "    </tr>\n",
       "    <tr>\n",
       "      <th>3</th>\n",
       "      <td>0.075</td>\n",
       "      <td>NaN</td>\n",
       "      <td>2262</td>\n",
       "      <td>Sex and Candy</td>\n",
       "      <td>American IPA</td>\n",
       "      <td>177</td>\n",
       "      <td>12.0</td>\n",
       "    </tr>\n",
       "    <tr>\n",
       "      <th>4</th>\n",
       "      <td>0.077</td>\n",
       "      <td>NaN</td>\n",
       "      <td>2261</td>\n",
       "      <td>Black Exodus</td>\n",
       "      <td>Oatmeal Stout</td>\n",
       "      <td>177</td>\n",
       "      <td>12.0</td>\n",
       "    </tr>\n",
       "  </tbody>\n",
       "</table>\n",
       "</div>"
      ],
      "text/plain": [
       "     abv  ibu    id                 name                    style  brewery_id  \\\n",
       "0  0.050  NaN  1436             Pub Beer      American Pale Lager         408   \n",
       "1  0.066  NaN  2265          Devil's Cup  American Pale Ale (APA)         177   \n",
       "2  0.071  NaN  2264  Rise of the Phoenix             American IPA         177   \n",
       "3  0.075  NaN  2262        Sex and Candy             American IPA         177   \n",
       "4  0.077  NaN  2261         Black Exodus            Oatmeal Stout         177   \n",
       "\n",
       "   ounces  \n",
       "0    12.0  \n",
       "1    12.0  \n",
       "2    12.0  \n",
       "3    12.0  \n",
       "4    12.0  "
      ]
     },
     "execution_count": 28,
     "metadata": {},
     "output_type": "execute_result"
    }
   ],
   "source": [
    "beer = pd.read_csv('beer.csv', index_col=0)\n",
    "beer.head()"
   ]
  },
  {
   "cell_type": "markdown",
   "id": "7e9ac10e",
   "metadata": {},
   "source": [
    "### 이상점 확인"
   ]
  },
  {
   "cell_type": "code",
   "execution_count": 30,
   "id": "940dfdfd",
   "metadata": {
    "ExecuteTime": {
     "end_time": "2021-12-15T10:26:54.539684Z",
     "start_time": "2021-12-15T10:26:54.355301Z"
    }
   },
   "outputs": [
    {
     "data": {
      "text/plain": [
       "<AxesSubplot:>"
      ]
     },
     "execution_count": 30,
     "metadata": {},
     "output_type": "execute_result"
    },
    {
     "data": {
      "image/png": "[encoded data removed]",
      "text/plain": [
       "<Figure size 432x288 with 1 Axes>"
      ]
     },
     "metadata": {
      "needs_background": "light"
     },
     "output_type": "display_data"
    }
   ],
   "source": [
    "beer.plot(kind='box',y='abv')"
   ]
  },
  {
   "cell_type": "markdown",
   "id": "7aaac6ef",
   "metadata": {},
   "source": [
    "### 데이터의 IQR값 확인"
   ]
  },
  {
   "cell_type": "code",
   "execution_count": 31,
   "id": "1e78b620",
   "metadata": {
    "ExecuteTime": {
     "end_time": "2021-12-15T10:27:54.597446Z",
     "start_time": "2021-12-15T10:27:54.586430Z"
    }
   },
   "outputs": [
    {
     "data": {
      "text/plain": [
       "count    2190.000000\n",
       "mean        0.060186\n",
       "std         0.117010\n",
       "min         0.032000\n",
       "25%         0.050000\n",
       "50%         0.055000\n",
       "75%         0.065000\n",
       "max         5.500000\n",
       "Name: abv, dtype: float64"
      ]
     },
     "execution_count": 31,
     "metadata": {},
     "output_type": "execute_result"
    }
   ],
   "source": [
    "beer['abv'].describe()"
   ]
  },
  {
   "cell_type": "markdown",
   "id": "8e24997f",
   "metadata": {},
   "source": [
    "OR "
   ]
  },
  {
   "cell_type": "code",
   "execution_count": 32,
   "id": "5b28dfd0",
   "metadata": {
    "ExecuteTime": {
     "end_time": "2021-12-15T10:29:00.307960Z",
     "start_time": "2021-12-15T10:29:00.289896Z"
    }
   },
   "outputs": [
    {
     "data": {
      "text/plain": [
       "0.05"
      ]
     },
     "execution_count": 32,
     "metadata": {},
     "output_type": "execute_result"
    }
   ],
   "source": [
    "beer['abv'].quantile(0.25)"
   ]
  },
  {
   "cell_type": "code",
   "execution_count": 33,
   "id": "c0a6406e",
   "metadata": {
    "ExecuteTime": {
     "end_time": "2021-12-15T10:29:11.661073Z",
     "start_time": "2021-12-15T10:29:11.639079Z"
    }
   },
   "outputs": [
    {
     "data": {
      "text/plain": [
       "0.065"
      ]
     },
     "execution_count": 33,
     "metadata": {},
     "output_type": "execute_result"
    }
   ],
   "source": [
    "beer['abv'].quantile(0.75)"
   ]
  },
  {
   "cell_type": "markdown",
   "id": "e9a33493",
   "metadata": {},
   "source": [
    "#### 변수 담기"
   ]
  },
  {
   "cell_type": "code",
   "execution_count": 35,
   "id": "af5b7a9f",
   "metadata": {
    "ExecuteTime": {
     "end_time": "2021-12-15T10:32:07.225484Z",
     "start_time": "2021-12-15T10:32:07.212043Z"
    }
   },
   "outputs": [],
   "source": [
    "q1 = beer['abv'].quantile(0.25)\n",
    "q3 = beer['abv'].quantile(0.75)\n",
    "iqr = q3 - q1"
   ]
  },
  {
   "cell_type": "markdown",
   "id": "46334fd1",
   "metadata": {},
   "source": [
    "### 이상점 찾기"
   ]
  },
  {
   "cell_type": "code",
   "execution_count": 36,
   "id": "9c370f99",
   "metadata": {
    "ExecuteTime": {
     "end_time": "2021-12-15T10:32:08.546819Z",
     "start_time": "2021-12-15T10:32:08.478358Z"
    }
   },
   "outputs": [
    {
     "data": {
      "text/plain": [
       "0       False\n",
       "1       False\n",
       "2       False\n",
       "3       False\n",
       "4       False\n",
       "        ...  \n",
       "2247    False\n",
       "2248    False\n",
       "2249    False\n",
       "2250     True\n",
       "2251    False\n",
       "Name: abv, Length: 2252, dtype: bool"
      ]
     },
     "execution_count": 36,
     "metadata": {},
     "output_type": "execute_result"
    }
   ],
   "source": [
    "(beer['abv'] < q1 - 1.5 * iqr) | (beer['abv'] > q3 + 1.5 * iqr)"
   ]
  },
  {
   "cell_type": "code",
   "execution_count": 37,
   "id": "f7c708fb",
   "metadata": {
    "ExecuteTime": {
     "end_time": "2021-12-15T10:32:45.923172Z",
     "start_time": "2021-12-15T10:32:45.908174Z"
    }
   },
   "outputs": [],
   "source": [
    "# 조건을 변수에 저장한다\n",
    "condition = (beer['abv'] < q1 - 1.5 * iqr) | (beer['abv'] > q3 + 1.5 * iqr)"
   ]
  },
  {
   "cell_type": "code",
   "execution_count": 38,
   "id": "6d6b3441",
   "metadata": {
    "ExecuteTime": {
     "end_time": "2021-12-15T10:32:58.616133Z",
     "start_time": "2021-12-15T10:32:58.596151Z"
    }
   },
   "outputs": [
    {
     "data": {
      "text/html": [
       "<div>\n",
       "<style scoped>\n",
       "    .dataframe tbody tr th:only-of-type {\n",
       "        vertical-align: middle;\n",
       "    }\n",
       "\n",
       "    .dataframe tbody tr th {\n",
       "        vertical-align: top;\n",
       "    }\n",
       "\n",
       "    .dataframe thead th {\n",
       "        text-align: right;\n",
       "    }\n",
       "</style>\n",
       "<table border=\"1\" class=\"dataframe\">\n",
       "  <thead>\n",
       "    <tr style=\"text-align: right;\">\n",
       "      <th></th>\n",
       "      <th>abv</th>\n",
       "      <th>ibu</th>\n",
       "      <th>id</th>\n",
       "      <th>name</th>\n",
       "      <th>style</th>\n",
       "      <th>brewery_id</th>\n",
       "      <th>ounces</th>\n",
       "    </tr>\n",
       "  </thead>\n",
       "  <tbody>\n",
       "    <tr>\n",
       "      <th>963</th>\n",
       "      <td>0.172</td>\n",
       "      <td>NaN</td>\n",
       "      <td>3691</td>\n",
       "      <td>Chamisul Fresh</td>\n",
       "      <td>Soju</td>\n",
       "      <td>993</td>\n",
       "      <td>12.17</td>\n",
       "    </tr>\n",
       "    <tr>\n",
       "      <th>1856</th>\n",
       "      <td>0.400</td>\n",
       "      <td>NaN</td>\n",
       "      <td>3012</td>\n",
       "      <td>Grey Goose</td>\n",
       "      <td>Vodka</td>\n",
       "      <td>893</td>\n",
       "      <td>25.26</td>\n",
       "    </tr>\n",
       "    <tr>\n",
       "      <th>2250</th>\n",
       "      <td>5.500</td>\n",
       "      <td>40.0</td>\n",
       "      <td>145</td>\n",
       "      <td>Silverback Pale Ale</td>\n",
       "      <td>American Pale Ale (APA)</td>\n",
       "      <td>424</td>\n",
       "      <td>12.00</td>\n",
       "    </tr>\n",
       "  </tbody>\n",
       "</table>\n",
       "</div>"
      ],
      "text/plain": [
       "        abv   ibu    id                 name                    style  \\\n",
       "963   0.172   NaN  3691       Chamisul Fresh                     Soju   \n",
       "1856  0.400   NaN  3012           Grey Goose                    Vodka   \n",
       "2250  5.500  40.0   145  Silverback Pale Ale  American Pale Ale (APA)   \n",
       "\n",
       "      brewery_id  ounces  \n",
       "963          993   12.17  \n",
       "1856         893   25.26  \n",
       "2250         424   12.00  "
      ]
     },
     "execution_count": 38,
     "metadata": {},
     "output_type": "execute_result"
    }
   ],
   "source": [
    "beer[condition]"
   ]
  },
  {
   "cell_type": "markdown",
   "id": "5bf98ec3",
   "metadata": {},
   "source": [
    "#### 잘못 입력된 값 수정\n",
    "5.5 → 0.055"
   ]
  },
  {
   "cell_type": "code",
   "execution_count": 39,
   "id": "2fb4e17d",
   "metadata": {
    "ExecuteTime": {
     "end_time": "2021-12-15T10:37:28.490068Z",
     "start_time": "2021-12-15T10:37:28.465787Z"
    }
   },
   "outputs": [],
   "source": [
    "beer.loc[2250, 'abv'] = 0.055"
   ]
  },
  {
   "cell_type": "code",
   "execution_count": 40,
   "id": "d3a474c2",
   "metadata": {
    "ExecuteTime": {
     "end_time": "2021-12-15T10:37:43.242461Z",
     "start_time": "2021-12-15T10:37:43.234459Z"
    }
   },
   "outputs": [
    {
     "data": {
      "text/plain": [
       "abv                             0.055\n",
       "ibu                              40.0\n",
       "id                                145\n",
       "name              Silverback Pale Ale\n",
       "style         American Pale Ale (APA)\n",
       "brewery_id                        424\n",
       "ounces                           12.0\n",
       "Name: 2250, dtype: object"
      ]
     },
     "execution_count": 40,
     "metadata": {},
     "output_type": "execute_result"
    }
   ],
   "source": [
    "beer.loc[2250]"
   ]
  },
  {
   "cell_type": "code",
   "execution_count": 41,
   "id": "184a7e57",
   "metadata": {
    "ExecuteTime": {
     "end_time": "2021-12-15T10:38:09.916797Z",
     "start_time": "2021-12-15T10:38:09.895758Z"
    },
    "scrolled": true
   },
   "outputs": [
    {
     "data": {
      "text/html": [
       "<div>\n",
       "<style scoped>\n",
       "    .dataframe tbody tr th:only-of-type {\n",
       "        vertical-align: middle;\n",
       "    }\n",
       "\n",
       "    .dataframe tbody tr th {\n",
       "        vertical-align: top;\n",
       "    }\n",
       "\n",
       "    .dataframe thead th {\n",
       "        text-align: right;\n",
       "    }\n",
       "</style>\n",
       "<table border=\"1\" class=\"dataframe\">\n",
       "  <thead>\n",
       "    <tr style=\"text-align: right;\">\n",
       "      <th></th>\n",
       "      <th>abv</th>\n",
       "      <th>ibu</th>\n",
       "      <th>id</th>\n",
       "      <th>name</th>\n",
       "      <th>style</th>\n",
       "      <th>brewery_id</th>\n",
       "      <th>ounces</th>\n",
       "    </tr>\n",
       "  </thead>\n",
       "  <tbody>\n",
       "    <tr>\n",
       "      <th>963</th>\n",
       "      <td>0.172</td>\n",
       "      <td>NaN</td>\n",
       "      <td>3691</td>\n",
       "      <td>Chamisul Fresh</td>\n",
       "      <td>Soju</td>\n",
       "      <td>993</td>\n",
       "      <td>12.17</td>\n",
       "    </tr>\n",
       "    <tr>\n",
       "      <th>1856</th>\n",
       "      <td>0.400</td>\n",
       "      <td>NaN</td>\n",
       "      <td>3012</td>\n",
       "      <td>Grey Goose</td>\n",
       "      <td>Vodka</td>\n",
       "      <td>893</td>\n",
       "      <td>25.26</td>\n",
       "    </tr>\n",
       "  </tbody>\n",
       "</table>\n",
       "</div>"
      ],
      "text/plain": [
       "        abv  ibu    id            name  style  brewery_id  ounces\n",
       "963   0.172  NaN  3691  Chamisul Fresh   Soju         993   12.17\n",
       "1856  0.400  NaN  3012      Grey Goose  Vodka         893   25.26"
      ]
     },
     "execution_count": 41,
     "metadata": {},
     "output_type": "execute_result"
    }
   ],
   "source": [
    "# 조건을 변수에 저장한다\n",
    "condition = (beer['abv'] < q1 - 1.5 * iqr) | (beer['abv'] > q3 + 1.5 * iqr)\n",
    "beer[condition]"
   ]
  },
  {
   "cell_type": "markdown",
   "id": "7b79918d",
   "metadata": {},
   "source": [
    "### 이상점 제거"
   ]
  },
  {
   "cell_type": "code",
   "execution_count": 42,
   "id": "f6410bd9",
   "metadata": {
    "ExecuteTime": {
     "end_time": "2021-12-15T10:52:52.024608Z",
     "start_time": "2021-12-15T10:52:52.014567Z"
    }
   },
   "outputs": [
    {
     "data": {
      "text/plain": [
       "Int64Index([963, 1856], dtype='int64')"
      ]
     },
     "execution_count": 42,
     "metadata": {},
     "output_type": "execute_result"
    }
   ],
   "source": [
    "beer[condition].index"
   ]
  },
  {
   "cell_type": "code",
   "execution_count": 43,
   "id": "ebf0165d",
   "metadata": {
    "ExecuteTime": {
     "end_time": "2021-12-15T10:53:25.248420Z",
     "start_time": "2021-12-15T10:53:25.226373Z"
    }
   },
   "outputs": [],
   "source": [
    "beer.drop(beer[condition].index, inplace=True)"
   ]
  },
  {
   "cell_type": "code",
   "execution_count": 44,
   "id": "c38f20e6",
   "metadata": {
    "ExecuteTime": {
     "end_time": "2021-12-15T10:53:36.933954Z",
     "start_time": "2021-12-15T10:53:36.919954Z"
    }
   },
   "outputs": [
    {
     "data": {
      "text/html": [
       "<div>\n",
       "<style scoped>\n",
       "    .dataframe tbody tr th:only-of-type {\n",
       "        vertical-align: middle;\n",
       "    }\n",
       "\n",
       "    .dataframe tbody tr th {\n",
       "        vertical-align: top;\n",
       "    }\n",
       "\n",
       "    .dataframe thead th {\n",
       "        text-align: right;\n",
       "    }\n",
       "</style>\n",
       "<table border=\"1\" class=\"dataframe\">\n",
       "  <thead>\n",
       "    <tr style=\"text-align: right;\">\n",
       "      <th></th>\n",
       "      <th>abv</th>\n",
       "      <th>ibu</th>\n",
       "      <th>id</th>\n",
       "      <th>name</th>\n",
       "      <th>style</th>\n",
       "      <th>brewery_id</th>\n",
       "      <th>ounces</th>\n",
       "    </tr>\n",
       "  </thead>\n",
       "  <tbody>\n",
       "  </tbody>\n",
       "</table>\n",
       "</div>"
      ],
      "text/plain": [
       "Empty DataFrame\n",
       "Columns: [abv, ibu, id, name, style, brewery_id, ounces]\n",
       "Index: []"
      ]
     },
     "execution_count": 44,
     "metadata": {},
     "output_type": "execute_result"
    }
   ],
   "source": [
    "condition = (beer['abv'] < q1 - 1.5 * iqr) | (beer['abv'] > q3 + 1.5 * iqr)\n",
    "beer[condition]"
   ]
  },
  {
   "cell_type": "code",
   "execution_count": 45,
   "id": "932011b4",
   "metadata": {
    "ExecuteTime": {
     "end_time": "2021-12-15T10:54:16.161639Z",
     "start_time": "2021-12-15T10:54:16.031651Z"
    }
   },
   "outputs": [
    {
     "data": {
      "text/plain": [
       "<AxesSubplot:>"
      ]
     },
     "execution_count": 45,
     "metadata": {},
     "output_type": "execute_result"
    },
    {
     "data": {
      "image/png": "[encoded data removed]",
      "text/plain": [
       "<Figure size 432x288 with 1 Axes>"
      ]
     },
     "metadata": {
      "needs_background": "light"
     },
     "output_type": "display_data"
    }
   ],
   "source": [
    "beer.plot(kind='box',y='abv')"
   ]
  },
  {
   "cell_type": "code",
   "execution_count": null,
   "id": "6c8a4887",
   "metadata": {},
   "outputs": [],
   "source": []
  }
 ],
 "metadata": {
  "hide_input": false,
  "kernelspec": {
   "display_name": "Python 3",
   "language": "python",
   "name": "python3"
  },
  "language_info": {
   "codemirror_mode": {
    "name": "ipython",
    "version": 3
   },
   "file_extension": ".py",
   "mimetype": "text/x-python",
   "name": "python",
   "nbconvert_exporter": "python",
   "pygments_lexer": "ipython3",
   "version": "3.8.8"
  },
  "toc": {
   "base_numbering": 1,
   "nav_menu": {},
   "number_sections": true,
   "sideBar": true,
   "skip_h1_title": false,
   "title_cell": "Table of Contents",
   "title_sidebar": "Contents",
   "toc_cell": false,
   "toc_position": {},
   "toc_section_display": true,
   "toc_window_display": false
  },
  "varInspector": {
   "cols": {
    "lenName": 16,
    "lenType": 16,
    "lenVar": 40
   },
   "kernels_config": {
    "python": {
     "delete_cmd_postfix": "",
     "delete_cmd_prefix": "del ",
     "library": "var_list.py",
     "varRefreshCmd": "print(var_dic_list())"
    },
    "r": {
     "delete_cmd_postfix": ") ",
     "delete_cmd_prefix": "rm(",
     "library": "var_list.r",
     "varRefreshCmd": "cat(var_dic_list()) "
    }
   },
   "types_to_exclude": [
    "module",
    "function",
    "builtin_function_or_method",
    "instance",
    "_Feature"
   ],
   "window_display": false
  }
 },
 "nbformat": 4,
 "nbformat_minor": 5
}
