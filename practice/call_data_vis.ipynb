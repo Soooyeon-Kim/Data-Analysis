{
 "cells": [
  {
   "cell_type": "markdown",
   "id": "68171bce",
   "metadata": {
    "ExecuteTime": {
     "end_time": "2021-09-10T09:25:20.944939Z",
     "start_time": "2021-09-10T09:25:20.935957Z"
    }
   },
   "source": [
    "# 음성 통화 데이터 분석\n",
    "* 음성 통화 데이터 분석을 통해 특정 지역에서 많이 주문하는 음식의 종류를 파악하기\n",
    "\n",
    "### 문제정의 \n",
    "서울의 중심지인 강남에서 어떤 음식을 자주 시켜먹는지 알아보기"
   ]
  },
  {
   "cell_type": "markdown",
   "id": "a2a723c6",
   "metadata": {
    "ExecuteTime": {
     "end_time": "2021-09-10T09:26:37.850217Z",
     "start_time": "2021-09-10T09:26:37.839242Z"
    }
   },
   "source": [
    "### 문제\n",
    "강남에 거주하는 사람들은 어떤 종류의 음식을 자주 주문하는가?\n",
    "\n",
    "### 검증 방식\n",
    "음성통화 데이터를 활용하여 특정 지역[강남]에서 어떤 종류의 음식을 많이 주문하는지 확인한다."
   ]
  },
  {
   "cell_type": "markdown",
   "id": "b4838b81",
   "metadata": {
    "ExecuteTime": {
     "end_time": "2021-09-10T09:29:25.353616Z",
     "start_time": "2021-09-10T09:29:25.336659Z"
    }
   },
   "source": [
    "## 데이터 구성\n",
    "* 일자 (YYYYMMDD) : 통화 일자\n",
    "* 연령 : 나이\n",
    "* 성별 : 성별\n",
    "* 발신지(시도) : 음성통화 발신지(시도)\n",
    "* 발신지(시군구) : 음성통화 발신지(시군구)\n",
    "* 대분류 : 통화 업종 대분류\n",
    "* 중분류 : 통화 업종 중분류\n",
    "* 통화비율(시군구내) : 급여 (단위 : €유로)\n",
    "\n",
    "\n",
    "> 출처 : SKT Data Hub, 음성통화 이용데이터 - 20년 09월\n",
    "https://www.bigdatahub.co.kr/product/view.do?pid=1002333"
   ]
  },
  {
   "cell_type": "markdown",
   "id": "fcbd3aaa",
   "metadata": {
    "ExecuteTime": {
     "end_time": "2021-09-10T09:30:26.454314Z",
     "start_time": "2021-09-10T09:30:26.450321Z"
    }
   },
   "source": [
    "## 음성 통화 데이터 구조 확인"
   ]
  },
  {
   "cell_type": "code",
   "execution_count": 1,
   "id": "ae46689d",
   "metadata": {
    "ExecuteTime": {
     "end_time": "2021-09-10T20:50:57.686314Z",
     "start_time": "2021-09-10T20:50:56.781753Z"
    }
   },
   "outputs": [],
   "source": [
    "import numpy as np\n",
    "import pandas as pd"
   ]
  },
  {
   "cell_type": "code",
   "execution_count": 2,
   "id": "2b3d4f04",
   "metadata": {
    "ExecuteTime": {
     "end_time": "2021-09-10T20:50:58.828262Z",
     "start_time": "2021-09-10T20:50:57.688309Z"
    }
   },
   "outputs": [],
   "source": [
    "call_data = pd.read_csv('call_data.csv')"
   ]
  },
  {
   "cell_type": "code",
   "execution_count": 3,
   "id": "1ea96523",
   "metadata": {
    "ExecuteTime": {
     "end_time": "2021-09-10T20:50:58.892092Z",
     "start_time": "2021-09-10T20:50:58.835243Z"
    }
   },
   "outputs": [
    {
     "data": {
      "text/plain": [
       "(561129, 8)"
      ]
     },
     "execution_count": 3,
     "metadata": {},
     "output_type": "execute_result"
    }
   ],
   "source": [
    "call_data.shape"
   ]
  },
  {
   "cell_type": "code",
   "execution_count": 4,
   "id": "a0bdecd5",
   "metadata": {
    "ExecuteTime": {
     "end_time": "2021-09-10T20:50:59.017755Z",
     "start_time": "2021-09-10T20:50:58.906054Z"
    }
   },
   "outputs": [
    {
     "data": {
      "text/html": [
       "<div>\n",
       "<style scoped>\n",
       "    .dataframe tbody tr th:only-of-type {\n",
       "        vertical-align: middle;\n",
       "    }\n",
       "\n",
       "    .dataframe tbody tr th {\n",
       "        vertical-align: top;\n",
       "    }\n",
       "\n",
       "    .dataframe thead th {\n",
       "        text-align: right;\n",
       "    }\n",
       "</style>\n",
       "<table border=\"1\" class=\"dataframe\">\n",
       "  <thead>\n",
       "    <tr style=\"text-align: right;\">\n",
       "      <th></th>\n",
       "      <th>일자(YYYYMMDD)</th>\n",
       "      <th>연령</th>\n",
       "      <th>성별</th>\n",
       "      <th>발신지(시도)</th>\n",
       "      <th>발신지(시군구)</th>\n",
       "      <th>대분류</th>\n",
       "      <th>중분류</th>\n",
       "      <th>통화비율(시군구내)</th>\n",
       "    </tr>\n",
       "  </thead>\n",
       "  <tbody>\n",
       "    <tr>\n",
       "      <th>0</th>\n",
       "      <td>20200921</td>\n",
       "      <td>50</td>\n",
       "      <td>여성</td>\n",
       "      <td>강원</td>\n",
       "      <td>강릉시</td>\n",
       "      <td>생활편의</td>\n",
       "      <td>생활서비스</td>\n",
       "      <td>0.0001</td>\n",
       "    </tr>\n",
       "    <tr>\n",
       "      <th>1</th>\n",
       "      <td>20200927</td>\n",
       "      <td>60</td>\n",
       "      <td>남성</td>\n",
       "      <td>강원</td>\n",
       "      <td>강릉시</td>\n",
       "      <td>생활편의</td>\n",
       "      <td>생활편의</td>\n",
       "      <td>0.0001</td>\n",
       "    </tr>\n",
       "    <tr>\n",
       "      <th>2</th>\n",
       "      <td>20200927</td>\n",
       "      <td>40</td>\n",
       "      <td>여성</td>\n",
       "      <td>강원</td>\n",
       "      <td>강릉시</td>\n",
       "      <td>음식점</td>\n",
       "      <td>중식</td>\n",
       "      <td>0.0001</td>\n",
       "    </tr>\n",
       "  </tbody>\n",
       "</table>\n",
       "</div>"
      ],
      "text/plain": [
       "   일자(YYYYMMDD)  연령  성별 발신지(시도) 발신지(시군구)   대분류    중분류  통화비율(시군구내)\n",
       "0      20200921  50  여성      강원      강릉시  생활편의  생활서비스      0.0001\n",
       "1      20200927  60  남성      강원      강릉시  생활편의   생활편의      0.0001\n",
       "2      20200927  40  여성      강원      강릉시   음식점     중식      0.0001"
      ]
     },
     "execution_count": 4,
     "metadata": {},
     "output_type": "execute_result"
    }
   ],
   "source": [
    "call_data.head(3)"
   ]
  },
  {
   "cell_type": "code",
   "execution_count": 5,
   "id": "bc773298",
   "metadata": {
    "ExecuteTime": {
     "end_time": "2021-09-10T20:50:59.272073Z",
     "start_time": "2021-09-10T20:50:59.021745Z"
    }
   },
   "outputs": [
    {
     "name": "stdout",
     "output_type": "stream",
     "text": [
      "<class 'pandas.core.frame.DataFrame'>\n",
      "RangeIndex: 561129 entries, 0 to 561128\n",
      "Data columns (total 8 columns):\n",
      " #   Column        Non-Null Count   Dtype  \n",
      "---  ------        --------------   -----  \n",
      " 0   일자(YYYYMMDD)  561129 non-null  int64  \n",
      " 1   연령            561129 non-null  int64  \n",
      " 2   성별            561129 non-null  object \n",
      " 3   발신지(시도)       561129 non-null  object \n",
      " 4   발신지(시군구)      561129 non-null  object \n",
      " 5   대분류           561129 non-null  object \n",
      " 6   중분류           561129 non-null  object \n",
      " 7   통화비율(시군구내)    561129 non-null  float64\n",
      "dtypes: float64(1), int64(2), object(5)\n",
      "memory usage: 34.2+ MB\n"
     ]
    }
   ],
   "source": [
    "call_data.info()"
   ]
  },
  {
   "cell_type": "code",
   "execution_count": 6,
   "id": "19289a45",
   "metadata": {
    "ExecuteTime": {
     "end_time": "2021-09-10T20:50:59.302992Z",
     "start_time": "2021-09-10T20:50:59.276062Z"
    }
   },
   "outputs": [
    {
     "data": {
      "text/plain": [
       "Index(['일자(YYYYMMDD)', '연령', '성별', '발신지(시도)', '발신지(시군구)', '대분류', '중분류',\n",
       "       '통화비율(시군구내)'],\n",
       "      dtype='object')"
      ]
     },
     "execution_count": 6,
     "metadata": {},
     "output_type": "execute_result"
    }
   ],
   "source": [
    "call_data.columns # 데이터의 속성명"
   ]
  },
  {
   "cell_type": "markdown",
   "id": "fae8070a",
   "metadata": {
    "ExecuteTime": {
     "end_time": "2021-09-10T09:35:34.444659Z",
     "start_time": "2021-09-10T09:35:34.433157Z"
    }
   },
   "source": [
    "## 음성 통화 데이터 정리"
   ]
  },
  {
   "cell_type": "markdown",
   "id": "3e5c81d9",
   "metadata": {
    "ExecuteTime": {
     "end_time": "2021-09-10T09:36:20.368395Z",
     "start_time": "2021-09-10T09:36:20.351353Z"
    }
   },
   "source": [
    "* 발신지 정리"
   ]
  },
  {
   "cell_type": "code",
   "execution_count": 7,
   "id": "8d106c44",
   "metadata": {
    "ExecuteTime": {
     "end_time": "2021-09-10T20:50:59.333909Z",
     "start_time": "2021-09-10T20:50:59.305984Z"
    }
   },
   "outputs": [],
   "source": [
    "call_data.rename(columns={'발신지(시도)':'시도', '발신지(시군구)':'시군구'},inplace=True)"
   ]
  },
  {
   "cell_type": "markdown",
   "id": "a5ef205d",
   "metadata": {
    "ExecuteTime": {
     "end_time": "2021-09-10T09:54:36.565776Z",
     "start_time": "2021-09-10T09:54:36.557796Z"
    }
   },
   "source": [
    "**!!inplace=True!!**"
   ]
  },
  {
   "cell_type": "code",
   "execution_count": 8,
   "id": "5c440825",
   "metadata": {
    "ExecuteTime": {
     "end_time": "2021-09-10T20:50:59.381806Z",
     "start_time": "2021-09-10T20:50:59.339891Z"
    }
   },
   "outputs": [
    {
     "data": {
      "text/html": [
       "<div>\n",
       "<style scoped>\n",
       "    .dataframe tbody tr th:only-of-type {\n",
       "        vertical-align: middle;\n",
       "    }\n",
       "\n",
       "    .dataframe tbody tr th {\n",
       "        vertical-align: top;\n",
       "    }\n",
       "\n",
       "    .dataframe thead th {\n",
       "        text-align: right;\n",
       "    }\n",
       "</style>\n",
       "<table border=\"1\" class=\"dataframe\">\n",
       "  <thead>\n",
       "    <tr style=\"text-align: right;\">\n",
       "      <th></th>\n",
       "      <th>일자(YYYYMMDD)</th>\n",
       "      <th>연령</th>\n",
       "      <th>성별</th>\n",
       "      <th>시도</th>\n",
       "      <th>시군구</th>\n",
       "      <th>대분류</th>\n",
       "      <th>중분류</th>\n",
       "      <th>통화비율(시군구내)</th>\n",
       "    </tr>\n",
       "  </thead>\n",
       "  <tbody>\n",
       "    <tr>\n",
       "      <th>0</th>\n",
       "      <td>20200921</td>\n",
       "      <td>50</td>\n",
       "      <td>여성</td>\n",
       "      <td>강원</td>\n",
       "      <td>강릉시</td>\n",
       "      <td>생활편의</td>\n",
       "      <td>생활서비스</td>\n",
       "      <td>0.0001</td>\n",
       "    </tr>\n",
       "    <tr>\n",
       "      <th>1</th>\n",
       "      <td>20200927</td>\n",
       "      <td>60</td>\n",
       "      <td>남성</td>\n",
       "      <td>강원</td>\n",
       "      <td>강릉시</td>\n",
       "      <td>생활편의</td>\n",
       "      <td>생활편의</td>\n",
       "      <td>0.0001</td>\n",
       "    </tr>\n",
       "  </tbody>\n",
       "</table>\n",
       "</div>"
      ],
      "text/plain": [
       "   일자(YYYYMMDD)  연령  성별  시도  시군구   대분류    중분류  통화비율(시군구내)\n",
       "0      20200921  50  여성  강원  강릉시  생활편의  생활서비스      0.0001\n",
       "1      20200927  60  남성  강원  강릉시  생활편의   생활편의      0.0001"
      ]
     },
     "execution_count": 8,
     "metadata": {},
     "output_type": "execute_result"
    }
   ],
   "source": [
    "call_data.head(2)"
   ]
  },
  {
   "cell_type": "code",
   "execution_count": 9,
   "id": "841f7a7e",
   "metadata": {
    "ExecuteTime": {
     "end_time": "2021-09-10T20:50:59.492483Z",
     "start_time": "2021-09-10T20:50:59.387764Z"
    }
   },
   "outputs": [
    {
     "data": {
      "text/plain": [
       "array(['생활편의', '음식점', '서비스산업', '교통편의', '금융편의', '공공편의', '여행', '쇼핑', '의료편의',\n",
       "       '스포츠/레저', '교육/학문', '기업/단체', '이벤트', '건물/시설'], dtype=object)"
      ]
     },
     "execution_count": 9,
     "metadata": {},
     "output_type": "execute_result"
    }
   ],
   "source": [
    "call_data['대분류'].unique()"
   ]
  },
  {
   "cell_type": "markdown",
   "id": "fcf8b762",
   "metadata": {
    "ExecuteTime": {
     "end_time": "2021-09-10T09:55:29.325660Z",
     "start_time": "2021-09-10T09:55:29.315141Z"
    }
   },
   "source": [
    "* 음식점 관련 통화 데이터만 변수에 저장"
   ]
  },
  {
   "cell_type": "code",
   "execution_count": 10,
   "id": "02f91c06",
   "metadata": {
    "ExecuteTime": {
     "end_time": "2021-09-10T20:50:59.603186Z",
     "start_time": "2021-09-10T20:50:59.499466Z"
    }
   },
   "outputs": [],
   "source": [
    "food_call = call_data[call_data['대분류'] == '음식점']"
   ]
  },
  {
   "cell_type": "code",
   "execution_count": 17,
   "id": "40448a41",
   "metadata": {
    "ExecuteTime": {
     "end_time": "2021-09-10T20:52:07.907144Z",
     "start_time": "2021-09-10T20:52:07.886244Z"
    }
   },
   "outputs": [
    {
     "data": {
      "text/html": [
       "<div>\n",
       "<style scoped>\n",
       "    .dataframe tbody tr th:only-of-type {\n",
       "        vertical-align: middle;\n",
       "    }\n",
       "\n",
       "    .dataframe tbody tr th {\n",
       "        vertical-align: top;\n",
       "    }\n",
       "\n",
       "    .dataframe thead th {\n",
       "        text-align: right;\n",
       "    }\n",
       "</style>\n",
       "<table border=\"1\" class=\"dataframe\">\n",
       "  <thead>\n",
       "    <tr style=\"text-align: right;\">\n",
       "      <th></th>\n",
       "      <th>일자(YYYYMMDD)</th>\n",
       "      <th>연령</th>\n",
       "      <th>성별</th>\n",
       "      <th>시도</th>\n",
       "      <th>시군구</th>\n",
       "      <th>대분류</th>\n",
       "      <th>중분류</th>\n",
       "      <th>통화비율(시군구내)</th>\n",
       "    </tr>\n",
       "  </thead>\n",
       "  <tbody>\n",
       "    <tr>\n",
       "      <th>2</th>\n",
       "      <td>20200927</td>\n",
       "      <td>40</td>\n",
       "      <td>여성</td>\n",
       "      <td>강원</td>\n",
       "      <td>강릉시</td>\n",
       "      <td>음식점</td>\n",
       "      <td>중식</td>\n",
       "      <td>0.0001</td>\n",
       "    </tr>\n",
       "    <tr>\n",
       "      <th>5</th>\n",
       "      <td>20200919</td>\n",
       "      <td>40</td>\n",
       "      <td>여성</td>\n",
       "      <td>강원</td>\n",
       "      <td>강릉시</td>\n",
       "      <td>음식점</td>\n",
       "      <td>중식</td>\n",
       "      <td>0.0002</td>\n",
       "    </tr>\n",
       "    <tr>\n",
       "      <th>7</th>\n",
       "      <td>20200916</td>\n",
       "      <td>20</td>\n",
       "      <td>남성</td>\n",
       "      <td>강원</td>\n",
       "      <td>강릉시</td>\n",
       "      <td>음식점</td>\n",
       "      <td>한식</td>\n",
       "      <td>0.0001</td>\n",
       "    </tr>\n",
       "    <tr>\n",
       "      <th>8</th>\n",
       "      <td>20200914</td>\n",
       "      <td>40</td>\n",
       "      <td>남성</td>\n",
       "      <td>강원</td>\n",
       "      <td>강릉시</td>\n",
       "      <td>음식점</td>\n",
       "      <td>치킨</td>\n",
       "      <td>0.0001</td>\n",
       "    </tr>\n",
       "    <tr>\n",
       "      <th>18</th>\n",
       "      <td>20200919</td>\n",
       "      <td>50</td>\n",
       "      <td>여성</td>\n",
       "      <td>강원</td>\n",
       "      <td>강릉시</td>\n",
       "      <td>음식점</td>\n",
       "      <td>한식</td>\n",
       "      <td>0.0003</td>\n",
       "    </tr>\n",
       "    <tr>\n",
       "      <th>26</th>\n",
       "      <td>20200912</td>\n",
       "      <td>40</td>\n",
       "      <td>여성</td>\n",
       "      <td>강원</td>\n",
       "      <td>강릉시</td>\n",
       "      <td>음식점</td>\n",
       "      <td>분식</td>\n",
       "      <td>0.0001</td>\n",
       "    </tr>\n",
       "    <tr>\n",
       "      <th>29</th>\n",
       "      <td>20200902</td>\n",
       "      <td>30</td>\n",
       "      <td>여성</td>\n",
       "      <td>강원</td>\n",
       "      <td>강릉시</td>\n",
       "      <td>음식점</td>\n",
       "      <td>한식</td>\n",
       "      <td>0.0003</td>\n",
       "    </tr>\n",
       "    <tr>\n",
       "      <th>35</th>\n",
       "      <td>20200902</td>\n",
       "      <td>40</td>\n",
       "      <td>남성</td>\n",
       "      <td>강원</td>\n",
       "      <td>강릉시</td>\n",
       "      <td>음식점</td>\n",
       "      <td>한식</td>\n",
       "      <td>0.0003</td>\n",
       "    </tr>\n",
       "    <tr>\n",
       "      <th>36</th>\n",
       "      <td>20200918</td>\n",
       "      <td>40</td>\n",
       "      <td>여성</td>\n",
       "      <td>강원</td>\n",
       "      <td>강릉시</td>\n",
       "      <td>음식점</td>\n",
       "      <td>중식</td>\n",
       "      <td>0.0001</td>\n",
       "    </tr>\n",
       "    <tr>\n",
       "      <th>37</th>\n",
       "      <td>20200920</td>\n",
       "      <td>50</td>\n",
       "      <td>여성</td>\n",
       "      <td>강원</td>\n",
       "      <td>강릉시</td>\n",
       "      <td>음식점</td>\n",
       "      <td>한식</td>\n",
       "      <td>0.0002</td>\n",
       "    </tr>\n",
       "  </tbody>\n",
       "</table>\n",
       "</div>"
      ],
      "text/plain": [
       "    일자(YYYYMMDD)  연령  성별  시도  시군구  대분류 중분류  통화비율(시군구내)\n",
       "2       20200927  40  여성  강원  강릉시  음식점  중식      0.0001\n",
       "5       20200919  40  여성  강원  강릉시  음식점  중식      0.0002\n",
       "7       20200916  20  남성  강원  강릉시  음식점  한식      0.0001\n",
       "8       20200914  40  남성  강원  강릉시  음식점  치킨      0.0001\n",
       "18      20200919  50  여성  강원  강릉시  음식점  한식      0.0003\n",
       "26      20200912  40  여성  강원  강릉시  음식점  분식      0.0001\n",
       "29      20200902  30  여성  강원  강릉시  음식점  한식      0.0003\n",
       "35      20200902  40  남성  강원  강릉시  음식점  한식      0.0003\n",
       "36      20200918  40  여성  강원  강릉시  음식점  중식      0.0001\n",
       "37      20200920  50  여성  강원  강릉시  음식점  한식      0.0002"
      ]
     },
     "execution_count": 17,
     "metadata": {},
     "output_type": "execute_result"
    }
   ],
   "source": [
    "food_call.head(10)"
   ]
  },
  {
   "cell_type": "markdown",
   "id": "2e1b0798",
   "metadata": {
    "ExecuteTime": {
     "end_time": "2021-09-10T10:03:43.092341Z",
     "start_time": "2021-09-10T10:03:43.068409Z"
    }
   },
   "source": [
    "## 음성 통화 데이터 분석"
   ]
  },
  {
   "cell_type": "markdown",
   "id": "b92d590e",
   "metadata": {
    "ExecuteTime": {
     "end_time": "2021-09-10T10:03:57.544116Z",
     "start_time": "2021-09-10T10:03:57.536137Z"
    }
   },
   "source": [
    "* 서울 내 특정 지역에서 자주 주문해 먹는 음식점의 종류"
   ]
  },
  {
   "cell_type": "markdown",
   "id": "c202dfdf",
   "metadata": {
    "ExecuteTime": {
     "end_time": "2021-09-10T10:04:20.814678Z",
     "start_time": "2021-09-10T10:04:20.808662Z"
    }
   },
   "source": [
    "> `food_call`에 들어있는 데이터프레임의 구역 컬럼이 서울인 데이터프레임을 추출하여 `seoul`에 저장"
   ]
  },
  {
   "cell_type": "code",
   "execution_count": 20,
   "id": "10324c47",
   "metadata": {
    "ExecuteTime": {
     "end_time": "2021-09-10T20:53:36.433271Z",
     "start_time": "2021-09-10T20:53:36.414330Z"
    }
   },
   "outputs": [
    {
     "data": {
      "text/plain": [
       "array(['강원', '경기', '경남', '경북', '광주', '대구', '대전', '부산', '서울', '세종', '울산',\n",
       "       '인천', '전남', '전북', '제주', '충남', '충북'], dtype=object)"
      ]
     },
     "execution_count": 20,
     "metadata": {},
     "output_type": "execute_result"
    }
   ],
   "source": [
    "food_call['시도'].unique()"
   ]
  },
  {
   "cell_type": "code",
   "execution_count": 21,
   "id": "c36713d7",
   "metadata": {
    "ExecuteTime": {
     "end_time": "2021-09-10T20:54:00.903537Z",
     "start_time": "2021-09-10T20:54:00.864761Z"
    }
   },
   "outputs": [
    {
     "data": {
      "text/html": [
       "<div>\n",
       "<style scoped>\n",
       "    .dataframe tbody tr th:only-of-type {\n",
       "        vertical-align: middle;\n",
       "    }\n",
       "\n",
       "    .dataframe tbody tr th {\n",
       "        vertical-align: top;\n",
       "    }\n",
       "\n",
       "    .dataframe thead th {\n",
       "        text-align: right;\n",
       "    }\n",
       "</style>\n",
       "<table border=\"1\" class=\"dataframe\">\n",
       "  <thead>\n",
       "    <tr style=\"text-align: right;\">\n",
       "      <th></th>\n",
       "      <th>일자(YYYYMMDD)</th>\n",
       "      <th>연령</th>\n",
       "      <th>성별</th>\n",
       "      <th>시도</th>\n",
       "      <th>시군구</th>\n",
       "      <th>대분류</th>\n",
       "      <th>중분류</th>\n",
       "      <th>통화비율(시군구내)</th>\n",
       "    </tr>\n",
       "  </thead>\n",
       "  <tbody>\n",
       "    <tr>\n",
       "      <th>161455</th>\n",
       "      <td>20200915</td>\n",
       "      <td>40</td>\n",
       "      <td>여성</td>\n",
       "      <td>서울</td>\n",
       "      <td>강북구</td>\n",
       "      <td>음식점</td>\n",
       "      <td>치킨</td>\n",
       "      <td>0.0001</td>\n",
       "    </tr>\n",
       "    <tr>\n",
       "      <th>161460</th>\n",
       "      <td>20200916</td>\n",
       "      <td>40</td>\n",
       "      <td>남성</td>\n",
       "      <td>서울</td>\n",
       "      <td>강북구</td>\n",
       "      <td>음식점</td>\n",
       "      <td>중식</td>\n",
       "      <td>0.0001</td>\n",
       "    </tr>\n",
       "  </tbody>\n",
       "</table>\n",
       "</div>"
      ],
      "text/plain": [
       "        일자(YYYYMMDD)  연령  성별  시도  시군구  대분류 중분류  통화비율(시군구내)\n",
       "161455      20200915  40  여성  서울  강북구  음식점  치킨      0.0001\n",
       "161460      20200916  40  남성  서울  강북구  음식점  중식      0.0001"
      ]
     },
     "execution_count": 21,
     "metadata": {},
     "output_type": "execute_result"
    }
   ],
   "source": [
    "seoul = food_call[food_call['시도']== '서울']\n",
    "seoul.head(2)"
   ]
  },
  {
   "cell_type": "code",
   "execution_count": 22,
   "id": "48a08fea",
   "metadata": {
    "ExecuteTime": {
     "end_time": "2021-09-10T20:54:21.551879Z",
     "start_time": "2021-09-10T20:54:21.527969Z"
    }
   },
   "outputs": [
    {
     "data": {
      "text/plain": [
       "array(['강북구', '강서구', '관악구', '광진구', '노원구', '동작구', '마포구', '서초구', '성북구',\n",
       "       '영등포구', '용산구', '은평구', '종로구', '중구', '강남구', '강동구', '구로구', '금천구',\n",
       "       '도봉구', '동대문구', '서대문구', '성동구', '송파구', '양천구', '중랑구'], dtype=object)"
      ]
     },
     "execution_count": 22,
     "metadata": {},
     "output_type": "execute_result"
    }
   ],
   "source": [
    "seoul['시군구'].unique()"
   ]
  },
  {
   "cell_type": "markdown",
   "id": "14d9016d",
   "metadata": {},
   "source": [
    "> * 음식 종류별 주문 전화량을 알고싶은 지역명을 `input()`함수를 활용하여 입력받아 name 변수에 저장 \n",
    "> * seoul에서 지역 컬럼이 name인 데이터프레임을 추출하여 location 변수에 저장하고 중분류 컬럼의 데이터 값 분포를 출력"
   ]
  },
  {
   "cell_type": "code",
   "execution_count": 122,
   "id": "ab051bda",
   "metadata": {
    "ExecuteTime": {
     "end_time": "2021-09-11T00:14:00.618780Z",
     "start_time": "2021-09-11T00:13:55.938705Z"
    }
   },
   "outputs": [
    {
     "name": "stdout",
     "output_type": "stream",
     "text": [
      "음식 종류별 주문 전화량을 알고싶은 지역명을 입력하세요강남구\n"
     ]
    },
    {
     "data": {
      "text/plain": [
       "한식    176\n",
       "치킨      6\n",
       "중식      3\n",
       "양식      1\n",
       "간식      1\n",
       "Name: 중분류, dtype: int64"
      ]
     },
     "execution_count": 122,
     "metadata": {},
     "output_type": "execute_result"
    }
   ],
   "source": [
    "name = input(\"음식 종류별 주문 전화량을 알고싶은 지역명을 입력하세요\")\n",
    "s_location = food_call[food_call['시군구']== name]\n",
    "food = s_location['중분류'].value_counts()\n",
    "food"
   ]
  },
  {
   "cell_type": "markdown",
   "id": "ba35151d",
   "metadata": {
    "ExecuteTime": {
     "end_time": "2021-09-10T21:01:12.100043Z",
     "start_time": "2021-09-10T21:01:12.081572Z"
    }
   },
   "source": [
    "## 음성 통화 데이터 시각화"
   ]
  },
  {
   "cell_type": "markdown",
   "id": "8350724b",
   "metadata": {},
   "source": [
    "세로 막대그래프`bar()`\n",
    "* 그래프 사이즈 : (7,7)\n",
    "* X값 : food.index\n",
    "* Y값 : food.values\n",
    "* 그래프 제목 : “주문 그래프”, 글자 크기 20\n",
    "* X축 이름 : “종류” 글자 크기 15\n",
    "* Y축 이름 : “주문 수” 글자 크기 15"
   ]
  },
  {
   "cell_type": "code",
   "execution_count": 40,
   "id": "29865c9b",
   "metadata": {
    "ExecuteTime": {
     "end_time": "2021-09-10T21:16:28.878255Z",
     "start_time": "2021-09-10T21:16:28.874183Z"
    }
   },
   "outputs": [],
   "source": [
    "import matplotlib.pyplot as plt"
   ]
  },
  {
   "cell_type": "code",
   "execution_count": 43,
   "id": "62a46108",
   "metadata": {
    "ExecuteTime": {
     "end_time": "2021-09-10T21:17:46.156730Z",
     "start_time": "2021-09-10T21:17:46.139789Z"
    }
   },
   "outputs": [],
   "source": [
    "plt.rc('font', family='malgun gothic') # 그래프에서 한글 깨지는 현상 방지\n",
    "plt.rcParams['axes.unicode_minus']=False #음수 부호 깨짐 방지"
   ]
  },
  {
   "cell_type": "code",
   "execution_count": 129,
   "id": "856dfc9a",
   "metadata": {
    "ExecuteTime": {
     "end_time": "2021-09-11T00:17:14.257824Z",
     "start_time": "2021-09-11T00:17:13.752144Z"
    }
   },
   "outputs": [
    {
     "data": {
      "text/plain": [
       "Text(0, 0.5, '주문 수')"
      ]
     },
     "execution_count": 129,
     "metadata": {},
     "output_type": "execute_result"
    },
    {
     "data": {
      "image/png": "[encoded data removed]",
      "text/plain": [
       "<Figure size 504x504 with 1 Axes>"
      ]
     },
     "metadata": {
      "needs_background": "light"
     },
     "output_type": "display_data"
    }
   ],
   "source": [
    "plt.figure(figsize=(7,7))\n",
    "plt.title('주문 그래프', size = 20)\n",
    "#plt.bar(food.index, food.values, color='blue', alpha=0.5)\n",
    "ax = plt.bar(food.index, food.values, color='blue',alpha=0.5)\n",
    "plt.legend(handles = ax,labels= ['한식','치킨','중식','분식','양식'])\n",
    "plt.xlabel('종류', size = 15)\n",
    "plt.ylabel('주문 수', size = 15)"
   ]
  },
  {
   "cell_type": "code",
   "execution_count": 95,
   "id": "0cb4f856",
   "metadata": {
    "ExecuteTime": {
     "end_time": "2021-09-10T21:49:09.704144Z",
     "start_time": "2021-09-10T21:49:09.691159Z"
    }
   },
   "outputs": [
    {
     "data": {
      "text/plain": [
       "['한식', '치킨', '중식', '분식', '양식']"
      ]
     },
     "execution_count": 95,
     "metadata": {},
     "output_type": "execute_result"
    }
   ],
   "source": [
    "kind = [food.index[i] for i in range(0,len(food.index))]\n",
    "kind"
   ]
  },
  {
   "cell_type": "code",
   "execution_count": 130,
   "id": "7a8a1fb2",
   "metadata": {
    "ExecuteTime": {
     "end_time": "2021-09-11T00:18:03.835509Z",
     "start_time": "2021-09-11T00:18:03.431558Z"
    }
   },
   "outputs": [
    {
     "data": {
      "text/plain": [
       "Text(0, 0.5, '주문 수')"
      ]
     },
     "execution_count": 130,
     "metadata": {},
     "output_type": "execute_result"
    },
    {
     "data": {
      "image/png": "[encoded data removed]",
      "text/plain": [
       "<Figure size 504x504 with 1 Axes>"
      ]
     },
     "metadata": {
      "needs_background": "light"
     },
     "output_type": "display_data"
    }
   ],
   "source": [
    "plt.figure(figsize=(7,7))\n",
    "plt.title('주문 그래프', size = 20)\n",
    "#plt.bar(food.index, food.values, color='slateblue', alpha=0.8)\n",
    "ax = plt.bar(food.index, food.values, color='slateblue',alpha=0.8)\n",
    "plt.legend(handles = ax,labels= kind)\n",
    "plt.xlabel('종류', size = 15)\n",
    "plt.ylabel('주문 수', size = 15)"
   ]
  },
  {
   "cell_type": "code",
   "execution_count": 132,
   "id": "3bf6815b",
   "metadata": {
    "ExecuteTime": {
     "end_time": "2021-09-11T00:21:05.065648Z",
     "start_time": "2021-09-11T00:21:04.747013Z"
    }
   },
   "outputs": [
    {
     "data": {
      "image/png": "[encoded data removed]",
      "text/plain": [
       "<Figure size 432x288 with 1 Axes>"
      ]
     },
     "metadata": {
      "needs_background": "light"
     },
     "output_type": "display_data"
    }
   ],
   "source": [
    "food.plot(kind='bar',rot=0,color='plum')\n",
    "ax = plt.bar(food.index, food.values, color='plum')\n",
    "plt.title('주문 그래프', size = 20)\n",
    "plt.legend(handles = ax,labels= ['한식','치킨','중식','분식','양식'])\n",
    "plt.xlabel('종류', size = 15)\n",
    "plt.ylabel('주문 수', size = 15)\n",
    "plt.show()"
   ]
  },
  {
   "cell_type": "markdown",
   "id": "4568125e",
   "metadata": {},
   "source": [
    "## 데이터 분석 결과\n",
    "1. 특정 지역(서울 강남구)을 기준으로 가장 많이 주문하는 음식은 **한식**\n",
    "2. 특정 지역(서울 강남구)을 기준으로 한식, 치킨, 중식, 양식, 간식 순으로 주문 수가 많음을 확인"
   ]
  }
 ],
 "metadata": {
  "hide_input": false,
  "kernelspec": {
   "display_name": "Python 3",
   "language": "python",
   "name": "python3"
  },
  "language_info": {
   "codemirror_mode": {
    "name": "ipython",
    "version": 3
   },
   "file_extension": ".py",
   "mimetype": "text/x-python",
   "name": "python",
   "nbconvert_exporter": "python",
   "pygments_lexer": "ipython3",
   "version": "3.8.8"
  },
  "toc": {
   "base_numbering": 1,
   "nav_menu": {},
   "number_sections": true,
   "sideBar": true,
   "skip_h1_title": false,
   "title_cell": "Table of Contents",
   "title_sidebar": "Contents",
   "toc_cell": false,
   "toc_position": {},
   "toc_section_display": true,
   "toc_window_display": false
  },
  "varInspector": {
   "cols": {
    "lenName": 16,
    "lenType": 16,
    "lenVar": 40
   },
   "kernels_config": {
    "python": {
     "delete_cmd_postfix": "",
     "delete_cmd_prefix": "del ",
     "library": "var_list.py",
     "varRefreshCmd": "print(var_dic_list())"
    },
    "r": {
     "delete_cmd_postfix": ") ",
     "delete_cmd_prefix": "rm(",
     "library": "var_list.r",
     "varRefreshCmd": "cat(var_dic_list()) "
    }
   },
   "types_to_exclude": [
    "module",
    "function",
    "builtin_function_or_method",
    "instance",
    "_Feature"
   ],
   "window_display": false
  }
 },
 "nbformat": 4,
 "nbformat_minor": 5
}
