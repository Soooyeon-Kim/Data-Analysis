{
 "cells": [
  {
   "cell_type": "markdown",
   "id": "4647d718",
   "metadata": {
    "ExecuteTime": {
     "end_time": "2021-09-21T09:56:04.922952Z",
     "start_time": "2021-09-21T09:56:04.916382Z"
    }
   },
   "source": [
    "## os 모듈\n",
    "* 운영체제(OS)에서 제공하는 기본적인 기능을 사용할 수 있는 여러 명령과 함수가 들어있다.\n",
    "* 대표적으로 현재 파이썬이 실행되는 위치를 확인한다거나, 특정 폴더로 이동하고 싶을 때, <br>그리고 현재 폴더에 있는 파일들을 리스트 형태로 저장할 때 많이 사용\n",
    "* 파이썬을 배울 때 특정 위치에서 작업하고 그 폴더에 필요한 자료를 생성할 때 유용하다."
   ]
  },
  {
   "cell_type": "code",
   "execution_count": 2,
   "id": "1a153861",
   "metadata": {
    "ExecuteTime": {
     "end_time": "2021-09-21T09:57:14.380381Z",
     "start_time": "2021-09-21T09:57:14.373375Z"
    }
   },
   "outputs": [],
   "source": [
    "import os"
   ]
  },
  {
   "cell_type": "markdown",
   "id": "852c6dc3",
   "metadata": {
    "ExecuteTime": {
     "end_time": "2021-09-21T09:58:21.526630Z",
     "start_time": "2021-09-21T09:58:21.516598Z"
    }
   },
   "source": [
    "#### 현재 위치를 확인할 때는 getcwd를 사용"
   ]
  },
  {
   "cell_type": "code",
   "execution_count": 3,
   "id": "519627f4",
   "metadata": {
    "ExecuteTime": {
     "end_time": "2021-09-21T09:57:20.133334Z",
     "start_time": "2021-09-21T09:57:20.116337Z"
    }
   },
   "outputs": [
    {
     "name": "stdout",
     "output_type": "stream",
     "text": [
      "C:\\Users\\sooyeon\\pandasData\n"
     ]
    }
   ],
   "source": [
    "print(os.getcwd())"
   ]
  },
  {
   "cell_type": "markdown",
   "id": "d7806c8c",
   "metadata": {},
   "source": [
    "#### 현재 위치를 변경할 때는 chdir를 사용"
   ]
  },
  {
   "cell_type": "code",
   "execution_count": 5,
   "id": "46fef09e",
   "metadata": {
    "ExecuteTime": {
     "end_time": "2021-09-21T09:58:32.387134Z",
     "start_time": "2021-09-21T09:58:32.370087Z"
    }
   },
   "outputs": [],
   "source": [
    "# os.chdir('/sooyeon/project_file/practice')\n",
    "# print(os.getcwd())"
   ]
  },
  {
   "cell_type": "markdown",
   "id": "c3840c91",
   "metadata": {
    "ExecuteTime": {
     "end_time": "2021-09-21T09:58:43.047666Z",
     "start_time": "2021-09-21T09:58:43.033139Z"
    }
   },
   "source": [
    "#### 현재 위치 어떤 파일이 있는지 확인할 때 listdir를 사용"
   ]
  },
  {
   "cell_type": "code",
   "execution_count": 8,
   "id": "cdd57691",
   "metadata": {
    "ExecuteTime": {
     "end_time": "2021-09-21T09:59:23.607298Z",
     "start_time": "2021-09-21T09:59:23.601781Z"
    }
   },
   "outputs": [],
   "source": [
    "# print(os.listdir())"
   ]
  },
  {
   "cell_type": "markdown",
   "id": "07db5c5e",
   "metadata": {},
   "source": [
    "## 파일 열고 닫기\n",
    "* 파일 열기 모드 'w' : 파일에 내용을 새로 쓸 때 사용\n",
    "* 파일 열기 모드 'r' : 파일에 내용을 읽을 때 사용\n",
    "* 파일 열기 모드 'a' : 파일에 내용을 추가할 때 사용"
   ]
  },
  {
   "cell_type": "markdown",
   "id": "1118f01d",
   "metadata": {},
   "source": [
    "1. open함수를 사용하여 a.txt파일을 쓰기 모드로 만들고 f 객체에 저장<br>\n",
    "f = open('a.txt','w') <br><br>\n",
    "2. f객체에 write함수를 사용하여 'abc'를 저장<br>\n",
    "f.write('abc')<br><br>\n",
    "3. f객체를 close로 닫기<br>\n",
    "f.close()"
   ]
  },
  {
   "cell_type": "code",
   "execution_count": 11,
   "id": "0bc245e0",
   "metadata": {
    "ExecuteTime": {
     "end_time": "2021-09-21T10:21:25.255893Z",
     "start_time": "2021-09-21T10:21:25.207680Z"
    }
   },
   "outputs": [
    {
     "name": "stdout",
     "output_type": "stream",
     "text": [
      "나는 오늘 학교에 갔다\n",
      "나는 오늘 학교에 갔다\n",
      "나는 오늘 학교에 갔다 학교에 가지 않을 날이 올까?\n"
     ]
    }
   ],
   "source": [
    "f = open('a.txt', 'w')\n",
    "f.write('나는 오늘 학교에 갔다')\n",
    "f.close()\n",
    "f = open('a.txt', 'r')\n",
    "print(f.read())\n",
    "\n",
    "\n",
    "f.seek(0)\n",
    "print(f.read())\n",
    "\n",
    "f = open('a.txt','a')\n",
    "f.write(' 학교에 가지 않을 날이 올까?')\n",
    "f.close()\n",
    "f = open('a.txt','r')\n",
    "print(f.read())"
   ]
  },
  {
   "cell_type": "markdown",
   "id": "703cc9a3",
   "metadata": {
    "ExecuteTime": {
     "end_time": "2021-09-21T10:22:14.670717Z",
     "start_time": "2021-09-21T10:22:14.661722Z"
    }
   },
   "source": [
    "## with 문으로 객체를 만들지 않고 파일 입출력"
   ]
  },
  {
   "cell_type": "code",
   "execution_count": 13,
   "id": "30d936b4",
   "metadata": {
    "ExecuteTime": {
     "end_time": "2021-09-21T10:24:36.573089Z",
     "start_time": "2021-09-21T10:24:36.560088Z"
    }
   },
   "outputs": [],
   "source": [
    "# with open(파일 이름, 파일 열기 모드)as f:\n",
    "    # f에 수행할 명령"
   ]
  },
  {
   "cell_type": "code",
   "execution_count": 14,
   "id": "4b69a933",
   "metadata": {
    "ExecuteTime": {
     "end_time": "2021-09-21T10:26:48.616921Z",
     "start_time": "2021-09-21T10:26:48.588908Z"
    }
   },
   "outputs": [
    {
     "name": "stdout",
     "output_type": "stream",
     "text": [
      "나는 오늘 학교에 갔습니다.\n"
     ]
    }
   ],
   "source": [
    "with open('test.txt','w') as f:\n",
    "    f.write('나는 오늘 학교에 갔습니다.')\n",
    "\n",
    "f = open('test.txt','r')\n",
    "print(f.read())"
   ]
  },
  {
   "cell_type": "markdown",
   "id": "c8737589",
   "metadata": {
    "ExecuteTime": {
     "end_time": "2021-09-21T10:27:12.822274Z",
     "start_time": "2021-09-21T10:27:12.819253Z"
    }
   },
   "source": [
    "## 정규표현식"
   ]
  },
  {
   "cell_type": "markdown",
   "id": "ac54111a",
   "metadata": {},
   "source": [
    "result에 re.findall(r'\\([A-Za-z가-힣]+, \\d+\\)', example)를 저장하고 출력"
   ]
  },
  {
   "cell_type": "code",
   "execution_count": 16,
   "id": "af728b95",
   "metadata": {
    "ExecuteTime": {
     "end_time": "2021-09-21T10:28:12.852236Z",
     "start_time": "2021-09-21T10:28:12.840235Z"
    }
   },
   "outputs": [
    {
     "name": "stdout",
     "output_type": "stream",
     "text": [
      "['(이동민, 2019)', '(최재영, 2019)', '(Lion, 2018)']\n"
     ]
    }
   ],
   "source": [
    "import re\n",
    "example = '이동민 교수님은 다음과 같이 설명했습니다(이동민, 2019). 그런데 다른 교수님은 이 문제에 대해서 다른 견해를 가지고 있었습니다(최재영, 2019). 또 다른 견해도 있었습니다(Lion, 2018)'\n",
    "\n",
    "\n",
    "result = re.findall(r'\\([A-Za-z가-힣]+, \\d+\\)', example)\n",
    "print(result)"
   ]
  },
  {
   "cell_type": "markdown",
   "id": "1a5c96f2",
   "metadata": {
    "ExecuteTime": {
     "end_time": "2021-09-21T10:54:45.747290Z",
     "start_time": "2021-09-21T10:54:45.736475Z"
    }
   },
   "source": [
    "### match 메서드"
   ]
  },
  {
   "cell_type": "code",
   "execution_count": 18,
   "id": "53e3e3bc",
   "metadata": {
    "ExecuteTime": {
     "end_time": "2021-09-21T10:54:56.257527Z",
     "start_time": "2021-09-21T10:54:56.243528Z"
    }
   },
   "outputs": [],
   "source": [
    "import re"
   ]
  },
  {
   "cell_type": "code",
   "execution_count": 19,
   "id": "84477dea",
   "metadata": {
    "ExecuteTime": {
     "end_time": "2021-09-21T10:55:05.073730Z",
     "start_time": "2021-09-21T10:55:05.028951Z"
    }
   },
   "outputs": [
    {
     "data": {
      "text/plain": [
       "<re.Match object; span=(0, 2), match='ab'>"
      ]
     },
     "execution_count": 19,
     "metadata": {},
     "output_type": "execute_result"
    }
   ],
   "source": [
    "pattern = r'ab'\n",
    "script = 'abcd'\n",
    "re.match(pattern, script)\n",
    "re.match(r'ab', 'abcd')"
   ]
  },
  {
   "cell_type": "code",
   "execution_count": 21,
   "id": "f7dfec1f",
   "metadata": {
    "ExecuteTime": {
     "end_time": "2021-09-21T10:55:30.261610Z",
     "start_time": "2021-09-21T10:55:30.249612Z"
    }
   },
   "outputs": [
    {
     "name": "stdout",
     "output_type": "stream",
     "text": [
      "ab\n"
     ]
    }
   ],
   "source": [
    "print(re.match(r'ab', 'abcd').group())"
   ]
  },
  {
   "cell_type": "code",
   "execution_count": 22,
   "id": "d95616ea",
   "metadata": {
    "ExecuteTime": {
     "end_time": "2021-09-21T10:55:53.088783Z",
     "start_time": "2021-09-21T10:55:53.069791Z"
    }
   },
   "outputs": [],
   "source": [
    "pattern = r'life'\n",
    "script = 'life'"
   ]
  },
  {
   "cell_type": "code",
   "execution_count": 23,
   "id": "95a3343a",
   "metadata": {
    "ExecuteTime": {
     "end_time": "2021-09-21T10:56:00.016475Z",
     "start_time": "2021-09-21T10:56:00.001476Z"
    }
   },
   "outputs": [
    {
     "name": "stdout",
     "output_type": "stream",
     "text": [
      "life\n"
     ]
    }
   ],
   "source": [
    "print(re.match(pattern,script).group())"
   ]
  },
  {
   "cell_type": "code",
   "execution_count": 24,
   "id": "7a78acf5",
   "metadata": {
    "ExecuteTime": {
     "end_time": "2021-09-21T10:56:03.719892Z",
     "start_time": "2021-09-21T10:56:03.704866Z"
    }
   },
   "outputs": [
    {
     "name": "stdout",
     "output_type": "stream",
     "text": [
      "life\n"
     ]
    }
   ],
   "source": [
    "print(re.match(r'life', 'life').group())"
   ]
  },
  {
   "cell_type": "code",
   "execution_count": 26,
   "id": "c146964d",
   "metadata": {
    "ExecuteTime": {
     "end_time": "2021-09-21T11:07:26.118606Z",
     "start_time": "2021-09-21T11:07:26.109607Z"
    }
   },
   "outputs": [],
   "source": [
    "def refineder(pattern, script):\n",
    "    if re.match(pattern,script):\n",
    "        return \"Match!\"\n",
    "    else:\n",
    "        return \"Not a match!\""
   ]
  },
  {
   "cell_type": "code",
   "execution_count": 27,
   "id": "567123df",
   "metadata": {
    "ExecuteTime": {
     "end_time": "2021-09-21T11:07:36.734696Z",
     "start_time": "2021-09-21T11:07:36.721703Z"
    }
   },
   "outputs": [
    {
     "name": "stdout",
     "output_type": "stream",
     "text": [
      "Match!\n"
     ]
    }
   ],
   "source": [
    "pattern = r'Life'\n",
    "script = 'Life is so cool'\n",
    "\n",
    "print(refineder(pattern, script))"
   ]
  },
  {
   "cell_type": "code",
   "execution_count": 29,
   "id": "4ef02402",
   "metadata": {
    "ExecuteTime": {
     "end_time": "2021-09-21T11:08:02.194352Z",
     "start_time": "2021-09-21T11:08:02.177318Z"
    }
   },
   "outputs": [
    {
     "name": "stdout",
     "output_type": "stream",
     "text": [
      "Not a match!\n"
     ]
    }
   ],
   "source": [
    "pattern = r'life'\n",
    "script = 'Life is so cool'\n",
    "\n",
    "print(refineder(pattern, script))"
   ]
  },
  {
   "cell_type": "markdown",
   "id": "8e72b8cb",
   "metadata": {
    "ExecuteTime": {
     "end_time": "2021-09-21T11:08:35.533601Z",
     "start_time": "2021-09-21T11:08:35.525612Z"
    }
   },
   "source": [
    "#### match는 텍스트 중간에 있는 패턴을 찾지 못한다,"
   ]
  },
  {
   "cell_type": "code",
   "execution_count": 31,
   "id": "121b7172",
   "metadata": {
    "ExecuteTime": {
     "end_time": "2021-09-21T11:08:39.273849Z",
     "start_time": "2021-09-21T11:08:39.257851Z"
    }
   },
   "outputs": [
    {
     "name": "stdout",
     "output_type": "stream",
     "text": [
      "Not a match!\n"
     ]
    }
   ],
   "source": [
    "pattern = r'is'\n",
    "script = 'Life is so cool'\n",
    "#6번을 해보세요!\n",
    "print(refineder(pattern, script))"
   ]
  },
  {
   "cell_type": "markdown",
   "id": "6b699ba3",
   "metadata": {},
   "source": [
    "### search 메서드\n",
    "re.search(패턴, 문자열)"
   ]
  },
  {
   "cell_type": "code",
   "execution_count": 32,
   "id": "cb6cf87b",
   "metadata": {
    "ExecuteTime": {
     "end_time": "2021-09-21T11:14:18.162673Z",
     "start_time": "2021-09-21T11:14:18.156667Z"
    }
   },
   "outputs": [],
   "source": [
    "import re"
   ]
  },
  {
   "cell_type": "code",
   "execution_count": 33,
   "id": "c894077e",
   "metadata": {
    "ExecuteTime": {
     "end_time": "2021-09-21T11:14:29.686969Z",
     "start_time": "2021-09-21T11:14:29.667973Z"
    }
   },
   "outputs": [
    {
     "name": "stdout",
     "output_type": "stream",
     "text": [
      "is\n"
     ]
    }
   ],
   "source": [
    "pattern = r'is'\n",
    "script = 'Life is so cool'\n",
    "\n",
    "print(re.search(pattern, script).group())"
   ]
  },
  {
   "cell_type": "code",
   "execution_count": 34,
   "id": "ae179e21",
   "metadata": {
    "ExecuteTime": {
     "end_time": "2021-09-21T11:14:36.652624Z",
     "start_time": "2021-09-21T11:14:36.637621Z"
    }
   },
   "outputs": [
    {
     "name": "stdout",
     "output_type": "stream",
     "text": [
      "Life\n",
      "cool\n"
     ]
    }
   ],
   "source": [
    "pattern = r'Life'\n",
    "script = 'Life is so cool'\n",
    "print(re.search(pattern, script).group())\n",
    "\n",
    "pattern = r'cool'\n",
    "script = 'Life is so cool'\n",
    "print(re.search(pattern, script).group())"
   ]
  },
  {
   "cell_type": "markdown",
   "id": "452c1a78",
   "metadata": {
    "ExecuteTime": {
     "end_time": "2021-09-21T11:19:12.698209Z",
     "start_time": "2021-09-21T11:19:12.686207Z"
    }
   },
   "source": [
    "### findall 메서드\n",
    "re.findall(패턴, 찾으려는 문자열)\n",
    "\n",
    "* findall은 특정 패턴을 문자열에서 모두 찾아서 리스트 형태로 반환한다는 점에서 앞의 두 함수와 차이점\n",
    "\n",
    "* 두 함수는 제대로 찾았는지 확인하는 절차가 필요한 반면 findall은 찾는 값이 없으면 결과값이 빈 리스트로 나온다는 점에서 유용하다."
   ]
  },
  {
   "cell_type": "code",
   "execution_count": 36,
   "id": "61fd3fe2",
   "metadata": {
    "ExecuteTime": {
     "end_time": "2021-09-21T11:21:55.212625Z",
     "start_time": "2021-09-21T11:21:55.200066Z"
    }
   },
   "outputs": [
    {
     "name": "stdout",
     "output_type": "stream",
     "text": [
      "['511223', '521012']\n"
     ]
    }
   ],
   "source": [
    "number = 'My number is 511223-1****** and yours is 521012-2******'\n",
    "print(re.findall('\\d{6}',number))"
   ]
  },
  {
   "cell_type": "code",
   "execution_count": 37,
   "id": "6f786a99",
   "metadata": {
    "ExecuteTime": {
     "end_time": "2021-09-21T11:36:37.424359Z",
     "start_time": "2021-09-21T11:36:37.414402Z"
    }
   },
   "outputs": [
    {
     "name": "stdout",
     "output_type": "stream",
     "text": [
      "['91년', '97년', '2020년']\n",
      "['91년', '97년', '2020년']\n"
     ]
    }
   ],
   "source": [
    "example1 = '저는 91년에 태어났습니다. 97년에는 IMF가 있었습니다. 지금은 2020년입니다.'\n",
    "\n",
    "a = re.findall(r'\\d.+?년',example1) # '년'이라는 글자를 찾으면 패턴 찾기를 멈춘다.\n",
    "b = re.findall(r'\\d+.년',example1) # 숫자를 반복시킨 후 '년' 으로 끝나는 문자를 찾는다.\n",
    "\n",
    "print(a)\n",
    "print(b)"
   ]
  },
  {
   "cell_type": "code",
   "execution_count": 38,
   "id": "2f34bbe0",
   "metadata": {
    "ExecuteTime": {
     "end_time": "2021-09-21T11:36:46.868527Z",
     "start_time": "2021-09-21T11:36:46.864504Z"
    }
   },
   "outputs": [
    {
     "name": "stdout",
     "output_type": "stream",
     "text": [
      "['(이동민, 2019)', '(최재영, 2019)', '(Lion, 2018)']\n"
     ]
    }
   ],
   "source": [
    "example = '이동민 교수는 다음과 같이 설명했습니다(이동민, 2019). 그런데 다른 학자는 이 문제에 대해서 다른 견해를 가지고 있었습니다(최재영, 2019). 또 다른 견해도 있었습니다(Lion, 2018).'\n",
    "\n",
    "c = re.findall(r'\\(.+?\\)',example)\n",
    "print(c)"
   ]
  },
  {
   "cell_type": "markdown",
   "id": "c6c298ac",
   "metadata": {},
   "source": [
    "### split 메서드\n",
    "* re.split(패턴, 문자열)"
   ]
  },
  {
   "cell_type": "code",
   "execution_count": 39,
   "id": "a49b4a4b",
   "metadata": {
    "ExecuteTime": {
     "end_time": "2021-09-22T04:48:32.334307Z",
     "start_time": "2021-09-22T04:48:32.317046Z"
    }
   },
   "outputs": [],
   "source": [
    "import re\n",
    "sentence = 'I have a lovely dog, really. I am not telling a lie. What a pretty dog! I love this dog.'\n",
    "\n",
    "\n",
    "data = 'a:3;b:4;c:5'"
   ]
  },
  {
   "cell_type": "code",
   "execution_count": 42,
   "id": "c2d827f1",
   "metadata": {
    "ExecuteTime": {
     "end_time": "2021-09-22T04:48:58.518104Z",
     "start_time": "2021-09-22T04:48:58.500668Z"
    }
   },
   "outputs": [
    {
     "data": {
      "text/plain": [
       "['a:3', 'b:4', 'c:5']"
      ]
     },
     "execution_count": 42,
     "metadata": {},
     "output_type": "execute_result"
    }
   ],
   "source": [
    "data.split(';')"
   ]
  },
  {
   "cell_type": "markdown",
   "id": "afa808a0",
   "metadata": {},
   "source": [
    "sentence문장을 split함수를 사용해서 마침표, 느낌표, 물음표마다 나눈 결과를 출력\n",
    "* r을 쓰면 마침표, 느낌표, 물음표마다 역슬래시(\\)를 붙이지 않아도 됨"
   ]
  },
  {
   "cell_type": "code",
   "execution_count": 49,
   "id": "186d171e",
   "metadata": {
    "ExecuteTime": {
     "end_time": "2021-09-22T04:53:41.979411Z",
     "start_time": "2021-09-22T04:53:41.954915Z"
    }
   },
   "outputs": [
    {
     "data": {
      "text/plain": [
       "['I have a lovely dog, really',\n",
       " ' I am not telling a lie',\n",
       " ' What a pretty dog',\n",
       " ' I love this dog',\n",
       " '']"
      ]
     },
     "execution_count": 49,
     "metadata": {},
     "output_type": "execute_result"
    }
   ],
   "source": [
    "re.split(r'[.!?]',sentence)"
   ]
  },
  {
   "cell_type": "markdown",
   "id": "bb008cf1",
   "metadata": {},
   "source": [
    "data를 ;기준으로 나눈 뒤 각 요소를 :로 나눈 값을 출력"
   ]
  },
  {
   "cell_type": "code",
   "execution_count": 52,
   "id": "7e0712bf",
   "metadata": {
    "ExecuteTime": {
     "end_time": "2021-09-22T04:56:04.160783Z",
     "start_time": "2021-09-22T04:56:04.154784Z"
    }
   },
   "outputs": [
    {
     "name": "stdout",
     "output_type": "stream",
     "text": [
      "['a', '3']\n",
      "['b', '4']\n",
      "['c', '5']\n"
     ]
    }
   ],
   "source": [
    "for i in re.split(r';',data):\n",
    "    li = re.split(r':',i)\n",
    "    print(li)"
   ]
  },
  {
   "cell_type": "markdown",
   "id": "1706cbeb",
   "metadata": {},
   "source": [
    "### sub 메서드\n",
    "* re.sub(찾을 패턴, 대체할 문자, 찾을 문자열)\n",
    "* sub메서드는 찾을 문자열에서 찾을 패턴을 전부 대체할 문자로 대체하는 기능\n",
    "* sub기능만 사용한다고 변수에 대체된 결과가 자동으로 저장되지 않는다.\n",
    "* 변수에 sub 결과값을 직접 저장"
   ]
  },
  {
   "cell_type": "code",
   "execution_count": 55,
   "id": "d08115a9",
   "metadata": {
    "ExecuteTime": {
     "end_time": "2021-09-22T05:01:18.314781Z",
     "start_time": "2021-09-22T05:01:18.290175Z"
    }
   },
   "outputs": [
    {
     "name": "stdout",
     "output_type": "stream",
     "text": [
      "ooollloooolllllooolollo\n"
     ]
    }
   ],
   "source": [
    "word = 'ooollloooolllllooolollo'\n",
    "re.sub(r'l', 'o', word)\n",
    "print(word)"
   ]
  },
  {
   "cell_type": "code",
   "execution_count": 56,
   "id": "75d66d3e",
   "metadata": {
    "ExecuteTime": {
     "end_time": "2021-09-22T05:01:31.941193Z",
     "start_time": "2021-09-22T05:01:31.933187Z"
    }
   },
   "outputs": [
    {
     "name": "stdout",
     "output_type": "stream",
     "text": [
      "ooooooooooooooooooooooo\n"
     ]
    }
   ],
   "source": [
    "word = 'ooollloooolllllooolollo'\n",
    "word = re.sub(r'l', 'o', word) # sub의 결과를 저장\n",
    "print(word)"
   ]
  },
  {
   "cell_type": "markdown",
   "id": "581eba2c",
   "metadata": {},
   "source": [
    "sentence에 sub를 사용하여 ‘dog’를 ‘cat’으로 바꾼 값을 저장하고 출력"
   ]
  },
  {
   "cell_type": "code",
   "execution_count": 57,
   "id": "805d9ee6",
   "metadata": {
    "ExecuteTime": {
     "end_time": "2021-09-22T05:02:55.174717Z",
     "start_time": "2021-09-22T05:02:55.158763Z"
    }
   },
   "outputs": [
    {
     "name": "stdout",
     "output_type": "stream",
     "text": [
      "I have a lovely cat, really. I am not telling a lie. What a pretty cat! I love this cat.\n"
     ]
    }
   ],
   "source": [
    "sentence = \"I have a lovely dog, really. I am not telling a lie. What a pretty dog! I love this dog.\"\n",
    "sentence = re.sub(r'dog', 'cat',sentence)\n",
    "print(sentence)"
   ]
  },
  {
   "cell_type": "markdown",
   "id": "8d957b01",
   "metadata": {},
   "source": [
    "word에 sub를 사용하여 개행을 공백으로 바꾼 값을 저장하고 출력"
   ]
  },
  {
   "cell_type": "code",
   "execution_count": 59,
   "id": "a542db5a",
   "metadata": {
    "ExecuteTime": {
     "end_time": "2021-09-22T05:05:56.782699Z",
     "start_time": "2021-09-22T05:05:56.772145Z"
    }
   },
   "outputs": [
    {
     "name": "stdout",
     "output_type": "stream",
     "text": [
      "I am home now. I am with my cat.\n"
     ]
    }
   ],
   "source": [
    "words = 'I am home now. \\n\\n\\nI am with my cat.\\n\\n'\n",
    "words = re.sub(r'\\n', '',words)\n",
    "print(words)"
   ]
  },
  {
   "cell_type": "markdown",
   "id": "d18a0d93",
   "metadata": {},
   "source": [
    "ly로 끝나는 단어 추출\n",
    "* 공백이 아닌 문자나 숫자는 \\w\n",
    "* 숫자에 상관없이 반복하는 문자는 +\n",
    ">‘\\w+ly'란 패턴을 찾는다"
   ]
  },
  {
   "cell_type": "code",
   "execution_count": 61,
   "id": "65902631",
   "metadata": {
    "ExecuteTime": {
     "end_time": "2021-09-22T05:08:30.974782Z",
     "start_time": "2021-09-22T05:08:30.965229Z"
    }
   },
   "outputs": [
    {
     "data": {
      "text/plain": [
       "['lovely', 'really']"
      ]
     },
     "execution_count": 61,
     "metadata": {},
     "output_type": "execute_result"
    }
   ],
   "source": [
    "sentence = 'I have a lovely dog, really. I am not telling a lie'\n",
    "\n",
    "re.findall(r'\\w+ly',sentence)"
   ]
  },
  {
   "cell_type": "markdown",
   "id": "7102ec7a",
   "metadata": {},
   "source": [
    "---"
   ]
  },
  {
   "cell_type": "code",
   "execution_count": 64,
   "id": "4c7e4a62",
   "metadata": {
    "ExecuteTime": {
     "end_time": "2021-09-22T05:55:08.403957Z",
     "start_time": "2021-09-22T05:55:08.396954Z"
    }
   },
   "outputs": [],
   "source": [
    "littlePrince = '''여섯 살 적에 나는 '체험한 이야기'라는 제목의, 원시림에 관한 책에서 기 막힌 그림 하나를 본 적이 있다. 맹수를 집어삼키고 있는 보아뱀 그림이었다. 위의 그림은 그것을 옮 겨 그린 것이다. 그 책에는 이렇게 씌어 있었다. '보아뱀은 먹이를 씹지도 않고 통째로 집어삼킨다. 그리고는 꼼짝도 하지 못하고 여섯 달 동안 잠을 자 면서 그것을 소화시킨다.' '''"
   ]
  },
  {
   "cell_type": "code",
   "execution_count": 65,
   "id": "88121383",
   "metadata": {
    "ExecuteTime": {
     "end_time": "2021-09-22T05:55:18.742627Z",
     "start_time": "2021-09-22T05:55:18.721623Z"
    }
   },
   "outputs": [],
   "source": [
    "short = lambda x : x[:10]"
   ]
  },
  {
   "cell_type": "code",
   "execution_count": 66,
   "id": "01d98461",
   "metadata": {
    "ExecuteTime": {
     "end_time": "2021-09-22T05:55:28.802150Z",
     "start_time": "2021-09-22T05:55:28.789100Z"
    }
   },
   "outputs": [
    {
     "name": "stdout",
     "output_type": "stream",
     "text": [
      "여섯 살 적에 나는\n"
     ]
    }
   ],
   "source": [
    "print(short(littlePrince))"
   ]
  },
  {
   "cell_type": "code",
   "execution_count": 67,
   "id": "fef6586b",
   "metadata": {
    "ExecuteTime": {
     "end_time": "2021-09-22T05:55:47.063715Z",
     "start_time": "2021-09-22T05:55:47.044670Z"
    }
   },
   "outputs": [
    {
     "data": {
      "text/plain": [
       "[\"여섯 살 적에 나는 '체험한 이야기'라는 제목의, 원시림에 관한 책에서 기 막힌 그림 하나를 본 적이 있다\",\n",
       " ' 맹수를 집어삼키고 있는 보아뱀 그림이었다',\n",
       " ' 위의 그림은 그것을 옮 겨 그린 것이다',\n",
       " ' 그 책에는 이렇게 씌어 있었다',\n",
       " \" '보아뱀은 먹이를 씹지도 않고 통째로 집어삼킨다\",\n",
       " ' 그리고는 꼼짝도 하지 못하고 여섯 달 동안 잠을 자 면서 그것을 소화시킨다',\n",
       " \"' \"]"
      ]
     },
     "execution_count": 67,
     "metadata": {},
     "output_type": "execute_result"
    }
   ],
   "source": [
    "sen = [i for i in littlePrince.split('.')]\n",
    "sen"
   ]
  },
  {
   "cell_type": "markdown",
   "id": "71afe18d",
   "metadata": {
    "ExecuteTime": {
     "end_time": "2021-09-22T05:55:03.163000Z",
     "start_time": "2021-09-22T05:55:03.142947Z"
    }
   },
   "source": [
    "---"
   ]
  },
  {
   "cell_type": "markdown",
   "id": "5c520b15",
   "metadata": {
    "ExecuteTime": {
     "end_time": "2021-09-22T05:09:18.936666Z",
     "start_time": "2021-09-22T05:09:18.933665Z"
    }
   },
   "source": [
    "## 드라마 대본 불러오기"
   ]
  },
  {
   "cell_type": "code",
   "execution_count": 68,
   "id": "c0f86cc4",
   "metadata": {
    "ExecuteTime": {
     "end_time": "2021-09-22T05:57:36.181798Z",
     "start_time": "2021-09-22T05:57:36.169802Z"
    }
   },
   "outputs": [],
   "source": [
    "import os, re, codecs"
   ]
  },
  {
   "cell_type": "markdown",
   "id": "3d1b8773",
   "metadata": {},
   "source": [
    "파이썬에서 유니코드를 다룰 때는 일반적으로 `str.decode()`와 `unicode.encode()` 메서드를 사용하여<br> unicode 타입과 str 타입을 상호 변환한다."
   ]
  },
  {
   "cell_type": "code",
   "execution_count": 77,
   "id": "60cd44a0",
   "metadata": {
    "ExecuteTime": {
     "end_time": "2021-09-22T05:59:07.026896Z",
     "start_time": "2021-09-22T05:59:07.016932Z"
    }
   },
   "outputs": [],
   "source": [
    "f = codecs.open('friends101.txt','r',encoding='utf-8')"
   ]
  },
  {
   "cell_type": "code",
   "execution_count": 78,
   "id": "9aa8fb60",
   "metadata": {
    "ExecuteTime": {
     "end_time": "2021-09-22T05:59:07.972889Z",
     "start_time": "2021-09-22T05:59:07.959888Z"
    }
   },
   "outputs": [],
   "source": [
    "k = f.read()"
   ]
  },
  {
   "cell_type": "code",
   "execution_count": 79,
   "id": "dc1918a0",
   "metadata": {
    "ExecuteTime": {
     "end_time": "2021-09-22T05:59:08.931235Z",
     "start_time": "2021-09-22T05:59:08.916828Z"
    }
   },
   "outputs": [
    {
     "name": "stdout",
     "output_type": "stream",
     "text": [
      "The One Where Monica Gets a New Roommate (The Pilot-The Uncut Version)\n",
      "Written by: Marta Kauffman & \n"
     ]
    }
   ],
   "source": [
    "print(k[:100])"
   ]
  },
  {
   "cell_type": "code",
   "execution_count": 80,
   "id": "386e350e",
   "metadata": {
    "ExecuteTime": {
     "end_time": "2021-09-22T05:59:22.380680Z",
     "start_time": "2021-09-22T05:59:22.373356Z"
    }
   },
   "outputs": [
    {
     "name": "stdout",
     "output_type": "stream",
     "text": [
      "The One Where Monica Gets a New Roommate (The Pilot-The Uncut Version)\n",
      "Written by: Marta Kauffman & David Crane\n",
      "Transcribed by: guineapig\n",
      "Additional transcribing by: Eric Aasen\n",
      "(Note: The previously unseen parts of this episode are shown in blue text.)\n",
      "\n",
      "[Scene: Central Perk, Chandler, Joey, Phoebe, \n"
     ]
    }
   ],
   "source": [
    "print(k[:300])"
   ]
  },
  {
   "cell_type": "code",
   "execution_count": 81,
   "id": "b44da3b3",
   "metadata": {
    "ExecuteTime": {
     "end_time": "2021-09-22T05:59:40.391207Z",
     "start_time": "2021-09-22T05:59:40.384596Z"
    }
   },
   "outputs": [
    {
     "name": "stdout",
     "output_type": "stream",
     "text": [
      "The One Where Monica Gets a New Roommate (The Pilot-The Uncut Version)\n",
      "Written by: Marta Kauffman & David Crane\n",
      "Transcribed by: guineapig\n",
      "Additional transcribing by: Eric Aasen\n",
      "(Note: The previously unseen parts of this episode are shown in blue text.)\n",
      "\n",
      "[Scene: Central Perk, Chandler, Joey, Phoebe, and Monica are there.]\n",
      "\n",
      "Monica: There's nothing to tell! He's just some guy I work with!\n",
      "\n",
      "Joey: C'mon, you're going out with the guy! There's gotta be something wrong with him!\n",
      "\n",
      "Chandler: All right Joey, be nice.  So does he have a hump? A hump and a hairpiece?\n",
      "\n",
      "Phoebe: Wait, does he eat chalk?\n",
      "\n",
      "(They all stare, bemused.)\n",
      "\n",
      "Phoebe: Just, 'cause, I don't want her to go through what I went through with Carl- oh!\n",
      "\n",
      "Monica: Okay, everybody relax. This is not even a date. It's just two people going out to dinner and- not having sex.\n",
      "\n",
      "Chandler: Sounds like a date to me.\n",
      "\n",
      "[Time Lapse]\n",
      "\n",
      "Chandler: Alright, so I'm back in high school, I'm standing in the middle of the cafeteria, and I realize I am total\n"
     ]
    }
   ],
   "source": [
    "print(k[:1000])"
   ]
  },
  {
   "cell_type": "markdown",
   "id": "5f0bf021",
   "metadata": {},
   "source": [
    "# "
   ]
  },
  {
   "cell_type": "markdown",
   "id": "5ad1ec0d",
   "metadata": {
    "ExecuteTime": {
     "end_time": "2021-09-22T06:00:11.445932Z",
     "start_time": "2021-09-22T06:00:11.430933Z"
    }
   },
   "source": [
    "## 특정 등장인물의 대사만 모으기"
   ]
  },
  {
   "cell_type": "code",
   "execution_count": 83,
   "id": "584c8c11",
   "metadata": {
    "ExecuteTime": {
     "end_time": "2021-09-22T06:06:36.137461Z",
     "start_time": "2021-09-22T06:06:36.128856Z"
    }
   },
   "outputs": [],
   "source": [
    "import os, re, codecs"
   ]
  },
  {
   "cell_type": "code",
   "execution_count": 84,
   "id": "625dc903",
   "metadata": {
    "ExecuteTime": {
     "end_time": "2021-09-22T06:06:37.014109Z",
     "start_time": "2021-09-22T06:06:36.986595Z"
    }
   },
   "outputs": [],
   "source": [
    "f = codecs.open('friends101.txt', 'r', encoding = 'utf-8')\n",
    "script101 = f.read()"
   ]
  },
  {
   "cell_type": "markdown",
   "id": "50c62029",
   "metadata": {},
   "source": [
    "Line변수에 script101에서 findall로 모니카의 대사를 모두 찾아 저장"
   ]
  },
  {
   "cell_type": "code",
   "execution_count": 85,
   "id": "4c3d84cd",
   "metadata": {
    "ExecuteTime": {
     "end_time": "2021-09-22T06:06:46.715391Z",
     "start_time": "2021-09-22T06:06:46.704392Z"
    }
   },
   "outputs": [],
   "source": [
    "Line = re.findall(r'Monica:.+''.+',script101)"
   ]
  },
  {
   "cell_type": "markdown",
   "id": "d67bdcce",
   "metadata": {},
   "source": [
    "Line리스트 요소 중 앞의 세 개만 출력"
   ]
  },
  {
   "cell_type": "code",
   "execution_count": 86,
   "id": "859ff3d7",
   "metadata": {
    "ExecuteTime": {
     "end_time": "2021-09-22T06:06:58.262758Z",
     "start_time": "2021-09-22T06:06:58.238140Z"
    }
   },
   "outputs": [
    {
     "data": {
      "text/plain": [
       "[\"Monica: There's nothing to tell! He's just some guy I work with!\",\n",
       " \"Monica: Okay, everybody relax. This is not even a date. It's just two people going out to dinner and- not having sex.\",\n",
       " \"Monica: And they weren't looking at you before?!\"]"
      ]
     },
     "execution_count": 86,
     "metadata": {},
     "output_type": "execute_result"
    }
   ],
   "source": [
    "Line[:3]"
   ]
  },
  {
   "cell_type": "markdown",
   "id": "fb19cfc9",
   "metadata": {},
   "source": [
    "Line리스트 요소 중 앞의 세 개만 출력하되 반복문을 사용하여 각 대사별로 개행이 되게 출력"
   ]
  },
  {
   "cell_type": "code",
   "execution_count": 91,
   "id": "920b5822",
   "metadata": {
    "ExecuteTime": {
     "end_time": "2021-09-22T06:11:38.591229Z",
     "start_time": "2021-09-22T06:11:38.583713Z"
    }
   },
   "outputs": [
    {
     "name": "stdout",
     "output_type": "stream",
     "text": [
      "Monica: There's nothing to tell! He's just some guy I work with!\n",
      "\n",
      "Monica: Okay, everybody relax. This is not even a date. It's just two people going out to dinner and- not having sex.\n",
      "\n",
      "Monica: And they weren't looking at you before?!\n",
      "\n"
     ]
    }
   ],
   "source": [
    "for i in range(0,3):\n",
    "    print(Line[i]+'\\n')"
   ]
  },
  {
   "cell_type": "code",
   "execution_count": 93,
   "id": "f056f741",
   "metadata": {
    "ExecuteTime": {
     "end_time": "2021-09-22T06:12:05.248982Z",
     "start_time": "2021-09-22T06:12:05.229984Z"
    }
   },
   "outputs": [
    {
     "name": "stdout",
     "output_type": "stream",
     "text": [
      "Monica: There's nothing to tell! He's just some guy I work with!\n",
      "\n",
      "Monica: Okay, everybody relax. This is not even a date. It's just two people going out to dinner and- not having sex.\n",
      "\n",
      "Monica: And they weren't looking at you before?!\n",
      "\n"
     ]
    }
   ],
   "source": [
    "for i in range(0,3):\n",
    "    li = Line[i]+'\\n'\n",
    "    print(li)"
   ]
  },
  {
   "cell_type": "markdown",
   "id": "67741ee2",
   "metadata": {},
   "source": [
    "monica객체를 만들고 Line에 저장된 monica의 대사들을 개행 처리하여 추가"
   ]
  },
  {
   "cell_type": "code",
   "execution_count": 102,
   "id": "df932c75",
   "metadata": {
    "ExecuteTime": {
     "end_time": "2021-09-22T06:15:34.088544Z",
     "start_time": "2021-09-22T06:15:34.058547Z"
    }
   },
   "outputs": [
    {
     "name": "stdout",
     "output_type": "stream",
     "text": [
      "Monica: There's nothing to tell! He's just some guy I work with!\n",
      "\n",
      "Monica: Okay, everybody relax. This is not even a date. It's just two people going out to dinner and- not having sex.\n",
      "\n",
      "Monica: And they weren't looking at you before?!\n",
      "\n",
      "Monica: Are you okay, sweetie?\n",
      "\n",
      "Monica: (explaining to the others) Carol moved her stuff out today.\n",
      "\n",
      "Monica: (to Ross) Let me get you some coffee.\n",
      "\n",
      "Monica: No you don't.\n",
      "\n",
      "Monica: Oh really, so that hysterical phone call I got from a woman at sobbing 3:00 A.M., \"I'll never have grandchildren, I'll never have grandchildren.\" was what?  A wrong number?\n",
      "\n",
      "Monica: Rachel?!\n",
      "\n",
      "Monica: (pointing at Rachel) De-caff. (to All) Okay, everybody, this is Rachel, another Lincoln High survivor. (to Rachel) This is everybody, this is Chandler, and Phoebe, and Joey, and- you remember my brother Ross?\n",
      "\n",
      "Monica: So you wanna tell us now, or are we waiting for four wet bridesmaids?\n",
      "\n",
      "Monica: Who wasn't invited to the wedding.\n",
      "\n",
      "Monica: Now I'm guessing that he bought her the big pipe organ, and she's really not happy about it.\n",
      "\n",
      "Monica: Well, I guess we've established who's staying here with Monica...\n",
      "\n",
      "Monica: Just breathe, breathe.. that's it. Just try to think of nice calm things...\n",
      "\n",
      "Monica: Okay, look, this is probably for the best, y'know? Independence. Taking control of your life.  The whole, 'hat' thing.\n",
      "\n",
      "Monica: Joey, stop hitting on her! It's her wedding day!\n",
      "\n",
      "Monica: Oh God, is it 6:30?  Buzz him in!\n",
      "\n",
      "Monica: Maybe. Joey: Wait. Your 'not a real date' tonight is with Paul the Wine Guy?\n",
      "\n",
      "Monica: Yes!\n",
      "\n",
      "Monica: Rach, wait, I can cancel...\n",
      "\n",
      "Monica: (to Ross) Are, are you okay? I mean, do you want me to stay?\n",
      "\n",
      "Monica: (horrified) Really?\n",
      "\n",
      "Monica: Hi, come in! Paul, this is.. (They are all lined up next to the door.)... everybody, everybody, this is Paul.\n",
      "\n",
      "Monica: Okay, umm-umm, I'll just--I'll be right back, I just gotta go ah, go ah...\n",
      "\n",
      "Monica: Change!  Okay, sit down. (Shows Paul in) Two seconds.\n",
      "\n",
      "Monica: (yelling from the bedroom) Shut up, Joey!\n",
      "\n",
      "Monica: Oh my God!\n",
      "\n",
      "Monica: My brother's going through that right now, he's such a mess. How did you get through it?\n",
      "\n",
      "Monica: -leg?\n",
      "\n",
      "Monica: You actually broke her watch?  Wow!  The worst thing I ever did was, I-I shredded by boyfriend's favorite bath towel.\n",
      "\n",
      "Monica: That's right. [Scene: Monica's Apartment, Rachel is talking on the phone and pacing.]\n",
      "\n",
      "Monica: What?..... What, you wanna spell it out with noodles?\n",
      "\n",
      "Monica: Oh, so there is gonna be a fifth date?\n",
      "\n",
      "Monica: Yeah... yeah, I think there is. -What were you gonna say?\n",
      "\n",
      "Monica: (spitting out her drink in shock) Oh God, oh God, I am sorry... I am so sorry...\n",
      "\n",
      "Monica: I know being spit on is probably not what you need right now. Um... how long?\n",
      "\n",
      "Monica: Wow! I'm-I'm-I'm glad you smashed her watch!\n",
      "\n",
      "Monica: (pause)...Yeah. Yeah, I do.\n",
      "\n",
      "Monica: (entering, to herself) Oh good, Lenny and Squigy are here.\n",
      "\n",
      "Monica: Stop!\n",
      "\n",
      "Monica: We'll talk later.\n",
      "\n",
      "Monica: Shut up, and put my table back.\n",
      "\n",
      "Monica: Yeah, we all have jobs. See, that's how we buy stuff.\n",
      "\n",
      "Monica: Oh wait, wait, unless you happened to catch the Reruns' production of Pinocchio, at the little theater in the park.\n",
      "\n",
      "Monica: So how you doing today? Did you sleep okay? Talk to Barry? I can't stop smiling.\n",
      "\n",
      "Monica: I know, he's just so, so... Do you remember you and Tony DeMarco?\n",
      "\n",
      "Monica: Well, it's like that. With feelings.\n",
      "\n",
      "Monica: Big time!\n",
      "\n",
      "Monica: I think we are getting a little ahead of selves here. Okay. Okay. I am just going to get up, go to work and not think about him all day. Or else I'm just gonna get up and go to work.\n",
      "\n",
      "Monica: What for?\n",
      "\n",
      "Monica: Hey Frannie, welcome back! How was Florida?\n",
      "\n",
      "Monica: How do you do that?\n",
      "\n",
      "Monica: You know Paul?\n",
      "\n",
      "Monica: You mean you know Paul like I know Paul?\n",
      "\n",
      "Monica: Why?! Why? Why, why would anybody do something like that?\n",
      "\n",
      "Monica: I hate men!  I hate men!\n",
      "\n",
      "Monica: Is it me? Is it like I have some sort of beacon that only dogs and men with severe emotional problems can hear?\n",
      "\n",
      "Monica: I just thought he was nice, y'know?\n",
      "\n",
      "Monica: How'd you pay for them?\n",
      "\n",
      "Monica: And who pays for that?\n",
      "\n",
      "Monica: C'mon, you can't live off your parents your whole life.\n",
      "\n",
      "Monica: All right, you ready?\n",
      "\n",
      "Monica: You can, I know you can!\n",
      "\n",
      "Monica:  Rachel!  That was a library card!\n",
      "\n",
      "Monica: Welcome to the real world! It sucks. You're gonna love it!\n",
      "\n",
      "Monica: Well, that's it (To Ross) You gonna crash on the couch?\n",
      "\n",
      "Monica: You be okay?\n",
      "\n",
      "Monica: That's Paul's watch. You just put it back where you found it. Oh boy. Alright. Goodnight, everybody.\n",
      "\n",
      "Monica: See ya.... Waitwait, what's with you?\n",
      "\n",
      "Monica: What? I-I said you had a-\n",
      "\n",
      "Monica: (to Phoebe) Would you stop?\n",
      "\n",
      "Monica: I said that you had a nice butt, it's just not a great butt.\n",
      "\n"
     ]
    }
   ],
   "source": [
    "for i in range(0,len(Line)):\n",
    "    monica = Line[i]+'\\n'\n",
    "    print(monica)"
   ]
  },
  {
   "cell_type": "code",
   "execution_count": 105,
   "id": "bca4b5b7",
   "metadata": {
    "ExecuteTime": {
     "end_time": "2021-09-22T06:20:04.341178Z",
     "start_time": "2021-09-22T06:20:04.315647Z"
    }
   },
   "outputs": [],
   "source": [
    "m = open('monica.txt.','a')\n",
    "m.write(monica[])\n",
    "m.close()"
   ]
  },
  {
   "cell_type": "markdown",
   "id": "439d6db5",
   "metadata": {},
   "source": [
    "---"
   ]
  },
  {
   "cell_type": "code",
   "execution_count": 117,
   "id": "d3bffe97",
   "metadata": {
    "ExecuteTime": {
     "end_time": "2021-09-22T06:31:37.956783Z",
     "start_time": "2021-09-22T06:31:37.944221Z"
    }
   },
   "outputs": [],
   "source": [
    "Line = re.findall(r'Monica:.+', script101)"
   ]
  },
  {
   "cell_type": "code",
   "execution_count": 118,
   "id": "5721a654",
   "metadata": {
    "ExecuteTime": {
     "end_time": "2021-09-22T06:31:39.083827Z",
     "start_time": "2021-09-22T06:31:39.074744Z"
    }
   },
   "outputs": [
    {
     "name": "stdout",
     "output_type": "stream",
     "text": [
      "[\"Monica: There's nothing to tell! He's just some guy I work with!\", \"Monica: Okay, everybody relax. This is not even a date. It's just two people going out to dinner and- not having sex.\", \"Monica: And they weren't looking at you before?!\"]\n"
     ]
    }
   ],
   "source": [
    "print(Line[:3])"
   ]
  },
  {
   "cell_type": "code",
   "execution_count": 119,
   "id": "57f51336",
   "metadata": {
    "ExecuteTime": {
     "end_time": "2021-09-22T06:31:40.085340Z",
     "start_time": "2021-09-22T06:31:40.074841Z"
    },
    "scrolled": true
   },
   "outputs": [
    {
     "name": "stdout",
     "output_type": "stream",
     "text": [
      "Monica: There's nothing to tell! He's just some guy I work with!\n",
      "Monica: Okay, everybody relax. This is not even a date. It's just two people going out to dinner and- not having sex.\n",
      "Monica: And they weren't looking at you before?!\n"
     ]
    }
   ],
   "source": [
    "for item in Line[:3]:\n",
    "        print(item)"
   ]
  },
  {
   "cell_type": "code",
   "execution_count": null,
   "id": "f560590e",
   "metadata": {},
   "outputs": [],
   "source": [
    "f.close()"
   ]
  },
  {
   "cell_type": "code",
   "execution_count": 120,
   "id": "b1972ee7",
   "metadata": {
    "ExecuteTime": {
     "end_time": "2021-09-22T06:31:41.318360Z",
     "start_time": "2021-09-22T06:31:41.312345Z"
    }
   },
   "outputs": [],
   "source": [
    "f = open('monica.txt', 'w', encoding = 'utf-8')"
   ]
  },
  {
   "cell_type": "code",
   "execution_count": 121,
   "id": "7f79de8b",
   "metadata": {
    "ExecuteTime": {
     "end_time": "2021-09-22T06:31:42.340450Z",
     "start_time": "2021-09-22T06:31:42.328417Z"
    }
   },
   "outputs": [],
   "source": [
    "monica = ''\n",
    "for i in Line:\n",
    "    monica += i"
   ]
  },
  {
   "cell_type": "code",
   "execution_count": 122,
   "id": "8fcea509",
   "metadata": {
    "ExecuteTime": {
     "end_time": "2021-09-22T06:31:43.784045Z",
     "start_time": "2021-09-22T06:31:43.774083Z"
    },
    "scrolled": true
   },
   "outputs": [
    {
     "data": {
      "text/plain": [
       "\"Monica: There's nothing to tell! He's just some guy I work with!Monica: Okay, everybody relax. This \""
      ]
     },
     "execution_count": 122,
     "metadata": {},
     "output_type": "execute_result"
    }
   ],
   "source": [
    "monica[:100]"
   ]
  },
  {
   "cell_type": "code",
   "execution_count": 123,
   "id": "4b55da36",
   "metadata": {
    "ExecuteTime": {
     "end_time": "2021-09-22T06:31:44.945505Z",
     "start_time": "2021-09-22T06:31:44.936504Z"
    },
    "scrolled": true
   },
   "outputs": [
    {
     "data": {
      "text/plain": [
       "4542"
      ]
     },
     "execution_count": 123,
     "metadata": {},
     "output_type": "execute_result"
    }
   ],
   "source": [
    "f.write(monica)\n",
    "f.close()"
   ]
  },
  {
   "cell_type": "markdown",
   "id": "d1e3e948",
   "metadata": {},
   "source": [
    "객체 f를 사용해 monica.txt 파일에 monica 문자열 입력했을 때<br>\n",
    "어떤 숫자 `파일에 쓴 문자의 개수` 가 나온다면 정상적으로 입력된 것"
   ]
  },
  {
   "cell_type": "markdown",
   "id": "8abbef2a",
   "metadata": {},
   "source": [
    "#### 한 줄씩 정렬하도록 출력"
   ]
  },
  {
   "cell_type": "code",
   "execution_count": 125,
   "id": "265d72cc",
   "metadata": {
    "ExecuteTime": {
     "end_time": "2021-09-22T06:32:38.072598Z",
     "start_time": "2021-09-22T06:32:38.067967Z"
    }
   },
   "outputs": [],
   "source": [
    "monica = '' # monica 객체를 다시 선언\n",
    "for i in Line:\n",
    "    monica += i + '\\n' # monica에 저장하는 모든 i값에 '\\n'을 더해 monica에 저장함"
   ]
  },
  {
   "cell_type": "code",
   "execution_count": 126,
   "id": "1c802179",
   "metadata": {
    "ExecuteTime": {
     "end_time": "2021-09-22T06:32:39.270950Z",
     "start_time": "2021-09-22T06:32:39.254954Z"
    }
   },
   "outputs": [
    {
     "data": {
      "text/plain": [
       "4615"
      ]
     },
     "execution_count": 126,
     "metadata": {},
     "output_type": "execute_result"
    }
   ],
   "source": [
    "f = open('monica.txt', 'w', encoding = 'utf-8')\n",
    "f.write(monica) # '\\n'을 추가해 파일에 쓴 문자 개수가 조금 늘어난다"
   ]
  },
  {
   "cell_type": "code",
   "execution_count": 127,
   "id": "7b79baf4",
   "metadata": {
    "ExecuteTime": {
     "end_time": "2021-09-22T06:32:41.742852Z",
     "start_time": "2021-09-22T06:32:41.729797Z"
    }
   },
   "outputs": [],
   "source": [
    "f.close()"
   ]
  },
  {
   "cell_type": "code",
   "execution_count": 128,
   "id": "46597ad7",
   "metadata": {
    "ExecuteTime": {
     "end_time": "2021-09-22T06:32:53.983737Z",
     "start_time": "2021-09-22T06:32:53.970703Z"
    },
    "scrolled": true
   },
   "outputs": [
    {
     "data": {
      "text/plain": [
       "\"Monica: There's nothing to tell! He's just some guy I work with!\\nMonica: Okay, everybody relax. This\""
      ]
     },
     "execution_count": 128,
     "metadata": {},
     "output_type": "execute_result"
    }
   ],
   "source": [
    "monica[0:100]"
   ]
  },
  {
   "cell_type": "markdown",
   "id": "51e18ebc",
   "metadata": {
    "ExecuteTime": {
     "end_time": "2021-09-22T09:10:42.185520Z",
     "start_time": "2021-09-22T09:10:42.171987Z"
    }
   },
   "source": [
    "# "
   ]
  },
  {
   "cell_type": "markdown",
   "id": "2b868448",
   "metadata": {
    "ExecuteTime": {
     "end_time": "2021-09-22T07:02:19.308064Z",
     "start_time": "2021-09-22T07:02:19.293032Z"
    }
   },
   "source": [
    "## 등장인물 리스트 만들기\n",
    "* 각 등장인물들이 ‘Monica:’와 같이 표기되어 있다.\n",
    "* 패턴 : '대문자로 시작 + 소문자 반복 + 콜론(:)\n",
    "* 패턴을 만들 때, `compile` 메서드 사용\n",
    "> pattern = re.compile('[a-z]+')<br>\n",
    "정규표현식을 이용해 소문자가 반복되는 패턴을 pattern에 저장하는 코드\n",
    "\n",
    "* 등장인물들의 이름이 중복되는 문제를 해결하기 위해 set 자료구조를 사용"
   ]
  },
  {
   "cell_type": "code",
   "execution_count": 130,
   "id": "9e73efd2",
   "metadata": {
    "ExecuteTime": {
     "end_time": "2021-09-22T07:07:29.855700Z",
     "start_time": "2021-09-22T07:07:29.836709Z"
    }
   },
   "outputs": [
    {
     "name": "stdout",
     "output_type": "stream",
     "text": [
      "{1, 2, 3, 4, 5}\n"
     ]
    }
   ],
   "source": [
    "a = [1, 2, 3, 4, 5, 2, 2]\n",
    "print(set(a))"
   ]
  },
  {
   "cell_type": "markdown",
   "id": "3396ba8c",
   "metadata": {},
   "source": [
    "---"
   ]
  },
  {
   "cell_type": "code",
   "execution_count": 131,
   "id": "61a24cdc",
   "metadata": {
    "ExecuteTime": {
     "end_time": "2021-09-22T07:08:41.972312Z",
     "start_time": "2021-09-22T07:08:41.962787Z"
    }
   },
   "outputs": [],
   "source": [
    "# 초기 설정\n",
    "import os, re, codecs\n",
    "f = codecs.open('friends101.txt', 'r', encoding = 'utf-8')\n",
    "script101 = f.read()"
   ]
  },
  {
   "cell_type": "markdown",
   "id": "b76a0bab",
   "metadata": {},
   "source": [
    "char 객체에 re.compile(r'[A-Z][a-z]+:')를 저장"
   ]
  },
  {
   "cell_type": "code",
   "execution_count": 132,
   "id": "1cb2ff50",
   "metadata": {
    "ExecuteTime": {
     "end_time": "2021-09-22T07:08:44.657456Z",
     "start_time": "2021-09-22T07:08:44.638470Z"
    }
   },
   "outputs": [],
   "source": [
    "char = re.compile(r'[A-Z][a-z]+:')"
   ]
  },
  {
   "cell_type": "markdown",
   "id": "d87f0f2a",
   "metadata": {},
   "source": [
    ">`r'[A-Z][a-z]+:'` 의 의미는 대문자로 시작하고 <br>소문자를 반복하며 `:`로 마무리 되는 패턴을 의미"
   ]
  },
  {
   "cell_type": "markdown",
   "id": "3aa023f4",
   "metadata": {},
   "source": [
    "findall과 char객체를 사용하여 script101에서 모든 등장인물을 찾고 set으로 중복을 제거하여 y에 저장"
   ]
  },
  {
   "cell_type": "code",
   "execution_count": 139,
   "id": "ff08e7eb",
   "metadata": {
    "ExecuteTime": {
     "end_time": "2021-09-22T07:11:52.269633Z",
     "start_time": "2021-09-22T07:11:52.263633Z"
    }
   },
   "outputs": [],
   "source": [
    "y = set(re.findall(char,script101))"
   ]
  },
  {
   "cell_type": "code",
   "execution_count": 141,
   "id": "85da8604",
   "metadata": {
    "ExecuteTime": {
     "end_time": "2021-09-22T07:12:04.175325Z",
     "start_time": "2021-09-22T07:12:04.162289Z"
    }
   },
   "outputs": [
    {
     "name": "stdout",
     "output_type": "stream",
     "text": [
      "<class 'set'>\n"
     ]
    },
    {
     "data": {
      "text/plain": [
       "{'All:',\n",
       " 'Chandler:',\n",
       " 'Customer:',\n",
       " 'Frannie:',\n",
       " 'Joey:',\n",
       " 'Monica:',\n",
       " 'Note:',\n",
       " 'Paul:',\n",
       " 'Phoebe:',\n",
       " 'Rachel:',\n",
       " 'Ross:',\n",
       " 'Scene:',\n",
       " 'Waitress:'}"
      ]
     },
     "execution_count": 141,
     "metadata": {},
     "output_type": "execute_result"
    }
   ],
   "source": [
    "print(type(y))\n",
    "y"
   ]
  },
  {
   "cell_type": "code",
   "execution_count": 142,
   "id": "5df2816a",
   "metadata": {
    "ExecuteTime": {
     "end_time": "2021-09-22T07:12:23.060896Z",
     "start_time": "2021-09-22T07:12:23.053896Z"
    }
   },
   "outputs": [
    {
     "name": "stdout",
     "output_type": "stream",
     "text": [
      "<class 'list'>\n"
     ]
    },
    {
     "data": {
      "text/plain": [
       "['Joey:',\n",
       " 'Rachel:',\n",
       " 'Waitress:',\n",
       " 'Frannie:',\n",
       " 'Customer:',\n",
       " 'Note:',\n",
       " 'Chandler:',\n",
       " 'All:',\n",
       " 'Scene:',\n",
       " 'Phoebe:',\n",
       " 'Paul:',\n",
       " 'Ross:',\n",
       " 'Monica:']"
      ]
     },
     "execution_count": 142,
     "metadata": {},
     "output_type": "execute_result"
    }
   ],
   "source": [
    "z = list(y)\n",
    "print(type(z))\n",
    "z"
   ]
  },
  {
   "cell_type": "code",
   "execution_count": 151,
   "id": "4f1c005b",
   "metadata": {
    "ExecuteTime": {
     "end_time": "2021-09-22T07:21:31.302908Z",
     "start_time": "2021-09-22T07:21:31.288945Z"
    }
   },
   "outputs": [
    {
     "data": {
      "text/plain": [
       "['Joey',\n",
       " 'Rachel',\n",
       " 'Waitress',\n",
       " 'Frannie',\n",
       " 'Customer',\n",
       " 'Note',\n",
       " 'Chandler',\n",
       " 'All',\n",
       " 'Scene',\n",
       " 'Phoebe',\n",
       " 'Paul',\n",
       " 'Ross',\n",
       " 'Monica']"
      ]
     },
     "execution_count": 151,
     "metadata": {},
     "output_type": "execute_result"
    }
   ],
   "source": [
    "character = [ name[:-1] for name in z ]\n",
    "character"
   ]
  },
  {
   "cell_type": "markdown",
   "id": "27854b7a",
   "metadata": {},
   "source": [
    "#### 한 줄로 작성"
   ]
  },
  {
   "cell_type": "code",
   "execution_count": 152,
   "id": "dd454ea1",
   "metadata": {
    "ExecuteTime": {
     "end_time": "2021-09-22T07:23:34.093875Z",
     "start_time": "2021-09-22T07:23:34.077546Z"
    }
   },
   "outputs": [
    {
     "data": {
      "text/plain": [
       "['Joey',\n",
       " 'Rachel',\n",
       " 'Waitress',\n",
       " 'Frannie',\n",
       " 'Customer',\n",
       " 'Note',\n",
       " 'Chandler',\n",
       " 'All',\n",
       " 'Scene',\n",
       " 'Phoebe',\n",
       " 'Paul',\n",
       " 'Ross',\n",
       " 'Monica']"
      ]
     },
     "execution_count": 152,
     "metadata": {},
     "output_type": "execute_result"
    }
   ],
   "source": [
    "characterr = [ name[:-1] for name in list(set(re.findall(re.compile(r'[A-Z][a-z]+:'),script101))) ]\n",
    "characterr"
   ]
  },
  {
   "cell_type": "markdown",
   "id": "c4d39c04",
   "metadata": {},
   "source": [
    "# "
   ]
  },
  {
   "cell_type": "markdown",
   "id": "fc21f091",
   "metadata": {
    "ExecuteTime": {
     "end_time": "2021-09-22T07:49:22.572405Z",
     "start_time": "2021-09-22T07:49:22.560815Z"
    }
   },
   "source": [
    "## 지문만 출력하기\n",
    "* 지문이란 등장인물이 어떻게 움직여야 하는지를 알려 주는 부분"
   ]
  },
  {
   "cell_type": "code",
   "execution_count": 154,
   "id": "cec6607b",
   "metadata": {
    "ExecuteTime": {
     "end_time": "2021-09-22T07:50:06.290773Z",
     "start_time": "2021-09-22T07:50:06.272781Z"
    }
   },
   "outputs": [],
   "source": [
    "# 초기 설정\n",
    "import os, re, codecs\n",
    "f = codecs.open('friends101.txt', 'r', encoding = 'utf-8')\n",
    "script101 = f.read()"
   ]
  },
  {
   "cell_type": "markdown",
   "id": "10be8cd4",
   "metadata": {},
   "source": [
    "지문에 해당하는 정규표현식\n",
    "`r'\\([A-Za-z].+[a-z|\\.]\\)'`\n",
    "<img src='https://cdn-api.elice.io/api-attachment/attachment/c9991017222644e2b06ccac7d5429fda/image.png'>\n",
    "<img src='https://cdn-api.elice.io/api-attachment/attachment/b7e2b093083b4a77a497160795fcbdca/image.png'>"
   ]
  },
  {
   "cell_type": "code",
   "execution_count": 155,
   "id": "e326afb9",
   "metadata": {
    "ExecuteTime": {
     "end_time": "2021-09-22T08:11:13.551320Z",
     "start_time": "2021-09-22T08:11:13.528323Z"
    }
   },
   "outputs": [
    {
     "name": "stdout",
     "output_type": "stream",
     "text": [
      "['(The Pilot-The Uncut Version)', '(Note: The previously unseen parts of this episode are shown in blue text.)', '(They all stare, bemused.)', '(mortified)', '(explaining to the others)', '(to Ross)']\n"
     ]
    }
   ],
   "source": [
    "script = re.compile(r'\\([A-Za-z].+[a-z|\\.]\\)')\n",
    "\n",
    "script1 = re.findall(script,script101)\n",
    "print(script1[0:6])"
   ]
  },
  {
   "cell_type": "markdown",
   "id": "51f9ac35",
   "metadata": {},
   "source": [
    "---"
   ]
  },
  {
   "cell_type": "markdown",
   "id": "eeece15a",
   "metadata": {
    "ExecuteTime": {
     "end_time": "2021-09-22T08:11:27.936798Z",
     "start_time": "2021-09-22T08:11:27.922746Z"
    }
   },
   "source": [
    "## 특정 단어의 예문만 모아 파일로 저장하기\n",
    "* readlines<br>\n",
    "`readlines`은 해당 객체에서 한 줄에 들어간 문장을 하나의 원소로 하는 리스트를 만드는 명령어"
   ]
  },
  {
   "cell_type": "code",
   "execution_count": 175,
   "id": "450c8a9e",
   "metadata": {
    "ExecuteTime": {
     "end_time": "2021-09-22T08:33:53.256455Z",
     "start_time": "2021-09-22T08:33:53.238450Z"
    }
   },
   "outputs": [],
   "source": [
    "import os, re, codecs\n",
    "f = codecs.open('friends101.txt', 'r', encoding = 'utf-8')"
   ]
  },
  {
   "cell_type": "code",
   "execution_count": 176,
   "id": "2f0a1313",
   "metadata": {
    "ExecuteTime": {
     "end_time": "2021-09-22T08:33:57.716738Z",
     "start_time": "2021-09-22T08:33:57.708777Z"
    }
   },
   "outputs": [
    {
     "data": {
      "text/plain": [
       "'The One Where Monica Gets a New Roommate (The Pilot-The Uncut Version)\\nWritten by: Marta Kauffman & '"
      ]
     },
     "execution_count": 176,
     "metadata": {},
     "output_type": "execute_result"
    }
   ],
   "source": [
    "f.read(100)"
   ]
  },
  {
   "cell_type": "code",
   "execution_count": 177,
   "id": "b3587c8c",
   "metadata": {
    "ExecuteTime": {
     "end_time": "2021-09-22T08:34:05.858381Z",
     "start_time": "2021-09-22T08:34:05.855381Z"
    }
   },
   "outputs": [],
   "source": [
    "f.seek(0)"
   ]
  },
  {
   "cell_type": "code",
   "execution_count": 178,
   "id": "294105e9",
   "metadata": {
    "ExecuteTime": {
     "end_time": "2021-09-22T08:34:54.015461Z",
     "start_time": "2021-09-22T08:34:53.996775Z"
    }
   },
   "outputs": [
    {
     "data": {
      "text/plain": [
       "['The One Where Monica Gets a New Roommate (The Pilot-The Uncut Version)\\n',\n",
       " 'Written by: Marta Kauffman & David Crane\\n',\n",
       " 'Transcribed by: guineapig\\n']"
      ]
     },
     "execution_count": 178,
     "metadata": {},
     "output_type": "execute_result"
    }
   ],
   "source": [
    "sentences = f.readlines()\n",
    "sentences[:3]"
   ]
  },
  {
   "cell_type": "markdown",
   "id": "8338c690",
   "metadata": {
    "ExecuteTime": {
     "end_time": "2021-09-22T08:15:13.499238Z",
     "start_time": "2021-09-22T08:15:13.489238Z"
    }
   },
   "source": [
    "#### match 사용"
   ]
  },
  {
   "cell_type": "markdown",
   "id": "976cf938",
   "metadata": {
    "ExecuteTime": {
     "end_time": "2021-09-22T08:16:28.735650Z",
     "start_time": "2021-09-22T08:16:28.721960Z"
    }
   },
   "source": [
    ">re.match(r'[A-Z][a-z]+:', i)"
   ]
  },
  {
   "cell_type": "code",
   "execution_count": 179,
   "id": "e216364c",
   "metadata": {
    "ExecuteTime": {
     "end_time": "2021-09-22T08:37:51.492119Z",
     "start_time": "2021-09-22T08:37:51.475138Z"
    }
   },
   "outputs": [
    {
     "name": "stdout",
     "output_type": "stream",
     "text": [
      "Monica: There's nothing to tell! He's just some guy I work with!\n",
      "\n",
      "Joey: C'mon, you're going out with the guy! There's gotta be something wrong with him!\n",
      "\n",
      "Chandler: All right Joey, be nice.  So does he have a hump? A hump and a hairpiece?\n",
      "\n",
      "Phoebe: Wait, does he eat chalk?\n",
      "\n",
      "Phoebe: Just, 'cause, I don't want her to go through what I went through with Carl- oh!\n",
      "\n"
     ]
    }
   ],
   "source": [
    "for i in sentences[:20]:\n",
    "    if re.match(r'[A-Z][a-z]+:', i):\n",
    "        print(i)"
   ]
  },
  {
   "cell_type": "markdown",
   "id": "84c68fdf",
   "metadata": {},
   "source": [
    "---"
   ]
  },
  {
   "cell_type": "markdown",
   "id": "62bdc5ff",
   "metadata": {},
   "source": [
    "### split 없이 - 화자 & 대사"
   ]
  },
  {
   "cell_type": "code",
   "execution_count": 202,
   "id": "865e6955",
   "metadata": {
    "ExecuteTime": {
     "end_time": "2021-09-22T08:52:36.686063Z",
     "start_time": "2021-09-22T08:52:36.678061Z"
    }
   },
   "outputs": [],
   "source": [
    "liness = [i for i in sentences if re.match(r'[A-Z][a-z]+:', i)]"
   ]
  },
  {
   "cell_type": "code",
   "execution_count": 203,
   "id": "42d748ae",
   "metadata": {
    "ExecuteTime": {
     "end_time": "2021-09-22T08:52:51.774204Z",
     "start_time": "2021-09-22T08:52:51.767208Z"
    }
   },
   "outputs": [
    {
     "data": {
      "text/plain": [
       "[\"Monica: There's nothing to tell! He's just some guy I work with!\\n\",\n",
       " \"Joey: C'mon, you're going out with the guy! There's gotta be something wrong with him!\\n\",\n",
       " 'Chandler: All right Joey, be nice.  So does he have a hump? A hump and a hairpiece?\\n',\n",
       " 'Phoebe: Wait, does he eat chalk?\\n',\n",
       " \"Phoebe: Just, 'cause, I don't want her to go through what I went through with Carl- oh!\\n\",\n",
       " \"Monica: Okay, everybody relax. This is not even a date. It's just two people going out to dinner and- not having sex.\\n\",\n",
       " 'Chandler: Sounds like a date to me.\\n',\n",
       " \"Chandler: Alright, so I'm back in high school, I'm standing in the middle of the cafeteria, and I realize I am totally naked.\\n\",\n",
       " 'All: Oh, yeah. Had that dream.\\n',\n",
       " \"Chandler: Then I look down, and I realize there's a phone... there.\\n\"]"
      ]
     },
     "execution_count": 203,
     "metadata": {},
     "output_type": "execute_result"
    }
   ],
   "source": [
    "liness[:10]"
   ]
  },
  {
   "cell_type": "code",
   "execution_count": 208,
   "id": "c044ebe2",
   "metadata": {
    "ExecuteTime": {
     "end_time": "2021-09-22T08:57:13.304873Z",
     "start_time": "2021-09-22T08:57:13.288891Z"
    }
   },
   "outputs": [],
   "source": [
    "would = [i for i in liness if re.search('would', i)]"
   ]
  },
  {
   "cell_type": "code",
   "execution_count": 209,
   "id": "c17ef0ab",
   "metadata": {
    "ExecuteTime": {
     "end_time": "2021-09-22T08:57:20.774386Z",
     "start_time": "2021-09-22T08:57:20.748834Z"
    }
   },
   "outputs": [
    {
     "data": {
      "text/plain": [
       "[\"Rachel: Ooh, I was kinda hoping that wouldn't be an issue... [Scene: Monica's Apartment, everyone is there and watching a Spanish Soap on TV and are trying to figure out what is going on.]\\n\",\n",
       " \"Chandler: I would have to say that is an 'L'-shaped bracket.\\n\",\n",
       " 'Monica: Why?! Why? Why, why would anybody do something like that?\\n',\n",
       " 'Rachel: You would be too if you found John and David boots on sale, fifty percent off!\\n',\n",
       " 'Ross: Oh. Listen, do you think- and try not to let my intense vulnerability become any kind of a factor here- but do you think it would be okay if I asked you out? Sometime? Maybe?\\n',\n",
       " \"Joey: Oh, you wouldn't know a great butt if it came up and bit ya.\\n\"]"
      ]
     },
     "execution_count": 209,
     "metadata": {},
     "output_type": "execute_result"
    }
   ],
   "source": [
    "would"
   ]
  },
  {
   "cell_type": "markdown",
   "id": "26d0a337",
   "metadata": {
    "ExecuteTime": {
     "end_time": "2021-09-22T08:51:05.284040Z",
     "start_time": "2021-09-22T08:51:05.273014Z"
    }
   },
   "source": [
    "---"
   ]
  },
  {
   "cell_type": "markdown",
   "id": "b3ee0552",
   "metadata": {
    "ExecuteTime": {
     "end_time": "2021-09-22T08:58:44.391087Z",
     "start_time": "2021-09-22T08:58:44.383047Z"
    }
   },
   "source": [
    "### split - 대사만"
   ]
  },
  {
   "cell_type": "code",
   "execution_count": 192,
   "id": "f983efd0",
   "metadata": {
    "ExecuteTime": {
     "end_time": "2021-09-22T08:46:59.553999Z",
     "start_time": "2021-09-22T08:46:59.542963Z"
    }
   },
   "outputs": [],
   "source": [
    "lines = [i.split(': ')[1] for i in sentences if re.match(r'[A-Z][a-z]+:', i)]"
   ]
  },
  {
   "cell_type": "code",
   "execution_count": 196,
   "id": "f7220edf",
   "metadata": {
    "ExecuteTime": {
     "end_time": "2021-09-22T08:47:42.694131Z",
     "start_time": "2021-09-22T08:47:42.675126Z"
    }
   },
   "outputs": [
    {
     "data": {
      "text/plain": [
       "[\"There's nothing to tell! He's just some guy I work with!\\n\",\n",
       " \"C'mon, you're going out with the guy! There's gotta be something wrong with him!\\n\",\n",
       " 'All right Joey, be nice.  So does he have a hump? A hump and a hairpiece?\\n',\n",
       " 'Wait, does he eat chalk?\\n',\n",
       " \"Just, 'cause, I don't want her to go through what I went through with Carl- oh!\\n\",\n",
       " \"Okay, everybody relax. This is not even a date. It's just two people going out to dinner and- not having sex.\\n\",\n",
       " 'Sounds like a date to me.\\n',\n",
       " \"Alright, so I'm back in high school, I'm standing in the middle of the cafeteria, and I realize I am totally naked.\\n\",\n",
       " 'Oh, yeah. Had that dream.\\n',\n",
       " \"Then I look down, and I realize there's a phone... there.\\n\"]"
      ]
     },
     "execution_count": 196,
     "metadata": {},
     "output_type": "execute_result"
    }
   ],
   "source": [
    "lines[:10]"
   ]
  },
  {
   "cell_type": "code",
   "execution_count": 206,
   "id": "9df74d77",
   "metadata": {
    "ExecuteTime": {
     "end_time": "2021-09-22T08:55:41.286786Z",
     "start_time": "2021-09-22T08:55:41.267729Z"
    }
   },
   "outputs": [],
   "source": [
    "pattern = r'would'\n",
    "would = [i for i in lines if re.search(pattern, i)]"
   ]
  },
  {
   "cell_type": "code",
   "execution_count": 207,
   "id": "08dd8ac5",
   "metadata": {
    "ExecuteTime": {
     "end_time": "2021-09-22T08:56:00.822168Z",
     "start_time": "2021-09-22T08:56:00.813158Z"
    }
   },
   "outputs": [
    {
     "data": {
      "text/plain": [
       "[\"Ooh, I was kinda hoping that wouldn't be an issue... [Scene\",\n",
       " \"I would have to say that is an 'L'-shaped bracket.\\n\",\n",
       " 'Why?! Why? Why, why would anybody do something like that?\\n',\n",
       " 'You would be too if you found John and David boots on sale, fifty percent off!\\n',\n",
       " 'Oh. Listen, do you think- and try not to let my intense vulnerability become any kind of a factor here- but do you think it would be okay if I asked you out? Sometime? Maybe?\\n',\n",
       " \"Oh, you wouldn't know a great butt if it came up and bit ya.\\n\"]"
      ]
     },
     "execution_count": 207,
     "metadata": {},
     "output_type": "execute_result"
    }
   ],
   "source": [
    "would"
   ]
  },
  {
   "cell_type": "markdown",
   "id": "cb023f95",
   "metadata": {},
   "source": [
    "---"
   ]
  },
  {
   "cell_type": "markdown",
   "id": "8e40b2f0",
   "metadata": {
    "ExecuteTime": {
     "end_time": "2021-09-22T08:58:02.464122Z",
     "start_time": "2021-09-22T08:58:02.460124Z"
    }
   },
   "source": [
    "#### 한줄 코드"
   ]
  },
  {
   "cell_type": "code",
   "execution_count": 212,
   "id": "c25f6657",
   "metadata": {
    "ExecuteTime": {
     "end_time": "2021-09-22T09:00:37.307971Z",
     "start_time": "2021-09-22T09:00:37.294925Z"
    }
   },
   "outputs": [],
   "source": [
    "would = [ i for i in sentences if re.match(r'[A-Z][a-z]+:', i) and re.search('would', i)]"
   ]
  },
  {
   "cell_type": "code",
   "execution_count": 213,
   "id": "12ad3fb6",
   "metadata": {
    "ExecuteTime": {
     "end_time": "2021-09-22T09:00:39.768037Z",
     "start_time": "2021-09-22T09:00:39.753000Z"
    }
   },
   "outputs": [
    {
     "data": {
      "text/plain": [
       "[\"Rachel: Ooh, I was kinda hoping that wouldn't be an issue... [Scene: Monica's Apartment, everyone is there and watching a Spanish Soap on TV and are trying to figure out what is going on.]\\n\",\n",
       " \"Chandler: I would have to say that is an 'L'-shaped bracket.\\n\",\n",
       " 'Monica: Why?! Why? Why, why would anybody do something like that?\\n',\n",
       " 'Rachel: You would be too if you found John and David boots on sale, fifty percent off!\\n',\n",
       " 'Ross: Oh. Listen, do you think- and try not to let my intense vulnerability become any kind of a factor here- but do you think it would be okay if I asked you out? Sometime? Maybe?\\n',\n",
       " \"Joey: Oh, you wouldn't know a great butt if it came up and bit ya.\\n\"]"
      ]
     },
     "execution_count": 213,
     "metadata": {},
     "output_type": "execute_result"
    }
   ],
   "source": [
    "would"
   ]
  },
  {
   "cell_type": "markdown",
   "id": "1d195007",
   "metadata": {},
   "source": [
    "---"
   ]
  },
  {
   "cell_type": "markdown",
   "id": "e892e893",
   "metadata": {
    "ExecuteTime": {
     "end_time": "2021-09-22T09:01:24.041693Z",
     "start_time": "2021-09-22T09:01:24.034658Z"
    }
   },
   "source": [
    ">다른 단어 포함 : go, take, could"
   ]
  },
  {
   "cell_type": "markdown",
   "id": "82d5b6c2",
   "metadata": {},
   "source": [
    "#### go"
   ]
  },
  {
   "cell_type": "code",
   "execution_count": 215,
   "id": "d162209e",
   "metadata": {
    "ExecuteTime": {
     "end_time": "2021-09-22T09:02:01.426412Z",
     "start_time": "2021-09-22T09:02:01.397760Z"
    }
   },
   "outputs": [
    {
     "data": {
      "text/plain": [
       "[\"Joey: C'mon, you're going out with the guy! There's gotta be something wrong with him!\\n\",\n",
       " \"Phoebe: Just, 'cause, I don't want her to go through what I went through with Carl- oh!\\n\",\n",
       " \"Monica: Okay, everybody relax. This is not even a date. It's just two people going out to dinner and- not having sex.\\n\",\n",
       " 'Monica: Oh really, so that hysterical phone call I got from a woman at sobbing 3:00 A.M., \"I\\'ll never have grandchildren, I\\'ll never have grandchildren.\" was what?  A wrong number?\\n',\n",
       " \"Rachel: Oh God... well, it started about a half hour before the wedding. I was in the room where we were keeping all the presents, and I was looking at this gravy boat. This really gorgeous Lamauge gravy boat. When all of a sudden- (to the waitress that brought her coffee)Sweet 'n' Lo?- I realized that I was more turned on by this gravy boat than by Barry! And then I got really freaked out, and that's when it hit me: how much Barry looks like Mr. Potato Head. Y'know, I mean, I always knew looked familiar, but... Anyway, I just had to get out of there, and I started wondering 'Why am I doing this, and who am I doing this for?'. (to Monica) So anyway I just didn't know where to go, and I know that you and I have kinda drifted apart, but you're the only person I knew who lived here in the city.\\n\",\n",
       " \"Rachel: Ooh, I was kinda hoping that wouldn't be an issue... [Scene: Monica's Apartment, everyone is there and watching a Spanish Soap on TV and are trying to figure out what is going on.]\\n\",\n",
       " 'Phoebe:  If I let go of my hair, my head will fall off.\\n',\n",
       " \"Rachel: Please, no, go, that'd be fine!\\n\",\n",
       " \"Ross: (choked voice) That'd be good...\\n\",\n",
       " \"Ross: (normal voice) No, go on! It's Paul the Wine Guy!\\n\",\n",
       " \"Monica: Okay, umm-umm, I'll just--I'll be right back, I just gotta go ah, go ah...\\n\",\n",
       " \"Phoebe: Ooh, I just pulled out four eyelashes. That can't be good.\\n\",\n",
       " \"Rachel: Well actually thanks, but I think I'm just gonna hang out here tonight.  It's been kinda a long day.\\n\",\n",
       " \"Joey: I'm thinking we've got a bookcase here.\\n\",\n",
       " 'Joey: Which goes where?\\n',\n",
       " \"Joey: Hey-hey-hey-hey, if you're gonna start with that stuff we're outta here.\\n\",\n",
       " 'Joey: Ross, let me ask you a question. She got the furniture, the stereo, the good TV- what did you get?\\n',\n",
       " 'Joey: You got screwed.\\n',\n",
       " \"Paul: I know, I know, I'm such an idiot. I guess I should have caught on when she started going to the dentist four and five times a week. I mean, how clean can teeth get?\\n\",\n",
       " \"Monica: My brother's going through that right now, he's such a mess. How did you get through it?\\n\",\n",
       " \"Rachel: Barry, I'm sorry... I am so sorry... I know you probably think that this is all about what I said the other day about you making love with your socks on, but it isn't... it isn't, it's about me, and I ju- (She stops talking and dials the phone.) Hi, machine cut me off again... anyway...look, look, I know that some girl is going to be incredibly lucky to become Mrs. Barry Finkel, but it isn't me, it's not me.  And not that I have any idea who me is right now, but you just have to give me a chance too... (The maching cuts her off again and she redials.)\\n\",\n",
       " \"Chandler: Look, Ross, you gotta understand, between us we haven't had a relationship that has lasted longer than a Mento.   You, however have had the love of a woman for four years.   Four years of closeness and sharing at the end of which she ripped your heart out, and that is why we don't do it!  I don't think that was my point!\\n\",\n",
       " \"Joey: What are you talking about? 'One woman'? That's like saying there's only one flavor of ice cream for you. Lemme tell you something, Ross. There's lots of flavors out there. There's Rocky Road, and Cookie Dough, and Bing! Cherry Vanilla. You could get 'em with Jimmies, or nuts, or whipped cream! This is the best thing that ever happened to you! You got married, you were, like, what, eight? Welcome back to the world! Grab a spoon!\\n\",\n",
       " 'Monica: Oh, so there is gonna be a fifth date?\\n',\n",
       " 'Monica: Yeah... yeah, I think there is. -What were you gonna say?\\n',\n",
       " 'Joey: Great story!  But, I uh, I gotta go, I got a date with Andrea--Angela--Andrea...  Oh man, (looks to Chandler)\\n',\n",
       " \"Ross: Y'know, here's the thing. Even if I could get it together enough to- to ask a woman out,... who am I gonna ask? (He gazes out of the window.)\\n\",\n",
       " \"Joey: Listen, while you're on a roll, if you feel like you gotta make like a Western omelet or something... (Joey and Chandler taste the coffee, grimace, and pour it into a plant pot.) Although actually I'm really not that hungry...\\n\",\n",
       " 'Monica: (entering, to herself) Oh good, Lenny and Squigy are here.\\n',\n",
       " \"Chandler: All right, kids, I gotta get to work. If I don't input those numbers,... it doesn't make much of a difference...\\n\",\n",
       " \"Monica: I think we are getting a little ahead of selves here. Okay. Okay. I am just going to get up, go to work and not think about him all day. Or else I'm just gonna get up and go to work.\\n\",\n",
       " \"Rachel: I'm gonna go get one of those (Thinks) job things.\\n\",\n",
       " 'Ross: You got a job?\\n',\n",
       " \"Rachel: They're my new 'I don't need a job, I don't need my parents, I've got great boots' boots!\\n\",\n",
       " \"Phoebe: You're welcome. I remember when I first came to this city. I was fourteen. My mom had just killed herself and my step-dad was back in prison, and I got here, and I didn't know anybody. And I ended up living with this albino guy who was, like, cleaning windshields outside port authority, and then he killed himself, and then I found aromatherapy. So believe me, I know exactly how you feel.\\n\",\n",
       " \"Monica: Welcome to the real world! It sucks. You're gonna love it!\\n\",\n",
       " \"Monica: Well, that's it (To Ross) You gonna crash on the couch?\\n\",\n",
       " 'Ross: No. No, I gotta go home sometime.\\n',\n",
       " 'Ross: No no no, go-\\n']"
      ]
     },
     "execution_count": 215,
     "metadata": {},
     "output_type": "execute_result"
    }
   ],
   "source": [
    "go = [ i for i in sentences if re.match(r'[A-Z][a-z]+:', i) and re.search('go', i)]\n",
    "go"
   ]
  },
  {
   "cell_type": "markdown",
   "id": "bbad350a",
   "metadata": {
    "ExecuteTime": {
     "end_time": "2021-09-22T09:02:38.322234Z",
     "start_time": "2021-09-22T09:02:38.307184Z"
    }
   },
   "source": [
    "#### take"
   ]
  },
  {
   "cell_type": "code",
   "execution_count": 216,
   "id": "99b419d2",
   "metadata": {
    "ExecuteTime": {
     "end_time": "2021-09-22T09:02:09.135866Z",
     "start_time": "2021-09-22T09:02:09.103664Z"
    }
   },
   "outputs": [
    {
     "data": {
      "text/plain": [
       "['Ross: I told mom and dad last night, they seemed to take it pretty well.\\n',\n",
       " \"Paul: Well, ever-ev-... ever since she left me, um, I haven't been able to, uh, perform. (Monica takes a sip of her drink.) ...Sexually.\\n\",\n",
       " 'Joey: I will not take this abuse. (Walks to the door and opens it to leave.)\\n',\n",
       " \"Frannie: Are you kidding? I take credit for Paul. Y'know before me, there was no snap in his turtle for two years.\\n\"]"
      ]
     },
     "execution_count": 216,
     "metadata": {},
     "output_type": "execute_result"
    }
   ],
   "source": [
    "take = [ i for i in sentences if re.match(r'[A-Z][a-z]+:', i) and re.search('take', i)]\n",
    "take"
   ]
  },
  {
   "cell_type": "markdown",
   "id": "1caa4345",
   "metadata": {
    "ExecuteTime": {
     "end_time": "2021-09-22T09:02:45.514329Z",
     "start_time": "2021-09-22T09:02:45.507000Z"
    }
   },
   "source": [
    "#### could"
   ]
  },
  {
   "cell_type": "code",
   "execution_count": 217,
   "id": "9a96ad5c",
   "metadata": {
    "ExecuteTime": {
     "end_time": "2021-09-22T09:02:12.613117Z",
     "start_time": "2021-09-22T09:02:12.597075Z"
    }
   },
   "outputs": [
    {
     "data": {
      "text/plain": [
       "[\"Phoebe: Oh, I wish I could, but I don't want to.\\n\",\n",
       " \"Joey: What are you talking about? 'One woman'? That's like saying there's only one flavor of ice cream for you. Lemme tell you something, Ross. There's lots of flavors out there. There's Rocky Road, and Cookie Dough, and Bing! Cherry Vanilla. You could get 'em with Jimmies, or nuts, or whipped cream! This is the best thing that ever happened to you! You got married, you were, like, what, eight? Welcome back to the world! Grab a spoon!\\n\",\n",
       " \"Ross: Y'know, here's the thing. Even if I could get it together enough to- to ask a woman out,... who am I gonna ask? (He gazes out of the window.)\\n\",\n",
       " \"Rachel: Ugh. (To another customer that's leaving.) Excuse me, could you give this to that guy over there? (Hands him the coffee pot.) Go ahead. (He does so.) Thank you. (To the gang.) Sorry.  Okay, Las Vegas.\\n\"]"
      ]
     },
     "execution_count": 217,
     "metadata": {},
     "output_type": "execute_result"
    }
   ],
   "source": [
    "could = [ i for i in sentences if re.match(r'[A-Z][a-z]+:', i) and re.search('could', i)]\n",
    "could"
   ]
  },
  {
   "cell_type": "markdown",
   "id": "58b79717",
   "metadata": {},
   "source": [
    "---"
   ]
  },
  {
   "cell_type": "markdown",
   "id": "1a262670",
   "metadata": {
    "ExecuteTime": {
     "end_time": "2021-09-22T09:03:27.753595Z",
     "start_time": "2021-09-22T09:03:27.732875Z"
    }
   },
   "source": [
    "#### for 문 출력"
   ]
  },
  {
   "cell_type": "code",
   "execution_count": 220,
   "id": "cd6722de",
   "metadata": {
    "ExecuteTime": {
     "end_time": "2021-09-22T09:03:15.913985Z",
     "start_time": "2021-09-22T09:03:15.901980Z"
    }
   },
   "outputs": [
    {
     "name": "stdout",
     "output_type": "stream",
     "text": [
      "Ross: I told mom and dad last night, they seemed to take it pretty well.\n",
      "\n",
      "Paul: Well, ever-ev-... ever since she left me, um, I haven't been able to, uh, perform. (Monica takes a sip of her drink.) ...Sexually.\n",
      "\n",
      "Joey: I will not take this abuse. (Walks to the door and opens it to leave.)\n",
      "\n",
      "Frannie: Are you kidding? I take credit for Paul. Y'know before me, there was no snap in his turtle for two years.\n",
      "\n"
     ]
    }
   ],
   "source": [
    "for i in take:\n",
    "    print(i)"
   ]
  },
  {
   "cell_type": "markdown",
   "id": "573d36ed",
   "metadata": {
    "ExecuteTime": {
     "end_time": "2021-09-22T09:03:31.333159Z",
     "start_time": "2021-09-22T09:03:31.322117Z"
    }
   },
   "source": [
    "---"
   ]
  },
  {
   "cell_type": "markdown",
   "id": "d0d8b595",
   "metadata": {
    "ExecuteTime": {
     "end_time": "2021-09-22T09:03:47.894564Z",
     "start_time": "2021-09-22T09:03:47.888564Z"
    }
   },
   "source": [
    "### would.txt 파일 생성\n",
    "* writelines 사용\n",
    "* `writelines`는 `readlines`와 정확히 반대로 동작함\n",
    "* 리스트에 들어 있는 원소를 하나씩 꺼내서 한 줄씩 나열"
   ]
  },
  {
   "cell_type": "code",
   "execution_count": 224,
   "id": "421eeabd",
   "metadata": {
    "ExecuteTime": {
     "end_time": "2021-09-22T09:05:25.885561Z",
     "start_time": "2021-09-22T09:05:25.871525Z"
    }
   },
   "outputs": [],
   "source": [
    "newf = open('would.txt','w') # 'would.txt' 파일을 쓰기 모드(w)로 생성"
   ]
  },
  {
   "cell_type": "code",
   "execution_count": 225,
   "id": "e3bc56a4",
   "metadata": {
    "ExecuteTime": {
     "end_time": "2021-09-22T09:05:50.543178Z",
     "start_time": "2021-09-22T09:05:50.525187Z"
    }
   },
   "outputs": [],
   "source": [
    "newf.writelines(would) # would 리스트의 원소를 꺼내 한 줄씩 쓴다."
   ]
  },
  {
   "cell_type": "code",
   "execution_count": 226,
   "id": "7ce22eca",
   "metadata": {
    "ExecuteTime": {
     "end_time": "2021-09-22T09:06:03.166116Z",
     "start_time": "2021-09-22T09:06:03.147549Z"
    }
   },
   "outputs": [],
   "source": [
    "newf.close() # 파일 닫기"
   ]
  },
  {
   "cell_type": "markdown",
   "id": "d3adbe09",
   "metadata": {},
   "source": [
    "---"
   ]
  }
 ],
 "metadata": {
  "hide_input": false,
  "kernelspec": {
   "display_name": "Python 3",
   "language": "python",
   "name": "python3"
  },
  "language_info": {
   "codemirror_mode": {
    "name": "ipython",
    "version": 3
   },
   "file_extension": ".py",
   "mimetype": "text/x-python",
   "name": "python",
   "nbconvert_exporter": "python",
   "pygments_lexer": "ipython3",
   "version": "3.8.8"
  },
  "toc": {
   "base_numbering": 1,
   "nav_menu": {},
   "number_sections": true,
   "sideBar": true,
   "skip_h1_title": false,
   "title_cell": "Table of Contents",
   "title_sidebar": "Contents",
   "toc_cell": false,
   "toc_position": {},
   "toc_section_display": true,
   "toc_window_display": false
  },
  "varInspector": {
   "cols": {
    "lenName": 16,
    "lenType": 16,
    "lenVar": 40
   },
   "kernels_config": {
    "python": {
     "delete_cmd_postfix": "",
     "delete_cmd_prefix": "del ",
     "library": "var_list.py",
     "varRefreshCmd": "print(var_dic_list())"
    },
    "r": {
     "delete_cmd_postfix": ") ",
     "delete_cmd_prefix": "rm(",
     "library": "var_list.r",
     "varRefreshCmd": "cat(var_dic_list()) "
    }
   },
   "types_to_exclude": [
    "module",
    "function",
    "builtin_function_or_method",
    "instance",
    "_Feature"
   ],
   "window_display": false
  }
 },
 "nbformat": 4,
 "nbformat_minor": 5
}
