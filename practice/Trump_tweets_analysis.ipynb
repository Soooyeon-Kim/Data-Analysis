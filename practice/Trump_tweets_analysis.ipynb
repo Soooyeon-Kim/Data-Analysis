{
 "cells": [
  {
   "cell_type": "code",
   "execution_count": 1,
   "id": "74ffe022",
   "metadata": {
    "ExecuteTime": {
     "end_time": "2021-09-21T07:10:30.823823Z",
     "start_time": "2021-09-21T07:10:30.225404Z"
    }
   },
   "outputs": [],
   "source": [
    "# 트럼프 대통령의 트윗 모음\n",
    "from tweets import trump_tweets\n",
    "\n",
    "# 그래프에 필요한 라이브러리\n",
    "import matplotlib.pyplot as plt\n",
    "\n",
    "# 단어구름에 필요한 라이브러리\n",
    "import numpy as np\n",
    "from PIL import Image\n",
    "from wordcloud import WordCloud\n",
    "\n",
    "# 특화된 컨테이너 모듈에서 수 세기를 돕는 메소드\n",
    "from collections import Counter\n",
    "\n",
    "# 문자열 모듈에서 특수문자를 처리를 돕는 메소드\n",
    "from string import punctuation"
   ]
  },
  {
   "cell_type": "code",
   "execution_count": 2,
   "id": "7f8d9be4",
   "metadata": {
    "ExecuteTime": {
     "end_time": "2021-09-21T07:10:38.311671Z",
     "start_time": "2021-09-21T07:10:38.291469Z"
    }
   },
   "outputs": [
    {
     "data": {
      "text/plain": [
       "[('01-19-2017 20:13:57',\n",
       "  'On my way! #Inauguration2017 https://t.co/hOuMbxGnpe'),\n",
       " ('01-19-2017 20:18:32',\n",
       "  'Great Concert at 4:00 P.M. today at Lincoln Memorial. Enjoy!'),\n",
       " ('01-19-2017 20:21:36',\n",
       "  'Join me at 4pm over at the Lincoln Memorial with my family!#Inauguration2017 https://t.co/GQeQpJOgWz'),\n",
       " ('01-20-2017 00:40:51',\n",
       "  'Thank you for joining us at the Lincoln Memorial tonight- a very special evening! Together we are going to MAKE AM… https://t.co/OSxa3BamHs'),\n",
       " ('01-20-2017 04:24:33',\n",
       "  'Thank you for a wonderful evening in Washington D.C. #Inauguration https://t.co/a6xpFQTHj5')]"
      ]
     },
     "execution_count": 2,
     "metadata": {},
     "output_type": "execute_result"
    }
   ],
   "source": [
    "trump_tweets[0:5]"
   ]
  },
  {
   "cell_type": "code",
   "execution_count": 3,
   "id": "5ba90460",
   "metadata": {
    "ExecuteTime": {
     "end_time": "2021-09-21T07:10:47.087187Z",
     "start_time": "2021-09-21T07:10:47.065184Z"
    }
   },
   "outputs": [
    {
     "data": {
      "text/plain": [
       "('01-19-2017 20:13:57', 'On my way! #Inauguration2017 https://t.co/hOuMbxGnpe')"
      ]
     },
     "execution_count": 3,
     "metadata": {},
     "output_type": "execute_result"
    }
   ],
   "source": [
    "trump_tweets[0]"
   ]
  },
  {
   "cell_type": "code",
   "execution_count": 4,
   "id": "de8e321d",
   "metadata": {
    "ExecuteTime": {
     "end_time": "2021-09-21T07:10:54.538952Z",
     "start_time": "2021-09-21T07:10:54.529955Z"
    }
   },
   "outputs": [
    {
     "data": {
      "text/plain": [
       "2553"
      ]
     },
     "execution_count": 4,
     "metadata": {},
     "output_type": "execute_result"
    }
   ],
   "source": [
    "len(trump_tweets)"
   ]
  },
  {
   "cell_type": "code",
   "execution_count": 5,
   "id": "e2c22d21",
   "metadata": {
    "ExecuteTime": {
     "end_time": "2021-09-21T07:11:00.332275Z",
     "start_time": "2021-09-21T07:11:00.315820Z"
    }
   },
   "outputs": [
    {
     "data": {
      "text/plain": [
       "'On my way! #Inauguration2017 https://t.co/hOuMbxGnpe'"
      ]
     },
     "execution_count": 5,
     "metadata": {},
     "output_type": "execute_result"
    }
   ],
   "source": [
    "text = trump_tweets[0][1]\n",
    "text"
   ]
  },
  {
   "cell_type": "markdown",
   "id": "2918509b",
   "metadata": {
    "ExecuteTime": {
     "end_time": "2021-09-21T07:24:12.920663Z",
     "start_time": "2021-09-21T07:24:12.904333Z"
    }
   },
   "source": [
    "## preprocess_text 함수\n",
    "* 전(pre) 처리(process) 해주는 함수\n",
    "* input : string(문자열) \n",
    "* output: list\n",
    "* 소문자 / @ , # 을 제외한 특수문자 제거\n",
    "* 띄어쓰기 단위로 split 된 word list반환"
   ]
  },
  {
   "cell_type": "code",
   "execution_count": 7,
   "id": "334b5b39",
   "metadata": {
    "ExecuteTime": {
     "end_time": "2021-09-21T07:29:40.726636Z",
     "start_time": "2021-09-21T07:29:40.720198Z"
    }
   },
   "outputs": [
    {
     "name": "stdout",
     "output_type": "stream",
     "text": [
      "!\"#$%&'()*+,-./:;<=>?@[\\]^_`{|}~\n"
     ]
    }
   ],
   "source": [
    "print(punctuation)"
   ]
  },
  {
   "cell_type": "code",
   "execution_count": 8,
   "id": "f4d6ce53",
   "metadata": {
    "ExecuteTime": {
     "end_time": "2021-09-21T07:30:47.610561Z",
     "start_time": "2021-09-21T07:30:47.595560Z"
    }
   },
   "outputs": [],
   "source": [
    "# 데이터 전처리\n",
    "def preprocess_text(text):\n",
    "    # 텍스트를 전부 소문자로 변환\n",
    "    text = text.lower()\n",
    "    \n",
    "    # @와 #을 제외한 특수문자로 이루어진 문자열 symbols를 만든다.\n",
    "    symbols = punctuation.replace('@','').replace('#','')\n",
    "    \n",
    "    # text에서 @와 #을 제외한 모든 특수문자를 제거한다.\n",
    "    for symbol in symbols:\n",
    "        text = text.replace(symbol,'')\n",
    "        \n",
    "    # text를 띄어쓰기 단위로 쪼갠다.\n",
    "    words = text.split()\n",
    "    return words"
   ]
  },
  {
   "cell_type": "markdown",
   "id": "a4fc079d",
   "metadata": {
    "ExecuteTime": {
     "end_time": "2021-09-21T07:30:54.943766Z",
     "start_time": "2021-09-21T07:30:54.936764Z"
    }
   },
   "source": [
    "### output"
   ]
  },
  {
   "cell_type": "code",
   "execution_count": 10,
   "id": "a16d9cb3",
   "metadata": {
    "ExecuteTime": {
     "end_time": "2021-09-21T07:31:06.258963Z",
     "start_time": "2021-09-21T07:31:06.252000Z"
    }
   },
   "outputs": [
    {
     "data": {
      "text/plain": [
       "'On my way! #Inauguration2017 https://t.co/hOuMbxGnpe'"
      ]
     },
     "execution_count": 10,
     "metadata": {},
     "output_type": "execute_result"
    }
   ],
   "source": [
    "# input \n",
    "text"
   ]
  },
  {
   "cell_type": "code",
   "execution_count": 12,
   "id": "97e3ee0d",
   "metadata": {
    "ExecuteTime": {
     "end_time": "2021-09-21T07:31:37.045343Z",
     "start_time": "2021-09-21T07:31:37.028339Z"
    }
   },
   "outputs": [
    {
     "data": {
      "text/plain": [
       "['on', 'my', 'way', '#inauguration2017', 'httpstcohoumbxgnpe']"
      ]
     },
     "execution_count": 12,
     "metadata": {},
     "output_type": "execute_result"
    }
   ],
   "source": [
    "# output\n",
    "preprocess_text(text)"
   ]
  },
  {
   "cell_type": "markdown",
   "id": "6c2dce46",
   "metadata": {
    "ExecuteTime": {
     "end_time": "2021-09-21T07:31:52.016914Z",
     "start_time": "2021-09-21T07:31:52.003843Z"
    }
   },
   "source": [
    "## Step by step"
   ]
  },
  {
   "cell_type": "markdown",
   "id": "1bc7958f",
   "metadata": {
    "ExecuteTime": {
     "end_time": "2021-09-21T07:33:07.406350Z",
     "start_time": "2021-09-21T07:33:07.389124Z"
    }
   },
   "source": [
    "#### lower/upper"
   ]
  },
  {
   "cell_type": "code",
   "execution_count": 14,
   "id": "1285125a",
   "metadata": {
    "ExecuteTime": {
     "end_time": "2021-09-21T07:32:44.895151Z",
     "start_time": "2021-09-21T07:32:44.876203Z"
    }
   },
   "outputs": [
    {
     "data": {
      "text/plain": [
       "'hi, my name is sooyeon'"
      ]
     },
     "execution_count": 14,
     "metadata": {},
     "output_type": "execute_result"
    }
   ],
   "source": [
    "txt = 'Hi, my name is SooYeon'\n",
    "txt.lower()"
   ]
  },
  {
   "cell_type": "code",
   "execution_count": 15,
   "id": "a006e786",
   "metadata": {
    "ExecuteTime": {
     "end_time": "2021-09-21T07:32:58.109196Z",
     "start_time": "2021-09-21T07:32:58.102194Z"
    }
   },
   "outputs": [
    {
     "data": {
      "text/plain": [
       "'HI, MY NAME IS SOOYEON'"
      ]
     },
     "execution_count": 15,
     "metadata": {},
     "output_type": "execute_result"
    }
   ],
   "source": [
    "txt = 'Hi, my name is SooYeon'\n",
    "txt.upper()"
   ]
  },
  {
   "cell_type": "markdown",
   "id": "a4ac9153",
   "metadata": {
    "ExecuteTime": {
     "end_time": "2021-09-21T07:33:52.131166Z",
     "start_time": "2021-09-21T07:33:52.128164Z"
    }
   },
   "source": [
    "#### tweets"
   ]
  },
  {
   "cell_type": "code",
   "execution_count": 17,
   "id": "5a1b1bda",
   "metadata": {
    "ExecuteTime": {
     "end_time": "2021-09-21T07:33:36.308962Z",
     "start_time": "2021-09-21T07:33:36.289001Z"
    }
   },
   "outputs": [
    {
     "name": "stdout",
     "output_type": "stream",
     "text": [
      "on my way! #inauguration2017 https://t.co/houmbxgnpe\n"
     ]
    },
    {
     "data": {
      "text/plain": [
       "'ON MY WAY! #INAUGURATION2017 HTTPS://T.CO/HOUMBXGNPE'"
      ]
     },
     "execution_count": 17,
     "metadata": {},
     "output_type": "execute_result"
    }
   ],
   "source": [
    "print(text.lower())\n",
    "text.upper()"
   ]
  },
  {
   "cell_type": "markdown",
   "id": "9977055d",
   "metadata": {
    "ExecuteTime": {
     "end_time": "2021-09-21T07:34:25.789997Z",
     "start_time": "2021-09-21T07:34:25.775952Z"
    }
   },
   "source": [
    "#### punctuation"
   ]
  },
  {
   "cell_type": "code",
   "execution_count": 20,
   "id": "a984b3aa",
   "metadata": {
    "ExecuteTime": {
     "end_time": "2021-09-21T07:34:35.195448Z",
     "start_time": "2021-09-21T07:34:35.182452Z"
    }
   },
   "outputs": [
    {
     "data": {
      "text/plain": [
       "'!\"#$%&\\'()*+,-./:;<=>?@[\\\\]^_`{|}~'"
      ]
     },
     "execution_count": 20,
     "metadata": {},
     "output_type": "execute_result"
    }
   ],
   "source": [
    "from string import punctuation\n",
    "punctuation"
   ]
  },
  {
   "cell_type": "code",
   "execution_count": 21,
   "id": "67a6d881",
   "metadata": {
    "ExecuteTime": {
     "end_time": "2021-09-21T07:34:59.326721Z",
     "start_time": "2021-09-21T07:34:59.318697Z"
    }
   },
   "outputs": [
    {
     "data": {
      "text/plain": [
       "'!\"#$%&\\'()*+,-./:;<=>?@[\\\\]_`{|}~'"
      ]
     },
     "execution_count": 21,
     "metadata": {},
     "output_type": "execute_result"
    }
   ],
   "source": [
    "punctuation.replace('^', '')"
   ]
  },
  {
   "cell_type": "code",
   "execution_count": 23,
   "id": "04669774",
   "metadata": {
    "ExecuteTime": {
     "end_time": "2021-09-21T07:35:33.276890Z",
     "start_time": "2021-09-21T07:35:33.256793Z"
    }
   },
   "outputs": [
    {
     "data": {
      "text/plain": [
       "'!\"#$%&\\'()*+,-./:;<=>?@[]_`{|}~'"
      ]
     },
     "execution_count": 23,
     "metadata": {},
     "output_type": "execute_result"
    }
   ],
   "source": [
    "punctuation.replace('^', '').replace('\\\\','')"
   ]
  },
  {
   "cell_type": "markdown",
   "id": "b5683018",
   "metadata": {},
   "source": [
    "#### for loop with punctuation"
   ]
  },
  {
   "cell_type": "code",
   "execution_count": 24,
   "id": "29db2175",
   "metadata": {
    "ExecuteTime": {
     "end_time": "2021-09-21T07:37:04.901543Z",
     "start_time": "2021-09-21T07:37:04.891008Z"
    }
   },
   "outputs": [
    {
     "data": {
      "text/plain": [
       "'!\"$%&\\'()*+,-./:;<=>?[\\\\]^_`{|}~'"
      ]
     },
     "execution_count": 24,
     "metadata": {},
     "output_type": "execute_result"
    }
   ],
   "source": [
    "symbols = punctuation.replace('@','').replace('#','')\n",
    "symbols"
   ]
  },
  {
   "cell_type": "code",
   "execution_count": 25,
   "id": "becedb69",
   "metadata": {
    "ExecuteTime": {
     "end_time": "2021-09-21T07:37:11.686527Z",
     "start_time": "2021-09-21T07:37:11.668527Z"
    }
   },
   "outputs": [
    {
     "data": {
      "text/plain": [
       "str"
      ]
     },
     "execution_count": 25,
     "metadata": {},
     "output_type": "execute_result"
    }
   ],
   "source": [
    "type(symbols)"
   ]
  },
  {
   "cell_type": "code",
   "execution_count": 26,
   "id": "5237a434",
   "metadata": {
    "ExecuteTime": {
     "end_time": "2021-09-21T07:38:06.248058Z",
     "start_time": "2021-09-21T07:38:06.234664Z"
    }
   },
   "outputs": [
    {
     "data": {
      "text/plain": [
       "'On my way #Inauguration2017 httpstcohOuMbxGnpe'"
      ]
     },
     "execution_count": 26,
     "metadata": {},
     "output_type": "execute_result"
    }
   ],
   "source": [
    "for s in symbols:\n",
    "    text = text.replace(s,'')\n",
    "text"
   ]
  },
  {
   "cell_type": "code",
   "execution_count": 27,
   "id": "c6bca87d",
   "metadata": {
    "ExecuteTime": {
     "end_time": "2021-09-21T07:38:53.477868Z",
     "start_time": "2021-09-21T07:38:53.457301Z"
    }
   },
   "outputs": [
    {
     "data": {
      "text/plain": [
       "'On my way #Inauguration2017 httpstcohOuMbxGnpe'"
      ]
     },
     "execution_count": 27,
     "metadata": {},
     "output_type": "execute_result"
    }
   ],
   "source": [
    "# 같은 구문\n",
    "for symbol in symbols:\n",
    "    text = text.replace(symbol,'')\n",
    "text"
   ]
  },
  {
   "cell_type": "markdown",
   "id": "6cd33526",
   "metadata": {
    "ExecuteTime": {
     "end_time": "2021-09-21T07:39:02.132766Z",
     "start_time": "2021-09-21T07:39:02.117244Z"
    }
   },
   "source": [
    "#### split"
   ]
  },
  {
   "cell_type": "code",
   "execution_count": 30,
   "id": "a97078a7",
   "metadata": {
    "ExecuteTime": {
     "end_time": "2021-09-21T07:45:44.213534Z",
     "start_time": "2021-09-21T07:45:44.197250Z"
    }
   },
   "outputs": [
    {
     "data": {
      "text/plain": [
       "['On', 'my', 'way', '#Inauguration2017', 'httpstcohOuMbxGnpe']"
      ]
     },
     "execution_count": 30,
     "metadata": {},
     "output_type": "execute_result"
    }
   ],
   "source": [
    "# text를 띄어쓰기 단위로 쪼갠다.\n",
    "words = text.split()\n",
    "words"
   ]
  },
  {
   "cell_type": "markdown",
   "id": "8ca49268",
   "metadata": {
    "ExecuteTime": {
     "end_time": "2021-09-21T07:46:34.880693Z",
     "start_time": "2021-09-21T07:46:34.871695Z"
    }
   },
   "source": [
    "> 우리가 만든 사용자 정의 함수 UDF 가 리턴하는 값 --> **list** --> 중요!!"
   ]
  },
  {
   "cell_type": "markdown",
   "id": "bb4652df",
   "metadata": {
    "ExecuteTime": {
     "end_time": "2021-09-21T08:14:30.489096Z",
     "start_time": "2021-09-21T08:14:30.471096Z"
    }
   },
   "source": [
    "## analyze_text 함수\n",
    "* words 들을 해시태그, 멘션, 키워드 3가지로 구분하는 역할 \n",
    "* input : 단어들의 리스트 1개 (위의 preprocess_text() 함수가 return 하는 리스트)\n",
    "* output: 리스트 3개를 리턴 (hashtag list, mentions list, keywords list)"
   ]
  },
  {
   "cell_type": "code",
   "execution_count": 38,
   "id": "95acabe2",
   "metadata": {
    "ExecuteTime": {
     "end_time": "2021-09-21T09:09:14.420659Z",
     "start_time": "2021-09-21T09:09:14.403658Z"
    }
   },
   "outputs": [],
   "source": [
    "# 해시태그와 키워드 추출\n",
    "def analyze_text(words):\n",
    "    # 키워드, 해시태그, 멘션을 저장할 리스트를 각각 생성\n",
    "    keywords, hashtags, mentions = [], [], []\n",
    "    \n",
    "    # 걸러낼 단어를 자유롭게 추가 or 삭제\n",
    "    filter_words = ['the', 'to', 'of', 'in', 'for', 'and', \n",
    "                    'from', 'is', 'on', 'it', 'this', 'that', 'are', \n",
    "                    'was', 'will', 'with', 'very', 'a', 'be', 'by', \n",
    "                    'must', 'just', 'not']\n",
    "    # 쪼갠 단어들을 분류\n",
    "    for word in words:\n",
    "        \n",
    "        \n",
    "        # fitler_words 를 이용해 의미없는 단어를 제거\n",
    "        # if word in filter_words:\n",
    "        #     continue\n",
    "        \n",
    "        # 해시태그 일 경우\n",
    "        if word.startswith('#'):\n",
    "            # 해시(#)를 제외한 단어를 plain_word 변수에 저장\n",
    "            plain_word = word[1:]\n",
    "        \n",
    "            # plain_word를 리스트에 추가\n",
    "            keywords.append(plain_word)\n",
    "            hashtags.append(plain_word)\n",
    "            \n",
    "        elif word.startswith('#'):\n",
    "            # @를 제외한 단어를 plain_word 변수에 저장\n",
    "            plain_word = word[1:]\n",
    "            \n",
    "            # plain_word를 리스트에 추가\n",
    "            keywords.append(plain_word)\n",
    "            mentions.append(plain_word)\n",
    "        \n",
    "        # 둘 다 아닐 경우\n",
    "        else:\n",
    "            # word를 적절한 리스트에 추가\n",
    "            keywords.append(word)\n",
    "        \n",
    "    return keywords, hashtags, mentions"
   ]
  },
  {
   "cell_type": "markdown",
   "id": "53f6815f",
   "metadata": {},
   "source": [
    "### output"
   ]
  },
  {
   "cell_type": "code",
   "execution_count": 39,
   "id": "d6a63c13",
   "metadata": {
    "ExecuteTime": {
     "end_time": "2021-09-21T09:09:15.627167Z",
     "start_time": "2021-09-21T09:09:15.607215Z"
    }
   },
   "outputs": [
    {
     "data": {
      "text/plain": [
       "['on', 'my', 'way', '#inauguration2017', 'httpstcohoumbxgnpe']"
      ]
     },
     "execution_count": 39,
     "metadata": {},
     "output_type": "execute_result"
    }
   ],
   "source": [
    "# input\n",
    "preprocess_text(text)"
   ]
  },
  {
   "cell_type": "code",
   "execution_count": 40,
   "id": "1b6b2f86",
   "metadata": {
    "ExecuteTime": {
     "end_time": "2021-09-21T09:09:16.569419Z",
     "start_time": "2021-09-21T09:09:16.559419Z"
    }
   },
   "outputs": [
    {
     "data": {
      "text/plain": [
       "(['on', 'my', 'way', 'inauguration2017', 'httpstcohoumbxgnpe'],\n",
       " ['inauguration2017'],\n",
       " [])"
      ]
     },
     "execution_count": 40,
     "metadata": {},
     "output_type": "execute_result"
    }
   ],
   "source": [
    "# output\n",
    "analyze_text(preprocess_text(text))"
   ]
  },
  {
   "cell_type": "markdown",
   "id": "d59d8c9a",
   "metadata": {
    "ExecuteTime": {
     "end_time": "2021-09-21T09:09:36.624902Z",
     "start_time": "2021-09-21T09:09:36.618904Z"
    }
   },
   "source": [
    "### Step by step"
   ]
  },
  {
   "cell_type": "markdown",
   "id": "b91c43fe",
   "metadata": {},
   "source": [
    "#### startswith"
   ]
  },
  {
   "cell_type": "code",
   "execution_count": 42,
   "id": "f6f377ad",
   "metadata": {
    "ExecuteTime": {
     "end_time": "2021-09-21T09:10:02.510229Z",
     "start_time": "2021-09-21T09:10:02.495675Z"
    }
   },
   "outputs": [
    {
     "data": {
      "text/plain": [
       "True"
      ]
     },
     "execution_count": 42,
     "metadata": {},
     "output_type": "execute_result"
    }
   ],
   "source": [
    "txt = '#apple'\n",
    "txt.startswith('#')"
   ]
  },
  {
   "cell_type": "code",
   "execution_count": 43,
   "id": "1c3907bd",
   "metadata": {
    "ExecuteTime": {
     "end_time": "2021-09-21T11:41:52.981643Z",
     "start_time": "2021-09-21T11:41:52.961677Z"
    }
   },
   "outputs": [
    {
     "data": {
      "text/plain": [
       "'apple'"
      ]
     },
     "execution_count": 43,
     "metadata": {},
     "output_type": "execute_result"
    }
   ],
   "source": [
    "txt[1:]"
   ]
  },
  {
   "cell_type": "markdown",
   "id": "d288d364",
   "metadata": {},
   "source": [
    "#### practice"
   ]
  },
  {
   "cell_type": "markdown",
   "id": "d3c22c64",
   "metadata": {},
   "source": [
    "* 1"
   ]
  },
  {
   "cell_type": "code",
   "execution_count": 46,
   "id": "a280bca4",
   "metadata": {
    "ExecuteTime": {
     "end_time": "2021-09-21T11:59:45.721803Z",
     "start_time": "2021-09-21T11:59:45.713803Z"
    }
   },
   "outputs": [],
   "source": [
    "words_list = ['#good','#morning','@sooyeon','#challenge','#record','@jihyun', '@seola']\n",
    "\n",
    "hashtag_word_list = []\n",
    "mention_word_list = []\n",
    "\n",
    "for word in words_list:\n",
    "    if word.startswith('#'):\n",
    "        hashtag_word_list.append(word[1:])\n",
    "    elif word.startswith('@'):\n",
    "        mention_word_list.append(word[1:])"
   ]
  },
  {
   "cell_type": "markdown",
   "id": "f491faeb",
   "metadata": {},
   "source": [
    "* 2"
   ]
  },
  {
   "cell_type": "code",
   "execution_count": 56,
   "id": "2a4f7aa0",
   "metadata": {
    "ExecuteTime": {
     "end_time": "2021-09-22T09:48:23.569816Z",
     "start_time": "2021-09-22T09:48:23.547819Z"
    }
   },
   "outputs": [],
   "source": [
    "words_list = ['#good','#morning','@sooyeon','#challenge','#record','@jihyun', '@seola']\n",
    "\n",
    "hashtag_word_list = []\n",
    "mention_word_list = []\n",
    "\n",
    "for word in words_list:\n",
    "    if word.startswith('#'):\n",
    "        plain_word = word[1:]\n",
    "        hashtag_word_list.append(plain_word)\n",
    "    elif word.startswith('@'):\n",
    "        plain_word = word[1:]\n",
    "        mention_word_list.append(plain_word)"
   ]
  },
  {
   "cell_type": "code",
   "execution_count": 57,
   "id": "588a37ea",
   "metadata": {
    "ExecuteTime": {
     "end_time": "2021-09-22T09:48:24.472060Z",
     "start_time": "2021-09-22T09:48:24.453066Z"
    }
   },
   "outputs": [
    {
     "data": {
      "text/plain": [
       "['good', 'morning', 'challenge', 'record']"
      ]
     },
     "execution_count": 57,
     "metadata": {},
     "output_type": "execute_result"
    }
   ],
   "source": [
    "hashtag_word_list"
   ]
  },
  {
   "cell_type": "code",
   "execution_count": 58,
   "id": "7f386eb8",
   "metadata": {
    "ExecuteTime": {
     "end_time": "2021-09-22T09:48:27.111942Z",
     "start_time": "2021-09-22T09:48:27.102783Z"
    }
   },
   "outputs": [
    {
     "data": {
      "text/plain": [
       "['sooyeon', 'jihyun', 'seola']"
      ]
     },
     "execution_count": 58,
     "metadata": {},
     "output_type": "execute_result"
    }
   ],
   "source": [
    "mention_word_list"
   ]
  },
  {
   "cell_type": "markdown",
   "id": "d3c75f70",
   "metadata": {
    "ExecuteTime": {
     "end_time": "2021-09-21T12:04:55.500853Z",
     "start_time": "2021-09-21T12:04:55.487890Z"
    }
   },
   "source": [
    "## filter_by_month 함수\n",
    "* 월별로 트윗 데이터를 필터링(나누는) 함수\n",
    "* input : tweet_data 그 자체 (튜플들의 리스트)\n",
    "* output : 필터링된 해당 월의 트윗데이터를 가지는 '리스트'를 return"
   ]
  },
  {
   "cell_type": "code",
   "execution_count": 120,
   "id": "7e5255d5",
   "metadata": {
    "ExecuteTime": {
     "end_time": "2021-09-22T10:49:38.129258Z",
     "start_time": "2021-09-22T10:49:38.123256Z"
    }
   },
   "outputs": [],
   "source": [
    "def filter_by_month(tweet_data, month):\n",
    "    # month를 문자열로 바꾼 month_string 선언\n",
    "    # 이 때 한 자리 수는 앞에 '0'을 넣어준다. (ex : 1 => '01')\n",
    "    month_string = '0' + str(month) if month < 10 else str(month)\n",
    "    \n",
    "    # 선택한 달의 트윗을 filtered_tweets에 저장\n",
    "    filtered_tweets = []\n",
    "    for date,tweet in tweet_data:\n",
    "        # 트윗의 날짜가 선택한 달에 속해 있으면 트윗의 내용을 filtered_tweets에 추가\n",
    "        if date.startswith(month_string):\n",
    "            filtered_tweets.append(tweet)\n",
    "    return filtered_tweets"
   ]
  },
  {
   "cell_type": "markdown",
   "id": "a6df85e4",
   "metadata": {
    "ExecuteTime": {
     "end_time": "2021-09-22T09:54:03.230090Z",
     "start_time": "2021-09-22T09:54:03.225090Z"
    }
   },
   "source": [
    "#### output"
   ]
  },
  {
   "cell_type": "code",
   "execution_count": 63,
   "id": "134c7e31",
   "metadata": {
    "ExecuteTime": {
     "end_time": "2021-09-22T09:55:05.164137Z",
     "start_time": "2021-09-22T09:55:05.144090Z"
    }
   },
   "outputs": [
    {
     "data": {
      "text/plain": [
       "[('01-19-2017 20:13:57',\n",
       "  'On my way! #Inauguration2017 https://t.co/hOuMbxGnpe'),\n",
       " ('01-19-2017 20:18:32',\n",
       "  'Great Concert at 4:00 P.M. today at Lincoln Memorial. Enjoy!'),\n",
       " ('01-19-2017 20:21:36',\n",
       "  'Join me at 4pm over at the Lincoln Memorial with my family!#Inauguration2017 https://t.co/GQeQpJOgWz')]"
      ]
     },
     "metadata": {},
     "output_type": "display_data"
    }
   ],
   "source": [
    "# input\n",
    "display(trump_tweets[0:3])"
   ]
  },
  {
   "cell_type": "code",
   "execution_count": 65,
   "id": "0bba292c",
   "metadata": {
    "ExecuteTime": {
     "end_time": "2021-09-22T09:59:24.354359Z",
     "start_time": "2021-09-22T09:59:24.336837Z"
    }
   },
   "outputs": [
    {
     "data": {
      "text/plain": [
       "['On my way! #Inauguration2017 https://t.co/hOuMbxGnpe',\n",
       " 'Great Concert at 4:00 P.M. today at Lincoln Memorial. Enjoy!',\n",
       " 'Join me at 4pm over at the Lincoln Memorial with my family!#Inauguration2017 https://t.co/GQeQpJOgWz']"
      ]
     },
     "execution_count": 65,
     "metadata": {},
     "output_type": "execute_result"
    }
   ],
   "source": [
    "# output\n",
    "filter_by_month(trump_tweets[0:3],1)"
   ]
  },
  {
   "cell_type": "markdown",
   "id": "6115ad17",
   "metadata": {
    "ExecuteTime": {
     "end_time": "2021-09-22T10:00:44.697939Z",
     "start_time": "2021-09-22T10:00:44.682916Z"
    }
   },
   "source": [
    "### Step by step"
   ]
  },
  {
   "cell_type": "markdown",
   "id": "f48ee39f",
   "metadata": {
    "ExecuteTime": {
     "end_time": "2021-09-22T10:01:07.083979Z",
     "start_time": "2021-09-22T10:01:07.075981Z"
    }
   },
   "source": [
    "#### month -> month_string"
   ]
  },
  {
   "cell_type": "code",
   "execution_count": 68,
   "id": "c653def5",
   "metadata": {
    "ExecuteTime": {
     "end_time": "2021-09-22T10:02:08.157782Z",
     "start_time": "2021-09-22T10:02:08.141801Z"
    }
   },
   "outputs": [
    {
     "data": {
      "text/plain": [
       "'09'"
      ]
     },
     "execution_count": 68,
     "metadata": {},
     "output_type": "execute_result"
    }
   ],
   "source": [
    "month = 9\n",
    "\n",
    "if month < 10:\n",
    "    month_string = '0' +str(month)\n",
    "else:\n",
    "    month_string = str(month)\n",
    "    \n",
    "month_string"
   ]
  },
  {
   "cell_type": "markdown",
   "id": "b07ab07b",
   "metadata": {},
   "source": [
    "#### 한 줄 코드"
   ]
  },
  {
   "cell_type": "code",
   "execution_count": 69,
   "id": "c6ab75df",
   "metadata": {
    "ExecuteTime": {
     "end_time": "2021-09-22T10:04:03.818850Z",
     "start_time": "2021-09-22T10:04:03.809859Z"
    }
   },
   "outputs": [
    {
     "data": {
      "text/plain": [
       "'07'"
      ]
     },
     "execution_count": 69,
     "metadata": {},
     "output_type": "execute_result"
    }
   ],
   "source": [
    "month = 7\n",
    "month_string = '0'+str(month) if month < 10 else str(month)\n",
    "month_string"
   ]
  },
  {
   "cell_type": "code",
   "execution_count": 70,
   "id": "d29ce8ed",
   "metadata": {
    "ExecuteTime": {
     "end_time": "2021-09-22T10:04:49.357008Z",
     "start_time": "2021-09-22T10:04:49.340002Z"
    }
   },
   "outputs": [
    {
     "data": {
      "text/plain": [
       "'07'"
      ]
     },
     "execution_count": 70,
     "metadata": {},
     "output_type": "execute_result"
    }
   ],
   "source": [
    "# 같은 결과 \n",
    "month = 7\n",
    "month_string = ('0'+str(month)) if month < 10 else str(month)\n",
    "month_string"
   ]
  },
  {
   "cell_type": "markdown",
   "id": "06d131ec",
   "metadata": {
    "ExecuteTime": {
     "end_time": "2021-09-22T10:05:08.623290Z",
     "start_time": "2021-09-22T10:05:08.616289Z"
    }
   },
   "source": [
    "#### 선택한 달의 트윗을 filtered_tweets에 저장"
   ]
  },
  {
   "cell_type": "code",
   "execution_count": 72,
   "id": "8230c751",
   "metadata": {
    "ExecuteTime": {
     "end_time": "2021-09-22T10:06:42.536113Z",
     "start_time": "2021-09-22T10:06:42.518116Z"
    }
   },
   "outputs": [
    {
     "data": {
      "text/plain": [
       "[('01-19-2017 20:13:57',\n",
       "  'On my way! #Inauguration2017 https://t.co/hOuMbxGnpe'),\n",
       " ('01-19-2017 20:18:32',\n",
       "  'Great Concert at 4:00 P.M. today at Lincoln Memorial. Enjoy!')]"
      ]
     },
     "execution_count": 72,
     "metadata": {},
     "output_type": "execute_result"
    }
   ],
   "source": [
    "tweet_data = [('01-19-2017 20:13:57',\n",
    "  'On my way! #Inauguration2017 https://t.co/hOuMbxGnpe'),\n",
    " ('01-19-2017 20:18:32',\n",
    "  'Great Concert at 4:00 P.M. today at Lincoln Memorial. Enjoy!')]\n",
    "tweet_data"
   ]
  },
  {
   "cell_type": "markdown",
   "id": "76545c28",
   "metadata": {
    "ExecuteTime": {
     "end_time": "2021-09-22T10:11:17.681272Z",
     "start_time": "2021-09-22T10:11:17.656714Z"
    }
   },
   "source": [
    "* date"
   ]
  },
  {
   "cell_type": "code",
   "execution_count": 74,
   "id": "c709953e",
   "metadata": {
    "ExecuteTime": {
     "end_time": "2021-09-22T10:11:02.588195Z",
     "start_time": "2021-09-22T10:11:02.566662Z"
    }
   },
   "outputs": [
    {
     "name": "stdout",
     "output_type": "stream",
     "text": [
      "01-19-2017 20:13:57\n",
      "01-19-2017 20:18:32\n"
     ]
    }
   ],
   "source": [
    "for date, tweet in tweet_data:\n",
    "    print(date)"
   ]
  },
  {
   "cell_type": "markdown",
   "id": "640e6034",
   "metadata": {
    "ExecuteTime": {
     "end_time": "2021-09-22T10:11:26.374873Z",
     "start_time": "2021-09-22T10:11:26.359872Z"
    }
   },
   "source": [
    "* tweets"
   ]
  },
  {
   "cell_type": "code",
   "execution_count": 78,
   "id": "eef960d7",
   "metadata": {
    "ExecuteTime": {
     "end_time": "2021-09-22T10:11:50.795778Z",
     "start_time": "2021-09-22T10:11:50.790715Z"
    }
   },
   "outputs": [
    {
     "name": "stdout",
     "output_type": "stream",
     "text": [
      "On my way! #Inauguration2017 https://t.co/hOuMbxGnpe\n",
      "Great Concert at 4:00 P.M. today at Lincoln Memorial. Enjoy!\n"
     ]
    }
   ],
   "source": [
    "for date, tweet in tweet_data:\n",
    "    print(tweet)"
   ]
  },
  {
   "cell_type": "markdown",
   "id": "b46e17f1",
   "metadata": {
    "ExecuteTime": {
     "end_time": "2021-09-22T10:12:32.403443Z",
     "start_time": "2021-09-22T10:12:32.385601Z"
    }
   },
   "source": [
    "## show_stats 함수\n",
    "* 트윗의 통계를 출력\n",
    "* input : 없음\n",
    "* output : 트윗 통계"
   ]
  },
  {
   "cell_type": "code",
   "execution_count": 116,
   "id": "55976afe",
   "metadata": {
    "ExecuteTime": {
     "end_time": "2021-09-22T10:48:51.649205Z",
     "start_time": "2021-09-22T10:48:51.636202Z"
    }
   },
   "outputs": [],
   "source": [
    "def show_stats():\n",
    "    keyword_counter = Counter()\n",
    "    hashtag_counter = Counter()\n",
    "    mention_counter = Counter()\n",
    "    \n",
    "    for _, tweet in trump_tweets:\n",
    "        keyward, hashtag, mention = analyze_text(preprocess_text(tweet))\n",
    "        keyword_counter += Counter(keyward)\n",
    "        hashtag_counter += Counter(hashtag)\n",
    "        mention_counter += Counter(mention)\n",
    "    \n",
    "    # 가장 많이 등장한 키워드, 해시태그, 멘션 출력\n",
    "    top_ten = hashtag_counter.most_common(10)\n",
    "    for hashtag, freq in top_ten:\n",
    "        print('{}:{}회'.format(hashtag, freq))"
   ]
  },
  {
   "cell_type": "markdown",
   "id": "eada4e11",
   "metadata": {
    "ExecuteTime": {
     "end_time": "2021-09-22T10:19:01.269706Z",
     "start_time": "2021-09-22T10:19:01.263706Z"
    }
   },
   "source": [
    "#### output"
   ]
  },
  {
   "cell_type": "code",
   "execution_count": 117,
   "id": "4bfc1bd7",
   "metadata": {
    "ExecuteTime": {
     "end_time": "2021-09-22T10:48:55.272788Z",
     "start_time": "2021-09-22T10:48:54.561709Z"
    }
   },
   "outputs": [
    {
     "name": "stdout",
     "output_type": "stream",
     "text": [
      "maga:28회\n",
      "usa🇺🇸:23회\n",
      "fakenews:15회\n",
      "taxreform:12회\n",
      "hurricaneharvey:11회\n",
      "maga🇺🇸:10회\n",
      "icymi:8회\n",
      "harvey:8회\n",
      "obamacare:7회\n",
      "unga:7회\n"
     ]
    }
   ],
   "source": [
    "show_stats()"
   ]
  },
  {
   "cell_type": "markdown",
   "id": "e643c609",
   "metadata": {},
   "source": [
    "> MAGA : Make America Great Again<br>\n",
    "UNGA : United Nation General Assembly.<br>\n",
    "icymi : In Case You Missed It"
   ]
  },
  {
   "cell_type": "markdown",
   "id": "b9be3749",
   "metadata": {
    "ExecuteTime": {
     "end_time": "2021-09-22T10:22:24.917215Z",
     "start_time": "2021-09-22T10:22:24.900217Z"
    }
   },
   "source": [
    "#### Counter\n",
    "* collections 모듈의 Counter 클래스\n",
    "* 어떤 문자열이나 숫자 리스트가 주어졌을 때, 해당 문자열/리스트 에서 어떤 객체가 몇 번 등장했는지<br>\n",
    "알아서 count, 딕셔너리를 만들어준다.\n",
    "* 대/소문자 구별\n",
    "* key: 객체 value: 객체의 등장 횟수"
   ]
  },
  {
   "cell_type": "code",
   "execution_count": 85,
   "id": "c61c9bba",
   "metadata": {
    "ExecuteTime": {
     "end_time": "2021-09-22T10:22:33.951301Z",
     "start_time": "2021-09-22T10:22:33.938268Z"
    }
   },
   "outputs": [
    {
     "data": {
      "text/plain": [
       "['good', 'morning', 'challenge', 'record']"
      ]
     },
     "execution_count": 85,
     "metadata": {},
     "output_type": "execute_result"
    }
   ],
   "source": [
    "hashtag_word_list"
   ]
  },
  {
   "cell_type": "code",
   "execution_count": 86,
   "id": "f4a1ece7",
   "metadata": {
    "ExecuteTime": {
     "end_time": "2021-09-22T10:22:53.293906Z",
     "start_time": "2021-09-22T10:22:53.280702Z"
    }
   },
   "outputs": [
    {
     "data": {
      "text/plain": [
       "Counter({'good': 1, 'morning': 1, 'challenge': 1, 'record': 1})"
      ]
     },
     "execution_count": 86,
     "metadata": {},
     "output_type": "execute_result"
    }
   ],
   "source": [
    "Counter(hashtag_word_list)"
   ]
  },
  {
   "cell_type": "markdown",
   "id": "070d73ab",
   "metadata": {},
   "source": [
    "#### step by step"
   ]
  },
  {
   "cell_type": "code",
   "execution_count": 96,
   "id": "d923349d",
   "metadata": {
    "ExecuteTime": {
     "end_time": "2021-09-22T10:39:50.373829Z",
     "start_time": "2021-09-22T10:39:50.362036Z"
    }
   },
   "outputs": [
    {
     "data": {
      "text/plain": [
       "Counter()"
      ]
     },
     "execution_count": 96,
     "metadata": {},
     "output_type": "execute_result"
    }
   ],
   "source": [
    "hashtag_counter = Counter()\n",
    "hashtag_counter"
   ]
  },
  {
   "cell_type": "code",
   "execution_count": 97,
   "id": "271ff52a",
   "metadata": {
    "ExecuteTime": {
     "end_time": "2021-09-22T10:39:55.639170Z",
     "start_time": "2021-09-22T10:39:55.620172Z"
    }
   },
   "outputs": [
    {
     "data": {
      "text/plain": [
       "Counter({'good': 1, 'morning': 1, 'challenge': 1, 'record': 1})"
      ]
     },
     "execution_count": 97,
     "metadata": {},
     "output_type": "execute_result"
    }
   ],
   "source": [
    "hashtag_counter = hashtag_counter + Counter(hashtag_word_list)\n",
    "hashtag_counter"
   ]
  },
  {
   "cell_type": "code",
   "execution_count": 98,
   "id": "ea18ed94",
   "metadata": {
    "ExecuteTime": {
     "end_time": "2021-09-22T10:40:01.857589Z",
     "start_time": "2021-09-22T10:40:01.837540Z"
    }
   },
   "outputs": [
    {
     "data": {
      "text/plain": [
       "Counter({'good': 2, 'morning': 2, 'challenge': 2, 'record': 2})"
      ]
     },
     "execution_count": 98,
     "metadata": {},
     "output_type": "execute_result"
    }
   ],
   "source": [
    "hashtag_counter = hashtag_counter + Counter(hashtag_word_list)\n",
    "hashtag_counter"
   ]
  },
  {
   "cell_type": "markdown",
   "id": "105305e4",
   "metadata": {
    "ExecuteTime": {
     "end_time": "2021-09-22T10:32:03.211235Z",
     "start_time": "2021-09-22T10:32:03.204234Z"
    }
   },
   "source": [
    "#### for loop"
   ]
  },
  {
   "cell_type": "code",
   "execution_count": 89,
   "id": "68ed2d50",
   "metadata": {
    "ExecuteTime": {
     "end_time": "2021-09-22T10:32:17.281707Z",
     "start_time": "2021-09-22T10:32:17.262684Z"
    }
   },
   "outputs": [
    {
     "data": {
      "text/plain": [
       "[('01-19-2017 20:13:57',\n",
       "  'On my way! #Inauguration2017 https://t.co/hOuMbxGnpe'),\n",
       " ('01-19-2017 20:18:32',\n",
       "  'Great Concert at 4:00 P.M. today at Lincoln Memorial. Enjoy!'),\n",
       " ('01-19-2017 20:21:36',\n",
       "  'Join me at 4pm over at the Lincoln Memorial with my family!#Inauguration2017 https://t.co/GQeQpJOgWz')]"
      ]
     },
     "execution_count": 89,
     "metadata": {},
     "output_type": "execute_result"
    }
   ],
   "source": [
    "trump_tweets[0:3]"
   ]
  },
  {
   "cell_type": "code",
   "execution_count": 91,
   "id": "d2028331",
   "metadata": {
    "ExecuteTime": {
     "end_time": "2021-09-22T10:33:08.358445Z",
     "start_time": "2021-09-22T10:33:08.350444Z"
    }
   },
   "outputs": [
    {
     "name": "stdout",
     "output_type": "stream",
     "text": [
      "01-19-2017 20:13:57  01-19-2017 20:18:32  01-19-2017 20:21:36  01-20-2017 00:40:51  01-20-2017 04:24:33  01-20-2017 12:31:53  01-20-2017 17:51:25  01-20-2017 17:51:58  01-20-2017 17:52:45  01-20-2017 17:53:17  "
     ]
    }
   ],
   "source": [
    "for _, tweet in trump_tweets[0:10]:\n",
    "    print(_, end='  ')"
   ]
  },
  {
   "cell_type": "code",
   "execution_count": 93,
   "id": "940d26b3",
   "metadata": {
    "ExecuteTime": {
     "end_time": "2021-09-22T10:35:22.873820Z",
     "start_time": "2021-09-22T10:35:22.865822Z"
    }
   },
   "outputs": [
    {
     "name": "stdout",
     "output_type": "stream",
     "text": [
      "01-19-2017 20:13:57  01-19-2017 20:18:32  01-19-2017 20:21:36  01-20-2017 00:40:51  01-20-2017 04:24:33  01-20-2017 12:31:53  01-20-2017 17:51:25  01-20-2017 17:51:58  01-20-2017 17:52:45  01-20-2017 17:53:17  "
     ]
    }
   ],
   "source": [
    "### _ -> date\n",
    "for date, tweet in trump_tweets[0:10]:\n",
    "    print(date, end='  ')"
   ]
  },
  {
   "cell_type": "code",
   "execution_count": 92,
   "id": "9affbb04",
   "metadata": {
    "ExecuteTime": {
     "end_time": "2021-09-22T10:35:01.689911Z",
     "start_time": "2021-09-22T10:35:01.680816Z"
    }
   },
   "outputs": [
    {
     "name": "stdout",
     "output_type": "stream",
     "text": [
      "On my way! #Inauguration2017 https://t.co/hOuMbxGnpe  Great Concert at 4:00 P.M. today at Lincoln Memorial. Enjoy!  Join me at 4pm over at the Lincoln Memorial with my family!#Inauguration2017 https://t.co/GQeQpJOgWz  Thank you for joining us at the Lincoln Memorial tonight- a very special evening! Together we are going to MAKE AM… https://t.co/OSxa3BamHs  Thank you for a wonderful evening in Washington D.C. #Inauguration https://t.co/a6xpFQTHj5  It all begins today! I will see you at 11:00 A.M. for the swearing-in. THE MOVEMENT CONTINUES - THE WORK BEGINS!  Today we are not merely transferring power from one Administration to another or from one party to another – but we are transferring...  power from Washington D.C. and giving it back to you the American People. #InaugurationDay  What truly matters is not which party controls our government but whether our government is controlled by the people.  January 20th 2017 will be remembered as the day the people became the rulers of this nation again.  "
     ]
    }
   ],
   "source": [
    "for _, tweet in trump_tweets[0:10]:\n",
    "    print(tweet, end='  ')"
   ]
  },
  {
   "cell_type": "markdown",
   "id": "de632b9b",
   "metadata": {},
   "source": [
    "#### >> '_' : non-name for a parameter that is never used"
   ]
  },
  {
   "cell_type": "markdown",
   "id": "662c0bfd",
   "metadata": {},
   "source": [
    "#### mostly"
   ]
  },
  {
   "cell_type": "code",
   "execution_count": 99,
   "id": "126bc11f",
   "metadata": {
    "ExecuteTime": {
     "end_time": "2021-09-22T10:40:11.060519Z",
     "start_time": "2021-09-22T10:40:11.043569Z"
    }
   },
   "outputs": [
    {
     "data": {
      "text/plain": [
       "Counter({'good': 3, 'morning': 5, 'challenge': 9, 'record': 11})"
      ]
     },
     "execution_count": 99,
     "metadata": {},
     "output_type": "execute_result"
    }
   ],
   "source": [
    "hashtag_counter = hashtag_counter + Counter({'good': 1, 'morning': 3, 'challenge': 7, 'record': 9})\n",
    "hashtag_counter"
   ]
  },
  {
   "cell_type": "markdown",
   "id": "7751cb02",
   "metadata": {
    "ExecuteTime": {
     "end_time": "2021-09-22T10:26:08.774926Z",
     "start_time": "2021-09-22T10:26:08.766924Z"
    }
   },
   "source": [
    "#### most_common \n",
    "* Counter.most_common() 메서드\n",
    "* 빈도가 가장 많은 요소와 요소의 개수\n",
    "* 데이터의 개수가 많은 순으로 정렬된 배열을 리턴"
   ]
  },
  {
   "cell_type": "code",
   "execution_count": 100,
   "id": "4e939d7a",
   "metadata": {
    "ExecuteTime": {
     "end_time": "2021-09-22T10:40:28.180796Z",
     "start_time": "2021-09-22T10:40:28.165267Z"
    }
   },
   "outputs": [
    {
     "data": {
      "text/plain": [
       "[('record', 11), ('challenge', 9)]"
      ]
     },
     "execution_count": 100,
     "metadata": {},
     "output_type": "execute_result"
    }
   ],
   "source": [
    "top_two = hashtag_counter.most_common(2)\n",
    "top_two"
   ]
  },
  {
   "cell_type": "code",
   "execution_count": 101,
   "id": "fc31de83",
   "metadata": {
    "ExecuteTime": {
     "end_time": "2021-09-22T10:40:52.133960Z",
     "start_time": "2021-09-22T10:40:52.124959Z"
    }
   },
   "outputs": [
    {
     "name": "stdout",
     "output_type": "stream",
     "text": [
      "record\n",
      "challenge\n"
     ]
    }
   ],
   "source": [
    "for hashtag, freq in top_two:\n",
    "    print(hashtag)"
   ]
  },
  {
   "cell_type": "code",
   "execution_count": 102,
   "id": "1cda3267",
   "metadata": {
    "ExecuteTime": {
     "end_time": "2021-09-22T10:41:05.751712Z",
     "start_time": "2021-09-22T10:41:05.747711Z"
    }
   },
   "outputs": [
    {
     "name": "stdout",
     "output_type": "stream",
     "text": [
      "11\n",
      "9\n"
     ]
    }
   ],
   "source": [
    "for hashtag, freq in top_two:\n",
    "    print(freq)"
   ]
  },
  {
   "cell_type": "code",
   "execution_count": 103,
   "id": "d290e395",
   "metadata": {
    "ExecuteTime": {
     "end_time": "2021-09-22T10:41:16.098636Z",
     "start_time": "2021-09-22T10:41:16.083634Z"
    }
   },
   "outputs": [
    {
     "name": "stdout",
     "output_type": "stream",
     "text": [
      "record: 11회\n",
      "challenge: 9회\n"
     ]
    }
   ],
   "source": [
    "for hashtag, freq in top_two:\n",
    "    print('{}: {}회'.format(hashtag, freq))"
   ]
  },
  {
   "cell_type": "code",
   "execution_count": 107,
   "id": "b909d3bb",
   "metadata": {
    "ExecuteTime": {
     "end_time": "2021-09-22T10:42:49.195493Z",
     "start_time": "2021-09-22T10:42:49.191488Z"
    }
   },
   "outputs": [
    {
     "name": "stdout",
     "output_type": "stream",
     "text": [
      "record: 11회\n",
      "challenge: 9회\n",
      "morning: 5회\n",
      "good: 3회\n"
     ]
    }
   ],
   "source": [
    "for hashtag, freq in hashtag_counter.most_common(4):\n",
    "    print('{}: {}회'.format(hashtag, freq))"
   ]
  },
  {
   "cell_type": "markdown",
   "id": "b5501935",
   "metadata": {},
   "source": [
    "## show_tweets_by_month 함수\n",
    "* 월별 트윗 현황을 그래프로 시각화\n",
    "* input : 없음\n",
    "* output : 막대그래프"
   ]
  },
  {
   "cell_type": "markdown",
   "id": "70ce598b",
   "metadata": {
    "ExecuteTime": {
     "end_time": "2021-09-22T10:46:33.079111Z",
     "start_time": "2021-09-22T10:46:33.074111Z"
    }
   },
   "source": [
    "#### output"
   ]
  },
  {
   "cell_type": "code",
   "execution_count": 123,
   "id": "0b25c1f4",
   "metadata": {
    "ExecuteTime": {
     "end_time": "2021-09-22T10:50:04.073779Z",
     "start_time": "2021-09-22T10:50:04.062253Z"
    }
   },
   "outputs": [],
   "source": [
    "# 월 별 트윗 개수를 보여주는 그래프를 출력\n",
    "def show_tweets_by_month():\n",
    "    months = range(1, 13)\n",
    "    num_tweets = [len(filter_by_month(trump_tweets, month)) for month in months]\n",
    "    \n",
    "    plt.bar(months, num_tweets, align='center')\n",
    "    plt.xticks(months, months)   # location, label\n",
    "    \n",
    "    plt.savefig('graph.png')"
   ]
  },
  {
   "cell_type": "code",
   "execution_count": 124,
   "id": "24479225",
   "metadata": {
    "ExecuteTime": {
     "end_time": "2021-09-22T10:50:11.761498Z",
     "start_time": "2021-09-22T10:50:11.509649Z"
    }
   },
   "outputs": [
    {
     "data": {
      "image/png": "[encoded data removed]",
      "text/plain": [
       "<Figure size 432x288 with 1 Axes>"
      ]
     },
     "metadata": {
      "needs_background": "light"
     },
     "output_type": "display_data"
    }
   ],
   "source": [
    "show_tweets_by_month()"
   ]
  },
  {
   "cell_type": "markdown",
   "id": "9407dc65",
   "metadata": {},
   "source": [
    "#### range"
   ]
  },
  {
   "cell_type": "code",
   "execution_count": 125,
   "id": "69ff8d19",
   "metadata": {
    "ExecuteTime": {
     "end_time": "2021-09-22T13:41:29.241167Z",
     "start_time": "2021-09-22T13:41:29.206045Z"
    }
   },
   "outputs": [
    {
     "data": {
      "text/plain": [
       "range(1, 13)"
      ]
     },
     "execution_count": 125,
     "metadata": {},
     "output_type": "execute_result"
    }
   ],
   "source": [
    "range(1,13)"
   ]
  },
  {
   "cell_type": "code",
   "execution_count": 126,
   "id": "983acdb6",
   "metadata": {
    "ExecuteTime": {
     "end_time": "2021-09-22T13:41:41.905128Z",
     "start_time": "2021-09-22T13:41:41.897129Z"
    }
   },
   "outputs": [
    {
     "data": {
      "text/plain": [
       "[1, 2, 3, 4, 5, 6, 7, 8, 9, 10, 11, 12]"
      ]
     },
     "execution_count": 126,
     "metadata": {},
     "output_type": "execute_result"
    }
   ],
   "source": [
    "list(range(1,13))"
   ]
  },
  {
   "cell_type": "markdown",
   "id": "4559723b",
   "metadata": {
    "ExecuteTime": {
     "end_time": "2021-09-22T13:42:31.206922Z",
     "start_time": "2021-09-22T13:42:31.188923Z"
    }
   },
   "source": [
    "#### list comprehension"
   ]
  },
  {
   "cell_type": "code",
   "execution_count": 129,
   "id": "ae4fc161",
   "metadata": {
    "ExecuteTime": {
     "end_time": "2021-09-22T14:15:55.926302Z",
     "start_time": "2021-09-22T14:15:55.912264Z"
    }
   },
   "outputs": [
    {
     "name": "stdout",
     "output_type": "stream",
     "text": [
      "['s', 'o', 'o', 'y', 'e', 'o', 'n']\n"
     ]
    }
   ],
   "source": [
    "h_letters = [letter for letter in 'sooyeon']\n",
    "print(h_letters)"
   ]
  },
  {
   "cell_type": "markdown",
   "id": "8ed3b9cc",
   "metadata": {
    "ExecuteTime": {
     "end_time": "2021-09-22T14:16:07.796100Z",
     "start_time": "2021-09-22T14:16:07.792102Z"
    }
   },
   "source": [
    "#### Step by step"
   ]
  },
  {
   "cell_type": "code",
   "execution_count": 139,
   "id": "cc898230",
   "metadata": {
    "ExecuteTime": {
     "end_time": "2021-09-22T19:11:13.973928Z",
     "start_time": "2021-09-22T19:11:13.958966Z"
    }
   },
   "outputs": [
    {
     "name": "stdout",
     "output_type": "stream",
     "text": [
      "1 166\n",
      "2 154\n",
      "3 147\n",
      "4 152\n",
      "5 155\n",
      "6 212\n",
      "7 244\n",
      "8 267\n",
      "9 306\n",
      "10 290\n",
      "11 261\n",
      "12 199\n"
     ]
    }
   ],
   "source": [
    "months = range(1,13)\n",
    "for month in months:\n",
    "    print(month, len(filter_by_month(trump_tweets, month)))"
   ]
  },
  {
   "cell_type": "code",
   "execution_count": 137,
   "id": "15976f23",
   "metadata": {
    "ExecuteTime": {
     "end_time": "2021-09-22T19:08:25.061062Z",
     "start_time": "2021-09-22T19:08:25.042027Z"
    }
   },
   "outputs": [],
   "source": [
    "months = range(1,13)\n",
    "num_li = []\n",
    "for month in months:\n",
    "    tmp = len(filter_by_month(trump_tweets, month))\n",
    "    num_li.append(tmp)"
   ]
  },
  {
   "cell_type": "code",
   "execution_count": 138,
   "id": "0306ba55",
   "metadata": {
    "ExecuteTime": {
     "end_time": "2021-09-22T19:08:31.899520Z",
     "start_time": "2021-09-22T19:08:31.878524Z"
    },
    "scrolled": true
   },
   "outputs": [
    {
     "data": {
      "text/plain": [
       "[166, 154, 147, 152, 155, 212, 244, 267, 306, 290, 261, 199]"
      ]
     },
     "execution_count": 138,
     "metadata": {},
     "output_type": "execute_result"
    }
   ],
   "source": [
    "num_li"
   ]
  },
  {
   "cell_type": "markdown",
   "id": "c3d29b38",
   "metadata": {},
   "source": [
    "[len(filter_by_month(trump_tweets,month)) for month in months]"
   ]
  },
  {
   "cell_type": "code",
   "execution_count": 132,
   "id": "8319302e",
   "metadata": {
    "ExecuteTime": {
     "end_time": "2021-09-22T14:22:29.240660Z",
     "start_time": "2021-09-22T14:22:29.213632Z"
    }
   },
   "outputs": [
    {
     "data": {
      "text/plain": [
       "[166, 154, 147, 152, 155, 212, 244, 267, 306, 290, 261, 199]"
      ]
     },
     "execution_count": 132,
     "metadata": {},
     "output_type": "execute_result"
    }
   ],
   "source": [
    "months = range(1,13)\n",
    "num_tweets = [len(filter_by_month(trump_tweets, month)) for month in months ]\n",
    "num_tweets"
   ]
  },
  {
   "cell_type": "markdown",
   "id": "51cf5a05",
   "metadata": {},
   "source": [
    "#### filter_by_month 함수\n",
    "* output : 필터링 된 해당 월의 트윗데이터를 가지는 **리스트**를 return"
   ]
  },
  {
   "cell_type": "code",
   "execution_count": 147,
   "id": "800b5625",
   "metadata": {
    "ExecuteTime": {
     "end_time": "2021-09-22T19:18:42.411659Z",
     "start_time": "2021-09-22T19:18:42.392609Z"
    }
   },
   "outputs": [
    {
     "data": {
      "text/plain": [
       "154"
      ]
     },
     "execution_count": 147,
     "metadata": {},
     "output_type": "execute_result"
    }
   ],
   "source": [
    "len(filter_by_month(trump_tweets, 2))"
   ]
  },
  {
   "cell_type": "code",
   "execution_count": 148,
   "id": "2289aef4",
   "metadata": {
    "ExecuteTime": {
     "end_time": "2021-09-22T19:19:55.184118Z",
     "start_time": "2021-09-22T19:19:55.161121Z"
    }
   },
   "outputs": [
    {
     "name": "stdout",
     "output_type": "stream",
     "text": [
      "166\n",
      "154\n",
      "147\n",
      "152\n",
      "155\n",
      "212\n",
      "244\n",
      "267\n",
      "306\n",
      "290\n",
      "261\n",
      "199\n"
     ]
    }
   ],
   "source": [
    "months = range(1,13)\n",
    "num_tweets = []\n",
    "for month in months:\n",
    "    print(len(filter_by_month(trump_tweets, month)))"
   ]
  },
  {
   "cell_type": "code",
   "execution_count": 149,
   "id": "6d801e05",
   "metadata": {
    "ExecuteTime": {
     "end_time": "2021-09-22T19:20:42.827671Z",
     "start_time": "2021-09-22T19:20:42.808679Z"
    }
   },
   "outputs": [
    {
     "data": {
      "text/plain": [
       "[166, 154, 147, 152, 155, 212, 244, 267, 306, 290, 261, 199]"
      ]
     },
     "execution_count": 149,
     "metadata": {},
     "output_type": "execute_result"
    }
   ],
   "source": [
    "months = range(1, 13)\n",
    "num_tweets = []\n",
    "\n",
    "for month in months:\n",
    "    tmp = len(filter_by_month(trump_tweets, month))\n",
    "    num_tweets.append(tmp)\n",
    "\n",
    "num_tweets"
   ]
  },
  {
   "cell_type": "markdown",
   "id": "81834f9a",
   "metadata": {},
   "source": [
    "## create_word_cloud 함수\n",
    "* 트윗 데이터를 워드클라우드로 시각화\n",
    "* input : 없음\n",
    "* output : 워드클라우드 이미지를 저장"
   ]
  },
  {
   "cell_type": "code",
   "execution_count": 176,
   "id": "01242d3f",
   "metadata": {
    "ExecuteTime": {
     "end_time": "2021-09-22T19:48:51.612868Z",
     "start_time": "2021-09-22T19:48:51.598876Z"
    }
   },
   "outputs": [],
   "source": [
    "# wordcloud 패키지를 이용해 트럼프 대통령 실루엣 모양의 단어구름을 생성\n",
    "def create_word_cloud():\n",
    "    \n",
    "    counter = Counter()\n",
    "    for _, tweet in trump_tweets:\n",
    "        kewords, _, _ = analyze_text(preprocess_text(tweet))\n",
    "        counter += Counter(keywords)\n",
    "        \n",
    "    trump_mask = np.array(Image.open('trump.png'))\n",
    "    cloud = WordCloud(background_color= 'white', mask= trump_mask)\n",
    "    cloud.fit_words(counter)\n",
    "    cloud.to_file('cloud.png')"
   ]
  },
  {
   "cell_type": "markdown",
   "id": "2fb8cdf2",
   "metadata": {
    "ExecuteTime": {
     "end_time": "2021-09-22T19:24:49.187802Z",
     "start_time": "2021-09-22T19:24:49.175778Z"
    }
   },
   "source": [
    "### Step by step"
   ]
  },
  {
   "cell_type": "code",
   "execution_count": 152,
   "id": "182fbeea",
   "metadata": {
    "ExecuteTime": {
     "end_time": "2021-09-22T19:24:56.852616Z",
     "start_time": "2021-09-22T19:24:56.845083Z"
    }
   },
   "outputs": [
    {
     "data": {
      "text/plain": [
       "[('01-19-2017 20:13:57',\n",
       "  'On my way! #Inauguration2017 https://t.co/hOuMbxGnpe'),\n",
       " ('01-19-2017 20:18:32',\n",
       "  'Great Concert at 4:00 P.M. today at Lincoln Memorial. Enjoy!'),\n",
       " ('01-19-2017 20:21:36',\n",
       "  'Join me at 4pm over at the Lincoln Memorial with my family!#Inauguration2017 https://t.co/GQeQpJOgWz')]"
      ]
     },
     "execution_count": 152,
     "metadata": {},
     "output_type": "execute_result"
    }
   ],
   "source": [
    "trump_tweets[0:3]"
   ]
  },
  {
   "cell_type": "code",
   "execution_count": 153,
   "id": "3daf3099",
   "metadata": {
    "ExecuteTime": {
     "end_time": "2021-09-22T19:25:42.333898Z",
     "start_time": "2021-09-22T19:25:42.311937Z"
    }
   },
   "outputs": [
    {
     "name": "stdout",
     "output_type": "stream",
     "text": [
      "1\n",
      "3\n",
      "5\n"
     ]
    }
   ],
   "source": [
    "list_of_tuple = [(1,2), (3,4), (5,6)]\n",
    "for _, i in list_of_tuple:\n",
    "    print(_)"
   ]
  },
  {
   "cell_type": "code",
   "execution_count": 154,
   "id": "d93508fe",
   "metadata": {
    "ExecuteTime": {
     "end_time": "2021-09-22T19:26:35.675310Z",
     "start_time": "2021-09-22T19:26:35.669313Z"
    }
   },
   "outputs": [
    {
     "name": "stdout",
     "output_type": "stream",
     "text": [
      "2\n",
      "4\n",
      "6\n"
     ]
    }
   ],
   "source": [
    "list_of_tup = [(1,2), (3,4), (5,6)]\n",
    "for i, _ in list_of_tup:\n",
    "    print(_)"
   ]
  },
  {
   "cell_type": "markdown",
   "id": "7f9b7fb0",
   "metadata": {},
   "source": [
    "#### for 문"
   ]
  },
  {
   "cell_type": "markdown",
   "id": "581dd0c9",
   "metadata": {},
   "source": [
    "analyze_text => 해시태그단어리스트, 멘션단어리스트, 키워드단어리스트 리턴"
   ]
  },
  {
   "cell_type": "code",
   "execution_count": 163,
   "id": "8f8b138f",
   "metadata": {
    "ExecuteTime": {
     "end_time": "2021-09-22T19:38:39.359769Z",
     "start_time": "2021-09-22T19:38:39.347647Z"
    }
   },
   "outputs": [
    {
     "data": {
      "text/plain": [
       "'On my way! #Inauguration2017 https://t.co/hOuMbxGnpe'"
      ]
     },
     "execution_count": 163,
     "metadata": {},
     "output_type": "execute_result"
    }
   ],
   "source": [
    "trump_tweets[0][1]"
   ]
  },
  {
   "cell_type": "code",
   "execution_count": 164,
   "id": "1252e7c4",
   "metadata": {
    "ExecuteTime": {
     "end_time": "2021-09-22T19:39:42.869381Z",
     "start_time": "2021-09-22T19:39:42.862378Z"
    }
   },
   "outputs": [
    {
     "data": {
      "text/plain": [
       "(['on', 'my', 'way', 'inauguration2017', 'httpstcohoumbxgnpe'],\n",
       " ['inauguration2017'],\n",
       " [])"
      ]
     },
     "execution_count": 164,
     "metadata": {},
     "output_type": "execute_result"
    }
   ],
   "source": [
    "analyze_text(preprocess_text(trump_tweets[0][1]))"
   ]
  },
  {
   "cell_type": "code",
   "execution_count": 165,
   "id": "9e5e381d",
   "metadata": {
    "ExecuteTime": {
     "end_time": "2021-09-22T19:40:15.907024Z",
     "start_time": "2021-09-22T19:40:15.891994Z"
    }
   },
   "outputs": [],
   "source": [
    "a, b, c = analyze_text(preprocess_text(trump_tweets[0][1]))"
   ]
  },
  {
   "cell_type": "code",
   "execution_count": 166,
   "id": "f822adc3",
   "metadata": {
    "ExecuteTime": {
     "end_time": "2021-09-22T19:41:15.460915Z",
     "start_time": "2021-09-22T19:41:15.427917Z"
    }
   },
   "outputs": [
    {
     "data": {
      "text/plain": [
       "['on', 'my', 'way', 'inauguration2017', 'httpstcohoumbxgnpe']"
      ]
     },
     "metadata": {},
     "output_type": "display_data"
    },
    {
     "data": {
      "text/plain": [
       "['inauguration2017']"
      ]
     },
     "metadata": {},
     "output_type": "display_data"
    },
    {
     "data": {
      "text/plain": [
       "[]"
      ]
     },
     "metadata": {},
     "output_type": "display_data"
    }
   ],
   "source": [
    "display(a, b, c)"
   ]
  },
  {
   "cell_type": "code",
   "execution_count": 168,
   "id": "d32188a4",
   "metadata": {
    "ExecuteTime": {
     "end_time": "2021-09-22T19:41:30.876007Z",
     "start_time": "2021-09-22T19:41:30.857979Z"
    }
   },
   "outputs": [
    {
     "data": {
      "text/plain": [
       "['on', 'my', 'way', 'inauguration2017', 'httpstcohoumbxgnpe']"
      ]
     },
     "execution_count": 168,
     "metadata": {},
     "output_type": "execute_result"
    }
   ],
   "source": [
    "keywords, _, _ = analyze_text(preprocess_text(trump_tweets[0][1]))\n",
    "keywords # 키워드 이외의 중요하지 않은 변수는 _ 로 처리한다."
   ]
  },
  {
   "cell_type": "code",
   "execution_count": 169,
   "id": "2d3714e9",
   "metadata": {
    "ExecuteTime": {
     "end_time": "2021-09-22T19:43:26.488392Z",
     "start_time": "2021-09-22T19:43:26.471395Z"
    }
   },
   "outputs": [
    {
     "data": {
      "text/plain": [
       "[]"
      ]
     },
     "execution_count": 169,
     "metadata": {},
     "output_type": "execute_result"
    }
   ],
   "source": [
    "_ # 덮어쓰기 된 변수"
   ]
  },
  {
   "cell_type": "code",
   "execution_count": 155,
   "id": "226a8e0a",
   "metadata": {
    "ExecuteTime": {
     "end_time": "2021-09-22T19:27:48.821535Z",
     "start_time": "2021-09-22T19:27:48.799009Z"
    }
   },
   "outputs": [],
   "source": [
    "counter = Counter()\n",
    "# for _, tweet in trump_tweets:\n",
    "keywords, _, _ = analyze_text(preprocess_text(trump_tweets[0][1]))"
   ]
  },
  {
   "cell_type": "code",
   "execution_count": 156,
   "id": "d4a79ae1",
   "metadata": {
    "ExecuteTime": {
     "end_time": "2021-09-22T19:27:49.687978Z",
     "start_time": "2021-09-22T19:27:49.672949Z"
    }
   },
   "outputs": [
    {
     "data": {
      "text/plain": [
       "['on', 'my', 'way', 'inauguration2017', 'httpstcohoumbxgnpe']"
      ]
     },
     "execution_count": 156,
     "metadata": {},
     "output_type": "execute_result"
    }
   ],
   "source": [
    "keywords"
   ]
  },
  {
   "cell_type": "code",
   "execution_count": 158,
   "id": "826a67cc",
   "metadata": {
    "ExecuteTime": {
     "end_time": "2021-09-22T19:33:35.452134Z",
     "start_time": "2021-09-22T19:33:35.432140Z"
    }
   },
   "outputs": [
    {
     "name": "stdout",
     "output_type": "stream",
     "text": [
      "['inauguration2017']\n"
     ]
    }
   ],
   "source": [
    "counter = Counter()\n",
    "# for _, tweet in trump_tweets:\n",
    "keywords, i, _ = analyze_text(preprocess_text(trump_tweets[0][1]))\n",
    "print(i)"
   ]
  },
  {
   "cell_type": "code",
   "execution_count": 162,
   "id": "ca216bac",
   "metadata": {
    "ExecuteTime": {
     "end_time": "2021-09-22T19:34:27.702104Z",
     "start_time": "2021-09-22T19:34:27.687075Z"
    }
   },
   "outputs": [
    {
     "name": "stdout",
     "output_type": "stream",
     "text": [
      "[]\n"
     ]
    }
   ],
   "source": [
    "counter = Counter()\n",
    "# for _, tweet in trump_tweets:\n",
    "keywords, _, i = analyze_text(preprocess_text(trump_tweets[0][1]))\n",
    "print(i)"
   ]
  },
  {
   "cell_type": "code",
   "execution_count": 157,
   "id": "c9628eb1",
   "metadata": {
    "ExecuteTime": {
     "end_time": "2021-09-22T19:28:11.804994Z",
     "start_time": "2021-09-22T19:28:11.785943Z"
    }
   },
   "outputs": [
    {
     "data": {
      "text/plain": [
       "Counter({'on': 1,\n",
       "         'my': 1,\n",
       "         'way': 1,\n",
       "         'inauguration2017': 1,\n",
       "         'httpstcohoumbxgnpe': 1})"
      ]
     },
     "execution_count": 157,
     "metadata": {},
     "output_type": "execute_result"
    }
   ],
   "source": [
    "counter += Counter(keywords)\n",
    "counter"
   ]
  },
  {
   "cell_type": "code",
   "execution_count": 170,
   "id": "c4a2125f",
   "metadata": {
    "ExecuteTime": {
     "end_time": "2021-09-22T19:45:47.934432Z",
     "start_time": "2021-09-22T19:45:47.920315Z"
    }
   },
   "outputs": [
    {
     "data": {
      "text/plain": [
       "['great',\n",
       " 'concert',\n",
       " 'at',\n",
       " '400',\n",
       " 'pm',\n",
       " 'today',\n",
       " 'at',\n",
       " 'lincoln',\n",
       " 'memorial',\n",
       " 'enjoy']"
      ]
     },
     "execution_count": 170,
     "metadata": {},
     "output_type": "execute_result"
    }
   ],
   "source": [
    "keywords, _, _ = analyze_text(preprocess_text(trump_tweets[1][1]))\n",
    "keywords"
   ]
  },
  {
   "cell_type": "code",
   "execution_count": 171,
   "id": "77acc3d3",
   "metadata": {
    "ExecuteTime": {
     "end_time": "2021-09-22T19:46:09.845670Z",
     "start_time": "2021-09-22T19:46:09.837669Z"
    }
   },
   "outputs": [
    {
     "data": {
      "text/plain": [
       "Counter({'great': 1,\n",
       "         'concert': 1,\n",
       "         'at': 2,\n",
       "         '400': 1,\n",
       "         'pm': 1,\n",
       "         'today': 1,\n",
       "         'lincoln': 1,\n",
       "         'memorial': 1,\n",
       "         'enjoy': 1})"
      ]
     },
     "execution_count": 171,
     "metadata": {},
     "output_type": "execute_result"
    }
   ],
   "source": [
    "counter += Counter(keywords)\n",
    "counter"
   ]
  },
  {
   "cell_type": "markdown",
   "id": "cf0b86c0",
   "metadata": {},
   "source": [
    "#### 반복문 for loop"
   ]
  },
  {
   "cell_type": "code",
   "execution_count": 177,
   "id": "938c598a",
   "metadata": {
    "ExecuteTime": {
     "end_time": "2021-09-22T19:48:59.384436Z",
     "start_time": "2021-09-22T19:48:59.373979Z"
    }
   },
   "outputs": [],
   "source": [
    "# 입력값에 따라 출력할 결과를 선택 \n",
    "def main(code=1):\n",
    "    # 가장 많이 등장한 키워드, 해시태그, 멘션을 출력\n",
    "    if code == 1:\n",
    "        show_stats()\n",
    "    \n",
    "    # 트럼프 대통령의 월별 트윗 개수 그래프를 출력\n",
    "    if code == 2:\n",
    "        show_tweets_by_month()\n",
    "    \n",
    "    # 트럼프 대통령의 트윗 키워드 wordcloud\n",
    "    if code == 3:\n",
    "        create_word_cloud()"
   ]
  },
  {
   "cell_type": "code",
   "execution_count": 173,
   "id": "57b91ed5",
   "metadata": {
    "ExecuteTime": {
     "end_time": "2021-09-22T19:47:43.816791Z",
     "start_time": "2021-09-22T19:47:43.108182Z"
    }
   },
   "outputs": [
    {
     "name": "stdout",
     "output_type": "stream",
     "text": [
      "maga:28회\n",
      "usa🇺🇸:23회\n",
      "fakenews:15회\n",
      "taxreform:12회\n",
      "hurricaneharvey:11회\n",
      "maga🇺🇸:10회\n",
      "icymi:8회\n",
      "harvey:8회\n",
      "obamacare:7회\n",
      "unga:7회\n"
     ]
    }
   ],
   "source": [
    "main(1)"
   ]
  },
  {
   "cell_type": "code",
   "execution_count": 174,
   "id": "0c141761",
   "metadata": {
    "ExecuteTime": {
     "end_time": "2021-09-22T19:47:48.114831Z",
     "start_time": "2021-09-22T19:47:47.810940Z"
    }
   },
   "outputs": [
    {
     "data": {
      "image/png": "[encoded data removed]",
      "text/plain": [
       "<Figure size 432x288 with 1 Axes>"
      ]
     },
     "metadata": {
      "needs_background": "light"
     },
     "output_type": "display_data"
    }
   ],
   "source": [
    "main(2)"
   ]
  },
  {
   "cell_type": "code",
   "execution_count": 178,
   "id": "9f438471",
   "metadata": {
    "ExecuteTime": {
     "end_time": "2021-09-22T19:49:01.690933Z",
     "start_time": "2021-09-22T19:49:01.286844Z"
    }
   },
   "outputs": [],
   "source": [
    "main(3)"
   ]
  },
  {
   "cell_type": "markdown",
   "id": "13aff4a8",
   "metadata": {},
   "source": [
    "### 전체 코드"
   ]
  },
  {
   "cell_type": "code",
   "execution_count": null,
   "id": "144e9992",
   "metadata": {},
   "outputs": [],
   "source": [
    "from tweets import trump_tweets\n",
    "\n",
    "\n",
    "import matplotlib.pyplot as plt\n",
    "\n",
    "# 단어구름에 필요한 라이브러리\n",
    "import numpy as np\n",
    "from PIL import Image\n",
    "from wordcloud import WordCloud\n",
    "\n",
    "# 특화된 컨테이너 모듈에서 수 세기를 돕는 메소드\n",
    "from collections import Counter\n",
    "\n",
    "# 문자열 모듈에서 특수문자를 처리를 돕는 메소드\n",
    "from string import punctuation\n",
    "\n",
    "\n",
    "# 데이터 전처리 \n",
    "def preprocess_text(text):\n",
    "    # 분석을 위해 text를 모두 소문자로 변환\n",
    "    text = text.lower()\n",
    "    \n",
    "    # @와 #을 제외한 특수문자로 이루어진 문자열 symbols\n",
    "    symbols = punctuation.replace('@', '').replace('#', '')\n",
    "    \n",
    "    # text에서 @와 #을 제외한 모든 특수문자를 제거\n",
    "    for symbol in symbols:\n",
    "        text = text.replace(symbol, '')\n",
    "    \n",
    "    # text 띄어쓰기 단위 split\n",
    "    words = text.split()\n",
    "    return words\n",
    "    \n",
    "\n",
    "# 해시태그와 키워드를 추출\n",
    "def analyze_text(words):\n",
    "    # 키워드, 해시태그, 멘션을 저장할 리스트를 각각 생성\n",
    "    keywords, hashtags, mentions = [], [], []\n",
    "    \n",
    "    # 걸러낼 단어\n",
    "    filter_words = ['the', 'to', 'of', 'in', 'for', 'and', 'from', 'is', 'on', 'it', 'this', 'that', 'are', 'was', 'will', 'with', 'very', 'a', 'be', 'by', 'must', 'just', 'not']\n",
    "    \n",
    "    # 쪼갠 단어들을 분류\n",
    "    for word in words:\n",
    "        \n",
    "        # if word in filter_words :\n",
    "        #     continue\n",
    "        \n",
    "        # 해시태그일 경우\n",
    "        if word.startswith('#'):\n",
    "            # 해시(#)를 제외한 단어를 plain_word 변수에 저장\n",
    "            plain_word = word[1:]\n",
    "            \n",
    "            # plain_word를 적절한 리스트에 추가합니다.\n",
    "            keywords.append(plain_word)\n",
    "            hashtags.append(plain_word)\n",
    "        \n",
    "        # 멘션일 경우\n",
    "        elif word.startswith('@'):\n",
    "            # @ 기호를 제외한 단어를 plain_word 변수에 저장\n",
    "            plain_word = word[1:]\n",
    "            \n",
    "            # plain_word를 적절한 리스트에 추가\n",
    "            keywords.append(plain_word)\n",
    "            mentions.append(plain_word)\n",
    "        \n",
    "        # 둘 다 아닐 경우\n",
    "        else:\n",
    "            # word를 적절한 리스트에 추가\n",
    "            keywords.append(word)\n",
    "    \n",
    "    return keywords, hashtags, mentions\n",
    "\n",
    "\n",
    "def filter_by_month(tweet_data, month):\n",
    "    # month를 문자열로 바꾼 month_string을 선언\n",
    "    month_string = '0' + str(month) if month < 10 else str(month)\n",
    "    \n",
    "    # 선택한 달의 트윗을 filtered_tweets에 저장\n",
    "    filtered_tweets = []\n",
    "    for date, tweet in tweet_data:\n",
    "        # 트윗의 날짜가 선택한 달에 속해 있으면 트윗의 내용을 filtered_tweets에 추가\n",
    "        if date.startswith(month_string):\n",
    "            filtered_tweets.append(tweet)\n",
    "    \n",
    "    return filtered_tweets\n",
    "\n",
    "\n",
    "# 트윗 통계를 출력합니다.\n",
    "def show_stats():\n",
    "    keyword_counter = Counter()\n",
    "    hashtag_counter = Counter()\n",
    "    mention_counter = Counter()\n",
    "    \n",
    "    for _, tweet in trump_tweets:\n",
    "        keyward, hashtag, mention = analyze_text(preprocess_text(tweet))\n",
    "        keyword_counter += Counter(keyward)\n",
    "        hashtag_counter += Counter(hashtag)\n",
    "        mention_counter += Counter(mention)\n",
    "    \n",
    "    # 가장 많이 등장한 키워드, 해시태그, 멘션을 출력\n",
    "    top_ten = hashtag_counter.most_common(10)\n",
    "    for hashtag, freq in top_ten:\n",
    "        print('{}: {}회'.format(hashtag, freq))\n",
    "\n",
    "\n",
    "# 월 별 트윗 개수를 보여주는 그래프를 출력 \n",
    "def show_tweets_by_month():\n",
    "    months = range(1, 13)\n",
    "    num_tweets = [len(filter_by_month(trump_tweets, month)) for month in months]\n",
    "    \n",
    "    plt.bar(months, num_tweets, align='center')\n",
    "    plt.xticks(months, months)\n",
    "    \n",
    "    plt.savefig('graph.png')\n",
    "\n",
    "\n",
    "# wordcloud 패키지를 이용해 트럼프 대통령 실루엣 모양의 단어구름을 생성\n",
    "def create_word_cloud():\n",
    "    \n",
    "    counter = Counter()\n",
    "    for _, tweet in trump_tweets:\n",
    "        keywords, _, _ = analyze_text(preprocess_text(tweet))\n",
    "        counter += Counter(keywords)\n",
    "    \n",
    "    trump_mask = np.array(Image.open('trump.png'))\n",
    "    cloud = WordCloud(background_color='white', mask=trump_mask)\n",
    "    cloud.fit_words(counter)\n",
    "    cloud.to_file('cloud.png')\n",
    "\n",
    "\n",
    "\n",
    "# 입력값에 따라 출력할 결과를 선택\n",
    "def main(code=1):\n",
    "    # 가장 많이 등장한 키워드, 해시태그, 멘션을 출력\n",
    "    if code == 1:\n",
    "        show_stats()\n",
    "    \n",
    "    # 트럼프 대통령의 월별 트윗 개수 그래프를 출력\n",
    "    if code == 2:\n",
    "        show_tweets_by_month()\n",
    "    \n",
    "    # 트럼프 대통령의 트윗 키워드로 단어구름\n",
    "    if code == 3:\n",
    "        create_word_cloud()"
   ]
  }
 ],
 "metadata": {
  "hide_input": false,
  "kernelspec": {
   "display_name": "Python 3",
   "language": "python",
   "name": "python3"
  },
  "language_info": {
   "codemirror_mode": {
    "name": "ipython",
    "version": 3
   },
   "file_extension": ".py",
   "mimetype": "text/x-python",
   "name": "python",
   "nbconvert_exporter": "python",
   "pygments_lexer": "ipython3",
   "version": "3.8.8"
  },
  "toc": {
   "base_numbering": 1,
   "nav_menu": {},
   "number_sections": true,
   "sideBar": true,
   "skip_h1_title": false,
   "title_cell": "Table of Contents",
   "title_sidebar": "Contents",
   "toc_cell": false,
   "toc_position": {},
   "toc_section_display": true,
   "toc_window_display": false
  },
  "varInspector": {
   "cols": {
    "lenName": 16,
    "lenType": 16,
    "lenVar": 40
   },
   "kernels_config": {
    "python": {
     "delete_cmd_postfix": "",
     "delete_cmd_prefix": "del ",
     "library": "var_list.py",
     "varRefreshCmd": "print(var_dic_list())"
    },
    "r": {
     "delete_cmd_postfix": ") ",
     "delete_cmd_prefix": "rm(",
     "library": "var_list.r",
     "varRefreshCmd": "cat(var_dic_list()) "
    }
   },
   "types_to_exclude": [
    "module",
    "function",
    "builtin_function_or_method",
    "instance",
    "_Feature"
   ],
   "window_display": false
  }
 },
 "nbformat": 4,
 "nbformat_minor": 5
}
