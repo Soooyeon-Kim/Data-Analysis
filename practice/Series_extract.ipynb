{
 "cells": [
  {
   "cell_type": "markdown",
   "id": "6749fec3",
   "metadata": {},
   "source": [
    "## Series.str.extract()\n",
    "* expand = True "
   ]
  },
  {
   "cell_type": "markdown",
   "id": "aaa40651",
   "metadata": {
    "ExecuteTime": {
     "end_time": "2021-09-21T04:50:45.318713Z",
     "start_time": "2021-09-21T04:50:45.308743Z"
    }
   },
   "source": [
    "#### Series"
   ]
  },
  {
   "cell_type": "code",
   "execution_count": 2,
   "id": "97762c56",
   "metadata": {
    "ExecuteTime": {
     "end_time": "2021-09-21T04:52:43.783389Z",
     "start_time": "2021-09-21T04:52:42.733525Z"
    }
   },
   "outputs": [],
   "source": [
    "import pandas as pd\n",
    "s = pd.Series(['sooyeon','jihyun','seola'])"
   ]
  },
  {
   "cell_type": "code",
   "execution_count": 3,
   "id": "064043ed",
   "metadata": {
    "ExecuteTime": {
     "end_time": "2021-09-21T04:53:07.039566Z",
     "start_time": "2021-09-21T04:53:07.012600Z"
    }
   },
   "outputs": [
    {
     "data": {
      "text/plain": [
       "RangeIndex(start=0, stop=3, step=1)"
      ]
     },
     "metadata": {},
     "output_type": "display_data"
    },
    {
     "data": {
      "text/plain": [
       "array(['sooyeon', 'jihyun', 'seola'], dtype=object)"
      ]
     },
     "metadata": {},
     "output_type": "display_data"
    }
   ],
   "source": [
    "display(s.index, s.values)"
   ]
  },
  {
   "cell_type": "markdown",
   "id": "392d13bd",
   "metadata": {},
   "source": [
    "#### index"
   ]
  },
  {
   "cell_type": "code",
   "execution_count": 4,
   "id": "9719ef01",
   "metadata": {
    "ExecuteTime": {
     "end_time": "2021-09-21T04:53:29.533759Z",
     "start_time": "2021-09-21T04:53:29.510778Z"
    }
   },
   "outputs": [
    {
     "data": {
      "text/plain": [
       "pandas.core.indexes.range.RangeIndex"
      ]
     },
     "execution_count": 4,
     "metadata": {},
     "output_type": "execute_result"
    }
   ],
   "source": [
    "type(s.index)"
   ]
  },
  {
   "cell_type": "code",
   "execution_count": 5,
   "id": "d61e4052",
   "metadata": {
    "ExecuteTime": {
     "end_time": "2021-09-21T04:53:36.471436Z",
     "start_time": "2021-09-21T04:53:36.462909Z"
    }
   },
   "outputs": [
    {
     "data": {
      "text/plain": [
       "[0, 1, 2]"
      ]
     },
     "execution_count": 5,
     "metadata": {},
     "output_type": "execute_result"
    }
   ],
   "source": [
    "list(s.index)"
   ]
  },
  {
   "cell_type": "markdown",
   "id": "2e14ac07",
   "metadata": {},
   "source": [
    "#### values"
   ]
  },
  {
   "cell_type": "code",
   "execution_count": 6,
   "id": "802f18ac",
   "metadata": {
    "ExecuteTime": {
     "end_time": "2021-09-21T04:53:57.166257Z",
     "start_time": "2021-09-21T04:53:57.157259Z"
    }
   },
   "outputs": [
    {
     "data": {
      "text/plain": [
       "array(['sooyeon', 'jihyun', 'seola'], dtype=object)"
      ]
     },
     "execution_count": 6,
     "metadata": {},
     "output_type": "execute_result"
    }
   ],
   "source": [
    "s.values"
   ]
  },
  {
   "cell_type": "code",
   "execution_count": 7,
   "id": "a74ed1b7",
   "metadata": {
    "ExecuteTime": {
     "end_time": "2021-09-21T04:54:12.094766Z",
     "start_time": "2021-09-21T04:54:12.081764Z"
    }
   },
   "outputs": [
    {
     "data": {
      "text/plain": [
       "numpy.ndarray"
      ]
     },
     "execution_count": 7,
     "metadata": {},
     "output_type": "execute_result"
    }
   ],
   "source": [
    "type(s.values)"
   ]
  },
  {
   "cell_type": "markdown",
   "id": "76e13b92",
   "metadata": {},
   "source": [
    "### expand parameter\n",
    "- True: DataFrame을 return\n",
    "- False: Series를 return "
   ]
  },
  {
   "cell_type": "code",
   "execution_count": 8,
   "id": "04136079",
   "metadata": {
    "ExecuteTime": {
     "end_time": "2021-09-21T04:55:00.177953Z",
     "start_time": "2021-09-21T04:55:00.160399Z"
    }
   },
   "outputs": [
    {
     "data": {
      "text/plain": [
       "0    sooyeon\n",
       "1     jihyun\n",
       "2      seola\n",
       "dtype: object"
      ]
     },
     "execution_count": 8,
     "metadata": {},
     "output_type": "execute_result"
    }
   ],
   "source": [
    "s"
   ]
  },
  {
   "cell_type": "code",
   "execution_count": 10,
   "id": "a72e96e8",
   "metadata": {
    "ExecuteTime": {
     "end_time": "2021-09-21T04:57:36.316929Z",
     "start_time": "2021-09-21T04:57:36.296933Z"
    }
   },
   "outputs": [
    {
     "data": {
      "text/html": [
       "<div>\n",
       "<style scoped>\n",
       "    .dataframe tbody tr th:only-of-type {\n",
       "        vertical-align: middle;\n",
       "    }\n",
       "\n",
       "    .dataframe tbody tr th {\n",
       "        vertical-align: top;\n",
       "    }\n",
       "\n",
       "    .dataframe thead th {\n",
       "        text-align: right;\n",
       "    }\n",
       "</style>\n",
       "<table border=\"1\" class=\"dataframe\">\n",
       "  <thead>\n",
       "    <tr style=\"text-align: right;\">\n",
       "      <th></th>\n",
       "      <th>0</th>\n",
       "    </tr>\n",
       "  </thead>\n",
       "  <tbody>\n",
       "    <tr>\n",
       "      <th>0</th>\n",
       "      <td>o</td>\n",
       "    </tr>\n",
       "    <tr>\n",
       "      <th>1</th>\n",
       "      <td>i</td>\n",
       "    </tr>\n",
       "    <tr>\n",
       "      <th>2</th>\n",
       "      <td>e</td>\n",
       "    </tr>\n",
       "  </tbody>\n",
       "</table>\n",
       "</div>"
      ],
      "text/plain": [
       "   0\n",
       "0  o\n",
       "1  i\n",
       "2  e"
      ]
     },
     "execution_count": 10,
     "metadata": {},
     "output_type": "execute_result"
    }
   ],
   "source": [
    "s.str.extract(r'[sj](\\D)')\n",
    "              # 소문자 [] 중에 하나\n",
    "              # () 숫자"
   ]
  },
  {
   "cell_type": "markdown",
   "id": "8c2ea060",
   "metadata": {},
   "source": [
    "### default :expand = True\n",
    "> `s.str.extract(r'[sj](\\D)', expand=True)`"
   ]
  },
  {
   "cell_type": "markdown",
   "id": "064e2ef6",
   "metadata": {},
   "source": [
    "#### type → DataFrame"
   ]
  },
  {
   "cell_type": "code",
   "execution_count": 11,
   "id": "9c39bca3",
   "metadata": {
    "ExecuteTime": {
     "end_time": "2021-09-21T04:58:09.039432Z",
     "start_time": "2021-09-21T04:58:09.023476Z"
    }
   },
   "outputs": [
    {
     "data": {
      "text/plain": [
       "pandas.core.frame.DataFrame"
      ]
     },
     "execution_count": 11,
     "metadata": {},
     "output_type": "execute_result"
    }
   ],
   "source": [
    "type(s.str.extract(r'[sj](\\D)'))"
   ]
  },
  {
   "cell_type": "markdown",
   "id": "691c67d4",
   "metadata": {
    "ExecuteTime": {
     "end_time": "2021-09-21T05:01:04.201440Z",
     "start_time": "2021-09-21T05:01:04.192478Z"
    }
   },
   "source": [
    "### expand = False"
   ]
  },
  {
   "cell_type": "code",
   "execution_count": 13,
   "id": "40a578af",
   "metadata": {
    "ExecuteTime": {
     "end_time": "2021-09-21T05:01:21.163639Z",
     "start_time": "2021-09-21T05:01:21.148645Z"
    }
   },
   "outputs": [
    {
     "data": {
      "text/plain": [
       "0    o\n",
       "1    i\n",
       "2    e\n",
       "dtype: object"
      ]
     },
     "execution_count": 13,
     "metadata": {},
     "output_type": "execute_result"
    }
   ],
   "source": [
    "s.str.extract(r'[sj](\\D)', expand=False)"
   ]
  },
  {
   "cell_type": "code",
   "execution_count": 14,
   "id": "a6ace905",
   "metadata": {
    "ExecuteTime": {
     "end_time": "2021-09-21T05:01:30.805710Z",
     "start_time": "2021-09-21T05:01:30.784179Z"
    }
   },
   "outputs": [
    {
     "data": {
      "text/plain": [
       "pandas.core.series.Series"
      ]
     },
     "execution_count": 14,
     "metadata": {},
     "output_type": "execute_result"
    }
   ],
   "source": [
    "type(s.str.extract(r'[sj](\\D)', expand=False))"
   ]
  },
  {
   "cell_type": "markdown",
   "id": "b679a246",
   "metadata": {
    "ExecuteTime": {
     "end_time": "2021-09-21T05:01:49.563494Z",
     "start_time": "2021-09-21T05:01:49.547494Z"
    }
   },
   "source": [
    "#### type → Series"
   ]
  },
  {
   "cell_type": "markdown",
   "id": "f9b4b9a1",
   "metadata": {},
   "source": [
    "## **diff = return type**"
   ]
  },
  {
   "cell_type": "code",
   "execution_count": 19,
   "id": "710ce243",
   "metadata": {
    "ExecuteTime": {
     "end_time": "2021-09-21T05:04:15.761821Z",
     "start_time": "2021-09-21T05:04:15.737785Z"
    }
   },
   "outputs": [
    {
     "data": {
      "text/html": [
       "<div>\n",
       "<style scoped>\n",
       "    .dataframe tbody tr th:only-of-type {\n",
       "        vertical-align: middle;\n",
       "    }\n",
       "\n",
       "    .dataframe tbody tr th {\n",
       "        vertical-align: top;\n",
       "    }\n",
       "\n",
       "    .dataframe thead th {\n",
       "        text-align: right;\n",
       "    }\n",
       "</style>\n",
       "<table border=\"1\" class=\"dataframe\">\n",
       "  <thead>\n",
       "    <tr style=\"text-align: right;\">\n",
       "      <th></th>\n",
       "      <th>0</th>\n",
       "      <th>1</th>\n",
       "    </tr>\n",
       "  </thead>\n",
       "  <tbody>\n",
       "    <tr>\n",
       "      <th>0</th>\n",
       "      <td>s</td>\n",
       "      <td>o</td>\n",
       "    </tr>\n",
       "    <tr>\n",
       "      <th>1</th>\n",
       "      <td>j</td>\n",
       "      <td>i</td>\n",
       "    </tr>\n",
       "    <tr>\n",
       "      <th>2</th>\n",
       "      <td>s</td>\n",
       "      <td>e</td>\n",
       "    </tr>\n",
       "  </tbody>\n",
       "</table>\n",
       "</div>"
      ],
      "text/plain": [
       "   0  1\n",
       "0  s  o\n",
       "1  j  i\n",
       "2  s  e"
      ]
     },
     "execution_count": 19,
     "metadata": {},
     "output_type": "execute_result"
    }
   ],
   "source": [
    "s.str.extract(r'([sj])(\\D)')"
   ]
  },
  {
   "cell_type": "code",
   "execution_count": 20,
   "id": "77b02e6b",
   "metadata": {
    "ExecuteTime": {
     "end_time": "2021-09-21T05:04:55.632043Z",
     "start_time": "2021-09-21T05:04:55.610078Z"
    }
   },
   "outputs": [
    {
     "data": {
      "text/html": [
       "<div>\n",
       "<style scoped>\n",
       "    .dataframe tbody tr th:only-of-type {\n",
       "        vertical-align: middle;\n",
       "    }\n",
       "\n",
       "    .dataframe tbody tr th {\n",
       "        vertical-align: top;\n",
       "    }\n",
       "\n",
       "    .dataframe thead th {\n",
       "        text-align: right;\n",
       "    }\n",
       "</style>\n",
       "<table border=\"1\" class=\"dataframe\">\n",
       "  <thead>\n",
       "    <tr style=\"text-align: right;\">\n",
       "      <th></th>\n",
       "      <th>0</th>\n",
       "      <th>1</th>\n",
       "    </tr>\n",
       "  </thead>\n",
       "  <tbody>\n",
       "    <tr>\n",
       "      <th>0</th>\n",
       "      <td>s</td>\n",
       "      <td>o</td>\n",
       "    </tr>\n",
       "    <tr>\n",
       "      <th>1</th>\n",
       "      <td>j</td>\n",
       "      <td>i</td>\n",
       "    </tr>\n",
       "    <tr>\n",
       "      <th>2</th>\n",
       "      <td>s</td>\n",
       "      <td>e</td>\n",
       "    </tr>\n",
       "  </tbody>\n",
       "</table>\n",
       "</div>"
      ],
      "text/plain": [
       "   0  1\n",
       "0  s  o\n",
       "1  j  i\n",
       "2  s  e"
      ]
     },
     "execution_count": 20,
     "metadata": {},
     "output_type": "execute_result"
    }
   ],
   "source": [
    "s.str.extract(r'([sj])(\\D)', expand=True)"
   ]
  },
  {
   "cell_type": "code",
   "execution_count": 21,
   "id": "7ee6deee",
   "metadata": {
    "ExecuteTime": {
     "end_time": "2021-09-21T05:05:08.682104Z",
     "start_time": "2021-09-21T05:05:08.668095Z"
    }
   },
   "outputs": [
    {
     "data": {
      "text/html": [
       "<div>\n",
       "<style scoped>\n",
       "    .dataframe tbody tr th:only-of-type {\n",
       "        vertical-align: middle;\n",
       "    }\n",
       "\n",
       "    .dataframe tbody tr th {\n",
       "        vertical-align: top;\n",
       "    }\n",
       "\n",
       "    .dataframe thead th {\n",
       "        text-align: right;\n",
       "    }\n",
       "</style>\n",
       "<table border=\"1\" class=\"dataframe\">\n",
       "  <thead>\n",
       "    <tr style=\"text-align: right;\">\n",
       "      <th></th>\n",
       "      <th>0</th>\n",
       "      <th>1</th>\n",
       "    </tr>\n",
       "  </thead>\n",
       "  <tbody>\n",
       "    <tr>\n",
       "      <th>0</th>\n",
       "      <td>s</td>\n",
       "      <td>o</td>\n",
       "    </tr>\n",
       "    <tr>\n",
       "      <th>1</th>\n",
       "      <td>j</td>\n",
       "      <td>i</td>\n",
       "    </tr>\n",
       "    <tr>\n",
       "      <th>2</th>\n",
       "      <td>s</td>\n",
       "      <td>e</td>\n",
       "    </tr>\n",
       "  </tbody>\n",
       "</table>\n",
       "</div>"
      ],
      "text/plain": [
       "   0  1\n",
       "0  s  o\n",
       "1  j  i\n",
       "2  s  e"
      ]
     },
     "execution_count": 21,
     "metadata": {},
     "output_type": "execute_result"
    }
   ],
   "source": [
    "s.str.extract(r'([sj])(\\D)', expand=False)"
   ]
  },
  {
   "cell_type": "code",
   "execution_count": 22,
   "id": "329db3d1",
   "metadata": {
    "ExecuteTime": {
     "end_time": "2021-09-21T05:05:17.425178Z",
     "start_time": "2021-09-21T05:05:17.411182Z"
    }
   },
   "outputs": [
    {
     "data": {
      "text/plain": [
       "pandas.core.frame.DataFrame"
      ]
     },
     "execution_count": 22,
     "metadata": {},
     "output_type": "execute_result"
    }
   ],
   "source": [
    "type(s.str.extract(r'([sj])(\\D)', expand=False))"
   ]
  },
  {
   "cell_type": "markdown",
   "id": "5afff38e",
   "metadata": {
    "ExecuteTime": {
     "end_time": "2021-09-21T05:05:42.212224Z",
     "start_time": "2021-09-21T05:05:42.194195Z"
    }
   },
   "source": [
    "#### 그룹이 한 개인 경우에 대해서만 expand에 대한 결과값을 달리한다.\n",
    "> 그룹이 하나라면, 그룹에 대한 colums (array)가 한 개 이므로, <br>Series로도 리턴이 가능하다."
   ]
  },
  {
   "cell_type": "code",
   "execution_count": 27,
   "id": "6d925661",
   "metadata": {
    "ExecuteTime": {
     "end_time": "2021-09-21T05:11:45.362044Z",
     "start_time": "2021-09-21T05:11:45.329382Z"
    }
   },
   "outputs": [],
   "source": [
    "titanic = pd.read_csv('titanic.csv')"
   ]
  },
  {
   "cell_type": "code",
   "execution_count": 28,
   "id": "535d5f5e",
   "metadata": {
    "ExecuteTime": {
     "end_time": "2021-09-21T05:11:59.784213Z",
     "start_time": "2021-09-21T05:11:59.761238Z"
    }
   },
   "outputs": [
    {
     "data": {
      "text/html": [
       "<div>\n",
       "<style scoped>\n",
       "    .dataframe tbody tr th:only-of-type {\n",
       "        vertical-align: middle;\n",
       "    }\n",
       "\n",
       "    .dataframe tbody tr th {\n",
       "        vertical-align: top;\n",
       "    }\n",
       "\n",
       "    .dataframe thead th {\n",
       "        text-align: right;\n",
       "    }\n",
       "</style>\n",
       "<table border=\"1\" class=\"dataframe\">\n",
       "  <thead>\n",
       "    <tr style=\"text-align: right;\">\n",
       "      <th></th>\n",
       "      <th>PassengerId</th>\n",
       "      <th>Survived</th>\n",
       "      <th>Pclass</th>\n",
       "      <th>Name</th>\n",
       "      <th>Sex</th>\n",
       "      <th>Age</th>\n",
       "      <th>SibSp</th>\n",
       "      <th>Parch</th>\n",
       "      <th>Ticket</th>\n",
       "      <th>Fare</th>\n",
       "      <th>Cabin</th>\n",
       "      <th>Embarked</th>\n",
       "    </tr>\n",
       "  </thead>\n",
       "  <tbody>\n",
       "    <tr>\n",
       "      <th>0</th>\n",
       "      <td>1</td>\n",
       "      <td>0</td>\n",
       "      <td>3</td>\n",
       "      <td>Braund, Mr. Owen Harris</td>\n",
       "      <td>male</td>\n",
       "      <td>22.0</td>\n",
       "      <td>1</td>\n",
       "      <td>0</td>\n",
       "      <td>A/5 21171</td>\n",
       "      <td>7.2500</td>\n",
       "      <td>NaN</td>\n",
       "      <td>S</td>\n",
       "    </tr>\n",
       "    <tr>\n",
       "      <th>1</th>\n",
       "      <td>2</td>\n",
       "      <td>1</td>\n",
       "      <td>1</td>\n",
       "      <td>Cumings, Mrs. John Bradley (Florence Briggs Th...</td>\n",
       "      <td>female</td>\n",
       "      <td>38.0</td>\n",
       "      <td>1</td>\n",
       "      <td>0</td>\n",
       "      <td>PC 17599</td>\n",
       "      <td>71.2833</td>\n",
       "      <td>C85</td>\n",
       "      <td>C</td>\n",
       "    </tr>\n",
       "    <tr>\n",
       "      <th>2</th>\n",
       "      <td>3</td>\n",
       "      <td>1</td>\n",
       "      <td>3</td>\n",
       "      <td>Heikkinen, Miss. Laina</td>\n",
       "      <td>female</td>\n",
       "      <td>26.0</td>\n",
       "      <td>0</td>\n",
       "      <td>0</td>\n",
       "      <td>STON/O2. 3101282</td>\n",
       "      <td>7.9250</td>\n",
       "      <td>NaN</td>\n",
       "      <td>S</td>\n",
       "    </tr>\n",
       "  </tbody>\n",
       "</table>\n",
       "</div>"
      ],
      "text/plain": [
       "   PassengerId  Survived  Pclass  \\\n",
       "0            1         0       3   \n",
       "1            2         1       1   \n",
       "2            3         1       3   \n",
       "\n",
       "                                                Name     Sex   Age  SibSp  \\\n",
       "0                            Braund, Mr. Owen Harris    male  22.0      1   \n",
       "1  Cumings, Mrs. John Bradley (Florence Briggs Th...  female  38.0      1   \n",
       "2                             Heikkinen, Miss. Laina  female  26.0      0   \n",
       "\n",
       "   Parch            Ticket     Fare Cabin Embarked  \n",
       "0      0         A/5 21171   7.2500   NaN        S  \n",
       "1      0          PC 17599  71.2833   C85        C  \n",
       "2      0  STON/O2. 3101282   7.9250   NaN        S  "
      ]
     },
     "execution_count": 28,
     "metadata": {},
     "output_type": "execute_result"
    }
   ],
   "source": [
    "titanic.head(3)"
   ]
  },
  {
   "cell_type": "code",
   "execution_count": 35,
   "id": "d2d9445a",
   "metadata": {
    "ExecuteTime": {
     "end_time": "2021-09-21T05:23:55.515206Z",
     "start_time": "2021-09-21T05:23:55.481239Z"
    }
   },
   "outputs": [
    {
     "data": {
      "text/html": [
       "<div>\n",
       "<style scoped>\n",
       "    .dataframe tbody tr th:only-of-type {\n",
       "        vertical-align: middle;\n",
       "    }\n",
       "\n",
       "    .dataframe tbody tr th {\n",
       "        vertical-align: top;\n",
       "    }\n",
       "\n",
       "    .dataframe thead th {\n",
       "        text-align: right;\n",
       "    }\n",
       "</style>\n",
       "<table border=\"1\" class=\"dataframe\">\n",
       "  <thead>\n",
       "    <tr style=\"text-align: right;\">\n",
       "      <th></th>\n",
       "      <th>PassengerId</th>\n",
       "      <th>Survived</th>\n",
       "      <th>Pclass</th>\n",
       "      <th>Name</th>\n",
       "      <th>Sex</th>\n",
       "      <th>Age</th>\n",
       "      <th>SibSp</th>\n",
       "      <th>Parch</th>\n",
       "      <th>Ticket</th>\n",
       "      <th>Fare</th>\n",
       "      <th>Cabin</th>\n",
       "      <th>Embarked</th>\n",
       "      <th>Title</th>\n",
       "    </tr>\n",
       "  </thead>\n",
       "  <tbody>\n",
       "    <tr>\n",
       "      <th>0</th>\n",
       "      <td>1</td>\n",
       "      <td>0</td>\n",
       "      <td>3</td>\n",
       "      <td>Braund, Mr. Owen Harris</td>\n",
       "      <td>male</td>\n",
       "      <td>22.0</td>\n",
       "      <td>1</td>\n",
       "      <td>0</td>\n",
       "      <td>A/5 21171</td>\n",
       "      <td>7.2500</td>\n",
       "      <td>NaN</td>\n",
       "      <td>S</td>\n",
       "      <td>Mr</td>\n",
       "    </tr>\n",
       "    <tr>\n",
       "      <th>1</th>\n",
       "      <td>2</td>\n",
       "      <td>1</td>\n",
       "      <td>1</td>\n",
       "      <td>Cumings, Mrs. John Bradley (Florence Briggs Th...</td>\n",
       "      <td>female</td>\n",
       "      <td>38.0</td>\n",
       "      <td>1</td>\n",
       "      <td>0</td>\n",
       "      <td>PC 17599</td>\n",
       "      <td>71.2833</td>\n",
       "      <td>C85</td>\n",
       "      <td>C</td>\n",
       "      <td>Mrs</td>\n",
       "    </tr>\n",
       "    <tr>\n",
       "      <th>2</th>\n",
       "      <td>3</td>\n",
       "      <td>1</td>\n",
       "      <td>3</td>\n",
       "      <td>Heikkinen, Miss. Laina</td>\n",
       "      <td>female</td>\n",
       "      <td>26.0</td>\n",
       "      <td>0</td>\n",
       "      <td>0</td>\n",
       "      <td>STON/O2. 3101282</td>\n",
       "      <td>7.9250</td>\n",
       "      <td>NaN</td>\n",
       "      <td>S</td>\n",
       "      <td>Miss</td>\n",
       "    </tr>\n",
       "  </tbody>\n",
       "</table>\n",
       "</div>"
      ],
      "text/plain": [
       "   PassengerId  Survived  Pclass  \\\n",
       "0            1         0       3   \n",
       "1            2         1       1   \n",
       "2            3         1       3   \n",
       "\n",
       "                                                Name     Sex   Age  SibSp  \\\n",
       "0                            Braund, Mr. Owen Harris    male  22.0      1   \n",
       "1  Cumings, Mrs. John Bradley (Florence Briggs Th...  female  38.0      1   \n",
       "2                             Heikkinen, Miss. Laina  female  26.0      0   \n",
       "\n",
       "   Parch            Ticket     Fare Cabin Embarked Title  \n",
       "0      0         A/5 21171   7.2500   NaN        S    Mr  \n",
       "1      0          PC 17599  71.2833   C85        C   Mrs  \n",
       "2      0  STON/O2. 3101282   7.9250   NaN        S  Miss  "
      ]
     },
     "execution_count": 35,
     "metadata": {},
     "output_type": "execute_result"
    }
   ],
   "source": [
    "for data in [titanic]:\n",
    "    data['Title'] = data['Name'].str.extract('([A-za-z]+)\\.')\n",
    "    \n",
    "data[0:3] # data.head(3)"
   ]
  },
  {
   "cell_type": "code",
   "execution_count": 39,
   "id": "5a087ae8",
   "metadata": {
    "ExecuteTime": {
     "end_time": "2021-09-21T05:27:17.107117Z",
     "start_time": "2021-09-21T05:27:17.095083Z"
    }
   },
   "outputs": [
    {
     "data": {
      "text/plain": [
       "0      Mr\n",
       "1     Mrs\n",
       "2    Miss\n",
       "Name: Title, dtype: object"
      ]
     },
     "execution_count": 39,
     "metadata": {},
     "output_type": "execute_result"
    }
   ],
   "source": [
    "titanic['Title'].head(3)"
   ]
  },
  {
   "cell_type": "code",
   "execution_count": 36,
   "id": "286559d3",
   "metadata": {
    "ExecuteTime": {
     "end_time": "2021-09-21T05:25:27.618177Z",
     "start_time": "2021-09-21T05:25:27.596022Z"
    }
   },
   "outputs": [
    {
     "name": "stdout",
     "output_type": "stream",
     "text": [
      "<class 'pandas.core.series.Series'>\n"
     ]
    },
    {
     "data": {
      "text/plain": [
       "0      Mr\n",
       "1     Mrs\n",
       "2    Miss\n",
       "Name: Name, dtype: object"
      ]
     },
     "execution_count": 36,
     "metadata": {},
     "output_type": "execute_result"
    }
   ],
   "source": [
    "expand_false = titanic['Name'].str.extract('([A-za-z]+)\\.',expand=False) # Series\n",
    "print(type(expand_false))\n",
    "expand_false[0:3]"
   ]
  },
  {
   "cell_type": "code",
   "execution_count": 37,
   "id": "765af6dd",
   "metadata": {
    "ExecuteTime": {
     "end_time": "2021-09-21T05:26:02.530304Z",
     "start_time": "2021-09-21T05:26:02.515637Z"
    }
   },
   "outputs": [
    {
     "data": {
      "text/plain": [
       "0      Mr\n",
       "1     Mrs\n",
       "2    Miss\n",
       "Name: Name, dtype: object"
      ]
     },
     "execution_count": 37,
     "metadata": {},
     "output_type": "execute_result"
    }
   ],
   "source": [
    "expand_false.head(3)"
   ]
  }
 ],
 "metadata": {
  "hide_input": false,
  "kernelspec": {
   "display_name": "Python 3",
   "language": "python",
   "name": "python3"
  },
  "language_info": {
   "codemirror_mode": {
    "name": "ipython",
    "version": 3
   },
   "file_extension": ".py",
   "mimetype": "text/x-python",
   "name": "python",
   "nbconvert_exporter": "python",
   "pygments_lexer": "ipython3",
   "version": "3.8.8"
  },
  "toc": {
   "base_numbering": 1,
   "nav_menu": {},
   "number_sections": true,
   "sideBar": true,
   "skip_h1_title": false,
   "title_cell": "Table of Contents",
   "title_sidebar": "Contents",
   "toc_cell": false,
   "toc_position": {},
   "toc_section_display": true,
   "toc_window_display": false
  },
  "varInspector": {
   "cols": {
    "lenName": 16,
    "lenType": 16,
    "lenVar": 40
   },
   "kernels_config": {
    "python": {
     "delete_cmd_postfix": "",
     "delete_cmd_prefix": "del ",
     "library": "var_list.py",
     "varRefreshCmd": "print(var_dic_list())"
    },
    "r": {
     "delete_cmd_postfix": ") ",
     "delete_cmd_prefix": "rm(",
     "library": "var_list.r",
     "varRefreshCmd": "cat(var_dic_list()) "
    }
   },
   "types_to_exclude": [
    "module",
    "function",
    "builtin_function_or_method",
    "instance",
    "_Feature"
   ],
   "window_display": false
  }
 },
 "nbformat": 4,
 "nbformat_minor": 5
}
