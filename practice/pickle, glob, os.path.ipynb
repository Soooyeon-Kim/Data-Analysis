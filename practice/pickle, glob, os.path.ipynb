{
 "cells": [
  {
   "cell_type": "markdown",
   "id": "fc7a7361",
   "metadata": {
    "ExecuteTime": {
     "end_time": "2021-09-26T11:48:46.662772Z",
     "start_time": "2021-09-26T11:48:46.645347Z"
    }
   },
   "source": [
    "## pickle"
   ]
  },
  {
   "cell_type": "markdown",
   "id": "c78339b0",
   "metadata": {},
   "source": [
    "*  복잡한 자료를 파일에 쓰고 읽는 방법 : pickle 모듈 사용"
   ]
  },
  {
   "cell_type": "code",
   "execution_count": 9,
   "id": "4b0166cd",
   "metadata": {
    "ExecuteTime": {
     "end_time": "2021-09-26T11:50:13.771360Z",
     "start_time": "2021-09-26T11:50:13.752351Z"
    }
   },
   "outputs": [],
   "source": [
    "users = {'kim':'3kid9', 'sun80':'393948', 'ljm':'py90390'}\n",
    "f = open('users', 'wb')"
   ]
  },
  {
   "cell_type": "code",
   "execution_count": 10,
   "id": "fc745dcd",
   "metadata": {
    "ExecuteTime": {
     "end_time": "2021-09-26T11:50:14.815852Z",
     "start_time": "2021-09-26T11:50:14.805625Z"
    }
   },
   "outputs": [],
   "source": [
    "import pickle\n",
    "pickle.dump(users, f)\n",
    "f.close()"
   ]
  },
  {
   "cell_type": "markdown",
   "id": "5ac86960",
   "metadata": {
    "ExecuteTime": {
     "end_time": "2021-09-26T11:50:38.632483Z",
     "start_time": "2021-09-26T11:50:38.610056Z"
    }
   },
   "source": [
    ">  `wb`는 일반 텍스트가 아닌 바이트(**byte**) 형식으로 쓰겠다(**write**)는 뜻"
   ]
  },
  {
   "cell_type": "code",
   "execution_count": 12,
   "id": "d71ed17c",
   "metadata": {
    "ExecuteTime": {
     "end_time": "2021-09-26T11:51:06.232801Z",
     "start_time": "2021-09-26T11:51:06.213484Z"
    }
   },
   "outputs": [
    {
     "data": {
      "text/plain": [
       "True"
      ]
     },
     "execution_count": 12,
     "metadata": {},
     "output_type": "execute_result"
    }
   ],
   "source": [
    "import os\n",
    "os.path.exists('users')"
   ]
  },
  {
   "cell_type": "code",
   "execution_count": 13,
   "id": "a51586bc",
   "metadata": {
    "ExecuteTime": {
     "end_time": "2021-09-26T11:51:18.085820Z",
     "start_time": "2021-09-26T11:51:18.061239Z"
    }
   },
   "outputs": [
    {
     "name": "stdout",
     "output_type": "stream",
     "text": [
      "{'kim': '3kid9', 'sun80': '393948', 'ljm': 'py90390'}\n"
     ]
    }
   ],
   "source": [
    "f = open('users', 'rb')\n",
    "a = pickle.load(f)\n",
    "print(a)"
   ]
  },
  {
   "cell_type": "markdown",
   "id": "721dca76",
   "metadata": {},
   "source": [
    "## glob\n",
    "* 파일들의 리스트를 뽑을 때 사용\n",
    "* glob() 함수는 인자로 받은 패턴과 이름이 일치하는 모든 파일과 디렉터리의 리스트를 반환\n",
    "* 패턴을 그냥 *라고 주면 모든 파일과 디렉터리를 볼 수 있다."
   ]
  },
  {
   "cell_type": "code",
   "execution_count": 1,
   "id": "fa2e630f",
   "metadata": {
    "ExecuteTime": {
     "end_time": "2021-09-26T11:44:31.292276Z",
     "start_time": "2021-09-26T11:44:31.256388Z"
    }
   },
   "outputs": [],
   "source": [
    "from glob import glob"
   ]
  },
  {
   "cell_type": "code",
   "execution_count": 2,
   "id": "046ca590",
   "metadata": {
    "ExecuteTime": {
     "end_time": "2021-09-26T11:44:36.235320Z",
     "start_time": "2021-09-26T11:44:36.158554Z"
    }
   },
   "outputs": [
    {
     "data": {
      "text/plain": [
       "[]"
      ]
     },
     "execution_count": 2,
     "metadata": {},
     "output_type": "execute_result"
    }
   ],
   "source": [
    "glob('*.exe')    "
   ]
  },
  {
   "cell_type": "code",
   "execution_count": 3,
   "id": "c865e1e4",
   "metadata": {
    "ExecuteTime": {
     "end_time": "2021-09-26T11:44:41.769358Z",
     "start_time": "2021-09-26T11:44:41.734190Z"
    }
   },
   "outputs": [
    {
     "data": {
      "text/plain": [
       "['a.txt',\n",
       " 'corpus.txt',\n",
       " 'friends101.txt',\n",
       " 'input.txt',\n",
       " 'monica.txt',\n",
       " 'netflix.txt',\n",
       " 'test.txt',\n",
       " 'would.txt']"
      ]
     },
     "execution_count": 3,
     "metadata": {},
     "output_type": "execute_result"
    }
   ],
   "source": [
    "glob('*.txt') "
   ]
  },
  {
   "cell_type": "code",
   "execution_count": 5,
   "id": "faa5d71a",
   "metadata": {
    "ExecuteTime": {
     "end_time": "2021-09-26T11:45:36.272411Z",
     "start_time": "2021-09-26T11:45:36.243805Z"
    }
   },
   "outputs": [
    {
     "data": {
      "text/plain": [
       "['tweets.py']"
      ]
     },
     "execution_count": 5,
     "metadata": {},
     "output_type": "execute_result"
    }
   ],
   "source": [
    "glob('*.py') "
   ]
  },
  {
   "cell_type": "markdown",
   "id": "0aed574a",
   "metadata": {
    "ExecuteTime": {
     "end_time": "2021-09-26T11:46:00.817453Z",
     "start_time": "2021-09-26T11:46:00.792451Z"
    }
   },
   "source": [
    "현재 경로가 아닌 다른 경로에 대해서도 조회할 수 있다"
   ]
  },
  {
   "cell_type": "code",
   "execution_count": null,
   "id": "282fd9bb",
   "metadata": {},
   "outputs": [],
   "source": [
    "from glob import glob\n",
    "from os.path import isdir\n",
    "\n",
    "for x in glob('*'):\n",
    "    if isdir(x):                # 디렉터리인가?\n",
    "        print(x, '<DIR>')\n",
    "    else:\n",
    "        print(x)"
   ]
  },
  {
   "cell_type": "markdown",
   "id": "bf39fb4e",
   "metadata": {},
   "source": [
    "`glob('*')`을 사용해 얻은 리스트의 원소 x를 하나씩 출력하되, <br>그것이 디렉터리이면  `<DIR>`이라는 문자열을 뒤에 붙여서 출력"
   ]
  }
 ],
 "metadata": {
  "hide_input": false,
  "kernelspec": {
   "display_name": "Python 3",
   "language": "python",
   "name": "python3"
  },
  "language_info": {
   "codemirror_mode": {
    "name": "ipython",
    "version": 3
   },
   "file_extension": ".py",
   "mimetype": "text/x-python",
   "name": "python",
   "nbconvert_exporter": "python",
   "pygments_lexer": "ipython3",
   "version": "3.8.8"
  },
  "toc": {
   "base_numbering": 1,
   "nav_menu": {},
   "number_sections": true,
   "sideBar": true,
   "skip_h1_title": false,
   "title_cell": "Table of Contents",
   "title_sidebar": "Contents",
   "toc_cell": false,
   "toc_position": {},
   "toc_section_display": true,
   "toc_window_display": false
  },
  "varInspector": {
   "cols": {
    "lenName": 16,
    "lenType": 16,
    "lenVar": 40
   },
   "kernels_config": {
    "python": {
     "delete_cmd_postfix": "",
     "delete_cmd_prefix": "del ",
     "library": "var_list.py",
     "varRefreshCmd": "print(var_dic_list())"
    },
    "r": {
     "delete_cmd_postfix": ") ",
     "delete_cmd_prefix": "rm(",
     "library": "var_list.r",
     "varRefreshCmd": "cat(var_dic_list()) "
    }
   },
   "types_to_exclude": [
    "module",
    "function",
    "builtin_function_or_method",
    "instance",
    "_Feature"
   ],
   "window_display": false
  }
 },
 "nbformat": 4,
 "nbformat_minor": 5
}
