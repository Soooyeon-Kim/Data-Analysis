{
 "cells": [
  {
   "cell_type": "code",
   "execution_count": 13,
   "id": "babc230f",
   "metadata": {
    "ExecuteTime": {
     "end_time": "2021-09-25T12:28:28.619093Z",
     "start_time": "2021-09-25T12:28:28.607091Z"
    }
   },
   "outputs": [
    {
     "name": "stdout",
     "output_type": "stream",
     "text": [
      "apple\n",
      "arise\n",
      "above\n"
     ]
    }
   ],
   "source": [
    "import re\n",
    "words = ['apple', 'cat', 'brave', 'drama', 'arise', 'blow', 'coat', 'above']\n",
    "for i in words:\n",
    "    m = re.match(r'a\\D+', i)\n",
    "    if m:\n",
    "        print(m.group()) "
   ]
  },
  {
   "cell_type": "code",
   "execution_count": 1,
   "id": "8ddab32c",
   "metadata": {
    "ExecuteTime": {
     "end_time": "2021-09-25T12:19:35.373156Z",
     "start_time": "2021-09-25T12:19:35.365158Z"
    }
   },
   "outputs": [],
   "source": [
    "words = ['apple', 'cat', 'brave', 'drama', 'arise', 'blow', 'coat', 'above']"
   ]
  },
  {
   "cell_type": "code",
   "execution_count": 10,
   "id": "ef619ecc",
   "metadata": {
    "ExecuteTime": {
     "end_time": "2021-09-25T12:25:16.130494Z",
     "start_time": "2021-09-25T12:25:16.113491Z"
    }
   },
   "outputs": [
    {
     "data": {
      "text/plain": [
       "['apple', 'arise', 'above']"
      ]
     },
     "execution_count": 10,
     "metadata": {},
     "output_type": "execute_result"
    }
   ],
   "source": [
    "a = [word for word in words if word.startswith('a')]\n",
    "a"
   ]
  }
 ],
 "metadata": {
  "hide_input": false,
  "kernelspec": {
   "display_name": "Python 3",
   "language": "python",
   "name": "python3"
  },
  "language_info": {
   "codemirror_mode": {
    "name": "ipython",
    "version": 3
   },
   "file_extension": ".py",
   "mimetype": "text/x-python",
   "name": "python",
   "nbconvert_exporter": "python",
   "pygments_lexer": "ipython3",
   "version": "3.8.8"
  },
  "toc": {
   "base_numbering": 1,
   "nav_menu": {},
   "number_sections": true,
   "sideBar": true,
   "skip_h1_title": false,
   "title_cell": "Table of Contents",
   "title_sidebar": "Contents",
   "toc_cell": false,
   "toc_position": {},
   "toc_section_display": true,
   "toc_window_display": false
  },
  "varInspector": {
   "cols": {
    "lenName": 16,
    "lenType": 16,
    "lenVar": 40
   },
   "kernels_config": {
    "python": {
     "delete_cmd_postfix": "",
     "delete_cmd_prefix": "del ",
     "library": "var_list.py",
     "varRefreshCmd": "print(var_dic_list())"
    },
    "r": {
     "delete_cmd_postfix": ") ",
     "delete_cmd_prefix": "rm(",
     "library": "var_list.r",
     "varRefreshCmd": "cat(var_dic_list()) "
    }
   },
   "types_to_exclude": [
    "module",
    "function",
    "builtin_function_or_method",
    "instance",
    "_Feature"
   ],
   "window_display": false
  }
 },
 "nbformat": 4,
 "nbformat_minor": 5
}
