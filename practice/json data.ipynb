{
 "cells": [
  {
   "cell_type": "code",
   "execution_count": 1,
   "id": "488ad1f5",
   "metadata": {
    "ExecuteTime": {
     "end_time": "2021-09-10T23:28:11.077245Z",
     "start_time": "2021-09-10T23:28:11.071260Z"
    }
   },
   "outputs": [],
   "source": [
    "import json"
   ]
  },
  {
   "cell_type": "code",
   "execution_count": 8,
   "id": "2e0e0a6f",
   "metadata": {
    "ExecuteTime": {
     "end_time": "2021-09-10T23:34:14.979854Z",
     "start_time": "2021-09-10T23:34:14.960367Z"
    }
   },
   "outputs": [],
   "source": [
    "# json 파일 읽기 -> 문자열 딕셔너리 변환 \n",
    "def create_dict(filename):\n",
    "    with open(filename) as file:\n",
    "        json_string = file.read()\n",
    "        return json.loads(json_string)"
   ]
  },
  {
   "cell_type": "code",
   "execution_count": 9,
   "id": "eb3c7d3c",
   "metadata": {
    "ExecuteTime": {
     "end_time": "2021-09-10T23:34:16.087925Z",
     "start_time": "2021-09-10T23:34:16.068942Z"
    }
   },
   "outputs": [],
   "source": [
    "# json 파일을 읽기 / 딕셔너리를 json 형태의 문자열로 변환\n",
    "def create_json(dictionary, filename):\n",
    "    with open(filename, 'w') as file:\n",
    "        json_string = json.dumps(dictionary)\n",
    "        file.write(json_string)"
   ]
  },
  {
   "cell_type": "code",
   "execution_count": 10,
   "id": "9b373f28",
   "metadata": {
    "ExecuteTime": {
     "end_time": "2021-09-10T23:34:16.861895Z",
     "start_time": "2021-09-10T23:34:16.825963Z"
    }
   },
   "outputs": [
    {
     "name": "stdout",
     "output_type": "stream",
     "text": [
      "원래 데이터: {'Iron Man': 31928, 'Iron Man 2': 15293, 'Dark Knight': 42107, 'Man in Black': 20113}\n",
      "수정된 데이터: {'Iron Man': 31928, 'Iron Man 2': 15293, 'Dark Knight': 39217, 'Man in Black': 20113}\n"
     ]
    }
   ],
   "source": [
    "src = 'netflix.json'\n",
    "dst = 'new_netflix.json'\n",
    "\n",
    "netflix_dict = create_dict(src)\n",
    "print('원래 데이터: ' + str(netflix_dict))\n",
    "\n",
    "netflix_dict['Dark Knight'] = 39217\n",
    "create_json(netflix_dict, dst)\n",
    "updated_dict = create_dict(dst)\n",
    "print('수정된 데이터: ' + str(updated_dict))"
   ]
  }
 ],
 "metadata": {
  "hide_input": false,
  "kernelspec": {
   "display_name": "Python 3",
   "language": "python",
   "name": "python3"
  },
  "language_info": {
   "codemirror_mode": {
    "name": "ipython",
    "version": 3
   },
   "file_extension": ".py",
   "mimetype": "text/x-python",
   "name": "python",
   "nbconvert_exporter": "python",
   "pygments_lexer": "ipython3",
   "version": "3.8.8"
  },
  "toc": {
   "base_numbering": 1,
   "nav_menu": {},
   "number_sections": true,
   "sideBar": true,
   "skip_h1_title": false,
   "title_cell": "Table of Contents",
   "title_sidebar": "Contents",
   "toc_cell": false,
   "toc_position": {},
   "toc_section_display": true,
   "toc_window_display": false
  },
  "varInspector": {
   "cols": {
    "lenName": 16,
    "lenType": 16,
    "lenVar": 40
   },
   "kernels_config": {
    "python": {
     "delete_cmd_postfix": "",
     "delete_cmd_prefix": "del ",
     "library": "var_list.py",
     "varRefreshCmd": "print(var_dic_list())"
    },
    "r": {
     "delete_cmd_postfix": ") ",
     "delete_cmd_prefix": "rm(",
     "library": "var_list.r",
     "varRefreshCmd": "cat(var_dic_list()) "
    }
   },
   "types_to_exclude": [
    "module",
    "function",
    "builtin_function_or_method",
    "instance",
    "_Feature"
   ],
   "window_display": false
  }
 },
 "nbformat": 4,
 "nbformat_minor": 5
}
