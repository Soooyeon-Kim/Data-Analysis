{
 "cells": [
  {
   "cell_type": "markdown",
   "id": "7f2dc30a",
   "metadata": {
    "ExecuteTime": {
     "end_time": "2021-09-10T23:02:14.637947Z",
     "start_time": "2021-09-10T23:02:14.620994Z"
    }
   },
   "source": [
    "### 딕셔너리(dictionary)"
   ]
  },
  {
   "cell_type": "code",
   "execution_count": 3,
   "id": "b3711b91",
   "metadata": {
    "ExecuteTime": {
     "end_time": "2021-09-10T23:01:38.974987Z",
     "start_time": "2021-09-10T23:01:38.942075Z"
    }
   },
   "outputs": [],
   "source": [
    "source_file = \"netflix.txt\"\n",
    "\n",
    "def make_dictionary(filename):\n",
    "    user_to_titles = {}\n",
    "    with open(filename) as file:\n",
    "        for line in file:\n",
    "            # 아래 코드를 작성하세요.\n",
    "            \n",
    "            user, title = line.strip().split(\":\")\n",
    "            user_to_titles[user] =title\n",
    "            \n",
    "        return user_to_titles"
   ]
  },
  {
   "cell_type": "code",
   "execution_count": 4,
   "id": "e845b162",
   "metadata": {
    "ExecuteTime": {
     "end_time": "2021-09-10T23:01:45.855702Z",
     "start_time": "2021-09-10T23:01:45.842709Z"
    },
    "scrolled": false
   },
   "outputs": [
    {
     "name": "stdout",
     "output_type": "stream",
     "text": [
      "{'1': '1012', '2': '3781', '3': '1732', '4': '889', '5': '2345', '6': '107', '7': '379'}\n"
     ]
    }
   ],
   "source": [
    "print(make_dictionary(source_file))"
   ]
  },
  {
   "cell_type": "markdown",
   "id": "0b72327e",
   "metadata": {},
   "source": [
    "---"
   ]
  },
  {
   "cell_type": "markdown",
   "id": "cffb0a49",
   "metadata": {
    "ExecuteTime": {
     "end_time": "2021-09-10T23:04:05.995009Z",
     "start_time": "2021-09-10T23:04:05.985520Z"
    }
   },
   "source": [
    "### items : key, value"
   ]
  },
  {
   "cell_type": "code",
   "execution_count": 13,
   "id": "dabff724",
   "metadata": {
    "ExecuteTime": {
     "end_time": "2021-09-10T23:18:56.311795Z",
     "start_time": "2021-09-10T23:18:56.299828Z"
    }
   },
   "outputs": [],
   "source": [
    "# 사용자가 시청한 작품의 리스트\n",
    "# user_to_titles = { user : [movie_title] }\n",
    "user_to_titles = {\n",
    "    'user_s': ['The Assistant', 'My Name Is Emily', 'EMMA'],\n",
    "    'user_a': ['Okja', 'Bird Box', 'The Christmas Chronicles', 'The Princess Switch'],\n",
    "    'user_k': ['Sierra Burgess Is a Loser'],\n",
    "    'user_j': ['The Perfect Date', 'The Irishman', 'Black Mirror', 'Vivo', 'Stranger Things', 'Roma', 'Dark'],\n",
    "    'user_n': ['Supernatural', 'The Crown', 'Peaky Blinders', 'Swades', 'Fyre'],\n",
    "}"
   ]
  },
  {
   "cell_type": "code",
   "execution_count": 14,
   "id": "dcd3d28f",
   "metadata": {
    "ExecuteTime": {
     "end_time": "2021-09-10T23:18:57.623308Z",
     "start_time": "2021-09-10T23:18:57.608350Z"
    }
   },
   "outputs": [],
   "source": [
    "def get_user_to_num_titles(user_to_titles):\n",
    "    user_to_num_titles = {}\n",
    "    \n",
    "    for user, titles in user_to_titles.items():\n",
    "        user_to_num_titles[user] =len(titles)\n",
    "    return user_to_num_titles"
   ]
  },
  {
   "cell_type": "code",
   "execution_count": 15,
   "id": "69ca28ea",
   "metadata": {
    "ExecuteTime": {
     "end_time": "2021-09-10T23:18:58.283325Z",
     "start_time": "2021-09-10T23:18:58.278557Z"
    }
   },
   "outputs": [
    {
     "name": "stdout",
     "output_type": "stream",
     "text": [
      "{'user_s': 3, 'user_a': 4, 'user_k': 1, 'user_j': 7, 'user_n': 5}\n"
     ]
    }
   ],
   "source": [
    "print(get_user_to_num_titles(user_to_titles))"
   ]
  }
 ],
 "metadata": {
  "hide_input": false,
  "kernelspec": {
   "display_name": "Python 3",
   "language": "python",
   "name": "python3"
  },
  "language_info": {
   "codemirror_mode": {
    "name": "ipython",
    "version": 3
   },
   "file_extension": ".py",
   "mimetype": "text/x-python",
   "name": "python",
   "nbconvert_exporter": "python",
   "pygments_lexer": "ipython3",
   "version": "3.8.8"
  },
  "toc": {
   "base_numbering": 1,
   "nav_menu": {},
   "number_sections": true,
   "sideBar": true,
   "skip_h1_title": false,
   "title_cell": "Table of Contents",
   "title_sidebar": "Contents",
   "toc_cell": false,
   "toc_position": {},
   "toc_section_display": true,
   "toc_window_display": false
  },
  "varInspector": {
   "cols": {
    "lenName": 16,
    "lenType": 16,
    "lenVar": 40
   },
   "kernels_config": {
    "python": {
     "delete_cmd_postfix": "",
     "delete_cmd_prefix": "del ",
     "library": "var_list.py",
     "varRefreshCmd": "print(var_dic_list())"
    },
    "r": {
     "delete_cmd_postfix": ") ",
     "delete_cmd_prefix": "rm(",
     "library": "var_list.r",
     "varRefreshCmd": "cat(var_dic_list()) "
    }
   },
   "types_to_exclude": [
    "module",
    "function",
    "builtin_function_or_method",
    "instance",
    "_Feature"
   ],
   "window_display": false
  }
 },
 "nbformat": 4,
 "nbformat_minor": 5
}
