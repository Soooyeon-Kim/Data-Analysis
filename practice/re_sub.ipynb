{
 "cells": [
  {
   "cell_type": "markdown",
   "id": "30075033",
   "metadata": {},
   "source": [
    "### 정규표현식으로 특정 문자열을 찾은 뒤 다른 문자열로 바꾸는 방법\n",
    "문자열을 바꿀 때는 `sub 함수`를 사용하며 패턴, 바꿀 문자열, 문자열, 바꿀 횟수를 넣어준다. 여기서 바꿀 횟수를 넣으면 지정된 횟수만큼 바꾸며 바꿀 횟수를 생략하면 찾은 문자열을 모두 바꾼다.\n",
    "* re.sub('패턴' , '바꿀 문자열', '문자열', '바꿀 횟수')"
   ]
  },
  {
   "cell_type": "code",
   "execution_count": 1,
   "id": "62061910",
   "metadata": {
    "ExecuteTime": {
     "end_time": "2021-09-30T12:00:56.048038Z",
     "start_time": "2021-09-30T12:00:56.043039Z"
    }
   },
   "outputs": [],
   "source": [
    "import re"
   ]
  },
  {
   "cell_type": "code",
   "execution_count": 2,
   "id": "a7033f3b",
   "metadata": {
    "ExecuteTime": {
     "end_time": "2021-09-30T12:01:36.245986Z",
     "start_time": "2021-09-30T12:01:36.216957Z"
    }
   },
   "outputs": [
    {
     "data": {
      "text/plain": [
       "'fruit box fruit tree'"
      ]
     },
     "execution_count": 2,
     "metadata": {},
     "output_type": "execute_result"
    }
   ],
   "source": [
    "# apple 또는 orange를 fruit로 바꿈\n",
    "re.sub('apple|orange', 'fruit', 'apple box orange tree')    "
   ]
  },
  {
   "cell_type": "code",
   "execution_count": 3,
   "id": "15b9a7f7",
   "metadata": {
    "ExecuteTime": {
     "end_time": "2021-09-30T12:02:51.785097Z",
     "start_time": "2021-09-30T12:02:51.763102Z"
    }
   },
   "outputs": [
    {
     "data": {
      "text/plain": [
       "'n n soo n yeon hello n world n !'"
      ]
     },
     "execution_count": 3,
     "metadata": {},
     "output_type": "execute_result"
    }
   ],
   "source": [
    "# 숫자만 찾아서 n으로 바꿈\n",
    "re.sub('[0-9]+', 'n', '1 2 soo 3 yeon hello 7 world 8 !')"
   ]
  },
  {
   "cell_type": "markdown",
   "id": "8dd92b38",
   "metadata": {},
   "source": [
    "---"
   ]
  },
  {
   "cell_type": "markdown",
   "id": "08d9ff53",
   "metadata": {},
   "source": [
    "sub 함수는 바꿀 문자열 대신 `교체 함수`를 지정할 수도 있다. <br>교체 함수는 매개변수로 매치 객체를 받으며 바꿀 결과를 문자열로 반환한다."
   ]
  },
  {
   "cell_type": "markdown",
   "id": "1c0420ec",
   "metadata": {},
   "source": [
    "* 교체함수 (매치객체)\n",
    "* re.sub('패턴', '교체 함수', '문자열', '바꿀횟수')"
   ]
  },
  {
   "cell_type": "code",
   "execution_count": 5,
   "id": "54f421f1",
   "metadata": {
    "ExecuteTime": {
     "end_time": "2021-09-30T12:06:53.782186Z",
     "start_time": "2021-09-30T12:06:53.768192Z"
    }
   },
   "outputs": [],
   "source": [
    "def multiple10(m):        # 매개변수로 매치 객체를 받음\n",
    "    n = int(m.group())    # 매칭된 문자열을 가져와서 정수로 변환\n",
    "    return str(n * 10)    # 숫자에 10을 곱한 뒤 문자열로 변환해서 반환"
   ]
  },
  {
   "cell_type": "code",
   "execution_count": 6,
   "id": "e93f6b05",
   "metadata": {
    "ExecuteTime": {
     "end_time": "2021-09-30T12:06:54.911451Z",
     "start_time": "2021-09-30T12:06:54.894899Z"
    }
   },
   "outputs": [
    {
     "data": {
      "text/plain": [
       "'10 20 soo 30 yeon hello 70 world 80 !'"
      ]
     },
     "execution_count": 6,
     "metadata": {},
     "output_type": "execute_result"
    }
   ],
   "source": [
    "re.sub('[0-9]+', multiple10, '1 2 soo 3 yeon hello 7 world 8 !')"
   ]
  },
  {
   "cell_type": "markdown",
   "id": "c0a92981",
   "metadata": {},
   "source": [
    "mutiple10 함수에서 group 메서드로 매칭된 문자열을 가져와서 정수로 바꾼다.<br> 그리고 숫자에 10을 곱한 뒤, 문자열로 변환해서 반환한다."
   ]
  },
  {
   "cell_type": "markdown",
   "id": "4f45f180",
   "metadata": {
    "ExecuteTime": {
     "end_time": "2021-09-30T12:07:06.391603Z",
     "start_time": "2021-09-30T12:07:06.369529Z"
    }
   },
   "source": [
    "교체 함수의 내용이 간단하다면 다음과 같이 람다 표현식을 만들어서 넣어도 됩니다."
   ]
  },
  {
   "cell_type": "code",
   "execution_count": 9,
   "id": "a7abe5f1",
   "metadata": {
    "ExecuteTime": {
     "end_time": "2021-09-30T12:11:26.774997Z",
     "start_time": "2021-09-30T12:11:26.766402Z"
    }
   },
   "outputs": [
    {
     "data": {
      "text/plain": [
       "'10 20 soo 30 yeon hello 70 world 80 !'"
      ]
     },
     "execution_count": 9,
     "metadata": {},
     "output_type": "execute_result"
    }
   ],
   "source": [
    "re.sub('[0-9]+', lambda m : str(int(m.group())* 10), '1 2 soo 3 yeon hello 7 world 8 !')"
   ]
  },
  {
   "cell_type": "markdown",
   "id": "5d2547cb",
   "metadata": {},
   "source": [
    "---"
   ]
  },
  {
   "cell_type": "markdown",
   "id": "a99bd042",
   "metadata": {
    "ExecuteTime": {
     "end_time": "2021-09-30T12:11:59.526367Z",
     "start_time": "2021-09-30T12:11:59.521331Z"
    }
   },
   "source": [
    "### 찾은 문자열을 결과에 다시 사용하기\n",
    "정규표현식으로 찾은 문자열을 가져와서 결과에 다시 사용\n",
    "* 정규표현식을 그룹으로 묶는다. \n",
    "* 바꿀 문자열에서 \\\\숫자 형식으로 매칭된 문자열을 가져와서 사용"
   ]
  },
  {
   "cell_type": "markdown",
   "id": "1fb77b7e",
   "metadata": {},
   "source": [
    "다음은 'hello 1234'에서 hello는 그룹 1, 1234는 그룹 2로 찾은 뒤 그룹 2, 1, 2, 1 순으로 문자열의 순서를 바꿔서 출력한다."
   ]
  },
  {
   "cell_type": "code",
   "execution_count": 11,
   "id": "9fe40e49",
   "metadata": {
    "ExecuteTime": {
     "end_time": "2021-09-30T12:15:08.248688Z",
     "start_time": "2021-09-30T12:15:08.240689Z"
    }
   },
   "outputs": [
    {
     "data": {
      "text/plain": [
       "'1234 hello 1234 hello'"
      ]
     },
     "execution_count": 11,
     "metadata": {},
     "output_type": "execute_result"
    }
   ],
   "source": [
    "re.sub('([a-z]+) ([0-9]+)', '\\\\2 \\\\1 \\\\2 \\\\1', 'hello 1234')    # 그룹 2, 1, 2, 1 순으로 바꿈"
   ]
  },
  {
   "cell_type": "code",
   "execution_count": 15,
   "id": "da19ee48",
   "metadata": {
    "ExecuteTime": {
     "end_time": "2021-09-30T12:23:25.058462Z",
     "start_time": "2021-09-30T12:23:25.039459Z"
    }
   },
   "outputs": [
    {
     "data": {
      "text/plain": [
       "'1234 sooyeon 1234 sooyeon'"
      ]
     },
     "execution_count": 15,
     "metadata": {},
     "output_type": "execute_result"
    }
   ],
   "source": [
    "re.sub('([a-z]+) ([0-9]+)', '\\\\2 \\\\1 \\\\2 \\\\1', 'sooyeon 1234') "
   ]
  },
  {
   "cell_type": "code",
   "execution_count": 16,
   "id": "ff8fc648",
   "metadata": {
    "ExecuteTime": {
     "end_time": "2021-09-30T12:23:42.491508Z",
     "start_time": "2021-09-30T12:23:42.478971Z"
    }
   },
   "outputs": [
    {
     "data": {
      "text/plain": [
       "'1234 sooyeon 1234 sooyeon 1234 sooyeon 1234 sooyeon'"
      ]
     },
     "execution_count": 16,
     "metadata": {},
     "output_type": "execute_result"
    }
   ],
   "source": [
    "re.sub('([a-z]+) ([0-9]+)', '\\\\2 \\\\1 \\\\2 \\\\1', ') "
   ]
  },
  {
   "cell_type": "markdown",
   "id": "5e0834d1",
   "metadata": {},
   "source": [
    "{ \"name\": \"james\" }'을 '<name>james</name>' 형식으로"
   ]
  },
  {
   "cell_type": "code",
   "execution_count": 17,
   "id": "6083292e",
   "metadata": {
    "ExecuteTime": {
     "end_time": "2021-09-30T12:24:52.814976Z",
     "start_time": "2021-09-30T12:24:52.800965Z"
    }
   },
   "outputs": [
    {
     "data": {
      "text/plain": [
       "'<name>james</name>'"
      ]
     },
     "execution_count": 17,
     "metadata": {},
     "output_type": "execute_result"
    }
   ],
   "source": [
    "re.sub('({\\s*)\"(\\w+)\":\\s*\"(\\w+)\"(\\s*})', '<\\\\2>\\\\3</\\\\2>', '{ \"name\": \"james\" }')"
   ]
  },
  {
   "cell_type": "markdown",
   "id": "01254963",
   "metadata": {},
   "source": [
    "* 맨 처음 ({\\s*)은 {와 공백을 찾으므로 '{ '을 찾는다. \n",
    "* 마지막 (\\s*})은 공백과 }를 찾으므로 ' }'를 찾는다.\n",
    "* 중간에 있는 \"(\\w+)\":\\s*\"(\\w+)\"은 :을 기준으로 양 옆의 name과 james를 찾는다. \n",
    "* 바꿀 문자열은 '<\\\\2>'과 같이 그룹 2 name과 그룹 3 james만 사용하고 그룹 1 '{ ', 그룹 4 '} '는 버린다."
   ]
  },
  {
   "cell_type": "markdown",
   "id": "743d6584",
   "metadata": {},
   "source": [
    "### 정규 표현식으로 찾은 문자열을 사용\n",
    "<img src=https://dojang.io/pluginfile.php/14024/mod_page/content/3/043001.png>"
   ]
  },
  {
   "cell_type": "markdown",
   "id": "a220cfc9",
   "metadata": {},
   "source": [
    "만약 그룹에 이름을 지었다면 \\\\g<이름> 형식으로 매칭된 문자열을 가져올 수 있다(\\\\g<숫자> 형식으로 숫자를 지정해도 된다).\n",
    "\n",
    "* \\\\g<이름>\n",
    "* \\\\g<숫자>"
   ]
  },
  {
   "cell_type": "code",
   "execution_count": 18,
   "id": "59917a05",
   "metadata": {
    "ExecuteTime": {
     "end_time": "2021-09-30T12:34:01.845547Z",
     "start_time": "2021-09-30T12:34:01.824446Z"
    }
   },
   "outputs": [
    {
     "data": {
      "text/plain": [
       "'<name>james</name>'"
      ]
     },
     "execution_count": 18,
     "metadata": {},
     "output_type": "execute_result"
    }
   ],
   "source": [
    "re.sub('({\\s*)\"(?P<key>\\w+)\":\\s*\"(?P<value>\\w+)\"(\\s*})', '<\\\\g<key>>\\\\g<value></\\\\g<key>>', '{ \"name\": \"james\" }')"
   ]
  },
  {
   "cell_type": "markdown",
   "id": "abc21a2f",
   "metadata": {},
   "source": [
    "#### 참고 raw 문자열 사용하기 \n",
    "정규표현식의 특수 문자를 판단하려면 \\를 붙여야 한다. <br>여기서 문자열 앞에 r을 붙여주면 원시(raw) 문자열이 되어 \\를 붙이지 않아도 특수 문자를 그대로 판단할 수 있다. \n",
    "\n",
    "따라서 raw 문자열에서는 \\\\숫자, \\\\g<이름>, \\\\g<숫자>는 \\숫자, \\g<이름>, \\g<숫자> 형식처럼 \\를 하나만 붙여서 사용할 수 있다."
   ]
  },
  {
   "cell_type": "markdown",
   "id": "b4333d91",
   "metadata": {},
   "source": [
    "### r'\\숫자 \\g<이름> \\g<숫자>'"
   ]
  },
  {
   "cell_type": "code",
   "execution_count": 19,
   "id": "14116a53",
   "metadata": {
    "ExecuteTime": {
     "end_time": "2021-09-30T12:35:49.767353Z",
     "start_time": "2021-09-30T12:35:49.753507Z"
    }
   },
   "outputs": [
    {
     "data": {
      "text/plain": [
       "'<name>james</name>'"
      ]
     },
     "execution_count": 19,
     "metadata": {},
     "output_type": "execute_result"
    }
   ],
   "source": [
    "re.sub('({\\s*)\"(\\w+)\":\\s*\"(\\w+)\"(\\s*})', r'<\\2>\\3</\\2>', '{ \"name\": \"james\" }')"
   ]
  }
 ],
 "metadata": {
  "hide_input": false,
  "kernelspec": {
   "display_name": "Python 3",
   "language": "python",
   "name": "python3"
  },
  "language_info": {
   "codemirror_mode": {
    "name": "ipython",
    "version": 3
   },
   "file_extension": ".py",
   "mimetype": "text/x-python",
   "name": "python",
   "nbconvert_exporter": "python",
   "pygments_lexer": "ipython3",
   "version": "3.8.8"
  },
  "toc": {
   "base_numbering": 1,
   "nav_menu": {},
   "number_sections": true,
   "sideBar": true,
   "skip_h1_title": false,
   "title_cell": "Table of Contents",
   "title_sidebar": "Contents",
   "toc_cell": false,
   "toc_position": {},
   "toc_section_display": true,
   "toc_window_display": false
  },
  "varInspector": {
   "cols": {
    "lenName": 16,
    "lenType": 16,
    "lenVar": 40
   },
   "kernels_config": {
    "python": {
     "delete_cmd_postfix": "",
     "delete_cmd_prefix": "del ",
     "library": "var_list.py",
     "varRefreshCmd": "print(var_dic_list())"
    },
    "r": {
     "delete_cmd_postfix": ") ",
     "delete_cmd_prefix": "rm(",
     "library": "var_list.r",
     "varRefreshCmd": "cat(var_dic_list()) "
    }
   },
   "types_to_exclude": [
    "module",
    "function",
    "builtin_function_or_method",
    "instance",
    "_Feature"
   ],
   "window_display": false
  }
 },
 "nbformat": 4,
 "nbformat_minor": 5
}
