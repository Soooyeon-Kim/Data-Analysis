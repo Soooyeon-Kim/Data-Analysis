{
 "cells": [
  {
   "cell_type": "code",
   "execution_count": 3,
   "id": "a35277e9",
   "metadata": {
    "ExecuteTime": {
     "end_time": "2021-10-03T06:56:53.808462Z",
     "start_time": "2021-10-03T06:56:53.771438Z"
    },
    "scrolled": true
   },
   "outputs": [
    {
     "name": "stdout",
     "output_type": "stream",
     "text": [
      "Counter({'the': 220, 'and': 145, 'of': 134, 'to': 99, 'in': 80, 'a': 74, 'is': 45, 'this': 44, 'it': 43, 'you': 40, 'that': 38, 'we': 35, 'korea': 34, 'north': 34, 'are': 33, 'korean': 33, '—': 32, 'your': 27, 'have': 27, 'our': 25, 'people': 24, 'on': 24, 'for': 23, 'was': 20, 'not': 20, 'by': 19, 'applause': 19, 'all': 19, 'south': 17, 'regime': 17, 'from': 15, 'more': 15, 'than': 15, 'with': 15, 'will': 15, 'i': 14, 'its': 14, 'nations': 13, 'has': 13, 'their': 13, 'world': 13, 'at': 12, 'what': 12, 'but': 12, 'one': 12, 'united': 11, 'states': 11, 'as': 11, 'be': 11, 'today': 10, 'peninsula': 10, 'an': 10, 'very': 9, 'nation': 9, 'nuclear': 9, 'or': 9, 'every': 9, 'country': 8, 'republic': 8, 'they': 8, 'over': 8, 'times': 8, 'free': 8, 'here': 8, 'great': 7, 'time': 7, 'us': 7, 'between': 7, 'war': 7, 'together': 7, 'so': 7, 'had': 6, 'american': 6, 'city': 6, 'line': 6, 'life': 6, 'going': 6, 'now': 6, 'any': 6, 'can': 6, 'future': 6, 'many': 6, 'citizens': 6, 'day': 6, 'live': 6, 'who': 6, 'only': 6, 'destiny': 6, 'been': 5, 'beautiful': 5, 'through': 5, 'history': 5, 'years': 5, 'year': 5, 'decades': 5, 'them': 5, 'something': 5, 'built': 5, 'peace': 5, 'done': 5, 'even': 5, 'do': 5, 'no': 5, 'forced': 5, 'koreans': 5, 'dictatorship': 5, 'strong': 5, 'dream': 5, 'thank': 4, 'military': 4, 'entire': 4, 'soldiers': 4, 'way': 4, 'freedom': 4, 'were': 4, 'economy': 4, 'two': 4, 'half': 4, 'into': 4, 'total': 4, 'among': 4, 'just': 4, 'like': 4, 'magnificent': 4, 'under': 4, 'right': 4, 'strength': 4, 'far': 4, 'work': 4, 'after': 4, 'when': 4, 'leaders': 4, 'those': 4, 'because': 4, 'about': 4, 'did': 4, 'hope': 4, 'cannot': 4, 'god': 4, 'assembly': 3, 'america': 3, 'trade': 3, 'honor': 3, 'almost': 3, 'ago': 3, 'where': 3, 'took': 3, 'form': 3, 'there': 3, 'died': 3, 'hundreds': 3, 'much': 3, 'seoul': 3, 'family': 3, 'larger': 3, 'my': 3, 'miracle': 3, 'high': 3, 'three': 3, 'other': 3, 'end': 3, 'better': 3, 'which': 3, 'sovereign': 3, 'independent': 3, 'most': 3, 'children': 3, 'wealth': 3, 'spirit': 3, 'around': 3, 'top': 3, '10': 3, 'four': 3, 'help': 3, 'comes': 3, 'state': 3, 'labor': 3, 'pay': 3, 'families': 3, 'yet': 3, 'suffer': 3, 'another': 3, 'kim': 3, 'if': 3, 'why': 3, 'would': 3, 'crime': 3, 'death': 3, 'person': 3, 'does': 3, 'stand': 3, 'come': 3, 'glory': 3, 'own': 3, 'could': 3, 'repeated': 3, 'weapons': 3, 'let': 3, 'never': 3, 'america’s': 3, 'past': 3, 'against': 3, 'danger': 3, 'path': 3, 'speak': 2, 'short': 2, 'wonders': 2, 'last': 2, 'president': 2, 'incredible': 2, 'house': 2, 'celebrate': 2, 'long': 2, 'fought': 2, 'remained': 2, 'forces': 2, 'steep': 2, 'capital': 2, 'next': 2, 'months': 2, 'men': 2, 'bloody': 2, 'holding': 2, 'nearly': 2, 'armistice': 2, '1953': 2, 'americans': 2, '100000': 2, 'also': 2, 'brave': 2, 'severely': 2, 'miraculous': 2, 'happened': 2, 'devastation': 2, 'earth': 2, 'since': 2, 'exactly': 2, 'itself': 2, 'including': 2, 'justice': 2, 'administration': 2, 'being': 2, 'want': 2, 'ever': 2, 'things': 2, 'know': 2, 'become': 2, 'successful': 2, 'proud': 2, 'themselves': 2, 'same': 2, 'first': 2, 'soon': 2, 'won': 2, 'crisis': 2, 'up': 2, 'give': 2, 'promise': 2, 'measured': 2, 'money': 2, 'achievements': 2, 'technology': 2, 'young': 2, 'highest': 2, 'golfers': 2, 'say': 2, 'open': 2, 'congratulations': 2, 'workers': 2, 'fight': 2, 'terrorism': 2, 'few': 2, 'stop': 2, 'flourishing': 2, 'begins': 2, 'else': 2, 'homes': 2, 'fewer': 2, 'million': 2, '1990s': 2, 'continue': 2, 'afflicted': 2, 'estimated': 2, 'living': 2, 'build': 2, 'remains': 2, 'loyalty': 2, 'equal': 2, 'cruel': 2, 'measures': 2, 'score': 2, 'tyrant': 2, 'discarded': 2, 'his': 2, 'torture': 2, 'grandfather': 2, 'praying': 2, 'tortured': 2, 'women': 2, 'babies': 2, 'these': 2, 'born': 2, 'said': 2, 'china': 2, 'complete': 2, 'slaves': 2, 'punishable': 2, 'human': 2, 'experiment': 2, 'koreas': 2, 'control': 2, 'lives': 2, 'civilization': 2, 'tyranny': 2, 'oppression': 2, 'korea’s': 2, '40': 2, 'while': 2, 'you’re': 2, 'doing': 2, 'take': 2, 'brutal': 2, 'subject': 2, 'surveillance': 2, 'place': 2, 'cult': 2, 'dark': 2, 'heart': 2, 'threatens': 2, 'flourish': 2, 'responsibility': 2, 'reality': 2, 'conflict': 2, 'home': 2, 'attacks': 2, 'made': 2, 'attacked': 2, 'ultimately': 2, 'pursued': 2, 'objective': 2, 'allow': 2, 'ballistic': 2, 'programs': 2, 'allies': 2, 'program': 2, 'then': 2, 'worse': 2, 'tested': 2, 'missiles': 2, 'weakness': 2, 'defend': 2, 'security': 2, 'prosperity': 2, 'liberty': 2, 'choose': 2, 'down': 2, 'drawn': 2, 'always': 2, 'seek': 2, 'longer': 2, 'hard': 2, 'message': 2, 'peaceloving': 2, 'must': 2, 'offer': 2, 'shows': 2, 'light': 2, 'prepared': 2, 'victory': 2, 'cousins': 2, 'bless': 2, 'speaker': 1, 'chung': 1, 'distinguished': 1, 'members': 1, 'ladies': 1, 'gentlemen': 1, 'extraordinary': 1, 'privilege': 1, 'chamber': 1, 'address': 1, 'behalf': 1, 'melania': 1, 'awed': 1, 'ancient': 1, 'modern': 1, 'deeply': 1, 'moved': 1, 'warmth': 1, 'welcome': 1, 'night': 1, 'mrs': 1, 'moon': 1, 'showed': 1, 'hospitality': 1, 'reception': 1, 'blue': 1, 'productive': 1, 'discussions': 1, 'increasing': 1, 'cooperation': 1, 'improving': 1, 'relationship': 1, 'principle': 1, 'fairness': 1, 'reciprocity': 1, 'visit': 1, 'both': 1, 'pleasure': 1, 'create': 1, 'friendship': 1, 'alliance': 1, 'forged': 1, 'crucible': 1, 'strengthened': 1, 'trials': 1, 'inchon': 1, 'landings': 1, 'pork': 1, 'chop': 1, 'hill': 1, 'sacrificed': 1, 'triumphed': 1, '67': 1, 'spring': 1, '1951': 1, 'recaptured': 1, 'gathered': 1, 'proudly': 1, 'second': 1, 'combined': 1, 'casualties': 1, 'retake': 1, 'communists': 1, 'weeks': 1, 'soldiered': 1, 'mountains': 1, 'battles': 1, 'driven': 1, 'back': 1, 'willed': 1, 'divides': 1, 'oppressed': 1, 'troops': 1, 'seven': 1, 'signed': 1, '36000': 1, 'others': 1, 'badly': 1, 'wounded': 1, 'heroes': 1, 'remember': 1, 'terrible': 1, 'price': 1, 'paid': 1, 'lost': 1, 'thousands': 1, 'countless': 1, 'innocent': 1, 'civilians': 1, 'gruesome': 1, 'reduced': 1, 'rubble': 1, 'large': 1, 'portions': 1, 'scarred': 1, 'hurt': 1, 'horrible': 1, 'demolished': 1, 'knows': 1, 'generations': 1, 'southern': 1, 'congratulate': 1, 'less': 1, 'lifetime': 1, 'climbed': 1, 'wealthiest': 1, '350': 1, '1960': 1, 'increased': 1, '1900': 1, 'expectancy': 1, 'risen': 1, '53': 1, '82': 1, 'election': 1, 'stock': 1, 'market': 1, 'alltime': 1, 'unemployment': 1, '17year': 1, 'low': 1, 'defeating': 1, 'isis': 1, 'strengthening': 1, 'judiciary': 1, 'brilliant': 1, 'supreme': 1, 'court': 1, 'currently': 1, 'stationed': 1, 'vicinity': 1, 'largest': 1, 'aircraft': 1, 'carriers': 1, 'loaded': 1, 'maximum': 1, 'f35': 1, 'f18': 1, 'fighter': 1, 'jets': 1, 'addition': 1, 'submarines': 1, 'appropriately': 1, 'positioned': 1, 'completely': 1, 'rebuilding': 1, 'spending': 1, 'billions': 1, 'dollars': 1, 'newest': 1, 'finest': 1, 'equipment': 1, 'anywhere': 1, 'helping': 1, 'beyond': 1, 'out': 1, 'anybody': 1, 'understands': 1, 'appreciate': 1, 'tremendously': 1, 'faithful': 1, 'ally': 1, 'truly': 1, 'inspiration': 1, 'economic': 1, 'transformation': 1, 'linked': 1, 'political': 1, 'demanded': 1, 'govern': 1, 'secured': 1, 'parliamentary': 1, 'elections': 1, '1988': 1, 'hosted': 1, 'olympics': 1, 'elected': 1, 'civilian': 1, 'faced': 1, 'financial': 1, 'lined': 1, 'millions': 1, 'prized': 1, 'possessions': 1, 'wedding': 1, 'rings': 1, 'heirlooms': 1, 'gold': 1, '“luck': 1, 'keys”': 1, 'restore': 1, 'mind': 1, 'several': 1, 'scientists': 1, 'engineers': 1, 'engineered': 1, 'you’ve': 1, 'pushed': 1, 'boundaries': 1, 'pioneered': 1, 'medical': 1, 'treatments': 1, 'emerged': 1, 'unlocking': 1, 'mysteries': 1, 'universe': 1, 'authors': 1, 'penned': 1, 'roughly': 1, '40000': 1, 'books': 1, 'musicians': 1, 'fill': 1, 'concert': 1, 'halls': 1, 'students': 1, 'graduate': 1, 'college': 1, 'rates': 1, 'some': 1, 'best': 1, 'fact': 1, 'i’m': 1, 'women’s': 1, 'held': 1, 'trump': 1, 'national': 1, 'golf': 1, 'club': 1, 'bedminster': 1, 'new': 1, 'jersey': 1, 'golfer': 1, 'sunghyun': 1, 'park': 1, 'eighth': 1, 'players': 1, 'that’s': 1, 'really': 1, 'architectural': 1, 'sixtythree': 1, 'building': 1, 'lotte': 1, 'tower': 1, 'grace': 1, 'sky': 1, 'growing': 1, 'industries': 1, 'feed': 1, 'hungry': 1, 'solve': 1, 'problems': 1, 'host': 1, 'job': 1, '23rd': 1, 'olympic': 1, 'winter': 1, 'games': 1, 'good': 1, 'luck': 1, 'extends': 1, 'armies': 1, 'advanced': 1, '24': 1, 'miles': 1, 'stops': 1, 'dead': 1, 'ends': 1, 'prison': 1, 'sadly': 1, 'grueling': 1, 'hours': 1, 'unbearable': 1, 'conditions': 1, 'recently': 1, 'working': 1, 'population': 1, 'ordered': 1, '70': 1, 'days': 1, 'straight': 1, 'rest': 1, 'without': 1, 'plumbing': 1, 'electricity': 1, 'parents': 1, 'bribe': 1, 'teachers': 1, 'hopes': 1, 'saving': 1, 'sons': 1, 'daughters': 1, 'famine': 1, 'die': 1, 'hunger': 1, 'age': 1, 'five': 1, '30': 1, 'percent': 1, 'stunted': 1, 'growth': 1, 'due': 1, 'malnutrition': 1, '2012': 1, '2013': 1, 'spent': 1, '200': 1, 'allocated': 1, 'improve': 1, 'standards': 1, 'instead': 1, 'monuments': 1, 'towers': 1, 'statues': 1, 'glorify': 1, 'dictators': 1, 'meager': 1, 'harvest': 1, 'distributed': 1, 'according': 1, 'perceived': 1, 'twisted': 1, 'valuing': 1, 'scores': 1, 'ranks': 1, 'based': 1, 'arbitrary': 1, 'indications': 1, 'allegiance': 1, 'may': 1, 'lowest': 1, 'starve': 1, 'small': 1, 'infraction': 1, 'citizen': 1, 'such': 1, 'accidently': 1, 'staining': 1, 'picture': 1, 'printed': 1, 'newspaper': 1, 'wreck': 1, 'social': 1, 'credit': 1, 'rank': 1, 'gulags': 1, 'toiling': 1, 'enduring': 1, 'starvation': 1, 'rape': 1, 'murder': 1, 'constant': 1, 'basis': 1, 'known': 1, 'instance': 1, '9yearold': 1, 'boy': 1, 'imprisoned': 1, 'accused': 1, 'treason': 1, 'student': 1, 'beaten': 1, 'school': 1, 'forgetting': 1, 'single': 1, 'detail': 1, 'jongun': 1, 'kidnapped': 1, 'foreigners': 1, 'language': 1, 'tutors': 1, 'spies': 1, 'part': 1, 'stronghold': 1, 'christianity': 1, 'before': 1, 'christians': 1, 'faith': 1, 'found': 1, 'religious': 1, 'book': 1, 'kind': 1, 'detained': 1, 'cases': 1, 'executed': 1, 'abort': 1, 'considered': 1, 'ethnically': 1, 'inferior': 1, 'newborns': 1, 'murdered': 1, 'woman’s': 1, 'baby': 1, 'chinese': 1, 'father': 1, 'taken': 1, 'away': 1, 'bucket': 1, 'guards': 1, '“deserve': 1, 'impure”': 1, 'feel': 1, 'obligation': 1, 'horror': 1, 'bribes': 1, 'government': 1, 'officials': 1, 'exported': 1, 'aboard': 1, 'rather': 1, 'attempt': 1, 'flee': 1, 'escaped': 1, 'remarked': 1, '“when': 1, 'think': 1, 'animal': 1, 'leaving': 1, 'realize': 1, 'supposed': 1, 'be”': 1, 'watched': 1, 'results': 1, 'tragic': 1, 'laboratory': 1, 'tale': 1, 'chose': 1, 'achievement': 1, 'imprison': 1, 'banner': 1, 'fascism': 1, 'result': 1, 'totally': 1, 'conclusive': 1, 'began': 1, '1950': 1, 'approximately': 1, 'gdp': 1, 'per': 1, 'capita': 1, 'surpassed': 1, 'south’s': 1, 'started': 1, 'considering': 1, 'misery': 1, 'wrought': 1, 'surprise': 1, 'increasingly': 1, 'desperate': 1, 'prevent': 1, 'understanding': 1, 'contrast': 1, 'fears': 1, 'truth': 1, 'above': 1, 'forbids': 1, 'virtually': 1, 'contact': 1, 'outside': 1, 'speech': 1, 'commonplace': 1, 'facts': 1, 'forbidden': 1, 'knowledge': 1, 'western': 1, 'music': 1, 'banned': 1, 'possession': 1, 'foreign': 1, 'media': 1, 'spy': 1, 'fellow': 1, 'search': 1, 'action': 1, 'vibrant': 1, 'society': 1, 'bombarded': 1, 'propaganda': 1, 'practically': 1, 'waking': 1, 'hour': 1, 'ruled': 1, 'center': 1, 'deranged': 1, 'belief': 1, 'leader’s': 1, 'rule': 1, 'parent': 1, 'protector': 1, 'conquered': 1, 'enslaved': 1, 'becomes': 1, 'decisively': 1, 'discredit': 1, 'fantasy': 1, 'existence': 1, 'thriving': 1, 'survival': 1, 'proof': 1, 'false': 1, 'true': 1, 'powerful': 1, 'worship': 1, 'love': 1, 'grow': 1, 'dictator': 1, 'yourselves': 1, 'ownership': 1, 'performed': 1, 'hahn': 1, 'see': 1, 'stunning': 1, 'skyline': 1, 'plains': 1, 'peaks': 1, 'landscape': 1, 'freely': 1, 'happily': 1, 'wonderful': 1, 'success': 1, 'greatest': 1, 'cause': 1, 'anxiety': 1, 'alarm': 1, 'panic': 1, 'seeks': 1, 'abroad': 1, 'distract': 1, 'failure': 1, 'socalled': 1, 'included': 1, 'capture': 1, 'uss': 1, 'pueblo': 1, 'assaults': 1, 'helicopters': 1, '1969': 1, 'drowning': 1, 'downing': 1, 'plane': 1, 'killed': 1, '31': 1, 'servicemen': 1, 'numerous': 1, 'lethal': 1, 'incursions': 1, 'attempted': 1, 'assassinate': 1, 'senior': 1, 'ships': 1, 'otto': 1, 'warmbier': 1, 'leading': 1, 'fine': 1, 'man’s': 1, 'deluded': 1, 'blackmail': 1, 'ultimate': 1, 'spell': 1, 'divided': 1, 'what’s': 1, 'happen': 1, 'missile': 1, 'defiance': 1, 'assurance': 1, 'agreement': 1, 'commitment': 1, 'it’s': 1, 'broken': 1, 'commitments': 1, 'promising': 1, 'freeze': 1, 'plutonium': 1, '1994': 1, 'reaped': 1, 'benefits': 1, 'deal': 1, 'immediately': 1, 'continued': 1, 'illicit': 1, 'activities': 1, '2005': 1, 'diplomacy': 1, 'agreed': 1, 'abandon': 1, 'return': 1, 'treaty': 1, 'nonproliferation': 1, '2009': 1, 'gave': 1, 'negotiations': 1, 'chance': 1, 'offered': 1, 'hand': 1, 'engagement': 1, 'responded': 1, 'sinking': 1, 'navy': 1, 'ship': 1, 'killing': 1, '46': 1, 'sailors': 1, 'continues': 1, 'launch': 1, 'territory': 1, 'japan': 1, 'neighbors': 1, 'test': 1, 'devices': 1, 'develop': 1, 'icbms': 1, 'threaten': 1, 'interpreted': 1, 'restraint': 1, 'fatal': 1, 'miscalculation': 1, 'different': 1, 'countries': 1, 'civilized': 1, 'underestimate': 1, 'try': 1, 'common': 1, 'shared': 1, 'sacred': 1, 'draw': 1, 'thin': 1, 'runs': 1, 'decency': 1, 'depravity': 1, 'law': 1, 'despair': 1, 'places': 1, 'throughout': 1, 'hold': 1, 'choice': 1, 'make': 1, 'learned': 1, 'cost': 1, 'stakes': 1, 'defense': 1, 'uniform': 1, 'given': 1, 'nazism': 1, 'imperialism': 1, 'communism': 1, 'confrontation': 1, 'run': 1, 'filled': 1, 'regimes': 1, 'foolishly': 1, 'resolve': 1, 'anyone': 1, 'doubts': 1, 'determination': 1, 'should': 1, 'look': 1, 'doubt': 1, 'permit': 1, 'blackmailed': 1, 'cities': 1, 'threatened': 1, 'destruction': 1, 'intimidated': 1, 'worst': 1, 'atrocities': 1, 'ground': 1, 'secure': 1, 'excuses': 1, 'tolerate': 1, 'menace': 1, 'rogue': 1, 'responsible': 1, 'join': 1, 'isolate': 1, 'deny': 1, 'support': 1, 'supply': 1, 'accept': 1, 'call': 1, 'russia': 1, 'fully': 1, 'implement': 1, 'un': 1, 'council': 1, 'resolutions': 1, 'downgrade': 1, 'diplomatic': 1, 'relations': 1, 'sever': 1, 'ties': 1, 'duty': 1, 'confront': 1, 'wait': 1, 'greater': 1, 'grows': 1, 'options': 1, 'ignore': 1, 'threat': 1, 'still': 1, 'enable': 1, 'weight': 1, 'conscience': 1, 'deliver': 1, 'directly': 1, 'leader': 1, 'acquiring': 1, 'making': 1, 'safer': 1, 'putting': 1, 'grave': 1, 'step': 1, 'increases': 1, 'peril': 1, 'face': 1, 'paradise': 1, 'envisioned': 1, 'hell': 1, 'deserves': 1, 'despite': 1, 'committed': 1, 'man': 1, 'ready': 1, 'aggression': 1, 'development': 1, 'verifiable': 1, 'denuclearization': 1, 'skytop': 1, 'view': 1, 'dazzling': 1, 'mass': 1, 'impenetrable': 1, 'darkness': 1, 'discuss': 1, 'brighter': 1, 'cease': 1, 'threats': 1, 'dismantle': 1, 'sinister': 1, 'thing': 1, 'glorious': 1, 'wrong': 1, 'looks': 1, 'bondage': 1, 'thrive': 1, 'achieved': 1, 'believes': 1, 'someday': 1, 'brothers': 1, 'sisters': 1, 'able': 1, 'enjoy': 1, 'fullest': 1, 'intended': 1, 'possible': 1, 'courage': 1, 'talents': 1, 'turned': 1, 'wartorn': 1, 'land': 1, 'blessed': 1, 'rich': 1, 'culture': 1, 'deep': 1, 'shine': 1, 'happy': 1, 'stands': 1, 'tall': 1, 'community': 1, 'confident': 1, 'respect': 1, 'cherish': 1, 'treasure': 1, 'sovereignty': 1, 'affirm': 1, 'dignity': 1, 'embrace': 1, 'full': 1, 'potential': 1, 'soul': 1, 'vital': 1, 'interests': 1, 'ambition': 1, 'tyrants': 1, 'safe': 1, 'reunited': 1, 'once': 1, 'again': 1, 'highways': 1, 'connecting': 1, 'embracing': 1, 'nightmare': 1, 'replaced': 1, 'until': 1, 'alert': 1, 'eyes': 1, 'fixed': 1, 'hearts': 1})\n"
     ]
    }
   ],
   "source": [
    "from collections import Counter\n",
    "from string import punctuation\n",
    "from text import data \n",
    "\n",
    "def count_word_freq(data) :\n",
    "    _data = data.lower()\n",
    "    \n",
    "    for p in punctuation:\n",
    "        _data = _data.replace(p, '')\n",
    "        \n",
    "    _data = _data.split()\n",
    "    \n",
    "    counter = Counter(_data)\n",
    "    print(counter)\n",
    "    return counter\n",
    "\n",
    "if __name__ == \"__main__\" :\n",
    "    count_word_freq(data)"
   ]
  }
 ],
 "metadata": {
  "hide_input": false,
  "kernelspec": {
   "display_name": "Python 3",
   "language": "python",
   "name": "python3"
  },
  "language_info": {
   "codemirror_mode": {
    "name": "ipython",
    "version": 3
   },
   "file_extension": ".py",
   "mimetype": "text/x-python",
   "name": "python",
   "nbconvert_exporter": "python",
   "pygments_lexer": "ipython3",
   "version": "3.8.8"
  },
  "toc": {
   "base_numbering": 1,
   "nav_menu": {},
   "number_sections": true,
   "sideBar": true,
   "skip_h1_title": false,
   "title_cell": "Table of Contents",
   "title_sidebar": "Contents",
   "toc_cell": false,
   "toc_position": {},
   "toc_section_display": true,
   "toc_window_display": false
  },
  "varInspector": {
   "cols": {
    "lenName": 16,
    "lenType": 16,
    "lenVar": 40
   },
   "kernels_config": {
    "python": {
     "delete_cmd_postfix": "",
     "delete_cmd_prefix": "del ",
     "library": "var_list.py",
     "varRefreshCmd": "print(var_dic_list())"
    },
    "r": {
     "delete_cmd_postfix": ") ",
     "delete_cmd_prefix": "rm(",
     "library": "var_list.r",
     "varRefreshCmd": "cat(var_dic_list()) "
    }
   },
   "types_to_exclude": [
    "module",
    "function",
    "builtin_function_or_method",
    "instance",
    "_Feature"
   ],
   "window_display": false
  }
 },
 "nbformat": 4,
 "nbformat_minor": 5
}
