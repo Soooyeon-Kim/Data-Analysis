{
 "cells": [
  {
   "cell_type": "markdown",
   "id": "9193a3f8",
   "metadata": {
    "ExecuteTime": {
     "end_time": "2021-09-08T18:31:04.746523Z",
     "start_time": "2021-09-08T18:31:04.733558Z"
    }
   },
   "source": [
    "## File open & with as"
   ]
  },
  {
   "cell_type": "code",
   "execution_count": 1,
   "id": "408cd526",
   "metadata": {
    "ExecuteTime": {
     "end_time": "2021-09-08T18:27:52.956286Z",
     "start_time": "2021-09-08T18:27:52.920868Z"
    },
    "scrolled": false
   },
   "outputs": [
    {
     "name": "stdout",
     "output_type": "stream",
     "text": [
      "1 zoo,768\n",
      "\n",
      "2 zones,1168\n",
      "\n",
      "3 zone,2553\n",
      "\n",
      "4 zimbabwe,658\n",
      "\n",
      "5 zero,2286\n",
      "\n",
      "6 zealand,2636\n",
      "\n",
      "7 zambia,732\n",
      "\n",
      "8 yugoslavia,1400\n",
      "\n",
      "9 youths,914\n",
      "\n",
      "10 youth,5415\n",
      "\n",
      "11 yourself,10746\n",
      "\n",
      "12 yours,4241\n",
      "\n",
      "13 your,138337\n",
      "\n",
      "14 youngsters,1749\n",
      "\n",
      "15 youngest,1204\n",
      "\n",
      "16 younger,5403\n",
      "\n",
      "17 young,33611\n",
      "\n",
      "18 you,695595\n",
      "\n",
      "19 yorkshire,4393\n",
      "\n",
      "20 york,9906\n",
      "\n",
      "21 yo,1206\n",
      "\n",
      "22 yields,940\n",
      "\n",
      "23 yield,2113\n",
      "\n",
      "24 yet,33752\n",
      "\n",
      "25 yesterday,19507\n",
      "\n",
      "26 yes,60612\n",
      "\n",
      "27 yer,1509\n",
      "\n",
      "28 yep,1317\n",
      "\n",
      "29 yeltsin,1192\n",
      "\n",
      "30 yellow,4557\n",
      "\n",
      "31 yelled,754\n",
      "\n",
      "32 years,90224\n",
      "\n",
      "33 year,73778\n",
      "\n",
      "34 yeah,83382\n",
      "\n",
      "35 ye,1700\n",
      "\n",
      "36 yarn,877\n",
      "\n",
      "37 yards,3678\n",
      "\n",
      "38 yard,3267\n",
      "\n",
      "39 yacht,1033\n",
      "\n",
      "40 ya,1753\n",
      "\n",
      "41 wycliffe,716\n",
      "\n",
      "42 wrote,9909\n",
      "\n",
      "43 wrong,16080\n",
      "\n",
      "44 written,13675\n",
      "\n",
      "45 writings,1063\n",
      "\n",
      "46 writing,11582\n",
      "\n",
      "47 writes,2607\n",
      "\n",
      "48 writers,3581\n",
      "\n",
      "49 writer,3742\n",
      "\n",
      "50 write,10882\n",
      "\n",
      "51 wrist,1056\n",
      "\n",
      "52 wright,1972\n",
      "\n",
      "53 wrapped,1723\n",
      "\n",
      "54 wounds,1025\n",
      "\n",
      "55 wounded,1692\n",
      "\n",
      "56 wound,2161\n",
      "\n",
      "57 would,255198\n",
      "\n",
      "58 worthy,1403\n",
      "\n",
      "59 worthwhile,1484\n",
      "\n",
      "60 worth,12375\n",
      "\n",
      "61 worst,4817\n",
      "\n",
      "62 worship,1625\n",
      "\n",
      "63 worse,7237\n",
      "\n",
      "64 worrying,1473\n",
      "\n",
      "65 worry,5585\n",
      "\n",
      "66 worries,1308\n",
      "\n",
      "67 worried,4594\n",
      "\n",
      "68 worn,2099\n",
      "\n",
      "69 worms,678\n",
      "\n",
      "70 worldwide,2211\n",
      "\n",
      "71 worlds,1068\n",
      "\n",
      "72 world,59031\n",
      "\n",
      "73 workstations,809\n",
      "\n",
      "74 workstation,742\n",
      "\n",
      "75 workshops,1405\n",
      "\n",
      "76 workshop,1814\n",
      "\n",
      "77 works,14528\n",
      "\n",
      "78 workplace,846\n",
      "\n",
      "79 workings,733\n",
      "\n",
      "80 working-class,1900\n",
      "\n",
      "81 working,29252\n",
      "\n",
      "82 workforce,1530\n",
      "\n",
      "83 workers,14724\n",
      "\n",
      "84 worker,3635\n",
      "\n",
      "85 worked,12748\n",
      "\n",
      "86 work,91354\n",
      "\n",
      "87 wore,3011\n",
      "\n",
      "88 wordsworth,905\n",
      "\n",
      "89 words,24444\n",
      "\n",
      "90 wording,822\n",
      "\n",
      "91 word,19379\n",
      "\n",
      "92 worcester,737\n",
      "\n",
      "93 wool,1783\n",
      "\n",
      "94 woods,2135\n",
      "\n",
      "95 woodland,1025\n",
      "\n",
      "96 wooden,3547\n"
     ]
    }
   ],
   "source": [
    "filename = 'corpus.txt'\n",
    "\n",
    "def print_lines(filename):\n",
    "    \n",
    "    with open('corpus.txt') as file:\n",
    "    \n",
    "        line_number = 1\n",
    "        for line in file:\n",
    "            print(str(line_number) + \" \" + line)\n",
    "            \n",
    "            line_number += 1\n",
    "            \n",
    "\n",
    "\n",
    "print_lines(filename)"
   ]
  },
  {
   "cell_type": "markdown",
   "id": "020f9972",
   "metadata": {},
   "source": [
    "## 데이터 형태 변환 : 튜플(tuple)"
   ]
  },
  {
   "cell_type": "markdown",
   "id": "020086bc",
   "metadata": {},
   "source": [
    "(단어, 빈도수) 튜플로 구성된 리스트를 리턴"
   ]
  },
  {
   "cell_type": "code",
   "execution_count": 2,
   "id": "8e2796b6",
   "metadata": {
    "ExecuteTime": {
     "end_time": "2021-09-08T18:28:42.845269Z",
     "start_time": "2021-09-08T18:28:42.831305Z"
    }
   },
   "outputs": [
    {
     "name": "stdout",
     "output_type": "stream",
     "text": [
      "[('zoo', '768'), ('zones', '1168'), ('zone', '2553'), ('zimbabwe', '658'), ('zero', '2286'), ('zealand', '2636'), ('zambia', '732'), ('yugoslavia', '1400'), ('youths', '914'), ('youth', '5415'), ('yourself', '10746'), ('yours', '4241'), ('your', '138337'), ('youngsters', '1749'), ('youngest', '1204'), ('younger', '5403'), ('young', '33611'), ('you', '695595'), ('yorkshire', '4393'), ('york', '9906'), ('yo', '1206'), ('yields', '940'), ('yield', '2113'), ('yet', '33752'), ('yesterday', '19507'), ('yes', '60612'), ('yer', '1509'), ('yep', '1317'), ('yeltsin', '1192'), ('yellow', '4557'), ('yelled', '754'), ('years', '90224'), ('year', '73778'), ('yeah', '83382'), ('ye', '1700'), ('yarn', '877'), ('yards', '3678'), ('yard', '3267'), ('yacht', '1033'), ('ya', '1753'), ('wycliffe', '716'), ('wrote', '9909'), ('wrong', '16080'), ('written', '13675'), ('writings', '1063'), ('writing', '11582'), ('writes', '2607'), ('writers', '3581'), ('writer', '3742'), ('write', '10882'), ('wrist', '1056'), ('wright', '1972'), ('wrapped', '1723'), ('wounds', '1025'), ('wounded', '1692'), ('wound', '2161'), ('would', '255198'), ('worthy', '1403'), ('worthwhile', '1484'), ('worth', '12375'), ('worst', '4817'), ('worship', '1625'), ('worse', '7237'), ('worrying', '1473'), ('worry', '5585'), ('worries', '1308'), ('worried', '4594'), ('worn', '2099'), ('worms', '678'), ('worldwide', '2211'), ('worlds', '1068'), ('world', '59031'), ('workstations', '809'), ('workstation', '742'), ('workshops', '1405'), ('workshop', '1814'), ('works', '14528'), ('workplace', '846'), ('workings', '733'), ('working-class', '1900'), ('working', '29252'), ('workforce', '1530'), ('workers', '14724'), ('worker', '3635'), ('worked', '12748'), ('work', '91354'), ('wore', '3011'), ('wordsworth', '905'), ('words', '24444'), ('wording', '822'), ('word', '19379'), ('worcester', '737'), ('wool', '1783'), ('woods', '2135'), ('woodland', '1025'), ('wooden', '3547')]\n"
     ]
    }
   ],
   "source": [
    "filename = 'corpus.txt'\n",
    "\n",
    "def import_as_tuple(filename):\n",
    "    tuples = []\n",
    "    with open(filename) as file:\n",
    "        for line in file:\n",
    "            split= line.strip().split(',')\n",
    "            word= split[0]\n",
    "            freq = split[1]\n",
    "            new_tuple = (word, freq)\n",
    "            tuples.append(new_tuple)\n",
    "\n",
    "            \n",
    "    return tuples\n",
    "\n",
    "\n",
    "print(import_as_tuple(filename))"
   ]
  },
  {
   "cell_type": "markdown",
   "id": "555f55ea",
   "metadata": {
    "ExecuteTime": {
     "end_time": "2021-09-08T18:38:40.591772Z",
     "start_time": "2021-09-08T18:38:40.578807Z"
    }
   },
   "source": [
    "## List Comprehension"
   ]
  },
  {
   "cell_type": "code",
   "execution_count": 4,
   "id": "9ed302da",
   "metadata": {
    "ExecuteTime": {
     "end_time": "2021-09-08T18:32:09.811474Z",
     "start_time": "2021-09-08T18:32:09.801457Z"
    }
   },
   "outputs": [],
   "source": [
    "# 단어 모음 선언\n",
    "words = [\n",
    "    'apple',\n",
    "    'banana',\n",
    "    'alpha',\n",
    "    'bravo',\n",
    "    'cherry',\n",
    "    'charlie',\n",
    "]"
   ]
  },
  {
   "cell_type": "code",
   "execution_count": 5,
   "id": "d59bb396",
   "metadata": {
    "ExecuteTime": {
     "end_time": "2021-09-08T18:32:14.769810Z",
     "start_time": "2021-09-08T18:32:14.751114Z"
    }
   },
   "outputs": [
    {
     "name": "stdout",
     "output_type": "stream",
     "text": [
      "['apple', 'alpha']\n"
     ]
    }
   ],
   "source": [
    "def filter_by_prefix(words, prefix):\n",
    "\n",
    "    a_words = []\n",
    "    for word in words:\n",
    "        if word.startswith(prefix):\n",
    "            a_words.append(word)\n",
    "    return a_words\n",
    "    \n",
    "def filter_by_prefix(words, prefix):\n",
    "    return [word for word in words if word.startswith(prefix)]\n",
    "\n",
    " \n",
    "a_words = filter_by_prefix(words, 'a')\n",
    "print(a_words)"
   ]
  },
  {
   "cell_type": "markdown",
   "id": "246a7330",
   "metadata": {
    "ExecuteTime": {
     "end_time": "2021-09-08T18:33:12.667621Z",
     "start_time": "2021-09-08T18:33:12.663527Z"
    }
   },
   "source": [
    "### for"
   ]
  },
  {
   "cell_type": "code",
   "execution_count": 7,
   "id": "3807de95",
   "metadata": {
    "ExecuteTime": {
     "end_time": "2021-09-08T18:33:58.494163Z",
     "start_time": "2021-09-08T18:33:58.464239Z"
    }
   },
   "outputs": [
    {
     "data": {
      "text/plain": [
       "[2, 3, 4]"
      ]
     },
     "execution_count": 7,
     "metadata": {},
     "output_type": "execute_result"
    }
   ],
   "source": [
    "# 1\n",
    "nums = [1, 2, 3]\n",
    "new_nums = []\n",
    "for n in nums:\n",
    "    new_nums.append(n + 1)\n",
    "\n",
    "new_nums"
   ]
  },
  {
   "cell_type": "code",
   "execution_count": 8,
   "id": "33571e50",
   "metadata": {
    "ExecuteTime": {
     "end_time": "2021-09-08T18:34:30.472038Z",
     "start_time": "2021-09-08T18:34:30.454567Z"
    },
    "scrolled": true
   },
   "outputs": [
    {
     "data": {
      "text/plain": [
       "[2, 3, 4]"
      ]
     },
     "execution_count": 8,
     "metadata": {},
     "output_type": "execute_result"
    }
   ],
   "source": [
    "# 2\n",
    "nums = [1, 2, 3]\n",
    "new_nums = [n + 1 for n in nums]\n",
    "\n",
    "new_nums"
   ]
  },
  {
   "cell_type": "code",
   "execution_count": 10,
   "id": "5359e0b5",
   "metadata": {
    "ExecuteTime": {
     "end_time": "2021-09-08T18:35:10.086787Z",
     "start_time": "2021-09-08T18:35:10.072822Z"
    }
   },
   "outputs": [
    {
     "data": {
      "text/plain": [
       "[2, 4]"
      ]
     },
     "execution_count": 10,
     "metadata": {},
     "output_type": "execute_result"
    }
   ],
   "source": [
    "# 3\n",
    "nums = [1, 2, 3, 4]\n",
    "even_nums = [n for n in nums if n % 2 == 0]\n",
    "even_nums"
   ]
  },
  {
   "cell_type": "markdown",
   "id": "18968353",
   "metadata": {},
   "source": [
    "## sort"
   ]
  },
  {
   "cell_type": "code",
   "execution_count": 12,
   "id": "d77eabf4",
   "metadata": {
    "ExecuteTime": {
     "end_time": "2021-09-08T18:39:50.073813Z",
     "start_time": "2021-09-08T18:39:50.066254Z"
    }
   },
   "outputs": [],
   "source": [
    "pairs = [\n",
    "    ('time', 8),\n",
    "    ('the', 15),\n",
    "    ('turbo', 1),\n",
    "]"
   ]
  },
  {
   "cell_type": "code",
   "execution_count": 13,
   "id": "35162641",
   "metadata": {
    "ExecuteTime": {
     "end_time": "2021-09-08T18:40:37.317296Z",
     "start_time": "2021-09-08T18:40:37.292392Z"
    }
   },
   "outputs": [
    {
     "name": "stdout",
     "output_type": "stream",
     "text": [
      "[('turbo', 1), ('time', 8), ('the', 15)]\n"
     ]
    }
   ],
   "source": [
    "# (단어, 빈도수)로 이루어진 튜플을 받아, 빈도수를 리턴\n",
    "def get_freq(pair):\n",
    "        return pair[1]\n",
    "\n",
    "# 빈도수가 낮은 순서대로 정렬하여 리턴\n",
    "def sort_by_frequency(pairs):\n",
    "    return sorted(pairs, key=get_freq)\n",
    "  \n",
    "print(sort_by_frequency(pairs))"
   ]
  },
  {
   "cell_type": "markdown",
   "id": "052d70d5",
   "metadata": {
    "ExecuteTime": {
     "end_time": "2021-09-08T18:41:23.769848Z",
     "start_time": "2021-09-08T18:41:23.765888Z"
    }
   },
   "source": [
    "### abs\n",
    "* 함수는 절댓값을 리턴하는 파이썬 내장 함수"
   ]
  },
  {
   "cell_type": "code",
   "execution_count": 15,
   "id": "b386c07e",
   "metadata": {
    "ExecuteTime": {
     "end_time": "2021-09-08T18:42:14.219232Z",
     "start_time": "2021-09-08T18:42:14.203276Z"
    }
   },
   "outputs": [
    {
     "data": {
      "text/plain": [
       "[1, -3, -4]"
      ]
     },
     "execution_count": 15,
     "metadata": {},
     "output_type": "execute_result"
    }
   ],
   "source": [
    "new_nums = sorted([-4, 1, -3], key=abs)\n",
    "new_nums"
   ]
  },
  {
   "cell_type": "code",
   "execution_count": 16,
   "id": "2d9d57d6",
   "metadata": {
    "ExecuteTime": {
     "end_time": "2021-09-08T18:44:58.557496Z",
     "start_time": "2021-09-08T18:44:57.259453Z"
    }
   },
   "outputs": [
    {
     "name": "stdout",
     "output_type": "stream",
     "text": [
      "막대 차트를 출력합니다.\n"
     ]
    },
    {
     "data": {
      "image/png": "[encoded data removed]",
      "text/plain": [
       "<Figure size 432x288 with 1 Axes>"
      ]
     },
     "metadata": {
      "needs_background": "light"
     },
     "output_type": "display_data"
    }
   ],
   "source": [
    "import matplotlib.pyplot as plt\n",
    "\n",
    "\n",
    "# 월별 평균 기온\n",
    "years = [2013, 2014, 2015, 2016, 2017]\n",
    "temperatures = [5, 10, 15, 20, 17]\n",
    "\n",
    "#막대 차트를 출력합니다.   \n",
    "def draw_graph():\n",
    "    # 막대 그래프의 막대 위치를 결정하는 pos를 선언\n",
    "    pos = range(len(years))  # [0, 1, 2, 3, 4]\n",
    "    \n",
    "    # 높이가 온도인 막대 그래프\n",
    "    # 각 막대를 가운데 정렬\n",
    "    plt.bar(pos, temperatures, align='center')\n",
    "    \n",
    "    # 각 막대에 해당되는 연도 표기\n",
    "    plt.xticks(pos, years)\n",
    "\n",
    "    plt.savefig('graph.png')\n",
    "\n",
    "\n",
    "print('막대 차트를 출력합니다.')\n",
    "draw_graph()"
   ]
  }
 ],
 "metadata": {
  "hide_input": false,
  "kernelspec": {
   "display_name": "Python 3",
   "language": "python",
   "name": "python3"
  },
  "language_info": {
   "codemirror_mode": {
    "name": "ipython",
    "version": 3
   },
   "file_extension": ".py",
   "mimetype": "text/x-python",
   "name": "python",
   "nbconvert_exporter": "python",
   "pygments_lexer": "ipython3",
   "version": "3.8.8"
  },
  "toc": {
   "base_numbering": 1,
   "nav_menu": {},
   "number_sections": true,
   "sideBar": true,
   "skip_h1_title": false,
   "title_cell": "Table of Contents",
   "title_sidebar": "Contents",
   "toc_cell": false,
   "toc_position": {},
   "toc_section_display": true,
   "toc_window_display": false
  },
  "varInspector": {
   "cols": {
    "lenName": 16,
    "lenType": 16,
    "lenVar": 40
   },
   "kernels_config": {
    "python": {
     "delete_cmd_postfix": "",
     "delete_cmd_prefix": "del ",
     "library": "var_list.py",
     "varRefreshCmd": "print(var_dic_list())"
    },
    "r": {
     "delete_cmd_postfix": ") ",
     "delete_cmd_prefix": "rm(",
     "library": "var_list.r",
     "varRefreshCmd": "cat(var_dic_list()) "
    }
   },
   "types_to_exclude": [
    "module",
    "function",
    "builtin_function_or_method",
    "instance",
    "_Feature"
   ],
   "window_display": false
  }
 },
 "nbformat": 4,
 "nbformat_minor": 5
}
