{
 "cells": [
  {
   "cell_type": "code",
   "execution_count": 1,
   "id": "b0ee7abd",
   "metadata": {
    "ExecuteTime": {
     "end_time": "2021-09-09T04:04:32.361083Z",
     "start_time": "2021-09-09T04:04:31.748724Z"
    }
   },
   "outputs": [],
   "source": [
    "import pandas as pd\n",
    "import numpy as np"
   ]
  },
  {
   "cell_type": "markdown",
   "id": "675cb60b",
   "metadata": {},
   "source": [
    "## 파일 불러오기"
   ]
  },
  {
   "cell_type": "code",
   "execution_count": 2,
   "id": "259be8fc",
   "metadata": {
    "ExecuteTime": {
     "end_time": "2021-09-09T04:04:43.670229Z",
     "start_time": "2021-09-09T04:04:43.654274Z"
    }
   },
   "outputs": [],
   "source": [
    "test_data = pd.read_csv('./testfile.csv')"
   ]
  },
  {
   "cell_type": "markdown",
   "id": "77c9f337",
   "metadata": {
    "ExecuteTime": {
     "end_time": "2021-09-09T04:07:50.658854Z",
     "start_time": "2021-09-09T04:07:50.645890Z"
    }
   },
   "source": [
    "## 구조 확인하기"
   ]
  },
  {
   "cell_type": "code",
   "execution_count": 3,
   "id": "0efdc7cf",
   "metadata": {
    "ExecuteTime": {
     "end_time": "2021-09-09T04:04:49.978098Z",
     "start_time": "2021-09-09T04:04:49.945304Z"
    }
   },
   "outputs": [
    {
     "data": {
      "text/plain": [
       "(26, 5)"
      ]
     },
     "execution_count": 3,
     "metadata": {},
     "output_type": "execute_result"
    }
   ],
   "source": [
    "test_data.shape"
   ]
  },
  {
   "cell_type": "code",
   "execution_count": 4,
   "id": "7112a096",
   "metadata": {
    "ExecuteTime": {
     "end_time": "2021-09-09T04:04:58.050578Z",
     "start_time": "2021-09-09T04:04:58.020067Z"
    }
   },
   "outputs": [
    {
     "data": {
      "text/html": [
       "<div>\n",
       "<style scoped>\n",
       "    .dataframe tbody tr th:only-of-type {\n",
       "        vertical-align: middle;\n",
       "    }\n",
       "\n",
       "    .dataframe tbody tr th {\n",
       "        vertical-align: top;\n",
       "    }\n",
       "\n",
       "    .dataframe thead th {\n",
       "        text-align: right;\n",
       "    }\n",
       "</style>\n",
       "<table border=\"1\" class=\"dataframe\">\n",
       "  <thead>\n",
       "    <tr style=\"text-align: right;\">\n",
       "      <th></th>\n",
       "      <th>name</th>\n",
       "      <th>class</th>\n",
       "      <th>math</th>\n",
       "      <th>english</th>\n",
       "      <th>korean</th>\n",
       "    </tr>\n",
       "  </thead>\n",
       "  <tbody>\n",
       "    <tr>\n",
       "      <th>0</th>\n",
       "      <td>A</td>\n",
       "      <td>1</td>\n",
       "      <td>96</td>\n",
       "      <td>90</td>\n",
       "      <td>95</td>\n",
       "    </tr>\n",
       "    <tr>\n",
       "      <th>1</th>\n",
       "      <td>B</td>\n",
       "      <td>1</td>\n",
       "      <td>95</td>\n",
       "      <td>66</td>\n",
       "      <td>71</td>\n",
       "    </tr>\n",
       "    <tr>\n",
       "      <th>2</th>\n",
       "      <td>C</td>\n",
       "      <td>2</td>\n",
       "      <td>91</td>\n",
       "      <td>89</td>\n",
       "      <td>92</td>\n",
       "    </tr>\n",
       "    <tr>\n",
       "      <th>3</th>\n",
       "      <td>D</td>\n",
       "      <td>1</td>\n",
       "      <td>92</td>\n",
       "      <td>83</td>\n",
       "      <td>87</td>\n",
       "    </tr>\n",
       "    <tr>\n",
       "      <th>4</th>\n",
       "      <td>E</td>\n",
       "      <td>2</td>\n",
       "      <td>93</td>\n",
       "      <td>84</td>\n",
       "      <td>95</td>\n",
       "    </tr>\n",
       "  </tbody>\n",
       "</table>\n",
       "</div>"
      ],
      "text/plain": [
       "  name  class  math  english  korean\n",
       "0    A      1    96       90      95\n",
       "1    B      1    95       66      71\n",
       "2    C      2    91       89      92\n",
       "3    D      1    92       83      87\n",
       "4    E      2    93       84      95"
      ]
     },
     "execution_count": 4,
     "metadata": {},
     "output_type": "execute_result"
    }
   ],
   "source": [
    "test_data.head()"
   ]
  },
  {
   "cell_type": "code",
   "execution_count": 5,
   "id": "2d282dfd",
   "metadata": {
    "ExecuteTime": {
     "end_time": "2021-09-09T04:05:39.734532Z",
     "start_time": "2021-09-09T04:05:39.714584Z"
    }
   },
   "outputs": [
    {
     "name": "stdout",
     "output_type": "stream",
     "text": [
      "<class 'pandas.core.frame.DataFrame'>\n",
      "RangeIndex: 26 entries, 0 to 25\n",
      "Data columns (total 5 columns):\n",
      " #   Column   Non-Null Count  Dtype \n",
      "---  ------   --------------  ----- \n",
      " 0   name     26 non-null     object\n",
      " 1   class    26 non-null     int64 \n",
      " 2   math     26 non-null     int64 \n",
      " 3   english  26 non-null     int64 \n",
      " 4   korean   26 non-null     int64 \n",
      "dtypes: int64(4), object(1)\n",
      "memory usage: 1.1+ KB\n"
     ]
    }
   ],
   "source": [
    "test_data.info()"
   ]
  },
  {
   "cell_type": "code",
   "execution_count": 6,
   "id": "d4b8cd14",
   "metadata": {
    "ExecuteTime": {
     "end_time": "2021-09-09T04:06:01.841823Z",
     "start_time": "2021-09-09T04:06:01.831672Z"
    }
   },
   "outputs": [
    {
     "data": {
      "text/plain": [
       "Index(['name', 'class', 'math', 'english', 'korean'], dtype='object')"
      ]
     },
     "execution_count": 6,
     "metadata": {},
     "output_type": "execute_result"
    }
   ],
   "source": [
    "test_data.columns"
   ]
  },
  {
   "cell_type": "code",
   "execution_count": 7,
   "id": "b1f6fc3f",
   "metadata": {
    "ExecuteTime": {
     "end_time": "2021-09-09T04:06:16.098359Z",
     "start_time": "2021-09-09T04:06:16.080897Z"
    }
   },
   "outputs": [
    {
     "data": {
      "text/plain": [
       "RangeIndex(start=0, stop=26, step=1)"
      ]
     },
     "execution_count": 7,
     "metadata": {},
     "output_type": "execute_result"
    }
   ],
   "source": [
    "test_data.index"
   ]
  },
  {
   "cell_type": "code",
   "execution_count": 10,
   "id": "f1872877",
   "metadata": {
    "ExecuteTime": {
     "end_time": "2021-09-09T04:07:00.980445Z",
     "start_time": "2021-09-09T04:07:00.968477Z"
    }
   },
   "outputs": [
    {
     "data": {
      "text/plain": [
       "0    96\n",
       "1    95\n",
       "2    91\n",
       "3    92\n",
       "4    93\n",
       "Name: math, dtype: int64"
      ]
     },
     "execution_count": 10,
     "metadata": {},
     "output_type": "execute_result"
    }
   ],
   "source": [
    "test_data['math'].head()"
   ]
  },
  {
   "cell_type": "markdown",
   "id": "e7de0943",
   "metadata": {
    "ExecuteTime": {
     "end_time": "2021-09-09T04:08:26.791818Z",
     "start_time": "2021-09-09T04:08:26.783867Z"
    }
   },
   "source": [
    "## 데이터 정리"
   ]
  },
  {
   "cell_type": "markdown",
   "id": "427317bc",
   "metadata": {},
   "source": [
    "### astype()"
   ]
  },
  {
   "cell_type": "code",
   "execution_count": 14,
   "id": "666cdaa2",
   "metadata": {
    "ExecuteTime": {
     "end_time": "2021-09-09T04:09:45.967929Z",
     "start_time": "2021-09-09T04:09:45.934950Z"
    }
   },
   "outputs": [
    {
     "name": "stdout",
     "output_type": "stream",
     "text": [
      "<class 'pandas.core.frame.DataFrame'>\n",
      "RangeIndex: 26 entries, 0 to 25\n",
      "Data columns (total 5 columns):\n",
      " #   Column   Non-Null Count  Dtype   \n",
      "---  ------   --------------  -----   \n",
      " 0   name     26 non-null     object  \n",
      " 1   class    26 non-null     category\n",
      " 2   math     26 non-null     int64   \n",
      " 3   english  26 non-null     int64   \n",
      " 4   korean   26 non-null     int64   \n",
      "dtypes: category(1), int64(3), object(1)\n",
      "memory usage: 1.1+ KB\n"
     ]
    }
   ],
   "source": [
    "test_data = test_data.astype({'class':'category'})\n",
    "test_data.info()"
   ]
  },
  {
   "cell_type": "markdown",
   "id": "0858ca4a",
   "metadata": {
    "ExecuteTime": {
     "end_time": "2021-09-09T04:10:13.577826Z",
     "start_time": "2021-09-09T04:10:13.560857Z"
    }
   },
   "source": [
    "### rename()"
   ]
  },
  {
   "cell_type": "code",
   "execution_count": 16,
   "id": "eede7369",
   "metadata": {
    "ExecuteTime": {
     "end_time": "2021-09-09T04:10:23.375782Z",
     "start_time": "2021-09-09T04:10:23.357802Z"
    },
    "scrolled": true
   },
   "outputs": [
    {
     "data": {
      "text/plain": [
       "Index(['이름', '학급명', '수학', '영어', '국어'], dtype='object')"
      ]
     },
     "execution_count": 16,
     "metadata": {},
     "output_type": "execute_result"
    }
   ],
   "source": [
    "test_data.rename(columns = {'name' : '이름', 'class' : '학급명', 'math' : '수학', 'english' : '영어', 'korean' : '국어'}, inplace = True)\n",
    "test_data.columns"
   ]
  },
  {
   "cell_type": "markdown",
   "id": "cad086a4",
   "metadata": {
    "ExecuteTime": {
     "end_time": "2021-09-09T04:11:27.629934Z",
     "start_time": "2021-09-09T04:11:27.618949Z"
    }
   },
   "source": [
    "## 데이터 분석"
   ]
  },
  {
   "cell_type": "markdown",
   "id": "060c099d",
   "metadata": {
    "ExecuteTime": {
     "end_time": "2021-09-09T04:11:38.407494Z",
     "start_time": "2021-09-09T04:11:38.402509Z"
    }
   },
   "source": [
    "### index"
   ]
  },
  {
   "cell_type": "code",
   "execution_count": 22,
   "id": "58ef26d8",
   "metadata": {
    "ExecuteTime": {
     "end_time": "2021-09-09T04:12:38.308902Z",
     "start_time": "2021-09-09T04:12:38.286958Z"
    }
   },
   "outputs": [
    {
     "data": {
      "text/html": [
       "<div>\n",
       "<style scoped>\n",
       "    .dataframe tbody tr th:only-of-type {\n",
       "        vertical-align: middle;\n",
       "    }\n",
       "\n",
       "    .dataframe tbody tr th {\n",
       "        vertical-align: top;\n",
       "    }\n",
       "\n",
       "    .dataframe thead th {\n",
       "        text-align: right;\n",
       "    }\n",
       "</style>\n",
       "<table border=\"1\" class=\"dataframe\">\n",
       "  <thead>\n",
       "    <tr style=\"text-align: right;\">\n",
       "      <th></th>\n",
       "      <th>이름</th>\n",
       "      <th>학급명</th>\n",
       "      <th>수학</th>\n",
       "      <th>영어</th>\n",
       "      <th>국어</th>\n",
       "    </tr>\n",
       "  </thead>\n",
       "  <tbody>\n",
       "    <tr>\n",
       "      <th>0</th>\n",
       "      <td>False</td>\n",
       "      <td>False</td>\n",
       "      <td>False</td>\n",
       "      <td>False</td>\n",
       "      <td>False</td>\n",
       "    </tr>\n",
       "    <tr>\n",
       "      <th>1</th>\n",
       "      <td>False</td>\n",
       "      <td>False</td>\n",
       "      <td>False</td>\n",
       "      <td>False</td>\n",
       "      <td>False</td>\n",
       "    </tr>\n",
       "    <tr>\n",
       "      <th>2</th>\n",
       "      <td>False</td>\n",
       "      <td>False</td>\n",
       "      <td>False</td>\n",
       "      <td>False</td>\n",
       "      <td>False</td>\n",
       "    </tr>\n",
       "    <tr>\n",
       "      <th>3</th>\n",
       "      <td>False</td>\n",
       "      <td>False</td>\n",
       "      <td>False</td>\n",
       "      <td>False</td>\n",
       "      <td>False</td>\n",
       "    </tr>\n",
       "    <tr>\n",
       "      <th>4</th>\n",
       "      <td>False</td>\n",
       "      <td>False</td>\n",
       "      <td>False</td>\n",
       "      <td>False</td>\n",
       "      <td>False</td>\n",
       "    </tr>\n",
       "  </tbody>\n",
       "</table>\n",
       "</div>"
      ],
      "text/plain": [
       "      이름    학급명     수학     영어     국어\n",
       "0  False  False  False  False  False\n",
       "1  False  False  False  False  False\n",
       "2  False  False  False  False  False\n",
       "3  False  False  False  False  False\n",
       "4  False  False  False  False  False"
      ]
     },
     "execution_count": 22,
     "metadata": {},
     "output_type": "execute_result"
    }
   ],
   "source": [
    "test_data.isin([99,100]).head()"
   ]
  },
  {
   "cell_type": "code",
   "execution_count": 21,
   "id": "6aea9906",
   "metadata": {
    "ExecuteTime": {
     "end_time": "2021-09-09T04:12:23.020567Z",
     "start_time": "2021-09-09T04:12:22.992612Z"
    }
   },
   "outputs": [
    {
     "data": {
      "text/html": [
       "<div>\n",
       "<style scoped>\n",
       "    .dataframe tbody tr th:only-of-type {\n",
       "        vertical-align: middle;\n",
       "    }\n",
       "\n",
       "    .dataframe tbody tr th {\n",
       "        vertical-align: top;\n",
       "    }\n",
       "\n",
       "    .dataframe thead th {\n",
       "        text-align: right;\n",
       "    }\n",
       "</style>\n",
       "<table border=\"1\" class=\"dataframe\">\n",
       "  <thead>\n",
       "    <tr style=\"text-align: right;\">\n",
       "      <th></th>\n",
       "      <th>국어</th>\n",
       "    </tr>\n",
       "  </thead>\n",
       "  <tbody>\n",
       "    <tr>\n",
       "      <th>0</th>\n",
       "      <td>False</td>\n",
       "    </tr>\n",
       "    <tr>\n",
       "      <th>1</th>\n",
       "      <td>False</td>\n",
       "    </tr>\n",
       "    <tr>\n",
       "      <th>2</th>\n",
       "      <td>False</td>\n",
       "    </tr>\n",
       "    <tr>\n",
       "      <th>3</th>\n",
       "      <td>False</td>\n",
       "    </tr>\n",
       "    <tr>\n",
       "      <th>4</th>\n",
       "      <td>False</td>\n",
       "    </tr>\n",
       "    <tr>\n",
       "      <th>5</th>\n",
       "      <td>True</td>\n",
       "    </tr>\n",
       "    <tr>\n",
       "      <th>6</th>\n",
       "      <td>False</td>\n",
       "    </tr>\n",
       "    <tr>\n",
       "      <th>7</th>\n",
       "      <td>False</td>\n",
       "    </tr>\n",
       "    <tr>\n",
       "      <th>8</th>\n",
       "      <td>False</td>\n",
       "    </tr>\n",
       "    <tr>\n",
       "      <th>9</th>\n",
       "      <td>False</td>\n",
       "    </tr>\n",
       "    <tr>\n",
       "      <th>10</th>\n",
       "      <td>False</td>\n",
       "    </tr>\n",
       "    <tr>\n",
       "      <th>11</th>\n",
       "      <td>False</td>\n",
       "    </tr>\n",
       "    <tr>\n",
       "      <th>12</th>\n",
       "      <td>False</td>\n",
       "    </tr>\n",
       "    <tr>\n",
       "      <th>13</th>\n",
       "      <td>False</td>\n",
       "    </tr>\n",
       "    <tr>\n",
       "      <th>14</th>\n",
       "      <td>False</td>\n",
       "    </tr>\n",
       "    <tr>\n",
       "      <th>15</th>\n",
       "      <td>False</td>\n",
       "    </tr>\n",
       "    <tr>\n",
       "      <th>16</th>\n",
       "      <td>False</td>\n",
       "    </tr>\n",
       "    <tr>\n",
       "      <th>17</th>\n",
       "      <td>False</td>\n",
       "    </tr>\n",
       "    <tr>\n",
       "      <th>18</th>\n",
       "      <td>False</td>\n",
       "    </tr>\n",
       "    <tr>\n",
       "      <th>19</th>\n",
       "      <td>False</td>\n",
       "    </tr>\n",
       "    <tr>\n",
       "      <th>20</th>\n",
       "      <td>True</td>\n",
       "    </tr>\n",
       "    <tr>\n",
       "      <th>21</th>\n",
       "      <td>True</td>\n",
       "    </tr>\n",
       "    <tr>\n",
       "      <th>22</th>\n",
       "      <td>False</td>\n",
       "    </tr>\n",
       "    <tr>\n",
       "      <th>23</th>\n",
       "      <td>False</td>\n",
       "    </tr>\n",
       "    <tr>\n",
       "      <th>24</th>\n",
       "      <td>False</td>\n",
       "    </tr>\n",
       "    <tr>\n",
       "      <th>25</th>\n",
       "      <td>False</td>\n",
       "    </tr>\n",
       "  </tbody>\n",
       "</table>\n",
       "</div>"
      ],
      "text/plain": [
       "       국어\n",
       "0   False\n",
       "1   False\n",
       "2   False\n",
       "3   False\n",
       "4   False\n",
       "5    True\n",
       "6   False\n",
       "7   False\n",
       "8   False\n",
       "9   False\n",
       "10  False\n",
       "11  False\n",
       "12  False\n",
       "13  False\n",
       "14  False\n",
       "15  False\n",
       "16  False\n",
       "17  False\n",
       "18  False\n",
       "19  False\n",
       "20   True\n",
       "21   True\n",
       "22  False\n",
       "23  False\n",
       "24  False\n",
       "25  False"
      ]
     },
     "execution_count": 21,
     "metadata": {},
     "output_type": "execute_result"
    }
   ],
   "source": [
    "# 국어 성적 중에서 99점과 100점이 있는지 확인\n",
    "test_data[['국어']].isin([99,100])"
   ]
  },
  {
   "cell_type": "code",
   "execution_count": 25,
   "id": "ca5a3ef7",
   "metadata": {
    "ExecuteTime": {
     "end_time": "2021-09-09T04:13:48.701143Z",
     "start_time": "2021-09-09T04:13:48.675630Z"
    }
   },
   "outputs": [
    {
     "data": {
      "text/plain": [
       "2    11\n",
       "1    10\n",
       "3     5\n",
       "Name: 학급명, dtype: int64"
      ]
     },
     "execution_count": 25,
     "metadata": {},
     "output_type": "execute_result"
    }
   ],
   "source": [
    "# 학급(class) 별 학생 수를 확인\n",
    "test_data['학급명'].value_counts()"
   ]
  },
  {
   "cell_type": "markdown",
   "id": "b84fbe16",
   "metadata": {},
   "source": [
    "> 확인한 값을 인덱스를 기준으로 정렬하고 싶으면 value_counts() 함수의 괄호 내에 sort=False를 작성한다."
   ]
  },
  {
   "cell_type": "code",
   "execution_count": 26,
   "id": "d5962e3c",
   "metadata": {
    "ExecuteTime": {
     "end_time": "2021-09-09T04:14:04.732391Z",
     "start_time": "2021-09-09T04:14:04.720427Z"
    }
   },
   "outputs": [
    {
     "data": {
      "text/plain": [
       "1    10\n",
       "2    11\n",
       "3     5\n",
       "Name: 학급명, dtype: int64"
      ]
     },
     "execution_count": 26,
     "metadata": {},
     "output_type": "execute_result"
    }
   ],
   "source": [
    "test_data['학급명'].value_counts(sort=False)"
   ]
  },
  {
   "cell_type": "markdown",
   "id": "3b2c49be",
   "metadata": {},
   "source": [
    "### unique"
   ]
  },
  {
   "cell_type": "code",
   "execution_count": 28,
   "id": "812fbd8c",
   "metadata": {
    "ExecuteTime": {
     "end_time": "2021-09-09T04:15:17.655111Z",
     "start_time": "2021-09-09T04:15:17.643128Z"
    }
   },
   "outputs": [
    {
     "data": {
      "text/plain": [
       "[1, 2, 3]\n",
       "Categories (3, int64): [1, 2, 3]"
      ]
     },
     "execution_count": 28,
     "metadata": {},
     "output_type": "execute_result"
    }
   ],
   "source": [
    "# 컬럼에 대해 유일한 값을 확인\n",
    "test_data['학급명'].unique()"
   ]
  },
  {
   "cell_type": "code",
   "execution_count": 29,
   "id": "9228926e",
   "metadata": {
    "ExecuteTime": {
     "end_time": "2021-09-09T04:15:29.001461Z",
     "start_time": "2021-09-09T04:15:28.994480Z"
    }
   },
   "outputs": [
    {
     "data": {
      "text/plain": [
       "3"
      ]
     },
     "execution_count": 29,
     "metadata": {},
     "output_type": "execute_result"
    }
   ],
   "source": [
    "test_data['학급명'].nunique()"
   ]
  },
  {
   "cell_type": "markdown",
   "id": "f22ec01f",
   "metadata": {
    "ExecuteTime": {
     "end_time": "2021-09-09T04:16:18.716084Z",
     "start_time": "2021-09-09T04:16:18.697994Z"
    }
   },
   "source": [
    "## 데이터 시각화"
   ]
  },
  {
   "cell_type": "markdown",
   "id": "b258a891",
   "metadata": {
    "ExecuteTime": {
     "end_time": "2021-09-09T04:16:30.150059Z",
     "start_time": "2021-09-09T04:16:30.132108Z"
    }
   },
   "source": [
    "### barh() : 가로 막대 그래프\n",
    "* 범주형 자료를 범례의 개수에 따라 좀 더 한눈에 확인하기 좋게 하기위해 사용"
   ]
  },
  {
   "cell_type": "code",
   "execution_count": 32,
   "id": "be034142",
   "metadata": {
    "ExecuteTime": {
     "end_time": "2021-09-09T04:17:15.465765Z",
     "start_time": "2021-09-09T04:17:15.014975Z"
    }
   },
   "outputs": [],
   "source": [
    "import matplotlib.pyplot as plt"
   ]
  },
  {
   "cell_type": "code",
   "execution_count": 37,
   "id": "81c24189",
   "metadata": {
    "ExecuteTime": {
     "end_time": "2021-09-09T04:21:36.218487Z",
     "start_time": "2021-09-09T04:21:36.200027Z"
    }
   },
   "outputs": [],
   "source": [
    "plt.rc('font', family='malgun gothic') # 그래프에서 한글 깨지는 현상 방지\n",
    "plt.rcParams['axes.unicode_minus']=False #음수 부호 깨짐 방지"
   ]
  },
  {
   "cell_type": "markdown",
   "id": "f1c3ee8c",
   "metadata": {
    "ExecuteTime": {
     "end_time": "2021-09-09T04:17:43.388774Z",
     "start_time": "2021-09-09T04:17:43.379287Z"
    }
   },
   "source": [
    "#### 그래프 사이즈 설정 (10,7)"
   ]
  },
  {
   "cell_type": "code",
   "execution_count": 45,
   "id": "98b3fac2",
   "metadata": {
    "ExecuteTime": {
     "end_time": "2021-09-09T04:23:57.846037Z",
     "start_time": "2021-09-09T04:23:57.659027Z"
    }
   },
   "outputs": [
    {
     "data": {
      "image/png": "[encoded data removed]",
      "text/plain": [
       "<Figure size 504x360 with 1 Axes>"
      ]
     },
     "metadata": {
      "needs_background": "light"
     },
     "output_type": "display_data"
    }
   ],
   "source": [
    "# 그래프 사이즈 설정 (7,5)\n",
    "fig, axes = plt.subplots(figsize = (7,5))\n",
    "# X축 : 학급, Y축 : 수학점수, 그래프 높이 0.7\n",
    "axes.barh(test_data['학급명'], test_data['수학'], height = 0.5)\n",
    "# 그래프 제목\n",
    "axes.set_title(\"학급 당 평균 수학점수\", size= 17)\n",
    "# 그래프 X축:  평균 점수 / Y축: 학급 별\n",
    "axes.set_xlabel(\"평균 점수\", size= 10)\n",
    "axes.set_ylabel(\"학급 별\", size= 10)\n",
    "# 그래프의 마진: 0.3\n",
    "plt.margins(y= 0.3)"
   ]
  },
  {
   "cell_type": "code",
   "execution_count": 46,
   "id": "07a42c83",
   "metadata": {
    "ExecuteTime": {
     "end_time": "2021-09-09T04:26:51.590189Z",
     "start_time": "2021-09-09T04:26:51.585202Z"
    }
   },
   "outputs": [],
   "source": [
    "# 이미지 출력\n",
    "# plt.savefig(\"./img/img.svg\", format=\"svg\")"
   ]
  },
  {
   "cell_type": "markdown",
   "id": "fb770603",
   "metadata": {
    "ExecuteTime": {
     "end_time": "2021-09-09T04:27:14.111184Z",
     "start_time": "2021-09-09T04:27:14.094229Z"
    }
   },
   "source": [
    "### boxplot() : 상자 그림\n",
    "* 연속형 자료의 퍼진 정도를 나타내주는 요약 통계량을 보기 쉽게 도와줌"
   ]
  },
  {
   "cell_type": "code",
   "execution_count": 56,
   "id": "a9c53179",
   "metadata": {
    "ExecuteTime": {
     "end_time": "2021-09-09T04:36:53.149639Z",
     "start_time": "2021-09-09T04:36:53.010980Z"
    }
   },
   "outputs": [
    {
     "data": {
      "text/plain": [
       "Text(0, 0.5, '점수')"
      ]
     },
     "execution_count": 56,
     "metadata": {},
     "output_type": "execute_result"
    },
    {
     "data": {
      "image/png": "[encoded data removed]",
      "text/plain": [
       "<Figure size 504x504 with 1 Axes>"
      ]
     },
     "metadata": {
      "needs_background": "light"
     },
     "output_type": "display_data"
    }
   ],
   "source": [
    "fig, axes = plt.subplots(figsize = (7,7)) # 그래프의 사이즈\n",
    "#axes.boxplot(test_data['math'])\n",
    "\n",
    "# 수학에 대한 상자 그림\n",
    "axes.boxplot(test_data['수학'])\n",
    "\n",
    "axes.set_title(\"수학 성적\", size=20) # 제목\n",
    "\n",
    "axes.set_xlabel(\"과목\", size=15) # X축 이름\n",
    "axes.set_ylabel(\"점수\", size=15) # Y축 이름"
   ]
  },
  {
   "cell_type": "markdown",
   "id": "a803881e",
   "metadata": {
    "ExecuteTime": {
     "end_time": "2021-09-09T04:37:21.981710Z",
     "start_time": "2021-09-09T04:37:21.973731Z"
    }
   },
   "source": [
    "> 여러 개의 상자 그림을 그릴 때에는 **,** 를 기준으로 사용될 데이터를 입력"
   ]
  },
  {
   "cell_type": "code",
   "execution_count": 55,
   "id": "d68baef8",
   "metadata": {
    "ExecuteTime": {
     "end_time": "2021-09-09T04:36:23.210978Z",
     "start_time": "2021-09-09T04:36:23.043601Z"
    }
   },
   "outputs": [
    {
     "data": {
      "text/plain": [
       "Text(0, 0.5, '점수')"
      ]
     },
     "execution_count": 55,
     "metadata": {},
     "output_type": "execute_result"
    },
    {
     "data": {
      "image/png": "[encoded data removed]",
      "text/plain": [
       "<Figure size 504x504 with 1 Axes>"
      ]
     },
     "metadata": {
      "needs_background": "light"
     },
     "output_type": "display_data"
    }
   ],
   "source": [
    "fig, axes = plt.subplots(figsize = (7,7)) # 그래프의 사이즈\n",
    "#axes.boxplot(test_data['math'])\n",
    "\n",
    "# 수학과 국어에 대한 상자 그림\n",
    "axes.boxplot((test_data['수학'], test_data['국어']))\n",
    "\n",
    "axes.set_title(\"수학 & 국어 성적\", size=20) # 제목\n",
    "\n",
    "axes.set_xlabel(\"과목\", size=15) # X축 이름\n",
    "axes.set_ylabel(\"점수\", size=15) # Y축 이름"
   ]
  },
  {
   "cell_type": "markdown",
   "id": "6659b857",
   "metadata": {
    "ExecuteTime": {
     "end_time": "2021-09-09T04:38:23.036241Z",
     "start_time": "2021-09-09T04:38:23.026270Z"
    }
   },
   "source": [
    "### bar() : 세로 막대 그래프\n",
    "* 범주형 자료를 시각화 할 때 가장 범용적으로 사용되는 방법"
   ]
  },
  {
   "cell_type": "markdown",
   "id": "78878f3f",
   "metadata": {},
   "source": [
    "학급(class) 별 학생 수를 구하고 인덱스로 내림차순하여 counts 변수에 저장"
   ]
  },
  {
   "cell_type": "code",
   "execution_count": 70,
   "id": "9e736bf6",
   "metadata": {
    "ExecuteTime": {
     "end_time": "2021-09-09T04:43:47.783585Z",
     "start_time": "2021-09-09T04:43:47.774027Z"
    }
   },
   "outputs": [
    {
     "data": {
      "text/plain": [
       "1    10\n",
       "2    11\n",
       "3     5\n",
       "Name: 학급명, dtype: int64"
      ]
     },
     "execution_count": 70,
     "metadata": {},
     "output_type": "execute_result"
    }
   ],
   "source": [
    "# counts = test_data.groupby('학급명')['이름'].count()\n",
    "counts = test_data['학급명'].value_counts().sort_index()\n",
    "counts"
   ]
  },
  {
   "cell_type": "code",
   "execution_count": 77,
   "id": "2829b2d2",
   "metadata": {
    "ExecuteTime": {
     "end_time": "2021-09-09T04:48:08.113484Z",
     "start_time": "2021-09-09T04:48:07.903015Z"
    }
   },
   "outputs": [
    {
     "data": {
      "text/plain": [
       "Text(0, 0.5, '학생 수')"
      ]
     },
     "execution_count": 77,
     "metadata": {},
     "output_type": "execute_result"
    },
    {
     "data": {
      "image/png": "[encoded data removed]",
      "text/plain": [
       "<Figure size 360x360 with 1 Axes>"
      ]
     },
     "metadata": {
      "needs_background": "light"
     },
     "output_type": "display_data"
    }
   ],
   "source": [
    "# bar graph\n",
    "fig, axes = plt.subplots(figsize = (5,5))\n",
    "\n",
    "# X값 : counts.index, Y값 : counts.values\n",
    "axes.bar(counts.index, counts.values)\n",
    "\n",
    "axes.set_title(\"학급 별 학생 수\", size = 10)\n",
    "axes.set_xlabel(\"학급 구분\", size = 10)\n",
    "axes.set_ylabel(\"학생 수\", size = 10)"
   ]
  },
  {
   "cell_type": "code",
   "execution_count": null,
   "id": "2022e70d",
   "metadata": {},
   "outputs": [],
   "source": [
    "# bar graph\n",
    "fig, axes = plt.subplots(figsize = (10,10))\n",
    "\n",
    "# X값 : counts.index, Y값 : counts.values\n",
    "axes.bar(counts.index, counts.values)\n",
    "\n",
    "axes.set_title(\"학급 별 학생 수\", size= 30)\n",
    "\n",
    "axes.set_xlabel(\"학급 구분\", size= 20)\n",
    "axes.set_ylabel(\"학생 수\", size= 20)"
   ]
  }
 ],
 "metadata": {
  "hide_input": false,
  "kernelspec": {
   "display_name": "Python 3",
   "language": "python",
   "name": "python3"
  },
  "language_info": {
   "codemirror_mode": {
    "name": "ipython",
    "version": 3
   },
   "file_extension": ".py",
   "mimetype": "text/x-python",
   "name": "python",
   "nbconvert_exporter": "python",
   "pygments_lexer": "ipython3",
   "version": "3.8.8"
  },
  "toc": {
   "base_numbering": 1,
   "nav_menu": {},
   "number_sections": true,
   "sideBar": true,
   "skip_h1_title": false,
   "title_cell": "Table of Contents",
   "title_sidebar": "Contents",
   "toc_cell": false,
   "toc_position": {},
   "toc_section_display": true,
   "toc_window_display": false
  },
  "varInspector": {
   "cols": {
    "lenName": 16,
    "lenType": 16,
    "lenVar": 40
   },
   "kernels_config": {
    "python": {
     "delete_cmd_postfix": "",
     "delete_cmd_prefix": "del ",
     "library": "var_list.py",
     "varRefreshCmd": "print(var_dic_list())"
    },
    "r": {
     "delete_cmd_postfix": ") ",
     "delete_cmd_prefix": "rm(",
     "library": "var_list.r",
     "varRefreshCmd": "cat(var_dic_list()) "
    }
   },
   "types_to_exclude": [
    "module",
    "function",
    "builtin_function_or_method",
    "instance",
    "_Feature"
   ],
   "window_display": false
  }
 },
 "nbformat": 4,
 "nbformat_minor": 5
}
